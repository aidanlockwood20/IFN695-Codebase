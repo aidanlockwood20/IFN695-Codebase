{
 "cells": [
  {
   "cell_type": "markdown",
   "id": "79d7537b",
   "metadata": {},
   "source": [
    "# IFN695 - Report Code"
   ]
  },
  {
   "cell_type": "markdown",
   "id": "2a8a1f63",
   "metadata": {},
   "source": [
    "Importing all relevant libraries"
   ]
  },
  {
   "cell_type": "code",
   "execution_count": 343,
   "id": "640a63a2",
   "metadata": {},
   "outputs": [],
   "source": [
    "import pandas as pd\n",
    "import numpy as np\n",
    "from nemosis import dynamic_data_compiler\n",
    "import plotly.express as px\n",
    "from datetime import datetime\n",
    "\n",
    "pd.set_option('display.max_rows', 20)"
   ]
  },
  {
   "cell_type": "markdown",
   "id": "09cda31c",
   "metadata": {},
   "source": [
    "Importing the Renewable Penetration Dataset"
   ]
  },
  {
   "cell_type": "code",
   "execution_count": 3,
   "id": "2fa2a3ca",
   "metadata": {},
   "outputs": [
    {
     "data": {
      "text/html": [
       "<div>\n",
       "<style scoped>\n",
       "    .dataframe tbody tr th:only-of-type {\n",
       "        vertical-align: middle;\n",
       "    }\n",
       "\n",
       "    .dataframe tbody tr th {\n",
       "        vertical-align: top;\n",
       "    }\n",
       "\n",
       "    .dataframe thead th {\n",
       "        text-align: right;\n",
       "    }\n",
       "</style>\n",
       "<table border=\"1\" class=\"dataframe\">\n",
       "  <thead>\n",
       "    <tr style=\"text-align: right;\">\n",
       "      <th></th>\n",
       "      <th>DateTime</th>\n",
       "      <th>Max/Min</th>\n",
       "      <th>State</th>\n",
       "      <th>Fuel Type</th>\n",
       "      <th>Supply</th>\n",
       "    </tr>\n",
       "  </thead>\n",
       "  <tbody>\n",
       "    <tr>\n",
       "      <th>0</th>\n",
       "      <td>2/1/2018 4:00</td>\n",
       "      <td>Min</td>\n",
       "      <td>NEM</td>\n",
       "      <td>Battery</td>\n",
       "      <td>0.000</td>\n",
       "    </tr>\n",
       "    <tr>\n",
       "      <th>1</th>\n",
       "      <td>2/1/2018 4:00</td>\n",
       "      <td>Min</td>\n",
       "      <td>NEM</td>\n",
       "      <td>Biomass</td>\n",
       "      <td>10.233</td>\n",
       "    </tr>\n",
       "    <tr>\n",
       "      <th>2</th>\n",
       "      <td>2/1/2018 4:00</td>\n",
       "      <td>Min</td>\n",
       "      <td>NEM</td>\n",
       "      <td>Black coal</td>\n",
       "      <td>10655.808</td>\n",
       "    </tr>\n",
       "    <tr>\n",
       "      <th>3</th>\n",
       "      <td>2/1/2018 4:00</td>\n",
       "      <td>Min</td>\n",
       "      <td>NEM</td>\n",
       "      <td>Brown coal</td>\n",
       "      <td>4655.597</td>\n",
       "    </tr>\n",
       "    <tr>\n",
       "      <th>4</th>\n",
       "      <td>2/1/2018 4:00</td>\n",
       "      <td>Min</td>\n",
       "      <td>NEM</td>\n",
       "      <td>Distributed PV</td>\n",
       "      <td>0.000</td>\n",
       "    </tr>\n",
       "    <tr>\n",
       "      <th>...</th>\n",
       "      <td>...</td>\n",
       "      <td>...</td>\n",
       "      <td>...</td>\n",
       "      <td>...</td>\n",
       "      <td>...</td>\n",
       "    </tr>\n",
       "    <tr>\n",
       "      <th>1858</th>\n",
       "      <td>3/8/2025 11:30</td>\n",
       "      <td>Max</td>\n",
       "      <td>NEM</td>\n",
       "      <td>Gas</td>\n",
       "      <td>258.971</td>\n",
       "    </tr>\n",
       "    <tr>\n",
       "      <th>1859</th>\n",
       "      <td>3/8/2025 11:30</td>\n",
       "      <td>Max</td>\n",
       "      <td>NEM</td>\n",
       "      <td>Hydro</td>\n",
       "      <td>586.385</td>\n",
       "    </tr>\n",
       "    <tr>\n",
       "      <th>1860</th>\n",
       "      <td>3/8/2025 11:30</td>\n",
       "      <td>Max</td>\n",
       "      <td>NEM</td>\n",
       "      <td>Liquid Fuel</td>\n",
       "      <td>0.000</td>\n",
       "    </tr>\n",
       "    <tr>\n",
       "      <th>1861</th>\n",
       "      <td>3/8/2025 11:30</td>\n",
       "      <td>Max</td>\n",
       "      <td>NEM</td>\n",
       "      <td>Utility-scale Solar</td>\n",
       "      <td>5725.921</td>\n",
       "    </tr>\n",
       "    <tr>\n",
       "      <th>1862</th>\n",
       "      <td>3/8/2025 11:30</td>\n",
       "      <td>Max</td>\n",
       "      <td>NEM</td>\n",
       "      <td>Wind</td>\n",
       "      <td>3892.326</td>\n",
       "    </tr>\n",
       "  </tbody>\n",
       "</table>\n",
       "<p>1863 rows × 5 columns</p>\n",
       "</div>"
      ],
      "text/plain": [
       "            DateTime Max/Min State            Fuel Type     Supply\n",
       "0      2/1/2018 4:00     Min   NEM              Battery      0.000\n",
       "1      2/1/2018 4:00     Min   NEM              Biomass     10.233\n",
       "2      2/1/2018 4:00     Min   NEM           Black coal  10655.808\n",
       "3      2/1/2018 4:00     Min   NEM           Brown coal   4655.597\n",
       "4      2/1/2018 4:00     Min   NEM       Distributed PV      0.000\n",
       "...              ...     ...   ...                  ...        ...\n",
       "1858  3/8/2025 11:30     Max   NEM                  Gas    258.971\n",
       "1859  3/8/2025 11:30     Max   NEM                Hydro    586.385\n",
       "1860  3/8/2025 11:30     Max   NEM          Liquid Fuel      0.000\n",
       "1861  3/8/2025 11:30     Max   NEM  Utility-scale Solar   5725.921\n",
       "1862  3/8/2025 11:30     Max   NEM                 Wind   3892.326\n",
       "\n",
       "[1863 rows x 5 columns]"
      ]
     },
     "execution_count": 3,
     "metadata": {},
     "output_type": "execute_result"
    }
   ],
   "source": [
    "renewable_penetration = pd.read_csv('data/NEM_RENEWABLE_PENETRATION_ALL_202508041827.csv')\n",
    "renewable_penetration"
   ]
  },
  {
   "cell_type": "markdown",
   "id": "5250c1dc",
   "metadata": {},
   "source": [
    "Loading the Archived Packages for Fuel Mix in Each State"
   ]
  },
  {
   "cell_type": "code",
   "execution_count": 388,
   "id": "2e04ac67",
   "metadata": {},
   "outputs": [
    {
     "name": "stdout",
     "output_type": "stream",
     "text": [
      "INFO: Compiling data for table DUDETAILSUMMARY\n",
      "INFO: Returning DUDETAILSUMMARY.\n",
      "INFO: Compiling data for table DISPATCH_UNIT_SCADA\n",
      "INFO: Downloading data for table DISPATCH_UNIT_SCADA, year 2024, month 07\n",
      "INFO: Creating feather file for DISPATCH_UNIT_SCADA, 2024, 07\n",
      "INFO: Downloading data for table DISPATCH_UNIT_SCADA, year 2024, month 08\n",
      "INFO: Creating feather file for DISPATCH_UNIT_SCADA, 2024, 08\n",
      "INFO: Returning DISPATCH_UNIT_SCADA.\n"
     ]
    }
   ],
   "source": [
    "start_date = '2024/08/01 00:00:00'\n",
    "end_date = '2024/08/01 00:00:00'\n",
    "\n",
    "raw_data_cache = '/Users/aidanlockwood/Documents/GitHub/IFN695-Codebase/data/fuel_mix'\n",
    "\n",
    "dudetail = dynamic_data_compiler(\n",
    "    start_time = start_date,\n",
    "    end_time = end_date,\n",
    "    raw_data_location = raw_data_cache, \n",
    "    table_name = 'DUDETAILSUMMARY'\n",
    ")\n",
    "\n",
    "dispatch = dynamic_data_compiler(\n",
    "    start_time = start_date,\n",
    "    end_time = end_date,\n",
    "    raw_data_location = raw_data_cache,\n",
    "    table_name = 'DISPATCH_UNIT_SCADA'\n",
    ")\n"
   ]
  },
  {
   "cell_type": "code",
   "execution_count": 387,
   "id": "51e86303",
   "metadata": {},
   "outputs": [
    {
     "data": {
      "text/html": [
       "<div>\n",
       "<style scoped>\n",
       "    .dataframe tbody tr th:only-of-type {\n",
       "        vertical-align: middle;\n",
       "    }\n",
       "\n",
       "    .dataframe tbody tr th {\n",
       "        vertical-align: top;\n",
       "    }\n",
       "\n",
       "    .dataframe thead th {\n",
       "        text-align: right;\n",
       "    }\n",
       "</style>\n",
       "<table border=\"1\" class=\"dataframe\">\n",
       "  <thead>\n",
       "    <tr style=\"text-align: right;\">\n",
       "      <th></th>\n",
       "      <th>I</th>\n",
       "      <th>PARTICIPANT_REGISTRATION</th>\n",
       "      <th>DUDETAILSUMMARY</th>\n",
       "      <th>7</th>\n",
       "      <th>DUID</th>\n",
       "      <th>START_DATE</th>\n",
       "      <th>END_DATE</th>\n",
       "      <th>DISPATCHTYPE</th>\n",
       "      <th>CONNECTIONPOINTID</th>\n",
       "      <th>REGIONID</th>\n",
       "      <th>...</th>\n",
       "      <th>IS_AGGREGATED</th>\n",
       "      <th>DISPATCHSUBTYPE</th>\n",
       "      <th>ADG_ID</th>\n",
       "      <th>LOAD_MINIMUM_ENERGY_PRICE</th>\n",
       "      <th>LOAD_MAXIMUM_ENERGY_PRICE</th>\n",
       "      <th>LOAD_MIN_RAMP_RATE_UP</th>\n",
       "      <th>LOAD_MIN_RAMP_RATE_DOWN</th>\n",
       "      <th>LOAD_MAX_RAMP_RATE_UP</th>\n",
       "      <th>LOAD_MAX_RAMP_RATE_DOWN</th>\n",
       "      <th>SECONDARY_TLF</th>\n",
       "    </tr>\n",
       "  </thead>\n",
       "  <tbody>\n",
       "    <tr>\n",
       "      <th>0</th>\n",
       "      <td>D</td>\n",
       "      <td>PARTICIPANT_REGISTRATION</td>\n",
       "      <td>DUDETAILSUMMARY</td>\n",
       "      <td>7.0</td>\n",
       "      <td>ADPBA1G</td>\n",
       "      <td>2021/04/20 00:00:00</td>\n",
       "      <td>2021/06/29 00:00:00</td>\n",
       "      <td>GENERATOR</td>\n",
       "      <td>SMVE4D</td>\n",
       "      <td>SA1</td>\n",
       "      <td>...</td>\n",
       "      <td>1.0</td>\n",
       "      <td>NaN</td>\n",
       "      <td>NaN</td>\n",
       "      <td>NaN</td>\n",
       "      <td>NaN</td>\n",
       "      <td>NaN</td>\n",
       "      <td>NaN</td>\n",
       "      <td>NaN</td>\n",
       "      <td>NaN</td>\n",
       "      <td>NaN</td>\n",
       "    </tr>\n",
       "    <tr>\n",
       "      <th>1</th>\n",
       "      <td>D</td>\n",
       "      <td>PARTICIPANT_REGISTRATION</td>\n",
       "      <td>DUDETAILSUMMARY</td>\n",
       "      <td>7.0</td>\n",
       "      <td>ADPBA1G</td>\n",
       "      <td>2021/06/29 00:00:00</td>\n",
       "      <td>2021/07/01 00:00:00</td>\n",
       "      <td>GENERATOR</td>\n",
       "      <td>SMVE4D</td>\n",
       "      <td>SA1</td>\n",
       "      <td>...</td>\n",
       "      <td>1.0</td>\n",
       "      <td>NaN</td>\n",
       "      <td>NaN</td>\n",
       "      <td>NaN</td>\n",
       "      <td>NaN</td>\n",
       "      <td>NaN</td>\n",
       "      <td>NaN</td>\n",
       "      <td>NaN</td>\n",
       "      <td>NaN</td>\n",
       "      <td>NaN</td>\n",
       "    </tr>\n",
       "    <tr>\n",
       "      <th>2</th>\n",
       "      <td>D</td>\n",
       "      <td>PARTICIPANT_REGISTRATION</td>\n",
       "      <td>DUDETAILSUMMARY</td>\n",
       "      <td>7.0</td>\n",
       "      <td>ADPBA1G</td>\n",
       "      <td>2021/07/01 00:00:00</td>\n",
       "      <td>2021/11/09 00:00:00</td>\n",
       "      <td>GENERATOR</td>\n",
       "      <td>SMVE4D</td>\n",
       "      <td>SA1</td>\n",
       "      <td>...</td>\n",
       "      <td>1.0</td>\n",
       "      <td>NaN</td>\n",
       "      <td>NaN</td>\n",
       "      <td>NaN</td>\n",
       "      <td>NaN</td>\n",
       "      <td>NaN</td>\n",
       "      <td>NaN</td>\n",
       "      <td>NaN</td>\n",
       "      <td>NaN</td>\n",
       "      <td>NaN</td>\n",
       "    </tr>\n",
       "    <tr>\n",
       "      <th>3</th>\n",
       "      <td>D</td>\n",
       "      <td>PARTICIPANT_REGISTRATION</td>\n",
       "      <td>DUDETAILSUMMARY</td>\n",
       "      <td>7.0</td>\n",
       "      <td>ADPBA1G</td>\n",
       "      <td>2021/11/09 00:00:00</td>\n",
       "      <td>2022/07/01 00:00:00</td>\n",
       "      <td>GENERATOR</td>\n",
       "      <td>SMVE4D</td>\n",
       "      <td>SA1</td>\n",
       "      <td>...</td>\n",
       "      <td>1.0</td>\n",
       "      <td>NaN</td>\n",
       "      <td>NaN</td>\n",
       "      <td>NaN</td>\n",
       "      <td>NaN</td>\n",
       "      <td>NaN</td>\n",
       "      <td>NaN</td>\n",
       "      <td>NaN</td>\n",
       "      <td>NaN</td>\n",
       "      <td>NaN</td>\n",
       "    </tr>\n",
       "    <tr>\n",
       "      <th>4</th>\n",
       "      <td>D</td>\n",
       "      <td>PARTICIPANT_REGISTRATION</td>\n",
       "      <td>DUDETAILSUMMARY</td>\n",
       "      <td>7.0</td>\n",
       "      <td>ADPBA1G</td>\n",
       "      <td>2022/07/01 00:00:00</td>\n",
       "      <td>2023/07/01 00:00:00</td>\n",
       "      <td>GENERATOR</td>\n",
       "      <td>SMVE4D</td>\n",
       "      <td>SA1</td>\n",
       "      <td>...</td>\n",
       "      <td>1.0</td>\n",
       "      <td>NaN</td>\n",
       "      <td>NaN</td>\n",
       "      <td>NaN</td>\n",
       "      <td>NaN</td>\n",
       "      <td>NaN</td>\n",
       "      <td>NaN</td>\n",
       "      <td>NaN</td>\n",
       "      <td>NaN</td>\n",
       "      <td>NaN</td>\n",
       "    </tr>\n",
       "    <tr>\n",
       "      <th>...</th>\n",
       "      <td>...</td>\n",
       "      <td>...</td>\n",
       "      <td>...</td>\n",
       "      <td>...</td>\n",
       "      <td>...</td>\n",
       "      <td>...</td>\n",
       "      <td>...</td>\n",
       "      <td>...</td>\n",
       "      <td>...</td>\n",
       "      <td>...</td>\n",
       "      <td>...</td>\n",
       "      <td>...</td>\n",
       "      <td>...</td>\n",
       "      <td>...</td>\n",
       "      <td>...</td>\n",
       "      <td>...</td>\n",
       "      <td>...</td>\n",
       "      <td>...</td>\n",
       "      <td>...</td>\n",
       "      <td>...</td>\n",
       "      <td>...</td>\n",
       "    </tr>\n",
       "    <tr>\n",
       "      <th>13223</th>\n",
       "      <td>D</td>\n",
       "      <td>PARTICIPANT_REGISTRATION</td>\n",
       "      <td>DUDETAILSUMMARY</td>\n",
       "      <td>7.0</td>\n",
       "      <td>YWPS4</td>\n",
       "      <td>2020/07/01 00:00:00</td>\n",
       "      <td>2021/07/01 00:00:00</td>\n",
       "      <td>GENERATOR</td>\n",
       "      <td>VYP24</td>\n",
       "      <td>VIC1</td>\n",
       "      <td>...</td>\n",
       "      <td>0.0</td>\n",
       "      <td>NaN</td>\n",
       "      <td>NaN</td>\n",
       "      <td>NaN</td>\n",
       "      <td>NaN</td>\n",
       "      <td>NaN</td>\n",
       "      <td>NaN</td>\n",
       "      <td>NaN</td>\n",
       "      <td>NaN</td>\n",
       "      <td>NaN</td>\n",
       "    </tr>\n",
       "    <tr>\n",
       "      <th>13224</th>\n",
       "      <td>D</td>\n",
       "      <td>PARTICIPANT_REGISTRATION</td>\n",
       "      <td>DUDETAILSUMMARY</td>\n",
       "      <td>7.0</td>\n",
       "      <td>YWPS4</td>\n",
       "      <td>2021/07/01 00:00:00</td>\n",
       "      <td>2022/07/01 00:00:00</td>\n",
       "      <td>GENERATOR</td>\n",
       "      <td>VYP24</td>\n",
       "      <td>VIC1</td>\n",
       "      <td>...</td>\n",
       "      <td>0.0</td>\n",
       "      <td>NaN</td>\n",
       "      <td>NaN</td>\n",
       "      <td>NaN</td>\n",
       "      <td>NaN</td>\n",
       "      <td>NaN</td>\n",
       "      <td>NaN</td>\n",
       "      <td>NaN</td>\n",
       "      <td>NaN</td>\n",
       "      <td>NaN</td>\n",
       "    </tr>\n",
       "    <tr>\n",
       "      <th>13225</th>\n",
       "      <td>D</td>\n",
       "      <td>PARTICIPANT_REGISTRATION</td>\n",
       "      <td>DUDETAILSUMMARY</td>\n",
       "      <td>7.0</td>\n",
       "      <td>YWPS4</td>\n",
       "      <td>2022/07/01 00:00:00</td>\n",
       "      <td>2023/07/01 00:00:00</td>\n",
       "      <td>GENERATOR</td>\n",
       "      <td>VYP24</td>\n",
       "      <td>VIC1</td>\n",
       "      <td>...</td>\n",
       "      <td>0.0</td>\n",
       "      <td>NaN</td>\n",
       "      <td>NaN</td>\n",
       "      <td>NaN</td>\n",
       "      <td>NaN</td>\n",
       "      <td>NaN</td>\n",
       "      <td>NaN</td>\n",
       "      <td>NaN</td>\n",
       "      <td>NaN</td>\n",
       "      <td>NaN</td>\n",
       "    </tr>\n",
       "    <tr>\n",
       "      <th>13226</th>\n",
       "      <td>D</td>\n",
       "      <td>PARTICIPANT_REGISTRATION</td>\n",
       "      <td>DUDETAILSUMMARY</td>\n",
       "      <td>7.0</td>\n",
       "      <td>YWPS4</td>\n",
       "      <td>2023/07/01 00:00:00</td>\n",
       "      <td>2024/07/01 00:00:00</td>\n",
       "      <td>GENERATOR</td>\n",
       "      <td>VYP24</td>\n",
       "      <td>VIC1</td>\n",
       "      <td>...</td>\n",
       "      <td>0.0</td>\n",
       "      <td>NaN</td>\n",
       "      <td>NaN</td>\n",
       "      <td>NaN</td>\n",
       "      <td>NaN</td>\n",
       "      <td>NaN</td>\n",
       "      <td>NaN</td>\n",
       "      <td>NaN</td>\n",
       "      <td>NaN</td>\n",
       "      <td>NaN</td>\n",
       "    </tr>\n",
       "    <tr>\n",
       "      <th>13227</th>\n",
       "      <td>D</td>\n",
       "      <td>PARTICIPANT_REGISTRATION</td>\n",
       "      <td>DUDETAILSUMMARY</td>\n",
       "      <td>7.0</td>\n",
       "      <td>YWPS4</td>\n",
       "      <td>2024/07/01 00:00:00</td>\n",
       "      <td>2999/12/31 00:00:00</td>\n",
       "      <td>GENERATOR</td>\n",
       "      <td>VYP24</td>\n",
       "      <td>VIC1</td>\n",
       "      <td>...</td>\n",
       "      <td>0.0</td>\n",
       "      <td>NaN</td>\n",
       "      <td>NaN</td>\n",
       "      <td>NaN</td>\n",
       "      <td>NaN</td>\n",
       "      <td>NaN</td>\n",
       "      <td>NaN</td>\n",
       "      <td>NaN</td>\n",
       "      <td>NaN</td>\n",
       "      <td>NaN</td>\n",
       "    </tr>\n",
       "  </tbody>\n",
       "</table>\n",
       "<p>12022 rows × 33 columns</p>\n",
       "</div>"
      ],
      "text/plain": [
       "       I  PARTICIPANT_REGISTRATION  DUDETAILSUMMARY    7     DUID  \\\n",
       "0      D  PARTICIPANT_REGISTRATION  DUDETAILSUMMARY  7.0  ADPBA1G   \n",
       "1      D  PARTICIPANT_REGISTRATION  DUDETAILSUMMARY  7.0  ADPBA1G   \n",
       "2      D  PARTICIPANT_REGISTRATION  DUDETAILSUMMARY  7.0  ADPBA1G   \n",
       "3      D  PARTICIPANT_REGISTRATION  DUDETAILSUMMARY  7.0  ADPBA1G   \n",
       "4      D  PARTICIPANT_REGISTRATION  DUDETAILSUMMARY  7.0  ADPBA1G   \n",
       "...   ..                       ...              ...  ...      ...   \n",
       "13223  D  PARTICIPANT_REGISTRATION  DUDETAILSUMMARY  7.0    YWPS4   \n",
       "13224  D  PARTICIPANT_REGISTRATION  DUDETAILSUMMARY  7.0    YWPS4   \n",
       "13225  D  PARTICIPANT_REGISTRATION  DUDETAILSUMMARY  7.0    YWPS4   \n",
       "13226  D  PARTICIPANT_REGISTRATION  DUDETAILSUMMARY  7.0    YWPS4   \n",
       "13227  D  PARTICIPANT_REGISTRATION  DUDETAILSUMMARY  7.0    YWPS4   \n",
       "\n",
       "                START_DATE             END_DATE DISPATCHTYPE  \\\n",
       "0      2021/04/20 00:00:00  2021/06/29 00:00:00    GENERATOR   \n",
       "1      2021/06/29 00:00:00  2021/07/01 00:00:00    GENERATOR   \n",
       "2      2021/07/01 00:00:00  2021/11/09 00:00:00    GENERATOR   \n",
       "3      2021/11/09 00:00:00  2022/07/01 00:00:00    GENERATOR   \n",
       "4      2022/07/01 00:00:00  2023/07/01 00:00:00    GENERATOR   \n",
       "...                    ...                  ...          ...   \n",
       "13223  2020/07/01 00:00:00  2021/07/01 00:00:00    GENERATOR   \n",
       "13224  2021/07/01 00:00:00  2022/07/01 00:00:00    GENERATOR   \n",
       "13225  2022/07/01 00:00:00  2023/07/01 00:00:00    GENERATOR   \n",
       "13226  2023/07/01 00:00:00  2024/07/01 00:00:00    GENERATOR   \n",
       "13227  2024/07/01 00:00:00  2999/12/31 00:00:00    GENERATOR   \n",
       "\n",
       "      CONNECTIONPOINTID REGIONID  ... IS_AGGREGATED DISPATCHSUBTYPE ADG_ID  \\\n",
       "0                SMVE4D      SA1  ...           1.0             NaN    NaN   \n",
       "1                SMVE4D      SA1  ...           1.0             NaN    NaN   \n",
       "2                SMVE4D      SA1  ...           1.0             NaN    NaN   \n",
       "3                SMVE4D      SA1  ...           1.0             NaN    NaN   \n",
       "4                SMVE4D      SA1  ...           1.0             NaN    NaN   \n",
       "...                 ...      ...  ...           ...             ...    ...   \n",
       "13223             VYP24     VIC1  ...           0.0             NaN    NaN   \n",
       "13224             VYP24     VIC1  ...           0.0             NaN    NaN   \n",
       "13225             VYP24     VIC1  ...           0.0             NaN    NaN   \n",
       "13226             VYP24     VIC1  ...           0.0             NaN    NaN   \n",
       "13227             VYP24     VIC1  ...           0.0             NaN    NaN   \n",
       "\n",
       "       LOAD_MINIMUM_ENERGY_PRICE LOAD_MAXIMUM_ENERGY_PRICE  \\\n",
       "0                            NaN                       NaN   \n",
       "1                            NaN                       NaN   \n",
       "2                            NaN                       NaN   \n",
       "3                            NaN                       NaN   \n",
       "4                            NaN                       NaN   \n",
       "...                          ...                       ...   \n",
       "13223                        NaN                       NaN   \n",
       "13224                        NaN                       NaN   \n",
       "13225                        NaN                       NaN   \n",
       "13226                        NaN                       NaN   \n",
       "13227                        NaN                       NaN   \n",
       "\n",
       "       LOAD_MIN_RAMP_RATE_UP  LOAD_MIN_RAMP_RATE_DOWN  LOAD_MAX_RAMP_RATE_UP  \\\n",
       "0                        NaN                      NaN                    NaN   \n",
       "1                        NaN                      NaN                    NaN   \n",
       "2                        NaN                      NaN                    NaN   \n",
       "3                        NaN                      NaN                    NaN   \n",
       "4                        NaN                      NaN                    NaN   \n",
       "...                      ...                      ...                    ...   \n",
       "13223                    NaN                      NaN                    NaN   \n",
       "13224                    NaN                      NaN                    NaN   \n",
       "13225                    NaN                      NaN                    NaN   \n",
       "13226                    NaN                      NaN                    NaN   \n",
       "13227                    NaN                      NaN                    NaN   \n",
       "\n",
       "      LOAD_MAX_RAMP_RATE_DOWN  SECONDARY_TLF  \n",
       "0                         NaN            NaN  \n",
       "1                         NaN            NaN  \n",
       "2                         NaN            NaN  \n",
       "3                         NaN            NaN  \n",
       "4                         NaN            NaN  \n",
       "...                       ...            ...  \n",
       "13223                     NaN            NaN  \n",
       "13224                     NaN            NaN  \n",
       "13225                     NaN            NaN  \n",
       "13226                     NaN            NaN  \n",
       "13227                     NaN            NaN  \n",
       "\n",
       "[12022 rows x 33 columns]"
      ]
     },
     "execution_count": 387,
     "metadata": {},
     "output_type": "execute_result"
    }
   ],
   "source": [
    "dudetail_data = pd.read_csv('data/fuel_mix/PUBLIC_DVD_DUDETAILSUMMARY_202407010000.CSV', header = 1)\n",
    "dudetail_generator_data = dudetail_data[dudetail_data['DISPATCHTYPE'] == 'GENERATOR']\n",
    "dudetail_generator_data"
   ]
  },
  {
   "cell_type": "code",
   "execution_count": 392,
   "id": "64965648",
   "metadata": {},
   "outputs": [
    {
     "data": {
      "text/html": [
       "<div>\n",
       "<style scoped>\n",
       "    .dataframe tbody tr th:only-of-type {\n",
       "        vertical-align: middle;\n",
       "    }\n",
       "\n",
       "    .dataframe tbody tr th {\n",
       "        vertical-align: top;\n",
       "    }\n",
       "\n",
       "    .dataframe thead th {\n",
       "        text-align: right;\n",
       "    }\n",
       "</style>\n",
       "<table border=\"1\" class=\"dataframe\">\n",
       "  <thead>\n",
       "    <tr style=\"text-align: right;\">\n",
       "      <th></th>\n",
       "      <th>I</th>\n",
       "      <th>DISPATCH</th>\n",
       "      <th>UNIT_SCADA</th>\n",
       "      <th>1</th>\n",
       "      <th>SETTLEMENTDATE</th>\n",
       "      <th>DUID</th>\n",
       "      <th>SCADAVALUE</th>\n",
       "    </tr>\n",
       "  </thead>\n",
       "  <tbody>\n",
       "    <tr>\n",
       "      <th>0</th>\n",
       "      <td>D</td>\n",
       "      <td>DISPATCH</td>\n",
       "      <td>UNIT_SCADA</td>\n",
       "      <td>1.0</td>\n",
       "      <td>2024/08/01 00:05:00</td>\n",
       "      <td>ADPBA1G</td>\n",
       "      <td>0.00000</td>\n",
       "    </tr>\n",
       "    <tr>\n",
       "      <th>1</th>\n",
       "      <td>D</td>\n",
       "      <td>DISPATCH</td>\n",
       "      <td>UNIT_SCADA</td>\n",
       "      <td>1.0</td>\n",
       "      <td>2024/08/01 00:05:00</td>\n",
       "      <td>ADPBA1L</td>\n",
       "      <td>2.90700</td>\n",
       "    </tr>\n",
       "    <tr>\n",
       "      <th>2</th>\n",
       "      <td>D</td>\n",
       "      <td>DISPATCH</td>\n",
       "      <td>UNIT_SCADA</td>\n",
       "      <td>1.0</td>\n",
       "      <td>2024/08/01 00:05:00</td>\n",
       "      <td>ADPPV1</td>\n",
       "      <td>0.00000</td>\n",
       "    </tr>\n",
       "    <tr>\n",
       "      <th>3</th>\n",
       "      <td>D</td>\n",
       "      <td>DISPATCH</td>\n",
       "      <td>UNIT_SCADA</td>\n",
       "      <td>1.0</td>\n",
       "      <td>2024/08/01 00:05:00</td>\n",
       "      <td>AGLHAL</td>\n",
       "      <td>0.00000</td>\n",
       "    </tr>\n",
       "    <tr>\n",
       "      <th>4</th>\n",
       "      <td>D</td>\n",
       "      <td>DISPATCH</td>\n",
       "      <td>UNIT_SCADA</td>\n",
       "      <td>1.0</td>\n",
       "      <td>2024/08/01 00:05:00</td>\n",
       "      <td>AGLSOM</td>\n",
       "      <td>19.82500</td>\n",
       "    </tr>\n",
       "    <tr>\n",
       "      <th>...</th>\n",
       "      <td>...</td>\n",
       "      <td>...</td>\n",
       "      <td>...</td>\n",
       "      <td>...</td>\n",
       "      <td>...</td>\n",
       "      <td>...</td>\n",
       "      <td>...</td>\n",
       "    </tr>\n",
       "    <tr>\n",
       "      <th>4136173</th>\n",
       "      <td>D</td>\n",
       "      <td>DISPATCH</td>\n",
       "      <td>UNIT_SCADA</td>\n",
       "      <td>1.0</td>\n",
       "      <td>2024/09/01 00:00:00</td>\n",
       "      <td>YWPS1</td>\n",
       "      <td>248.36710</td>\n",
       "    </tr>\n",
       "    <tr>\n",
       "      <th>4136174</th>\n",
       "      <td>D</td>\n",
       "      <td>DISPATCH</td>\n",
       "      <td>UNIT_SCADA</td>\n",
       "      <td>1.0</td>\n",
       "      <td>2024/09/01 00:00:00</td>\n",
       "      <td>YWPS2</td>\n",
       "      <td>274.18228</td>\n",
       "    </tr>\n",
       "    <tr>\n",
       "      <th>4136175</th>\n",
       "      <td>D</td>\n",
       "      <td>DISPATCH</td>\n",
       "      <td>UNIT_SCADA</td>\n",
       "      <td>1.0</td>\n",
       "      <td>2024/09/01 00:00:00</td>\n",
       "      <td>YWPS3</td>\n",
       "      <td>217.12025</td>\n",
       "    </tr>\n",
       "    <tr>\n",
       "      <th>4136176</th>\n",
       "      <td>D</td>\n",
       "      <td>DISPATCH</td>\n",
       "      <td>UNIT_SCADA</td>\n",
       "      <td>1.0</td>\n",
       "      <td>2024/09/01 00:00:00</td>\n",
       "      <td>YWPS4</td>\n",
       "      <td>212.32152</td>\n",
       "    </tr>\n",
       "    <tr>\n",
       "      <th>4136177</th>\n",
       "      <td>C</td>\n",
       "      <td>END OF REPORT</td>\n",
       "      <td>4136180</td>\n",
       "      <td>NaN</td>\n",
       "      <td>NaN</td>\n",
       "      <td>NaN</td>\n",
       "      <td>NaN</td>\n",
       "    </tr>\n",
       "  </tbody>\n",
       "</table>\n",
       "<p>4136178 rows × 7 columns</p>\n",
       "</div>"
      ],
      "text/plain": [
       "         I       DISPATCH  UNIT_SCADA    1       SETTLEMENTDATE     DUID  \\\n",
       "0        D       DISPATCH  UNIT_SCADA  1.0  2024/08/01 00:05:00  ADPBA1G   \n",
       "1        D       DISPATCH  UNIT_SCADA  1.0  2024/08/01 00:05:00  ADPBA1L   \n",
       "2        D       DISPATCH  UNIT_SCADA  1.0  2024/08/01 00:05:00   ADPPV1   \n",
       "3        D       DISPATCH  UNIT_SCADA  1.0  2024/08/01 00:05:00   AGLHAL   \n",
       "4        D       DISPATCH  UNIT_SCADA  1.0  2024/08/01 00:05:00   AGLSOM   \n",
       "...     ..            ...         ...  ...                  ...      ...   \n",
       "4136173  D       DISPATCH  UNIT_SCADA  1.0  2024/09/01 00:00:00    YWPS1   \n",
       "4136174  D       DISPATCH  UNIT_SCADA  1.0  2024/09/01 00:00:00    YWPS2   \n",
       "4136175  D       DISPATCH  UNIT_SCADA  1.0  2024/09/01 00:00:00    YWPS3   \n",
       "4136176  D       DISPATCH  UNIT_SCADA  1.0  2024/09/01 00:00:00    YWPS4   \n",
       "4136177  C  END OF REPORT     4136180  NaN                  NaN      NaN   \n",
       "\n",
       "         SCADAVALUE  \n",
       "0           0.00000  \n",
       "1           2.90700  \n",
       "2           0.00000  \n",
       "3           0.00000  \n",
       "4          19.82500  \n",
       "...             ...  \n",
       "4136173   248.36710  \n",
       "4136174   274.18228  \n",
       "4136175   217.12025  \n",
       "4136176   212.32152  \n",
       "4136177         NaN  \n",
       "\n",
       "[4136178 rows x 7 columns]"
      ]
     },
     "execution_count": 392,
     "metadata": {},
     "output_type": "execute_result"
    }
   ],
   "source": [
    "dispatch_august_24 = pd.read_csv('data/fuel_mix/PUBLIC_ARCHIVE#DISPATCH_UNIT_SCADA#FILE01#202408010000.CSV', header = 1)\n",
    "dispatch_august_24"
   ]
  },
  {
   "cell_type": "markdown",
   "id": "0f26e11f",
   "metadata": {},
   "source": [
    "### Need to Connect the DUID to the Region ID"
   ]
  },
  {
   "cell_type": "code",
   "execution_count": 370,
   "id": "81e9b03c",
   "metadata": {},
   "outputs": [
    {
     "data": {
      "text/html": [
       "<div>\n",
       "<style scoped>\n",
       "    .dataframe tbody tr th:only-of-type {\n",
       "        vertical-align: middle;\n",
       "    }\n",
       "\n",
       "    .dataframe tbody tr th {\n",
       "        vertical-align: top;\n",
       "    }\n",
       "\n",
       "    .dataframe thead th {\n",
       "        text-align: right;\n",
       "    }\n",
       "</style>\n",
       "<table border=\"1\" class=\"dataframe\">\n",
       "  <thead>\n",
       "    <tr style=\"text-align: right;\">\n",
       "      <th></th>\n",
       "      <th>DUID</th>\n",
       "      <th>REGIONID</th>\n",
       "    </tr>\n",
       "  </thead>\n",
       "  <tbody>\n",
       "    <tr>\n",
       "      <th>0</th>\n",
       "      <td>ADPBA1G</td>\n",
       "      <td>SA1</td>\n",
       "    </tr>\n",
       "    <tr>\n",
       "      <th>1</th>\n",
       "      <td>ADPBA1G</td>\n",
       "      <td>SA1</td>\n",
       "    </tr>\n",
       "    <tr>\n",
       "      <th>2</th>\n",
       "      <td>ADPBA1G</td>\n",
       "      <td>SA1</td>\n",
       "    </tr>\n",
       "    <tr>\n",
       "      <th>3</th>\n",
       "      <td>ADPBA1G</td>\n",
       "      <td>SA1</td>\n",
       "    </tr>\n",
       "    <tr>\n",
       "      <th>4</th>\n",
       "      <td>ADPBA1G</td>\n",
       "      <td>SA1</td>\n",
       "    </tr>\n",
       "    <tr>\n",
       "      <th>...</th>\n",
       "      <td>...</td>\n",
       "      <td>...</td>\n",
       "    </tr>\n",
       "    <tr>\n",
       "      <th>13224</th>\n",
       "      <td>YWPS4</td>\n",
       "      <td>VIC1</td>\n",
       "    </tr>\n",
       "    <tr>\n",
       "      <th>13225</th>\n",
       "      <td>YWPS4</td>\n",
       "      <td>VIC1</td>\n",
       "    </tr>\n",
       "    <tr>\n",
       "      <th>13226</th>\n",
       "      <td>YWPS4</td>\n",
       "      <td>VIC1</td>\n",
       "    </tr>\n",
       "    <tr>\n",
       "      <th>13227</th>\n",
       "      <td>YWPS4</td>\n",
       "      <td>VIC1</td>\n",
       "    </tr>\n",
       "    <tr>\n",
       "      <th>13228</th>\n",
       "      <td>NaN</td>\n",
       "      <td>NaN</td>\n",
       "    </tr>\n",
       "  </tbody>\n",
       "</table>\n",
       "<p>13229 rows × 2 columns</p>\n",
       "</div>"
      ],
      "text/plain": [
       "          DUID REGIONID\n",
       "0      ADPBA1G      SA1\n",
       "1      ADPBA1G      SA1\n",
       "2      ADPBA1G      SA1\n",
       "3      ADPBA1G      SA1\n",
       "4      ADPBA1G      SA1\n",
       "...        ...      ...\n",
       "13224    YWPS4     VIC1\n",
       "13225    YWPS4     VIC1\n",
       "13226    YWPS4     VIC1\n",
       "13227    YWPS4     VIC1\n",
       "13228      NaN      NaN\n",
       "\n",
       "[13229 rows x 2 columns]"
      ]
     },
     "execution_count": 370,
     "metadata": {},
     "output_type": "execute_result"
    }
   ],
   "source": [
    "duid_regions = pd.DataFrame({\n",
    "    'DUID' : dudetail_data['DUID'],\n",
    "    'REGIONID' : dudetail_data['REGIONID']\n",
    "})\n",
    "duid_regions"
   ]
  },
  {
   "cell_type": "code",
   "execution_count": 382,
   "id": "bf67a538",
   "metadata": {},
   "outputs": [
    {
     "data": {
      "text/plain": [
       "array(['ADPBA1G', 'ADPBA1L', 'ADPMH1', 'ADPPV1', 'ADPPV2', 'ADPPV3',\n",
       "       'AGLHAL', 'AGLNOW1', 'AGLSITA1', 'AGLSOM', 'AMCORGR', 'ANGAS1',\n",
       "       'ANGAS2', 'ANGAST1', 'APD01', 'APD02', 'APPIN', 'APS', 'ARWF1',\n",
       "       'ASENGV01', 'ASENGY01', 'ASNACTW1', 'ASNAES1', 'ASNBRL1',\n",
       "       'ASNENC1', 'ASNSEL2', 'ASPAPM01', 'ASPSTV01', 'ASQEEV1', 'ASQENC1',\n",
       "       'ASRMGE01', 'ASRMGE02', 'ASRMGE03', 'ASRMGE04', 'ASSDE1', 'ASSEL1',\n",
       "       'ASSENC1', 'ASSERDV1', 'ASSSN1', 'ASTFG1V1', 'ASTHYD1', 'ASVIEL2',\n",
       "       'AS_NSW1', 'AVLSF1', 'AWABAREF', 'BAKING1', 'BALB1', 'BALBG1',\n",
       "       'BALBL1', 'BALDHWF1', 'BANGOWF1', 'BANGOWF2', 'BANKSPT1', 'BANN1',\n",
       "       'BAPS', 'BARCALDN', 'BARCSF1', 'BARKIPS1', 'BARRON-1', 'BARRON-2',\n",
       "       'BASTYAN', 'BAYNL1', 'BBASEHOS', 'BBATRYL1', 'BBATTERY',\n",
       "       'BBDISEL1', 'BBTHREE1', 'BBTHREE2', 'BBTHREE3', 'BDL01', 'BDL02',\n",
       "       'BDONGHYD', 'BELLBAY1', 'BELLBAY2', 'BERWICK', 'BERYLSF1',\n",
       "       'BHASZINC', 'BHB1', 'BHBG1', 'BHBL1', 'BLNKTAS', 'BLNKVIC',\n",
       "       'BLOWER', 'BLOWERNG', 'BLUEGSF1', 'BLUFF1', 'BLULAKE1', 'BNGSF1',\n",
       "       'BNGSF2', 'BOCORWF1', 'BODWF1', 'BOLIVAR1', 'BOLIVPS1', 'BOMENSF1',\n",
       "       'BOWWBA1G', 'BOWWBA1L', 'BOWWDG1', 'BOWWPV1', 'BPLANDF1',\n",
       "       'BRAEMAR1', 'BRAEMAR2', 'BRAEMAR3', 'BRAEMAR5', 'BRAEMAR6',\n",
       "       'BRAEMAR7', 'BROADMDW', 'BROKENH1', 'BROOKLYN', 'BROWNMT',\n",
       "       'BRYB1WF1', 'BRYB2WF2', 'BULBESG1', 'BULBESL1', 'BULGANA1',\n",
       "       'BURRIN', 'BUTLERSG', 'BW01', 'BW02', 'BW03', 'BW04', 'BWTR1',\n",
       "       'CALLNL1', 'CALLNL2', 'CALLNL3', 'CALLNL4', 'CALL_A_1', 'CALL_A_2',\n",
       "       'CALL_A_3', 'CALL_A_4', 'CALL_B_1', 'CALL_B_2', 'CAPBES1G',\n",
       "       'CAPBES1L', 'CAPTL_WF', 'CATAGUN1', 'CATA_1', 'CATA_2', 'CATHROCK',\n",
       "       'CBWF1', 'CBWWBA1G', 'CBWWBA1L', 'CBWWBG1', 'CBWWDG1', 'CBWWDG2',\n",
       "       'CBWWPV1', 'CBWWPV2', 'CESF1', 'CETHANA', 'CG1', 'CG2', 'CG3',\n",
       "       'CG4', 'CHALLHWF', 'CHBESSG1', 'CHBESSL1', 'CHILDSF1', 'CHPSTWF1',\n",
       "       'CHYTWF1', 'CLARESF1', 'CLAYTON', 'CLEMGPWF', 'CLERMSF1', 'CLOVER',\n",
       "       'CLOVER1', 'CLOVER2', 'CLUNY', 'CNUNDAWF', 'CODRNGTON', 'COHUNSF1',\n",
       "       'COLEASF1', 'COLNSNL1', 'COLNSV_1', 'COLNSV_2', 'COLNSV_3',\n",
       "       'COLNSV_4', 'COLNSV_5', 'COLUMSF1', 'COLWF01', 'CONDONG1',\n",
       "       'COOPGWF1', 'COPTNHYD', 'CORIO1', 'CPP_3', 'CPP_4', 'CPSA',\n",
       "       'CROOKWF2', 'CROOKWF3', 'CROWLWF1', 'CRURWF1', 'CRWASF1',\n",
       "       'CSPVPS1', 'CTHLWF1', 'CULLRGWF', 'DAANDINE', 'DALNTH01',\n",
       "       'DALNTH1', 'DALNTHL1', 'DARLSF1', 'DARTM1', 'DAYDSF1', 'DDPS1',\n",
       "       'DDSF1', 'DEVILS_G', 'DG_NSW1', 'DG_QLD1', 'DG_SA1', 'DG_TAS1',\n",
       "       'DG_VIC1', 'DIAPURWF1', 'DLNKNSW', 'DLNKQLD', 'DPNTB1', 'DPNTBG1',\n",
       "       'DPNTBL1', 'DRACAN1', 'DRACAV1', 'DRAESN1', 'DRAESN3', 'DREXMN01',\n",
       "       'DRFIIN01', 'DRFIIN02', 'DRGBND01', 'DRGBND02', 'DRGBND03',\n",
       "       'DRHTVP01', 'DROZVP01', 'DRSHVN01', 'DRSHVS01', 'DRVIOT01',\n",
       "       'DRVIOT02', 'DRVIOT03', 'DRVIOT04', 'DRVIOT05', 'DRXNDA01',\n",
       "       'DRXNDA02', 'DRXNDA03', 'DRXNDA04', 'DRXNDE01', 'DRXNQX01',\n",
       "       'DRXQDA01', 'DRXQQE01', 'DRXSQS01', 'DRXVDJ01', 'DRXVDP01',\n",
       "       'DRXVDX01', 'DRXVQP01', 'DRXVQX01', 'DRXVQX02', 'DRYCGT1',\n",
       "       'DRYCGT2', 'DRYCGT3', 'DRYCNL', 'DRYCNL3', 'DULAWF1', 'DUNDWF1',\n",
       "       'DUNDWF2', 'DUNDWF3', 'EASTCRK', 'EASTCRK2', 'EDENVSF1',\n",
       "       'EDLRGNRD', 'EILDON1', 'EILDON2', 'EILDON3', 'ELAINWF1',\n",
       "       'EMERASF1', 'ER01', 'ER02', 'ER03', 'ER04', 'ERGT01', 'ERG_AS',\n",
       "       'ERNL1', 'FARLEIGH', 'FINLYSF1', 'FISHER', 'FLYCRKWF', 'FNWF1',\n",
       "       'FSWF1', 'GANGARR1', 'GANNB1', 'GANNBG1', 'GANNBL1', 'GANNSF1',\n",
       "       'GB01', 'GB02', 'GEORGTN1', 'GEORGTN2', 'GERMCRK', 'GIRGSF',\n",
       "       'GLADNL1', 'GLBWNHYD', 'GLENMAG1', 'GLENNCRK', 'GLENSF1',\n",
       "       'GLRWNSF1', 'GNNDHSF1', 'GOONSF1', 'GORDON', 'GORDON1', 'GORDON2',\n",
       "       'GORDON3', 'GOVILLB1', 'GPWFEL1', 'GPWFEST1', 'GPWFEST2',\n",
       "       'GPWFEST3', 'GRANGEAV', 'GRANWF1', 'GRIFSF1', 'GROSV1', 'GROSV2',\n",
       "       'GSTONE1', 'GSTONE2', 'GSTONE3', 'GSTONE4', 'GSTONE5', 'GSTONE6',\n",
       "       'GSWF1A', 'GSWF1B1', 'GULLRSF1', 'GULLRWF1', 'GULLRWF2',\n",
       "       'GUNNING1', 'GUTH-1', 'GUTH-2', 'GUTHEGA', 'GUTHNL1', 'HALAMRD1',\n",
       "       'HALLWF1', 'HALLWF2', 'HAMISF1', 'HASTING1', 'HASTING2',\n",
       "       'HASTING3', 'HAUGHT11', 'HAYMSF1', 'HBESSG1', 'HBESSL1', 'HD1WF1',\n",
       "       'HDWF1', 'HDWF2', 'HDWF3', 'HEPWIND1', 'HEZ', 'HEZ1', 'HIGHBRY1',\n",
       "       'HILLSTN1', 'HLMSEW01', 'HPRG1', 'HPRL1', 'HUGSF1', 'HUMENSW',\n",
       "       'HUMEV', 'HVGTS', 'HVWWBA1G', 'HVWWBA1L', 'HVWWPV1', 'HWPNL1',\n",
       "       'HWPS1', 'HWPS2', 'HWPS3', 'HWPS4', 'HWPS5', 'HWPS6', 'HWPS7',\n",
       "       'HWPS8', 'ICSM', 'INVICTA', 'JACKSGUL', 'JBUTTERS', 'JEMALNG1',\n",
       "       'JLA01', 'JLA02', 'JLA03', 'JLA04', 'JLB01', 'JLB02', 'JLB03',\n",
       "       'JNDABNE1', 'JOUNAMA1', 'JUNEESF1', 'KABANWF1', 'KAREEYA1',\n",
       "       'KAREEYA2', 'KAREEYA3', 'KAREEYA4', 'KAREEYA5', 'KARSF1',\n",
       "       'KARYNL1', 'KEEPIT', 'KEPBG1', 'KEPBL1', 'KEPSF1', 'KEPWF1',\n",
       "       'KIAMSF1', 'KIATAWF1', 'KINCUM1', 'KKGTS', 'KPP_1', 'KRCCOGEN',\n",
       "       'KSP1', 'LADBROK1', 'LADBROK2', 'LAVNORTH', 'LBBG1', 'LBBL1',\n",
       "       'LD01', 'LD02', 'LD03', 'LD04', 'LEMONTME', 'LEM_WIL', 'LGAPWF1',\n",
       "       'LGAPWF2', 'LIDDNL1', 'LILYSF1', 'LIMOSF11', 'LIMOSF21',\n",
       "       'LI_WY_CA', 'LKBONNY1', 'LKBONNY2', 'LKBONNY3', 'LK_ECHO', 'LNGS1',\n",
       "       'LNGS2', 'LONGFORD', 'LONSDALE', 'LOYYB1', 'LOYYB2', 'LRSF1',\n",
       "       'LUCAS2S2', 'LUCASHGT', 'LYA1', 'LYA2', 'LYA3', 'LYA4', 'LYGS1',\n",
       "       'LYGS2', 'LYGS3', 'LYGS4', 'LYGS5', 'LYGS6', 'LYNL1', 'L_W_CNL1',\n",
       "       'MACARTH1', 'MACKAYGT', 'MACKNADE', 'MACKNTSH', 'MANNSF2',\n",
       "       'MANSLR1', 'MAPS2PV1', 'MAPS3PV1', 'MARIAN', 'MAROOWF1',\n",
       "       'MARYRSF1', 'MBAHNTH', 'MBPS2PV1', 'MCKAY1', 'MCKAY2', 'MEADOWB2',\n",
       "       'MEADOWBK', 'MERCER01', 'METZSF1', 'MEWF1', 'MIDDLSF1', 'MIDLDPS1',\n",
       "       'MINTARO', 'MINTNL1', 'MLINKSA', 'MLINKVIC', 'MLLFGEF1', 'MLSP1',\n",
       "       'MLWF1', 'MM3', 'MM4', 'MMNL1', 'MOLNGSF1', 'MOORAWF1', 'MOR1',\n",
       "       'MOR2', 'MOR3', 'MORANBAH', 'MOREESF1', 'MORNL1', 'MORNW',\n",
       "       'MORTLK11', 'MORTLK12', 'MOUSF1', 'MP1', 'MP2', 'MPNL1', 'MPP_1',\n",
       "       'MPP_2', 'MRIDGE', 'MRTLSWF1', 'MSTUART1', 'MSTUART2', 'MSTUART3',\n",
       "       'MTGELWF1', 'MTMILLAR', 'MULGRAVE', 'MURAYNL1', 'MURAYNL2',\n",
       "       'MURAYNL3', 'MURR1-1', 'MURR1-10', 'MURR1-2', 'MURR1-3', 'MURR1-4',\n",
       "       'MURR1-5', 'MURR1-6', 'MURR1-7', 'MURR1-8', 'MURR1-9', 'MURR2-1',\n",
       "       'MURR2-2', 'MURR2-3', 'MURR2-4', 'MURRAY', 'MUSSELR1', 'MUWAWF1',\n",
       "       'MUWAWF2', 'MWPS1PV1', 'MWPS2PV1', 'MWPS3PV1', 'MWPS4PV1', 'NASF1',\n",
       "       'NBHWF1', 'NEVERSF1', 'NEWENSF1', 'NEWENSF2', 'NGTS', 'NINEWIL1',\n",
       "       'NPS', 'NPS1', 'NPS2', 'NPSNL1', 'NPSNL2', 'NUMURSF1', 'NYNGAN1',\n",
       "       'OAKEY1', 'OAKEY1SF', 'OAKEY2', 'OAKEY2SF', 'OAKLAND1', 'OAKY2',\n",
       "       'OAKYCREK', 'OSB-AG', 'OSB01', 'OSB02', 'PALOONA', 'PAREPS1',\n",
       "       'PAREPW1', 'PARSF1', 'PEDLER1', 'PIBESSG1', 'PIBESSL1', 'PINDARI',\n",
       "       'PIONEER', 'PLANECRK', 'PLAYB-AG', 'PLAYFB1', 'PLAYFB2', 'PLAYFB3',\n",
       "       'PLAYFB4', 'PLEYSTOW', 'PMATTAEP', 'PO110NL1', 'POAT110',\n",
       "       'POAT220', 'POATINA1', 'POATINA2', 'POR01', 'POR03', 'PORTLAT1',\n",
       "       'PORTWF', 'PPCCGT', 'PTH01', 'PTH02', 'PTH03', 'PTSTAN1', 'PUMP1',\n",
       "       'PUMP2', 'QBYNBG1', 'QBYNBL1', 'QPS1', 'QPS2', 'QPS3', 'QPS4',\n",
       "       'QPS5', 'QUERIVE1', 'RACOMIL1', 'RCOURSE', 'REDBANK1', 'REECE1',\n",
       "       'REECE2', 'REMOUNT', 'REPULSE', 'RESS1G', 'RESS1L', 'RIVNB2',\n",
       "       'RIVNBG2', 'RIVNBL2', 'ROCHEDAL', 'ROMA_7', 'ROMA_8', 'ROWALLAN',\n",
       "       'ROYALLA1', 'RPCG', 'RRSF1', 'RT_NSW1', 'RT_NSW2', 'RT_NSW3',\n",
       "       'RT_NSW4', 'RT_NSW5', 'RT_NSW6', 'RT_QLD1', 'RT_SA1', 'RT_SA2',\n",
       "       'RT_SA3', 'RT_SA4', 'RT_SA5', 'RT_SA6', 'RT_TAS1', 'RT_VIC1',\n",
       "       'RT_VIC10', 'RT_VIC11', 'RT_VIC12', 'RT_VIC2', 'RT_VIC3',\n",
       "       'RT_VIC4', 'RT_VIC5', 'RT_VIC6', 'RT_VIC7', 'RT_VIC8', 'RT_VIC9',\n",
       "       'RUBICON', 'RUGBYR1', 'RYANCWF1', 'RYEPARK1', 'SALTCRK1',\n",
       "       'SAPHWF1', 'SATGN1', 'SATGS1', 'SEBSF1', 'SHEP1', 'SHGEN',\n",
       "       'SHGEN2', 'SHOAL1', 'SHPUMP', 'SITHE01', 'SKSF1', 'SLDCBLK1',\n",
       "       'SMCSF1', 'SNAPPER1', 'SNOWNTH1', 'SNOWSTH1', 'SNOWTWN1', 'SNOWY1',\n",
       "       'SNOWY2', 'SNOWY3', 'SNOWY4', 'SNOWY5', 'SNOWY6', 'SNOWYGJP',\n",
       "       'SNOWYP', 'SNUG1', 'SNUG2', 'SNUG3', 'SNUG4', 'SNUGNL1',\n",
       "       'SNWYGJP2', 'SOMERSET', 'SRSF1', 'STAN-1', 'STAN-2', 'STAN-3',\n",
       "       'STAN-4', 'STANNL1', 'STANV1', 'STANV2', 'STAPYLTON1', 'STARHLWF',\n",
       "       'STGEORG1', 'STHBKTEC', 'STHJST', 'STOCKYD1', 'STPN1', 'STWF1',\n",
       "       'SUNCOAST', 'SUNRSF1', 'SUNSHINE', 'SUNTPSF1', 'SVALE1', 'SWANNL1',\n",
       "       'SWANNL2', 'SWAN_A_1', 'SWAN_A_2', 'SWAN_A_3', 'SWAN_A_4',\n",
       "       'SWAN_A_5', 'SWAN_A_6', 'SWAN_B_1', 'SWAN_B_2', 'SWAN_B_3',\n",
       "       'SWAN_B_4', 'SWAN_C', 'SWAN_D', 'SWAN_E', 'SYMEX1', 'TABMILL2',\n",
       "       'TAHMOOR1', 'TALWA1', 'TALWB1', 'TARALGA1', 'TARNL1', 'TARONG#1',\n",
       "       'TARONG#2', 'TARONG#3', 'TARONG#4', 'TARRALEA', 'TATIARA1',\n",
       "       'TATURA01', 'TB2BG1', 'TB2BL1', 'TB2SF1', 'TBLD', 'TBSF1',\n",
       "       'TEATREE1', 'TERALBA', 'TERMSTOR', 'TGNSS1', 'THEDROP1', 'TIB1',\n",
       "       'TIBG1', 'TIBL1', 'TIMWEST', 'TITREE', 'TNPS1', 'TOMAGO1',\n",
       "       'TOMAGO2', 'TOMAGO3', 'TOORAWF', 'TORNL1', 'TORRA1', 'TORRA2',\n",
       "       'TORRA3', 'TORRA4', 'TORRB1', 'TORRB2', 'TORRB3', 'TORRB4',\n",
       "       'TOWER', 'TREVALLN', 'TREV_1', 'TREV_2', 'TREV_3', 'TREV_4',\n",
       "       'TRIBNL1', 'TRIBUTE', 'TUMT3NL1', 'TUMT3NL2', 'TUMT3NL3',\n",
       "       'TUMUT1-1', 'TUMUT1-2', 'TUMUT1-3', 'TUMUT1-4', 'TUMUT2-1',\n",
       "       'TUMUT2-2', 'TUMUT2-3', 'TUMUT2-4', 'TUMUT3', 'TUMUT3-1',\n",
       "       'TUMUT3-2', 'TUMUT3-3', 'TUMUT3-4', 'TUMUT3-5', 'TUMUT3-6',\n",
       "       'TUNGATIN', 'TUNGA_3', 'TUNGA_4', 'TVCC201', 'TVPP104', 'TYPHOONW',\n",
       "       'UPPTUMUT', 'URANQ11', 'URANQ12', 'URANQ13', 'URANQ14', 'UWS1',\n",
       "       'VALDORA1', 'VBBG1', 'VBBL1', 'VENUS1', 'VICMILL1', 'VICSMLT',\n",
       "       'VICSMLT2', 'VP5', 'VP6', 'VPGS', 'VPGS1', 'VPGS2', 'VPGS3',\n",
       "       'VPGS4', 'VPGS5', 'VPGS6', 'VPNL1', 'VSNEL2S1', 'VSNSN1V1',\n",
       "       'VSQHT1V1', 'VSSAE1V1', 'VSSEL1V1', 'VSSSE1V1', 'VSSSH1S1',\n",
       "       'VSVEL2S1', 'W/HOE#1', 'W/HOE#2', 'WAGGNSF1', 'WALGRVG1',\n",
       "       'WALGRVL1', 'WANDB1', 'WANDBG1', 'WANDBL1', 'WANDSF1', 'WARWSF1',\n",
       "       'WARWSF2', 'WATERLWF', 'WAUBRAWF', 'WDBESSG1', 'WDBESSL1',\n",
       "       'WDGPH1', 'WDLNGN01', 'WELLSF1', 'WELNSF1', 'WEMENSF1', 'WESTCBT1',\n",
       "       'WESTILL1', 'WG01', 'WGULLY', 'WGWF1', 'WHILL1', 'WHIT1',\n",
       "       'WHITSF1', 'WILGAPK', 'WILGB01', 'WILLHOV1', 'WINGF1_1',\n",
       "       'WINGF2_1', 'WINTSF1', 'WIVENSH', 'WKIEWA1', 'WKIEWA2', 'WOLLERT1',\n",
       "       'WONWP', 'WOODLWN1', 'WOOLGSF1', 'WOOLNTH1', 'WOYWOY1', 'WPWF',\n",
       "       'WRSF1', 'WRWF1', 'WSTWYSF1', 'WW7', 'WW8', 'WWNL1', 'WYA252B1',\n",
       "       'WYANGALA', 'WYANGALB', 'WYASF1', 'WYB252B1', 'WYNDW', 'YABULU',\n",
       "       'YABULU2', 'YAMBUKWF', 'YARANSF1', 'YARWUN_1', 'YATSF1', 'YAWWF1',\n",
       "       'YENDWF1', 'YSWF1', 'YWNGAHYD', 'YWNL1', 'YWPS1', 'YWPS2', 'YWPS3',\n",
       "       'YWPS4', nan], dtype=object)"
      ]
     },
     "execution_count": 382,
     "metadata": {},
     "output_type": "execute_result"
    }
   ],
   "source": [
    "duid_regions['DUID'].unique()"
   ]
  },
  {
   "cell_type": "code",
   "execution_count": 4,
   "id": "7eb8eecd",
   "metadata": {},
   "outputs": [
    {
     "data": {
      "text/plain": [
       "DateTime      object\n",
       "Max/Min       object\n",
       "State         object\n",
       "Fuel Type     object\n",
       "Supply       float64\n",
       "dtype: object"
      ]
     },
     "execution_count": 4,
     "metadata": {},
     "output_type": "execute_result"
    }
   ],
   "source": [
    "renewable_penetration.dtypes"
   ]
  },
  {
   "cell_type": "markdown",
   "id": "6fe4cf59",
   "metadata": {},
   "source": [
    "Having a look at the different fuel types in the dataset"
   ]
  },
  {
   "cell_type": "code",
   "execution_count": 8,
   "id": "fee1770f",
   "metadata": {},
   "outputs": [
    {
     "data": {
      "text/plain": [
       "Fuel Type\n",
       "Battery                184\n",
       "Biomass                184\n",
       "Black coal             184\n",
       "Brown coal             184\n",
       "Distributed PV         184\n",
       "Gas                    184\n",
       "Hydro                  184\n",
       "Liquid Fuel            184\n",
       "Utility-scale Solar    184\n",
       "Wind                   184\n",
       "Other                   23\n",
       "Name: count, dtype: int64"
      ]
     },
     "execution_count": 8,
     "metadata": {},
     "output_type": "execute_result"
    }
   ],
   "source": [
    "renewable_penetration['Fuel Type'].value_counts()"
   ]
  },
  {
   "cell_type": "markdown",
   "id": "6f58f46a",
   "metadata": {},
   "source": [
    "There is an 'Other' value for Fuel Type. Going to remove that for easier analysis"
   ]
  },
  {
   "cell_type": "code",
   "execution_count": 10,
   "id": "49d36a80",
   "metadata": {},
   "outputs": [
    {
     "data": {
      "text/html": [
       "<div>\n",
       "<style scoped>\n",
       "    .dataframe tbody tr th:only-of-type {\n",
       "        vertical-align: middle;\n",
       "    }\n",
       "\n",
       "    .dataframe tbody tr th {\n",
       "        vertical-align: top;\n",
       "    }\n",
       "\n",
       "    .dataframe thead th {\n",
       "        text-align: right;\n",
       "    }\n",
       "</style>\n",
       "<table border=\"1\" class=\"dataframe\">\n",
       "  <thead>\n",
       "    <tr style=\"text-align: right;\">\n",
       "      <th></th>\n",
       "      <th>DateTime</th>\n",
       "      <th>Max/Min</th>\n",
       "      <th>State</th>\n",
       "      <th>Fuel Type</th>\n",
       "      <th>Supply</th>\n",
       "    </tr>\n",
       "  </thead>\n",
       "  <tbody>\n",
       "    <tr>\n",
       "      <th>0</th>\n",
       "      <td>2018-01</td>\n",
       "      <td>Min</td>\n",
       "      <td>NEM</td>\n",
       "      <td>Battery</td>\n",
       "      <td>0.000</td>\n",
       "    </tr>\n",
       "    <tr>\n",
       "      <th>1</th>\n",
       "      <td>2018-01</td>\n",
       "      <td>Min</td>\n",
       "      <td>NEM</td>\n",
       "      <td>Biomass</td>\n",
       "      <td>10.233</td>\n",
       "    </tr>\n",
       "    <tr>\n",
       "      <th>2</th>\n",
       "      <td>2018-01</td>\n",
       "      <td>Min</td>\n",
       "      <td>NEM</td>\n",
       "      <td>Black coal</td>\n",
       "      <td>10655.808</td>\n",
       "    </tr>\n",
       "    <tr>\n",
       "      <th>3</th>\n",
       "      <td>2018-01</td>\n",
       "      <td>Min</td>\n",
       "      <td>NEM</td>\n",
       "      <td>Brown coal</td>\n",
       "      <td>4655.597</td>\n",
       "    </tr>\n",
       "    <tr>\n",
       "      <th>4</th>\n",
       "      <td>2018-01</td>\n",
       "      <td>Min</td>\n",
       "      <td>NEM</td>\n",
       "      <td>Distributed PV</td>\n",
       "      <td>0.000</td>\n",
       "    </tr>\n",
       "    <tr>\n",
       "      <th>...</th>\n",
       "      <td>...</td>\n",
       "      <td>...</td>\n",
       "      <td>...</td>\n",
       "      <td>...</td>\n",
       "      <td>...</td>\n",
       "    </tr>\n",
       "    <tr>\n",
       "      <th>1858</th>\n",
       "      <td>2025-08</td>\n",
       "      <td>Max</td>\n",
       "      <td>NEM</td>\n",
       "      <td>Gas</td>\n",
       "      <td>258.971</td>\n",
       "    </tr>\n",
       "    <tr>\n",
       "      <th>1859</th>\n",
       "      <td>2025-08</td>\n",
       "      <td>Max</td>\n",
       "      <td>NEM</td>\n",
       "      <td>Hydro</td>\n",
       "      <td>586.385</td>\n",
       "    </tr>\n",
       "    <tr>\n",
       "      <th>1860</th>\n",
       "      <td>2025-08</td>\n",
       "      <td>Max</td>\n",
       "      <td>NEM</td>\n",
       "      <td>Liquid Fuel</td>\n",
       "      <td>0.000</td>\n",
       "    </tr>\n",
       "    <tr>\n",
       "      <th>1861</th>\n",
       "      <td>2025-08</td>\n",
       "      <td>Max</td>\n",
       "      <td>NEM</td>\n",
       "      <td>Utility-scale Solar</td>\n",
       "      <td>5725.921</td>\n",
       "    </tr>\n",
       "    <tr>\n",
       "      <th>1862</th>\n",
       "      <td>2025-08</td>\n",
       "      <td>Max</td>\n",
       "      <td>NEM</td>\n",
       "      <td>Wind</td>\n",
       "      <td>3892.326</td>\n",
       "    </tr>\n",
       "  </tbody>\n",
       "</table>\n",
       "<p>1840 rows × 5 columns</p>\n",
       "</div>"
      ],
      "text/plain": [
       "     DateTime Max/Min State            Fuel Type     Supply\n",
       "0     2018-01     Min   NEM              Battery      0.000\n",
       "1     2018-01     Min   NEM              Biomass     10.233\n",
       "2     2018-01     Min   NEM           Black coal  10655.808\n",
       "3     2018-01     Min   NEM           Brown coal   4655.597\n",
       "4     2018-01     Min   NEM       Distributed PV      0.000\n",
       "...       ...     ...   ...                  ...        ...\n",
       "1858  2025-08     Max   NEM                  Gas    258.971\n",
       "1859  2025-08     Max   NEM                Hydro    586.385\n",
       "1860  2025-08     Max   NEM          Liquid Fuel      0.000\n",
       "1861  2025-08     Max   NEM  Utility-scale Solar   5725.921\n",
       "1862  2025-08     Max   NEM                 Wind   3892.326\n",
       "\n",
       "[1840 rows x 5 columns]"
      ]
     },
     "execution_count": 10,
     "metadata": {},
     "output_type": "execute_result"
    }
   ],
   "source": [
    "renewable_penetration = renewable_penetration[renewable_penetration['Fuel Type'] != 'Other']\n",
    "renewable_penetration"
   ]
  },
  {
   "cell_type": "markdown",
   "id": "8a58689f",
   "metadata": {},
   "source": [
    "The Supply column is the only column that has the correct format. Going to change the:\n",
    "- DateTime to a Date Object - as this will be a monthly average, min and max \n",
    "- FuelType to a category \n",
    "- Max/Min transposed into their own variables with a calculated monthly average"
   ]
  },
  {
   "cell_type": "markdown",
   "id": "57363289",
   "metadata": {},
   "source": [
    "Converting the Date Column"
   ]
  },
  {
   "cell_type": "code",
   "execution_count": 11,
   "id": "f6d84f3f",
   "metadata": {},
   "outputs": [],
   "source": [
    "# Converting the DateTime column\n",
    "renewable_penetration['DateTime'] = pd.to_datetime(renewable_penetration['DateTime'], format='mixed', dayfirst=True)\n",
    "renewable_penetration['DateTime'] = renewable_penetration['DateTime'].dt.strftime('%Y-%m')"
   ]
  },
  {
   "cell_type": "markdown",
   "id": "19a3b65b",
   "metadata": {},
   "source": [
    "### Creating the Groupby's to Calculate the Min, Max and Mean Supply Amounts"
   ]
  },
  {
   "cell_type": "code",
   "execution_count": 63,
   "id": "eb1ea686",
   "metadata": {},
   "outputs": [],
   "source": [
    "mean_supply = renewable_penetration.groupby(['Fuel Type', 'DateTime'])['Supply'].mean().reset_index()\n",
    "min_supply = renewable_penetration.groupby(['Fuel Type', 'DateTime'])['Supply'].min().reset_index()['Supply']\n",
    "max_supply = renewable_penetration.groupby(['Fuel Type', 'DateTime'])['Supply'].max().reset_index()['Supply']\n",
    "\n",
    "# Adding the min and max supplies to the mean supply groupby\n",
    "mean_supply['Min Supply (MW)'] = min_supply\n",
    "mean_supply['Max Supply (MW)'] = max_supply"
   ]
  },
  {
   "cell_type": "code",
   "execution_count": 65,
   "id": "dc5e92c9",
   "metadata": {},
   "outputs": [
    {
     "data": {
      "text/html": [
       "<div>\n",
       "<style scoped>\n",
       "    .dataframe tbody tr th:only-of-type {\n",
       "        vertical-align: middle;\n",
       "    }\n",
       "\n",
       "    .dataframe tbody tr th {\n",
       "        vertical-align: top;\n",
       "    }\n",
       "\n",
       "    .dataframe thead th {\n",
       "        text-align: right;\n",
       "    }\n",
       "</style>\n",
       "<table border=\"1\" class=\"dataframe\">\n",
       "  <thead>\n",
       "    <tr style=\"text-align: right;\">\n",
       "      <th></th>\n",
       "      <th>Fuel Type</th>\n",
       "      <th>Month</th>\n",
       "      <th>Mean Supply (MW)</th>\n",
       "      <th>Min Supply (MW)</th>\n",
       "      <th>Max Supply (MW)</th>\n",
       "    </tr>\n",
       "  </thead>\n",
       "  <tbody>\n",
       "    <tr>\n",
       "      <th>0</th>\n",
       "      <td>Battery</td>\n",
       "      <td>2018-01</td>\n",
       "      <td>0.2830</td>\n",
       "      <td>0.000</td>\n",
       "      <td>0.566</td>\n",
       "    </tr>\n",
       "    <tr>\n",
       "      <th>1</th>\n",
       "      <td>Battery</td>\n",
       "      <td>2018-02</td>\n",
       "      <td>0.6665</td>\n",
       "      <td>0.000</td>\n",
       "      <td>1.333</td>\n",
       "    </tr>\n",
       "    <tr>\n",
       "      <th>2</th>\n",
       "      <td>Battery</td>\n",
       "      <td>2018-03</td>\n",
       "      <td>2.8665</td>\n",
       "      <td>0.000</td>\n",
       "      <td>5.733</td>\n",
       "    </tr>\n",
       "    <tr>\n",
       "      <th>3</th>\n",
       "      <td>Battery</td>\n",
       "      <td>2018-04</td>\n",
       "      <td>4.8250</td>\n",
       "      <td>0.000</td>\n",
       "      <td>9.650</td>\n",
       "    </tr>\n",
       "    <tr>\n",
       "      <th>4</th>\n",
       "      <td>Battery</td>\n",
       "      <td>2018-05</td>\n",
       "      <td>3.0330</td>\n",
       "      <td>2.550</td>\n",
       "      <td>3.516</td>\n",
       "    </tr>\n",
       "    <tr>\n",
       "      <th>...</th>\n",
       "      <td>...</td>\n",
       "      <td>...</td>\n",
       "      <td>...</td>\n",
       "      <td>...</td>\n",
       "      <td>...</td>\n",
       "    </tr>\n",
       "    <tr>\n",
       "      <th>915</th>\n",
       "      <td>Wind</td>\n",
       "      <td>2025-04</td>\n",
       "      <td>2027.1265</td>\n",
       "      <td>1279.964</td>\n",
       "      <td>2774.289</td>\n",
       "    </tr>\n",
       "    <tr>\n",
       "      <th>916</th>\n",
       "      <td>Wind</td>\n",
       "      <td>2025-05</td>\n",
       "      <td>3007.9465</td>\n",
       "      <td>1232.864</td>\n",
       "      <td>4783.029</td>\n",
       "    </tr>\n",
       "    <tr>\n",
       "      <th>917</th>\n",
       "      <td>Wind</td>\n",
       "      <td>2025-06</td>\n",
       "      <td>3260.6030</td>\n",
       "      <td>1857.128</td>\n",
       "      <td>4664.078</td>\n",
       "    </tr>\n",
       "    <tr>\n",
       "      <th>918</th>\n",
       "      <td>Wind</td>\n",
       "      <td>2025-07</td>\n",
       "      <td>3395.3705</td>\n",
       "      <td>1422.093</td>\n",
       "      <td>5368.648</td>\n",
       "    </tr>\n",
       "    <tr>\n",
       "      <th>919</th>\n",
       "      <td>Wind</td>\n",
       "      <td>2025-08</td>\n",
       "      <td>2936.4945</td>\n",
       "      <td>1980.663</td>\n",
       "      <td>3892.326</td>\n",
       "    </tr>\n",
       "  </tbody>\n",
       "</table>\n",
       "<p>920 rows × 5 columns</p>\n",
       "</div>"
      ],
      "text/plain": [
       "    Fuel Type    Month  Mean Supply (MW)  Min Supply (MW)  Max Supply (MW)\n",
       "0     Battery  2018-01            0.2830            0.000            0.566\n",
       "1     Battery  2018-02            0.6665            0.000            1.333\n",
       "2     Battery  2018-03            2.8665            0.000            5.733\n",
       "3     Battery  2018-04            4.8250            0.000            9.650\n",
       "4     Battery  2018-05            3.0330            2.550            3.516\n",
       "..        ...      ...               ...              ...              ...\n",
       "915      Wind  2025-04         2027.1265         1279.964         2774.289\n",
       "916      Wind  2025-05         3007.9465         1232.864         4783.029\n",
       "917      Wind  2025-06         3260.6030         1857.128         4664.078\n",
       "918      Wind  2025-07         3395.3705         1422.093         5368.648\n",
       "919      Wind  2025-08         2936.4945         1980.663         3892.326\n",
       "\n",
       "[920 rows x 5 columns]"
      ]
     },
     "execution_count": 65,
     "metadata": {},
     "output_type": "execute_result"
    }
   ],
   "source": [
    "mean_supply.columns = ['Fuel Type', 'Month', 'Mean Supply (MW)', 'Min Supply (MW)', 'Max Supply (MW)']\n",
    "mean_supply"
   ]
  },
  {
   "cell_type": "markdown",
   "id": "96bfa124",
   "metadata": {},
   "source": [
    "Generating the new dataframe with the supplies, sorted by months"
   ]
  },
  {
   "cell_type": "code",
   "execution_count": 68,
   "id": "a11b2bb8",
   "metadata": {},
   "outputs": [
    {
     "data": {
      "text/html": [
       "<div>\n",
       "<style scoped>\n",
       "    .dataframe tbody tr th:only-of-type {\n",
       "        vertical-align: middle;\n",
       "    }\n",
       "\n",
       "    .dataframe tbody tr th {\n",
       "        vertical-align: top;\n",
       "    }\n",
       "\n",
       "    .dataframe thead th {\n",
       "        text-align: right;\n",
       "    }\n",
       "</style>\n",
       "<table border=\"1\" class=\"dataframe\">\n",
       "  <thead>\n",
       "    <tr style=\"text-align: right;\">\n",
       "      <th></th>\n",
       "      <th>Fuel Type</th>\n",
       "      <th>Month</th>\n",
       "      <th>Mean Supply (MW)</th>\n",
       "      <th>Min Supply (MW)</th>\n",
       "      <th>Max Supply (MW)</th>\n",
       "    </tr>\n",
       "  </thead>\n",
       "  <tbody>\n",
       "    <tr>\n",
       "      <th>0</th>\n",
       "      <td>Battery</td>\n",
       "      <td>2018-01</td>\n",
       "      <td>0.2830</td>\n",
       "      <td>0.000</td>\n",
       "      <td>0.566</td>\n",
       "    </tr>\n",
       "    <tr>\n",
       "      <th>1</th>\n",
       "      <td>Liquid Fuel</td>\n",
       "      <td>2018-01</td>\n",
       "      <td>0.0595</td>\n",
       "      <td>0.021</td>\n",
       "      <td>0.098</td>\n",
       "    </tr>\n",
       "    <tr>\n",
       "      <th>2</th>\n",
       "      <td>Black coal</td>\n",
       "      <td>2018-01</td>\n",
       "      <td>12383.7065</td>\n",
       "      <td>10655.808</td>\n",
       "      <td>14111.605</td>\n",
       "    </tr>\n",
       "    <tr>\n",
       "      <th>3</th>\n",
       "      <td>Hydro</td>\n",
       "      <td>2018-01</td>\n",
       "      <td>1122.2300</td>\n",
       "      <td>355.826</td>\n",
       "      <td>1888.634</td>\n",
       "    </tr>\n",
       "    <tr>\n",
       "      <th>4</th>\n",
       "      <td>Biomass</td>\n",
       "      <td>2018-01</td>\n",
       "      <td>12.3745</td>\n",
       "      <td>10.233</td>\n",
       "      <td>14.516</td>\n",
       "    </tr>\n",
       "    <tr>\n",
       "      <th>...</th>\n",
       "      <td>...</td>\n",
       "      <td>...</td>\n",
       "      <td>...</td>\n",
       "      <td>...</td>\n",
       "      <td>...</td>\n",
       "    </tr>\n",
       "    <tr>\n",
       "      <th>915</th>\n",
       "      <td>Black coal</td>\n",
       "      <td>2025-08</td>\n",
       "      <td>9114.7900</td>\n",
       "      <td>6399.196</td>\n",
       "      <td>11830.384</td>\n",
       "    </tr>\n",
       "    <tr>\n",
       "      <th>916</th>\n",
       "      <td>Biomass</td>\n",
       "      <td>2025-08</td>\n",
       "      <td>40.5620</td>\n",
       "      <td>35.100</td>\n",
       "      <td>46.024</td>\n",
       "    </tr>\n",
       "    <tr>\n",
       "      <th>917</th>\n",
       "      <td>Battery</td>\n",
       "      <td>2025-08</td>\n",
       "      <td>7.2425</td>\n",
       "      <td>2.324</td>\n",
       "      <td>12.161</td>\n",
       "    </tr>\n",
       "    <tr>\n",
       "      <th>918</th>\n",
       "      <td>Utility-scale Solar</td>\n",
       "      <td>2025-08</td>\n",
       "      <td>2863.1915</td>\n",
       "      <td>0.462</td>\n",
       "      <td>5725.921</td>\n",
       "    </tr>\n",
       "    <tr>\n",
       "      <th>919</th>\n",
       "      <td>Wind</td>\n",
       "      <td>2025-08</td>\n",
       "      <td>2936.4945</td>\n",
       "      <td>1980.663</td>\n",
       "      <td>3892.326</td>\n",
       "    </tr>\n",
       "  </tbody>\n",
       "</table>\n",
       "<p>920 rows × 5 columns</p>\n",
       "</div>"
      ],
      "text/plain": [
       "               Fuel Type    Month  Mean Supply (MW)  Min Supply (MW)  \\\n",
       "0                Battery  2018-01            0.2830            0.000   \n",
       "1            Liquid Fuel  2018-01            0.0595            0.021   \n",
       "2             Black coal  2018-01        12383.7065        10655.808   \n",
       "3                  Hydro  2018-01         1122.2300          355.826   \n",
       "4                Biomass  2018-01           12.3745           10.233   \n",
       "..                   ...      ...               ...              ...   \n",
       "915           Black coal  2025-08         9114.7900         6399.196   \n",
       "916              Biomass  2025-08           40.5620           35.100   \n",
       "917              Battery  2025-08            7.2425            2.324   \n",
       "918  Utility-scale Solar  2025-08         2863.1915            0.462   \n",
       "919                 Wind  2025-08         2936.4945         1980.663   \n",
       "\n",
       "     Max Supply (MW)  \n",
       "0              0.566  \n",
       "1              0.098  \n",
       "2          14111.605  \n",
       "3           1888.634  \n",
       "4             14.516  \n",
       "..               ...  \n",
       "915        11830.384  \n",
       "916           46.024  \n",
       "917           12.161  \n",
       "918         5725.921  \n",
       "919         3892.326  \n",
       "\n",
       "[920 rows x 5 columns]"
      ]
     },
     "execution_count": 68,
     "metadata": {},
     "output_type": "execute_result"
    }
   ],
   "source": [
    "supply_summary = mean_supply.sort_values(by = 'Month').reset_index(drop = True)\n",
    "supply_summary"
   ]
  },
  {
   "cell_type": "code",
   "execution_count": 72,
   "id": "3742a0cb",
   "metadata": {},
   "outputs": [],
   "source": [
    "battery_summary = supply_summary[supply_summary['Fuel Type'] == 'Battery']"
   ]
  },
  {
   "cell_type": "code",
   "execution_count": 76,
   "id": "e3200631",
   "metadata": {},
   "outputs": [
    {
     "data": {
      "text/html": [
       "<div>\n",
       "<style scoped>\n",
       "    .dataframe tbody tr th:only-of-type {\n",
       "        vertical-align: middle;\n",
       "    }\n",
       "\n",
       "    .dataframe tbody tr th {\n",
       "        vertical-align: top;\n",
       "    }\n",
       "\n",
       "    .dataframe thead th {\n",
       "        text-align: right;\n",
       "    }\n",
       "</style>\n",
       "<table border=\"1\" class=\"dataframe\">\n",
       "  <thead>\n",
       "    <tr style=\"text-align: right;\">\n",
       "      <th></th>\n",
       "      <th>Fuel Type</th>\n",
       "      <th>Month</th>\n",
       "      <th>Mean Supply (MW)</th>\n",
       "      <th>Min Supply (MW)</th>\n",
       "      <th>Max Supply (MW)</th>\n",
       "    </tr>\n",
       "  </thead>\n",
       "  <tbody>\n",
       "    <tr>\n",
       "      <th>0</th>\n",
       "      <td>Battery</td>\n",
       "      <td>2018-01</td>\n",
       "      <td>0.2830</td>\n",
       "      <td>0.000</td>\n",
       "      <td>0.566</td>\n",
       "    </tr>\n",
       "    <tr>\n",
       "      <th>1</th>\n",
       "      <td>Liquid Fuel</td>\n",
       "      <td>2018-01</td>\n",
       "      <td>0.0595</td>\n",
       "      <td>0.021</td>\n",
       "      <td>0.098</td>\n",
       "    </tr>\n",
       "    <tr>\n",
       "      <th>2</th>\n",
       "      <td>Black coal</td>\n",
       "      <td>2018-01</td>\n",
       "      <td>12383.7065</td>\n",
       "      <td>10655.808</td>\n",
       "      <td>14111.605</td>\n",
       "    </tr>\n",
       "    <tr>\n",
       "      <th>3</th>\n",
       "      <td>Hydro</td>\n",
       "      <td>2018-01</td>\n",
       "      <td>1122.2300</td>\n",
       "      <td>355.826</td>\n",
       "      <td>1888.634</td>\n",
       "    </tr>\n",
       "    <tr>\n",
       "      <th>4</th>\n",
       "      <td>Biomass</td>\n",
       "      <td>2018-01</td>\n",
       "      <td>12.3745</td>\n",
       "      <td>10.233</td>\n",
       "      <td>14.516</td>\n",
       "    </tr>\n",
       "    <tr>\n",
       "      <th>5</th>\n",
       "      <td>Wind</td>\n",
       "      <td>2018-01</td>\n",
       "      <td>1715.5270</td>\n",
       "      <td>566.570</td>\n",
       "      <td>2864.484</td>\n",
       "    </tr>\n",
       "    <tr>\n",
       "      <th>6</th>\n",
       "      <td>Brown coal</td>\n",
       "      <td>2018-01</td>\n",
       "      <td>4597.9545</td>\n",
       "      <td>4540.312</td>\n",
       "      <td>4655.597</td>\n",
       "    </tr>\n",
       "    <tr>\n",
       "      <th>7</th>\n",
       "      <td>Gas</td>\n",
       "      <td>2018-01</td>\n",
       "      <td>1712.7820</td>\n",
       "      <td>1517.622</td>\n",
       "      <td>1907.942</td>\n",
       "    </tr>\n",
       "    <tr>\n",
       "      <th>8</th>\n",
       "      <td>Distributed PV</td>\n",
       "      <td>2018-01</td>\n",
       "      <td>1938.2870</td>\n",
       "      <td>0.000</td>\n",
       "      <td>3876.574</td>\n",
       "    </tr>\n",
       "    <tr>\n",
       "      <th>9</th>\n",
       "      <td>Utility-scale Solar</td>\n",
       "      <td>2018-01</td>\n",
       "      <td>134.7040</td>\n",
       "      <td>2.204</td>\n",
       "      <td>267.204</td>\n",
       "    </tr>\n",
       "  </tbody>\n",
       "</table>\n",
       "</div>"
      ],
      "text/plain": [
       "             Fuel Type    Month  Mean Supply (MW)  Min Supply (MW)  \\\n",
       "0              Battery  2018-01            0.2830            0.000   \n",
       "1          Liquid Fuel  2018-01            0.0595            0.021   \n",
       "2           Black coal  2018-01        12383.7065        10655.808   \n",
       "3                Hydro  2018-01         1122.2300          355.826   \n",
       "4              Biomass  2018-01           12.3745           10.233   \n",
       "5                 Wind  2018-01         1715.5270          566.570   \n",
       "6           Brown coal  2018-01         4597.9545         4540.312   \n",
       "7                  Gas  2018-01         1712.7820         1517.622   \n",
       "8       Distributed PV  2018-01         1938.2870            0.000   \n",
       "9  Utility-scale Solar  2018-01          134.7040            2.204   \n",
       "\n",
       "   Max Supply (MW)  \n",
       "0            0.566  \n",
       "1            0.098  \n",
       "2        14111.605  \n",
       "3         1888.634  \n",
       "4           14.516  \n",
       "5         2864.484  \n",
       "6         4655.597  \n",
       "7         1907.942  \n",
       "8         3876.574  \n",
       "9          267.204  "
      ]
     },
     "execution_count": 76,
     "metadata": {},
     "output_type": "execute_result"
    }
   ],
   "source": [
    "supply_summary[supply_summary['Month'] == '2018-01']"
   ]
  },
  {
   "cell_type": "code",
   "execution_count": 243,
   "id": "29a5befa",
   "metadata": {},
   "outputs": [
    {
     "data": {
      "text/plain": [
       "array(['Battery', 'Wind', 'Utility-scale Solar', 'Liquid Fuel', 'Hydro',\n",
       "       'Distributed PV', 'Brown coal', 'Black coal', 'Biomass', 'Gas'],\n",
       "      dtype=object)"
      ]
     },
     "execution_count": 243,
     "metadata": {},
     "output_type": "execute_result"
    }
   ],
   "source": [
    "supply_summary['Fuel Type'].unique()"
   ]
  },
  {
   "cell_type": "code",
   "execution_count": 80,
   "id": "5361365f",
   "metadata": {},
   "outputs": [],
   "source": [
    "mean_supply_amounts = supply_summary.groupby(['Month'])['Mean Supply (MW)'].sum().reset_index()['Mean Supply (MW)']"
   ]
  },
  {
   "cell_type": "markdown",
   "id": "8e280c2e",
   "metadata": {},
   "source": [
    "### Creating a DataFrame to split Renewables and Non-Renewables"
   ]
  },
  {
   "cell_type": "code",
   "execution_count": 263,
   "id": "dc6da091",
   "metadata": {},
   "outputs": [],
   "source": [
    "non_renewables = ['Liquid Fuel', 'Brown coal', 'Black coal', 'Gas']\n",
    "\n",
    "renewables = supply_summary['Fuel Type'].unique().tolist()\n",
    "\n",
    "for fuel in non_renewables:\n",
    "    renewables.remove(fuel)\n",
    "\n",
    "renewables_df = supply_summary[supply_summary['Fuel Type'].isin(renewables)].reset_index(drop = True)\n",
    "non_renewables_df = supply_summary[supply_summary['Fuel Type'].isin(non_renewables)].reset_index(drop = True)"
   ]
  },
  {
   "cell_type": "code",
   "execution_count": 264,
   "id": "03af824e",
   "metadata": {},
   "outputs": [
    {
     "data": {
      "text/html": [
       "<div>\n",
       "<style scoped>\n",
       "    .dataframe tbody tr th:only-of-type {\n",
       "        vertical-align: middle;\n",
       "    }\n",
       "\n",
       "    .dataframe tbody tr th {\n",
       "        vertical-align: top;\n",
       "    }\n",
       "\n",
       "    .dataframe thead th {\n",
       "        text-align: right;\n",
       "    }\n",
       "</style>\n",
       "<table border=\"1\" class=\"dataframe\">\n",
       "  <thead>\n",
       "    <tr style=\"text-align: right;\">\n",
       "      <th></th>\n",
       "      <th>Fuel Type</th>\n",
       "      <th>Month</th>\n",
       "      <th>Mean Supply (MW)</th>\n",
       "      <th>Min Supply (MW)</th>\n",
       "      <th>Max Supply (MW)</th>\n",
       "    </tr>\n",
       "  </thead>\n",
       "  <tbody>\n",
       "    <tr>\n",
       "      <th>0</th>\n",
       "      <td>Battery</td>\n",
       "      <td>2018-01</td>\n",
       "      <td>0.2830</td>\n",
       "      <td>0.000</td>\n",
       "      <td>0.566</td>\n",
       "    </tr>\n",
       "    <tr>\n",
       "      <th>1</th>\n",
       "      <td>Wind</td>\n",
       "      <td>2018-01</td>\n",
       "      <td>1715.5270</td>\n",
       "      <td>566.570</td>\n",
       "      <td>2864.484</td>\n",
       "    </tr>\n",
       "    <tr>\n",
       "      <th>2</th>\n",
       "      <td>Utility-scale Solar</td>\n",
       "      <td>2018-01</td>\n",
       "      <td>134.7040</td>\n",
       "      <td>2.204</td>\n",
       "      <td>267.204</td>\n",
       "    </tr>\n",
       "    <tr>\n",
       "      <th>3</th>\n",
       "      <td>Hydro</td>\n",
       "      <td>2018-01</td>\n",
       "      <td>1122.2300</td>\n",
       "      <td>355.826</td>\n",
       "      <td>1888.634</td>\n",
       "    </tr>\n",
       "    <tr>\n",
       "      <th>4</th>\n",
       "      <td>Distributed PV</td>\n",
       "      <td>2018-01</td>\n",
       "      <td>1938.2870</td>\n",
       "      <td>0.000</td>\n",
       "      <td>3876.574</td>\n",
       "    </tr>\n",
       "    <tr>\n",
       "      <th>...</th>\n",
       "      <td>...</td>\n",
       "      <td>...</td>\n",
       "      <td>...</td>\n",
       "      <td>...</td>\n",
       "      <td>...</td>\n",
       "    </tr>\n",
       "    <tr>\n",
       "      <th>546</th>\n",
       "      <td>Battery</td>\n",
       "      <td>2025-08</td>\n",
       "      <td>7.2425</td>\n",
       "      <td>2.324</td>\n",
       "      <td>12.161</td>\n",
       "    </tr>\n",
       "    <tr>\n",
       "      <th>547</th>\n",
       "      <td>Utility-scale Solar</td>\n",
       "      <td>2025-08</td>\n",
       "      <td>2863.1915</td>\n",
       "      <td>0.462</td>\n",
       "      <td>5725.921</td>\n",
       "    </tr>\n",
       "    <tr>\n",
       "      <th>548</th>\n",
       "      <td>Hydro</td>\n",
       "      <td>2025-08</td>\n",
       "      <td>1224.0985</td>\n",
       "      <td>586.385</td>\n",
       "      <td>1861.812</td>\n",
       "    </tr>\n",
       "    <tr>\n",
       "      <th>549</th>\n",
       "      <td>Distributed PV</td>\n",
       "      <td>2025-08</td>\n",
       "      <td>5037.2530</td>\n",
       "      <td>0.000</td>\n",
       "      <td>10074.506</td>\n",
       "    </tr>\n",
       "    <tr>\n",
       "      <th>550</th>\n",
       "      <td>Wind</td>\n",
       "      <td>2025-08</td>\n",
       "      <td>2936.4945</td>\n",
       "      <td>1980.663</td>\n",
       "      <td>3892.326</td>\n",
       "    </tr>\n",
       "  </tbody>\n",
       "</table>\n",
       "<p>551 rows × 5 columns</p>\n",
       "</div>"
      ],
      "text/plain": [
       "               Fuel Type    Month  Mean Supply (MW)  Min Supply (MW)  \\\n",
       "0                Battery  2018-01            0.2830            0.000   \n",
       "1                   Wind  2018-01         1715.5270          566.570   \n",
       "2    Utility-scale Solar  2018-01          134.7040            2.204   \n",
       "3                  Hydro  2018-01         1122.2300          355.826   \n",
       "4         Distributed PV  2018-01         1938.2870            0.000   \n",
       "..                   ...      ...               ...              ...   \n",
       "546              Battery  2025-08            7.2425            2.324   \n",
       "547  Utility-scale Solar  2025-08         2863.1915            0.462   \n",
       "548                Hydro  2025-08         1224.0985          586.385   \n",
       "549       Distributed PV  2025-08         5037.2530            0.000   \n",
       "550                 Wind  2025-08         2936.4945         1980.663   \n",
       "\n",
       "     Max Supply (MW)  \n",
       "0              0.566  \n",
       "1           2864.484  \n",
       "2            267.204  \n",
       "3           1888.634  \n",
       "4           3876.574  \n",
       "..               ...  \n",
       "546           12.161  \n",
       "547         5725.921  \n",
       "548         1861.812  \n",
       "549        10074.506  \n",
       "550         3892.326  \n",
       "\n",
       "[551 rows x 5 columns]"
      ]
     },
     "execution_count": 264,
     "metadata": {},
     "output_type": "execute_result"
    }
   ],
   "source": [
    "renewables_df"
   ]
  },
  {
   "cell_type": "code",
   "execution_count": null,
   "id": "08e0762a",
   "metadata": {},
   "outputs": [
    {
     "data": {
      "text/html": [
       "<div>\n",
       "<style scoped>\n",
       "    .dataframe tbody tr th:only-of-type {\n",
       "        vertical-align: middle;\n",
       "    }\n",
       "\n",
       "    .dataframe tbody tr th {\n",
       "        vertical-align: top;\n",
       "    }\n",
       "\n",
       "    .dataframe thead th {\n",
       "        text-align: right;\n",
       "    }\n",
       "</style>\n",
       "<table border=\"1\" class=\"dataframe\">\n",
       "  <thead>\n",
       "    <tr style=\"text-align: right;\">\n",
       "      <th></th>\n",
       "      <th>Fuel Type</th>\n",
       "      <th>Month</th>\n",
       "      <th>Mean Supply (MW)</th>\n",
       "      <th>Min Supply (MW)</th>\n",
       "      <th>Max Supply (MW)</th>\n",
       "    </tr>\n",
       "  </thead>\n",
       "  <tbody>\n",
       "    <tr>\n",
       "      <th>0</th>\n",
       "      <td>Battery</td>\n",
       "      <td>2018-01</td>\n",
       "      <td>0.2830</td>\n",
       "      <td>0.000</td>\n",
       "      <td>0.566</td>\n",
       "    </tr>\n",
       "    <tr>\n",
       "      <th>1</th>\n",
       "      <td>Wind</td>\n",
       "      <td>2018-01</td>\n",
       "      <td>1715.5270</td>\n",
       "      <td>566.570</td>\n",
       "      <td>2864.484</td>\n",
       "    </tr>\n",
       "    <tr>\n",
       "      <th>2</th>\n",
       "      <td>Utility-scale Solar</td>\n",
       "      <td>2018-01</td>\n",
       "      <td>134.7040</td>\n",
       "      <td>2.204</td>\n",
       "      <td>267.204</td>\n",
       "    </tr>\n",
       "    <tr>\n",
       "      <th>3</th>\n",
       "      <td>Hydro</td>\n",
       "      <td>2018-01</td>\n",
       "      <td>1122.2300</td>\n",
       "      <td>355.826</td>\n",
       "      <td>1888.634</td>\n",
       "    </tr>\n",
       "    <tr>\n",
       "      <th>4</th>\n",
       "      <td>Distributed PV</td>\n",
       "      <td>2018-01</td>\n",
       "      <td>1938.2870</td>\n",
       "      <td>0.000</td>\n",
       "      <td>3876.574</td>\n",
       "    </tr>\n",
       "    <tr>\n",
       "      <th>5</th>\n",
       "      <td>Biomass</td>\n",
       "      <td>2018-01</td>\n",
       "      <td>12.3745</td>\n",
       "      <td>10.233</td>\n",
       "      <td>14.516</td>\n",
       "    </tr>\n",
       "    <tr>\n",
       "      <th>6</th>\n",
       "      <td>Hydro</td>\n",
       "      <td>2018-02</td>\n",
       "      <td>554.1920</td>\n",
       "      <td>554.192</td>\n",
       "      <td>554.192</td>\n",
       "    </tr>\n",
       "  </tbody>\n",
       "</table>\n",
       "</div>"
      ],
      "text/plain": [
       "             Fuel Type    Month  Mean Supply (MW)  Min Supply (MW)  \\\n",
       "0              Battery  2018-01            0.2830            0.000   \n",
       "1                 Wind  2018-01         1715.5270          566.570   \n",
       "2  Utility-scale Solar  2018-01          134.7040            2.204   \n",
       "3                Hydro  2018-01         1122.2300          355.826   \n",
       "4       Distributed PV  2018-01         1938.2870            0.000   \n",
       "5              Biomass  2018-01           12.3745           10.233   \n",
       "6                Hydro  2018-02          554.1920          554.192   \n",
       "\n",
       "   Max Supply (MW)  \n",
       "0            0.566  \n",
       "1         2864.484  \n",
       "2          267.204  \n",
       "3         1888.634  \n",
       "4         3876.574  \n",
       "5           14.516  \n",
       "6          554.192  "
      ]
     },
     "execution_count": 267,
     "metadata": {},
     "output_type": "execute_result"
    }
   ],
   "source": [
    "renewables_df[0:7]"
   ]
  },
  {
   "cell_type": "markdown",
   "id": "2801307e",
   "metadata": {},
   "source": [
    "### Creating a DataFrame to Aggregate the Mean Supplies of all Fuel Sources\n",
    "Then plot the total mean supply over time"
   ]
  },
  {
   "cell_type": "code",
   "execution_count": 270,
   "id": "50eeff35",
   "metadata": {},
   "outputs": [
    {
     "data": {
      "text/html": [
       "<div>\n",
       "<style scoped>\n",
       "    .dataframe tbody tr th:only-of-type {\n",
       "        vertical-align: middle;\n",
       "    }\n",
       "\n",
       "    .dataframe tbody tr th {\n",
       "        vertical-align: top;\n",
       "    }\n",
       "\n",
       "    .dataframe thead th {\n",
       "        text-align: right;\n",
       "    }\n",
       "</style>\n",
       "<table border=\"1\" class=\"dataframe\">\n",
       "  <thead>\n",
       "    <tr style=\"text-align: right;\">\n",
       "      <th></th>\n",
       "      <th>Month</th>\n",
       "      <th>Mean Supply (MW)</th>\n",
       "    </tr>\n",
       "  </thead>\n",
       "  <tbody>\n",
       "    <tr>\n",
       "      <th>0</th>\n",
       "      <td>2018-01</td>\n",
       "      <td>4923.4055</td>\n",
       "    </tr>\n",
       "    <tr>\n",
       "      <th>1</th>\n",
       "      <td>2018-02</td>\n",
       "      <td>995.1190</td>\n",
       "    </tr>\n",
       "    <tr>\n",
       "      <th>2</th>\n",
       "      <td>2018-03</td>\n",
       "      <td>4460.9820</td>\n",
       "    </tr>\n",
       "    <tr>\n",
       "      <th>3</th>\n",
       "      <td>2018-04</td>\n",
       "      <td>4512.6620</td>\n",
       "    </tr>\n",
       "    <tr>\n",
       "      <th>4</th>\n",
       "      <td>2018-05</td>\n",
       "      <td>4857.1565</td>\n",
       "    </tr>\n",
       "    <tr>\n",
       "      <th>...</th>\n",
       "      <td>...</td>\n",
       "      <td>...</td>\n",
       "    </tr>\n",
       "    <tr>\n",
       "      <th>87</th>\n",
       "      <td>2025-04</td>\n",
       "      <td>10536.8795</td>\n",
       "    </tr>\n",
       "    <tr>\n",
       "      <th>88</th>\n",
       "      <td>2025-05</td>\n",
       "      <td>10704.8115</td>\n",
       "    </tr>\n",
       "    <tr>\n",
       "      <th>89</th>\n",
       "      <td>2025-06</td>\n",
       "      <td>11253.8470</td>\n",
       "    </tr>\n",
       "    <tr>\n",
       "      <th>90</th>\n",
       "      <td>2025-07</td>\n",
       "      <td>12593.5200</td>\n",
       "    </tr>\n",
       "    <tr>\n",
       "      <th>91</th>\n",
       "      <td>2025-08</td>\n",
       "      <td>12108.8420</td>\n",
       "    </tr>\n",
       "  </tbody>\n",
       "</table>\n",
       "<p>92 rows × 2 columns</p>\n",
       "</div>"
      ],
      "text/plain": [
       "      Month  Mean Supply (MW)\n",
       "0   2018-01         4923.4055\n",
       "1   2018-02          995.1190\n",
       "2   2018-03         4460.9820\n",
       "3   2018-04         4512.6620\n",
       "4   2018-05         4857.1565\n",
       "..      ...               ...\n",
       "87  2025-04        10536.8795\n",
       "88  2025-05        10704.8115\n",
       "89  2025-06        11253.8470\n",
       "90  2025-07        12593.5200\n",
       "91  2025-08        12108.8420\n",
       "\n",
       "[92 rows x 2 columns]"
      ]
     },
     "execution_count": 270,
     "metadata": {},
     "output_type": "execute_result"
    }
   ],
   "source": [
    "renewables_supply = renewables_df.groupby(['Month'])['Mean Supply (MW)'].sum().reset_index()\n",
    "renewables_supply"
   ]
  },
  {
   "cell_type": "code",
   "execution_count": 272,
   "id": "b12b13af",
   "metadata": {},
   "outputs": [
    {
     "data": {
      "text/html": [
       "<div>\n",
       "<style scoped>\n",
       "    .dataframe tbody tr th:only-of-type {\n",
       "        vertical-align: middle;\n",
       "    }\n",
       "\n",
       "    .dataframe tbody tr th {\n",
       "        vertical-align: top;\n",
       "    }\n",
       "\n",
       "    .dataframe thead th {\n",
       "        text-align: right;\n",
       "    }\n",
       "</style>\n",
       "<table border=\"1\" class=\"dataframe\">\n",
       "  <thead>\n",
       "    <tr style=\"text-align: right;\">\n",
       "      <th></th>\n",
       "      <th>Month</th>\n",
       "      <th>Mean Supply (MW)</th>\n",
       "    </tr>\n",
       "  </thead>\n",
       "  <tbody>\n",
       "    <tr>\n",
       "      <th>0</th>\n",
       "      <td>2018-01</td>\n",
       "      <td>18694.5025</td>\n",
       "    </tr>\n",
       "    <tr>\n",
       "      <th>1</th>\n",
       "      <td>2018-02</td>\n",
       "      <td>18519.9090</td>\n",
       "    </tr>\n",
       "    <tr>\n",
       "      <th>2</th>\n",
       "      <td>2018-03</td>\n",
       "      <td>17066.9565</td>\n",
       "    </tr>\n",
       "    <tr>\n",
       "      <th>3</th>\n",
       "      <td>2018-04</td>\n",
       "      <td>16415.0150</td>\n",
       "    </tr>\n",
       "    <tr>\n",
       "      <th>4</th>\n",
       "      <td>2018-05</td>\n",
       "      <td>17820.6030</td>\n",
       "    </tr>\n",
       "    <tr>\n",
       "      <th>...</th>\n",
       "      <td>...</td>\n",
       "      <td>...</td>\n",
       "    </tr>\n",
       "    <tr>\n",
       "      <th>87</th>\n",
       "      <td>2025-04</td>\n",
       "      <td>12175.0755</td>\n",
       "    </tr>\n",
       "    <tr>\n",
       "      <th>88</th>\n",
       "      <td>2025-05</td>\n",
       "      <td>12536.7005</td>\n",
       "    </tr>\n",
       "    <tr>\n",
       "      <th>89</th>\n",
       "      <td>2025-06</td>\n",
       "      <td>13385.9000</td>\n",
       "    </tr>\n",
       "    <tr>\n",
       "      <th>90</th>\n",
       "      <td>2025-07</td>\n",
       "      <td>15253.6980</td>\n",
       "    </tr>\n",
       "    <tr>\n",
       "      <th>91</th>\n",
       "      <td>2025-08</td>\n",
       "      <td>13680.8645</td>\n",
       "    </tr>\n",
       "  </tbody>\n",
       "</table>\n",
       "<p>92 rows × 2 columns</p>\n",
       "</div>"
      ],
      "text/plain": [
       "      Month  Mean Supply (MW)\n",
       "0   2018-01        18694.5025\n",
       "1   2018-02        18519.9090\n",
       "2   2018-03        17066.9565\n",
       "3   2018-04        16415.0150\n",
       "4   2018-05        17820.6030\n",
       "..      ...               ...\n",
       "87  2025-04        12175.0755\n",
       "88  2025-05        12536.7005\n",
       "89  2025-06        13385.9000\n",
       "90  2025-07        15253.6980\n",
       "91  2025-08        13680.8645\n",
       "\n",
       "[92 rows x 2 columns]"
      ]
     },
     "execution_count": 272,
     "metadata": {},
     "output_type": "execute_result"
    }
   ],
   "source": [
    "non_renewables_supply = non_renewables_df.groupby(['Month'])['Mean Supply (MW)'].sum().reset_index()\n",
    "non_renewables_supply"
   ]
  },
  {
   "cell_type": "code",
   "execution_count": 275,
   "id": "ac828c79",
   "metadata": {},
   "outputs": [
    {
     "data": {
      "text/html": [
       "<div>\n",
       "<style scoped>\n",
       "    .dataframe tbody tr th:only-of-type {\n",
       "        vertical-align: middle;\n",
       "    }\n",
       "\n",
       "    .dataframe tbody tr th {\n",
       "        vertical-align: top;\n",
       "    }\n",
       "\n",
       "    .dataframe thead th {\n",
       "        text-align: right;\n",
       "    }\n",
       "</style>\n",
       "<table border=\"1\" class=\"dataframe\">\n",
       "  <thead>\n",
       "    <tr style=\"text-align: right;\">\n",
       "      <th></th>\n",
       "      <th>Month</th>\n",
       "      <th>Mean Supply (MW) Renewables</th>\n",
       "      <th>Mean Supply (MW) Non Renewables</th>\n",
       "    </tr>\n",
       "  </thead>\n",
       "  <tbody>\n",
       "    <tr>\n",
       "      <th>0</th>\n",
       "      <td>2018-01</td>\n",
       "      <td>4923.4055</td>\n",
       "      <td>18694.5025</td>\n",
       "    </tr>\n",
       "    <tr>\n",
       "      <th>1</th>\n",
       "      <td>2018-02</td>\n",
       "      <td>995.1190</td>\n",
       "      <td>18519.9090</td>\n",
       "    </tr>\n",
       "    <tr>\n",
       "      <th>2</th>\n",
       "      <td>2018-03</td>\n",
       "      <td>4460.9820</td>\n",
       "      <td>17066.9565</td>\n",
       "    </tr>\n",
       "    <tr>\n",
       "      <th>3</th>\n",
       "      <td>2018-04</td>\n",
       "      <td>4512.6620</td>\n",
       "      <td>16415.0150</td>\n",
       "    </tr>\n",
       "    <tr>\n",
       "      <th>4</th>\n",
       "      <td>2018-05</td>\n",
       "      <td>4857.1565</td>\n",
       "      <td>17820.6030</td>\n",
       "    </tr>\n",
       "    <tr>\n",
       "      <th>...</th>\n",
       "      <td>...</td>\n",
       "      <td>...</td>\n",
       "      <td>...</td>\n",
       "    </tr>\n",
       "    <tr>\n",
       "      <th>87</th>\n",
       "      <td>2025-04</td>\n",
       "      <td>10536.8795</td>\n",
       "      <td>12175.0755</td>\n",
       "    </tr>\n",
       "    <tr>\n",
       "      <th>88</th>\n",
       "      <td>2025-05</td>\n",
       "      <td>10704.8115</td>\n",
       "      <td>12536.7005</td>\n",
       "    </tr>\n",
       "    <tr>\n",
       "      <th>89</th>\n",
       "      <td>2025-06</td>\n",
       "      <td>11253.8470</td>\n",
       "      <td>13385.9000</td>\n",
       "    </tr>\n",
       "    <tr>\n",
       "      <th>90</th>\n",
       "      <td>2025-07</td>\n",
       "      <td>12593.5200</td>\n",
       "      <td>15253.6980</td>\n",
       "    </tr>\n",
       "    <tr>\n",
       "      <th>91</th>\n",
       "      <td>2025-08</td>\n",
       "      <td>12108.8420</td>\n",
       "      <td>13680.8645</td>\n",
       "    </tr>\n",
       "  </tbody>\n",
       "</table>\n",
       "<p>92 rows × 3 columns</p>\n",
       "</div>"
      ],
      "text/plain": [
       "      Month  Mean Supply (MW) Renewables  Mean Supply (MW) Non Renewables\n",
       "0   2018-01                    4923.4055                       18694.5025\n",
       "1   2018-02                     995.1190                       18519.9090\n",
       "2   2018-03                    4460.9820                       17066.9565\n",
       "3   2018-04                    4512.6620                       16415.0150\n",
       "4   2018-05                    4857.1565                       17820.6030\n",
       "..      ...                          ...                              ...\n",
       "87  2025-04                   10536.8795                       12175.0755\n",
       "88  2025-05                   10704.8115                       12536.7005\n",
       "89  2025-06                   11253.8470                       13385.9000\n",
       "90  2025-07                   12593.5200                       15253.6980\n",
       "91  2025-08                   12108.8420                       13680.8645\n",
       "\n",
       "[92 rows x 3 columns]"
      ]
     },
     "execution_count": 275,
     "metadata": {},
     "output_type": "execute_result"
    }
   ],
   "source": [
    "total_supply_df = pd.merge(renewables_supply, non_renewables_supply, on='Month', suffixes=(' Renewables', ' Non Renewables'))\n",
    "total_supply_df"
   ]
  },
  {
   "cell_type": "markdown",
   "id": "4743e765",
   "metadata": {},
   "source": [
    "### Generating the Plots for the Total Fuel Source Renewables/Non-Renewables"
   ]
  },
  {
   "cell_type": "code",
   "execution_count": 281,
   "id": "58f7ff4b",
   "metadata": {},
   "outputs": [
    {
     "ename": "ValueError",
     "evalue": "Mime type rendering requires nbformat>=4.2.0 but it is not installed",
     "output_type": "error",
     "traceback": [
      "\u001b[31m---------------------------------------------------------------------------\u001b[39m",
      "\u001b[31mValueError\u001b[39m                                Traceback (most recent call last)",
      "\u001b[36mFile \u001b[39m\u001b[32m~/Documents/GitHub/IFN695-Codebase/ifn695_venv/lib/python3.12/site-packages/IPython/core/formatters.py:984\u001b[39m, in \u001b[36mIPythonDisplayFormatter.__call__\u001b[39m\u001b[34m(self, obj)\u001b[39m\n\u001b[32m    982\u001b[39m method = get_real_method(obj, \u001b[38;5;28mself\u001b[39m.print_method)\n\u001b[32m    983\u001b[39m \u001b[38;5;28;01mif\u001b[39;00m method \u001b[38;5;129;01mis\u001b[39;00m \u001b[38;5;129;01mnot\u001b[39;00m \u001b[38;5;28;01mNone\u001b[39;00m:\n\u001b[32m--> \u001b[39m\u001b[32m984\u001b[39m     \u001b[43mmethod\u001b[49m\u001b[43m(\u001b[49m\u001b[43m)\u001b[49m\n\u001b[32m    985\u001b[39m     \u001b[38;5;28;01mreturn\u001b[39;00m \u001b[38;5;28;01mTrue\u001b[39;00m\n",
      "\u001b[36mFile \u001b[39m\u001b[32m~/Documents/GitHub/IFN695-Codebase/ifn695_venv/lib/python3.12/site-packages/plotly/basedatatypes.py:850\u001b[39m, in \u001b[36mBaseFigure._ipython_display_\u001b[39m\u001b[34m(self)\u001b[39m\n\u001b[32m    847\u001b[39m \u001b[38;5;28;01mimport\u001b[39;00m\u001b[38;5;250m \u001b[39m\u001b[34;01mplotly\u001b[39;00m\u001b[34;01m.\u001b[39;00m\u001b[34;01mio\u001b[39;00m\u001b[38;5;250m \u001b[39m\u001b[38;5;28;01mas\u001b[39;00m\u001b[38;5;250m \u001b[39m\u001b[34;01mpio\u001b[39;00m\n\u001b[32m    849\u001b[39m \u001b[38;5;28;01mif\u001b[39;00m pio.renderers.render_on_display \u001b[38;5;129;01mand\u001b[39;00m pio.renderers.default:\n\u001b[32m--> \u001b[39m\u001b[32m850\u001b[39m     \u001b[43mpio\u001b[49m\u001b[43m.\u001b[49m\u001b[43mshow\u001b[49m\u001b[43m(\u001b[49m\u001b[38;5;28;43mself\u001b[39;49m\u001b[43m)\u001b[49m\n\u001b[32m    851\u001b[39m \u001b[38;5;28;01melse\u001b[39;00m:\n\u001b[32m    852\u001b[39m     \u001b[38;5;28mprint\u001b[39m(\u001b[38;5;28mrepr\u001b[39m(\u001b[38;5;28mself\u001b[39m))\n",
      "\u001b[36mFile \u001b[39m\u001b[32m~/Documents/GitHub/IFN695-Codebase/ifn695_venv/lib/python3.12/site-packages/plotly/io/_renderers.py:415\u001b[39m, in \u001b[36mshow\u001b[39m\u001b[34m(fig, renderer, validate, **kwargs)\u001b[39m\n\u001b[32m    410\u001b[39m     \u001b[38;5;28;01mraise\u001b[39;00m \u001b[38;5;167;01mValueError\u001b[39;00m(\n\u001b[32m    411\u001b[39m         \u001b[33m\"\u001b[39m\u001b[33mMime type rendering requires ipython but it is not installed\u001b[39m\u001b[33m\"\u001b[39m\n\u001b[32m    412\u001b[39m     )\n\u001b[32m    414\u001b[39m \u001b[38;5;28;01mif\u001b[39;00m \u001b[38;5;129;01mnot\u001b[39;00m nbformat \u001b[38;5;129;01mor\u001b[39;00m Version(nbformat.__version__) < Version(\u001b[33m\"\u001b[39m\u001b[33m4.2.0\u001b[39m\u001b[33m\"\u001b[39m):\n\u001b[32m--> \u001b[39m\u001b[32m415\u001b[39m     \u001b[38;5;28;01mraise\u001b[39;00m \u001b[38;5;167;01mValueError\u001b[39;00m(\n\u001b[32m    416\u001b[39m         \u001b[33m\"\u001b[39m\u001b[33mMime type rendering requires nbformat>=4.2.0 but it is not installed\u001b[39m\u001b[33m\"\u001b[39m\n\u001b[32m    417\u001b[39m     )\n\u001b[32m    419\u001b[39m display_jupyter_version_warnings()\n\u001b[32m    421\u001b[39m ipython_display.display(bundle, raw=\u001b[38;5;28;01mTrue\u001b[39;00m)\n",
      "\u001b[31mValueError\u001b[39m: Mime type rendering requires nbformat>=4.2.0 but it is not installed"
     ]
    },
    {
     "data": {
      "application/vnd.plotly.v1+json": {
       "config": {
        "plotlyServerURL": "https://plot.ly"
       },
       "data": [
        {
         "hovertemplate": "Fuel Type=Mean Supply (MW) Renewables<br>Month=%{x}<br>Mean Supply (MW)=%{y}<extra></extra>",
         "legendgroup": "Mean Supply (MW) Renewables",
         "line": {
          "color": "#636efa",
          "dash": "solid"
         },
         "marker": {
          "symbol": "circle"
         },
         "mode": "lines+markers",
         "name": "Mean Supply (MW) Renewables",
         "orientation": "v",
         "showlegend": true,
         "type": "scatter",
         "x": [
          "2018-01",
          "2018-02",
          "2018-03",
          "2018-04",
          "2018-05",
          "2018-06",
          "2018-07",
          "2018-08",
          "2018-09",
          "2018-10",
          "2018-11",
          "2018-12",
          "2019-01",
          "2019-02",
          "2019-03",
          "2019-04",
          "2019-05",
          "2019-06",
          "2019-07",
          "2019-08",
          "2019-09",
          "2019-10",
          "2019-11",
          "2019-12",
          "2020-01",
          "2020-02",
          "2020-03",
          "2020-04",
          "2020-05",
          "2020-06",
          "2020-07",
          "2020-08",
          "2020-09",
          "2020-10",
          "2020-11",
          "2020-12",
          "2021-01",
          "2021-02",
          "2021-03",
          "2021-04",
          "2021-05",
          "2021-06",
          "2021-07",
          "2021-08",
          "2021-09",
          "2021-10",
          "2021-11",
          "2021-12",
          "2022-01",
          "2022-02",
          "2022-03",
          "2022-04",
          "2022-05",
          "2022-06",
          "2022-07",
          "2022-08",
          "2022-09",
          "2022-10",
          "2022-11",
          "2022-12",
          "2023-01",
          "2023-02",
          "2023-03",
          "2023-04",
          "2023-05",
          "2023-06",
          "2023-07",
          "2023-08",
          "2023-09",
          "2023-10",
          "2023-11",
          "2023-12",
          "2024-01",
          "2024-02",
          "2024-03",
          "2024-04",
          "2024-05",
          "2024-06",
          "2024-07",
          "2024-08",
          "2024-09",
          "2024-10",
          "2024-11",
          "2024-12",
          "2025-01",
          "2025-02",
          "2025-03",
          "2025-04",
          "2025-05",
          "2025-06",
          "2025-07",
          "2025-08"
         ],
         "xaxis": "x",
         "y": {
          "bdata": "hxbZzmc7s0DLoUW28xiPQKwcWmT7bLFA9P3UeKmgsUDTTWIQKPmyQLByaJEd7rRANV66STyPtEDRItv57l+2QE5iEFj5arZAnMQgsOJis0AQWDm0OMC0QBKDwMpxEbZAPgrXo/D3s0D6fmq8tPK0QAIrhxb5bbJA001iENg2tUAOLbKdX0K1QEjhehTel7VAOIlBYEWNt0AxCKwciu24QBBYObR4IbdAFK5H4frVtkCwcmiR7eW6QIlBYOUAebpANDMzM6P7tUCwcmiR7eq3QJhuEoOwVblANDMzM3PmuEB7FK5H0Q25QPLSTWJg87dA4noUrreruEC4HoXrIZ+7QGZmZmYWMb5ATmIQWBmfvUBt5/up4Wm9QMzMzMxct71A7FG4HoUvvEDGSzeJ8R6/QJhuEoPwD7xAw/UoXG/PvEDo+6nxog29QKabxCDQWL1A5tAi22FtwEC8dJMYVAK+QCUGgZV7UMFAz/dT46X+wUDLoUW2m/DCQNEi2/kW38JARrbz/YwLwUBiEFg5JE/BQLKd76eeGcFAAAAAAGAWv0DZzvdTe4HAQDEIrBw6icFA7nw/NabJwkCsHFpky1XCQIts5/th6MFAne+nxju6xECd76fGy1/GQHsUrkfxyMRAsHJokd1JxUCUGARWFv3FQAwCK4de88NAuB6F64liwkCXbhKDqCXEQBsv3SQ+IMRAL90kBpnbxEDb+X5qNMXEQOkmMQg8p8ZAhxbZzidKx0CWQ4tsVzPFQCuHFtmmD8ZAGi/dJN73w0C28/3UMOTEQCPb+X4iK8hAOrTIdnbXw0D8qfHSvc7DQMuhRba7ZcFADAIrh54ExUDo+6nxorLFQOXQItshUMdAlBgEVt5DyEClm8QgGAPKQARWDi2a1chALbKd72day0CBlUOLXKXJQIPAyqGFPMhAa7x0k3CUxEBaZDvfZ+jEQNz5fmrs+sVA9ihcj8KYyECe76fGa6bHQA==",
          "dtype": "f8"
         },
         "yaxis": "y"
        },
        {
         "hovertemplate": "Fuel Type=Mean Supply (MW) Non Renewables<br>Month=%{x}<br>Mean Supply (MW)=%{y}<extra></extra>",
         "legendgroup": "Mean Supply (MW) Non Renewables",
         "line": {
          "color": "#EF553B",
          "dash": "solid"
         },
         "marker": {
          "symbol": "circle"
         },
         "mode": "lines+markers",
         "name": "Mean Supply (MW) Non Renewables",
         "orientation": "v",
         "showlegend": true,
         "type": "scatter",
         "x": [
          "2018-01",
          "2018-02",
          "2018-03",
          "2018-04",
          "2018-05",
          "2018-06",
          "2018-07",
          "2018-08",
          "2018-09",
          "2018-10",
          "2018-11",
          "2018-12",
          "2019-01",
          "2019-02",
          "2019-03",
          "2019-04",
          "2019-05",
          "2019-06",
          "2019-07",
          "2019-08",
          "2019-09",
          "2019-10",
          "2019-11",
          "2019-12",
          "2020-01",
          "2020-02",
          "2020-03",
          "2020-04",
          "2020-05",
          "2020-06",
          "2020-07",
          "2020-08",
          "2020-09",
          "2020-10",
          "2020-11",
          "2020-12",
          "2021-01",
          "2021-02",
          "2021-03",
          "2021-04",
          "2021-05",
          "2021-06",
          "2021-07",
          "2021-08",
          "2021-09",
          "2021-10",
          "2021-11",
          "2021-12",
          "2022-01",
          "2022-02",
          "2022-03",
          "2022-04",
          "2022-05",
          "2022-06",
          "2022-07",
          "2022-08",
          "2022-09",
          "2022-10",
          "2022-11",
          "2022-12",
          "2023-01",
          "2023-02",
          "2023-03",
          "2023-04",
          "2023-05",
          "2023-06",
          "2023-07",
          "2023-08",
          "2023-09",
          "2023-10",
          "2023-11",
          "2023-12",
          "2024-01",
          "2024-02",
          "2024-03",
          "2024-04",
          "2024-05",
          "2024-06",
          "2024-07",
          "2024-08",
          "2024-09",
          "2024-10",
          "2024-11",
          "2024-12",
          "2025-01",
          "2025-02",
          "2025-03",
          "2025-04",
          "2025-05",
          "2025-06",
          "2025-07",
          "2025-08"
         ],
         "xaxis": "x",
         "y": {
          "bdata": "j8L1KKBB0kAEVg4t+hXSQKjGSze9qtBAXI/C9cAH0EDfT42XJmfRQAwCK4diRdFAgZVDizQoz0Db+X5q9FzNQKAaL900Is9AVg4tsk1vzkB0kxgExqbPQJLtfD/V2c1AYhBYOQx00ED8qfHSiY/QQLOd76duXc9A+35qvLSjzECGFtnOj0vNQCgxCKzEXs5AaJHtfP8MzkAX2c73y3HMQGQ73089JMxAHoXrUfB2y0ASg8DK6e/MQFCNl26aXs5A8KfGSw8Iz0CS7Xw/IYXQQKVwPQpv581AhxbZzj9SykBg5dAiO8fLQFg5tMiu0c9A8tJNYrACzUB+arx0k1bNQHJoke20l8xAPN9PjWfeykCF61G4Lo7LQPhT46VTo8tAppvEIJiCy0DFILByuPPOQN9PjZfmWMtA9P3UeLlaykC5HoXraVXLQOTQItupAs5Axks3iZH5zEDO91PjJVHKQKwcWmRrOslAGQRWDt04y0B8PzVe+gHJQPyp8dJNs8pAVOOlm0xFzECVQ4tsh2/IQJqZmZnp7s1AK4cW2X56yUCiRbbzfW3KQObQItsRSs5A+FPjpfPNzkCmm8QgUCrNQAIrhxZReMdA16NwPeIfx0DHSzeJEY/HQIcW2c4HvcZAarx0k4geykBCYOXQ0unJQAAAAABw0chAL90kBpnkyEDwp8ZLJ7zJQLByaJEF2shADi2ynT/GyUBGtvP9dBvIQPCnxkv3O8xAEVg5tBCYxUAL16NwxZTFQOkmMQiU68ZAo3A9CscsyUCr8dJNsojJQIPAyqFtOcpAy6FFtksSyEAFgZVDi5fPQKRwPQpXucxA30+NlybcykBjEFg5XEXJQGq8dJOAlsZAZmZmZm4+xUCZmZmZAVPGQLByaJHVh8dAwMqhRT4lyUAW2c7300HJQN0kBoH9IclAbOf7qYnHx0Bt5/upWXzIQDQzMzPzJMpATmIQWNnKzUCyne+nbrjKQA==",
          "dtype": "f8"
         },
         "yaxis": "y"
        }
       ],
       "layout": {
        "legend": {
         "title": {
          "text": "Fuel Type"
         },
         "tracegroupgap": 0
        },
        "template": {
         "data": {
          "bar": [
           {
            "error_x": {
             "color": "#2a3f5f"
            },
            "error_y": {
             "color": "#2a3f5f"
            },
            "marker": {
             "line": {
              "color": "#E5ECF6",
              "width": 0.5
             },
             "pattern": {
              "fillmode": "overlay",
              "size": 10,
              "solidity": 0.2
             }
            },
            "type": "bar"
           }
          ],
          "barpolar": [
           {
            "marker": {
             "line": {
              "color": "#E5ECF6",
              "width": 0.5
             },
             "pattern": {
              "fillmode": "overlay",
              "size": 10,
              "solidity": 0.2
             }
            },
            "type": "barpolar"
           }
          ],
          "carpet": [
           {
            "aaxis": {
             "endlinecolor": "#2a3f5f",
             "gridcolor": "white",
             "linecolor": "white",
             "minorgridcolor": "white",
             "startlinecolor": "#2a3f5f"
            },
            "baxis": {
             "endlinecolor": "#2a3f5f",
             "gridcolor": "white",
             "linecolor": "white",
             "minorgridcolor": "white",
             "startlinecolor": "#2a3f5f"
            },
            "type": "carpet"
           }
          ],
          "choropleth": [
           {
            "colorbar": {
             "outlinewidth": 0,
             "ticks": ""
            },
            "type": "choropleth"
           }
          ],
          "contour": [
           {
            "colorbar": {
             "outlinewidth": 0,
             "ticks": ""
            },
            "colorscale": [
             [
              0,
              "#0d0887"
             ],
             [
              0.1111111111111111,
              "#46039f"
             ],
             [
              0.2222222222222222,
              "#7201a8"
             ],
             [
              0.3333333333333333,
              "#9c179e"
             ],
             [
              0.4444444444444444,
              "#bd3786"
             ],
             [
              0.5555555555555556,
              "#d8576b"
             ],
             [
              0.6666666666666666,
              "#ed7953"
             ],
             [
              0.7777777777777778,
              "#fb9f3a"
             ],
             [
              0.8888888888888888,
              "#fdca26"
             ],
             [
              1,
              "#f0f921"
             ]
            ],
            "type": "contour"
           }
          ],
          "contourcarpet": [
           {
            "colorbar": {
             "outlinewidth": 0,
             "ticks": ""
            },
            "type": "contourcarpet"
           }
          ],
          "heatmap": [
           {
            "colorbar": {
             "outlinewidth": 0,
             "ticks": ""
            },
            "colorscale": [
             [
              0,
              "#0d0887"
             ],
             [
              0.1111111111111111,
              "#46039f"
             ],
             [
              0.2222222222222222,
              "#7201a8"
             ],
             [
              0.3333333333333333,
              "#9c179e"
             ],
             [
              0.4444444444444444,
              "#bd3786"
             ],
             [
              0.5555555555555556,
              "#d8576b"
             ],
             [
              0.6666666666666666,
              "#ed7953"
             ],
             [
              0.7777777777777778,
              "#fb9f3a"
             ],
             [
              0.8888888888888888,
              "#fdca26"
             ],
             [
              1,
              "#f0f921"
             ]
            ],
            "type": "heatmap"
           }
          ],
          "histogram": [
           {
            "marker": {
             "pattern": {
              "fillmode": "overlay",
              "size": 10,
              "solidity": 0.2
             }
            },
            "type": "histogram"
           }
          ],
          "histogram2d": [
           {
            "colorbar": {
             "outlinewidth": 0,
             "ticks": ""
            },
            "colorscale": [
             [
              0,
              "#0d0887"
             ],
             [
              0.1111111111111111,
              "#46039f"
             ],
             [
              0.2222222222222222,
              "#7201a8"
             ],
             [
              0.3333333333333333,
              "#9c179e"
             ],
             [
              0.4444444444444444,
              "#bd3786"
             ],
             [
              0.5555555555555556,
              "#d8576b"
             ],
             [
              0.6666666666666666,
              "#ed7953"
             ],
             [
              0.7777777777777778,
              "#fb9f3a"
             ],
             [
              0.8888888888888888,
              "#fdca26"
             ],
             [
              1,
              "#f0f921"
             ]
            ],
            "type": "histogram2d"
           }
          ],
          "histogram2dcontour": [
           {
            "colorbar": {
             "outlinewidth": 0,
             "ticks": ""
            },
            "colorscale": [
             [
              0,
              "#0d0887"
             ],
             [
              0.1111111111111111,
              "#46039f"
             ],
             [
              0.2222222222222222,
              "#7201a8"
             ],
             [
              0.3333333333333333,
              "#9c179e"
             ],
             [
              0.4444444444444444,
              "#bd3786"
             ],
             [
              0.5555555555555556,
              "#d8576b"
             ],
             [
              0.6666666666666666,
              "#ed7953"
             ],
             [
              0.7777777777777778,
              "#fb9f3a"
             ],
             [
              0.8888888888888888,
              "#fdca26"
             ],
             [
              1,
              "#f0f921"
             ]
            ],
            "type": "histogram2dcontour"
           }
          ],
          "mesh3d": [
           {
            "colorbar": {
             "outlinewidth": 0,
             "ticks": ""
            },
            "type": "mesh3d"
           }
          ],
          "parcoords": [
           {
            "line": {
             "colorbar": {
              "outlinewidth": 0,
              "ticks": ""
             }
            },
            "type": "parcoords"
           }
          ],
          "pie": [
           {
            "automargin": true,
            "type": "pie"
           }
          ],
          "scatter": [
           {
            "fillpattern": {
             "fillmode": "overlay",
             "size": 10,
             "solidity": 0.2
            },
            "type": "scatter"
           }
          ],
          "scatter3d": [
           {
            "line": {
             "colorbar": {
              "outlinewidth": 0,
              "ticks": ""
             }
            },
            "marker": {
             "colorbar": {
              "outlinewidth": 0,
              "ticks": ""
             }
            },
            "type": "scatter3d"
           }
          ],
          "scattercarpet": [
           {
            "marker": {
             "colorbar": {
              "outlinewidth": 0,
              "ticks": ""
             }
            },
            "type": "scattercarpet"
           }
          ],
          "scattergeo": [
           {
            "marker": {
             "colorbar": {
              "outlinewidth": 0,
              "ticks": ""
             }
            },
            "type": "scattergeo"
           }
          ],
          "scattergl": [
           {
            "marker": {
             "colorbar": {
              "outlinewidth": 0,
              "ticks": ""
             }
            },
            "type": "scattergl"
           }
          ],
          "scattermap": [
           {
            "marker": {
             "colorbar": {
              "outlinewidth": 0,
              "ticks": ""
             }
            },
            "type": "scattermap"
           }
          ],
          "scattermapbox": [
           {
            "marker": {
             "colorbar": {
              "outlinewidth": 0,
              "ticks": ""
             }
            },
            "type": "scattermapbox"
           }
          ],
          "scatterpolar": [
           {
            "marker": {
             "colorbar": {
              "outlinewidth": 0,
              "ticks": ""
             }
            },
            "type": "scatterpolar"
           }
          ],
          "scatterpolargl": [
           {
            "marker": {
             "colorbar": {
              "outlinewidth": 0,
              "ticks": ""
             }
            },
            "type": "scatterpolargl"
           }
          ],
          "scatterternary": [
           {
            "marker": {
             "colorbar": {
              "outlinewidth": 0,
              "ticks": ""
             }
            },
            "type": "scatterternary"
           }
          ],
          "surface": [
           {
            "colorbar": {
             "outlinewidth": 0,
             "ticks": ""
            },
            "colorscale": [
             [
              0,
              "#0d0887"
             ],
             [
              0.1111111111111111,
              "#46039f"
             ],
             [
              0.2222222222222222,
              "#7201a8"
             ],
             [
              0.3333333333333333,
              "#9c179e"
             ],
             [
              0.4444444444444444,
              "#bd3786"
             ],
             [
              0.5555555555555556,
              "#d8576b"
             ],
             [
              0.6666666666666666,
              "#ed7953"
             ],
             [
              0.7777777777777778,
              "#fb9f3a"
             ],
             [
              0.8888888888888888,
              "#fdca26"
             ],
             [
              1,
              "#f0f921"
             ]
            ],
            "type": "surface"
           }
          ],
          "table": [
           {
            "cells": {
             "fill": {
              "color": "#EBF0F8"
             },
             "line": {
              "color": "white"
             }
            },
            "header": {
             "fill": {
              "color": "#C8D4E3"
             },
             "line": {
              "color": "white"
             }
            },
            "type": "table"
           }
          ]
         },
         "layout": {
          "annotationdefaults": {
           "arrowcolor": "#2a3f5f",
           "arrowhead": 0,
           "arrowwidth": 1
          },
          "autotypenumbers": "strict",
          "coloraxis": {
           "colorbar": {
            "outlinewidth": 0,
            "ticks": ""
           }
          },
          "colorscale": {
           "diverging": [
            [
             0,
             "#8e0152"
            ],
            [
             0.1,
             "#c51b7d"
            ],
            [
             0.2,
             "#de77ae"
            ],
            [
             0.3,
             "#f1b6da"
            ],
            [
             0.4,
             "#fde0ef"
            ],
            [
             0.5,
             "#f7f7f7"
            ],
            [
             0.6,
             "#e6f5d0"
            ],
            [
             0.7,
             "#b8e186"
            ],
            [
             0.8,
             "#7fbc41"
            ],
            [
             0.9,
             "#4d9221"
            ],
            [
             1,
             "#276419"
            ]
           ],
           "sequential": [
            [
             0,
             "#0d0887"
            ],
            [
             0.1111111111111111,
             "#46039f"
            ],
            [
             0.2222222222222222,
             "#7201a8"
            ],
            [
             0.3333333333333333,
             "#9c179e"
            ],
            [
             0.4444444444444444,
             "#bd3786"
            ],
            [
             0.5555555555555556,
             "#d8576b"
            ],
            [
             0.6666666666666666,
             "#ed7953"
            ],
            [
             0.7777777777777778,
             "#fb9f3a"
            ],
            [
             0.8888888888888888,
             "#fdca26"
            ],
            [
             1,
             "#f0f921"
            ]
           ],
           "sequentialminus": [
            [
             0,
             "#0d0887"
            ],
            [
             0.1111111111111111,
             "#46039f"
            ],
            [
             0.2222222222222222,
             "#7201a8"
            ],
            [
             0.3333333333333333,
             "#9c179e"
            ],
            [
             0.4444444444444444,
             "#bd3786"
            ],
            [
             0.5555555555555556,
             "#d8576b"
            ],
            [
             0.6666666666666666,
             "#ed7953"
            ],
            [
             0.7777777777777778,
             "#fb9f3a"
            ],
            [
             0.8888888888888888,
             "#fdca26"
            ],
            [
             1,
             "#f0f921"
            ]
           ]
          },
          "colorway": [
           "#636efa",
           "#EF553B",
           "#00cc96",
           "#ab63fa",
           "#FFA15A",
           "#19d3f3",
           "#FF6692",
           "#B6E880",
           "#FF97FF",
           "#FECB52"
          ],
          "font": {
           "color": "#2a3f5f"
          },
          "geo": {
           "bgcolor": "white",
           "lakecolor": "white",
           "landcolor": "#E5ECF6",
           "showlakes": true,
           "showland": true,
           "subunitcolor": "white"
          },
          "hoverlabel": {
           "align": "left"
          },
          "hovermode": "closest",
          "mapbox": {
           "style": "light"
          },
          "paper_bgcolor": "white",
          "plot_bgcolor": "#E5ECF6",
          "polar": {
           "angularaxis": {
            "gridcolor": "white",
            "linecolor": "white",
            "ticks": ""
           },
           "bgcolor": "#E5ECF6",
           "radialaxis": {
            "gridcolor": "white",
            "linecolor": "white",
            "ticks": ""
           }
          },
          "scene": {
           "xaxis": {
            "backgroundcolor": "#E5ECF6",
            "gridcolor": "white",
            "gridwidth": 2,
            "linecolor": "white",
            "showbackground": true,
            "ticks": "",
            "zerolinecolor": "white"
           },
           "yaxis": {
            "backgroundcolor": "#E5ECF6",
            "gridcolor": "white",
            "gridwidth": 2,
            "linecolor": "white",
            "showbackground": true,
            "ticks": "",
            "zerolinecolor": "white"
           },
           "zaxis": {
            "backgroundcolor": "#E5ECF6",
            "gridcolor": "white",
            "gridwidth": 2,
            "linecolor": "white",
            "showbackground": true,
            "ticks": "",
            "zerolinecolor": "white"
           }
          },
          "shapedefaults": {
           "line": {
            "color": "#2a3f5f"
           }
          },
          "ternary": {
           "aaxis": {
            "gridcolor": "white",
            "linecolor": "white",
            "ticks": ""
           },
           "baxis": {
            "gridcolor": "white",
            "linecolor": "white",
            "ticks": ""
           },
           "bgcolor": "#E5ECF6",
           "caxis": {
            "gridcolor": "white",
            "linecolor": "white",
            "ticks": ""
           }
          },
          "title": {
           "x": 0.05
          },
          "xaxis": {
           "automargin": true,
           "gridcolor": "white",
           "linecolor": "white",
           "ticks": "",
           "title": {
            "standoff": 15
           },
           "zerolinecolor": "white",
           "zerolinewidth": 2
          },
          "yaxis": {
           "automargin": true,
           "gridcolor": "white",
           "linecolor": "white",
           "ticks": "",
           "title": {
            "standoff": 15
           },
           "zerolinecolor": "white",
           "zerolinewidth": 2
          }
         }
        },
        "title": {
         "text": "Total Mean Supply of Non-Renewables vs Renewables in the NEM (2018 - 2025)"
        },
        "xaxis": {
         "anchor": "y",
         "domain": [
          0,
          1
         ],
         "title": {
          "text": "Month"
         }
        },
        "yaxis": {
         "anchor": "x",
         "domain": [
          0,
          1
         ],
         "title": {
          "text": "Mean Supply (MW)"
         }
        }
       }
      },
      "text/html": [
       "<div>                        <script type=\"text/javascript\">window.PlotlyConfig = {MathJaxConfig: 'local'};</script>\n",
       "        <script charset=\"utf-8\" src=\"https://cdn.plot.ly/plotly-3.1.0.min.js\" integrity=\"sha256-Ei4740bWZhaUTQuD6q9yQlgVCMPBz6CZWhevDYPv93A=\" crossorigin=\"anonymous\"></script>                <div id=\"490a7bb3-42f7-4b91-8296-48bc67c32b5e\" class=\"plotly-graph-div\" style=\"height:100%; width:100%;\"></div>            <script type=\"text/javascript\">                window.PLOTLYENV=window.PLOTLYENV || {};                                if (document.getElementById(\"490a7bb3-42f7-4b91-8296-48bc67c32b5e\")) {                    Plotly.newPlot(                        \"490a7bb3-42f7-4b91-8296-48bc67c32b5e\",                        [{\"hovertemplate\":\"Fuel Type=Mean Supply (MW) Renewables\\u003cbr\\u003eMonth=%{x}\\u003cbr\\u003eMean Supply (MW)=%{y}\\u003cextra\\u003e\\u003c\\u002fextra\\u003e\",\"legendgroup\":\"Mean Supply (MW) Renewables\",\"line\":{\"color\":\"#636efa\",\"dash\":\"solid\"},\"marker\":{\"symbol\":\"circle\"},\"mode\":\"lines+markers\",\"name\":\"Mean Supply (MW) Renewables\",\"orientation\":\"v\",\"showlegend\":true,\"x\":[\"2018-01\",\"2018-02\",\"2018-03\",\"2018-04\",\"2018-05\",\"2018-06\",\"2018-07\",\"2018-08\",\"2018-09\",\"2018-10\",\"2018-11\",\"2018-12\",\"2019-01\",\"2019-02\",\"2019-03\",\"2019-04\",\"2019-05\",\"2019-06\",\"2019-07\",\"2019-08\",\"2019-09\",\"2019-10\",\"2019-11\",\"2019-12\",\"2020-01\",\"2020-02\",\"2020-03\",\"2020-04\",\"2020-05\",\"2020-06\",\"2020-07\",\"2020-08\",\"2020-09\",\"2020-10\",\"2020-11\",\"2020-12\",\"2021-01\",\"2021-02\",\"2021-03\",\"2021-04\",\"2021-05\",\"2021-06\",\"2021-07\",\"2021-08\",\"2021-09\",\"2021-10\",\"2021-11\",\"2021-12\",\"2022-01\",\"2022-02\",\"2022-03\",\"2022-04\",\"2022-05\",\"2022-06\",\"2022-07\",\"2022-08\",\"2022-09\",\"2022-10\",\"2022-11\",\"2022-12\",\"2023-01\",\"2023-02\",\"2023-03\",\"2023-04\",\"2023-05\",\"2023-06\",\"2023-07\",\"2023-08\",\"2023-09\",\"2023-10\",\"2023-11\",\"2023-12\",\"2024-01\",\"2024-02\",\"2024-03\",\"2024-04\",\"2024-05\",\"2024-06\",\"2024-07\",\"2024-08\",\"2024-09\",\"2024-10\",\"2024-11\",\"2024-12\",\"2025-01\",\"2025-02\",\"2025-03\",\"2025-04\",\"2025-05\",\"2025-06\",\"2025-07\",\"2025-08\"],\"xaxis\":\"x\",\"y\":{\"dtype\":\"f8\",\"bdata\":\"hxbZzmc7s0DLoUW28xiPQKwcWmT7bLFA9P3UeKmgsUDTTWIQKPmyQLByaJEd7rRANV66STyPtEDRItv57l+2QE5iEFj5arZAnMQgsOJis0AQWDm0OMC0QBKDwMpxEbZAPgrXo\\u002fD3s0D6fmq8tPK0QAIrhxb5bbJA001iENg2tUAOLbKdX0K1QEjhehTel7VAOIlBYEWNt0AxCKwciu24QBBYObR4IbdAFK5H4frVtkCwcmiR7eW6QIlBYOUAebpANDMzM6P7tUCwcmiR7eq3QJhuEoOwVblANDMzM3PmuEB7FK5H0Q25QPLSTWJg87dA4noUrreruEC4HoXrIZ+7QGZmZmYWMb5ATmIQWBmfvUBt5\\u002fup4Wm9QMzMzMxct71A7FG4HoUvvEDGSzeJ8R6\\u002fQJhuEoPwD7xAw\\u002fUoXG\\u002fPvEDo+6nxog29QKabxCDQWL1A5tAi22FtwEC8dJMYVAK+QCUGgZV7UMFAz\\u002fdT46X+wUDLoUW2m\\u002fDCQNEi2\\u002fkW38JARrbz\\u002fYwLwUBiEFg5JE\\u002fBQLKd76eeGcFAAAAAAGAWv0DZzvdTe4HAQDEIrBw6icFA7nw\\u002fNabJwkCsHFpky1XCQIts5\\u002fth6MFAne+nxju6xECd76fGy1\\u002fGQHsUrkfxyMRAsHJokd1JxUCUGARWFv3FQAwCK4de88NAuB6F64liwkCXbhKDqCXEQBsv3SQ+IMRAL90kBpnbxEDb+X5qNMXEQOkmMQg8p8ZAhxbZzidKx0CWQ4tsVzPFQCuHFtmmD8ZAGi\\u002fdJN73w0C28\\u002f3UMOTEQCPb+X4iK8hAOrTIdnbXw0D8qfHSvc7DQMuhRba7ZcFADAIrh54ExUDo+6nxorLFQOXQItshUMdAlBgEVt5DyEClm8QgGAPKQARWDi2a1chALbKd72day0CBlUOLXKXJQIPAyqGFPMhAa7x0k3CUxEBaZDvfZ+jEQNz5fmrs+sVA9ihcj8KYyECe76fGa6bHQA==\"},\"yaxis\":\"y\",\"type\":\"scatter\"},{\"hovertemplate\":\"Fuel Type=Mean Supply (MW) Non Renewables\\u003cbr\\u003eMonth=%{x}\\u003cbr\\u003eMean Supply (MW)=%{y}\\u003cextra\\u003e\\u003c\\u002fextra\\u003e\",\"legendgroup\":\"Mean Supply (MW) Non Renewables\",\"line\":{\"color\":\"#EF553B\",\"dash\":\"solid\"},\"marker\":{\"symbol\":\"circle\"},\"mode\":\"lines+markers\",\"name\":\"Mean Supply (MW) Non Renewables\",\"orientation\":\"v\",\"showlegend\":true,\"x\":[\"2018-01\",\"2018-02\",\"2018-03\",\"2018-04\",\"2018-05\",\"2018-06\",\"2018-07\",\"2018-08\",\"2018-09\",\"2018-10\",\"2018-11\",\"2018-12\",\"2019-01\",\"2019-02\",\"2019-03\",\"2019-04\",\"2019-05\",\"2019-06\",\"2019-07\",\"2019-08\",\"2019-09\",\"2019-10\",\"2019-11\",\"2019-12\",\"2020-01\",\"2020-02\",\"2020-03\",\"2020-04\",\"2020-05\",\"2020-06\",\"2020-07\",\"2020-08\",\"2020-09\",\"2020-10\",\"2020-11\",\"2020-12\",\"2021-01\",\"2021-02\",\"2021-03\",\"2021-04\",\"2021-05\",\"2021-06\",\"2021-07\",\"2021-08\",\"2021-09\",\"2021-10\",\"2021-11\",\"2021-12\",\"2022-01\",\"2022-02\",\"2022-03\",\"2022-04\",\"2022-05\",\"2022-06\",\"2022-07\",\"2022-08\",\"2022-09\",\"2022-10\",\"2022-11\",\"2022-12\",\"2023-01\",\"2023-02\",\"2023-03\",\"2023-04\",\"2023-05\",\"2023-06\",\"2023-07\",\"2023-08\",\"2023-09\",\"2023-10\",\"2023-11\",\"2023-12\",\"2024-01\",\"2024-02\",\"2024-03\",\"2024-04\",\"2024-05\",\"2024-06\",\"2024-07\",\"2024-08\",\"2024-09\",\"2024-10\",\"2024-11\",\"2024-12\",\"2025-01\",\"2025-02\",\"2025-03\",\"2025-04\",\"2025-05\",\"2025-06\",\"2025-07\",\"2025-08\"],\"xaxis\":\"x\",\"y\":{\"dtype\":\"f8\",\"bdata\":\"j8L1KKBB0kAEVg4t+hXSQKjGSze9qtBAXI\\u002fC9cAH0EDfT42XJmfRQAwCK4diRdFAgZVDizQoz0Db+X5q9FzNQKAaL900Is9AVg4tsk1vzkB0kxgExqbPQJLtfD\\u002fV2c1AYhBYOQx00ED8qfHSiY\\u002fQQLOd76duXc9A+35qvLSjzECGFtnOj0vNQCgxCKzEXs5AaJHtfP8MzkAX2c73y3HMQGQ73089JMxAHoXrUfB2y0ASg8DK6e\\u002fMQFCNl26aXs5A8KfGSw8Iz0CS7Xw\\u002fIYXQQKVwPQpv581AhxbZzj9SykBg5dAiO8fLQFg5tMiu0c9A8tJNYrACzUB+arx0k1bNQHJoke20l8xAPN9PjWfeykCF61G4Lo7LQPhT46VTo8tAppvEIJiCy0DFILByuPPOQN9PjZfmWMtA9P3UeLlaykC5HoXraVXLQOTQItupAs5Axks3iZH5zEDO91PjJVHKQKwcWmRrOslAGQRWDt04y0B8PzVe+gHJQPyp8dJNs8pAVOOlm0xFzECVQ4tsh2\\u002fIQJqZmZnp7s1AK4cW2X56yUCiRbbzfW3KQObQItsRSs5A+FPjpfPNzkCmm8QgUCrNQAIrhxZReMdA16NwPeIfx0DHSzeJEY\\u002fHQIcW2c4HvcZAarx0k4geykBCYOXQ0unJQAAAAABw0chAL90kBpnkyEDwp8ZLJ7zJQLByaJEF2shADi2ynT\\u002fGyUBGtvP9dBvIQPCnxkv3O8xAEVg5tBCYxUAL16NwxZTFQOkmMQiU68ZAo3A9CscsyUCr8dJNsojJQIPAyqFtOcpAy6FFtksSyEAFgZVDi5fPQKRwPQpXucxA30+NlybcykBjEFg5XEXJQGq8dJOAlsZAZmZmZm4+xUCZmZmZAVPGQLByaJHVh8dAwMqhRT4lyUAW2c7300HJQN0kBoH9IclAbOf7qYnHx0Bt5\\u002fupWXzIQDQzMzPzJMpATmIQWNnKzUCyne+nbrjKQA==\"},\"yaxis\":\"y\",\"type\":\"scatter\"}],                        {\"template\":{\"data\":{\"histogram2dcontour\":[{\"type\":\"histogram2dcontour\",\"colorbar\":{\"outlinewidth\":0,\"ticks\":\"\"},\"colorscale\":[[0.0,\"#0d0887\"],[0.1111111111111111,\"#46039f\"],[0.2222222222222222,\"#7201a8\"],[0.3333333333333333,\"#9c179e\"],[0.4444444444444444,\"#bd3786\"],[0.5555555555555556,\"#d8576b\"],[0.6666666666666666,\"#ed7953\"],[0.7777777777777778,\"#fb9f3a\"],[0.8888888888888888,\"#fdca26\"],[1.0,\"#f0f921\"]]}],\"choropleth\":[{\"type\":\"choropleth\",\"colorbar\":{\"outlinewidth\":0,\"ticks\":\"\"}}],\"histogram2d\":[{\"type\":\"histogram2d\",\"colorbar\":{\"outlinewidth\":0,\"ticks\":\"\"},\"colorscale\":[[0.0,\"#0d0887\"],[0.1111111111111111,\"#46039f\"],[0.2222222222222222,\"#7201a8\"],[0.3333333333333333,\"#9c179e\"],[0.4444444444444444,\"#bd3786\"],[0.5555555555555556,\"#d8576b\"],[0.6666666666666666,\"#ed7953\"],[0.7777777777777778,\"#fb9f3a\"],[0.8888888888888888,\"#fdca26\"],[1.0,\"#f0f921\"]]}],\"heatmap\":[{\"type\":\"heatmap\",\"colorbar\":{\"outlinewidth\":0,\"ticks\":\"\"},\"colorscale\":[[0.0,\"#0d0887\"],[0.1111111111111111,\"#46039f\"],[0.2222222222222222,\"#7201a8\"],[0.3333333333333333,\"#9c179e\"],[0.4444444444444444,\"#bd3786\"],[0.5555555555555556,\"#d8576b\"],[0.6666666666666666,\"#ed7953\"],[0.7777777777777778,\"#fb9f3a\"],[0.8888888888888888,\"#fdca26\"],[1.0,\"#f0f921\"]]}],\"contourcarpet\":[{\"type\":\"contourcarpet\",\"colorbar\":{\"outlinewidth\":0,\"ticks\":\"\"}}],\"contour\":[{\"type\":\"contour\",\"colorbar\":{\"outlinewidth\":0,\"ticks\":\"\"},\"colorscale\":[[0.0,\"#0d0887\"],[0.1111111111111111,\"#46039f\"],[0.2222222222222222,\"#7201a8\"],[0.3333333333333333,\"#9c179e\"],[0.4444444444444444,\"#bd3786\"],[0.5555555555555556,\"#d8576b\"],[0.6666666666666666,\"#ed7953\"],[0.7777777777777778,\"#fb9f3a\"],[0.8888888888888888,\"#fdca26\"],[1.0,\"#f0f921\"]]}],\"surface\":[{\"type\":\"surface\",\"colorbar\":{\"outlinewidth\":0,\"ticks\":\"\"},\"colorscale\":[[0.0,\"#0d0887\"],[0.1111111111111111,\"#46039f\"],[0.2222222222222222,\"#7201a8\"],[0.3333333333333333,\"#9c179e\"],[0.4444444444444444,\"#bd3786\"],[0.5555555555555556,\"#d8576b\"],[0.6666666666666666,\"#ed7953\"],[0.7777777777777778,\"#fb9f3a\"],[0.8888888888888888,\"#fdca26\"],[1.0,\"#f0f921\"]]}],\"mesh3d\":[{\"type\":\"mesh3d\",\"colorbar\":{\"outlinewidth\":0,\"ticks\":\"\"}}],\"scatter\":[{\"fillpattern\":{\"fillmode\":\"overlay\",\"size\":10,\"solidity\":0.2},\"type\":\"scatter\"}],\"parcoords\":[{\"type\":\"parcoords\",\"line\":{\"colorbar\":{\"outlinewidth\":0,\"ticks\":\"\"}}}],\"scatterpolargl\":[{\"type\":\"scatterpolargl\",\"marker\":{\"colorbar\":{\"outlinewidth\":0,\"ticks\":\"\"}}}],\"bar\":[{\"error_x\":{\"color\":\"#2a3f5f\"},\"error_y\":{\"color\":\"#2a3f5f\"},\"marker\":{\"line\":{\"color\":\"#E5ECF6\",\"width\":0.5},\"pattern\":{\"fillmode\":\"overlay\",\"size\":10,\"solidity\":0.2}},\"type\":\"bar\"}],\"scattergeo\":[{\"type\":\"scattergeo\",\"marker\":{\"colorbar\":{\"outlinewidth\":0,\"ticks\":\"\"}}}],\"scatterpolar\":[{\"type\":\"scatterpolar\",\"marker\":{\"colorbar\":{\"outlinewidth\":0,\"ticks\":\"\"}}}],\"histogram\":[{\"marker\":{\"pattern\":{\"fillmode\":\"overlay\",\"size\":10,\"solidity\":0.2}},\"type\":\"histogram\"}],\"scattergl\":[{\"type\":\"scattergl\",\"marker\":{\"colorbar\":{\"outlinewidth\":0,\"ticks\":\"\"}}}],\"scatter3d\":[{\"type\":\"scatter3d\",\"line\":{\"colorbar\":{\"outlinewidth\":0,\"ticks\":\"\"}},\"marker\":{\"colorbar\":{\"outlinewidth\":0,\"ticks\":\"\"}}}],\"scattermap\":[{\"type\":\"scattermap\",\"marker\":{\"colorbar\":{\"outlinewidth\":0,\"ticks\":\"\"}}}],\"scattermapbox\":[{\"type\":\"scattermapbox\",\"marker\":{\"colorbar\":{\"outlinewidth\":0,\"ticks\":\"\"}}}],\"scatterternary\":[{\"type\":\"scatterternary\",\"marker\":{\"colorbar\":{\"outlinewidth\":0,\"ticks\":\"\"}}}],\"scattercarpet\":[{\"type\":\"scattercarpet\",\"marker\":{\"colorbar\":{\"outlinewidth\":0,\"ticks\":\"\"}}}],\"carpet\":[{\"aaxis\":{\"endlinecolor\":\"#2a3f5f\",\"gridcolor\":\"white\",\"linecolor\":\"white\",\"minorgridcolor\":\"white\",\"startlinecolor\":\"#2a3f5f\"},\"baxis\":{\"endlinecolor\":\"#2a3f5f\",\"gridcolor\":\"white\",\"linecolor\":\"white\",\"minorgridcolor\":\"white\",\"startlinecolor\":\"#2a3f5f\"},\"type\":\"carpet\"}],\"table\":[{\"cells\":{\"fill\":{\"color\":\"#EBF0F8\"},\"line\":{\"color\":\"white\"}},\"header\":{\"fill\":{\"color\":\"#C8D4E3\"},\"line\":{\"color\":\"white\"}},\"type\":\"table\"}],\"barpolar\":[{\"marker\":{\"line\":{\"color\":\"#E5ECF6\",\"width\":0.5},\"pattern\":{\"fillmode\":\"overlay\",\"size\":10,\"solidity\":0.2}},\"type\":\"barpolar\"}],\"pie\":[{\"automargin\":true,\"type\":\"pie\"}]},\"layout\":{\"autotypenumbers\":\"strict\",\"colorway\":[\"#636efa\",\"#EF553B\",\"#00cc96\",\"#ab63fa\",\"#FFA15A\",\"#19d3f3\",\"#FF6692\",\"#B6E880\",\"#FF97FF\",\"#FECB52\"],\"font\":{\"color\":\"#2a3f5f\"},\"hovermode\":\"closest\",\"hoverlabel\":{\"align\":\"left\"},\"paper_bgcolor\":\"white\",\"plot_bgcolor\":\"#E5ECF6\",\"polar\":{\"bgcolor\":\"#E5ECF6\",\"angularaxis\":{\"gridcolor\":\"white\",\"linecolor\":\"white\",\"ticks\":\"\"},\"radialaxis\":{\"gridcolor\":\"white\",\"linecolor\":\"white\",\"ticks\":\"\"}},\"ternary\":{\"bgcolor\":\"#E5ECF6\",\"aaxis\":{\"gridcolor\":\"white\",\"linecolor\":\"white\",\"ticks\":\"\"},\"baxis\":{\"gridcolor\":\"white\",\"linecolor\":\"white\",\"ticks\":\"\"},\"caxis\":{\"gridcolor\":\"white\",\"linecolor\":\"white\",\"ticks\":\"\"}},\"coloraxis\":{\"colorbar\":{\"outlinewidth\":0,\"ticks\":\"\"}},\"colorscale\":{\"sequential\":[[0.0,\"#0d0887\"],[0.1111111111111111,\"#46039f\"],[0.2222222222222222,\"#7201a8\"],[0.3333333333333333,\"#9c179e\"],[0.4444444444444444,\"#bd3786\"],[0.5555555555555556,\"#d8576b\"],[0.6666666666666666,\"#ed7953\"],[0.7777777777777778,\"#fb9f3a\"],[0.8888888888888888,\"#fdca26\"],[1.0,\"#f0f921\"]],\"sequentialminus\":[[0.0,\"#0d0887\"],[0.1111111111111111,\"#46039f\"],[0.2222222222222222,\"#7201a8\"],[0.3333333333333333,\"#9c179e\"],[0.4444444444444444,\"#bd3786\"],[0.5555555555555556,\"#d8576b\"],[0.6666666666666666,\"#ed7953\"],[0.7777777777777778,\"#fb9f3a\"],[0.8888888888888888,\"#fdca26\"],[1.0,\"#f0f921\"]],\"diverging\":[[0,\"#8e0152\"],[0.1,\"#c51b7d\"],[0.2,\"#de77ae\"],[0.3,\"#f1b6da\"],[0.4,\"#fde0ef\"],[0.5,\"#f7f7f7\"],[0.6,\"#e6f5d0\"],[0.7,\"#b8e186\"],[0.8,\"#7fbc41\"],[0.9,\"#4d9221\"],[1,\"#276419\"]]},\"xaxis\":{\"gridcolor\":\"white\",\"linecolor\":\"white\",\"ticks\":\"\",\"title\":{\"standoff\":15},\"zerolinecolor\":\"white\",\"automargin\":true,\"zerolinewidth\":2},\"yaxis\":{\"gridcolor\":\"white\",\"linecolor\":\"white\",\"ticks\":\"\",\"title\":{\"standoff\":15},\"zerolinecolor\":\"white\",\"automargin\":true,\"zerolinewidth\":2},\"scene\":{\"xaxis\":{\"backgroundcolor\":\"#E5ECF6\",\"gridcolor\":\"white\",\"linecolor\":\"white\",\"showbackground\":true,\"ticks\":\"\",\"zerolinecolor\":\"white\",\"gridwidth\":2},\"yaxis\":{\"backgroundcolor\":\"#E5ECF6\",\"gridcolor\":\"white\",\"linecolor\":\"white\",\"showbackground\":true,\"ticks\":\"\",\"zerolinecolor\":\"white\",\"gridwidth\":2},\"zaxis\":{\"backgroundcolor\":\"#E5ECF6\",\"gridcolor\":\"white\",\"linecolor\":\"white\",\"showbackground\":true,\"ticks\":\"\",\"zerolinecolor\":\"white\",\"gridwidth\":2}},\"shapedefaults\":{\"line\":{\"color\":\"#2a3f5f\"}},\"annotationdefaults\":{\"arrowcolor\":\"#2a3f5f\",\"arrowhead\":0,\"arrowwidth\":1},\"geo\":{\"bgcolor\":\"white\",\"landcolor\":\"#E5ECF6\",\"subunitcolor\":\"white\",\"showland\":true,\"showlakes\":true,\"lakecolor\":\"white\"},\"title\":{\"x\":0.05},\"mapbox\":{\"style\":\"light\"}}},\"xaxis\":{\"anchor\":\"y\",\"domain\":[0.0,1.0],\"title\":{\"text\":\"Month\"}},\"yaxis\":{\"anchor\":\"x\",\"domain\":[0.0,1.0],\"title\":{\"text\":\"Mean Supply (MW)\"}},\"legend\":{\"title\":{\"text\":\"Fuel Type\"},\"tracegroupgap\":0},\"title\":{\"text\":\"Total Mean Supply of Non-Renewables vs Renewables in the NEM (2018 - 2025)\"}},                        {\"responsive\": true}                    )                };            </script>        </div>"
      ],
      "text/plain": [
       "Figure({\n",
       "    'data': [{'hovertemplate': ('Fuel Type=Mean Supply (MW) Ren' ... 'upply (MW)=%{y}<extra></extra>'),\n",
       "              'legendgroup': 'Mean Supply (MW) Renewables',\n",
       "              'line': {'color': '#636efa', 'dash': 'solid'},\n",
       "              'marker': {'symbol': 'circle'},\n",
       "              'mode': 'lines+markers',\n",
       "              'name': 'Mean Supply (MW) Renewables',\n",
       "              'orientation': 'v',\n",
       "              'showlegend': True,\n",
       "              'type': 'scatter',\n",
       "              'x': array(['2018-01', '2018-02', '2018-03', '2018-04', '2018-05', '2018-06',\n",
       "                          '2018-07', '2018-08', '2018-09', '2018-10', '2018-11', '2018-12',\n",
       "                          '2019-01', '2019-02', '2019-03', '2019-04', '2019-05', '2019-06',\n",
       "                          '2019-07', '2019-08', '2019-09', '2019-10', '2019-11', '2019-12',\n",
       "                          '2020-01', '2020-02', '2020-03', '2020-04', '2020-05', '2020-06',\n",
       "                          '2020-07', '2020-08', '2020-09', '2020-10', '2020-11', '2020-12',\n",
       "                          '2021-01', '2021-02', '2021-03', '2021-04', '2021-05', '2021-06',\n",
       "                          '2021-07', '2021-08', '2021-09', '2021-10', '2021-11', '2021-12',\n",
       "                          '2022-01', '2022-02', '2022-03', '2022-04', '2022-05', '2022-06',\n",
       "                          '2022-07', '2022-08', '2022-09', '2022-10', '2022-11', '2022-12',\n",
       "                          '2023-01', '2023-02', '2023-03', '2023-04', '2023-05', '2023-06',\n",
       "                          '2023-07', '2023-08', '2023-09', '2023-10', '2023-11', '2023-12',\n",
       "                          '2024-01', '2024-02', '2024-03', '2024-04', '2024-05', '2024-06',\n",
       "                          '2024-07', '2024-08', '2024-09', '2024-10', '2024-11', '2024-12',\n",
       "                          '2025-01', '2025-02', '2025-03', '2025-04', '2025-05', '2025-06',\n",
       "                          '2025-07', '2025-08'], dtype=object),\n",
       "              'xaxis': 'x',\n",
       "              'y': {'bdata': ('hxbZzmc7s0DLoUW28xiPQKwcWmT7bL' ... 'rs+sVA9ihcj8KYyECe76fGa6bHQA=='),\n",
       "                    'dtype': 'f8'},\n",
       "              'yaxis': 'y'},\n",
       "             {'hovertemplate': ('Fuel Type=Mean Supply (MW) Non' ... 'upply (MW)=%{y}<extra></extra>'),\n",
       "              'legendgroup': 'Mean Supply (MW) Non Renewables',\n",
       "              'line': {'color': '#EF553B', 'dash': 'solid'},\n",
       "              'marker': {'symbol': 'circle'},\n",
       "              'mode': 'lines+markers',\n",
       "              'name': 'Mean Supply (MW) Non Renewables',\n",
       "              'orientation': 'v',\n",
       "              'showlegend': True,\n",
       "              'type': 'scatter',\n",
       "              'x': array(['2018-01', '2018-02', '2018-03', '2018-04', '2018-05', '2018-06',\n",
       "                          '2018-07', '2018-08', '2018-09', '2018-10', '2018-11', '2018-12',\n",
       "                          '2019-01', '2019-02', '2019-03', '2019-04', '2019-05', '2019-06',\n",
       "                          '2019-07', '2019-08', '2019-09', '2019-10', '2019-11', '2019-12',\n",
       "                          '2020-01', '2020-02', '2020-03', '2020-04', '2020-05', '2020-06',\n",
       "                          '2020-07', '2020-08', '2020-09', '2020-10', '2020-11', '2020-12',\n",
       "                          '2021-01', '2021-02', '2021-03', '2021-04', '2021-05', '2021-06',\n",
       "                          '2021-07', '2021-08', '2021-09', '2021-10', '2021-11', '2021-12',\n",
       "                          '2022-01', '2022-02', '2022-03', '2022-04', '2022-05', '2022-06',\n",
       "                          '2022-07', '2022-08', '2022-09', '2022-10', '2022-11', '2022-12',\n",
       "                          '2023-01', '2023-02', '2023-03', '2023-04', '2023-05', '2023-06',\n",
       "                          '2023-07', '2023-08', '2023-09', '2023-10', '2023-11', '2023-12',\n",
       "                          '2024-01', '2024-02', '2024-03', '2024-04', '2024-05', '2024-06',\n",
       "                          '2024-07', '2024-08', '2024-09', '2024-10', '2024-11', '2024-12',\n",
       "                          '2025-01', '2025-02', '2025-03', '2025-04', '2025-05', '2025-06',\n",
       "                          '2025-07', '2025-08'], dtype=object),\n",
       "              'xaxis': 'x',\n",
       "              'y': {'bdata': ('j8L1KKBB0kAEVg4t+hXSQKjGSze9qt' ... 'PzJMpATmIQWNnKzUCyne+nbrjKQA=='),\n",
       "                    'dtype': 'f8'},\n",
       "              'yaxis': 'y'}],\n",
       "    'layout': {'legend': {'title': {'text': 'Fuel Type'}, 'tracegroupgap': 0},\n",
       "               'template': '...',\n",
       "               'title': {'text': 'Total Mean Supply of Non-Renewables vs Renewables in the NEM (2018 - 2025)'},\n",
       "               'xaxis': {'anchor': 'y', 'domain': [0.0, 1.0], 'title': {'text': 'Month'}},\n",
       "               'yaxis': {'anchor': 'x', 'domain': [0.0, 1.0], 'title': {'text': 'Mean Supply (MW)'}}}\n",
       "})"
      ]
     },
     "execution_count": 281,
     "metadata": {},
     "output_type": "execute_result"
    }
   ],
   "source": [
    "fig = px.line(total_supply_df, x='Month', y=['Mean Supply (MW) Renewables', 'Mean Supply (MW) Non Renewables'], title='Total Mean Supply of Non-Renewables vs Renewables in the NEM (2018 - 2025)', labels={'value': 'Mean Supply (MW)', 'variable': 'Fuel Type'})\n",
    "fig.update_traces(mode = 'lines+markers')"
   ]
  },
  {
   "cell_type": "markdown",
   "id": "3c240658",
   "metadata": {},
   "source": [
    "### Generating the Plot for Renewables"
   ]
  },
  {
   "cell_type": "code",
   "execution_count": 285,
   "id": "9fcc7c43",
   "metadata": {},
   "outputs": [
    {
     "ename": "ValueError",
     "evalue": "Mime type rendering requires nbformat>=4.2.0 but it is not installed",
     "output_type": "error",
     "traceback": [
      "\u001b[31m---------------------------------------------------------------------------\u001b[39m",
      "\u001b[31mValueError\u001b[39m                                Traceback (most recent call last)",
      "\u001b[36mFile \u001b[39m\u001b[32m~/Documents/GitHub/IFN695-Codebase/ifn695_venv/lib/python3.12/site-packages/IPython/core/formatters.py:984\u001b[39m, in \u001b[36mIPythonDisplayFormatter.__call__\u001b[39m\u001b[34m(self, obj)\u001b[39m\n\u001b[32m    982\u001b[39m method = get_real_method(obj, \u001b[38;5;28mself\u001b[39m.print_method)\n\u001b[32m    983\u001b[39m \u001b[38;5;28;01mif\u001b[39;00m method \u001b[38;5;129;01mis\u001b[39;00m \u001b[38;5;129;01mnot\u001b[39;00m \u001b[38;5;28;01mNone\u001b[39;00m:\n\u001b[32m--> \u001b[39m\u001b[32m984\u001b[39m     \u001b[43mmethod\u001b[49m\u001b[43m(\u001b[49m\u001b[43m)\u001b[49m\n\u001b[32m    985\u001b[39m     \u001b[38;5;28;01mreturn\u001b[39;00m \u001b[38;5;28;01mTrue\u001b[39;00m\n",
      "\u001b[36mFile \u001b[39m\u001b[32m~/Documents/GitHub/IFN695-Codebase/ifn695_venv/lib/python3.12/site-packages/plotly/basedatatypes.py:850\u001b[39m, in \u001b[36mBaseFigure._ipython_display_\u001b[39m\u001b[34m(self)\u001b[39m\n\u001b[32m    847\u001b[39m \u001b[38;5;28;01mimport\u001b[39;00m\u001b[38;5;250m \u001b[39m\u001b[34;01mplotly\u001b[39;00m\u001b[34;01m.\u001b[39;00m\u001b[34;01mio\u001b[39;00m\u001b[38;5;250m \u001b[39m\u001b[38;5;28;01mas\u001b[39;00m\u001b[38;5;250m \u001b[39m\u001b[34;01mpio\u001b[39;00m\n\u001b[32m    849\u001b[39m \u001b[38;5;28;01mif\u001b[39;00m pio.renderers.render_on_display \u001b[38;5;129;01mand\u001b[39;00m pio.renderers.default:\n\u001b[32m--> \u001b[39m\u001b[32m850\u001b[39m     \u001b[43mpio\u001b[49m\u001b[43m.\u001b[49m\u001b[43mshow\u001b[49m\u001b[43m(\u001b[49m\u001b[38;5;28;43mself\u001b[39;49m\u001b[43m)\u001b[49m\n\u001b[32m    851\u001b[39m \u001b[38;5;28;01melse\u001b[39;00m:\n\u001b[32m    852\u001b[39m     \u001b[38;5;28mprint\u001b[39m(\u001b[38;5;28mrepr\u001b[39m(\u001b[38;5;28mself\u001b[39m))\n",
      "\u001b[36mFile \u001b[39m\u001b[32m~/Documents/GitHub/IFN695-Codebase/ifn695_venv/lib/python3.12/site-packages/plotly/io/_renderers.py:415\u001b[39m, in \u001b[36mshow\u001b[39m\u001b[34m(fig, renderer, validate, **kwargs)\u001b[39m\n\u001b[32m    410\u001b[39m     \u001b[38;5;28;01mraise\u001b[39;00m \u001b[38;5;167;01mValueError\u001b[39;00m(\n\u001b[32m    411\u001b[39m         \u001b[33m\"\u001b[39m\u001b[33mMime type rendering requires ipython but it is not installed\u001b[39m\u001b[33m\"\u001b[39m\n\u001b[32m    412\u001b[39m     )\n\u001b[32m    414\u001b[39m \u001b[38;5;28;01mif\u001b[39;00m \u001b[38;5;129;01mnot\u001b[39;00m nbformat \u001b[38;5;129;01mor\u001b[39;00m Version(nbformat.__version__) < Version(\u001b[33m\"\u001b[39m\u001b[33m4.2.0\u001b[39m\u001b[33m\"\u001b[39m):\n\u001b[32m--> \u001b[39m\u001b[32m415\u001b[39m     \u001b[38;5;28;01mraise\u001b[39;00m \u001b[38;5;167;01mValueError\u001b[39;00m(\n\u001b[32m    416\u001b[39m         \u001b[33m\"\u001b[39m\u001b[33mMime type rendering requires nbformat>=4.2.0 but it is not installed\u001b[39m\u001b[33m\"\u001b[39m\n\u001b[32m    417\u001b[39m     )\n\u001b[32m    419\u001b[39m display_jupyter_version_warnings()\n\u001b[32m    421\u001b[39m ipython_display.display(bundle, raw=\u001b[38;5;28;01mTrue\u001b[39;00m)\n",
      "\u001b[31mValueError\u001b[39m: Mime type rendering requires nbformat>=4.2.0 but it is not installed"
     ]
    },
    {
     "data": {
      "application/vnd.plotly.v1+json": {
       "config": {
        "plotlyServerURL": "https://plot.ly"
       },
       "data": [
        {
         "hovertemplate": "Fuel Type=Battery<br>Month=%{x}<br>Mean Supply (MW)=%{y}<extra></extra>",
         "legendgroup": "Battery",
         "line": {
          "color": "#636efa",
          "dash": "solid"
         },
         "marker": {
          "symbol": "circle"
         },
         "mode": "lines",
         "name": "Battery",
         "orientation": "v",
         "showlegend": true,
         "type": "scatter",
         "x": [
          "2018-01",
          "2018-02",
          "2018-03",
          "2018-04",
          "2018-05",
          "2018-06",
          "2018-07",
          "2018-08",
          "2018-09",
          "2018-10",
          "2018-11",
          "2018-12",
          "2019-01",
          "2019-02",
          "2019-03",
          "2019-04",
          "2019-05",
          "2019-06",
          "2019-07",
          "2019-08",
          "2019-09",
          "2019-10",
          "2019-11",
          "2019-12",
          "2020-01",
          "2020-02",
          "2020-03",
          "2020-04",
          "2020-05",
          "2020-06",
          "2020-07",
          "2020-08",
          "2020-09",
          "2020-10",
          "2020-11",
          "2020-12",
          "2021-01",
          "2021-02",
          "2021-03",
          "2021-04",
          "2021-05",
          "2021-06",
          "2021-07",
          "2021-08",
          "2021-09",
          "2021-10",
          "2021-11",
          "2021-12",
          "2022-01",
          "2022-02",
          "2022-03",
          "2022-04",
          "2022-05",
          "2022-06",
          "2022-07",
          "2022-08",
          "2022-09",
          "2022-10",
          "2022-11",
          "2022-12",
          "2023-01",
          "2023-02",
          "2023-03",
          "2023-04",
          "2023-05",
          "2023-06",
          "2023-07",
          "2023-08",
          "2023-09",
          "2023-10",
          "2023-11",
          "2023-12",
          "2024-01",
          "2024-02",
          "2024-03",
          "2024-04",
          "2024-05",
          "2024-06",
          "2024-07",
          "2024-08",
          "2024-09",
          "2024-10",
          "2024-11",
          "2024-12",
          "2025-01",
          "2025-02",
          "2025-03",
          "2025-04",
          "2025-05",
          "2025-06",
          "2025-07",
          "2025-08"
         ],
         "xaxis": "x",
         "y": {
          "bdata": "6SYxCKwc0j+HFtnO91P1PzvfT42X7gZAzczMzMxME0DdJAaBlUMIQMqhRbbz/fk/AAAAAAAAAADjpZvEIHAVQAAAAAAAAAAAAAAAAAAAAAAX2c73UwMkQOf7qfHSTeI/exSuR+F6ZD8zMzMzMzPzP1YOLbKdbwZAqMZLN4lBBUC+nxov3STkP8/3U+OlOyVAoBov3SQG6z+F61G4HsUbQPp+arx0kxZA16NwPQrXEEDVeOkmMQgfQNv5fmq8dPE/VOOlm8TgHEDXo3A9CtffP+BPjZdukh5AokW28/1UFkAw3SQGgRUbQHe+nxov3Q5AzczMzMzM8D8QWDm0yHYNQAaBlUOLnDFA8KfGSzepLEDgT42XbpIcQFyPwvUozDNAE4PAyqGdQkBuEoPAyiEMQAisHFpkOwdAuB6F61G4fj+iRbbz/dQNQPyp8dJNYkA/9P3UeOkm2T/jpZvEILCiP+J6FK5H4d4/TmIQWDk0JkCPwvUoXI8KQFCNl24Soy5AI9v5fmrMNEAAAAAAAAAUQBbZzvdTczhAJQaBlUNrIkDVeOkmMQgdQIGVQ4ts5+M/Itv5fmrMNUAnMQisHBogQLKd76fGCyVAnMQgsHLIIUBt5/up8aI2QCGwcmiRLRZAnMQgsHKoG0BQjZduEoMfQNv5fmq8dBtAMzMzMzMzLEBCYOXQIhsVQKjGSzeJoSJAcD0K16PwFUDRItv5fmoRQOOlm8Qg4DZAhxbZzvdzMkBlO99Pjcc1QNV46SYxiC5ASzeJQWBlFUCJQWDl0OIoQD0K16NwfRxAhxbZzveTIkCBlUOLbCceQJmZmZmZmQxAbxKDwMqh8z9OYhBYOThXwOOlm8Qg5FTAtMh2vp+aGkA4iUFg5RAfQC2yne+nlkZAK4cW2c6HMEC8dJMYBMYxQFK4HoXrATFAK4cW2c739T/x0k1iEFgTQIGVQ4tsxypAYhBYObSoNkC4HoXrUfgcQA==",
          "dtype": "f8"
         },
         "yaxis": "y"
        },
        {
         "hovertemplate": "Fuel Type=Wind<br>Month=%{x}<br>Mean Supply (MW)=%{y}<extra></extra>",
         "legendgroup": "Wind",
         "line": {
          "color": "#EF553B",
          "dash": "solid"
         },
         "marker": {
          "symbol": "circle"
         },
         "mode": "lines",
         "name": "Wind",
         "orientation": "v",
         "showlegend": true,
         "type": "scatter",
         "x": [
          "2018-01",
          "2018-02",
          "2018-03",
          "2018-04",
          "2018-05",
          "2018-06",
          "2018-07",
          "2018-08",
          "2018-09",
          "2018-10",
          "2018-11",
          "2018-12",
          "2019-01",
          "2019-02",
          "2019-03",
          "2019-04",
          "2019-05",
          "2019-06",
          "2019-07",
          "2019-08",
          "2019-09",
          "2019-10",
          "2019-11",
          "2019-12",
          "2020-01",
          "2020-02",
          "2020-03",
          "2020-04",
          "2020-05",
          "2020-06",
          "2020-07",
          "2020-08",
          "2020-09",
          "2020-10",
          "2020-11",
          "2020-12",
          "2021-01",
          "2021-02",
          "2021-03",
          "2021-04",
          "2021-05",
          "2021-06",
          "2021-07",
          "2021-08",
          "2021-09",
          "2021-10",
          "2021-11",
          "2021-12",
          "2022-01",
          "2022-02",
          "2022-03",
          "2022-04",
          "2022-05",
          "2022-06",
          "2022-07",
          "2022-08",
          "2022-09",
          "2022-10",
          "2022-11",
          "2022-12",
          "2023-01",
          "2023-02",
          "2023-03",
          "2023-04",
          "2023-05",
          "2023-06",
          "2023-07",
          "2023-08",
          "2023-09",
          "2023-10",
          "2023-11",
          "2023-12",
          "2024-01",
          "2024-02",
          "2024-03",
          "2024-04",
          "2024-05",
          "2024-06",
          "2024-07",
          "2024-08",
          "2024-09",
          "2024-10",
          "2024-11",
          "2024-12",
          "2025-01",
          "2025-02",
          "2025-03",
          "2025-04",
          "2025-05",
          "2025-06",
          "2025-07",
          "2025-08"
         ],
         "xaxis": "x",
         "y": {
          "bdata": "+FPjpRvOmkDLoUW28197QNEi2/n+8ZpAqMZLNwlml0BeukkMwmucQJVDi2xn6ZxADy2yna/Xn0CHFtnOV9+gQKwcWmS7yJ9A8KfGS7fTlUCHFtnON2CYQIXrUbheOaJAukkMAus1lkAQWDm0qFqhQBBYObQIOZNAXI/C9Whrn0BSuB6Fy1+gQJDC9Shcr55AikFg5VB1mUDAyqFFFgKhQDq0yHa+WZdAVg4tsl0YoUA1XrpJLOygQBSuR+GapqJAhMDKocURiUDwp8ZLt/GMQFYOLbIdY5tAuR6F6xF1nkCPwvUofKCgQDVeukkM7aBA6Pup8dJPokCwcmiRbbOkQGq8dJO4CKRAxks3ieFyoEA6tMh2vhuhQH0/NV569KJAJQaBlUOcmUDfT42XLuqeQHnpJjEIv55Abef7qbGWokB1kxgEVkOhQF66SQwiP6JAoBov3cTaqkDeJAaBVRudQMh2vp+aV6RA+FPjpVvIo0ApXI/CdYmlQAaBlUOriqFA9P3UeCkolkA6tMh2PiSbQOomMQhsCaRAFK5H4XrTnEArhxbZjmieQJduEoPAZ6RA9P3UeKlGp0DNzMzMrH6kQP7UeOmGZaVA/Knx0s3ZpUCHFtnO9w6rQH9qvHRTQadAkML1KFxgl0A6tMh2vseiQNejcD2qZaBAWmQ73y+IoUDLoUW2M9qrQGIQWDl0zahAAAAAAAAoqECHFtnOl8egQEA1XrpJNJlA001iELilo0Dn+6nxkrSiQHNoke1cDaNA+FPjpdvQmEAW2c73Uw+WQJ3vp8ZrS6hA5KWbxGCBo0B7FK5HYaqmQHE9Ctcj05hAJjEIrJxOpEDiehSuJyelQIXrUbh+YKdA6Pup8dLflUBeukkMgl6kQFCNl25SqplAJzEIrFyoqUBiEFg5VKKnQLpJDAIrhJdAx0s3iYGsn0BU46Wb5H+nQPp+arw0ealAVg4tsr2GqkC+nxov/fCmQA==",
          "dtype": "f8"
         },
         "yaxis": "y"
        },
        {
         "hovertemplate": "Fuel Type=Utility-scale Solar<br>Month=%{x}<br>Mean Supply (MW)=%{y}<extra></extra>",
         "legendgroup": "Utility-scale Solar",
         "line": {
          "color": "#00cc96",
          "dash": "solid"
         },
         "marker": {
          "symbol": "circle"
         },
         "mode": "lines",
         "name": "Utility-scale Solar",
         "orientation": "v",
         "showlegend": true,
         "type": "scatter",
         "x": [
          "2018-01",
          "2018-02",
          "2018-03",
          "2018-04",
          "2018-05",
          "2018-06",
          "2018-07",
          "2018-08",
          "2018-09",
          "2018-10",
          "2018-11",
          "2018-12",
          "2019-01",
          "2019-02",
          "2019-03",
          "2019-04",
          "2019-05",
          "2019-06",
          "2019-07",
          "2019-08",
          "2019-09",
          "2019-10",
          "2019-11",
          "2019-12",
          "2020-01",
          "2020-02",
          "2020-03",
          "2020-04",
          "2020-05",
          "2020-06",
          "2020-07",
          "2020-08",
          "2020-09",
          "2020-10",
          "2020-11",
          "2020-12",
          "2021-01",
          "2021-02",
          "2021-03",
          "2021-04",
          "2021-05",
          "2021-06",
          "2021-07",
          "2021-08",
          "2021-09",
          "2021-10",
          "2021-11",
          "2021-12",
          "2022-01",
          "2022-02",
          "2022-03",
          "2022-04",
          "2022-05",
          "2022-06",
          "2022-07",
          "2022-08",
          "2022-09",
          "2022-10",
          "2022-11",
          "2022-12",
          "2023-01",
          "2023-02",
          "2023-03",
          "2023-04",
          "2023-05",
          "2023-06",
          "2023-07",
          "2023-08",
          "2023-09",
          "2023-10",
          "2023-11",
          "2023-12",
          "2024-01",
          "2024-02",
          "2024-03",
          "2024-04",
          "2024-05",
          "2024-06",
          "2024-07",
          "2024-08",
          "2024-09",
          "2024-10",
          "2024-11",
          "2024-12",
          "2025-01",
          "2025-02",
          "2025-03",
          "2025-04",
          "2025-05",
          "2025-06",
          "2025-07",
          "2025-08"
         ],
         "xaxis": "x",
         "y": {
          "bdata": "SgwCK4fWYEBaZDvfT435P3A9CtejrmJAexSuR+GAZEBg5dAi27ljQK5H4XoUuGVA8KfGSzdrcEBI4XoUrjxyQDm0yHa+SndABFYOLTLkgEAGgZVDC5OCQOtRuB6FGoNAeOkmMYgHh0DHSzeJwXGBQM3MzMzMeIVA1XjpJjG9hkBSuB6F68mFQOf7qfFSIYpA46WbxCD/i0D2KFyPQgaKQIcW2c73zo1AppvEIHCTkEBBYOXQYoCQQGHl0CIbJ5BAmpmZmRmhkUAW2c730/+RQKRwPQpXyJBAiBbZzvfAj0CKQWDl0N6LQFYOLbKdBIhALbKd7ydMjkBnZmZmZgaRQCCwcmjRAJJACKwcWuQSkkB9PzVe+tiUQGDl0CKbQJJAObTIdv7GlUBPjZduEgOZQBWuR+G6UZZABoGVQ8uakUDP91PjJYyUQDQzMzPzSZRAGQRWDu19kkAVrkfhet6PQO18PzXeCpdAQ4ts5/vxlUBLN4lBIDOWQOBPjZfOxKBATDeJQWD3nEAAAAAAIAegQJzEILCyH5tA4XoUrofqmkCsHFpke5abQLpJDAIr85VAz/dT4yUonUATg8DKIceVQI6XbhLDDJVAObTIdr7gnECNl24SQ1qbQKwcWmS7A55A4noUrqddpECS7Xw/taaiQFg5tMgWNaBA2c73UyOgnUCJQWDlENWYQJLtfD91+Z9AFtnO99PuoECfGi/dRCqkQNEi2/m+yaNAfT81XlppokARWDm0yGOcQMuhRbYzwKNA3SQGgdXsokCDwMqhhSynQKrx0k3iOKVAeekmMcjboEAv3SQGwfGfQPLSTWLQh6BAPN9Pjff6oEBcj8L1KNygQGu8dJPYLKRA0SLb+R55oEDC9Shcz4mnQFCNl27yHqdAjpduEsO3qEAxCKwc2tmlQGu8dJO4pqhAppvEILAbm0BvEoPAShSeQB+F61H49aRAukkMAgv+o0BfukkMYl6mQA==",
          "dtype": "f8"
         },
         "yaxis": "y"
        },
        {
         "hovertemplate": "Fuel Type=Hydro<br>Month=%{x}<br>Mean Supply (MW)=%{y}<extra></extra>",
         "legendgroup": "Hydro",
         "line": {
          "color": "#ab63fa",
          "dash": "solid"
         },
         "marker": {
          "symbol": "circle"
         },
         "mode": "lines",
         "name": "Hydro",
         "orientation": "v",
         "showlegend": true,
         "type": "scatter",
         "x": [
          "2018-01",
          "2018-02",
          "2018-03",
          "2018-04",
          "2018-05",
          "2018-06",
          "2018-07",
          "2018-08",
          "2018-09",
          "2018-10",
          "2018-11",
          "2018-12",
          "2019-01",
          "2019-02",
          "2019-03",
          "2019-04",
          "2019-05",
          "2019-06",
          "2019-07",
          "2019-08",
          "2019-09",
          "2019-10",
          "2019-11",
          "2019-12",
          "2020-01",
          "2020-02",
          "2020-03",
          "2020-04",
          "2020-05",
          "2020-06",
          "2020-07",
          "2020-08",
          "2020-09",
          "2020-10",
          "2020-11",
          "2020-12",
          "2021-01",
          "2021-02",
          "2021-03",
          "2021-04",
          "2021-05",
          "2021-06",
          "2021-07",
          "2021-08",
          "2021-09",
          "2021-10",
          "2021-11",
          "2021-12",
          "2022-01",
          "2022-02",
          "2022-03",
          "2022-04",
          "2022-05",
          "2022-06",
          "2022-07",
          "2022-08",
          "2022-09",
          "2022-10",
          "2022-11",
          "2022-12",
          "2023-01",
          "2023-02",
          "2023-03",
          "2023-04",
          "2023-05",
          "2023-06",
          "2023-07",
          "2023-08",
          "2023-09",
          "2023-10",
          "2023-11",
          "2023-12",
          "2024-01",
          "2024-02",
          "2024-03",
          "2024-04",
          "2024-05",
          "2024-06",
          "2024-07",
          "2024-08",
          "2024-09",
          "2024-10",
          "2024-11",
          "2024-12",
          "2025-01",
          "2025-02",
          "2025-03",
          "2025-04",
          "2025-05",
          "2025-06",
          "2025-07",
          "2025-08"
         ],
         "xaxis": "x",
         "y": {
          "bdata": "UrgeheuIkUCoxks3iVGBQBSuR+H6N5BAKVyPwrVolECClUOLrJ2aQEA1Xrppe6BAHFpkOx+olkDTTWIQmKGXQDq0yHb+EpdABFYOLbJSikCHFtnON8iSQBbZzvdTF4VAK4cW2U6HiUAAAAAAgBSAQA4tsp1vjIpAgZVDi2xygUAIrBxaZNyPQKJFtvN9OJFACKwcWuQ9lUDfT42XbiGRQHA9Ctejd5JAXrpJDAKuiUCiRbbz/TmHQKrx0k1iqIZAsHJoke3+hEBU46WbBFiRQFCNl26S8YZAdZMYBNY3kEB3vp8abxaRQBBYObRIEZZAPgrXo3BLhkC+nxov3aqEQJHtfD91zJBACtejcD2Jk0CYbhKDwAWFQLbz/dR4pYRAtvP91PhBh0CXbhKDQFWKQJhuEoPAXoVAokW28/1DkEAEVg4tsiiUQFyPwvWomZNApHA9ClfkjUDpJjEILOWRQG4Sg8DKVo9AvHSTGMRkkkArhxbZTpSSQObQItu5IZFA7FG4HgVukUC28/3UeCCRQDeJQWClsZNAqvHSTeKAjEDAyqFFNoKSQOomMQgsaZ1ACKwcWmTAlEDLoUW2s3KXQBkEVg7tCZBAkML1KJz/kkCuR+F61KSYQOF6FK7HyYpAI9v5fqrdk0AW2c7301iHQKjGSzeJEJJA7nw/NZ5um0ApXI/CNbGQQGIQWDn0npVAH4XrUThcmUC8dJMYhAOYQEOLbOdbp6BA46WbxOCVkUC5HoXrUZeJQCuHFtnOvYNAaZHtfD+hjUA1XrpJzBeQQAisHFpkMopAgZVDi+y5i0CEwMqhxfqOQNv5fmq8d4pAtMh2vp9gikC6SQwCqyGLQI2XbhKDmI1AFK5H4TpImUCS7Xw/tRmNQBBYObQIpJBARbbz/VSMiUDLoUW2cwSNQEw3iUFgD4pAYOXQIttlhECPwvUo3GiNQE5iEFi5S4lAYOXQIlsNmECgGi/dZCCTQA==",
          "dtype": "f8"
         },
         "yaxis": "y"
        },
        {
         "hovertemplate": "Fuel Type=Distributed PV<br>Month=%{x}<br>Mean Supply (MW)=%{y}<extra></extra>",
         "legendgroup": "Distributed PV",
         "line": {
          "color": "#FFA15A",
          "dash": "solid"
         },
         "marker": {
          "symbol": "circle"
         },
         "mode": "lines",
         "name": "Distributed PV",
         "orientation": "v",
         "showlegend": true,
         "type": "scatter",
         "x": [
          "2018-01",
          "2018-02",
          "2018-03",
          "2018-04",
          "2018-05",
          "2018-06",
          "2018-07",
          "2018-08",
          "2018-09",
          "2018-10",
          "2018-11",
          "2018-12",
          "2019-01",
          "2019-02",
          "2019-03",
          "2019-04",
          "2019-05",
          "2019-06",
          "2019-07",
          "2019-08",
          "2019-09",
          "2019-10",
          "2019-11",
          "2019-12",
          "2020-01",
          "2020-02",
          "2020-03",
          "2020-04",
          "2020-05",
          "2020-06",
          "2020-07",
          "2020-08",
          "2020-09",
          "2020-10",
          "2020-11",
          "2020-12",
          "2021-01",
          "2021-02",
          "2021-03",
          "2021-04",
          "2021-05",
          "2021-06",
          "2021-07",
          "2021-08",
          "2021-09",
          "2021-10",
          "2021-11",
          "2021-12",
          "2022-01",
          "2022-02",
          "2022-03",
          "2022-04",
          "2022-05",
          "2022-06",
          "2022-07",
          "2022-08",
          "2022-09",
          "2022-10",
          "2022-11",
          "2022-12",
          "2023-01",
          "2023-02",
          "2023-03",
          "2023-04",
          "2023-05",
          "2023-06",
          "2023-07",
          "2023-08",
          "2023-09",
          "2023-10",
          "2023-11",
          "2023-12",
          "2024-01",
          "2024-02",
          "2024-03",
          "2024-04",
          "2024-05",
          "2024-06",
          "2024-07",
          "2024-08",
          "2024-09",
          "2024-10",
          "2024-11",
          "2024-12",
          "2025-01",
          "2025-02",
          "2025-03",
          "2025-04",
          "2025-05",
          "2025-06",
          "2025-07",
          "2025-08"
         ],
         "xaxis": "x",
         "y": {
          "bdata": "z/dT4yVJnkAAAAAAAAAAAPp+arx0IJhAsp3vp4YCmEDP91Pj5UiSQE5iEFg5+5JAnMQgsLIql0C+nxovnZ2aQGQ7308NRpxAPQrXozC2oEAv3SQGgf+dQKAaL93kTZ9Ax0s3iYF2oEBYObTItuGfQKRwPQqXCJ5AcT0K18OmoEAUrkfhOnSZQKJFtvP9gJhA9ihcjyJsoECYbhKDIEGhQARWDi1Si6FAK4cW2U46m0DD9ShcD3mmQL6fGi+9WaRA46WbxOBhp0C6SQwCC7GmQFCNl24Sq6ZAi2zn+wlzokBaZDvfr+qhQA4tsp2vkZtA9P3UeGnBoUB7FK5HgaSkQKjGSzfpdKZAI9v5foqtp0CkcD0KF6+pQAIrhxYZ7KlAi2zn+8lSqkBg5dAi+42rQJhuEoMAOqhAVOOlm8QYpkBOYhBY+WikQAwCK4fWbaRA9ihcj0LmpUB9PzVeekmsQDVeukmMbq1Ax0s3iUHVr0DFILByCNWwQAAAAAAgK7BAHVpkO//PsEDVeOkm0eyuQESLbOd7w6hAFK5H4Robq0Bcj8L1yLarQG8Sg8AKB6hAMQisHBqoqkDl0CLbmeytQJMYBFZuYK9AYOXQImt3skDb+X5qrPGxQIts5/up6bJAhetRuK6GtUBqvHSTiEi2QLKd76f2DrNA16NwPUpfq0A1XrpJ7O+vQOkmMQiMoaxAzczMzAyNrUBKDAIr18ewQAwCK4eGeLRAke18P1XStkCmm8QgQHO2QCcxCKxMGLZAxSCwcqh3tECLbOf7uY60QEa28/2kLrZAVg4tsh3ksUC28/3UCFqwQMUgsHI44bBAj8L1KFzqs0BGtvP9BCO1QLTIdr4fKbVAlkOLbCc3vEDpJjEIbC66QMHKoUUmN7tAcT0K13M8ukBoke18n764QJHtfD/l2LpARIts58vYt0BmZmZm1sqyQESLbOf7SLFAL90kBpGHs0DjpZvEQK2zQA==",
          "dtype": "f8"
         },
         "yaxis": "y"
        },
        {
         "hovertemplate": "Fuel Type=Biomass<br>Month=%{x}<br>Mean Supply (MW)=%{y}<extra></extra>",
         "legendgroup": "Biomass",
         "line": {
          "color": "#19d3f3",
          "dash": "solid"
         },
         "marker": {
          "symbol": "circle"
         },
         "mode": "lines",
         "name": "Biomass",
         "orientation": "v",
         "showlegend": true,
         "type": "scatter",
         "x": [
          "2018-01",
          "2018-03",
          "2018-04",
          "2018-05",
          "2018-06",
          "2018-07",
          "2018-08",
          "2018-09",
          "2018-10",
          "2018-11",
          "2018-12",
          "2019-01",
          "2019-02",
          "2019-03",
          "2019-04",
          "2019-05",
          "2019-06",
          "2019-07",
          "2019-08",
          "2019-09",
          "2019-10",
          "2019-11",
          "2019-12",
          "2020-01",
          "2020-02",
          "2020-03",
          "2020-04",
          "2020-05",
          "2020-06",
          "2020-07",
          "2020-08",
          "2020-09",
          "2020-10",
          "2020-11",
          "2020-12",
          "2021-01",
          "2021-02",
          "2021-03",
          "2021-04",
          "2021-05",
          "2021-06",
          "2021-07",
          "2021-08",
          "2021-09",
          "2021-10",
          "2021-11",
          "2021-12",
          "2022-01",
          "2022-02",
          "2022-03",
          "2022-04",
          "2022-05",
          "2022-06",
          "2022-07",
          "2022-08",
          "2022-09",
          "2022-10",
          "2022-11",
          "2022-12",
          "2023-01",
          "2023-02",
          "2023-03",
          "2023-04",
          "2023-05",
          "2023-06",
          "2023-07",
          "2023-08",
          "2023-09",
          "2023-10",
          "2023-11",
          "2023-12",
          "2024-01",
          "2024-02",
          "2024-03",
          "2024-04",
          "2024-05",
          "2024-06",
          "2024-07",
          "2024-08",
          "2024-09",
          "2024-10",
          "2024-11",
          "2024-12",
          "2025-01",
          "2025-02",
          "2025-03",
          "2025-04",
          "2025-05",
          "2025-06",
          "2025-07",
          "2025-08"
         ],
         "xaxis": "x",
         "y": {
          "bdata": "OrTIdr6/KEBmZmZmZmYAQDvfT42X7gtAd76fGi/dDUAAAAAAAIAfQJzEILBy6D1AgZVDi2ynS0Do+6nx0u1GQAAAAAAAAEZAtvP91HjZOUDO91PjpXs6QJqZmZmZWT1Anu+nxkv3OkDO91PjpRs6QAAAAAAAAAAAAAAAAAAAAAAOLbKd729HQGiR7Xw/1URA2/l+arzsTUCamZmZmflDQITAyqFFZjxAtMh2vp8aQkDRItv5fuo4QOj7qfHSHTlAzvdT46W7PUBmZmZmZuYuQAAAAAAAABBAAAAAAAAAAACamZmZmVkvQDMzMzMzMy5AZmZmZmaGOEDP91PjpatGQIPAyqFFhjlA6Pup8dItQ0A1XrpJDOIsQGiR7Xw/1T9AAiuHFtnuLEAAAAAAAAAAAAAAAAAAAAAA0SLb+X4qGkDSTWIQWNkiQGiR7Xw/1T1A9P3UeOnOQEA830+Nl64vQKAaL90kZitAZmZmZmZGMkAbL90kBpEzQGiR7Xw/1S1Aarx0kxhELEAAAAAAAAAAAAAAAAAAAAAAAAAAAAAAAADNzMzMzMwKQJ7vp8ZL9ydAGi/dJAZxP0CClUOLbJc9QGmR7Xw/VS5AMzMzMzMDSEDn+6nx0u1DQDMzMzMzMx9AlkOLbOe7HUAzMzMzMzPjv83MzMzMzNy/IbByaJHt4r8aL90kBpE5QAIrhxbZbiFAUrgehesZUUBU46WbxLhMQGiR7Xw/oVBAcD0K16PAS0CXbhKDwDo5QDiJQWDl8DNAEFg5tMhWKkCUGARWDg04QDMzMzMzsztAHoXrUbjeJUBQjZduEgM/QDEIrBxaZEZANl66SQyiTEAnMQisHD5UQPT91Hjp1lBAuB6F61FQTECq8dJNYuhBQPT91Hjp5hhAyqFFtvOtO0AaL90kBtE4QJZDi2zn2y9AEoPAyqEFLkD2KFyPwjVPQPLSTWIQZFNADi2yne9HREA=",
          "dtype": "f8"
         },
         "yaxis": "y"
        }
       ],
       "layout": {
        "legend": {
         "title": {
          "text": "Fuel Type"
         },
         "tracegroupgap": 0
        },
        "template": {
         "data": {
          "bar": [
           {
            "error_x": {
             "color": "#2a3f5f"
            },
            "error_y": {
             "color": "#2a3f5f"
            },
            "marker": {
             "line": {
              "color": "#E5ECF6",
              "width": 0.5
             },
             "pattern": {
              "fillmode": "overlay",
              "size": 10,
              "solidity": 0.2
             }
            },
            "type": "bar"
           }
          ],
          "barpolar": [
           {
            "marker": {
             "line": {
              "color": "#E5ECF6",
              "width": 0.5
             },
             "pattern": {
              "fillmode": "overlay",
              "size": 10,
              "solidity": 0.2
             }
            },
            "type": "barpolar"
           }
          ],
          "carpet": [
           {
            "aaxis": {
             "endlinecolor": "#2a3f5f",
             "gridcolor": "white",
             "linecolor": "white",
             "minorgridcolor": "white",
             "startlinecolor": "#2a3f5f"
            },
            "baxis": {
             "endlinecolor": "#2a3f5f",
             "gridcolor": "white",
             "linecolor": "white",
             "minorgridcolor": "white",
             "startlinecolor": "#2a3f5f"
            },
            "type": "carpet"
           }
          ],
          "choropleth": [
           {
            "colorbar": {
             "outlinewidth": 0,
             "ticks": ""
            },
            "type": "choropleth"
           }
          ],
          "contour": [
           {
            "colorbar": {
             "outlinewidth": 0,
             "ticks": ""
            },
            "colorscale": [
             [
              0,
              "#0d0887"
             ],
             [
              0.1111111111111111,
              "#46039f"
             ],
             [
              0.2222222222222222,
              "#7201a8"
             ],
             [
              0.3333333333333333,
              "#9c179e"
             ],
             [
              0.4444444444444444,
              "#bd3786"
             ],
             [
              0.5555555555555556,
              "#d8576b"
             ],
             [
              0.6666666666666666,
              "#ed7953"
             ],
             [
              0.7777777777777778,
              "#fb9f3a"
             ],
             [
              0.8888888888888888,
              "#fdca26"
             ],
             [
              1,
              "#f0f921"
             ]
            ],
            "type": "contour"
           }
          ],
          "contourcarpet": [
           {
            "colorbar": {
             "outlinewidth": 0,
             "ticks": ""
            },
            "type": "contourcarpet"
           }
          ],
          "heatmap": [
           {
            "colorbar": {
             "outlinewidth": 0,
             "ticks": ""
            },
            "colorscale": [
             [
              0,
              "#0d0887"
             ],
             [
              0.1111111111111111,
              "#46039f"
             ],
             [
              0.2222222222222222,
              "#7201a8"
             ],
             [
              0.3333333333333333,
              "#9c179e"
             ],
             [
              0.4444444444444444,
              "#bd3786"
             ],
             [
              0.5555555555555556,
              "#d8576b"
             ],
             [
              0.6666666666666666,
              "#ed7953"
             ],
             [
              0.7777777777777778,
              "#fb9f3a"
             ],
             [
              0.8888888888888888,
              "#fdca26"
             ],
             [
              1,
              "#f0f921"
             ]
            ],
            "type": "heatmap"
           }
          ],
          "histogram": [
           {
            "marker": {
             "pattern": {
              "fillmode": "overlay",
              "size": 10,
              "solidity": 0.2
             }
            },
            "type": "histogram"
           }
          ],
          "histogram2d": [
           {
            "colorbar": {
             "outlinewidth": 0,
             "ticks": ""
            },
            "colorscale": [
             [
              0,
              "#0d0887"
             ],
             [
              0.1111111111111111,
              "#46039f"
             ],
             [
              0.2222222222222222,
              "#7201a8"
             ],
             [
              0.3333333333333333,
              "#9c179e"
             ],
             [
              0.4444444444444444,
              "#bd3786"
             ],
             [
              0.5555555555555556,
              "#d8576b"
             ],
             [
              0.6666666666666666,
              "#ed7953"
             ],
             [
              0.7777777777777778,
              "#fb9f3a"
             ],
             [
              0.8888888888888888,
              "#fdca26"
             ],
             [
              1,
              "#f0f921"
             ]
            ],
            "type": "histogram2d"
           }
          ],
          "histogram2dcontour": [
           {
            "colorbar": {
             "outlinewidth": 0,
             "ticks": ""
            },
            "colorscale": [
             [
              0,
              "#0d0887"
             ],
             [
              0.1111111111111111,
              "#46039f"
             ],
             [
              0.2222222222222222,
              "#7201a8"
             ],
             [
              0.3333333333333333,
              "#9c179e"
             ],
             [
              0.4444444444444444,
              "#bd3786"
             ],
             [
              0.5555555555555556,
              "#d8576b"
             ],
             [
              0.6666666666666666,
              "#ed7953"
             ],
             [
              0.7777777777777778,
              "#fb9f3a"
             ],
             [
              0.8888888888888888,
              "#fdca26"
             ],
             [
              1,
              "#f0f921"
             ]
            ],
            "type": "histogram2dcontour"
           }
          ],
          "mesh3d": [
           {
            "colorbar": {
             "outlinewidth": 0,
             "ticks": ""
            },
            "type": "mesh3d"
           }
          ],
          "parcoords": [
           {
            "line": {
             "colorbar": {
              "outlinewidth": 0,
              "ticks": ""
             }
            },
            "type": "parcoords"
           }
          ],
          "pie": [
           {
            "automargin": true,
            "type": "pie"
           }
          ],
          "scatter": [
           {
            "fillpattern": {
             "fillmode": "overlay",
             "size": 10,
             "solidity": 0.2
            },
            "type": "scatter"
           }
          ],
          "scatter3d": [
           {
            "line": {
             "colorbar": {
              "outlinewidth": 0,
              "ticks": ""
             }
            },
            "marker": {
             "colorbar": {
              "outlinewidth": 0,
              "ticks": ""
             }
            },
            "type": "scatter3d"
           }
          ],
          "scattercarpet": [
           {
            "marker": {
             "colorbar": {
              "outlinewidth": 0,
              "ticks": ""
             }
            },
            "type": "scattercarpet"
           }
          ],
          "scattergeo": [
           {
            "marker": {
             "colorbar": {
              "outlinewidth": 0,
              "ticks": ""
             }
            },
            "type": "scattergeo"
           }
          ],
          "scattergl": [
           {
            "marker": {
             "colorbar": {
              "outlinewidth": 0,
              "ticks": ""
             }
            },
            "type": "scattergl"
           }
          ],
          "scattermap": [
           {
            "marker": {
             "colorbar": {
              "outlinewidth": 0,
              "ticks": ""
             }
            },
            "type": "scattermap"
           }
          ],
          "scattermapbox": [
           {
            "marker": {
             "colorbar": {
              "outlinewidth": 0,
              "ticks": ""
             }
            },
            "type": "scattermapbox"
           }
          ],
          "scatterpolar": [
           {
            "marker": {
             "colorbar": {
              "outlinewidth": 0,
              "ticks": ""
             }
            },
            "type": "scatterpolar"
           }
          ],
          "scatterpolargl": [
           {
            "marker": {
             "colorbar": {
              "outlinewidth": 0,
              "ticks": ""
             }
            },
            "type": "scatterpolargl"
           }
          ],
          "scatterternary": [
           {
            "marker": {
             "colorbar": {
              "outlinewidth": 0,
              "ticks": ""
             }
            },
            "type": "scatterternary"
           }
          ],
          "surface": [
           {
            "colorbar": {
             "outlinewidth": 0,
             "ticks": ""
            },
            "colorscale": [
             [
              0,
              "#0d0887"
             ],
             [
              0.1111111111111111,
              "#46039f"
             ],
             [
              0.2222222222222222,
              "#7201a8"
             ],
             [
              0.3333333333333333,
              "#9c179e"
             ],
             [
              0.4444444444444444,
              "#bd3786"
             ],
             [
              0.5555555555555556,
              "#d8576b"
             ],
             [
              0.6666666666666666,
              "#ed7953"
             ],
             [
              0.7777777777777778,
              "#fb9f3a"
             ],
             [
              0.8888888888888888,
              "#fdca26"
             ],
             [
              1,
              "#f0f921"
             ]
            ],
            "type": "surface"
           }
          ],
          "table": [
           {
            "cells": {
             "fill": {
              "color": "#EBF0F8"
             },
             "line": {
              "color": "white"
             }
            },
            "header": {
             "fill": {
              "color": "#C8D4E3"
             },
             "line": {
              "color": "white"
             }
            },
            "type": "table"
           }
          ]
         },
         "layout": {
          "annotationdefaults": {
           "arrowcolor": "#2a3f5f",
           "arrowhead": 0,
           "arrowwidth": 1
          },
          "autotypenumbers": "strict",
          "coloraxis": {
           "colorbar": {
            "outlinewidth": 0,
            "ticks": ""
           }
          },
          "colorscale": {
           "diverging": [
            [
             0,
             "#8e0152"
            ],
            [
             0.1,
             "#c51b7d"
            ],
            [
             0.2,
             "#de77ae"
            ],
            [
             0.3,
             "#f1b6da"
            ],
            [
             0.4,
             "#fde0ef"
            ],
            [
             0.5,
             "#f7f7f7"
            ],
            [
             0.6,
             "#e6f5d0"
            ],
            [
             0.7,
             "#b8e186"
            ],
            [
             0.8,
             "#7fbc41"
            ],
            [
             0.9,
             "#4d9221"
            ],
            [
             1,
             "#276419"
            ]
           ],
           "sequential": [
            [
             0,
             "#0d0887"
            ],
            [
             0.1111111111111111,
             "#46039f"
            ],
            [
             0.2222222222222222,
             "#7201a8"
            ],
            [
             0.3333333333333333,
             "#9c179e"
            ],
            [
             0.4444444444444444,
             "#bd3786"
            ],
            [
             0.5555555555555556,
             "#d8576b"
            ],
            [
             0.6666666666666666,
             "#ed7953"
            ],
            [
             0.7777777777777778,
             "#fb9f3a"
            ],
            [
             0.8888888888888888,
             "#fdca26"
            ],
            [
             1,
             "#f0f921"
            ]
           ],
           "sequentialminus": [
            [
             0,
             "#0d0887"
            ],
            [
             0.1111111111111111,
             "#46039f"
            ],
            [
             0.2222222222222222,
             "#7201a8"
            ],
            [
             0.3333333333333333,
             "#9c179e"
            ],
            [
             0.4444444444444444,
             "#bd3786"
            ],
            [
             0.5555555555555556,
             "#d8576b"
            ],
            [
             0.6666666666666666,
             "#ed7953"
            ],
            [
             0.7777777777777778,
             "#fb9f3a"
            ],
            [
             0.8888888888888888,
             "#fdca26"
            ],
            [
             1,
             "#f0f921"
            ]
           ]
          },
          "colorway": [
           "#636efa",
           "#EF553B",
           "#00cc96",
           "#ab63fa",
           "#FFA15A",
           "#19d3f3",
           "#FF6692",
           "#B6E880",
           "#FF97FF",
           "#FECB52"
          ],
          "font": {
           "color": "#2a3f5f"
          },
          "geo": {
           "bgcolor": "white",
           "lakecolor": "white",
           "landcolor": "#E5ECF6",
           "showlakes": true,
           "showland": true,
           "subunitcolor": "white"
          },
          "hoverlabel": {
           "align": "left"
          },
          "hovermode": "closest",
          "mapbox": {
           "style": "light"
          },
          "paper_bgcolor": "white",
          "plot_bgcolor": "#E5ECF6",
          "polar": {
           "angularaxis": {
            "gridcolor": "white",
            "linecolor": "white",
            "ticks": ""
           },
           "bgcolor": "#E5ECF6",
           "radialaxis": {
            "gridcolor": "white",
            "linecolor": "white",
            "ticks": ""
           }
          },
          "scene": {
           "xaxis": {
            "backgroundcolor": "#E5ECF6",
            "gridcolor": "white",
            "gridwidth": 2,
            "linecolor": "white",
            "showbackground": true,
            "ticks": "",
            "zerolinecolor": "white"
           },
           "yaxis": {
            "backgroundcolor": "#E5ECF6",
            "gridcolor": "white",
            "gridwidth": 2,
            "linecolor": "white",
            "showbackground": true,
            "ticks": "",
            "zerolinecolor": "white"
           },
           "zaxis": {
            "backgroundcolor": "#E5ECF6",
            "gridcolor": "white",
            "gridwidth": 2,
            "linecolor": "white",
            "showbackground": true,
            "ticks": "",
            "zerolinecolor": "white"
           }
          },
          "shapedefaults": {
           "line": {
            "color": "#2a3f5f"
           }
          },
          "ternary": {
           "aaxis": {
            "gridcolor": "white",
            "linecolor": "white",
            "ticks": ""
           },
           "baxis": {
            "gridcolor": "white",
            "linecolor": "white",
            "ticks": ""
           },
           "bgcolor": "#E5ECF6",
           "caxis": {
            "gridcolor": "white",
            "linecolor": "white",
            "ticks": ""
           }
          },
          "title": {
           "x": 0.05
          },
          "xaxis": {
           "automargin": true,
           "gridcolor": "white",
           "linecolor": "white",
           "ticks": "",
           "title": {
            "standoff": 15
           },
           "zerolinecolor": "white",
           "zerolinewidth": 2
          },
          "yaxis": {
           "automargin": true,
           "gridcolor": "white",
           "linecolor": "white",
           "ticks": "",
           "title": {
            "standoff": 15
           },
           "zerolinecolor": "white",
           "zerolinewidth": 2
          }
         }
        },
        "title": {
         "text": "Mean Monthly Supply of Renewable Energy Sources (2018-2025)"
        },
        "xaxis": {
         "anchor": "y",
         "domain": [
          0,
          1
         ],
         "title": {
          "text": "Month"
         }
        },
        "yaxis": {
         "anchor": "x",
         "domain": [
          0,
          1
         ],
         "title": {
          "text": "Mean Supply (MW)"
         }
        }
       }
      },
      "text/html": [
       "<div>                        <script type=\"text/javascript\">window.PlotlyConfig = {MathJaxConfig: 'local'};</script>\n",
       "        <script charset=\"utf-8\" src=\"https://cdn.plot.ly/plotly-3.1.0.min.js\" integrity=\"sha256-Ei4740bWZhaUTQuD6q9yQlgVCMPBz6CZWhevDYPv93A=\" crossorigin=\"anonymous\"></script>                <div id=\"ed32e45a-cc4d-4144-89c6-9da14d99fa06\" class=\"plotly-graph-div\" style=\"height:100%; width:100%;\"></div>            <script type=\"text/javascript\">                window.PLOTLYENV=window.PLOTLYENV || {};                                if (document.getElementById(\"ed32e45a-cc4d-4144-89c6-9da14d99fa06\")) {                    Plotly.newPlot(                        \"ed32e45a-cc4d-4144-89c6-9da14d99fa06\",                        [{\"hovertemplate\":\"Fuel Type=Battery\\u003cbr\\u003eMonth=%{x}\\u003cbr\\u003eMean Supply (MW)=%{y}\\u003cextra\\u003e\\u003c\\u002fextra\\u003e\",\"legendgroup\":\"Battery\",\"line\":{\"color\":\"#636efa\",\"dash\":\"solid\"},\"marker\":{\"symbol\":\"circle\"},\"mode\":\"lines\",\"name\":\"Battery\",\"orientation\":\"v\",\"showlegend\":true,\"x\":[\"2018-01\",\"2018-02\",\"2018-03\",\"2018-04\",\"2018-05\",\"2018-06\",\"2018-07\",\"2018-08\",\"2018-09\",\"2018-10\",\"2018-11\",\"2018-12\",\"2019-01\",\"2019-02\",\"2019-03\",\"2019-04\",\"2019-05\",\"2019-06\",\"2019-07\",\"2019-08\",\"2019-09\",\"2019-10\",\"2019-11\",\"2019-12\",\"2020-01\",\"2020-02\",\"2020-03\",\"2020-04\",\"2020-05\",\"2020-06\",\"2020-07\",\"2020-08\",\"2020-09\",\"2020-10\",\"2020-11\",\"2020-12\",\"2021-01\",\"2021-02\",\"2021-03\",\"2021-04\",\"2021-05\",\"2021-06\",\"2021-07\",\"2021-08\",\"2021-09\",\"2021-10\",\"2021-11\",\"2021-12\",\"2022-01\",\"2022-02\",\"2022-03\",\"2022-04\",\"2022-05\",\"2022-06\",\"2022-07\",\"2022-08\",\"2022-09\",\"2022-10\",\"2022-11\",\"2022-12\",\"2023-01\",\"2023-02\",\"2023-03\",\"2023-04\",\"2023-05\",\"2023-06\",\"2023-07\",\"2023-08\",\"2023-09\",\"2023-10\",\"2023-11\",\"2023-12\",\"2024-01\",\"2024-02\",\"2024-03\",\"2024-04\",\"2024-05\",\"2024-06\",\"2024-07\",\"2024-08\",\"2024-09\",\"2024-10\",\"2024-11\",\"2024-12\",\"2025-01\",\"2025-02\",\"2025-03\",\"2025-04\",\"2025-05\",\"2025-06\",\"2025-07\",\"2025-08\"],\"xaxis\":\"x\",\"y\":{\"dtype\":\"f8\",\"bdata\":\"6SYxCKwc0j+HFtnO91P1PzvfT42X7gZAzczMzMxME0DdJAaBlUMIQMqhRbbz\\u002ffk\\u002fAAAAAAAAAADjpZvEIHAVQAAAAAAAAAAAAAAAAAAAAAAX2c73UwMkQOf7qfHSTeI\\u002fexSuR+F6ZD8zMzMzMzPzP1YOLbKdbwZAqMZLN4lBBUC+nxov3STkP8\\u002f3U+OlOyVAoBov3SQG6z+F61G4HsUbQPp+arx0kxZA16NwPQrXEEDVeOkmMQgfQNv5fmq8dPE\\u002fVOOlm8TgHEDXo3A9CtffP+BPjZdukh5AokW28\\u002f1UFkAw3SQGgRUbQHe+nxov3Q5AzczMzMzM8D8QWDm0yHYNQAaBlUOLnDFA8KfGSzepLEDgT42XbpIcQFyPwvUozDNAE4PAyqGdQkBuEoPAyiEMQAisHFpkOwdAuB6F61G4fj+iRbbz\\u002fdQNQPyp8dJNYkA\\u002f9P3UeOkm2T\\u002fjpZvEILCiP+J6FK5H4d4\\u002fTmIQWDk0JkCPwvUoXI8KQFCNl24Soy5AI9v5fmrMNEAAAAAAAAAUQBbZzvdTczhAJQaBlUNrIkDVeOkmMQgdQIGVQ4ts5+M\\u002fItv5fmrMNUAnMQisHBogQLKd76fGCyVAnMQgsHLIIUBt5\\u002fup8aI2QCGwcmiRLRZAnMQgsHKoG0BQjZduEoMfQNv5fmq8dBtAMzMzMzMzLEBCYOXQIhsVQKjGSzeJoSJAcD0K16PwFUDRItv5fmoRQOOlm8Qg4DZAhxbZzvdzMkBlO99Pjcc1QNV46SYxiC5ASzeJQWBlFUCJQWDl0OIoQD0K16NwfRxAhxbZzveTIkCBlUOLbCceQJmZmZmZmQxAbxKDwMqh8z9OYhBYOThXwOOlm8Qg5FTAtMh2vp+aGkA4iUFg5RAfQC2yne+nlkZAK4cW2c6HMEC8dJMYBMYxQFK4HoXrATFAK4cW2c739T\\u002fx0k1iEFgTQIGVQ4tsxypAYhBYObSoNkC4HoXrUfgcQA==\"},\"yaxis\":\"y\",\"type\":\"scatter\"},{\"hovertemplate\":\"Fuel Type=Wind\\u003cbr\\u003eMonth=%{x}\\u003cbr\\u003eMean Supply (MW)=%{y}\\u003cextra\\u003e\\u003c\\u002fextra\\u003e\",\"legendgroup\":\"Wind\",\"line\":{\"color\":\"#EF553B\",\"dash\":\"solid\"},\"marker\":{\"symbol\":\"circle\"},\"mode\":\"lines\",\"name\":\"Wind\",\"orientation\":\"v\",\"showlegend\":true,\"x\":[\"2018-01\",\"2018-02\",\"2018-03\",\"2018-04\",\"2018-05\",\"2018-06\",\"2018-07\",\"2018-08\",\"2018-09\",\"2018-10\",\"2018-11\",\"2018-12\",\"2019-01\",\"2019-02\",\"2019-03\",\"2019-04\",\"2019-05\",\"2019-06\",\"2019-07\",\"2019-08\",\"2019-09\",\"2019-10\",\"2019-11\",\"2019-12\",\"2020-01\",\"2020-02\",\"2020-03\",\"2020-04\",\"2020-05\",\"2020-06\",\"2020-07\",\"2020-08\",\"2020-09\",\"2020-10\",\"2020-11\",\"2020-12\",\"2021-01\",\"2021-02\",\"2021-03\",\"2021-04\",\"2021-05\",\"2021-06\",\"2021-07\",\"2021-08\",\"2021-09\",\"2021-10\",\"2021-11\",\"2021-12\",\"2022-01\",\"2022-02\",\"2022-03\",\"2022-04\",\"2022-05\",\"2022-06\",\"2022-07\",\"2022-08\",\"2022-09\",\"2022-10\",\"2022-11\",\"2022-12\",\"2023-01\",\"2023-02\",\"2023-03\",\"2023-04\",\"2023-05\",\"2023-06\",\"2023-07\",\"2023-08\",\"2023-09\",\"2023-10\",\"2023-11\",\"2023-12\",\"2024-01\",\"2024-02\",\"2024-03\",\"2024-04\",\"2024-05\",\"2024-06\",\"2024-07\",\"2024-08\",\"2024-09\",\"2024-10\",\"2024-11\",\"2024-12\",\"2025-01\",\"2025-02\",\"2025-03\",\"2025-04\",\"2025-05\",\"2025-06\",\"2025-07\",\"2025-08\"],\"xaxis\":\"x\",\"y\":{\"dtype\":\"f8\",\"bdata\":\"+FPjpRvOmkDLoUW28197QNEi2\\u002fn+8ZpAqMZLNwlml0BeukkMwmucQJVDi2xn6ZxADy2yna\\u002fXn0CHFtnOV9+gQKwcWmS7yJ9A8KfGS7fTlUCHFtnON2CYQIXrUbheOaJAukkMAus1lkAQWDm0qFqhQBBYObQIOZNAXI\\u002fC9Whrn0BSuB6Fy1+gQJDC9Shcr55AikFg5VB1mUDAyqFFFgKhQDq0yHa+WZdAVg4tsl0YoUA1XrpJLOygQBSuR+GapqJAhMDKocURiUDwp8ZLt\\u002fGMQFYOLbIdY5tAuR6F6xF1nkCPwvUofKCgQDVeukkM7aBA6Pup8dJPokCwcmiRbbOkQGq8dJO4CKRAxks3ieFyoEA6tMh2vhuhQH0\\u002fNV569KJAJQaBlUOcmUDfT42XLuqeQHnpJjEIv55Abef7qbGWokB1kxgEVkOhQF66SQwiP6JAoBov3cTaqkDeJAaBVRudQMh2vp+aV6RA+FPjpVvIo0ApXI\\u002fCdYmlQAaBlUOriqFA9P3UeCkolkA6tMh2PiSbQOomMQhsCaRAFK5H4XrTnEArhxbZjmieQJduEoPAZ6RA9P3UeKlGp0DNzMzMrH6kQP7UeOmGZaVA\\u002fKnx0s3ZpUCHFtnO9w6rQH9qvHRTQadAkML1KFxgl0A6tMh2vseiQNejcD2qZaBAWmQ73y+IoUDLoUW2M9qrQGIQWDl0zahAAAAAAAAoqECHFtnOl8egQEA1XrpJNJlA001iELilo0Dn+6nxkrSiQHNoke1cDaNA+FPjpdvQmEAW2c73Uw+WQJ3vp8ZrS6hA5KWbxGCBo0B7FK5HYaqmQHE9Ctcj05hAJjEIrJxOpEDiehSuJyelQIXrUbh+YKdA6Pup8dLflUBeukkMgl6kQFCNl25SqplAJzEIrFyoqUBiEFg5VKKnQLpJDAIrhJdAx0s3iYGsn0BU46Wb5H+nQPp+arw0ealAVg4tsr2GqkC+nxov\\u002ffCmQA==\"},\"yaxis\":\"y\",\"type\":\"scatter\"},{\"hovertemplate\":\"Fuel Type=Utility-scale Solar\\u003cbr\\u003eMonth=%{x}\\u003cbr\\u003eMean Supply (MW)=%{y}\\u003cextra\\u003e\\u003c\\u002fextra\\u003e\",\"legendgroup\":\"Utility-scale Solar\",\"line\":{\"color\":\"#00cc96\",\"dash\":\"solid\"},\"marker\":{\"symbol\":\"circle\"},\"mode\":\"lines\",\"name\":\"Utility-scale Solar\",\"orientation\":\"v\",\"showlegend\":true,\"x\":[\"2018-01\",\"2018-02\",\"2018-03\",\"2018-04\",\"2018-05\",\"2018-06\",\"2018-07\",\"2018-08\",\"2018-09\",\"2018-10\",\"2018-11\",\"2018-12\",\"2019-01\",\"2019-02\",\"2019-03\",\"2019-04\",\"2019-05\",\"2019-06\",\"2019-07\",\"2019-08\",\"2019-09\",\"2019-10\",\"2019-11\",\"2019-12\",\"2020-01\",\"2020-02\",\"2020-03\",\"2020-04\",\"2020-05\",\"2020-06\",\"2020-07\",\"2020-08\",\"2020-09\",\"2020-10\",\"2020-11\",\"2020-12\",\"2021-01\",\"2021-02\",\"2021-03\",\"2021-04\",\"2021-05\",\"2021-06\",\"2021-07\",\"2021-08\",\"2021-09\",\"2021-10\",\"2021-11\",\"2021-12\",\"2022-01\",\"2022-02\",\"2022-03\",\"2022-04\",\"2022-05\",\"2022-06\",\"2022-07\",\"2022-08\",\"2022-09\",\"2022-10\",\"2022-11\",\"2022-12\",\"2023-01\",\"2023-02\",\"2023-03\",\"2023-04\",\"2023-05\",\"2023-06\",\"2023-07\",\"2023-08\",\"2023-09\",\"2023-10\",\"2023-11\",\"2023-12\",\"2024-01\",\"2024-02\",\"2024-03\",\"2024-04\",\"2024-05\",\"2024-06\",\"2024-07\",\"2024-08\",\"2024-09\",\"2024-10\",\"2024-11\",\"2024-12\",\"2025-01\",\"2025-02\",\"2025-03\",\"2025-04\",\"2025-05\",\"2025-06\",\"2025-07\",\"2025-08\"],\"xaxis\":\"x\",\"y\":{\"dtype\":\"f8\",\"bdata\":\"SgwCK4fWYEBaZDvfT435P3A9CtejrmJAexSuR+GAZEBg5dAi27ljQK5H4XoUuGVA8KfGSzdrcEBI4XoUrjxyQDm0yHa+SndABFYOLTLkgEAGgZVDC5OCQOtRuB6FGoNAeOkmMYgHh0DHSzeJwXGBQM3MzMzMeIVA1XjpJjG9hkBSuB6F68mFQOf7qfFSIYpA46WbxCD\\u002fi0D2KFyPQgaKQIcW2c73zo1AppvEIHCTkEBBYOXQYoCQQGHl0CIbJ5BAmpmZmRmhkUAW2c730\\u002f+RQKRwPQpXyJBAiBbZzvfAj0CKQWDl0N6LQFYOLbKdBIhALbKd7ydMjkBnZmZmZgaRQCCwcmjRAJJACKwcWuQSkkB9PzVe+tiUQGDl0CKbQJJAObTIdv7GlUBPjZduEgOZQBWuR+G6UZZABoGVQ8uakUDP91PjJYyUQDQzMzPzSZRAGQRWDu19kkAVrkfhet6PQO18PzXeCpdAQ4ts5\\u002fvxlUBLN4lBIDOWQOBPjZfOxKBATDeJQWD3nEAAAAAAIAegQJzEILCyH5tA4XoUrofqmkCsHFpke5abQLpJDAIr85VAz\\u002fdT4yUonUATg8DKIceVQI6XbhLDDJVAObTIdr7gnECNl24SQ1qbQKwcWmS7A55A4noUrqddpECS7Xw\\u002ftaaiQFg5tMgWNaBA2c73UyOgnUCJQWDlENWYQJLtfD91+Z9AFtnO99PuoECfGi\\u002fdRCqkQNEi2\\u002fm+yaNAfT81XlppokARWDm0yGOcQMuhRbYzwKNA3SQGgdXsokCDwMqhhSynQKrx0k3iOKVAeekmMcjboEAv3SQGwfGfQPLSTWLQh6BAPN9Pjff6oEBcj8L1KNygQGu8dJPYLKRA0SLb+R55oEDC9Shcz4mnQFCNl27yHqdAjpduEsO3qEAxCKwc2tmlQGu8dJO4pqhAppvEILAbm0BvEoPAShSeQB+F61H49aRAukkMAgv+o0BfukkMYl6mQA==\"},\"yaxis\":\"y\",\"type\":\"scatter\"},{\"hovertemplate\":\"Fuel Type=Hydro\\u003cbr\\u003eMonth=%{x}\\u003cbr\\u003eMean Supply (MW)=%{y}\\u003cextra\\u003e\\u003c\\u002fextra\\u003e\",\"legendgroup\":\"Hydro\",\"line\":{\"color\":\"#ab63fa\",\"dash\":\"solid\"},\"marker\":{\"symbol\":\"circle\"},\"mode\":\"lines\",\"name\":\"Hydro\",\"orientation\":\"v\",\"showlegend\":true,\"x\":[\"2018-01\",\"2018-02\",\"2018-03\",\"2018-04\",\"2018-05\",\"2018-06\",\"2018-07\",\"2018-08\",\"2018-09\",\"2018-10\",\"2018-11\",\"2018-12\",\"2019-01\",\"2019-02\",\"2019-03\",\"2019-04\",\"2019-05\",\"2019-06\",\"2019-07\",\"2019-08\",\"2019-09\",\"2019-10\",\"2019-11\",\"2019-12\",\"2020-01\",\"2020-02\",\"2020-03\",\"2020-04\",\"2020-05\",\"2020-06\",\"2020-07\",\"2020-08\",\"2020-09\",\"2020-10\",\"2020-11\",\"2020-12\",\"2021-01\",\"2021-02\",\"2021-03\",\"2021-04\",\"2021-05\",\"2021-06\",\"2021-07\",\"2021-08\",\"2021-09\",\"2021-10\",\"2021-11\",\"2021-12\",\"2022-01\",\"2022-02\",\"2022-03\",\"2022-04\",\"2022-05\",\"2022-06\",\"2022-07\",\"2022-08\",\"2022-09\",\"2022-10\",\"2022-11\",\"2022-12\",\"2023-01\",\"2023-02\",\"2023-03\",\"2023-04\",\"2023-05\",\"2023-06\",\"2023-07\",\"2023-08\",\"2023-09\",\"2023-10\",\"2023-11\",\"2023-12\",\"2024-01\",\"2024-02\",\"2024-03\",\"2024-04\",\"2024-05\",\"2024-06\",\"2024-07\",\"2024-08\",\"2024-09\",\"2024-10\",\"2024-11\",\"2024-12\",\"2025-01\",\"2025-02\",\"2025-03\",\"2025-04\",\"2025-05\",\"2025-06\",\"2025-07\",\"2025-08\"],\"xaxis\":\"x\",\"y\":{\"dtype\":\"f8\",\"bdata\":\"UrgeheuIkUCoxks3iVGBQBSuR+H6N5BAKVyPwrVolECClUOLrJ2aQEA1Xrppe6BAHFpkOx+olkDTTWIQmKGXQDq0yHb+EpdABFYOLbJSikCHFtnON8iSQBbZzvdTF4VAK4cW2U6HiUAAAAAAgBSAQA4tsp1vjIpAgZVDi2xygUAIrBxaZNyPQKJFtvN9OJFACKwcWuQ9lUDfT42XbiGRQHA9Ctejd5JAXrpJDAKuiUCiRbbz\\u002fTmHQKrx0k1iqIZAsHJoke3+hEBU46WbBFiRQFCNl26S8YZAdZMYBNY3kEB3vp8abxaRQBBYObRIEZZAPgrXo3BLhkC+nxov3aqEQJHtfD91zJBACtejcD2Jk0CYbhKDwAWFQLbz\\u002fdR4pYRAtvP91PhBh0CXbhKDQFWKQJhuEoPAXoVAokW28\\u002f1DkEAEVg4tsiiUQFyPwvWomZNApHA9ClfkjUDpJjEILOWRQG4Sg8DKVo9AvHSTGMRkkkArhxbZTpSSQObQItu5IZFA7FG4HgVukUC28\\u002f3UeCCRQDeJQWClsZNAqvHSTeKAjEDAyqFFNoKSQOomMQgsaZ1ACKwcWmTAlEDLoUW2s3KXQBkEVg7tCZBAkML1KJz\\u002fkkCuR+F61KSYQOF6FK7HyYpAI9v5fqrdk0AW2c7301iHQKjGSzeJEJJA7nw\\u002fNZ5um0ApXI\\u002fCNbGQQGIQWDn0npVAH4XrUThcmUC8dJMYhAOYQEOLbOdbp6BA46WbxOCVkUC5HoXrUZeJQCuHFtnOvYNAaZHtfD+hjUA1XrpJzBeQQAisHFpkMopAgZVDi+y5i0CEwMqhxfqOQNv5fmq8d4pAtMh2vp9gikC6SQwCqyGLQI2XbhKDmI1AFK5H4TpImUCS7Xw\\u002ftRmNQBBYObQIpJBARbbz\\u002fVSMiUDLoUW2cwSNQEw3iUFgD4pAYOXQIttlhECPwvUo3GiNQE5iEFi5S4lAYOXQIlsNmECgGi\\u002fdZCCTQA==\"},\"yaxis\":\"y\",\"type\":\"scatter\"},{\"hovertemplate\":\"Fuel Type=Distributed PV\\u003cbr\\u003eMonth=%{x}\\u003cbr\\u003eMean Supply (MW)=%{y}\\u003cextra\\u003e\\u003c\\u002fextra\\u003e\",\"legendgroup\":\"Distributed PV\",\"line\":{\"color\":\"#FFA15A\",\"dash\":\"solid\"},\"marker\":{\"symbol\":\"circle\"},\"mode\":\"lines\",\"name\":\"Distributed PV\",\"orientation\":\"v\",\"showlegend\":true,\"x\":[\"2018-01\",\"2018-02\",\"2018-03\",\"2018-04\",\"2018-05\",\"2018-06\",\"2018-07\",\"2018-08\",\"2018-09\",\"2018-10\",\"2018-11\",\"2018-12\",\"2019-01\",\"2019-02\",\"2019-03\",\"2019-04\",\"2019-05\",\"2019-06\",\"2019-07\",\"2019-08\",\"2019-09\",\"2019-10\",\"2019-11\",\"2019-12\",\"2020-01\",\"2020-02\",\"2020-03\",\"2020-04\",\"2020-05\",\"2020-06\",\"2020-07\",\"2020-08\",\"2020-09\",\"2020-10\",\"2020-11\",\"2020-12\",\"2021-01\",\"2021-02\",\"2021-03\",\"2021-04\",\"2021-05\",\"2021-06\",\"2021-07\",\"2021-08\",\"2021-09\",\"2021-10\",\"2021-11\",\"2021-12\",\"2022-01\",\"2022-02\",\"2022-03\",\"2022-04\",\"2022-05\",\"2022-06\",\"2022-07\",\"2022-08\",\"2022-09\",\"2022-10\",\"2022-11\",\"2022-12\",\"2023-01\",\"2023-02\",\"2023-03\",\"2023-04\",\"2023-05\",\"2023-06\",\"2023-07\",\"2023-08\",\"2023-09\",\"2023-10\",\"2023-11\",\"2023-12\",\"2024-01\",\"2024-02\",\"2024-03\",\"2024-04\",\"2024-05\",\"2024-06\",\"2024-07\",\"2024-08\",\"2024-09\",\"2024-10\",\"2024-11\",\"2024-12\",\"2025-01\",\"2025-02\",\"2025-03\",\"2025-04\",\"2025-05\",\"2025-06\",\"2025-07\",\"2025-08\"],\"xaxis\":\"x\",\"y\":{\"dtype\":\"f8\",\"bdata\":\"z\\u002fdT4yVJnkAAAAAAAAAAAPp+arx0IJhAsp3vp4YCmEDP91Pj5UiSQE5iEFg5+5JAnMQgsLIql0C+nxovnZ2aQGQ7308NRpxAPQrXozC2oEAv3SQGgf+dQKAaL93kTZ9Ax0s3iYF2oEBYObTItuGfQKRwPQqXCJ5AcT0K18OmoEAUrkfhOnSZQKJFtvP9gJhA9ihcjyJsoECYbhKDIEGhQARWDi1Si6FAK4cW2U46m0DD9ShcD3mmQL6fGi+9WaRA46WbxOBhp0C6SQwCC7GmQFCNl24Sq6ZAi2zn+wlzokBaZDvfr+qhQA4tsp2vkZtA9P3UeGnBoUB7FK5HgaSkQKjGSzfpdKZAI9v5foqtp0CkcD0KF6+pQAIrhxYZ7KlAi2zn+8lSqkBg5dAi+42rQJhuEoMAOqhAVOOlm8QYpkBOYhBY+WikQAwCK4fWbaRA9ihcj0LmpUB9PzVeekmsQDVeukmMbq1Ax0s3iUHVr0DFILByCNWwQAAAAAAgK7BAHVpkO\\u002f\\u002fPsEDVeOkm0eyuQESLbOd7w6hAFK5H4Robq0Bcj8L1yLarQG8Sg8AKB6hAMQisHBqoqkDl0CLbmeytQJMYBFZuYK9AYOXQImt3skDb+X5qrPGxQIts5\\u002fup6bJAhetRuK6GtUBqvHSTiEi2QLKd76f2DrNA16NwPUpfq0A1XrpJ7O+vQOkmMQiMoaxAzczMzAyNrUBKDAIr18ewQAwCK4eGeLRAke18P1XStkCmm8QgQHO2QCcxCKxMGLZAxSCwcqh3tECLbOf7uY60QEa28\\u002f2kLrZAVg4tsh3ksUC28\\u002f3UCFqwQMUgsHI44bBAj8L1KFzqs0BGtvP9BCO1QLTIdr4fKbVAlkOLbCc3vEDpJjEIbC66QMHKoUUmN7tAcT0K13M8ukBoke18n764QJHtfD\\u002fl2LpARIts58vYt0BmZmZm1sqyQESLbOf7SLFAL90kBpGHs0DjpZvEQK2zQA==\"},\"yaxis\":\"y\",\"type\":\"scatter\"},{\"hovertemplate\":\"Fuel Type=Biomass\\u003cbr\\u003eMonth=%{x}\\u003cbr\\u003eMean Supply (MW)=%{y}\\u003cextra\\u003e\\u003c\\u002fextra\\u003e\",\"legendgroup\":\"Biomass\",\"line\":{\"color\":\"#19d3f3\",\"dash\":\"solid\"},\"marker\":{\"symbol\":\"circle\"},\"mode\":\"lines\",\"name\":\"Biomass\",\"orientation\":\"v\",\"showlegend\":true,\"x\":[\"2018-01\",\"2018-03\",\"2018-04\",\"2018-05\",\"2018-06\",\"2018-07\",\"2018-08\",\"2018-09\",\"2018-10\",\"2018-11\",\"2018-12\",\"2019-01\",\"2019-02\",\"2019-03\",\"2019-04\",\"2019-05\",\"2019-06\",\"2019-07\",\"2019-08\",\"2019-09\",\"2019-10\",\"2019-11\",\"2019-12\",\"2020-01\",\"2020-02\",\"2020-03\",\"2020-04\",\"2020-05\",\"2020-06\",\"2020-07\",\"2020-08\",\"2020-09\",\"2020-10\",\"2020-11\",\"2020-12\",\"2021-01\",\"2021-02\",\"2021-03\",\"2021-04\",\"2021-05\",\"2021-06\",\"2021-07\",\"2021-08\",\"2021-09\",\"2021-10\",\"2021-11\",\"2021-12\",\"2022-01\",\"2022-02\",\"2022-03\",\"2022-04\",\"2022-05\",\"2022-06\",\"2022-07\",\"2022-08\",\"2022-09\",\"2022-10\",\"2022-11\",\"2022-12\",\"2023-01\",\"2023-02\",\"2023-03\",\"2023-04\",\"2023-05\",\"2023-06\",\"2023-07\",\"2023-08\",\"2023-09\",\"2023-10\",\"2023-11\",\"2023-12\",\"2024-01\",\"2024-02\",\"2024-03\",\"2024-04\",\"2024-05\",\"2024-06\",\"2024-07\",\"2024-08\",\"2024-09\",\"2024-10\",\"2024-11\",\"2024-12\",\"2025-01\",\"2025-02\",\"2025-03\",\"2025-04\",\"2025-05\",\"2025-06\",\"2025-07\",\"2025-08\"],\"xaxis\":\"x\",\"y\":{\"dtype\":\"f8\",\"bdata\":\"OrTIdr6\\u002fKEBmZmZmZmYAQDvfT42X7gtAd76fGi\\u002fdDUAAAAAAAIAfQJzEILBy6D1AgZVDi2ynS0Do+6nx0u1GQAAAAAAAAEZAtvP91HjZOUDO91PjpXs6QJqZmZmZWT1Anu+nxkv3OkDO91PjpRs6QAAAAAAAAAAAAAAAAAAAAAAOLbKd729HQGiR7Xw\\u002f1URA2\\u002fl+arzsTUCamZmZmflDQITAyqFFZjxAtMh2vp8aQkDRItv5fuo4QOj7qfHSHTlAzvdT46W7PUBmZmZmZuYuQAAAAAAAABBAAAAAAAAAAACamZmZmVkvQDMzMzMzMy5AZmZmZmaGOEDP91PjpatGQIPAyqFFhjlA6Pup8dItQ0A1XrpJDOIsQGiR7Xw\\u002f1T9AAiuHFtnuLEAAAAAAAAAAAAAAAAAAAAAA0SLb+X4qGkDSTWIQWNkiQGiR7Xw\\u002f1T1A9P3UeOnOQEA830+Nl64vQKAaL90kZitAZmZmZmZGMkAbL90kBpEzQGiR7Xw\\u002f1S1Aarx0kxhELEAAAAAAAAAAAAAAAAAAAAAAAAAAAAAAAADNzMzMzMwKQJ7vp8ZL9ydAGi\\u002fdJAZxP0CClUOLbJc9QGmR7Xw\\u002fVS5AMzMzMzMDSEDn+6nx0u1DQDMzMzMzMx9AlkOLbOe7HUAzMzMzMzPjv83MzMzMzNy\\u002fIbByaJHt4r8aL90kBpE5QAIrhxbZbiFAUrgehesZUUBU46WbxLhMQGiR7Xw\\u002foVBAcD0K16PAS0CXbhKDwDo5QDiJQWDl8DNAEFg5tMhWKkCUGARWDg04QDMzMzMzsztAHoXrUbjeJUBQjZduEgM\\u002fQDEIrBxaZEZANl66SQyiTEAnMQisHD5UQPT91Hjp1lBAuB6F61FQTECq8dJNYuhBQPT91Hjp5hhAyqFFtvOtO0AaL90kBtE4QJZDi2zn2y9AEoPAyqEFLkD2KFyPwjVPQPLSTWIQZFNADi2yne9HREA=\"},\"yaxis\":\"y\",\"type\":\"scatter\"}],                        {\"template\":{\"data\":{\"histogram2dcontour\":[{\"type\":\"histogram2dcontour\",\"colorbar\":{\"outlinewidth\":0,\"ticks\":\"\"},\"colorscale\":[[0.0,\"#0d0887\"],[0.1111111111111111,\"#46039f\"],[0.2222222222222222,\"#7201a8\"],[0.3333333333333333,\"#9c179e\"],[0.4444444444444444,\"#bd3786\"],[0.5555555555555556,\"#d8576b\"],[0.6666666666666666,\"#ed7953\"],[0.7777777777777778,\"#fb9f3a\"],[0.8888888888888888,\"#fdca26\"],[1.0,\"#f0f921\"]]}],\"choropleth\":[{\"type\":\"choropleth\",\"colorbar\":{\"outlinewidth\":0,\"ticks\":\"\"}}],\"histogram2d\":[{\"type\":\"histogram2d\",\"colorbar\":{\"outlinewidth\":0,\"ticks\":\"\"},\"colorscale\":[[0.0,\"#0d0887\"],[0.1111111111111111,\"#46039f\"],[0.2222222222222222,\"#7201a8\"],[0.3333333333333333,\"#9c179e\"],[0.4444444444444444,\"#bd3786\"],[0.5555555555555556,\"#d8576b\"],[0.6666666666666666,\"#ed7953\"],[0.7777777777777778,\"#fb9f3a\"],[0.8888888888888888,\"#fdca26\"],[1.0,\"#f0f921\"]]}],\"heatmap\":[{\"type\":\"heatmap\",\"colorbar\":{\"outlinewidth\":0,\"ticks\":\"\"},\"colorscale\":[[0.0,\"#0d0887\"],[0.1111111111111111,\"#46039f\"],[0.2222222222222222,\"#7201a8\"],[0.3333333333333333,\"#9c179e\"],[0.4444444444444444,\"#bd3786\"],[0.5555555555555556,\"#d8576b\"],[0.6666666666666666,\"#ed7953\"],[0.7777777777777778,\"#fb9f3a\"],[0.8888888888888888,\"#fdca26\"],[1.0,\"#f0f921\"]]}],\"contourcarpet\":[{\"type\":\"contourcarpet\",\"colorbar\":{\"outlinewidth\":0,\"ticks\":\"\"}}],\"contour\":[{\"type\":\"contour\",\"colorbar\":{\"outlinewidth\":0,\"ticks\":\"\"},\"colorscale\":[[0.0,\"#0d0887\"],[0.1111111111111111,\"#46039f\"],[0.2222222222222222,\"#7201a8\"],[0.3333333333333333,\"#9c179e\"],[0.4444444444444444,\"#bd3786\"],[0.5555555555555556,\"#d8576b\"],[0.6666666666666666,\"#ed7953\"],[0.7777777777777778,\"#fb9f3a\"],[0.8888888888888888,\"#fdca26\"],[1.0,\"#f0f921\"]]}],\"surface\":[{\"type\":\"surface\",\"colorbar\":{\"outlinewidth\":0,\"ticks\":\"\"},\"colorscale\":[[0.0,\"#0d0887\"],[0.1111111111111111,\"#46039f\"],[0.2222222222222222,\"#7201a8\"],[0.3333333333333333,\"#9c179e\"],[0.4444444444444444,\"#bd3786\"],[0.5555555555555556,\"#d8576b\"],[0.6666666666666666,\"#ed7953\"],[0.7777777777777778,\"#fb9f3a\"],[0.8888888888888888,\"#fdca26\"],[1.0,\"#f0f921\"]]}],\"mesh3d\":[{\"type\":\"mesh3d\",\"colorbar\":{\"outlinewidth\":0,\"ticks\":\"\"}}],\"scatter\":[{\"fillpattern\":{\"fillmode\":\"overlay\",\"size\":10,\"solidity\":0.2},\"type\":\"scatter\"}],\"parcoords\":[{\"type\":\"parcoords\",\"line\":{\"colorbar\":{\"outlinewidth\":0,\"ticks\":\"\"}}}],\"scatterpolargl\":[{\"type\":\"scatterpolargl\",\"marker\":{\"colorbar\":{\"outlinewidth\":0,\"ticks\":\"\"}}}],\"bar\":[{\"error_x\":{\"color\":\"#2a3f5f\"},\"error_y\":{\"color\":\"#2a3f5f\"},\"marker\":{\"line\":{\"color\":\"#E5ECF6\",\"width\":0.5},\"pattern\":{\"fillmode\":\"overlay\",\"size\":10,\"solidity\":0.2}},\"type\":\"bar\"}],\"scattergeo\":[{\"type\":\"scattergeo\",\"marker\":{\"colorbar\":{\"outlinewidth\":0,\"ticks\":\"\"}}}],\"scatterpolar\":[{\"type\":\"scatterpolar\",\"marker\":{\"colorbar\":{\"outlinewidth\":0,\"ticks\":\"\"}}}],\"histogram\":[{\"marker\":{\"pattern\":{\"fillmode\":\"overlay\",\"size\":10,\"solidity\":0.2}},\"type\":\"histogram\"}],\"scattergl\":[{\"type\":\"scattergl\",\"marker\":{\"colorbar\":{\"outlinewidth\":0,\"ticks\":\"\"}}}],\"scatter3d\":[{\"type\":\"scatter3d\",\"line\":{\"colorbar\":{\"outlinewidth\":0,\"ticks\":\"\"}},\"marker\":{\"colorbar\":{\"outlinewidth\":0,\"ticks\":\"\"}}}],\"scattermap\":[{\"type\":\"scattermap\",\"marker\":{\"colorbar\":{\"outlinewidth\":0,\"ticks\":\"\"}}}],\"scattermapbox\":[{\"type\":\"scattermapbox\",\"marker\":{\"colorbar\":{\"outlinewidth\":0,\"ticks\":\"\"}}}],\"scatterternary\":[{\"type\":\"scatterternary\",\"marker\":{\"colorbar\":{\"outlinewidth\":0,\"ticks\":\"\"}}}],\"scattercarpet\":[{\"type\":\"scattercarpet\",\"marker\":{\"colorbar\":{\"outlinewidth\":0,\"ticks\":\"\"}}}],\"carpet\":[{\"aaxis\":{\"endlinecolor\":\"#2a3f5f\",\"gridcolor\":\"white\",\"linecolor\":\"white\",\"minorgridcolor\":\"white\",\"startlinecolor\":\"#2a3f5f\"},\"baxis\":{\"endlinecolor\":\"#2a3f5f\",\"gridcolor\":\"white\",\"linecolor\":\"white\",\"minorgridcolor\":\"white\",\"startlinecolor\":\"#2a3f5f\"},\"type\":\"carpet\"}],\"table\":[{\"cells\":{\"fill\":{\"color\":\"#EBF0F8\"},\"line\":{\"color\":\"white\"}},\"header\":{\"fill\":{\"color\":\"#C8D4E3\"},\"line\":{\"color\":\"white\"}},\"type\":\"table\"}],\"barpolar\":[{\"marker\":{\"line\":{\"color\":\"#E5ECF6\",\"width\":0.5},\"pattern\":{\"fillmode\":\"overlay\",\"size\":10,\"solidity\":0.2}},\"type\":\"barpolar\"}],\"pie\":[{\"automargin\":true,\"type\":\"pie\"}]},\"layout\":{\"autotypenumbers\":\"strict\",\"colorway\":[\"#636efa\",\"#EF553B\",\"#00cc96\",\"#ab63fa\",\"#FFA15A\",\"#19d3f3\",\"#FF6692\",\"#B6E880\",\"#FF97FF\",\"#FECB52\"],\"font\":{\"color\":\"#2a3f5f\"},\"hovermode\":\"closest\",\"hoverlabel\":{\"align\":\"left\"},\"paper_bgcolor\":\"white\",\"plot_bgcolor\":\"#E5ECF6\",\"polar\":{\"bgcolor\":\"#E5ECF6\",\"angularaxis\":{\"gridcolor\":\"white\",\"linecolor\":\"white\",\"ticks\":\"\"},\"radialaxis\":{\"gridcolor\":\"white\",\"linecolor\":\"white\",\"ticks\":\"\"}},\"ternary\":{\"bgcolor\":\"#E5ECF6\",\"aaxis\":{\"gridcolor\":\"white\",\"linecolor\":\"white\",\"ticks\":\"\"},\"baxis\":{\"gridcolor\":\"white\",\"linecolor\":\"white\",\"ticks\":\"\"},\"caxis\":{\"gridcolor\":\"white\",\"linecolor\":\"white\",\"ticks\":\"\"}},\"coloraxis\":{\"colorbar\":{\"outlinewidth\":0,\"ticks\":\"\"}},\"colorscale\":{\"sequential\":[[0.0,\"#0d0887\"],[0.1111111111111111,\"#46039f\"],[0.2222222222222222,\"#7201a8\"],[0.3333333333333333,\"#9c179e\"],[0.4444444444444444,\"#bd3786\"],[0.5555555555555556,\"#d8576b\"],[0.6666666666666666,\"#ed7953\"],[0.7777777777777778,\"#fb9f3a\"],[0.8888888888888888,\"#fdca26\"],[1.0,\"#f0f921\"]],\"sequentialminus\":[[0.0,\"#0d0887\"],[0.1111111111111111,\"#46039f\"],[0.2222222222222222,\"#7201a8\"],[0.3333333333333333,\"#9c179e\"],[0.4444444444444444,\"#bd3786\"],[0.5555555555555556,\"#d8576b\"],[0.6666666666666666,\"#ed7953\"],[0.7777777777777778,\"#fb9f3a\"],[0.8888888888888888,\"#fdca26\"],[1.0,\"#f0f921\"]],\"diverging\":[[0,\"#8e0152\"],[0.1,\"#c51b7d\"],[0.2,\"#de77ae\"],[0.3,\"#f1b6da\"],[0.4,\"#fde0ef\"],[0.5,\"#f7f7f7\"],[0.6,\"#e6f5d0\"],[0.7,\"#b8e186\"],[0.8,\"#7fbc41\"],[0.9,\"#4d9221\"],[1,\"#276419\"]]},\"xaxis\":{\"gridcolor\":\"white\",\"linecolor\":\"white\",\"ticks\":\"\",\"title\":{\"standoff\":15},\"zerolinecolor\":\"white\",\"automargin\":true,\"zerolinewidth\":2},\"yaxis\":{\"gridcolor\":\"white\",\"linecolor\":\"white\",\"ticks\":\"\",\"title\":{\"standoff\":15},\"zerolinecolor\":\"white\",\"automargin\":true,\"zerolinewidth\":2},\"scene\":{\"xaxis\":{\"backgroundcolor\":\"#E5ECF6\",\"gridcolor\":\"white\",\"linecolor\":\"white\",\"showbackground\":true,\"ticks\":\"\",\"zerolinecolor\":\"white\",\"gridwidth\":2},\"yaxis\":{\"backgroundcolor\":\"#E5ECF6\",\"gridcolor\":\"white\",\"linecolor\":\"white\",\"showbackground\":true,\"ticks\":\"\",\"zerolinecolor\":\"white\",\"gridwidth\":2},\"zaxis\":{\"backgroundcolor\":\"#E5ECF6\",\"gridcolor\":\"white\",\"linecolor\":\"white\",\"showbackground\":true,\"ticks\":\"\",\"zerolinecolor\":\"white\",\"gridwidth\":2}},\"shapedefaults\":{\"line\":{\"color\":\"#2a3f5f\"}},\"annotationdefaults\":{\"arrowcolor\":\"#2a3f5f\",\"arrowhead\":0,\"arrowwidth\":1},\"geo\":{\"bgcolor\":\"white\",\"landcolor\":\"#E5ECF6\",\"subunitcolor\":\"white\",\"showland\":true,\"showlakes\":true,\"lakecolor\":\"white\"},\"title\":{\"x\":0.05},\"mapbox\":{\"style\":\"light\"}}},\"xaxis\":{\"anchor\":\"y\",\"domain\":[0.0,1.0],\"title\":{\"text\":\"Month\"}},\"yaxis\":{\"anchor\":\"x\",\"domain\":[0.0,1.0],\"title\":{\"text\":\"Mean Supply (MW)\"}},\"legend\":{\"title\":{\"text\":\"Fuel Type\"},\"tracegroupgap\":0},\"title\":{\"text\":\"Mean Monthly Supply of Renewable Energy Sources (2018-2025)\"}},                        {\"responsive\": true}                    )                };            </script>        </div>"
      ],
      "text/plain": [
       "Figure({\n",
       "    'data': [{'hovertemplate': 'Fuel Type=Battery<br>Month=%{x}<br>Mean Supply (MW)=%{y}<extra></extra>',\n",
       "              'legendgroup': 'Battery',\n",
       "              'line': {'color': '#636efa', 'dash': 'solid'},\n",
       "              'marker': {'symbol': 'circle'},\n",
       "              'mode': 'lines',\n",
       "              'name': 'Battery',\n",
       "              'orientation': 'v',\n",
       "              'showlegend': True,\n",
       "              'type': 'scatter',\n",
       "              'x': array(['2018-01', '2018-02', '2018-03', '2018-04', '2018-05', '2018-06',\n",
       "                          '2018-07', '2018-08', '2018-09', '2018-10', '2018-11', '2018-12',\n",
       "                          '2019-01', '2019-02', '2019-03', '2019-04', '2019-05', '2019-06',\n",
       "                          '2019-07', '2019-08', '2019-09', '2019-10', '2019-11', '2019-12',\n",
       "                          '2020-01', '2020-02', '2020-03', '2020-04', '2020-05', '2020-06',\n",
       "                          '2020-07', '2020-08', '2020-09', '2020-10', '2020-11', '2020-12',\n",
       "                          '2021-01', '2021-02', '2021-03', '2021-04', '2021-05', '2021-06',\n",
       "                          '2021-07', '2021-08', '2021-09', '2021-10', '2021-11', '2021-12',\n",
       "                          '2022-01', '2022-02', '2022-03', '2022-04', '2022-05', '2022-06',\n",
       "                          '2022-07', '2022-08', '2022-09', '2022-10', '2022-11', '2022-12',\n",
       "                          '2023-01', '2023-02', '2023-03', '2023-04', '2023-05', '2023-06',\n",
       "                          '2023-07', '2023-08', '2023-09', '2023-10', '2023-11', '2023-12',\n",
       "                          '2024-01', '2024-02', '2024-03', '2024-04', '2024-05', '2024-06',\n",
       "                          '2024-07', '2024-08', '2024-09', '2024-10', '2024-11', '2024-12',\n",
       "                          '2025-01', '2025-02', '2025-03', '2025-04', '2025-05', '2025-06',\n",
       "                          '2025-07', '2025-08'], dtype=object),\n",
       "              'xaxis': 'x',\n",
       "              'y': {'bdata': ('6SYxCKwc0j+HFtnO91P1PzvfT42X7g' ... 'tsxypAYhBYObSoNkC4HoXrUfgcQA=='),\n",
       "                    'dtype': 'f8'},\n",
       "              'yaxis': 'y'},\n",
       "             {'hovertemplate': 'Fuel Type=Wind<br>Month=%{x}<br>Mean Supply (MW)=%{y}<extra></extra>',\n",
       "              'legendgroup': 'Wind',\n",
       "              'line': {'color': '#EF553B', 'dash': 'solid'},\n",
       "              'marker': {'symbol': 'circle'},\n",
       "              'mode': 'lines',\n",
       "              'name': 'Wind',\n",
       "              'orientation': 'v',\n",
       "              'showlegend': True,\n",
       "              'type': 'scatter',\n",
       "              'x': array(['2018-01', '2018-02', '2018-03', '2018-04', '2018-05', '2018-06',\n",
       "                          '2018-07', '2018-08', '2018-09', '2018-10', '2018-11', '2018-12',\n",
       "                          '2019-01', '2019-02', '2019-03', '2019-04', '2019-05', '2019-06',\n",
       "                          '2019-07', '2019-08', '2019-09', '2019-10', '2019-11', '2019-12',\n",
       "                          '2020-01', '2020-02', '2020-03', '2020-04', '2020-05', '2020-06',\n",
       "                          '2020-07', '2020-08', '2020-09', '2020-10', '2020-11', '2020-12',\n",
       "                          '2021-01', '2021-02', '2021-03', '2021-04', '2021-05', '2021-06',\n",
       "                          '2021-07', '2021-08', '2021-09', '2021-10', '2021-11', '2021-12',\n",
       "                          '2022-01', '2022-02', '2022-03', '2022-04', '2022-05', '2022-06',\n",
       "                          '2022-07', '2022-08', '2022-09', '2022-10', '2022-11', '2022-12',\n",
       "                          '2023-01', '2023-02', '2023-03', '2023-04', '2023-05', '2023-06',\n",
       "                          '2023-07', '2023-08', '2023-09', '2023-10', '2023-11', '2023-12',\n",
       "                          '2024-01', '2024-02', '2024-03', '2024-04', '2024-05', '2024-06',\n",
       "                          '2024-07', '2024-08', '2024-09', '2024-10', '2024-11', '2024-12',\n",
       "                          '2025-01', '2025-02', '2025-03', '2025-04', '2025-05', '2025-06',\n",
       "                          '2025-07', '2025-08'], dtype=object),\n",
       "              'xaxis': 'x',\n",
       "              'y': {'bdata': ('+FPjpRvOmkDLoUW28197QNEi2/n+8Z' ... 'w0ealAVg4tsr2GqkC+nxov/fCmQA=='),\n",
       "                    'dtype': 'f8'},\n",
       "              'yaxis': 'y'},\n",
       "             {'hovertemplate': ('Fuel Type=Utility-scale Solar<' ... 'upply (MW)=%{y}<extra></extra>'),\n",
       "              'legendgroup': 'Utility-scale Solar',\n",
       "              'line': {'color': '#00cc96', 'dash': 'solid'},\n",
       "              'marker': {'symbol': 'circle'},\n",
       "              'mode': 'lines',\n",
       "              'name': 'Utility-scale Solar',\n",
       "              'orientation': 'v',\n",
       "              'showlegend': True,\n",
       "              'type': 'scatter',\n",
       "              'x': array(['2018-01', '2018-02', '2018-03', '2018-04', '2018-05', '2018-06',\n",
       "                          '2018-07', '2018-08', '2018-09', '2018-10', '2018-11', '2018-12',\n",
       "                          '2019-01', '2019-02', '2019-03', '2019-04', '2019-05', '2019-06',\n",
       "                          '2019-07', '2019-08', '2019-09', '2019-10', '2019-11', '2019-12',\n",
       "                          '2020-01', '2020-02', '2020-03', '2020-04', '2020-05', '2020-06',\n",
       "                          '2020-07', '2020-08', '2020-09', '2020-10', '2020-11', '2020-12',\n",
       "                          '2021-01', '2021-02', '2021-03', '2021-04', '2021-05', '2021-06',\n",
       "                          '2021-07', '2021-08', '2021-09', '2021-10', '2021-11', '2021-12',\n",
       "                          '2022-01', '2022-02', '2022-03', '2022-04', '2022-05', '2022-06',\n",
       "                          '2022-07', '2022-08', '2022-09', '2022-10', '2022-11', '2022-12',\n",
       "                          '2023-01', '2023-02', '2023-03', '2023-04', '2023-05', '2023-06',\n",
       "                          '2023-07', '2023-08', '2023-09', '2023-10', '2023-11', '2023-12',\n",
       "                          '2024-01', '2024-02', '2024-03', '2024-04', '2024-05', '2024-06',\n",
       "                          '2024-07', '2024-08', '2024-09', '2024-10', '2024-11', '2024-12',\n",
       "                          '2025-01', '2025-02', '2025-03', '2025-04', '2025-05', '2025-06',\n",
       "                          '2025-07', '2025-08'], dtype=object),\n",
       "              'xaxis': 'x',\n",
       "              'y': {'bdata': ('SgwCK4fWYEBaZDvfT435P3A9Ctejrm' ... 'H49aRAukkMAgv+o0BfukkMYl6mQA=='),\n",
       "                    'dtype': 'f8'},\n",
       "              'yaxis': 'y'},\n",
       "             {'hovertemplate': 'Fuel Type=Hydro<br>Month=%{x}<br>Mean Supply (MW)=%{y}<extra></extra>',\n",
       "              'legendgroup': 'Hydro',\n",
       "              'line': {'color': '#ab63fa', 'dash': 'solid'},\n",
       "              'marker': {'symbol': 'circle'},\n",
       "              'mode': 'lines',\n",
       "              'name': 'Hydro',\n",
       "              'orientation': 'v',\n",
       "              'showlegend': True,\n",
       "              'type': 'scatter',\n",
       "              'x': array(['2018-01', '2018-02', '2018-03', '2018-04', '2018-05', '2018-06',\n",
       "                          '2018-07', '2018-08', '2018-09', '2018-10', '2018-11', '2018-12',\n",
       "                          '2019-01', '2019-02', '2019-03', '2019-04', '2019-05', '2019-06',\n",
       "                          '2019-07', '2019-08', '2019-09', '2019-10', '2019-11', '2019-12',\n",
       "                          '2020-01', '2020-02', '2020-03', '2020-04', '2020-05', '2020-06',\n",
       "                          '2020-07', '2020-08', '2020-09', '2020-10', '2020-11', '2020-12',\n",
       "                          '2021-01', '2021-02', '2021-03', '2021-04', '2021-05', '2021-06',\n",
       "                          '2021-07', '2021-08', '2021-09', '2021-10', '2021-11', '2021-12',\n",
       "                          '2022-01', '2022-02', '2022-03', '2022-04', '2022-05', '2022-06',\n",
       "                          '2022-07', '2022-08', '2022-09', '2022-10', '2022-11', '2022-12',\n",
       "                          '2023-01', '2023-02', '2023-03', '2023-04', '2023-05', '2023-06',\n",
       "                          '2023-07', '2023-08', '2023-09', '2023-10', '2023-11', '2023-12',\n",
       "                          '2024-01', '2024-02', '2024-03', '2024-04', '2024-05', '2024-06',\n",
       "                          '2024-07', '2024-08', '2024-09', '2024-10', '2024-11', '2024-12',\n",
       "                          '2025-01', '2025-02', '2025-03', '2025-04', '2025-05', '2025-06',\n",
       "                          '2025-07', '2025-08'], dtype=object),\n",
       "              'xaxis': 'x',\n",
       "              'y': {'bdata': ('UrgeheuIkUCoxks3iVGBQBSuR+H6N5' ... 'i5S4lAYOXQIlsNmECgGi/dZCCTQA=='),\n",
       "                    'dtype': 'f8'},\n",
       "              'yaxis': 'y'},\n",
       "             {'hovertemplate': 'Fuel Type=Distributed PV<br>Month=%{x}<br>Mean Supply (MW)=%{y}<extra></extra>',\n",
       "              'legendgroup': 'Distributed PV',\n",
       "              'line': {'color': '#FFA15A', 'dash': 'solid'},\n",
       "              'marker': {'symbol': 'circle'},\n",
       "              'mode': 'lines',\n",
       "              'name': 'Distributed PV',\n",
       "              'orientation': 'v',\n",
       "              'showlegend': True,\n",
       "              'type': 'scatter',\n",
       "              'x': array(['2018-01', '2018-02', '2018-03', '2018-04', '2018-05', '2018-06',\n",
       "                          '2018-07', '2018-08', '2018-09', '2018-10', '2018-11', '2018-12',\n",
       "                          '2019-01', '2019-02', '2019-03', '2019-04', '2019-05', '2019-06',\n",
       "                          '2019-07', '2019-08', '2019-09', '2019-10', '2019-11', '2019-12',\n",
       "                          '2020-01', '2020-02', '2020-03', '2020-04', '2020-05', '2020-06',\n",
       "                          '2020-07', '2020-08', '2020-09', '2020-10', '2020-11', '2020-12',\n",
       "                          '2021-01', '2021-02', '2021-03', '2021-04', '2021-05', '2021-06',\n",
       "                          '2021-07', '2021-08', '2021-09', '2021-10', '2021-11', '2021-12',\n",
       "                          '2022-01', '2022-02', '2022-03', '2022-04', '2022-05', '2022-06',\n",
       "                          '2022-07', '2022-08', '2022-09', '2022-10', '2022-11', '2022-12',\n",
       "                          '2023-01', '2023-02', '2023-03', '2023-04', '2023-05', '2023-06',\n",
       "                          '2023-07', '2023-08', '2023-09', '2023-10', '2023-11', '2023-12',\n",
       "                          '2024-01', '2024-02', '2024-03', '2024-04', '2024-05', '2024-06',\n",
       "                          '2024-07', '2024-08', '2024-09', '2024-10', '2024-11', '2024-12',\n",
       "                          '2025-01', '2025-02', '2025-03', '2025-04', '2025-05', '2025-06',\n",
       "                          '2025-07', '2025-08'], dtype=object),\n",
       "              'xaxis': 'x',\n",
       "              'y': {'bdata': ('z/dT4yVJnkAAAAAAAAAAAPp+arx0IJ' ... 'f7SLFAL90kBpGHs0DjpZvEQK2zQA=='),\n",
       "                    'dtype': 'f8'},\n",
       "              'yaxis': 'y'},\n",
       "             {'hovertemplate': 'Fuel Type=Biomass<br>Month=%{x}<br>Mean Supply (MW)=%{y}<extra></extra>',\n",
       "              'legendgroup': 'Biomass',\n",
       "              'line': {'color': '#19d3f3', 'dash': 'solid'},\n",
       "              'marker': {'symbol': 'circle'},\n",
       "              'mode': 'lines',\n",
       "              'name': 'Biomass',\n",
       "              'orientation': 'v',\n",
       "              'showlegend': True,\n",
       "              'type': 'scatter',\n",
       "              'x': array(['2018-01', '2018-03', '2018-04', '2018-05', '2018-06', '2018-07',\n",
       "                          '2018-08', '2018-09', '2018-10', '2018-11', '2018-12', '2019-01',\n",
       "                          '2019-02', '2019-03', '2019-04', '2019-05', '2019-06', '2019-07',\n",
       "                          '2019-08', '2019-09', '2019-10', '2019-11', '2019-12', '2020-01',\n",
       "                          '2020-02', '2020-03', '2020-04', '2020-05', '2020-06', '2020-07',\n",
       "                          '2020-08', '2020-09', '2020-10', '2020-11', '2020-12', '2021-01',\n",
       "                          '2021-02', '2021-03', '2021-04', '2021-05', '2021-06', '2021-07',\n",
       "                          '2021-08', '2021-09', '2021-10', '2021-11', '2021-12', '2022-01',\n",
       "                          '2022-02', '2022-03', '2022-04', '2022-05', '2022-06', '2022-07',\n",
       "                          '2022-08', '2022-09', '2022-10', '2022-11', '2022-12', '2023-01',\n",
       "                          '2023-02', '2023-03', '2023-04', '2023-05', '2023-06', '2023-07',\n",
       "                          '2023-08', '2023-09', '2023-10', '2023-11', '2023-12', '2024-01',\n",
       "                          '2024-02', '2024-03', '2024-04', '2024-05', '2024-06', '2024-07',\n",
       "                          '2024-08', '2024-09', '2024-10', '2024-11', '2024-12', '2025-01',\n",
       "                          '2025-02', '2025-03', '2025-04', '2025-05', '2025-06', '2025-07',\n",
       "                          '2025-08'], dtype=object),\n",
       "              'xaxis': 'x',\n",
       "              'y': {'bdata': ('OrTIdr6/KEBmZmZmZmYAQDvfT42X7g' ... 'yPwjVPQPLSTWIQZFNADi2yne9HREA='),\n",
       "                    'dtype': 'f8'},\n",
       "              'yaxis': 'y'}],\n",
       "    'layout': {'legend': {'title': {'text': 'Fuel Type'}, 'tracegroupgap': 0},\n",
       "               'template': '...',\n",
       "               'title': {'text': 'Mean Monthly Supply of Renewable Energy Sources (2018-2025)'},\n",
       "               'xaxis': {'anchor': 'y', 'domain': [0.0, 1.0], 'title': {'text': 'Month'}},\n",
       "               'yaxis': {'anchor': 'x', 'domain': [0.0, 1.0], 'title': {'text': 'Mean Supply (MW)'}}}\n",
       "})"
      ]
     },
     "execution_count": 285,
     "metadata": {},
     "output_type": "execute_result"
    }
   ],
   "source": [
    "px.line(renewables_df, x = 'Month', y = 'Mean Supply (MW)', color = 'Fuel Type', title = 'Mean Monthly Supply of Renewable Energy Sources (2018-2025)')"
   ]
  },
  {
   "cell_type": "markdown",
   "id": "c62164f9",
   "metadata": {},
   "source": [
    "### Generating the Plot for Non-Renewables"
   ]
  },
  {
   "cell_type": "code",
   "execution_count": 287,
   "id": "942b0cf6",
   "metadata": {},
   "outputs": [
    {
     "ename": "ValueError",
     "evalue": "Mime type rendering requires nbformat>=4.2.0 but it is not installed",
     "output_type": "error",
     "traceback": [
      "\u001b[31m---------------------------------------------------------------------------\u001b[39m",
      "\u001b[31mValueError\u001b[39m                                Traceback (most recent call last)",
      "\u001b[36mFile \u001b[39m\u001b[32m~/Documents/GitHub/IFN695-Codebase/ifn695_venv/lib/python3.12/site-packages/IPython/core/formatters.py:984\u001b[39m, in \u001b[36mIPythonDisplayFormatter.__call__\u001b[39m\u001b[34m(self, obj)\u001b[39m\n\u001b[32m    982\u001b[39m method = get_real_method(obj, \u001b[38;5;28mself\u001b[39m.print_method)\n\u001b[32m    983\u001b[39m \u001b[38;5;28;01mif\u001b[39;00m method \u001b[38;5;129;01mis\u001b[39;00m \u001b[38;5;129;01mnot\u001b[39;00m \u001b[38;5;28;01mNone\u001b[39;00m:\n\u001b[32m--> \u001b[39m\u001b[32m984\u001b[39m     \u001b[43mmethod\u001b[49m\u001b[43m(\u001b[49m\u001b[43m)\u001b[49m\n\u001b[32m    985\u001b[39m     \u001b[38;5;28;01mreturn\u001b[39;00m \u001b[38;5;28;01mTrue\u001b[39;00m\n",
      "\u001b[36mFile \u001b[39m\u001b[32m~/Documents/GitHub/IFN695-Codebase/ifn695_venv/lib/python3.12/site-packages/plotly/basedatatypes.py:850\u001b[39m, in \u001b[36mBaseFigure._ipython_display_\u001b[39m\u001b[34m(self)\u001b[39m\n\u001b[32m    847\u001b[39m \u001b[38;5;28;01mimport\u001b[39;00m\u001b[38;5;250m \u001b[39m\u001b[34;01mplotly\u001b[39;00m\u001b[34;01m.\u001b[39;00m\u001b[34;01mio\u001b[39;00m\u001b[38;5;250m \u001b[39m\u001b[38;5;28;01mas\u001b[39;00m\u001b[38;5;250m \u001b[39m\u001b[34;01mpio\u001b[39;00m\n\u001b[32m    849\u001b[39m \u001b[38;5;28;01mif\u001b[39;00m pio.renderers.render_on_display \u001b[38;5;129;01mand\u001b[39;00m pio.renderers.default:\n\u001b[32m--> \u001b[39m\u001b[32m850\u001b[39m     \u001b[43mpio\u001b[49m\u001b[43m.\u001b[49m\u001b[43mshow\u001b[49m\u001b[43m(\u001b[49m\u001b[38;5;28;43mself\u001b[39;49m\u001b[43m)\u001b[49m\n\u001b[32m    851\u001b[39m \u001b[38;5;28;01melse\u001b[39;00m:\n\u001b[32m    852\u001b[39m     \u001b[38;5;28mprint\u001b[39m(\u001b[38;5;28mrepr\u001b[39m(\u001b[38;5;28mself\u001b[39m))\n",
      "\u001b[36mFile \u001b[39m\u001b[32m~/Documents/GitHub/IFN695-Codebase/ifn695_venv/lib/python3.12/site-packages/plotly/io/_renderers.py:415\u001b[39m, in \u001b[36mshow\u001b[39m\u001b[34m(fig, renderer, validate, **kwargs)\u001b[39m\n\u001b[32m    410\u001b[39m     \u001b[38;5;28;01mraise\u001b[39;00m \u001b[38;5;167;01mValueError\u001b[39;00m(\n\u001b[32m    411\u001b[39m         \u001b[33m\"\u001b[39m\u001b[33mMime type rendering requires ipython but it is not installed\u001b[39m\u001b[33m\"\u001b[39m\n\u001b[32m    412\u001b[39m     )\n\u001b[32m    414\u001b[39m \u001b[38;5;28;01mif\u001b[39;00m \u001b[38;5;129;01mnot\u001b[39;00m nbformat \u001b[38;5;129;01mor\u001b[39;00m Version(nbformat.__version__) < Version(\u001b[33m\"\u001b[39m\u001b[33m4.2.0\u001b[39m\u001b[33m\"\u001b[39m):\n\u001b[32m--> \u001b[39m\u001b[32m415\u001b[39m     \u001b[38;5;28;01mraise\u001b[39;00m \u001b[38;5;167;01mValueError\u001b[39;00m(\n\u001b[32m    416\u001b[39m         \u001b[33m\"\u001b[39m\u001b[33mMime type rendering requires nbformat>=4.2.0 but it is not installed\u001b[39m\u001b[33m\"\u001b[39m\n\u001b[32m    417\u001b[39m     )\n\u001b[32m    419\u001b[39m display_jupyter_version_warnings()\n\u001b[32m    421\u001b[39m ipython_display.display(bundle, raw=\u001b[38;5;28;01mTrue\u001b[39;00m)\n",
      "\u001b[31mValueError\u001b[39m: Mime type rendering requires nbformat>=4.2.0 but it is not installed"
     ]
    },
    {
     "data": {
      "application/vnd.plotly.v1+json": {
       "config": {
        "plotlyServerURL": "https://plot.ly"
       },
       "data": [
        {
         "hovertemplate": "Fuel Type=Liquid Fuel<br>Month=%{x}<br>Mean Supply (MW)=%{y}<extra></extra>",
         "legendgroup": "Liquid Fuel",
         "line": {
          "color": "#636efa",
          "dash": "solid"
         },
         "marker": {
          "symbol": "circle"
         },
         "mode": "lines",
         "name": "Liquid Fuel",
         "orientation": "v",
         "showlegend": true,
         "type": "scatter",
         "x": [
          "2018-01",
          "2018-02",
          "2018-03",
          "2018-04",
          "2018-05",
          "2018-06",
          "2018-07",
          "2018-08",
          "2018-09",
          "2018-10",
          "2018-11",
          "2018-12",
          "2019-01",
          "2019-02",
          "2019-03",
          "2019-04",
          "2019-05",
          "2019-06",
          "2019-07",
          "2019-08",
          "2019-09",
          "2019-10",
          "2019-11",
          "2019-12",
          "2020-01",
          "2020-02",
          "2020-03",
          "2020-04",
          "2020-05",
          "2020-06",
          "2020-07",
          "2020-08",
          "2020-09",
          "2020-10",
          "2020-11",
          "2020-12",
          "2021-01",
          "2021-02",
          "2021-03",
          "2021-04",
          "2021-05",
          "2021-06",
          "2021-07",
          "2021-08",
          "2021-09",
          "2021-10",
          "2021-11",
          "2021-12",
          "2022-01",
          "2022-02",
          "2022-03",
          "2022-04",
          "2022-05",
          "2022-06",
          "2022-07",
          "2022-08",
          "2022-09",
          "2022-10",
          "2022-11",
          "2022-12",
          "2023-01",
          "2023-02",
          "2023-03",
          "2023-04",
          "2023-05",
          "2023-06",
          "2023-07",
          "2023-08",
          "2023-09",
          "2023-10",
          "2023-11",
          "2023-12",
          "2024-01",
          "2024-02",
          "2024-03",
          "2024-04",
          "2024-05",
          "2024-06",
          "2024-07",
          "2024-08",
          "2024-09",
          "2024-10",
          "2024-11",
          "2024-12",
          "2025-01",
          "2025-02",
          "2025-03",
          "2025-04",
          "2025-05",
          "2025-06",
          "2025-07",
          "2025-08"
         ],
         "xaxis": "x",
         "y": {
          "bdata": "EVg5tMh2rj+LbOf7qfGiP7pJDAIrh6Y/mG4Sg8DKsT9I4XoUrkexP5zEILByaLE/L90kBoGVsz+KQWDl0CK7P3e+nxov3bQ/lUOLbOc7HEBg5dAi2zkUQMdLN4lBYLU//Knx0k1isD8IrBxaZDufP+Slm8QgsKI/2/l+arx0kz/Idr6fGi+dPxxaZDvfzwdAtvP91Hjptj8rhxbZzvezPzEIrBxaZMM/YhBYObTIpj+kcD0K16OwP/p+arx0k8A/tMh2vp8azz/b+X5qvHSTP9v5fmq8dJM/2/l+arx0gz8AAAAAAAAAAPp+arx0k1g/ObTIdr6fij8AAAAAAAAAAAAAAAAAAAAAAAAAAAAAAAB56SYxCKy8PwAAAAAAAAAAqMZLN4mxREAAAAAAAAAAAAAAAAAAAAAAAAAAAAAAAADTTWIQWDkCQAAAAAAAAAAAAAAAAAAAAAAAAAAAAAAAAAAAAAAAAAAAAAAAAAAAAAAAAAAAAAAAAAAAAAAAAAAAAAAAAAAAAAAAAAAAAAAAAIlBYOXQIps/CtejcD0Klz+cxCCwchBJQHNoke18t05AAAAAAADAL0AAAAAAAAAAAAAAAAAAAAAATDeJQWDlkL9WDi2ynW8tQLpJDAIrh5Y/AAAAAAAAAACamZmZmZmZv5qZmZmZmam/x0s3iUFgtb956SYxCKziP6AaL90kBrG/BoGVQ4tst7/2KFyPwtVHQH9qvHSTuDFAmpmZmZmZqb+gGi/dJAaxv5qZmZmZmam/AAAAAAAAAAAAAAAAAAAAALgehetRuH4/AAAAAAAAAACDwMqhRf5DQDQzMzMzM7O/x0s3iUFgtb8fhetRuH5HQDQzMzMzM7O/AAAAAAAAAAAAAAAAAAAAAAAAAAAAAAAAAAAAAAAAAACsHFpkO9/lPwAAAAAAAAAAAAAAAAAAAAAAAAAAAAAAAAAAAAAAAAAAf2q8dJNYOUAAAAAAAAAAAA==",
          "dtype": "f8"
         },
         "yaxis": "y"
        },
        {
         "hovertemplate": "Fuel Type=Brown coal<br>Month=%{x}<br>Mean Supply (MW)=%{y}<extra></extra>",
         "legendgroup": "Brown coal",
         "line": {
          "color": "#EF553B",
          "dash": "solid"
         },
         "marker": {
          "symbol": "circle"
         },
         "mode": "lines",
         "name": "Brown coal",
         "orientation": "v",
         "showlegend": true,
         "type": "scatter",
         "x": [
          "2018-01",
          "2018-02",
          "2018-03",
          "2018-04",
          "2018-05",
          "2018-06",
          "2018-07",
          "2018-08",
          "2018-09",
          "2018-10",
          "2018-11",
          "2018-12",
          "2019-01",
          "2019-02",
          "2019-03",
          "2019-04",
          "2019-05",
          "2019-06",
          "2019-07",
          "2019-08",
          "2019-09",
          "2019-10",
          "2019-11",
          "2019-12",
          "2020-01",
          "2020-02",
          "2020-03",
          "2020-04",
          "2020-05",
          "2020-06",
          "2020-07",
          "2020-08",
          "2020-09",
          "2020-10",
          "2020-11",
          "2020-12",
          "2021-01",
          "2021-02",
          "2021-03",
          "2021-04",
          "2021-05",
          "2021-06",
          "2021-07",
          "2021-08",
          "2021-09",
          "2021-10",
          "2021-11",
          "2021-12",
          "2022-01",
          "2022-02",
          "2022-03",
          "2022-04",
          "2022-05",
          "2022-06",
          "2022-07",
          "2022-08",
          "2022-09",
          "2022-10",
          "2022-11",
          "2022-12",
          "2023-01",
          "2023-02",
          "2023-03",
          "2023-04",
          "2023-05",
          "2023-06",
          "2023-07",
          "2023-08",
          "2023-09",
          "2023-10",
          "2023-11",
          "2023-12",
          "2024-01",
          "2024-02",
          "2024-03",
          "2024-04",
          "2024-05",
          "2024-06",
          "2024-07",
          "2024-08",
          "2024-09",
          "2024-10",
          "2024-11",
          "2024-12",
          "2025-01",
          "2025-02",
          "2025-03",
          "2025-04",
          "2025-05",
          "2025-06",
          "2025-07",
          "2025-08"
         ],
         "xaxis": "x",
         "y": {
          "bdata": "CKwcWvT1sUAlBoGVg3CyQJMYBFbuw65A3CQGgbWFrkDGSzeJMQ6xQJqZmZmZ2a9AeekmMVjAsEC4HoXrse+uQIbrUbge/KxASgwCK2eYrECe76fG6zqrQAisHFrkr61AQmDl0IJesEDKoUW200euQKrx0k2C269AIbByaPEKrUDP91Pj5eipQEa28/30565ABFYOLfI2q0AW2c73E4mpQGq8dJN4gKZAokW28z3nqECAarx0c0CtQEOLbOe7uq9APQrXoyA7sECIFtnOlyGvQIxs5/spf65A9P3UeMkaq0BMN4lBYIeoQIXrUbh+q7FAgpVDi0xQrEBANV66yWarQNnO91MjVqtAjpduEsNAp0BMN4lBQLWrQOJ6FK4n+axAzczMzCwXrUBlO99PzcqtQN9PjZdOF61AWDm0yLYxrEB3vp8azxetQGzn+6lxeqtAH4XrUeh2sEBMN4lBIASoQH0/NV6arqZAbhKDwIpCq0Db+X5qXPanQGQ730/tsKxAUI2XbrL3q0BvEoPAqiaoQAaBlUMLOapAzMzMzCxCp0DkpZvEgKupQOj7qfHSfapAokW2893pq0B/arx006qnQFpkO9/v2ahALbKd7+ckp0BANV66qb2kQNNNYhBYy6pAXI/C9YiprEA4iUFgZQaqQAwCK4e2GKdAFa5H4br/qECJQWDlcI6tQHSTGAQ2LKtAFK5H4Rq6q0DgT42X7qGrQFK4HoVLCalA/tR46UYkpkBuEoPA6vWmQFpkO98v2KVAcT0K1wP3qECOl24SYxisQI2XbhIDg6pAUrgehSsKq0B2vp8aj6iqQL6fGi99TK1A+n5qvLT0qUBqvHSTWBGrQLKd76dG2KpA5dAi2zlYpkAMAiuH9rGmQIXrUbg+gKdAku18P7WCqEAgsHJo0WinQJHtfD/1R6dA30+Nl659qkBOYhBYuRupQPYoXI9i+KpAFtnO9zMZrECG61G43oesQA==",
          "dtype": "f8"
         },
         "yaxis": "y"
        },
        {
         "hovertemplate": "Fuel Type=Black coal<br>Month=%{x}<br>Mean Supply (MW)=%{y}<extra></extra>",
         "legendgroup": "Black coal",
         "line": {
          "color": "#00cc96",
          "dash": "solid"
         },
         "marker": {
          "symbol": "circle"
         },
         "mode": "lines",
         "name": "Black coal",
         "orientation": "v",
         "showlegend": true,
         "type": "scatter",
         "x": [
          "2018-01",
          "2018-02",
          "2018-03",
          "2018-04",
          "2018-05",
          "2018-06",
          "2018-07",
          "2018-08",
          "2018-09",
          "2018-10",
          "2018-11",
          "2018-12",
          "2019-01",
          "2019-02",
          "2019-03",
          "2019-04",
          "2019-05",
          "2019-06",
          "2019-07",
          "2019-08",
          "2019-09",
          "2019-10",
          "2019-11",
          "2019-12",
          "2020-01",
          "2020-02",
          "2020-03",
          "2020-04",
          "2020-05",
          "2020-06",
          "2020-07",
          "2020-08",
          "2020-09",
          "2020-10",
          "2020-11",
          "2020-12",
          "2021-01",
          "2021-02",
          "2021-03",
          "2021-04",
          "2021-05",
          "2021-06",
          "2021-07",
          "2021-08",
          "2021-09",
          "2021-10",
          "2021-11",
          "2021-12",
          "2022-01",
          "2022-02",
          "2022-03",
          "2022-04",
          "2022-05",
          "2022-06",
          "2022-07",
          "2022-08",
          "2022-09",
          "2022-10",
          "2022-11",
          "2022-12",
          "2023-01",
          "2023-02",
          "2023-03",
          "2023-04",
          "2023-05",
          "2023-06",
          "2023-07",
          "2023-08",
          "2023-09",
          "2023-10",
          "2023-11",
          "2023-12",
          "2024-01",
          "2024-02",
          "2024-03",
          "2024-04",
          "2024-05",
          "2024-06",
          "2024-07",
          "2024-08",
          "2024-09",
          "2024-10",
          "2024-11",
          "2024-12",
          "2025-01",
          "2025-02",
          "2025-03",
          "2025-04",
          "2025-05",
          "2025-06",
          "2025-07",
          "2025-08"
         ],
         "xaxis": "x",
         "y": {
          "bdata": "UI2XbtovyEA5tMh2PpXHQGq8dJNQhcZAUrgehdOzxUBkO99P/fXGQOomMQjc9sdArkfhetxIxUDfT42XXtDDQPYoXI/i28VARrbz/RQGxUCF61G4RpHGQIxs5/uRG8VAFtnO98O8xkD4U+Ol81zHQPyp8dK17MRA2s73UwN5w0ByaJHtREHEQPCnxksnicRAL90kBqEPxUDo+6nx0k7DQFYOLbLFCsNAxks3iWHQwkDhehSul9jDQO58PzXGzMRAfT81XoonxUCoxks3QXDGQJQYBFbWNcRArkfheiQ7wkBWDi2y/fjCQPT91Hhxp8RAK4cW2XbjwkAW2c73owTEQMDKoUXG1MNA/tR46R63wkCBlUOLjEnDQHNoke3k3cJA5tAi2/GrwkDHSzeJEZXFQO18PzX+Z8JABFYOLWr5wUDufD81ZtPCQG4Sg8CKIcRA6SYxCAQRw0DpJjEIJFLCQB1aZDtnEsJAVOOlm9zPwkC+nxovBZrBQFyPwvVIoMJAFK5H4TJXw0AK16NwPebAQFyPwvXI8sNABoGVQzv2wEAEVg4tOvzAQMP1KFyH18JA7nw/NX6ZxEDtfD817onDQIcW2c4HcL9AcD0K12OXv0AVrkfhyv7AQAisHFqEeL5AYOXQImtwwUBxPQrXe2bCQLTIdr630sBA8tJNYnDovkDwp8ZLX4PAQGiR7XwXqcBADi2ynR8hwUDb+X5qDIa/QGDl0CIbbcFAikFg5XB8vkCEwMqhRfm8QMdLN4kJxMBAGARWDt3OwUCS7Xw/7WnBQKRwPQofIsJAJQaBlbtiwEBBYOXQknzDQOxRuB5l58JA16NwPTovwkBSuB6FQ1zAQDEIrByqrr1A9ihcj/J6vUCR7Xw/lYW+QLByaJE95sBAXrpJDELWwUD8qfHSnUTBQAIrhxYZKcJAyHa+nzohwEB56SYxoGPAQNNNYhAwh8FAzczMzATuwkDsUbgeZc3BQA==",
          "dtype": "f8"
         },
         "yaxis": "y"
        },
        {
         "hovertemplate": "Fuel Type=Gas<br>Month=%{x}<br>Mean Supply (MW)=%{y}<extra></extra>",
         "legendgroup": "Gas",
         "line": {
          "color": "#ab63fa",
          "dash": "solid"
         },
         "marker": {
          "symbol": "circle"
         },
         "mode": "lines",
         "name": "Gas",
         "orientation": "v",
         "showlegend": true,
         "type": "scatter",
         "x": [
          "2018-01",
          "2018-02",
          "2018-03",
          "2018-04",
          "2018-05",
          "2018-06",
          "2018-07",
          "2018-08",
          "2018-09",
          "2018-10",
          "2018-11",
          "2018-12",
          "2019-01",
          "2019-02",
          "2019-03",
          "2019-04",
          "2019-05",
          "2019-06",
          "2019-07",
          "2019-08",
          "2019-09",
          "2019-10",
          "2019-11",
          "2019-12",
          "2020-01",
          "2020-02",
          "2020-03",
          "2020-04",
          "2020-05",
          "2020-06",
          "2020-07",
          "2020-08",
          "2020-09",
          "2020-10",
          "2020-11",
          "2020-12",
          "2021-01",
          "2021-02",
          "2021-03",
          "2021-04",
          "2021-05",
          "2021-06",
          "2021-07",
          "2021-08",
          "2021-09",
          "2021-10",
          "2021-11",
          "2021-12",
          "2022-01",
          "2022-02",
          "2022-03",
          "2022-04",
          "2022-05",
          "2022-06",
          "2022-07",
          "2022-08",
          "2022-09",
          "2022-10",
          "2022-11",
          "2022-12",
          "2023-01",
          "2023-02",
          "2023-03",
          "2023-04",
          "2023-05",
          "2023-06",
          "2023-07",
          "2023-08",
          "2023-09",
          "2023-10",
          "2023-11",
          "2023-12",
          "2024-01",
          "2024-02",
          "2024-03",
          "2024-04",
          "2024-05",
          "2024-06",
          "2024-07",
          "2024-08",
          "2024-09",
          "2024-10",
          "2024-11",
          "2024-12",
          "2025-01",
          "2025-02",
          "2025-03",
          "2025-04",
          "2025-05",
          "2025-06",
          "2025-07",
          "2025-08"
         ],
         "xaxis": "x",
         "y": {
          "bdata": "5KWbxCDDmkAUrkfhevOaQOxRuB5F+ZhAL90kBsHRlUDKoUW2c4maQMP1KFzP65RAQmDl0CLyh0Dc+X5qvAmNQMdLN4kBOpBArBxaZLv8kUBcj8L16CGSQIcW2c73I4VASOF6FK7Aj0BOYhBYOYGRQCcxCKyczpNAjGzn+yl/jkBI4XoUboCUQAIrhxYZ0ZBAyqFFtrN8kUDy0k1iUAWWQD4K16MwyptAzczMzMxlk0AqhxbZznKMQG4Sg8BKMYpA0k1iEFgtjEBKDAIrx4yWQO58PzVejpBARIts53sGhUC6SQwCK2OVQEjhehTuo5JAz/dT4yVZmEDEILBy6MGTQL6fGi9d1o5A0SLb+b64kkDb+X5qPHSFQMzMzMxMcohAarx0k5jCh0BOYhBYOb+OQJ7vp8ZLsYpAmpmZmRlOhUCDwMqhxa6DQN0kBoEVFJhA3SQGgZXRikAnMQisnN+PQAIrhxbZxYdAj8L1KNyFiUB7FK5H4aWGQNR46SYx2XxAuR6F69ECj0D6fmq89PmHQH9qvHTTbptA6SYxCKydlUACK4cWmWqXQAIrhxZ50aJADi2ynW+QmUDFILByaK2dQH9qvHQTnYhASgwCK4eviEDsUbgeBZiFQJqZmZmZvXlAMzMzM7M7iEBkO99PDRyAQHnpJjGIxJFAZmZmZuaDmUAhsHJoEU6NQCGwcmiRXoZAWmQ7309qi0B1kxgE1oGFQBbZzvezDqJAVg4tsp0ZekBKDAIrB6uFQFYOLbKdMHZA8tJNYpACgkBU46WbxIqBQPyp8dLNaIdALrKd76egfUCamZmZWXOlQBKDwMrh9pNAK4cW2U5+kUCF61G4HmqQQPCnxks3koBARrbz/dRcfUDdJAaBlTuGQNejcD0KMXhA30+Nl+7kgkBQjZduUhWRQGzn+6lxboJAwcqhRTZugEAEVg4tshyNQC6yne+n+o1AMQisHNpOnkBWDi2yHZGMQA==",
          "dtype": "f8"
         },
         "yaxis": "y"
        }
       ],
       "layout": {
        "legend": {
         "title": {
          "text": "Fuel Type"
         },
         "tracegroupgap": 0
        },
        "template": {
         "data": {
          "bar": [
           {
            "error_x": {
             "color": "#2a3f5f"
            },
            "error_y": {
             "color": "#2a3f5f"
            },
            "marker": {
             "line": {
              "color": "#E5ECF6",
              "width": 0.5
             },
             "pattern": {
              "fillmode": "overlay",
              "size": 10,
              "solidity": 0.2
             }
            },
            "type": "bar"
           }
          ],
          "barpolar": [
           {
            "marker": {
             "line": {
              "color": "#E5ECF6",
              "width": 0.5
             },
             "pattern": {
              "fillmode": "overlay",
              "size": 10,
              "solidity": 0.2
             }
            },
            "type": "barpolar"
           }
          ],
          "carpet": [
           {
            "aaxis": {
             "endlinecolor": "#2a3f5f",
             "gridcolor": "white",
             "linecolor": "white",
             "minorgridcolor": "white",
             "startlinecolor": "#2a3f5f"
            },
            "baxis": {
             "endlinecolor": "#2a3f5f",
             "gridcolor": "white",
             "linecolor": "white",
             "minorgridcolor": "white",
             "startlinecolor": "#2a3f5f"
            },
            "type": "carpet"
           }
          ],
          "choropleth": [
           {
            "colorbar": {
             "outlinewidth": 0,
             "ticks": ""
            },
            "type": "choropleth"
           }
          ],
          "contour": [
           {
            "colorbar": {
             "outlinewidth": 0,
             "ticks": ""
            },
            "colorscale": [
             [
              0,
              "#0d0887"
             ],
             [
              0.1111111111111111,
              "#46039f"
             ],
             [
              0.2222222222222222,
              "#7201a8"
             ],
             [
              0.3333333333333333,
              "#9c179e"
             ],
             [
              0.4444444444444444,
              "#bd3786"
             ],
             [
              0.5555555555555556,
              "#d8576b"
             ],
             [
              0.6666666666666666,
              "#ed7953"
             ],
             [
              0.7777777777777778,
              "#fb9f3a"
             ],
             [
              0.8888888888888888,
              "#fdca26"
             ],
             [
              1,
              "#f0f921"
             ]
            ],
            "type": "contour"
           }
          ],
          "contourcarpet": [
           {
            "colorbar": {
             "outlinewidth": 0,
             "ticks": ""
            },
            "type": "contourcarpet"
           }
          ],
          "heatmap": [
           {
            "colorbar": {
             "outlinewidth": 0,
             "ticks": ""
            },
            "colorscale": [
             [
              0,
              "#0d0887"
             ],
             [
              0.1111111111111111,
              "#46039f"
             ],
             [
              0.2222222222222222,
              "#7201a8"
             ],
             [
              0.3333333333333333,
              "#9c179e"
             ],
             [
              0.4444444444444444,
              "#bd3786"
             ],
             [
              0.5555555555555556,
              "#d8576b"
             ],
             [
              0.6666666666666666,
              "#ed7953"
             ],
             [
              0.7777777777777778,
              "#fb9f3a"
             ],
             [
              0.8888888888888888,
              "#fdca26"
             ],
             [
              1,
              "#f0f921"
             ]
            ],
            "type": "heatmap"
           }
          ],
          "histogram": [
           {
            "marker": {
             "pattern": {
              "fillmode": "overlay",
              "size": 10,
              "solidity": 0.2
             }
            },
            "type": "histogram"
           }
          ],
          "histogram2d": [
           {
            "colorbar": {
             "outlinewidth": 0,
             "ticks": ""
            },
            "colorscale": [
             [
              0,
              "#0d0887"
             ],
             [
              0.1111111111111111,
              "#46039f"
             ],
             [
              0.2222222222222222,
              "#7201a8"
             ],
             [
              0.3333333333333333,
              "#9c179e"
             ],
             [
              0.4444444444444444,
              "#bd3786"
             ],
             [
              0.5555555555555556,
              "#d8576b"
             ],
             [
              0.6666666666666666,
              "#ed7953"
             ],
             [
              0.7777777777777778,
              "#fb9f3a"
             ],
             [
              0.8888888888888888,
              "#fdca26"
             ],
             [
              1,
              "#f0f921"
             ]
            ],
            "type": "histogram2d"
           }
          ],
          "histogram2dcontour": [
           {
            "colorbar": {
             "outlinewidth": 0,
             "ticks": ""
            },
            "colorscale": [
             [
              0,
              "#0d0887"
             ],
             [
              0.1111111111111111,
              "#46039f"
             ],
             [
              0.2222222222222222,
              "#7201a8"
             ],
             [
              0.3333333333333333,
              "#9c179e"
             ],
             [
              0.4444444444444444,
              "#bd3786"
             ],
             [
              0.5555555555555556,
              "#d8576b"
             ],
             [
              0.6666666666666666,
              "#ed7953"
             ],
             [
              0.7777777777777778,
              "#fb9f3a"
             ],
             [
              0.8888888888888888,
              "#fdca26"
             ],
             [
              1,
              "#f0f921"
             ]
            ],
            "type": "histogram2dcontour"
           }
          ],
          "mesh3d": [
           {
            "colorbar": {
             "outlinewidth": 0,
             "ticks": ""
            },
            "type": "mesh3d"
           }
          ],
          "parcoords": [
           {
            "line": {
             "colorbar": {
              "outlinewidth": 0,
              "ticks": ""
             }
            },
            "type": "parcoords"
           }
          ],
          "pie": [
           {
            "automargin": true,
            "type": "pie"
           }
          ],
          "scatter": [
           {
            "fillpattern": {
             "fillmode": "overlay",
             "size": 10,
             "solidity": 0.2
            },
            "type": "scatter"
           }
          ],
          "scatter3d": [
           {
            "line": {
             "colorbar": {
              "outlinewidth": 0,
              "ticks": ""
             }
            },
            "marker": {
             "colorbar": {
              "outlinewidth": 0,
              "ticks": ""
             }
            },
            "type": "scatter3d"
           }
          ],
          "scattercarpet": [
           {
            "marker": {
             "colorbar": {
              "outlinewidth": 0,
              "ticks": ""
             }
            },
            "type": "scattercarpet"
           }
          ],
          "scattergeo": [
           {
            "marker": {
             "colorbar": {
              "outlinewidth": 0,
              "ticks": ""
             }
            },
            "type": "scattergeo"
           }
          ],
          "scattergl": [
           {
            "marker": {
             "colorbar": {
              "outlinewidth": 0,
              "ticks": ""
             }
            },
            "type": "scattergl"
           }
          ],
          "scattermap": [
           {
            "marker": {
             "colorbar": {
              "outlinewidth": 0,
              "ticks": ""
             }
            },
            "type": "scattermap"
           }
          ],
          "scattermapbox": [
           {
            "marker": {
             "colorbar": {
              "outlinewidth": 0,
              "ticks": ""
             }
            },
            "type": "scattermapbox"
           }
          ],
          "scatterpolar": [
           {
            "marker": {
             "colorbar": {
              "outlinewidth": 0,
              "ticks": ""
             }
            },
            "type": "scatterpolar"
           }
          ],
          "scatterpolargl": [
           {
            "marker": {
             "colorbar": {
              "outlinewidth": 0,
              "ticks": ""
             }
            },
            "type": "scatterpolargl"
           }
          ],
          "scatterternary": [
           {
            "marker": {
             "colorbar": {
              "outlinewidth": 0,
              "ticks": ""
             }
            },
            "type": "scatterternary"
           }
          ],
          "surface": [
           {
            "colorbar": {
             "outlinewidth": 0,
             "ticks": ""
            },
            "colorscale": [
             [
              0,
              "#0d0887"
             ],
             [
              0.1111111111111111,
              "#46039f"
             ],
             [
              0.2222222222222222,
              "#7201a8"
             ],
             [
              0.3333333333333333,
              "#9c179e"
             ],
             [
              0.4444444444444444,
              "#bd3786"
             ],
             [
              0.5555555555555556,
              "#d8576b"
             ],
             [
              0.6666666666666666,
              "#ed7953"
             ],
             [
              0.7777777777777778,
              "#fb9f3a"
             ],
             [
              0.8888888888888888,
              "#fdca26"
             ],
             [
              1,
              "#f0f921"
             ]
            ],
            "type": "surface"
           }
          ],
          "table": [
           {
            "cells": {
             "fill": {
              "color": "#EBF0F8"
             },
             "line": {
              "color": "white"
             }
            },
            "header": {
             "fill": {
              "color": "#C8D4E3"
             },
             "line": {
              "color": "white"
             }
            },
            "type": "table"
           }
          ]
         },
         "layout": {
          "annotationdefaults": {
           "arrowcolor": "#2a3f5f",
           "arrowhead": 0,
           "arrowwidth": 1
          },
          "autotypenumbers": "strict",
          "coloraxis": {
           "colorbar": {
            "outlinewidth": 0,
            "ticks": ""
           }
          },
          "colorscale": {
           "diverging": [
            [
             0,
             "#8e0152"
            ],
            [
             0.1,
             "#c51b7d"
            ],
            [
             0.2,
             "#de77ae"
            ],
            [
             0.3,
             "#f1b6da"
            ],
            [
             0.4,
             "#fde0ef"
            ],
            [
             0.5,
             "#f7f7f7"
            ],
            [
             0.6,
             "#e6f5d0"
            ],
            [
             0.7,
             "#b8e186"
            ],
            [
             0.8,
             "#7fbc41"
            ],
            [
             0.9,
             "#4d9221"
            ],
            [
             1,
             "#276419"
            ]
           ],
           "sequential": [
            [
             0,
             "#0d0887"
            ],
            [
             0.1111111111111111,
             "#46039f"
            ],
            [
             0.2222222222222222,
             "#7201a8"
            ],
            [
             0.3333333333333333,
             "#9c179e"
            ],
            [
             0.4444444444444444,
             "#bd3786"
            ],
            [
             0.5555555555555556,
             "#d8576b"
            ],
            [
             0.6666666666666666,
             "#ed7953"
            ],
            [
             0.7777777777777778,
             "#fb9f3a"
            ],
            [
             0.8888888888888888,
             "#fdca26"
            ],
            [
             1,
             "#f0f921"
            ]
           ],
           "sequentialminus": [
            [
             0,
             "#0d0887"
            ],
            [
             0.1111111111111111,
             "#46039f"
            ],
            [
             0.2222222222222222,
             "#7201a8"
            ],
            [
             0.3333333333333333,
             "#9c179e"
            ],
            [
             0.4444444444444444,
             "#bd3786"
            ],
            [
             0.5555555555555556,
             "#d8576b"
            ],
            [
             0.6666666666666666,
             "#ed7953"
            ],
            [
             0.7777777777777778,
             "#fb9f3a"
            ],
            [
             0.8888888888888888,
             "#fdca26"
            ],
            [
             1,
             "#f0f921"
            ]
           ]
          },
          "colorway": [
           "#636efa",
           "#EF553B",
           "#00cc96",
           "#ab63fa",
           "#FFA15A",
           "#19d3f3",
           "#FF6692",
           "#B6E880",
           "#FF97FF",
           "#FECB52"
          ],
          "font": {
           "color": "#2a3f5f"
          },
          "geo": {
           "bgcolor": "white",
           "lakecolor": "white",
           "landcolor": "#E5ECF6",
           "showlakes": true,
           "showland": true,
           "subunitcolor": "white"
          },
          "hoverlabel": {
           "align": "left"
          },
          "hovermode": "closest",
          "mapbox": {
           "style": "light"
          },
          "paper_bgcolor": "white",
          "plot_bgcolor": "#E5ECF6",
          "polar": {
           "angularaxis": {
            "gridcolor": "white",
            "linecolor": "white",
            "ticks": ""
           },
           "bgcolor": "#E5ECF6",
           "radialaxis": {
            "gridcolor": "white",
            "linecolor": "white",
            "ticks": ""
           }
          },
          "scene": {
           "xaxis": {
            "backgroundcolor": "#E5ECF6",
            "gridcolor": "white",
            "gridwidth": 2,
            "linecolor": "white",
            "showbackground": true,
            "ticks": "",
            "zerolinecolor": "white"
           },
           "yaxis": {
            "backgroundcolor": "#E5ECF6",
            "gridcolor": "white",
            "gridwidth": 2,
            "linecolor": "white",
            "showbackground": true,
            "ticks": "",
            "zerolinecolor": "white"
           },
           "zaxis": {
            "backgroundcolor": "#E5ECF6",
            "gridcolor": "white",
            "gridwidth": 2,
            "linecolor": "white",
            "showbackground": true,
            "ticks": "",
            "zerolinecolor": "white"
           }
          },
          "shapedefaults": {
           "line": {
            "color": "#2a3f5f"
           }
          },
          "ternary": {
           "aaxis": {
            "gridcolor": "white",
            "linecolor": "white",
            "ticks": ""
           },
           "baxis": {
            "gridcolor": "white",
            "linecolor": "white",
            "ticks": ""
           },
           "bgcolor": "#E5ECF6",
           "caxis": {
            "gridcolor": "white",
            "linecolor": "white",
            "ticks": ""
           }
          },
          "title": {
           "x": 0.05
          },
          "xaxis": {
           "automargin": true,
           "gridcolor": "white",
           "linecolor": "white",
           "ticks": "",
           "title": {
            "standoff": 15
           },
           "zerolinecolor": "white",
           "zerolinewidth": 2
          },
          "yaxis": {
           "automargin": true,
           "gridcolor": "white",
           "linecolor": "white",
           "ticks": "",
           "title": {
            "standoff": 15
           },
           "zerolinecolor": "white",
           "zerolinewidth": 2
          }
         }
        },
        "title": {
         "text": "Mean Monthly Supply of Non-Renewable Energy Sources (2018-2025)"
        },
        "xaxis": {
         "anchor": "y",
         "domain": [
          0,
          1
         ],
         "title": {
          "text": "Month"
         }
        },
        "yaxis": {
         "anchor": "x",
         "domain": [
          0,
          1
         ],
         "title": {
          "text": "Mean Supply (MW)"
         }
        }
       }
      },
      "text/html": [
       "<div>                        <script type=\"text/javascript\">window.PlotlyConfig = {MathJaxConfig: 'local'};</script>\n",
       "        <script charset=\"utf-8\" src=\"https://cdn.plot.ly/plotly-3.1.0.min.js\" integrity=\"sha256-Ei4740bWZhaUTQuD6q9yQlgVCMPBz6CZWhevDYPv93A=\" crossorigin=\"anonymous\"></script>                <div id=\"01afc11f-b014-4400-8567-e24c84ba2159\" class=\"plotly-graph-div\" style=\"height:100%; width:100%;\"></div>            <script type=\"text/javascript\">                window.PLOTLYENV=window.PLOTLYENV || {};                                if (document.getElementById(\"01afc11f-b014-4400-8567-e24c84ba2159\")) {                    Plotly.newPlot(                        \"01afc11f-b014-4400-8567-e24c84ba2159\",                        [{\"hovertemplate\":\"Fuel Type=Liquid Fuel\\u003cbr\\u003eMonth=%{x}\\u003cbr\\u003eMean Supply (MW)=%{y}\\u003cextra\\u003e\\u003c\\u002fextra\\u003e\",\"legendgroup\":\"Liquid Fuel\",\"line\":{\"color\":\"#636efa\",\"dash\":\"solid\"},\"marker\":{\"symbol\":\"circle\"},\"mode\":\"lines\",\"name\":\"Liquid Fuel\",\"orientation\":\"v\",\"showlegend\":true,\"x\":[\"2018-01\",\"2018-02\",\"2018-03\",\"2018-04\",\"2018-05\",\"2018-06\",\"2018-07\",\"2018-08\",\"2018-09\",\"2018-10\",\"2018-11\",\"2018-12\",\"2019-01\",\"2019-02\",\"2019-03\",\"2019-04\",\"2019-05\",\"2019-06\",\"2019-07\",\"2019-08\",\"2019-09\",\"2019-10\",\"2019-11\",\"2019-12\",\"2020-01\",\"2020-02\",\"2020-03\",\"2020-04\",\"2020-05\",\"2020-06\",\"2020-07\",\"2020-08\",\"2020-09\",\"2020-10\",\"2020-11\",\"2020-12\",\"2021-01\",\"2021-02\",\"2021-03\",\"2021-04\",\"2021-05\",\"2021-06\",\"2021-07\",\"2021-08\",\"2021-09\",\"2021-10\",\"2021-11\",\"2021-12\",\"2022-01\",\"2022-02\",\"2022-03\",\"2022-04\",\"2022-05\",\"2022-06\",\"2022-07\",\"2022-08\",\"2022-09\",\"2022-10\",\"2022-11\",\"2022-12\",\"2023-01\",\"2023-02\",\"2023-03\",\"2023-04\",\"2023-05\",\"2023-06\",\"2023-07\",\"2023-08\",\"2023-09\",\"2023-10\",\"2023-11\",\"2023-12\",\"2024-01\",\"2024-02\",\"2024-03\",\"2024-04\",\"2024-05\",\"2024-06\",\"2024-07\",\"2024-08\",\"2024-09\",\"2024-10\",\"2024-11\",\"2024-12\",\"2025-01\",\"2025-02\",\"2025-03\",\"2025-04\",\"2025-05\",\"2025-06\",\"2025-07\",\"2025-08\"],\"xaxis\":\"x\",\"y\":{\"dtype\":\"f8\",\"bdata\":\"EVg5tMh2rj+LbOf7qfGiP7pJDAIrh6Y\\u002fmG4Sg8DKsT9I4XoUrkexP5zEILByaLE\\u002fL90kBoGVsz+KQWDl0CK7P3e+nxov3bQ\\u002flUOLbOc7HEBg5dAi2zkUQMdLN4lBYLU\\u002f\\u002fKnx0k1isD8IrBxaZDufP+Slm8QgsKI\\u002f2\\u002fl+arx0kz\\u002fIdr6fGi+dPxxaZDvfzwdAtvP91Hjptj8rhxbZzvezPzEIrBxaZMM\\u002fYhBYObTIpj+kcD0K16OwP\\u002fp+arx0k8A\\u002ftMh2vp8azz\\u002fb+X5qvHSTP9v5fmq8dJM\\u002f2\\u002fl+arx0gz8AAAAAAAAAAPp+arx0k1g\\u002fObTIdr6fij8AAAAAAAAAAAAAAAAAAAAAAAAAAAAAAAB56SYxCKy8PwAAAAAAAAAAqMZLN4mxREAAAAAAAAAAAAAAAAAAAAAAAAAAAAAAAADTTWIQWDkCQAAAAAAAAAAAAAAAAAAAAAAAAAAAAAAAAAAAAAAAAAAAAAAAAAAAAAAAAAAAAAAAAAAAAAAAAAAAAAAAAAAAAAAAAAAAAAAAAIlBYOXQIps\\u002fCtejcD0Klz+cxCCwchBJQHNoke18t05AAAAAAADAL0AAAAAAAAAAAAAAAAAAAAAATDeJQWDlkL9WDi2ynW8tQLpJDAIrh5Y\\u002fAAAAAAAAAACamZmZmZmZv5qZmZmZmam\\u002fx0s3iUFgtb956SYxCKziP6AaL90kBrG\\u002fBoGVQ4tst7\\u002f2KFyPwtVHQH9qvHSTuDFAmpmZmZmZqb+gGi\\u002fdJAaxv5qZmZmZmam\\u002fAAAAAAAAAAAAAAAAAAAAALgehetRuH4\\u002fAAAAAAAAAACDwMqhRf5DQDQzMzMzM7O\\u002fx0s3iUFgtb8fhetRuH5HQDQzMzMzM7O\\u002fAAAAAAAAAAAAAAAAAAAAAAAAAAAAAAAAAAAAAAAAAACsHFpkO9\\u002flPwAAAAAAAAAAAAAAAAAAAAAAAAAAAAAAAAAAAAAAAAAAf2q8dJNYOUAAAAAAAAAAAA==\"},\"yaxis\":\"y\",\"type\":\"scatter\"},{\"hovertemplate\":\"Fuel Type=Brown coal\\u003cbr\\u003eMonth=%{x}\\u003cbr\\u003eMean Supply (MW)=%{y}\\u003cextra\\u003e\\u003c\\u002fextra\\u003e\",\"legendgroup\":\"Brown coal\",\"line\":{\"color\":\"#EF553B\",\"dash\":\"solid\"},\"marker\":{\"symbol\":\"circle\"},\"mode\":\"lines\",\"name\":\"Brown coal\",\"orientation\":\"v\",\"showlegend\":true,\"x\":[\"2018-01\",\"2018-02\",\"2018-03\",\"2018-04\",\"2018-05\",\"2018-06\",\"2018-07\",\"2018-08\",\"2018-09\",\"2018-10\",\"2018-11\",\"2018-12\",\"2019-01\",\"2019-02\",\"2019-03\",\"2019-04\",\"2019-05\",\"2019-06\",\"2019-07\",\"2019-08\",\"2019-09\",\"2019-10\",\"2019-11\",\"2019-12\",\"2020-01\",\"2020-02\",\"2020-03\",\"2020-04\",\"2020-05\",\"2020-06\",\"2020-07\",\"2020-08\",\"2020-09\",\"2020-10\",\"2020-11\",\"2020-12\",\"2021-01\",\"2021-02\",\"2021-03\",\"2021-04\",\"2021-05\",\"2021-06\",\"2021-07\",\"2021-08\",\"2021-09\",\"2021-10\",\"2021-11\",\"2021-12\",\"2022-01\",\"2022-02\",\"2022-03\",\"2022-04\",\"2022-05\",\"2022-06\",\"2022-07\",\"2022-08\",\"2022-09\",\"2022-10\",\"2022-11\",\"2022-12\",\"2023-01\",\"2023-02\",\"2023-03\",\"2023-04\",\"2023-05\",\"2023-06\",\"2023-07\",\"2023-08\",\"2023-09\",\"2023-10\",\"2023-11\",\"2023-12\",\"2024-01\",\"2024-02\",\"2024-03\",\"2024-04\",\"2024-05\",\"2024-06\",\"2024-07\",\"2024-08\",\"2024-09\",\"2024-10\",\"2024-11\",\"2024-12\",\"2025-01\",\"2025-02\",\"2025-03\",\"2025-04\",\"2025-05\",\"2025-06\",\"2025-07\",\"2025-08\"],\"xaxis\":\"x\",\"y\":{\"dtype\":\"f8\",\"bdata\":\"CKwcWvT1sUAlBoGVg3CyQJMYBFbuw65A3CQGgbWFrkDGSzeJMQ6xQJqZmZmZ2a9AeekmMVjAsEC4HoXrse+uQIbrUbge\\u002fKxASgwCK2eYrECe76fG6zqrQAisHFrkr61AQmDl0IJesEDKoUW200euQKrx0k2C269AIbByaPEKrUDP91Pj5eipQEa28\\u002f30565ABFYOLfI2q0AW2c73E4mpQGq8dJN4gKZAokW28z3nqECAarx0c0CtQEOLbOe7uq9APQrXoyA7sECIFtnOlyGvQIxs5\\u002fspf65A9P3UeMkaq0BMN4lBYIeoQIXrUbh+q7FAgpVDi0xQrEBANV66yWarQNnO91MjVqtAjpduEsNAp0BMN4lBQLWrQOJ6FK4n+axAzczMzCwXrUBlO99PzcqtQN9PjZdOF61AWDm0yLYxrEB3vp8azxetQGzn+6lxeqtAH4XrUeh2sEBMN4lBIASoQH0\\u002fNV6arqZAbhKDwIpCq0Db+X5qXPanQGQ730\\u002ftsKxAUI2XbrL3q0BvEoPAqiaoQAaBlUMLOapAzMzMzCxCp0DkpZvEgKupQOj7qfHSfapAokW2893pq0B\\u002farx006qnQFpkO9\\u002fv2ahALbKd7+ckp0BANV66qb2kQNNNYhBYy6pAXI\\u002fC9YiprEA4iUFgZQaqQAwCK4e2GKdAFa5H4br\\u002fqECJQWDlcI6tQHSTGAQ2LKtAFK5H4Rq6q0DgT42X7qGrQFK4HoVLCalA\\u002ftR46UYkpkBuEoPA6vWmQFpkO98v2KVAcT0K1wP3qECOl24SYxisQI2XbhIDg6pAUrgehSsKq0B2vp8aj6iqQL6fGi99TK1A+n5qvLT0qUBqvHSTWBGrQLKd76dG2KpA5dAi2zlYpkAMAiuH9rGmQIXrUbg+gKdAku18P7WCqEAgsHJo0WinQJHtfD\\u002f1R6dA30+Nl659qkBOYhBYuRupQPYoXI9i+KpAFtnO9zMZrECG61G43oesQA==\"},\"yaxis\":\"y\",\"type\":\"scatter\"},{\"hovertemplate\":\"Fuel Type=Black coal\\u003cbr\\u003eMonth=%{x}\\u003cbr\\u003eMean Supply (MW)=%{y}\\u003cextra\\u003e\\u003c\\u002fextra\\u003e\",\"legendgroup\":\"Black coal\",\"line\":{\"color\":\"#00cc96\",\"dash\":\"solid\"},\"marker\":{\"symbol\":\"circle\"},\"mode\":\"lines\",\"name\":\"Black coal\",\"orientation\":\"v\",\"showlegend\":true,\"x\":[\"2018-01\",\"2018-02\",\"2018-03\",\"2018-04\",\"2018-05\",\"2018-06\",\"2018-07\",\"2018-08\",\"2018-09\",\"2018-10\",\"2018-11\",\"2018-12\",\"2019-01\",\"2019-02\",\"2019-03\",\"2019-04\",\"2019-05\",\"2019-06\",\"2019-07\",\"2019-08\",\"2019-09\",\"2019-10\",\"2019-11\",\"2019-12\",\"2020-01\",\"2020-02\",\"2020-03\",\"2020-04\",\"2020-05\",\"2020-06\",\"2020-07\",\"2020-08\",\"2020-09\",\"2020-10\",\"2020-11\",\"2020-12\",\"2021-01\",\"2021-02\",\"2021-03\",\"2021-04\",\"2021-05\",\"2021-06\",\"2021-07\",\"2021-08\",\"2021-09\",\"2021-10\",\"2021-11\",\"2021-12\",\"2022-01\",\"2022-02\",\"2022-03\",\"2022-04\",\"2022-05\",\"2022-06\",\"2022-07\",\"2022-08\",\"2022-09\",\"2022-10\",\"2022-11\",\"2022-12\",\"2023-01\",\"2023-02\",\"2023-03\",\"2023-04\",\"2023-05\",\"2023-06\",\"2023-07\",\"2023-08\",\"2023-09\",\"2023-10\",\"2023-11\",\"2023-12\",\"2024-01\",\"2024-02\",\"2024-03\",\"2024-04\",\"2024-05\",\"2024-06\",\"2024-07\",\"2024-08\",\"2024-09\",\"2024-10\",\"2024-11\",\"2024-12\",\"2025-01\",\"2025-02\",\"2025-03\",\"2025-04\",\"2025-05\",\"2025-06\",\"2025-07\",\"2025-08\"],\"xaxis\":\"x\",\"y\":{\"dtype\":\"f8\",\"bdata\":\"UI2XbtovyEA5tMh2PpXHQGq8dJNQhcZAUrgehdOzxUBkO99P\\u002ffXGQOomMQjc9sdArkfhetxIxUDfT42XXtDDQPYoXI\\u002fi28VARrbz\\u002fRQGxUCF61G4RpHGQIxs5\\u002fuRG8VAFtnO98O8xkD4U+Ol81zHQPyp8dK17MRA2s73UwN5w0ByaJHtREHEQPCnxksnicRAL90kBqEPxUDo+6nx0k7DQFYOLbLFCsNAxks3iWHQwkDhehSul9jDQO58PzXGzMRAfT81XoonxUCoxks3QXDGQJQYBFbWNcRArkfheiQ7wkBWDi2y\\u002ffjCQPT91Hhxp8RAK4cW2XbjwkAW2c73owTEQMDKoUXG1MNA\\u002ftR46R63wkCBlUOLjEnDQHNoke3k3cJA5tAi2\\u002fGrwkDHSzeJEZXFQO18PzX+Z8JABFYOLWr5wUDufD81ZtPCQG4Sg8CKIcRA6SYxCAQRw0DpJjEIJFLCQB1aZDtnEsJAVOOlm9zPwkC+nxovBZrBQFyPwvVIoMJAFK5H4TJXw0AK16NwPebAQFyPwvXI8sNABoGVQzv2wEAEVg4tOvzAQMP1KFyH18JA7nw\\u002fNX6ZxEDtfD817onDQIcW2c4HcL9AcD0K12OXv0AVrkfhyv7AQAisHFqEeL5AYOXQImtwwUBxPQrXe2bCQLTIdr630sBA8tJNYnDovkDwp8ZLX4PAQGiR7XwXqcBADi2ynR8hwUDb+X5qDIa\\u002fQGDl0CIbbcFAikFg5XB8vkCEwMqhRfm8QMdLN4kJxMBAGARWDt3OwUCS7Xw\\u002f7WnBQKRwPQofIsJAJQaBlbtiwEBBYOXQknzDQOxRuB5l58JA16NwPTovwkBSuB6FQ1zAQDEIrByqrr1A9ihcj\\u002fJ6vUCR7Xw\\u002flYW+QLByaJE95sBAXrpJDELWwUD8qfHSnUTBQAIrhxYZKcJAyHa+nzohwEB56SYxoGPAQNNNYhAwh8FAzczMzATuwkDsUbgeZc3BQA==\"},\"yaxis\":\"y\",\"type\":\"scatter\"},{\"hovertemplate\":\"Fuel Type=Gas\\u003cbr\\u003eMonth=%{x}\\u003cbr\\u003eMean Supply (MW)=%{y}\\u003cextra\\u003e\\u003c\\u002fextra\\u003e\",\"legendgroup\":\"Gas\",\"line\":{\"color\":\"#ab63fa\",\"dash\":\"solid\"},\"marker\":{\"symbol\":\"circle\"},\"mode\":\"lines\",\"name\":\"Gas\",\"orientation\":\"v\",\"showlegend\":true,\"x\":[\"2018-01\",\"2018-02\",\"2018-03\",\"2018-04\",\"2018-05\",\"2018-06\",\"2018-07\",\"2018-08\",\"2018-09\",\"2018-10\",\"2018-11\",\"2018-12\",\"2019-01\",\"2019-02\",\"2019-03\",\"2019-04\",\"2019-05\",\"2019-06\",\"2019-07\",\"2019-08\",\"2019-09\",\"2019-10\",\"2019-11\",\"2019-12\",\"2020-01\",\"2020-02\",\"2020-03\",\"2020-04\",\"2020-05\",\"2020-06\",\"2020-07\",\"2020-08\",\"2020-09\",\"2020-10\",\"2020-11\",\"2020-12\",\"2021-01\",\"2021-02\",\"2021-03\",\"2021-04\",\"2021-05\",\"2021-06\",\"2021-07\",\"2021-08\",\"2021-09\",\"2021-10\",\"2021-11\",\"2021-12\",\"2022-01\",\"2022-02\",\"2022-03\",\"2022-04\",\"2022-05\",\"2022-06\",\"2022-07\",\"2022-08\",\"2022-09\",\"2022-10\",\"2022-11\",\"2022-12\",\"2023-01\",\"2023-02\",\"2023-03\",\"2023-04\",\"2023-05\",\"2023-06\",\"2023-07\",\"2023-08\",\"2023-09\",\"2023-10\",\"2023-11\",\"2023-12\",\"2024-01\",\"2024-02\",\"2024-03\",\"2024-04\",\"2024-05\",\"2024-06\",\"2024-07\",\"2024-08\",\"2024-09\",\"2024-10\",\"2024-11\",\"2024-12\",\"2025-01\",\"2025-02\",\"2025-03\",\"2025-04\",\"2025-05\",\"2025-06\",\"2025-07\",\"2025-08\"],\"xaxis\":\"x\",\"y\":{\"dtype\":\"f8\",\"bdata\":\"5KWbxCDDmkAUrkfhevOaQOxRuB5F+ZhAL90kBsHRlUDKoUW2c4maQMP1KFzP65RAQmDl0CLyh0Dc+X5qvAmNQMdLN4kBOpBArBxaZLv8kUBcj8L16CGSQIcW2c73I4VASOF6FK7Aj0BOYhBYOYGRQCcxCKyczpNAjGzn+yl\\u002fjkBI4XoUboCUQAIrhxYZ0ZBAyqFFtrN8kUDy0k1iUAWWQD4K16MwyptAzczMzMxlk0AqhxbZznKMQG4Sg8BKMYpA0k1iEFgtjEBKDAIrx4yWQO58PzVejpBARIts53sGhUC6SQwCK2OVQEjhehTuo5JAz\\u002fdT4yVZmEDEILBy6MGTQL6fGi9d1o5A0SLb+b64kkDb+X5qPHSFQMzMzMxMcohAarx0k5jCh0BOYhBYOb+OQJ7vp8ZLsYpAmpmZmRlOhUCDwMqhxa6DQN0kBoEVFJhA3SQGgZXRikAnMQisnN+PQAIrhxbZxYdAj8L1KNyFiUB7FK5H4aWGQNR46SYx2XxAuR6F69ECj0D6fmq89PmHQH9qvHTTbptA6SYxCKydlUACK4cWmWqXQAIrhxZ50aJADi2ynW+QmUDFILByaK2dQH9qvHQTnYhASgwCK4eviEDsUbgeBZiFQJqZmZmZvXlAMzMzM7M7iEBkO99PDRyAQHnpJjGIxJFAZmZmZuaDmUAhsHJoEU6NQCGwcmiRXoZAWmQ7309qi0B1kxgE1oGFQBbZzvezDqJAVg4tsp0ZekBKDAIrB6uFQFYOLbKdMHZA8tJNYpACgkBU46WbxIqBQPyp8dLNaIdALrKd76egfUCamZmZWXOlQBKDwMrh9pNAK4cW2U5+kUCF61G4HmqQQPCnxks3koBARrbz\\u002fdRcfUDdJAaBlTuGQNejcD0KMXhA30+Nl+7kgkBQjZduUhWRQGzn+6lxboJAwcqhRTZugEAEVg4tshyNQC6yne+n+o1AMQisHNpOnkBWDi2yHZGMQA==\"},\"yaxis\":\"y\",\"type\":\"scatter\"}],                        {\"template\":{\"data\":{\"histogram2dcontour\":[{\"type\":\"histogram2dcontour\",\"colorbar\":{\"outlinewidth\":0,\"ticks\":\"\"},\"colorscale\":[[0.0,\"#0d0887\"],[0.1111111111111111,\"#46039f\"],[0.2222222222222222,\"#7201a8\"],[0.3333333333333333,\"#9c179e\"],[0.4444444444444444,\"#bd3786\"],[0.5555555555555556,\"#d8576b\"],[0.6666666666666666,\"#ed7953\"],[0.7777777777777778,\"#fb9f3a\"],[0.8888888888888888,\"#fdca26\"],[1.0,\"#f0f921\"]]}],\"choropleth\":[{\"type\":\"choropleth\",\"colorbar\":{\"outlinewidth\":0,\"ticks\":\"\"}}],\"histogram2d\":[{\"type\":\"histogram2d\",\"colorbar\":{\"outlinewidth\":0,\"ticks\":\"\"},\"colorscale\":[[0.0,\"#0d0887\"],[0.1111111111111111,\"#46039f\"],[0.2222222222222222,\"#7201a8\"],[0.3333333333333333,\"#9c179e\"],[0.4444444444444444,\"#bd3786\"],[0.5555555555555556,\"#d8576b\"],[0.6666666666666666,\"#ed7953\"],[0.7777777777777778,\"#fb9f3a\"],[0.8888888888888888,\"#fdca26\"],[1.0,\"#f0f921\"]]}],\"heatmap\":[{\"type\":\"heatmap\",\"colorbar\":{\"outlinewidth\":0,\"ticks\":\"\"},\"colorscale\":[[0.0,\"#0d0887\"],[0.1111111111111111,\"#46039f\"],[0.2222222222222222,\"#7201a8\"],[0.3333333333333333,\"#9c179e\"],[0.4444444444444444,\"#bd3786\"],[0.5555555555555556,\"#d8576b\"],[0.6666666666666666,\"#ed7953\"],[0.7777777777777778,\"#fb9f3a\"],[0.8888888888888888,\"#fdca26\"],[1.0,\"#f0f921\"]]}],\"contourcarpet\":[{\"type\":\"contourcarpet\",\"colorbar\":{\"outlinewidth\":0,\"ticks\":\"\"}}],\"contour\":[{\"type\":\"contour\",\"colorbar\":{\"outlinewidth\":0,\"ticks\":\"\"},\"colorscale\":[[0.0,\"#0d0887\"],[0.1111111111111111,\"#46039f\"],[0.2222222222222222,\"#7201a8\"],[0.3333333333333333,\"#9c179e\"],[0.4444444444444444,\"#bd3786\"],[0.5555555555555556,\"#d8576b\"],[0.6666666666666666,\"#ed7953\"],[0.7777777777777778,\"#fb9f3a\"],[0.8888888888888888,\"#fdca26\"],[1.0,\"#f0f921\"]]}],\"surface\":[{\"type\":\"surface\",\"colorbar\":{\"outlinewidth\":0,\"ticks\":\"\"},\"colorscale\":[[0.0,\"#0d0887\"],[0.1111111111111111,\"#46039f\"],[0.2222222222222222,\"#7201a8\"],[0.3333333333333333,\"#9c179e\"],[0.4444444444444444,\"#bd3786\"],[0.5555555555555556,\"#d8576b\"],[0.6666666666666666,\"#ed7953\"],[0.7777777777777778,\"#fb9f3a\"],[0.8888888888888888,\"#fdca26\"],[1.0,\"#f0f921\"]]}],\"mesh3d\":[{\"type\":\"mesh3d\",\"colorbar\":{\"outlinewidth\":0,\"ticks\":\"\"}}],\"scatter\":[{\"fillpattern\":{\"fillmode\":\"overlay\",\"size\":10,\"solidity\":0.2},\"type\":\"scatter\"}],\"parcoords\":[{\"type\":\"parcoords\",\"line\":{\"colorbar\":{\"outlinewidth\":0,\"ticks\":\"\"}}}],\"scatterpolargl\":[{\"type\":\"scatterpolargl\",\"marker\":{\"colorbar\":{\"outlinewidth\":0,\"ticks\":\"\"}}}],\"bar\":[{\"error_x\":{\"color\":\"#2a3f5f\"},\"error_y\":{\"color\":\"#2a3f5f\"},\"marker\":{\"line\":{\"color\":\"#E5ECF6\",\"width\":0.5},\"pattern\":{\"fillmode\":\"overlay\",\"size\":10,\"solidity\":0.2}},\"type\":\"bar\"}],\"scattergeo\":[{\"type\":\"scattergeo\",\"marker\":{\"colorbar\":{\"outlinewidth\":0,\"ticks\":\"\"}}}],\"scatterpolar\":[{\"type\":\"scatterpolar\",\"marker\":{\"colorbar\":{\"outlinewidth\":0,\"ticks\":\"\"}}}],\"histogram\":[{\"marker\":{\"pattern\":{\"fillmode\":\"overlay\",\"size\":10,\"solidity\":0.2}},\"type\":\"histogram\"}],\"scattergl\":[{\"type\":\"scattergl\",\"marker\":{\"colorbar\":{\"outlinewidth\":0,\"ticks\":\"\"}}}],\"scatter3d\":[{\"type\":\"scatter3d\",\"line\":{\"colorbar\":{\"outlinewidth\":0,\"ticks\":\"\"}},\"marker\":{\"colorbar\":{\"outlinewidth\":0,\"ticks\":\"\"}}}],\"scattermap\":[{\"type\":\"scattermap\",\"marker\":{\"colorbar\":{\"outlinewidth\":0,\"ticks\":\"\"}}}],\"scattermapbox\":[{\"type\":\"scattermapbox\",\"marker\":{\"colorbar\":{\"outlinewidth\":0,\"ticks\":\"\"}}}],\"scatterternary\":[{\"type\":\"scatterternary\",\"marker\":{\"colorbar\":{\"outlinewidth\":0,\"ticks\":\"\"}}}],\"scattercarpet\":[{\"type\":\"scattercarpet\",\"marker\":{\"colorbar\":{\"outlinewidth\":0,\"ticks\":\"\"}}}],\"carpet\":[{\"aaxis\":{\"endlinecolor\":\"#2a3f5f\",\"gridcolor\":\"white\",\"linecolor\":\"white\",\"minorgridcolor\":\"white\",\"startlinecolor\":\"#2a3f5f\"},\"baxis\":{\"endlinecolor\":\"#2a3f5f\",\"gridcolor\":\"white\",\"linecolor\":\"white\",\"minorgridcolor\":\"white\",\"startlinecolor\":\"#2a3f5f\"},\"type\":\"carpet\"}],\"table\":[{\"cells\":{\"fill\":{\"color\":\"#EBF0F8\"},\"line\":{\"color\":\"white\"}},\"header\":{\"fill\":{\"color\":\"#C8D4E3\"},\"line\":{\"color\":\"white\"}},\"type\":\"table\"}],\"barpolar\":[{\"marker\":{\"line\":{\"color\":\"#E5ECF6\",\"width\":0.5},\"pattern\":{\"fillmode\":\"overlay\",\"size\":10,\"solidity\":0.2}},\"type\":\"barpolar\"}],\"pie\":[{\"automargin\":true,\"type\":\"pie\"}]},\"layout\":{\"autotypenumbers\":\"strict\",\"colorway\":[\"#636efa\",\"#EF553B\",\"#00cc96\",\"#ab63fa\",\"#FFA15A\",\"#19d3f3\",\"#FF6692\",\"#B6E880\",\"#FF97FF\",\"#FECB52\"],\"font\":{\"color\":\"#2a3f5f\"},\"hovermode\":\"closest\",\"hoverlabel\":{\"align\":\"left\"},\"paper_bgcolor\":\"white\",\"plot_bgcolor\":\"#E5ECF6\",\"polar\":{\"bgcolor\":\"#E5ECF6\",\"angularaxis\":{\"gridcolor\":\"white\",\"linecolor\":\"white\",\"ticks\":\"\"},\"radialaxis\":{\"gridcolor\":\"white\",\"linecolor\":\"white\",\"ticks\":\"\"}},\"ternary\":{\"bgcolor\":\"#E5ECF6\",\"aaxis\":{\"gridcolor\":\"white\",\"linecolor\":\"white\",\"ticks\":\"\"},\"baxis\":{\"gridcolor\":\"white\",\"linecolor\":\"white\",\"ticks\":\"\"},\"caxis\":{\"gridcolor\":\"white\",\"linecolor\":\"white\",\"ticks\":\"\"}},\"coloraxis\":{\"colorbar\":{\"outlinewidth\":0,\"ticks\":\"\"}},\"colorscale\":{\"sequential\":[[0.0,\"#0d0887\"],[0.1111111111111111,\"#46039f\"],[0.2222222222222222,\"#7201a8\"],[0.3333333333333333,\"#9c179e\"],[0.4444444444444444,\"#bd3786\"],[0.5555555555555556,\"#d8576b\"],[0.6666666666666666,\"#ed7953\"],[0.7777777777777778,\"#fb9f3a\"],[0.8888888888888888,\"#fdca26\"],[1.0,\"#f0f921\"]],\"sequentialminus\":[[0.0,\"#0d0887\"],[0.1111111111111111,\"#46039f\"],[0.2222222222222222,\"#7201a8\"],[0.3333333333333333,\"#9c179e\"],[0.4444444444444444,\"#bd3786\"],[0.5555555555555556,\"#d8576b\"],[0.6666666666666666,\"#ed7953\"],[0.7777777777777778,\"#fb9f3a\"],[0.8888888888888888,\"#fdca26\"],[1.0,\"#f0f921\"]],\"diverging\":[[0,\"#8e0152\"],[0.1,\"#c51b7d\"],[0.2,\"#de77ae\"],[0.3,\"#f1b6da\"],[0.4,\"#fde0ef\"],[0.5,\"#f7f7f7\"],[0.6,\"#e6f5d0\"],[0.7,\"#b8e186\"],[0.8,\"#7fbc41\"],[0.9,\"#4d9221\"],[1,\"#276419\"]]},\"xaxis\":{\"gridcolor\":\"white\",\"linecolor\":\"white\",\"ticks\":\"\",\"title\":{\"standoff\":15},\"zerolinecolor\":\"white\",\"automargin\":true,\"zerolinewidth\":2},\"yaxis\":{\"gridcolor\":\"white\",\"linecolor\":\"white\",\"ticks\":\"\",\"title\":{\"standoff\":15},\"zerolinecolor\":\"white\",\"automargin\":true,\"zerolinewidth\":2},\"scene\":{\"xaxis\":{\"backgroundcolor\":\"#E5ECF6\",\"gridcolor\":\"white\",\"linecolor\":\"white\",\"showbackground\":true,\"ticks\":\"\",\"zerolinecolor\":\"white\",\"gridwidth\":2},\"yaxis\":{\"backgroundcolor\":\"#E5ECF6\",\"gridcolor\":\"white\",\"linecolor\":\"white\",\"showbackground\":true,\"ticks\":\"\",\"zerolinecolor\":\"white\",\"gridwidth\":2},\"zaxis\":{\"backgroundcolor\":\"#E5ECF6\",\"gridcolor\":\"white\",\"linecolor\":\"white\",\"showbackground\":true,\"ticks\":\"\",\"zerolinecolor\":\"white\",\"gridwidth\":2}},\"shapedefaults\":{\"line\":{\"color\":\"#2a3f5f\"}},\"annotationdefaults\":{\"arrowcolor\":\"#2a3f5f\",\"arrowhead\":0,\"arrowwidth\":1},\"geo\":{\"bgcolor\":\"white\",\"landcolor\":\"#E5ECF6\",\"subunitcolor\":\"white\",\"showland\":true,\"showlakes\":true,\"lakecolor\":\"white\"},\"title\":{\"x\":0.05},\"mapbox\":{\"style\":\"light\"}}},\"xaxis\":{\"anchor\":\"y\",\"domain\":[0.0,1.0],\"title\":{\"text\":\"Month\"}},\"yaxis\":{\"anchor\":\"x\",\"domain\":[0.0,1.0],\"title\":{\"text\":\"Mean Supply (MW)\"}},\"legend\":{\"title\":{\"text\":\"Fuel Type\"},\"tracegroupgap\":0},\"title\":{\"text\":\"Mean Monthly Supply of Non-Renewable Energy Sources (2018-2025)\"}},                        {\"responsive\": true}                    )                };            </script>        </div>"
      ],
      "text/plain": [
       "Figure({\n",
       "    'data': [{'hovertemplate': 'Fuel Type=Liquid Fuel<br>Month=%{x}<br>Mean Supply (MW)=%{y}<extra></extra>',\n",
       "              'legendgroup': 'Liquid Fuel',\n",
       "              'line': {'color': '#636efa', 'dash': 'solid'},\n",
       "              'marker': {'symbol': 'circle'},\n",
       "              'mode': 'lines',\n",
       "              'name': 'Liquid Fuel',\n",
       "              'orientation': 'v',\n",
       "              'showlegend': True,\n",
       "              'type': 'scatter',\n",
       "              'x': array(['2018-01', '2018-02', '2018-03', '2018-04', '2018-05', '2018-06',\n",
       "                          '2018-07', '2018-08', '2018-09', '2018-10', '2018-11', '2018-12',\n",
       "                          '2019-01', '2019-02', '2019-03', '2019-04', '2019-05', '2019-06',\n",
       "                          '2019-07', '2019-08', '2019-09', '2019-10', '2019-11', '2019-12',\n",
       "                          '2020-01', '2020-02', '2020-03', '2020-04', '2020-05', '2020-06',\n",
       "                          '2020-07', '2020-08', '2020-09', '2020-10', '2020-11', '2020-12',\n",
       "                          '2021-01', '2021-02', '2021-03', '2021-04', '2021-05', '2021-06',\n",
       "                          '2021-07', '2021-08', '2021-09', '2021-10', '2021-11', '2021-12',\n",
       "                          '2022-01', '2022-02', '2022-03', '2022-04', '2022-05', '2022-06',\n",
       "                          '2022-07', '2022-08', '2022-09', '2022-10', '2022-11', '2022-12',\n",
       "                          '2023-01', '2023-02', '2023-03', '2023-04', '2023-05', '2023-06',\n",
       "                          '2023-07', '2023-08', '2023-09', '2023-10', '2023-11', '2023-12',\n",
       "                          '2024-01', '2024-02', '2024-03', '2024-04', '2024-05', '2024-06',\n",
       "                          '2024-07', '2024-08', '2024-09', '2024-10', '2024-11', '2024-12',\n",
       "                          '2025-01', '2025-02', '2025-03', '2025-04', '2025-05', '2025-06',\n",
       "                          '2025-07', '2025-08'], dtype=object),\n",
       "              'xaxis': 'x',\n",
       "              'y': {'bdata': ('EVg5tMh2rj+LbOf7qfGiP7pJDAIrh6' ... 'AAAAAAf2q8dJNYOUAAAAAAAAAAAA=='),\n",
       "                    'dtype': 'f8'},\n",
       "              'yaxis': 'y'},\n",
       "             {'hovertemplate': 'Fuel Type=Brown coal<br>Month=%{x}<br>Mean Supply (MW)=%{y}<extra></extra>',\n",
       "              'legendgroup': 'Brown coal',\n",
       "              'line': {'color': '#EF553B', 'dash': 'solid'},\n",
       "              'marker': {'symbol': 'circle'},\n",
       "              'mode': 'lines',\n",
       "              'name': 'Brown coal',\n",
       "              'orientation': 'v',\n",
       "              'showlegend': True,\n",
       "              'type': 'scatter',\n",
       "              'x': array(['2018-01', '2018-02', '2018-03', '2018-04', '2018-05', '2018-06',\n",
       "                          '2018-07', '2018-08', '2018-09', '2018-10', '2018-11', '2018-12',\n",
       "                          '2019-01', '2019-02', '2019-03', '2019-04', '2019-05', '2019-06',\n",
       "                          '2019-07', '2019-08', '2019-09', '2019-10', '2019-11', '2019-12',\n",
       "                          '2020-01', '2020-02', '2020-03', '2020-04', '2020-05', '2020-06',\n",
       "                          '2020-07', '2020-08', '2020-09', '2020-10', '2020-11', '2020-12',\n",
       "                          '2021-01', '2021-02', '2021-03', '2021-04', '2021-05', '2021-06',\n",
       "                          '2021-07', '2021-08', '2021-09', '2021-10', '2021-11', '2021-12',\n",
       "                          '2022-01', '2022-02', '2022-03', '2022-04', '2022-05', '2022-06',\n",
       "                          '2022-07', '2022-08', '2022-09', '2022-10', '2022-11', '2022-12',\n",
       "                          '2023-01', '2023-02', '2023-03', '2023-04', '2023-05', '2023-06',\n",
       "                          '2023-07', '2023-08', '2023-09', '2023-10', '2023-11', '2023-12',\n",
       "                          '2024-01', '2024-02', '2024-03', '2024-04', '2024-05', '2024-06',\n",
       "                          '2024-07', '2024-08', '2024-09', '2024-10', '2024-11', '2024-12',\n",
       "                          '2025-01', '2025-02', '2025-03', '2025-04', '2025-05', '2025-06',\n",
       "                          '2025-07', '2025-08'], dtype=object),\n",
       "              'xaxis': 'x',\n",
       "              'y': {'bdata': ('CKwcWvT1sUAlBoGVg3CyQJMYBFbuw6' ... '9i+KpAFtnO9zMZrECG61G43oesQA=='),\n",
       "                    'dtype': 'f8'},\n",
       "              'yaxis': 'y'},\n",
       "             {'hovertemplate': 'Fuel Type=Black coal<br>Month=%{x}<br>Mean Supply (MW)=%{y}<extra></extra>',\n",
       "              'legendgroup': 'Black coal',\n",
       "              'line': {'color': '#00cc96', 'dash': 'solid'},\n",
       "              'marker': {'symbol': 'circle'},\n",
       "              'mode': 'lines',\n",
       "              'name': 'Black coal',\n",
       "              'orientation': 'v',\n",
       "              'showlegend': True,\n",
       "              'type': 'scatter',\n",
       "              'x': array(['2018-01', '2018-02', '2018-03', '2018-04', '2018-05', '2018-06',\n",
       "                          '2018-07', '2018-08', '2018-09', '2018-10', '2018-11', '2018-12',\n",
       "                          '2019-01', '2019-02', '2019-03', '2019-04', '2019-05', '2019-06',\n",
       "                          '2019-07', '2019-08', '2019-09', '2019-10', '2019-11', '2019-12',\n",
       "                          '2020-01', '2020-02', '2020-03', '2020-04', '2020-05', '2020-06',\n",
       "                          '2020-07', '2020-08', '2020-09', '2020-10', '2020-11', '2020-12',\n",
       "                          '2021-01', '2021-02', '2021-03', '2021-04', '2021-05', '2021-06',\n",
       "                          '2021-07', '2021-08', '2021-09', '2021-10', '2021-11', '2021-12',\n",
       "                          '2022-01', '2022-02', '2022-03', '2022-04', '2022-05', '2022-06',\n",
       "                          '2022-07', '2022-08', '2022-09', '2022-10', '2022-11', '2022-12',\n",
       "                          '2023-01', '2023-02', '2023-03', '2023-04', '2023-05', '2023-06',\n",
       "                          '2023-07', '2023-08', '2023-09', '2023-10', '2023-11', '2023-12',\n",
       "                          '2024-01', '2024-02', '2024-03', '2024-04', '2024-05', '2024-06',\n",
       "                          '2024-07', '2024-08', '2024-09', '2024-10', '2024-11', '2024-12',\n",
       "                          '2025-01', '2025-02', '2025-03', '2025-04', '2025-05', '2025-06',\n",
       "                          '2025-07', '2025-08'], dtype=object),\n",
       "              'xaxis': 'x',\n",
       "              'y': {'bdata': ('UI2XbtovyEA5tMh2PpXHQGq8dJNQhc' ... 'Awh8FAzczMzATuwkDsUbgeZc3BQA=='),\n",
       "                    'dtype': 'f8'},\n",
       "              'yaxis': 'y'},\n",
       "             {'hovertemplate': 'Fuel Type=Gas<br>Month=%{x}<br>Mean Supply (MW)=%{y}<extra></extra>',\n",
       "              'legendgroup': 'Gas',\n",
       "              'line': {'color': '#ab63fa', 'dash': 'solid'},\n",
       "              'marker': {'symbol': 'circle'},\n",
       "              'mode': 'lines',\n",
       "              'name': 'Gas',\n",
       "              'orientation': 'v',\n",
       "              'showlegend': True,\n",
       "              'type': 'scatter',\n",
       "              'x': array(['2018-01', '2018-02', '2018-03', '2018-04', '2018-05', '2018-06',\n",
       "                          '2018-07', '2018-08', '2018-09', '2018-10', '2018-11', '2018-12',\n",
       "                          '2019-01', '2019-02', '2019-03', '2019-04', '2019-05', '2019-06',\n",
       "                          '2019-07', '2019-08', '2019-09', '2019-10', '2019-11', '2019-12',\n",
       "                          '2020-01', '2020-02', '2020-03', '2020-04', '2020-05', '2020-06',\n",
       "                          '2020-07', '2020-08', '2020-09', '2020-10', '2020-11', '2020-12',\n",
       "                          '2021-01', '2021-02', '2021-03', '2021-04', '2021-05', '2021-06',\n",
       "                          '2021-07', '2021-08', '2021-09', '2021-10', '2021-11', '2021-12',\n",
       "                          '2022-01', '2022-02', '2022-03', '2022-04', '2022-05', '2022-06',\n",
       "                          '2022-07', '2022-08', '2022-09', '2022-10', '2022-11', '2022-12',\n",
       "                          '2023-01', '2023-02', '2023-03', '2023-04', '2023-05', '2023-06',\n",
       "                          '2023-07', '2023-08', '2023-09', '2023-10', '2023-11', '2023-12',\n",
       "                          '2024-01', '2024-02', '2024-03', '2024-04', '2024-05', '2024-06',\n",
       "                          '2024-07', '2024-08', '2024-09', '2024-10', '2024-11', '2024-12',\n",
       "                          '2025-01', '2025-02', '2025-03', '2025-04', '2025-05', '2025-06',\n",
       "                          '2025-07', '2025-08'], dtype=object),\n",
       "              'xaxis': 'x',\n",
       "              'y': {'bdata': ('5KWbxCDDmkAUrkfhevOaQOxRuB5F+Z' ... '+n+o1AMQisHNpOnkBWDi2yHZGMQA=='),\n",
       "                    'dtype': 'f8'},\n",
       "              'yaxis': 'y'}],\n",
       "    'layout': {'legend': {'title': {'text': 'Fuel Type'}, 'tracegroupgap': 0},\n",
       "               'template': '...',\n",
       "               'title': {'text': 'Mean Monthly Supply of Non-Renewable Energy Sources (2018-2025)'},\n",
       "               'xaxis': {'anchor': 'y', 'domain': [0.0, 1.0], 'title': {'text': 'Month'}},\n",
       "               'yaxis': {'anchor': 'x', 'domain': [0.0, 1.0], 'title': {'text': 'Mean Supply (MW)'}}}\n",
       "})"
      ]
     },
     "execution_count": 287,
     "metadata": {},
     "output_type": "execute_result"
    }
   ],
   "source": [
    "px.line(non_renewables_df, x = 'Month', y = 'Mean Supply (MW)', color = 'Fuel Type', title = 'Mean Monthly Supply of Non-Renewable Energy Sources (2018-2025)')"
   ]
  },
  {
   "cell_type": "markdown",
   "id": "f2bb56d9",
   "metadata": {},
   "source": [
    "### Getting the Mean Supplies for Each Renewable Fuel Source in October 2023 and September 2024"
   ]
  },
  {
   "cell_type": "code",
   "execution_count": 297,
   "id": "fba14654",
   "metadata": {},
   "outputs": [
    {
     "data": {
      "text/html": [
       "<div>\n",
       "<style scoped>\n",
       "    .dataframe tbody tr th:only-of-type {\n",
       "        vertical-align: middle;\n",
       "    }\n",
       "\n",
       "    .dataframe tbody tr th {\n",
       "        vertical-align: top;\n",
       "    }\n",
       "\n",
       "    .dataframe thead th {\n",
       "        text-align: right;\n",
       "    }\n",
       "</style>\n",
       "<table border=\"1\" class=\"dataframe\">\n",
       "  <thead>\n",
       "    <tr style=\"text-align: right;\">\n",
       "      <th></th>\n",
       "      <th>Fuel Type</th>\n",
       "      <th>Month</th>\n",
       "      <th>Mean Supply (MW)</th>\n",
       "      <th>Min Supply (MW)</th>\n",
       "      <th>Max Supply (MW)</th>\n",
       "    </tr>\n",
       "  </thead>\n",
       "  <tbody>\n",
       "    <tr>\n",
       "      <th>0</th>\n",
       "      <td>Battery</td>\n",
       "      <td>2023-10</td>\n",
       "      <td>18.4530</td>\n",
       "      <td>9.029</td>\n",
       "      <td>27.877</td>\n",
       "    </tr>\n",
       "    <tr>\n",
       "      <th>1</th>\n",
       "      <td>Biomass</td>\n",
       "      <td>2023-10</td>\n",
       "      <td>66.5195</td>\n",
       "      <td>62.199</td>\n",
       "      <td>70.840</td>\n",
       "    </tr>\n",
       "    <tr>\n",
       "      <th>2</th>\n",
       "      <td>Distributed PV</td>\n",
       "      <td>2023-10</td>\n",
       "      <td>5842.3330</td>\n",
       "      <td>0.000</td>\n",
       "      <td>11684.666</td>\n",
       "    </tr>\n",
       "    <tr>\n",
       "      <th>3</th>\n",
       "      <td>Hydro</td>\n",
       "      <td>2023-10</td>\n",
       "      <td>1125.4695</td>\n",
       "      <td>445.747</td>\n",
       "      <td>1805.192</td>\n",
       "    </tr>\n",
       "    <tr>\n",
       "      <th>4</th>\n",
       "      <td>Utility-scale Solar</td>\n",
       "      <td>2023-10</td>\n",
       "      <td>2356.6765</td>\n",
       "      <td>0.620</td>\n",
       "      <td>4712.733</td>\n",
       "    </tr>\n",
       "    <tr>\n",
       "      <th>5</th>\n",
       "      <td>Wind</td>\n",
       "      <td>2023-10</td>\n",
       "      <td>2514.8595</td>\n",
       "      <td>1579.012</td>\n",
       "      <td>3450.707</td>\n",
       "    </tr>\n",
       "  </tbody>\n",
       "</table>\n",
       "</div>"
      ],
      "text/plain": [
       "             Fuel Type    Month  Mean Supply (MW)  Min Supply (MW)  \\\n",
       "0              Battery  2023-10           18.4530            9.029   \n",
       "1              Biomass  2023-10           66.5195           62.199   \n",
       "2       Distributed PV  2023-10         5842.3330            0.000   \n",
       "3                Hydro  2023-10         1125.4695          445.747   \n",
       "4  Utility-scale Solar  2023-10         2356.6765            0.620   \n",
       "5                 Wind  2023-10         2514.8595         1579.012   \n",
       "\n",
       "   Max Supply (MW)  \n",
       "0           27.877  \n",
       "1           70.840  \n",
       "2        11684.666  \n",
       "3         1805.192  \n",
       "4         4712.733  \n",
       "5         3450.707  "
      ]
     },
     "execution_count": 297,
     "metadata": {},
     "output_type": "execute_result"
    }
   ],
   "source": [
    "october_2023 = renewables_df[renewables_df['Month'] == '2023-10'].sort_values(by = 'Fuel Type').reset_index(drop=True)\n",
    "october_2023"
   ]
  },
  {
   "cell_type": "code",
   "execution_count": 298,
   "id": "a994b636",
   "metadata": {},
   "outputs": [
    {
     "data": {
      "text/html": [
       "<div>\n",
       "<style scoped>\n",
       "    .dataframe tbody tr th:only-of-type {\n",
       "        vertical-align: middle;\n",
       "    }\n",
       "\n",
       "    .dataframe tbody tr th {\n",
       "        vertical-align: top;\n",
       "    }\n",
       "\n",
       "    .dataframe thead th {\n",
       "        text-align: right;\n",
       "    }\n",
       "</style>\n",
       "<table border=\"1\" class=\"dataframe\">\n",
       "  <thead>\n",
       "    <tr style=\"text-align: right;\">\n",
       "      <th></th>\n",
       "      <th>Fuel Type</th>\n",
       "      <th>Month</th>\n",
       "      <th>Mean Supply (MW)</th>\n",
       "      <th>Min Supply (MW)</th>\n",
       "      <th>Max Supply (MW)</th>\n",
       "    </tr>\n",
       "  </thead>\n",
       "  <tbody>\n",
       "    <tr>\n",
       "      <th>0</th>\n",
       "      <td>Battery</td>\n",
       "      <td>2024-09</td>\n",
       "      <td>-83.5645</td>\n",
       "      <td>-145.975</td>\n",
       "      <td>-21.154</td>\n",
       "    </tr>\n",
       "    <tr>\n",
       "      <th>1</th>\n",
       "      <td>Biomass</td>\n",
       "      <td>2024-09</td>\n",
       "      <td>80.9705</td>\n",
       "      <td>76.527</td>\n",
       "      <td>85.414</td>\n",
       "    </tr>\n",
       "    <tr>\n",
       "      <th>2</th>\n",
       "      <td>Distributed PV</td>\n",
       "      <td>2024-09</td>\n",
       "      <td>5417.1240</td>\n",
       "      <td>0.000</td>\n",
       "      <td>10834.248</td>\n",
       "    </tr>\n",
       "    <tr>\n",
       "      <th>3</th>\n",
       "      <td>Hydro</td>\n",
       "      <td>2024-09</td>\n",
       "      <td>947.0640</td>\n",
       "      <td>481.970</td>\n",
       "      <td>1412.158</td>\n",
       "    </tr>\n",
       "    <tr>\n",
       "      <th>4</th>\n",
       "      <td>Utility-scale Solar</td>\n",
       "      <td>2024-09</td>\n",
       "      <td>2582.4230</td>\n",
       "      <td>0.027</td>\n",
       "      <td>5164.819</td>\n",
       "    </tr>\n",
       "    <tr>\n",
       "      <th>5</th>\n",
       "      <td>Wind</td>\n",
       "      <td>2024-09</td>\n",
       "      <td>2992.2475</td>\n",
       "      <td>2204.795</td>\n",
       "      <td>3779.700</td>\n",
       "    </tr>\n",
       "  </tbody>\n",
       "</table>\n",
       "</div>"
      ],
      "text/plain": [
       "             Fuel Type    Month  Mean Supply (MW)  Min Supply (MW)  \\\n",
       "0              Battery  2024-09          -83.5645         -145.975   \n",
       "1              Biomass  2024-09           80.9705           76.527   \n",
       "2       Distributed PV  2024-09         5417.1240            0.000   \n",
       "3                Hydro  2024-09          947.0640          481.970   \n",
       "4  Utility-scale Solar  2024-09         2582.4230            0.027   \n",
       "5                 Wind  2024-09         2992.2475         2204.795   \n",
       "\n",
       "   Max Supply (MW)  \n",
       "0          -21.154  \n",
       "1           85.414  \n",
       "2        10834.248  \n",
       "3         1412.158  \n",
       "4         5164.819  \n",
       "5         3779.700  "
      ]
     },
     "execution_count": 298,
     "metadata": {},
     "output_type": "execute_result"
    }
   ],
   "source": [
    "september_2024 = renewables_df[renewables_df['Month'] == '2024-09'].sort_values(by = 'Fuel Type').reset_index(drop=True)\n",
    "september_2024"
   ]
  },
  {
   "cell_type": "code",
   "execution_count": 299,
   "id": "e2fdcea6",
   "metadata": {},
   "outputs": [
    {
     "data": {
      "text/html": [
       "<div>\n",
       "<style scoped>\n",
       "    .dataframe tbody tr th:only-of-type {\n",
       "        vertical-align: middle;\n",
       "    }\n",
       "\n",
       "    .dataframe tbody tr th {\n",
       "        vertical-align: top;\n",
       "    }\n",
       "\n",
       "    .dataframe thead th {\n",
       "        text-align: right;\n",
       "    }\n",
       "</style>\n",
       "<table border=\"1\" class=\"dataframe\">\n",
       "  <thead>\n",
       "    <tr style=\"text-align: right;\">\n",
       "      <th></th>\n",
       "      <th>Fuel Type</th>\n",
       "      <th>Mean Supply October 2023 (MW)</th>\n",
       "      <th>Mean Supply September 2024 (MW)</th>\n",
       "    </tr>\n",
       "  </thead>\n",
       "  <tbody>\n",
       "    <tr>\n",
       "      <th>0</th>\n",
       "      <td>Battery</td>\n",
       "      <td>18.4530</td>\n",
       "      <td>-83.5645</td>\n",
       "    </tr>\n",
       "    <tr>\n",
       "      <th>1</th>\n",
       "      <td>Biomass</td>\n",
       "      <td>66.5195</td>\n",
       "      <td>80.9705</td>\n",
       "    </tr>\n",
       "    <tr>\n",
       "      <th>2</th>\n",
       "      <td>Distributed PV</td>\n",
       "      <td>5842.3330</td>\n",
       "      <td>5417.1240</td>\n",
       "    </tr>\n",
       "    <tr>\n",
       "      <th>3</th>\n",
       "      <td>Hydro</td>\n",
       "      <td>1125.4695</td>\n",
       "      <td>947.0640</td>\n",
       "    </tr>\n",
       "    <tr>\n",
       "      <th>4</th>\n",
       "      <td>Utility-scale Solar</td>\n",
       "      <td>2356.6765</td>\n",
       "      <td>2582.4230</td>\n",
       "    </tr>\n",
       "    <tr>\n",
       "      <th>5</th>\n",
       "      <td>Wind</td>\n",
       "      <td>2514.8595</td>\n",
       "      <td>2992.2475</td>\n",
       "    </tr>\n",
       "  </tbody>\n",
       "</table>\n",
       "</div>"
      ],
      "text/plain": [
       "             Fuel Type  Mean Supply October 2023 (MW)  \\\n",
       "0              Battery                        18.4530   \n",
       "1              Biomass                        66.5195   \n",
       "2       Distributed PV                      5842.3330   \n",
       "3                Hydro                      1125.4695   \n",
       "4  Utility-scale Solar                      2356.6765   \n",
       "5                 Wind                      2514.8595   \n",
       "\n",
       "   Mean Supply September 2024 (MW)  \n",
       "0                         -83.5645  \n",
       "1                          80.9705  \n",
       "2                        5417.1240  \n",
       "3                         947.0640  \n",
       "4                        2582.4230  \n",
       "5                        2992.2475  "
      ]
     },
     "execution_count": 299,
     "metadata": {},
     "output_type": "execute_result"
    }
   ],
   "source": [
    "october_september_mean_supplies = pd.DataFrame({\n",
    "    'Fuel Type': october_2023['Fuel Type'],\n",
    "    'Mean Supply October 2023 (MW)': october_2023['Mean Supply (MW)'],\n",
    "    'Mean Supply September 2024 (MW)': september_2024['Mean Supply (MW)']\n",
    "})\n",
    "october_september_mean_supplies"
   ]
  },
  {
   "cell_type": "markdown",
   "id": "8a725a2c",
   "metadata": {},
   "source": [
    "### Producing the Minimum Negative Supply Amounts and their Frequency"
   ]
  },
  {
   "cell_type": "code",
   "execution_count": 312,
   "id": "736f9b6b",
   "metadata": {},
   "outputs": [],
   "source": [
    "min_neg_supply = supply_summary[supply_summary['Min Supply (MW)'] < 0].groupby('Fuel Type').min().drop(columns = ['Mean Supply (MW)', 'Max Supply (MW)'])"
   ]
  },
  {
   "cell_type": "code",
   "execution_count": 314,
   "id": "35d4e04f",
   "metadata": {},
   "outputs": [
    {
     "data": {
      "text/html": [
       "<div>\n",
       "<style scoped>\n",
       "    .dataframe tbody tr th:only-of-type {\n",
       "        vertical-align: middle;\n",
       "    }\n",
       "\n",
       "    .dataframe tbody tr th {\n",
       "        vertical-align: top;\n",
       "    }\n",
       "\n",
       "    .dataframe thead th {\n",
       "        text-align: right;\n",
       "    }\n",
       "</style>\n",
       "<table border=\"1\" class=\"dataframe\">\n",
       "  <thead>\n",
       "    <tr style=\"text-align: right;\">\n",
       "      <th></th>\n",
       "      <th>Month</th>\n",
       "      <th>Min Supply (MW)</th>\n",
       "      <th>Frequency of Negative Supply Months</th>\n",
       "    </tr>\n",
       "    <tr>\n",
       "      <th>Fuel Type</th>\n",
       "      <th></th>\n",
       "      <th></th>\n",
       "      <th></th>\n",
       "    </tr>\n",
       "  </thead>\n",
       "  <tbody>\n",
       "    <tr>\n",
       "      <th>Battery</th>\n",
       "      <td>2024-05</td>\n",
       "      <td>-161.050</td>\n",
       "      <td>15</td>\n",
       "    </tr>\n",
       "    <tr>\n",
       "      <th>Biomass</th>\n",
       "      <td>2022-10</td>\n",
       "      <td>-4.950</td>\n",
       "      <td>6</td>\n",
       "    </tr>\n",
       "    <tr>\n",
       "      <th>Liquid Fuel</th>\n",
       "      <td>2022-10</td>\n",
       "      <td>-0.100</td>\n",
       "      <td>5</td>\n",
       "    </tr>\n",
       "    <tr>\n",
       "      <th>Utility-scale Solar</th>\n",
       "      <td>2022-08</td>\n",
       "      <td>-0.202</td>\n",
       "      <td>4</td>\n",
       "    </tr>\n",
       "  </tbody>\n",
       "</table>\n",
       "</div>"
      ],
      "text/plain": [
       "                       Month  Min Supply (MW)  \\\n",
       "Fuel Type                                       \n",
       "Battery              2024-05         -161.050   \n",
       "Biomass              2022-10           -4.950   \n",
       "Liquid Fuel          2022-10           -0.100   \n",
       "Utility-scale Solar  2022-08           -0.202   \n",
       "\n",
       "                     Frequency of Negative Supply Months  \n",
       "Fuel Type                                                 \n",
       "Battery                                               15  \n",
       "Biomass                                                6  \n",
       "Liquid Fuel                                            5  \n",
       "Utility-scale Solar                                    4  "
      ]
     },
     "execution_count": 314,
     "metadata": {},
     "output_type": "execute_result"
    }
   ],
   "source": [
    "min_neg_freq = supply_summary[supply_summary['Min Supply (MW)'] < 0]['Fuel Type'].value_counts().to_list()\n",
    "min_neg_supply['Frequency of Negative Supply Months'] = min_neg_freq\n",
    "min_neg_supply"
   ]
  },
  {
   "cell_type": "markdown",
   "id": "557ef571",
   "metadata": {},
   "source": [
    "Cell used to export the data to Excel"
   ]
  },
  {
   "cell_type": "code",
   "execution_count": 315,
   "id": "0ae06c56",
   "metadata": {},
   "outputs": [],
   "source": [
    "min_neg_supply.to_excel('data/min_negative_supplies.xlsx')"
   ]
  },
  {
   "cell_type": "markdown",
   "id": "ce97c896",
   "metadata": {},
   "source": [
    "### Function to Produce DataFrame for the CAGR of each Source"
   ]
  },
  {
   "cell_type": "code",
   "execution_count": 321,
   "id": "16b18a37",
   "metadata": {},
   "outputs": [
    {
     "data": {
      "text/html": [
       "<div>\n",
       "<style scoped>\n",
       "    .dataframe tbody tr th:only-of-type {\n",
       "        vertical-align: middle;\n",
       "    }\n",
       "\n",
       "    .dataframe tbody tr th {\n",
       "        vertical-align: top;\n",
       "    }\n",
       "\n",
       "    .dataframe thead th {\n",
       "        text-align: right;\n",
       "    }\n",
       "</style>\n",
       "<table border=\"1\" class=\"dataframe\">\n",
       "  <thead>\n",
       "    <tr style=\"text-align: right;\">\n",
       "      <th></th>\n",
       "      <th>Fuel Type</th>\n",
       "      <th>Month</th>\n",
       "      <th>Mean Supply (MW)</th>\n",
       "      <th>Min Supply (MW)</th>\n",
       "      <th>Max Supply (MW)</th>\n",
       "    </tr>\n",
       "  </thead>\n",
       "  <tbody>\n",
       "    <tr>\n",
       "      <th>0</th>\n",
       "      <td>Battery</td>\n",
       "      <td>2018-01</td>\n",
       "      <td>0.2830</td>\n",
       "      <td>0.000</td>\n",
       "      <td>0.566</td>\n",
       "    </tr>\n",
       "    <tr>\n",
       "      <th>1</th>\n",
       "      <td>Wind</td>\n",
       "      <td>2018-01</td>\n",
       "      <td>1715.5270</td>\n",
       "      <td>566.570</td>\n",
       "      <td>2864.484</td>\n",
       "    </tr>\n",
       "    <tr>\n",
       "      <th>2</th>\n",
       "      <td>Utility-scale Solar</td>\n",
       "      <td>2018-01</td>\n",
       "      <td>134.7040</td>\n",
       "      <td>2.204</td>\n",
       "      <td>267.204</td>\n",
       "    </tr>\n",
       "    <tr>\n",
       "      <th>3</th>\n",
       "      <td>Hydro</td>\n",
       "      <td>2018-01</td>\n",
       "      <td>1122.2300</td>\n",
       "      <td>355.826</td>\n",
       "      <td>1888.634</td>\n",
       "    </tr>\n",
       "    <tr>\n",
       "      <th>4</th>\n",
       "      <td>Distributed PV</td>\n",
       "      <td>2018-01</td>\n",
       "      <td>1938.2870</td>\n",
       "      <td>0.000</td>\n",
       "      <td>3876.574</td>\n",
       "    </tr>\n",
       "    <tr>\n",
       "      <th>...</th>\n",
       "      <td>...</td>\n",
       "      <td>...</td>\n",
       "      <td>...</td>\n",
       "      <td>...</td>\n",
       "      <td>...</td>\n",
       "    </tr>\n",
       "    <tr>\n",
       "      <th>546</th>\n",
       "      <td>Battery</td>\n",
       "      <td>2025-08</td>\n",
       "      <td>7.2425</td>\n",
       "      <td>2.324</td>\n",
       "      <td>12.161</td>\n",
       "    </tr>\n",
       "    <tr>\n",
       "      <th>547</th>\n",
       "      <td>Utility-scale Solar</td>\n",
       "      <td>2025-08</td>\n",
       "      <td>2863.1915</td>\n",
       "      <td>0.462</td>\n",
       "      <td>5725.921</td>\n",
       "    </tr>\n",
       "    <tr>\n",
       "      <th>548</th>\n",
       "      <td>Hydro</td>\n",
       "      <td>2025-08</td>\n",
       "      <td>1224.0985</td>\n",
       "      <td>586.385</td>\n",
       "      <td>1861.812</td>\n",
       "    </tr>\n",
       "    <tr>\n",
       "      <th>549</th>\n",
       "      <td>Distributed PV</td>\n",
       "      <td>2025-08</td>\n",
       "      <td>5037.2530</td>\n",
       "      <td>0.000</td>\n",
       "      <td>10074.506</td>\n",
       "    </tr>\n",
       "    <tr>\n",
       "      <th>550</th>\n",
       "      <td>Wind</td>\n",
       "      <td>2025-08</td>\n",
       "      <td>2936.4945</td>\n",
       "      <td>1980.663</td>\n",
       "      <td>3892.326</td>\n",
       "    </tr>\n",
       "  </tbody>\n",
       "</table>\n",
       "<p>551 rows × 5 columns</p>\n",
       "</div>"
      ],
      "text/plain": [
       "               Fuel Type    Month  Mean Supply (MW)  Min Supply (MW)  \\\n",
       "0                Battery  2018-01            0.2830            0.000   \n",
       "1                   Wind  2018-01         1715.5270          566.570   \n",
       "2    Utility-scale Solar  2018-01          134.7040            2.204   \n",
       "3                  Hydro  2018-01         1122.2300          355.826   \n",
       "4         Distributed PV  2018-01         1938.2870            0.000   \n",
       "..                   ...      ...               ...              ...   \n",
       "546              Battery  2025-08            7.2425            2.324   \n",
       "547  Utility-scale Solar  2025-08         2863.1915            0.462   \n",
       "548                Hydro  2025-08         1224.0985          586.385   \n",
       "549       Distributed PV  2025-08         5037.2530            0.000   \n",
       "550                 Wind  2025-08         2936.4945         1980.663   \n",
       "\n",
       "     Max Supply (MW)  \n",
       "0              0.566  \n",
       "1           2864.484  \n",
       "2            267.204  \n",
       "3           1888.634  \n",
       "4           3876.574  \n",
       "..               ...  \n",
       "546           12.161  \n",
       "547         5725.921  \n",
       "548         1861.812  \n",
       "549        10074.506  \n",
       "550         3892.326  \n",
       "\n",
       "[551 rows x 5 columns]"
      ]
     },
     "execution_count": 321,
     "metadata": {},
     "output_type": "execute_result"
    }
   ],
   "source": [
    "renewables_df"
   ]
  },
  {
   "cell_type": "code",
   "execution_count": 330,
   "id": "7ac2e6e5",
   "metadata": {},
   "outputs": [],
   "source": [
    "def produce_cagr_dataframe(data, start_date, end_date, num_years = 7):\n",
    "\n",
    "    fuel_sources = data['Fuel Type'].unique().tolist()\n",
    "\n",
    "    fuel_data = {}\n",
    "\n",
    "    print(fuel_sources)\n",
    "\n",
    "    for fuel in fuel_sources:\n",
    "        start_mean_supply = data[(data['Fuel Type'] == fuel) &(data['Month'] == start_date)]['Mean Supply (MW)'].values[0]\n",
    "        end_mean_supply = data[(data['Fuel Type'] == fuel) & (data['Month'] == end_date)]['Mean Supply (MW)'].values[0]\n",
    "\n",
    "        cagr = (((end_mean_supply / start_mean_supply) ** (1 / num_years)) - 1) * 100\n",
    "\n",
    "        fuel_data[fuel] = [cagr, start_mean_supply, end_mean_supply]\n",
    "\n",
    "    return pd.DataFrame(fuel_data, index = ['CAGR (%)', f'Start Mean Supply (MW)', f'End Mean Supply (MW)']).T"
   ]
  },
  {
   "cell_type": "code",
   "execution_count": 332,
   "id": "061c6e26",
   "metadata": {},
   "outputs": [
    {
     "name": "stdout",
     "output_type": "stream",
     "text": [
      "['Battery', 'Wind', 'Utility-scale Solar', 'Hydro', 'Distributed PV', 'Biomass']\n"
     ]
    },
    {
     "data": {
      "text/html": [
       "<div>\n",
       "<style scoped>\n",
       "    .dataframe tbody tr th:only-of-type {\n",
       "        vertical-align: middle;\n",
       "    }\n",
       "\n",
       "    .dataframe tbody tr th {\n",
       "        vertical-align: top;\n",
       "    }\n",
       "\n",
       "    .dataframe thead th {\n",
       "        text-align: right;\n",
       "    }\n",
       "</style>\n",
       "<table border=\"1\" class=\"dataframe\">\n",
       "  <thead>\n",
       "    <tr style=\"text-align: right;\">\n",
       "      <th></th>\n",
       "      <th>CAGR (%)</th>\n",
       "      <th>Start Mean Supply (MW)</th>\n",
       "      <th>End Mean Supply (MW)</th>\n",
       "    </tr>\n",
       "  </thead>\n",
       "  <tbody>\n",
       "    <tr>\n",
       "      <th>Battery</th>\n",
       "      <td>58.912273</td>\n",
       "      <td>0.2830</td>\n",
       "      <td>7.2425</td>\n",
       "    </tr>\n",
       "    <tr>\n",
       "      <th>Wind</th>\n",
       "      <td>7.981008</td>\n",
       "      <td>1715.5270</td>\n",
       "      <td>2936.4945</td>\n",
       "    </tr>\n",
       "    <tr>\n",
       "      <th>Utility-scale Solar</th>\n",
       "      <td>54.752815</td>\n",
       "      <td>134.7040</td>\n",
       "      <td>2863.1915</td>\n",
       "    </tr>\n",
       "    <tr>\n",
       "      <th>Hydro</th>\n",
       "      <td>1.248976</td>\n",
       "      <td>1122.2300</td>\n",
       "      <td>1224.0985</td>\n",
       "    </tr>\n",
       "    <tr>\n",
       "      <th>Distributed PV</th>\n",
       "      <td>14.618222</td>\n",
       "      <td>1938.2870</td>\n",
       "      <td>5037.2530</td>\n",
       "    </tr>\n",
       "    <tr>\n",
       "      <th>Biomass</th>\n",
       "      <td>18.482977</td>\n",
       "      <td>12.3745</td>\n",
       "      <td>40.5620</td>\n",
       "    </tr>\n",
       "  </tbody>\n",
       "</table>\n",
       "</div>"
      ],
      "text/plain": [
       "                      CAGR (%)  Start Mean Supply (MW)  End Mean Supply (MW)\n",
       "Battery              58.912273                  0.2830                7.2425\n",
       "Wind                  7.981008               1715.5270             2936.4945\n",
       "Utility-scale Solar  54.752815                134.7040             2863.1915\n",
       "Hydro                 1.248976               1122.2300             1224.0985\n",
       "Distributed PV       14.618222               1938.2870             5037.2530\n",
       "Biomass              18.482977                 12.3745               40.5620"
      ]
     },
     "execution_count": 332,
     "metadata": {},
     "output_type": "execute_result"
    }
   ],
   "source": [
    "renewables_cagr = produce_cagr_dataframe(renewables_df, '2018-01', '2025-08')\n",
    "renewables_cagr"
   ]
  },
  {
   "cell_type": "code",
   "execution_count": 333,
   "id": "d4d9a09e",
   "metadata": {},
   "outputs": [
    {
     "name": "stdout",
     "output_type": "stream",
     "text": [
      "['Liquid Fuel', 'Brown coal', 'Black coal', 'Gas']\n"
     ]
    },
    {
     "data": {
      "text/html": [
       "<div>\n",
       "<style scoped>\n",
       "    .dataframe tbody tr th:only-of-type {\n",
       "        vertical-align: middle;\n",
       "    }\n",
       "\n",
       "    .dataframe tbody tr th {\n",
       "        vertical-align: top;\n",
       "    }\n",
       "\n",
       "    .dataframe thead th {\n",
       "        text-align: right;\n",
       "    }\n",
       "</style>\n",
       "<table border=\"1\" class=\"dataframe\">\n",
       "  <thead>\n",
       "    <tr style=\"text-align: right;\">\n",
       "      <th></th>\n",
       "      <th>CAGR (%)</th>\n",
       "      <th>Start Mean Supply (MW)</th>\n",
       "      <th>End Mean Supply (MW)</th>\n",
       "    </tr>\n",
       "  </thead>\n",
       "  <tbody>\n",
       "    <tr>\n",
       "      <th>Liquid Fuel</th>\n",
       "      <td>-100.000000</td>\n",
       "      <td>0.0595</td>\n",
       "      <td>0.0000</td>\n",
       "    </tr>\n",
       "    <tr>\n",
       "      <th>Brown coal</th>\n",
       "      <td>-3.237220</td>\n",
       "      <td>4597.9545</td>\n",
       "      <td>3651.9350</td>\n",
       "    </tr>\n",
       "    <tr>\n",
       "      <th>Black coal</th>\n",
       "      <td>-4.283867</td>\n",
       "      <td>12383.7065</td>\n",
       "      <td>9114.7900</td>\n",
       "    </tr>\n",
       "    <tr>\n",
       "      <th>Gas</th>\n",
       "      <td>-8.579342</td>\n",
       "      <td>1712.7820</td>\n",
       "      <td>914.1395</td>\n",
       "    </tr>\n",
       "  </tbody>\n",
       "</table>\n",
       "</div>"
      ],
      "text/plain": [
       "               CAGR (%)  Start Mean Supply (MW)  End Mean Supply (MW)\n",
       "Liquid Fuel -100.000000                  0.0595                0.0000\n",
       "Brown coal    -3.237220               4597.9545             3651.9350\n",
       "Black coal    -4.283867              12383.7065             9114.7900\n",
       "Gas           -8.579342               1712.7820              914.1395"
      ]
     },
     "execution_count": 333,
     "metadata": {},
     "output_type": "execute_result"
    }
   ],
   "source": [
    "non_renewables_cagr = produce_cagr_dataframe(non_renewables_df, '2018-01', '2025-08')\n",
    "non_renewables_cagr"
   ]
  },
  {
   "cell_type": "markdown",
   "id": "8547bfab",
   "metadata": {},
   "source": [
    "Writing the data to an Excel File"
   ]
  },
  {
   "cell_type": "code",
   "execution_count": 334,
   "id": "452a6835",
   "metadata": {},
   "outputs": [],
   "source": [
    "renewables_cagr.to_excel('data/renewables_cagr.xlsx')\n",
    "non_renewables_cagr.to_excel('data/non_renewables_cagr.xlsx')"
   ]
  },
  {
   "cell_type": "code",
   "execution_count": null,
   "id": "01b80624",
   "metadata": {},
   "outputs": [],
   "source": []
  }
 ],
 "metadata": {
  "kernelspec": {
   "display_name": "ifn695_venv (3.12.9)",
   "language": "python",
   "name": "python3"
  },
  "language_info": {
   "codemirror_mode": {
    "name": "ipython",
    "version": 3
   },
   "file_extension": ".py",
   "mimetype": "text/x-python",
   "name": "python",
   "nbconvert_exporter": "python",
   "pygments_lexer": "ipython3",
   "version": "3.12.9"
  }
 },
 "nbformat": 4,
 "nbformat_minor": 5
}
