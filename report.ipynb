{
 "cells": [
  {
   "cell_type": "markdown",
   "id": "ca4c1368",
   "metadata": {},
   "source": [
    "# IFN695 - Report Code"
   ]
  },
  {
   "cell_type": "markdown",
   "id": "e9da9cbb",
   "metadata": {},
   "source": [
    "## Importing all Relevant Libraries"
   ]
  },
  {
   "cell_type": "code",
   "execution_count": 2,
   "id": "a8a7d0ab",
   "metadata": {},
   "outputs": [],
   "source": [
    "import pandas as pd\n",
    "import os\n",
    "from tqdm.notebook import tqdm\n",
    "\n",
    "import plotly.express as px\n",
    "import plotly.graph_objects as go\n",
    "\n",
    "from nemosis import dynamic_data_compiler\n",
    "\n",
    "pd.set_option('display.max_rows', 20)"
   ]
  },
  {
   "cell_type": "markdown",
   "id": "27326e88",
   "metadata": {},
   "source": [
    "## Importing Datasets"
   ]
  },
  {
   "cell_type": "code",
   "execution_count": 3,
   "id": "f711f6cb",
   "metadata": {},
   "outputs": [
    {
     "data": {
      "text/html": [
       "<div>\n",
       "<style scoped>\n",
       "    .dataframe tbody tr th:only-of-type {\n",
       "        vertical-align: middle;\n",
       "    }\n",
       "\n",
       "    .dataframe tbody tr th {\n",
       "        vertical-align: top;\n",
       "    }\n",
       "\n",
       "    .dataframe thead th {\n",
       "        text-align: right;\n",
       "    }\n",
       "</style>\n",
       "<table border=\"1\" class=\"dataframe\">\n",
       "  <thead>\n",
       "    <tr style=\"text-align: right;\">\n",
       "      <th></th>\n",
       "      <th>DateTime</th>\n",
       "      <th>Max/Min</th>\n",
       "      <th>State</th>\n",
       "      <th>Fuel Type</th>\n",
       "      <th>Supply</th>\n",
       "    </tr>\n",
       "  </thead>\n",
       "  <tbody>\n",
       "    <tr>\n",
       "      <th>0</th>\n",
       "      <td>2/1/2018 4:00</td>\n",
       "      <td>Min</td>\n",
       "      <td>NEM</td>\n",
       "      <td>Battery</td>\n",
       "      <td>0.000</td>\n",
       "    </tr>\n",
       "    <tr>\n",
       "      <th>1</th>\n",
       "      <td>2/1/2018 4:00</td>\n",
       "      <td>Min</td>\n",
       "      <td>NEM</td>\n",
       "      <td>Biomass</td>\n",
       "      <td>10.233</td>\n",
       "    </tr>\n",
       "    <tr>\n",
       "      <th>2</th>\n",
       "      <td>2/1/2018 4:00</td>\n",
       "      <td>Min</td>\n",
       "      <td>NEM</td>\n",
       "      <td>Black coal</td>\n",
       "      <td>10655.808</td>\n",
       "    </tr>\n",
       "    <tr>\n",
       "      <th>3</th>\n",
       "      <td>2/1/2018 4:00</td>\n",
       "      <td>Min</td>\n",
       "      <td>NEM</td>\n",
       "      <td>Brown coal</td>\n",
       "      <td>4655.597</td>\n",
       "    </tr>\n",
       "    <tr>\n",
       "      <th>4</th>\n",
       "      <td>2/1/2018 4:00</td>\n",
       "      <td>Min</td>\n",
       "      <td>NEM</td>\n",
       "      <td>Distributed PV</td>\n",
       "      <td>0.000</td>\n",
       "    </tr>\n",
       "    <tr>\n",
       "      <th>...</th>\n",
       "      <td>...</td>\n",
       "      <td>...</td>\n",
       "      <td>...</td>\n",
       "      <td>...</td>\n",
       "      <td>...</td>\n",
       "    </tr>\n",
       "    <tr>\n",
       "      <th>1858</th>\n",
       "      <td>3/8/2025 11:30</td>\n",
       "      <td>Max</td>\n",
       "      <td>NEM</td>\n",
       "      <td>Gas</td>\n",
       "      <td>258.971</td>\n",
       "    </tr>\n",
       "    <tr>\n",
       "      <th>1859</th>\n",
       "      <td>3/8/2025 11:30</td>\n",
       "      <td>Max</td>\n",
       "      <td>NEM</td>\n",
       "      <td>Hydro</td>\n",
       "      <td>586.385</td>\n",
       "    </tr>\n",
       "    <tr>\n",
       "      <th>1860</th>\n",
       "      <td>3/8/2025 11:30</td>\n",
       "      <td>Max</td>\n",
       "      <td>NEM</td>\n",
       "      <td>Liquid Fuel</td>\n",
       "      <td>0.000</td>\n",
       "    </tr>\n",
       "    <tr>\n",
       "      <th>1861</th>\n",
       "      <td>3/8/2025 11:30</td>\n",
       "      <td>Max</td>\n",
       "      <td>NEM</td>\n",
       "      <td>Utility-scale Solar</td>\n",
       "      <td>5725.921</td>\n",
       "    </tr>\n",
       "    <tr>\n",
       "      <th>1862</th>\n",
       "      <td>3/8/2025 11:30</td>\n",
       "      <td>Max</td>\n",
       "      <td>NEM</td>\n",
       "      <td>Wind</td>\n",
       "      <td>3892.326</td>\n",
       "    </tr>\n",
       "  </tbody>\n",
       "</table>\n",
       "<p>1863 rows × 5 columns</p>\n",
       "</div>"
      ],
      "text/plain": [
       "            DateTime Max/Min State            Fuel Type     Supply\n",
       "0      2/1/2018 4:00     Min   NEM              Battery      0.000\n",
       "1      2/1/2018 4:00     Min   NEM              Biomass     10.233\n",
       "2      2/1/2018 4:00     Min   NEM           Black coal  10655.808\n",
       "3      2/1/2018 4:00     Min   NEM           Brown coal   4655.597\n",
       "4      2/1/2018 4:00     Min   NEM       Distributed PV      0.000\n",
       "...              ...     ...   ...                  ...        ...\n",
       "1858  3/8/2025 11:30     Max   NEM                  Gas    258.971\n",
       "1859  3/8/2025 11:30     Max   NEM                Hydro    586.385\n",
       "1860  3/8/2025 11:30     Max   NEM          Liquid Fuel      0.000\n",
       "1861  3/8/2025 11:30     Max   NEM  Utility-scale Solar   5725.921\n",
       "1862  3/8/2025 11:30     Max   NEM                 Wind   3892.326\n",
       "\n",
       "[1863 rows x 5 columns]"
      ]
     },
     "execution_count": 3,
     "metadata": {},
     "output_type": "execute_result"
    }
   ],
   "source": [
    "renewable_penetration = pd.read_csv('data/NEM_RENEWABLE_PENETRATION_ALL_202508041827.csv')\n",
    "renewable_penetration"
   ]
  },
  {
   "cell_type": "markdown",
   "id": "879aeb5f",
   "metadata": {},
   "source": [
    "### Loading the Archived Packages for Fuel Mix in Each State"
   ]
  },
  {
   "cell_type": "code",
   "execution_count": 4,
   "id": "111e3407",
   "metadata": {},
   "outputs": [],
   "source": [
    "start_date = '2018/01/01 00:00:00'\n",
    "end_date = '2025/07/31 00:00:00'\n",
    "\n",
    "current_dir = os.getcwd()\n",
    "fuel_raw_data_cache = os.path.join(current_dir, 'data', 'fuel_mix')\n",
    "price_raw_data_cache = os.path.join(current_dir, 'data', 'price')\n",
    "\n",
    "# dudetail = dynamic_data_compiler(\n",
    "#     start_time = '2025/05/31 00:00:00',\n",
    "#     end_time = end_date,\n",
    "#     raw_data_location = fuel_raw_data_cache, \n",
    "#     table_name = 'DUDETAILSUMMARY',\n",
    "#     fformat = 'csv'\n",
    "# )\n",
    "\n",
    "# dispatch = dynamic_data_compiler(\n",
    "#     start_time = start_date,\n",
    "#     end_time = end_date,\n",
    "#     raw_data_location = fuel_raw_data_cache,\n",
    "#     table_name = 'DISPATCH_UNIT_SCADA',\n",
    "#     fformat = 'csv'\n",
    "# )\n",
    "\n",
    "# dispatch_price = dynamic_data_compiler(\n",
    "#     start_time = start_date,\n",
    "#     end_time = end_date,\n",
    "#     raw_data_location = price_raw_data_cache,\n",
    "#     table_name = 'DISPATCHPRICE',\n",
    "#     fformat = 'csv'\n",
    "# )"
   ]
  },
  {
   "cell_type": "markdown",
   "id": "04e75c4a",
   "metadata": {},
   "source": [
    "### Loading the Governmental Policies CSV File"
   ]
  },
  {
   "cell_type": "code",
   "execution_count": 5,
   "id": "c7ad6ae5",
   "metadata": {},
   "outputs": [
    {
     "name": "stdout",
     "output_type": "stream",
     "text": [
      "Governmental Policy Dtypes: \n",
      "Policy / Legislation                             object\n",
      "Short description (what it attempted)            object\n",
      "PM (party) at time introduced                    object\n",
      "Date introduced / announced              datetime64[ns]\n",
      "Policy type (one of 5)                           object\n",
      "Subtype (within type)                            object\n",
      "Key source(s)                                    object\n",
      "dtype: object\n"
     ]
    },
    {
     "data": {
      "text/html": [
       "<div>\n",
       "<style scoped>\n",
       "    .dataframe tbody tr th:only-of-type {\n",
       "        vertical-align: middle;\n",
       "    }\n",
       "\n",
       "    .dataframe tbody tr th {\n",
       "        vertical-align: top;\n",
       "    }\n",
       "\n",
       "    .dataframe thead th {\n",
       "        text-align: right;\n",
       "    }\n",
       "</style>\n",
       "<table border=\"1\" class=\"dataframe\">\n",
       "  <thead>\n",
       "    <tr style=\"text-align: right;\">\n",
       "      <th></th>\n",
       "      <th>Policy / Legislation</th>\n",
       "      <th>Short description (what it attempted)</th>\n",
       "      <th>PM (party) at time introduced</th>\n",
       "      <th>Date introduced / announced</th>\n",
       "      <th>Policy type (one of 5)</th>\n",
       "      <th>Subtype (within type)</th>\n",
       "      <th>Key source(s)</th>\n",
       "    </tr>\n",
       "  </thead>\n",
       "  <tbody>\n",
       "    <tr>\n",
       "      <th>0</th>\n",
       "      <td>Australia’s National Hydrogen Strategy (2019)</td>\n",
       "      <td>National framework to kick-start a clean hydro...</td>\n",
       "      <td>Scott Morrison (Liberal/National Coalition)</td>\n",
       "      <td>2019-11-22</td>\n",
       "      <td>R&amp;D &amp; Innovation</td>\n",
       "      <td>National strategy / commercialization roadmap.</td>\n",
       "      <td>https://www.chiefscientist.gov.au/news-and-med...</td>\n",
       "    </tr>\n",
       "    <tr>\n",
       "      <th>9</th>\n",
       "      <td>National Hydrogen Strategy — update (2024)</td>\n",
       "      <td>A comprehensive update to the 2019 Hydrogen St...</td>\n",
       "      <td>Anthony Albanese (Labor)</td>\n",
       "      <td>2019-11-22</td>\n",
       "      <td>R&amp;D &amp; Innovation</td>\n",
       "      <td>Strategy update / commercialization acceleration.</td>\n",
       "      <td>https://www.dcceew.gov.au/energy/publications/...</td>\n",
       "    </tr>\n",
       "    <tr>\n",
       "      <th>1</th>\n",
       "      <td>Technology Investment Roadmap (and 2020 Low Em...</td>\n",
       "      <td>Roadmap to prioritise and accelerate investmen...</td>\n",
       "      <td>Scott Morrison (Coalition)</td>\n",
       "      <td>2020-05-21</td>\n",
       "      <td>R&amp;D &amp; Innovation</td>\n",
       "      <td>Technology investment roadmap / R&amp;D prioritisa...</td>\n",
       "      <td>https://www.dcceew.gov.au/climate-change/publi...</td>\n",
       "    </tr>\n",
       "    <tr>\n",
       "      <th>2</th>\n",
       "      <td>Low Emissions Technology Statement (2021)</td>\n",
       "      <td>Follow-up technology statement detailing prior...</td>\n",
       "      <td>Scott Morrison (Coalition)</td>\n",
       "      <td>2021-11-02</td>\n",
       "      <td>R&amp;D &amp; Innovation</td>\n",
       "      <td>Low emissions technology statement / implement...</td>\n",
       "      <td>https://www.dcceew.gov.au/climate-change/publi...</td>\n",
       "    </tr>\n",
       "    <tr>\n",
       "      <th>3</th>\n",
       "      <td>Powering Australia (ALP plan &amp; program package...</td>\n",
       "      <td>Government-wide plan to accelerate renewables,...</td>\n",
       "      <td>Anthony Albanese (Labor)</td>\n",
       "      <td>2021-12-03</td>\n",
       "      <td>Infrastructure &amp; Investment (also Financial in...</td>\n",
       "      <td>National clean-energy plan / funding &amp; targets.</td>\n",
       "      <td>https://www.dcceew.gov.au/energy/strategies-an...</td>\n",
       "    </tr>\n",
       "    <tr>\n",
       "      <th>4</th>\n",
       "      <td>Climate Change Act 2022 (Commonwealth)</td>\n",
       "      <td>Legislates emissions-reduction framework (gove...</td>\n",
       "      <td>Anthony Albanese (Labor)</td>\n",
       "      <td>2022-07-27</td>\n",
       "      <td>Regulatory / Legislative</td>\n",
       "      <td>Climate law: targets, reporting and governance.</td>\n",
       "      <td>https://www.legislation.gov.au/C2022A00037/lat...</td>\n",
       "    </tr>\n",
       "    <tr>\n",
       "      <th>6</th>\n",
       "      <td>Rewiring the Nation (program)</td>\n",
       "      <td>Federal program to finance and accelerate majo...</td>\n",
       "      <td>Anthony Albanese (Labor)</td>\n",
       "      <td>2022-10-19</td>\n",
       "      <td>Infrastructure &amp; Investment</td>\n",
       "      <td>Transmission / grid investment funding program.</td>\n",
       "      <td>https://www.dcceew.gov.au/energy/renewable/rew...</td>\n",
       "    </tr>\n",
       "    <tr>\n",
       "      <th>7</th>\n",
       "      <td>Capacity Investment Scheme (CIS) — Federal rev...</td>\n",
       "      <td>Federal revenue-underwriting (contract/revenue...</td>\n",
       "      <td>Anthony Albanese (Labor)</td>\n",
       "      <td>2022-12-08</td>\n",
       "      <td>Financial incentives &amp; Market Support</td>\n",
       "      <td>Revenue-underwriting / competitive tender (CfD...</td>\n",
       "      <td>https://www.nortonrosefulbright.com/en-au/know...</td>\n",
       "    </tr>\n",
       "    <tr>\n",
       "      <th>5</th>\n",
       "      <td>Safeguard Mechanism reforms (reform package; c...</td>\n",
       "      <td>Reformed the Safeguard Mechanism to require la...</td>\n",
       "      <td>Anthony Albanese (Labor)</td>\n",
       "      <td>2023-03-30</td>\n",
       "      <td>Regulatory / Legislative</td>\n",
       "      <td>Emissions regulation (facility baselines / com...</td>\n",
       "      <td>https://www.dcceew.gov.au/sites/default/files/...</td>\n",
       "    </tr>\n",
       "    <tr>\n",
       "      <th>8</th>\n",
       "      <td>$1 billion solar manufacturing / local solar s...</td>\n",
       "      <td>Federal fund to support domestic solar panel (...</td>\n",
       "      <td>Anthony Albanese (Labor)</td>\n",
       "      <td>2024-03-28</td>\n",
       "      <td>Trade / Industrial / Workforce</td>\n",
       "      <td>Manufacturing incentives / grants to develop d...</td>\n",
       "      <td>https://www.reuters.com/sustainability/sustain...</td>\n",
       "    </tr>\n",
       "  </tbody>\n",
       "</table>\n",
       "</div>"
      ],
      "text/plain": [
       "                                Policy / Legislation  \\\n",
       "0      Australia’s National Hydrogen Strategy (2019)   \n",
       "9         National Hydrogen Strategy — update (2024)   \n",
       "1  Technology Investment Roadmap (and 2020 Low Em...   \n",
       "2          Low Emissions Technology Statement (2021)   \n",
       "3  Powering Australia (ALP plan & program package...   \n",
       "4             Climate Change Act 2022 (Commonwealth)   \n",
       "6                      Rewiring the Nation (program)   \n",
       "7  Capacity Investment Scheme (CIS) — Federal rev...   \n",
       "5  Safeguard Mechanism reforms (reform package; c...   \n",
       "8  $1 billion solar manufacturing / local solar s...   \n",
       "\n",
       "               Short description (what it attempted)  \\\n",
       "0  National framework to kick-start a clean hydro...   \n",
       "9  A comprehensive update to the 2019 Hydrogen St...   \n",
       "1  Roadmap to prioritise and accelerate investmen...   \n",
       "2  Follow-up technology statement detailing prior...   \n",
       "3  Government-wide plan to accelerate renewables,...   \n",
       "4  Legislates emissions-reduction framework (gove...   \n",
       "6  Federal program to finance and accelerate majo...   \n",
       "7  Federal revenue-underwriting (contract/revenue...   \n",
       "5  Reformed the Safeguard Mechanism to require la...   \n",
       "8  Federal fund to support domestic solar panel (...   \n",
       "\n",
       "                 PM (party) at time introduced Date introduced / announced  \\\n",
       "0  Scott Morrison (Liberal/National Coalition)                  2019-11-22   \n",
       "9                     Anthony Albanese (Labor)                  2019-11-22   \n",
       "1                   Scott Morrison (Coalition)                  2020-05-21   \n",
       "2                   Scott Morrison (Coalition)                  2021-11-02   \n",
       "3                     Anthony Albanese (Labor)                  2021-12-03   \n",
       "4                     Anthony Albanese (Labor)                  2022-07-27   \n",
       "6                     Anthony Albanese (Labor)                  2022-10-19   \n",
       "7                     Anthony Albanese (Labor)                  2022-12-08   \n",
       "5                     Anthony Albanese (Labor)                  2023-03-30   \n",
       "8                     Anthony Albanese (Labor)                  2024-03-28   \n",
       "\n",
       "                              Policy type (one of 5)  \\\n",
       "0                                   R&D & Innovation   \n",
       "9                                   R&D & Innovation   \n",
       "1                                   R&D & Innovation   \n",
       "2                                   R&D & Innovation   \n",
       "3  Infrastructure & Investment (also Financial in...   \n",
       "4                           Regulatory / Legislative   \n",
       "6                        Infrastructure & Investment   \n",
       "7              Financial incentives & Market Support   \n",
       "5                           Regulatory / Legislative   \n",
       "8                     Trade / Industrial / Workforce   \n",
       "\n",
       "                               Subtype (within type)  \\\n",
       "0     National strategy / commercialization roadmap.   \n",
       "9  Strategy update / commercialization acceleration.   \n",
       "1  Technology investment roadmap / R&D prioritisa...   \n",
       "2  Low emissions technology statement / implement...   \n",
       "3    National clean-energy plan / funding & targets.   \n",
       "4    Climate law: targets, reporting and governance.   \n",
       "6    Transmission / grid investment funding program.   \n",
       "7  Revenue-underwriting / competitive tender (CfD...   \n",
       "5  Emissions regulation (facility baselines / com...   \n",
       "8  Manufacturing incentives / grants to develop d...   \n",
       "\n",
       "                                       Key source(s)  \n",
       "0  https://www.chiefscientist.gov.au/news-and-med...  \n",
       "9  https://www.dcceew.gov.au/energy/publications/...  \n",
       "1  https://www.dcceew.gov.au/climate-change/publi...  \n",
       "2  https://www.dcceew.gov.au/climate-change/publi...  \n",
       "3  https://www.dcceew.gov.au/energy/strategies-an...  \n",
       "4  https://www.legislation.gov.au/C2022A00037/lat...  \n",
       "6  https://www.dcceew.gov.au/energy/renewable/rew...  \n",
       "7  https://www.nortonrosefulbright.com/en-au/know...  \n",
       "5  https://www.dcceew.gov.au/sites/default/files/...  \n",
       "8  https://www.reuters.com/sustainability/sustain...  "
      ]
     },
     "execution_count": 5,
     "metadata": {},
     "output_type": "execute_result"
    }
   ],
   "source": [
    "governmental_policies = pd.read_csv('data/government_policies.csv')\n",
    "governmental_policies['Date introduced / announced'] = pd.to_datetime(governmental_policies['Date introduced / announced'], dayfirst = True)\n",
    "governmental_policies = governmental_policies.sort_values(by = 'Date introduced / announced')\n",
    "print(f'Governmental Policy Dtypes: \\n{governmental_policies.dtypes}')\n",
    "governmental_policies"
   ]
  },
  {
   "cell_type": "markdown",
   "id": "dcab3d8d",
   "metadata": {},
   "source": [
    "As the report utility functions require specific files, running the import here after to avoid errors"
   ]
  },
  {
   "cell_type": "code",
   "execution_count": 6,
   "id": "e85f7864",
   "metadata": {},
   "outputs": [],
   "source": [
    "from report_utils import *"
   ]
  },
  {
   "cell_type": "code",
   "execution_count": 7,
   "id": "48ff28f9",
   "metadata": {},
   "outputs": [
    {
     "data": {
      "text/html": [
       "<div>\n",
       "<style scoped>\n",
       "    .dataframe tbody tr th:only-of-type {\n",
       "        vertical-align: middle;\n",
       "    }\n",
       "\n",
       "    .dataframe tbody tr th {\n",
       "        vertical-align: top;\n",
       "    }\n",
       "\n",
       "    .dataframe thead th {\n",
       "        text-align: right;\n",
       "    }\n",
       "</style>\n",
       "<table border=\"1\" class=\"dataframe\">\n",
       "  <thead>\n",
       "    <tr style=\"text-align: right;\">\n",
       "      <th></th>\n",
       "      <th>I</th>\n",
       "      <th>PARTICIPANT_REGISTRATION</th>\n",
       "      <th>DUDETAILSUMMARY</th>\n",
       "      <th>7</th>\n",
       "      <th>DUID</th>\n",
       "      <th>START_DATE</th>\n",
       "      <th>END_DATE</th>\n",
       "      <th>DISPATCHTYPE</th>\n",
       "      <th>CONNECTIONPOINTID</th>\n",
       "      <th>REGIONID</th>\n",
       "      <th>...</th>\n",
       "      <th>IS_AGGREGATED</th>\n",
       "      <th>DISPATCHSUBTYPE</th>\n",
       "      <th>ADG_ID</th>\n",
       "      <th>LOAD_MINIMUM_ENERGY_PRICE</th>\n",
       "      <th>LOAD_MAXIMUM_ENERGY_PRICE</th>\n",
       "      <th>LOAD_MIN_RAMP_RATE_UP</th>\n",
       "      <th>LOAD_MIN_RAMP_RATE_DOWN</th>\n",
       "      <th>LOAD_MAX_RAMP_RATE_UP</th>\n",
       "      <th>LOAD_MAX_RAMP_RATE_DOWN</th>\n",
       "      <th>SECONDARY_TLF</th>\n",
       "    </tr>\n",
       "  </thead>\n",
       "  <tbody>\n",
       "    <tr>\n",
       "      <th>0</th>\n",
       "      <td>D</td>\n",
       "      <td>PARTICIPANT_REGISTRATION</td>\n",
       "      <td>DUDETAILSUMMARY</td>\n",
       "      <td>7.0</td>\n",
       "      <td>LK_ECHO</td>\n",
       "      <td>2019/10/10 00:00:00</td>\n",
       "      <td>2020/07/01 00:00:00</td>\n",
       "      <td>GENERATOR</td>\n",
       "      <td>TLE11</td>\n",
       "      <td>TAS1</td>\n",
       "      <td>...</td>\n",
       "      <td>0.0</td>\n",
       "      <td>NaN</td>\n",
       "      <td>NaN</td>\n",
       "      <td>NaN</td>\n",
       "      <td>NaN</td>\n",
       "      <td>NaN</td>\n",
       "      <td>NaN</td>\n",
       "      <td>NaN</td>\n",
       "      <td>NaN</td>\n",
       "      <td>NaN</td>\n",
       "    </tr>\n",
       "    <tr>\n",
       "      <th>1</th>\n",
       "      <td>D</td>\n",
       "      <td>PARTICIPANT_REGISTRATION</td>\n",
       "      <td>DUDETAILSUMMARY</td>\n",
       "      <td>7.0</td>\n",
       "      <td>LK_ECHO</td>\n",
       "      <td>2020/12/15 00:00:00</td>\n",
       "      <td>2021/07/01 00:00:00</td>\n",
       "      <td>GENERATOR</td>\n",
       "      <td>TLE11</td>\n",
       "      <td>TAS1</td>\n",
       "      <td>...</td>\n",
       "      <td>0.0</td>\n",
       "      <td>NaN</td>\n",
       "      <td>NaN</td>\n",
       "      <td>NaN</td>\n",
       "      <td>NaN</td>\n",
       "      <td>NaN</td>\n",
       "      <td>NaN</td>\n",
       "      <td>NaN</td>\n",
       "      <td>NaN</td>\n",
       "      <td>NaN</td>\n",
       "    </tr>\n",
       "    <tr>\n",
       "      <th>2</th>\n",
       "      <td>D</td>\n",
       "      <td>PARTICIPANT_REGISTRATION</td>\n",
       "      <td>DUDETAILSUMMARY</td>\n",
       "      <td>7.0</td>\n",
       "      <td>LK_ECHO</td>\n",
       "      <td>2024/06/04 00:00:00</td>\n",
       "      <td>2024/07/01 00:00:00</td>\n",
       "      <td>GENERATOR</td>\n",
       "      <td>TLE11</td>\n",
       "      <td>TAS1</td>\n",
       "      <td>...</td>\n",
       "      <td>0.0</td>\n",
       "      <td>NaN</td>\n",
       "      <td>NaN</td>\n",
       "      <td>NaN</td>\n",
       "      <td>NaN</td>\n",
       "      <td>NaN</td>\n",
       "      <td>NaN</td>\n",
       "      <td>NaN</td>\n",
       "      <td>NaN</td>\n",
       "      <td>NaN</td>\n",
       "    </tr>\n",
       "    <tr>\n",
       "      <th>3</th>\n",
       "      <td>D</td>\n",
       "      <td>PARTICIPANT_REGISTRATION</td>\n",
       "      <td>DUDETAILSUMMARY</td>\n",
       "      <td>7.0</td>\n",
       "      <td>LNGS1</td>\n",
       "      <td>2016/11/01 00:00:00</td>\n",
       "      <td>2017/07/01 00:00:00</td>\n",
       "      <td>GENERATOR</td>\n",
       "      <td>VAT21L</td>\n",
       "      <td>VIC1</td>\n",
       "      <td>...</td>\n",
       "      <td>0.0</td>\n",
       "      <td>NaN</td>\n",
       "      <td>NaN</td>\n",
       "      <td>NaN</td>\n",
       "      <td>NaN</td>\n",
       "      <td>NaN</td>\n",
       "      <td>NaN</td>\n",
       "      <td>NaN</td>\n",
       "      <td>NaN</td>\n",
       "      <td>NaN</td>\n",
       "    </tr>\n",
       "    <tr>\n",
       "      <th>4</th>\n",
       "      <td>D</td>\n",
       "      <td>PARTICIPANT_REGISTRATION</td>\n",
       "      <td>DUDETAILSUMMARY</td>\n",
       "      <td>7.0</td>\n",
       "      <td>LNGS1</td>\n",
       "      <td>2021/12/20 00:00:00</td>\n",
       "      <td>2022/07/01 00:00:00</td>\n",
       "      <td>GENERATOR</td>\n",
       "      <td>VAT21L</td>\n",
       "      <td>VIC1</td>\n",
       "      <td>...</td>\n",
       "      <td>0.0</td>\n",
       "      <td>NaN</td>\n",
       "      <td>NaN</td>\n",
       "      <td>NaN</td>\n",
       "      <td>NaN</td>\n",
       "      <td>NaN</td>\n",
       "      <td>NaN</td>\n",
       "      <td>NaN</td>\n",
       "      <td>NaN</td>\n",
       "      <td>NaN</td>\n",
       "    </tr>\n",
       "    <tr>\n",
       "      <th>...</th>\n",
       "      <td>...</td>\n",
       "      <td>...</td>\n",
       "      <td>...</td>\n",
       "      <td>...</td>\n",
       "      <td>...</td>\n",
       "      <td>...</td>\n",
       "      <td>...</td>\n",
       "      <td>...</td>\n",
       "      <td>...</td>\n",
       "      <td>...</td>\n",
       "      <td>...</td>\n",
       "      <td>...</td>\n",
       "      <td>...</td>\n",
       "      <td>...</td>\n",
       "      <td>...</td>\n",
       "      <td>...</td>\n",
       "      <td>...</td>\n",
       "      <td>...</td>\n",
       "      <td>...</td>\n",
       "      <td>...</td>\n",
       "      <td>...</td>\n",
       "    </tr>\n",
       "    <tr>\n",
       "      <th>22120</th>\n",
       "      <td>D</td>\n",
       "      <td>PARTICIPANT_REGISTRATION</td>\n",
       "      <td>DUDETAILSUMMARY</td>\n",
       "      <td>7.0</td>\n",
       "      <td>LRSF1</td>\n",
       "      <td>2025/07/22 00:00:00</td>\n",
       "      <td>2999/12/31 00:00:00</td>\n",
       "      <td>GENERATOR</td>\n",
       "      <td>QLLV2L</td>\n",
       "      <td>QLD1</td>\n",
       "      <td>...</td>\n",
       "      <td>NaN</td>\n",
       "      <td>NaN</td>\n",
       "      <td>NaN</td>\n",
       "      <td>NaN</td>\n",
       "      <td>NaN</td>\n",
       "      <td>NaN</td>\n",
       "      <td>NaN</td>\n",
       "      <td>NaN</td>\n",
       "      <td>NaN</td>\n",
       "      <td>NaN</td>\n",
       "    </tr>\n",
       "    <tr>\n",
       "      <th>22121</th>\n",
       "      <td>D</td>\n",
       "      <td>PARTICIPANT_REGISTRATION</td>\n",
       "      <td>DUDETAILSUMMARY</td>\n",
       "      <td>7.0</td>\n",
       "      <td>SHEP1</td>\n",
       "      <td>2025/07/22 00:00:00</td>\n",
       "      <td>2999/12/31 00:00:00</td>\n",
       "      <td>GENERATOR</td>\n",
       "      <td>VSHT2S</td>\n",
       "      <td>VIC1</td>\n",
       "      <td>...</td>\n",
       "      <td>NaN</td>\n",
       "      <td>NaN</td>\n",
       "      <td>NaN</td>\n",
       "      <td>NaN</td>\n",
       "      <td>NaN</td>\n",
       "      <td>NaN</td>\n",
       "      <td>NaN</td>\n",
       "      <td>NaN</td>\n",
       "      <td>NaN</td>\n",
       "      <td>NaN</td>\n",
       "    </tr>\n",
       "    <tr>\n",
       "      <th>22122</th>\n",
       "      <td>D</td>\n",
       "      <td>PARTICIPANT_REGISTRATION</td>\n",
       "      <td>DUDETAILSUMMARY</td>\n",
       "      <td>7.0</td>\n",
       "      <td>TATURA01</td>\n",
       "      <td>2025/07/22 00:00:00</td>\n",
       "      <td>2999/12/31 00:00:00</td>\n",
       "      <td>GENERATOR</td>\n",
       "      <td>VSHT1</td>\n",
       "      <td>VIC1</td>\n",
       "      <td>...</td>\n",
       "      <td>NaN</td>\n",
       "      <td>NaN</td>\n",
       "      <td>NaN</td>\n",
       "      <td>NaN</td>\n",
       "      <td>NaN</td>\n",
       "      <td>NaN</td>\n",
       "      <td>NaN</td>\n",
       "      <td>NaN</td>\n",
       "      <td>NaN</td>\n",
       "      <td>NaN</td>\n",
       "    </tr>\n",
       "    <tr>\n",
       "      <th>22123</th>\n",
       "      <td>D</td>\n",
       "      <td>PARTICIPANT_REGISTRATION</td>\n",
       "      <td>DUDETAILSUMMARY</td>\n",
       "      <td>7.0</td>\n",
       "      <td>VALDORA1</td>\n",
       "      <td>2025/07/22 00:00:00</td>\n",
       "      <td>2999/12/31 00:00:00</td>\n",
       "      <td>GENERATOR</td>\n",
       "      <td>QPWD1S</td>\n",
       "      <td>QLD1</td>\n",
       "      <td>...</td>\n",
       "      <td>NaN</td>\n",
       "      <td>NaN</td>\n",
       "      <td>NaN</td>\n",
       "      <td>NaN</td>\n",
       "      <td>NaN</td>\n",
       "      <td>NaN</td>\n",
       "      <td>NaN</td>\n",
       "      <td>NaN</td>\n",
       "      <td>NaN</td>\n",
       "      <td>NaN</td>\n",
       "    </tr>\n",
       "    <tr>\n",
       "      <th>22125</th>\n",
       "      <td>D</td>\n",
       "      <td>PARTICIPANT_REGISTRATION</td>\n",
       "      <td>DUDETAILSUMMARY</td>\n",
       "      <td>7.0</td>\n",
       "      <td>LIMOSF11</td>\n",
       "      <td>2025/07/29 00:00:00</td>\n",
       "      <td>2999/12/31 00:00:00</td>\n",
       "      <td>GENERATOR</td>\n",
       "      <td>NBSF1L</td>\n",
       "      <td>NSW1</td>\n",
       "      <td>...</td>\n",
       "      <td>0.0</td>\n",
       "      <td>NaN</td>\n",
       "      <td>NaN</td>\n",
       "      <td>NaN</td>\n",
       "      <td>NaN</td>\n",
       "      <td>NaN</td>\n",
       "      <td>NaN</td>\n",
       "      <td>NaN</td>\n",
       "      <td>NaN</td>\n",
       "      <td>NaN</td>\n",
       "    </tr>\n",
       "  </tbody>\n",
       "</table>\n",
       "<p>19795 rows × 33 columns</p>\n",
       "</div>"
      ],
      "text/plain": [
       "       I  PARTICIPANT_REGISTRATION  DUDETAILSUMMARY    7      DUID  \\\n",
       "0      D  PARTICIPANT_REGISTRATION  DUDETAILSUMMARY  7.0   LK_ECHO   \n",
       "1      D  PARTICIPANT_REGISTRATION  DUDETAILSUMMARY  7.0   LK_ECHO   \n",
       "2      D  PARTICIPANT_REGISTRATION  DUDETAILSUMMARY  7.0   LK_ECHO   \n",
       "3      D  PARTICIPANT_REGISTRATION  DUDETAILSUMMARY  7.0     LNGS1   \n",
       "4      D  PARTICIPANT_REGISTRATION  DUDETAILSUMMARY  7.0     LNGS1   \n",
       "...   ..                       ...              ...  ...       ...   \n",
       "22120  D  PARTICIPANT_REGISTRATION  DUDETAILSUMMARY  7.0     LRSF1   \n",
       "22121  D  PARTICIPANT_REGISTRATION  DUDETAILSUMMARY  7.0     SHEP1   \n",
       "22122  D  PARTICIPANT_REGISTRATION  DUDETAILSUMMARY  7.0  TATURA01   \n",
       "22123  D  PARTICIPANT_REGISTRATION  DUDETAILSUMMARY  7.0  VALDORA1   \n",
       "22125  D  PARTICIPANT_REGISTRATION  DUDETAILSUMMARY  7.0  LIMOSF11   \n",
       "\n",
       "                START_DATE             END_DATE DISPATCHTYPE  \\\n",
       "0      2019/10/10 00:00:00  2020/07/01 00:00:00    GENERATOR   \n",
       "1      2020/12/15 00:00:00  2021/07/01 00:00:00    GENERATOR   \n",
       "2      2024/06/04 00:00:00  2024/07/01 00:00:00    GENERATOR   \n",
       "3      2016/11/01 00:00:00  2017/07/01 00:00:00    GENERATOR   \n",
       "4      2021/12/20 00:00:00  2022/07/01 00:00:00    GENERATOR   \n",
       "...                    ...                  ...          ...   \n",
       "22120  2025/07/22 00:00:00  2999/12/31 00:00:00    GENERATOR   \n",
       "22121  2025/07/22 00:00:00  2999/12/31 00:00:00    GENERATOR   \n",
       "22122  2025/07/22 00:00:00  2999/12/31 00:00:00    GENERATOR   \n",
       "22123  2025/07/22 00:00:00  2999/12/31 00:00:00    GENERATOR   \n",
       "22125  2025/07/29 00:00:00  2999/12/31 00:00:00    GENERATOR   \n",
       "\n",
       "      CONNECTIONPOINTID REGIONID  ... IS_AGGREGATED DISPATCHSUBTYPE ADG_ID  \\\n",
       "0                 TLE11     TAS1  ...           0.0             NaN    NaN   \n",
       "1                 TLE11     TAS1  ...           0.0             NaN    NaN   \n",
       "2                 TLE11     TAS1  ...           0.0             NaN    NaN   \n",
       "3                VAT21L     VIC1  ...           0.0             NaN    NaN   \n",
       "4                VAT21L     VIC1  ...           0.0             NaN    NaN   \n",
       "...                 ...      ...  ...           ...             ...    ...   \n",
       "22120            QLLV2L     QLD1  ...           NaN             NaN    NaN   \n",
       "22121            VSHT2S     VIC1  ...           NaN             NaN    NaN   \n",
       "22122             VSHT1     VIC1  ...           NaN             NaN    NaN   \n",
       "22123            QPWD1S     QLD1  ...           NaN             NaN    NaN   \n",
       "22125            NBSF1L     NSW1  ...           0.0             NaN    NaN   \n",
       "\n",
       "       LOAD_MINIMUM_ENERGY_PRICE LOAD_MAXIMUM_ENERGY_PRICE  \\\n",
       "0                            NaN                       NaN   \n",
       "1                            NaN                       NaN   \n",
       "2                            NaN                       NaN   \n",
       "3                            NaN                       NaN   \n",
       "4                            NaN                       NaN   \n",
       "...                          ...                       ...   \n",
       "22120                        NaN                       NaN   \n",
       "22121                        NaN                       NaN   \n",
       "22122                        NaN                       NaN   \n",
       "22123                        NaN                       NaN   \n",
       "22125                        NaN                       NaN   \n",
       "\n",
       "       LOAD_MIN_RAMP_RATE_UP  LOAD_MIN_RAMP_RATE_DOWN  LOAD_MAX_RAMP_RATE_UP  \\\n",
       "0                        NaN                      NaN                    NaN   \n",
       "1                        NaN                      NaN                    NaN   \n",
       "2                        NaN                      NaN                    NaN   \n",
       "3                        NaN                      NaN                    NaN   \n",
       "4                        NaN                      NaN                    NaN   \n",
       "...                      ...                      ...                    ...   \n",
       "22120                    NaN                      NaN                    NaN   \n",
       "22121                    NaN                      NaN                    NaN   \n",
       "22122                    NaN                      NaN                    NaN   \n",
       "22123                    NaN                      NaN                    NaN   \n",
       "22125                    NaN                      NaN                    NaN   \n",
       "\n",
       "      LOAD_MAX_RAMP_RATE_DOWN  SECONDARY_TLF  \n",
       "0                         NaN            NaN  \n",
       "1                         NaN            NaN  \n",
       "2                         NaN            NaN  \n",
       "3                         NaN            NaN  \n",
       "4                         NaN            NaN  \n",
       "...                       ...            ...  \n",
       "22120                     NaN            NaN  \n",
       "22121                     NaN            NaN  \n",
       "22122                     NaN            NaN  \n",
       "22123                     NaN            NaN  \n",
       "22125                     NaN            NaN  \n",
       "\n",
       "[19795 rows x 33 columns]"
      ]
     },
     "execution_count": 7,
     "metadata": {},
     "output_type": "execute_result"
    }
   ],
   "source": [
    "dudetail_data = pd.read_csv('data/fuel_mix/PUBLIC_ARCHIVE#DUDETAILSUMMARY#FILE01#202507010000.CSV', header = 1)\n",
    "dudetail_generator_data = dudetail_data[dudetail_data['DISPATCHTYPE'] == 'GENERATOR']\n",
    "dudetail_generator_data"
   ]
  },
  {
   "cell_type": "markdown",
   "id": "49092917",
   "metadata": {},
   "source": [
    "The workflow:\n",
    "- Get inside the directory (public/archived)\n",
    "- Read each file\n",
    "Within each file:\n",
    "- Format File into a monthly `strftime`\n",
    "- Merge with the `duid_regions` - to get the region for each generator\n",
    "- Split the data into each region as a separate dataframe"
   ]
  },
  {
   "cell_type": "code",
   "execution_count": 8,
   "id": "d3aa910c",
   "metadata": {},
   "outputs": [],
   "source": [
    "public_fuel_dir = os.path.join(current_dir, 'data', 'fuel_mix', 'public')\n",
    "archived_fuel_dir = os.path.join(current_dir, 'data', 'fuel_mix', 'archived')\n",
    "\n",
    "public_price_dir = os.path.join(current_dir, 'data', 'price', 'public')\n",
    "archived_price_dir = os.path.join(current_dir, 'data', 'price', 'archived')"
   ]
  },
  {
   "cell_type": "code",
   "execution_count": null,
   "id": "171f9696",
   "metadata": {},
   "outputs": [
    {
     "name": "stdout",
     "output_type": "stream",
     "text": [
      "Inside directory:  /Users/aidanlockwood/GitHub/IFN695-Codebase/data/fuel_mix/public\n"
     ]
    },
    {
     "data": {
      "application/vnd.jupyter.widget-view+json": {
       "model_id": "8ffef2e4455c440886641fde6eb24ef1",
       "version_major": 2,
       "version_minor": 0
      },
      "text/plain": [
       "Processing files in /Users/aidanlockwood/GitHub/IFN695-Codebase/data/fuel_mix/public:   0%|          | 0/79 [0…"
      ]
     },
     "metadata": {},
     "output_type": "display_data"
    }
   ],
   "source": [
    "nsw_data, qld_data, sa_data, tas_data, vic_data = populate_state_level_datasets([public_fuel_dir, archived_fuel_dir])"
   ]
  },
  {
   "cell_type": "markdown",
   "id": "47acfdbb",
   "metadata": {},
   "source": [
    "## Loading in the Generator Information to Connect the DUIDs to Fuel Mix \n"
   ]
  },
  {
   "cell_type": "code",
   "execution_count": null,
   "id": "fcfae530",
   "metadata": {},
   "outputs": [],
   "source": [
    "generator_information = pd.read_excel('data/NEM Generation Information July 2025.xlsx', sheet_name = 'ExistingGeneration&NewDevs', header = 1).dropna(subset = ['DUID'])\n",
    "\n",
    "qld_generators = generator_information[generator_information['Region'] == 'QLD1']\n",
    "nsw_generators = generator_information[generator_information['Region'] == 'NSW1']\n",
    "vic_generators = generator_information[generator_information['Region'] == 'VIC1']\n",
    "tas_generators = generator_information[generator_information['Region'] == 'TAS1']\n",
    "sa_generators = generator_information[generator_information['Region'] == 'SA1']\n",
    "\n",
    "state_generators = [nsw_generators, qld_generators, sa_generators, tas_generators, vic_generators]"
   ]
  },
  {
   "cell_type": "markdown",
   "id": "7c1333ef",
   "metadata": {},
   "source": [
    "Mapping the Generator Data to a DUID to allow for the Fuel Types to be Associated to the Dispatch Data"
   ]
  },
  {
   "cell_type": "code",
   "execution_count": null,
   "id": "a362b86a",
   "metadata": {},
   "outputs": [],
   "source": [
    "nem_datasets = [nsw_data, qld_data, sa_data, tas_data, vic_data]\n",
    "\n",
    "for dataset in state_generators:\n",
    "    dataset.reset_index(drop = False, inplace = True)\n",
    "\n",
    "for i, dataset in enumerate(state_generators):\n",
    "    state_generator_duids = dataset.set_index('DUID', inplace = True)\n",
    "\n",
    "    state_duid_fuel_types = dataset['Fuel Type'].dropna().to_dict()\n",
    "    nem_datasets[i]['Fuel Type'] = nem_datasets[i]['DUID'].map(state_duid_fuel_types)\n"
   ]
  },
  {
   "cell_type": "code",
   "execution_count": null,
   "id": "48c9f260",
   "metadata": {},
   "outputs": [],
   "source": [
    "qld_generator_duids = qld_generators.reset_index(drop = False, inplace = True)\n",
    "qld_generator_duids = qld_generators.set_index('DUID', inplace = True)\n",
    "qld_duid_fuel_types = qld_generators['Fuel Type'].dropna().to_dict()\n",
    "qld_data['Fuel Type'] = qld_data['DUID'].map(qld_duid_fuel_types)"
   ]
  },
  {
   "cell_type": "code",
   "execution_count": null,
   "id": "2feb1056",
   "metadata": {},
   "outputs": [],
   "source": [
    "for dataset in nem_datasets:\n",
    "    dataset.reset_index(drop = False, inplace = True)"
   ]
  },
  {
   "cell_type": "code",
   "execution_count": null,
   "id": "61112b44",
   "metadata": {},
   "outputs": [],
   "source": [
    "qld_data.reset_index(drop = False, inplace = True)"
   ]
  },
  {
   "cell_type": "code",
   "execution_count": null,
   "id": "6d5687ab",
   "metadata": {},
   "outputs": [],
   "source": [
    "qld_data = qld_data.drop(columns = 'index')"
   ]
  },
  {
   "cell_type": "code",
   "execution_count": null,
   "id": "856dac52",
   "metadata": {},
   "outputs": [],
   "source": [
    "qld_data = qld_data[qld_data['MONTH'] != '2025-08']\n",
    "nsw_data = nsw_data[nsw_data['MONTH'] != '2025-08']\n",
    "sa_data = sa_data[sa_data['MONTH'] != '2025-08']  \n",
    "tas_data = tas_data[tas_data['MONTH'] != '2025-08']\n",
    "vic_data = vic_data[vic_data['MONTH'] != '2025-08']"
   ]
  },
  {
   "cell_type": "code",
   "execution_count": null,
   "id": "1d7e8d8c",
   "metadata": {},
   "outputs": [
    {
     "name": "stderr",
     "output_type": "stream",
     "text": [
      "/var/folders/4l/30byfd8j3g3gqyynb1s_b35m0000gn/T/ipykernel_41855/2741488734.py:2: SettingWithCopyWarning: \n",
      "A value is trying to be set on a copy of a slice from a DataFrame\n",
      "\n",
      "See the caveats in the documentation: https://pandas.pydata.org/pandas-docs/stable/user_guide/indexing.html#returning-a-view-versus-a-copy\n",
      "  nsw_data.drop(columns = 'index', inplace = True)\n",
      "/var/folders/4l/30byfd8j3g3gqyynb1s_b35m0000gn/T/ipykernel_41855/2741488734.py:3: SettingWithCopyWarning: \n",
      "A value is trying to be set on a copy of a slice from a DataFrame\n",
      "\n",
      "See the caveats in the documentation: https://pandas.pydata.org/pandas-docs/stable/user_guide/indexing.html#returning-a-view-versus-a-copy\n",
      "  sa_data.drop(columns = 'index', inplace = True)\n",
      "/var/folders/4l/30byfd8j3g3gqyynb1s_b35m0000gn/T/ipykernel_41855/2741488734.py:4: SettingWithCopyWarning: \n",
      "A value is trying to be set on a copy of a slice from a DataFrame\n",
      "\n",
      "See the caveats in the documentation: https://pandas.pydata.org/pandas-docs/stable/user_guide/indexing.html#returning-a-view-versus-a-copy\n",
      "  tas_data.drop(columns = 'index', inplace = True)\n",
      "/var/folders/4l/30byfd8j3g3gqyynb1s_b35m0000gn/T/ipykernel_41855/2741488734.py:5: SettingWithCopyWarning: \n",
      "A value is trying to be set on a copy of a slice from a DataFrame\n",
      "\n",
      "See the caveats in the documentation: https://pandas.pydata.org/pandas-docs/stable/user_guide/indexing.html#returning-a-view-versus-a-copy\n",
      "  vic_data.drop(columns = 'index', inplace = True)\n"
     ]
    }
   ],
   "source": [
    "qld_data.drop(columns = 'level_0', inplace = True)\n",
    "nsw_data.drop(columns = 'index', inplace = True)\n",
    "sa_data.drop(columns = 'index', inplace = True)\n",
    "tas_data.drop(columns = 'index', inplace = True)\n",
    "vic_data.drop(columns = 'index', inplace = True)"
   ]
  },
  {
   "cell_type": "code",
   "execution_count": null,
   "id": "033a1ede",
   "metadata": {},
   "outputs": [],
   "source": [
    "nsw_data.columns = ['SETTLEMENTDATE',  'DUID', 'SCADAVALUE', 'MONTH', 'REGIONID', 'Fuel Type']\n",
    "sa_data.columns = ['SETTLEMENTDATE', 'DUID', 'SCADAVALUE', 'MONTH', 'REGIONID', 'Fuel Type']\n",
    "tas_data.columns = ['SETTLEMENTDATE', 'DUID', 'SCADAVALUE', 'MONTH', 'REGIONID', 'Fuel Type']\n",
    "qld_data.columns = ['SETTLEMENTDATE', 'DUID', 'SCADAVALUE', 'MONTH', 'REGIONID', 'Fuel Type']\n",
    "vic_data.columns = ['SETTLEMENTDATE', 'DUID', 'SCADAVALUE', 'MONTH', 'REGIONID', 'Fuel Type']"
   ]
  },
  {
   "cell_type": "code",
   "execution_count": null,
   "id": "a88cfc49",
   "metadata": {},
   "outputs": [],
   "source": [
    "qld_fuel_generation_agg = qld_data.groupby(['MONTH', 'Fuel Type'])['SCADAVALUE'].sum().reset_index()\n",
    "nsw_fuel_generation_agg = nsw_data.groupby(['MONTH', 'Fuel Type'])['SCADAVALUE'].sum().reset_index()\n",
    "sa_fuel_generation_agg = sa_data.groupby(['MONTH', 'Fuel Type'])['SCADAVALUE'].sum().reset_index()\n",
    "tas_fuel_generation_agg = tas_data.groupby(['MONTH', 'Fuel Type'])['SCADAVALUE'].sum().reset_index()\n",
    "vic_fuel_generation_agg = vic_data.groupby(['MONTH', 'Fuel Type'])['SCADAVALUE'].sum().reset_index()\n"
   ]
  },
  {
   "cell_type": "markdown",
   "id": "c52d1445",
   "metadata": {},
   "source": [
    "Removing the \"Other\" Fuel Type from the dataset. Not meaningful"
   ]
  },
  {
   "cell_type": "code",
   "execution_count": null,
   "id": "412d694f",
   "metadata": {},
   "outputs": [],
   "source": [
    "qld_fuel_generation_agg = qld_fuel_generation_agg[qld_fuel_generation_agg['Fuel Type'] != 'Other - Other']\n",
    "nsw_fuel_generation_agg = nsw_fuel_generation_agg[nsw_fuel_generation_agg['Fuel Type'] != 'Other - Other']\n",
    "vic_fuel_generation_agg = vic_fuel_generation_agg[vic_fuel_generation_agg['Fuel Type'] != 'Other - Other']\n",
    "sa_fuel_generation_agg = sa_fuel_generation_agg[sa_fuel_generation_agg['Fuel Type'] != 'Other - Other']"
   ]
  },
  {
   "cell_type": "markdown",
   "id": "9938d41b",
   "metadata": {},
   "source": [
    "Due to an issue when visualising the above datasets, now need to convert the months back to datetime"
   ]
  },
  {
   "cell_type": "code",
   "execution_count": null,
   "id": "83625c8b",
   "metadata": {},
   "outputs": [],
   "source": [
    "qld_fuel_generation_agg['MONTH'] = qld_fuel_generation_agg['MONTH'].dt.to_timestamp()\n",
    "nsw_fuel_generation_agg['MONTH'] = nsw_fuel_generation_agg['MONTH'].dt.to_timestamp()\n",
    "sa_fuel_generation_agg['MONTH'] = sa_fuel_generation_agg['MONTH'].dt.to_timestamp()\n",
    "tas_fuel_generation_agg['MONTH'] = tas_fuel_generation_agg['MONTH'].dt.to_timestamp()\n",
    "vic_fuel_generation_agg['MONTH'] = vic_fuel_generation_agg['MONTH'].dt.to_timestamp()"
   ]
  },
  {
   "cell_type": "code",
   "execution_count": null,
   "id": "83cd9843",
   "metadata": {},
   "outputs": [],
   "source": [
    "qld_fuel_generation_agg['MONTH'] = qld_fuel_generation_agg['MONTH'].dt.strftime('%m-%Y')\n",
    "nsw_fuel_generation_agg['MONTH'] = nsw_fuel_generation_agg['MONTH'].dt.strftime('%m-%Y')\n",
    "sa_fuel_generation_agg['MONTH'] = sa_fuel_generation_agg['MONTH'].dt.strftime('%m-%Y')\n",
    "tas_fuel_generation_agg['MONTH'] = tas_fuel_generation_agg['MONTH'].dt.strftime('%m-%Y')\n",
    "vic_fuel_generation_agg['MONTH'] = vic_fuel_generation_agg['MONTH'].dt.strftime('%m-%Y')"
   ]
  },
  {
   "cell_type": "markdown",
   "id": "f6721f6a",
   "metadata": {},
   "source": [
    "There is an 'Other' value for Fuel Type. Going to remove that for easier analysis"
   ]
  },
  {
   "cell_type": "code",
   "execution_count": null,
   "id": "cb357235",
   "metadata": {},
   "outputs": [
    {
     "data": {
      "text/html": [
       "<div>\n",
       "<style scoped>\n",
       "    .dataframe tbody tr th:only-of-type {\n",
       "        vertical-align: middle;\n",
       "    }\n",
       "\n",
       "    .dataframe tbody tr th {\n",
       "        vertical-align: top;\n",
       "    }\n",
       "\n",
       "    .dataframe thead th {\n",
       "        text-align: right;\n",
       "    }\n",
       "</style>\n",
       "<table border=\"1\" class=\"dataframe\">\n",
       "  <thead>\n",
       "    <tr style=\"text-align: right;\">\n",
       "      <th></th>\n",
       "      <th>DateTime</th>\n",
       "      <th>Max/Min</th>\n",
       "      <th>State</th>\n",
       "      <th>Fuel Type</th>\n",
       "      <th>Supply</th>\n",
       "    </tr>\n",
       "  </thead>\n",
       "  <tbody>\n",
       "    <tr>\n",
       "      <th>0</th>\n",
       "      <td>2/1/2018 4:00</td>\n",
       "      <td>Min</td>\n",
       "      <td>NEM</td>\n",
       "      <td>Battery</td>\n",
       "      <td>0.000</td>\n",
       "    </tr>\n",
       "    <tr>\n",
       "      <th>1</th>\n",
       "      <td>2/1/2018 4:00</td>\n",
       "      <td>Min</td>\n",
       "      <td>NEM</td>\n",
       "      <td>Biomass</td>\n",
       "      <td>10.233</td>\n",
       "    </tr>\n",
       "    <tr>\n",
       "      <th>2</th>\n",
       "      <td>2/1/2018 4:00</td>\n",
       "      <td>Min</td>\n",
       "      <td>NEM</td>\n",
       "      <td>Black coal</td>\n",
       "      <td>10655.808</td>\n",
       "    </tr>\n",
       "    <tr>\n",
       "      <th>3</th>\n",
       "      <td>2/1/2018 4:00</td>\n",
       "      <td>Min</td>\n",
       "      <td>NEM</td>\n",
       "      <td>Brown coal</td>\n",
       "      <td>4655.597</td>\n",
       "    </tr>\n",
       "    <tr>\n",
       "      <th>4</th>\n",
       "      <td>2/1/2018 4:00</td>\n",
       "      <td>Min</td>\n",
       "      <td>NEM</td>\n",
       "      <td>Distributed PV</td>\n",
       "      <td>0.000</td>\n",
       "    </tr>\n",
       "    <tr>\n",
       "      <th>...</th>\n",
       "      <td>...</td>\n",
       "      <td>...</td>\n",
       "      <td>...</td>\n",
       "      <td>...</td>\n",
       "      <td>...</td>\n",
       "    </tr>\n",
       "    <tr>\n",
       "      <th>1858</th>\n",
       "      <td>3/8/2025 11:30</td>\n",
       "      <td>Max</td>\n",
       "      <td>NEM</td>\n",
       "      <td>Gas</td>\n",
       "      <td>258.971</td>\n",
       "    </tr>\n",
       "    <tr>\n",
       "      <th>1859</th>\n",
       "      <td>3/8/2025 11:30</td>\n",
       "      <td>Max</td>\n",
       "      <td>NEM</td>\n",
       "      <td>Hydro</td>\n",
       "      <td>586.385</td>\n",
       "    </tr>\n",
       "    <tr>\n",
       "      <th>1860</th>\n",
       "      <td>3/8/2025 11:30</td>\n",
       "      <td>Max</td>\n",
       "      <td>NEM</td>\n",
       "      <td>Liquid Fuel</td>\n",
       "      <td>0.000</td>\n",
       "    </tr>\n",
       "    <tr>\n",
       "      <th>1861</th>\n",
       "      <td>3/8/2025 11:30</td>\n",
       "      <td>Max</td>\n",
       "      <td>NEM</td>\n",
       "      <td>Utility-scale Solar</td>\n",
       "      <td>5725.921</td>\n",
       "    </tr>\n",
       "    <tr>\n",
       "      <th>1862</th>\n",
       "      <td>3/8/2025 11:30</td>\n",
       "      <td>Max</td>\n",
       "      <td>NEM</td>\n",
       "      <td>Wind</td>\n",
       "      <td>3892.326</td>\n",
       "    </tr>\n",
       "  </tbody>\n",
       "</table>\n",
       "<p>1840 rows × 5 columns</p>\n",
       "</div>"
      ],
      "text/plain": [
       "            DateTime Max/Min State            Fuel Type     Supply\n",
       "0      2/1/2018 4:00     Min   NEM              Battery      0.000\n",
       "1      2/1/2018 4:00     Min   NEM              Biomass     10.233\n",
       "2      2/1/2018 4:00     Min   NEM           Black coal  10655.808\n",
       "3      2/1/2018 4:00     Min   NEM           Brown coal   4655.597\n",
       "4      2/1/2018 4:00     Min   NEM       Distributed PV      0.000\n",
       "...              ...     ...   ...                  ...        ...\n",
       "1858  3/8/2025 11:30     Max   NEM                  Gas    258.971\n",
       "1859  3/8/2025 11:30     Max   NEM                Hydro    586.385\n",
       "1860  3/8/2025 11:30     Max   NEM          Liquid Fuel      0.000\n",
       "1861  3/8/2025 11:30     Max   NEM  Utility-scale Solar   5725.921\n",
       "1862  3/8/2025 11:30     Max   NEM                 Wind   3892.326\n",
       "\n",
       "[1840 rows x 5 columns]"
      ]
     },
     "execution_count": 22,
     "metadata": {},
     "output_type": "execute_result"
    }
   ],
   "source": [
    "renewable_penetration = renewable_penetration[renewable_penetration['Fuel Type'] != 'Other']\n",
    "renewable_penetration"
   ]
  },
  {
   "cell_type": "markdown",
   "id": "64cb11f8",
   "metadata": {},
   "source": [
    "The Supply column is the only column that has the correct format. Going to change the:\n",
    "- DateTime to a Date Object - as this will be a monthly average, min and max \n",
    "- FuelType to a category \n",
    "- Max/Min transposed into their own variables with a calculated monthly average"
   ]
  },
  {
   "cell_type": "markdown",
   "id": "cf8d1d9f",
   "metadata": {},
   "source": [
    "Converting the Date Column"
   ]
  },
  {
   "cell_type": "code",
   "execution_count": null,
   "id": "a42a54f3",
   "metadata": {},
   "outputs": [
    {
     "name": "stderr",
     "output_type": "stream",
     "text": [
      "/var/folders/4l/30byfd8j3g3gqyynb1s_b35m0000gn/T/ipykernel_41855/426761549.py:2: SettingWithCopyWarning: \n",
      "A value is trying to be set on a copy of a slice from a DataFrame.\n",
      "Try using .loc[row_indexer,col_indexer] = value instead\n",
      "\n",
      "See the caveats in the documentation: https://pandas.pydata.org/pandas-docs/stable/user_guide/indexing.html#returning-a-view-versus-a-copy\n",
      "  renewable_penetration['DateTime'] = pd.to_datetime(renewable_penetration['DateTime'], format='mixed', dayfirst=True)\n",
      "/var/folders/4l/30byfd8j3g3gqyynb1s_b35m0000gn/T/ipykernel_41855/426761549.py:3: SettingWithCopyWarning: \n",
      "A value is trying to be set on a copy of a slice from a DataFrame.\n",
      "Try using .loc[row_indexer,col_indexer] = value instead\n",
      "\n",
      "See the caveats in the documentation: https://pandas.pydata.org/pandas-docs/stable/user_guide/indexing.html#returning-a-view-versus-a-copy\n",
      "  renewable_penetration['DateTime'] = renewable_penetration['DateTime'].dt.strftime('%Y-%m')\n"
     ]
    }
   ],
   "source": [
    "# Converting the DateTime column\n",
    "renewable_penetration['DateTime'] = pd.to_datetime(renewable_penetration['DateTime'], format='mixed', dayfirst=True)\n",
    "renewable_penetration['DateTime'] = renewable_penetration['DateTime'].dt.strftime('%Y-%m')"
   ]
  },
  {
   "cell_type": "markdown",
   "id": "95ba4adf",
   "metadata": {},
   "source": [
    "### Creating the Groupby's to Calculate the Min, Max and Mean Supply Amounts"
   ]
  },
  {
   "cell_type": "code",
   "execution_count": null,
   "id": "6e0052c8",
   "metadata": {},
   "outputs": [],
   "source": [
    "mean_supply = renewable_penetration.groupby(['Fuel Type', 'DateTime'])['Supply'].mean().reset_index()\n",
    "min_supply = renewable_penetration.groupby(['Fuel Type', 'DateTime'])['Supply'].min().reset_index()['Supply']\n",
    "max_supply = renewable_penetration.groupby(['Fuel Type', 'DateTime'])['Supply'].max().reset_index()['Supply']\n",
    "\n",
    "# Adding the min and max supplies to the mean supply groupby\n",
    "mean_supply['Min Supply (MW)'] = min_supply\n",
    "mean_supply['Max Supply (MW)'] = max_supply"
   ]
  },
  {
   "cell_type": "code",
   "execution_count": null,
   "id": "c5341835",
   "metadata": {},
   "outputs": [
    {
     "data": {
      "text/html": [
       "<div>\n",
       "<style scoped>\n",
       "    .dataframe tbody tr th:only-of-type {\n",
       "        vertical-align: middle;\n",
       "    }\n",
       "\n",
       "    .dataframe tbody tr th {\n",
       "        vertical-align: top;\n",
       "    }\n",
       "\n",
       "    .dataframe thead th {\n",
       "        text-align: right;\n",
       "    }\n",
       "</style>\n",
       "<table border=\"1\" class=\"dataframe\">\n",
       "  <thead>\n",
       "    <tr style=\"text-align: right;\">\n",
       "      <th></th>\n",
       "      <th>Fuel Type</th>\n",
       "      <th>Month</th>\n",
       "      <th>Mean Supply (MW)</th>\n",
       "      <th>Min Supply (MW)</th>\n",
       "      <th>Max Supply (MW)</th>\n",
       "    </tr>\n",
       "  </thead>\n",
       "  <tbody>\n",
       "    <tr>\n",
       "      <th>0</th>\n",
       "      <td>Battery</td>\n",
       "      <td>2018-01</td>\n",
       "      <td>0.2830</td>\n",
       "      <td>0.000</td>\n",
       "      <td>0.566</td>\n",
       "    </tr>\n",
       "    <tr>\n",
       "      <th>1</th>\n",
       "      <td>Battery</td>\n",
       "      <td>2018-02</td>\n",
       "      <td>0.6665</td>\n",
       "      <td>0.000</td>\n",
       "      <td>1.333</td>\n",
       "    </tr>\n",
       "    <tr>\n",
       "      <th>2</th>\n",
       "      <td>Battery</td>\n",
       "      <td>2018-03</td>\n",
       "      <td>2.8665</td>\n",
       "      <td>0.000</td>\n",
       "      <td>5.733</td>\n",
       "    </tr>\n",
       "    <tr>\n",
       "      <th>3</th>\n",
       "      <td>Battery</td>\n",
       "      <td>2018-04</td>\n",
       "      <td>4.8250</td>\n",
       "      <td>0.000</td>\n",
       "      <td>9.650</td>\n",
       "    </tr>\n",
       "    <tr>\n",
       "      <th>4</th>\n",
       "      <td>Battery</td>\n",
       "      <td>2018-05</td>\n",
       "      <td>3.0330</td>\n",
       "      <td>2.550</td>\n",
       "      <td>3.516</td>\n",
       "    </tr>\n",
       "    <tr>\n",
       "      <th>...</th>\n",
       "      <td>...</td>\n",
       "      <td>...</td>\n",
       "      <td>...</td>\n",
       "      <td>...</td>\n",
       "      <td>...</td>\n",
       "    </tr>\n",
       "    <tr>\n",
       "      <th>915</th>\n",
       "      <td>Wind</td>\n",
       "      <td>2025-04</td>\n",
       "      <td>2027.1265</td>\n",
       "      <td>1279.964</td>\n",
       "      <td>2774.289</td>\n",
       "    </tr>\n",
       "    <tr>\n",
       "      <th>916</th>\n",
       "      <td>Wind</td>\n",
       "      <td>2025-05</td>\n",
       "      <td>3007.9465</td>\n",
       "      <td>1232.864</td>\n",
       "      <td>4783.029</td>\n",
       "    </tr>\n",
       "    <tr>\n",
       "      <th>917</th>\n",
       "      <td>Wind</td>\n",
       "      <td>2025-06</td>\n",
       "      <td>3260.6030</td>\n",
       "      <td>1857.128</td>\n",
       "      <td>4664.078</td>\n",
       "    </tr>\n",
       "    <tr>\n",
       "      <th>918</th>\n",
       "      <td>Wind</td>\n",
       "      <td>2025-07</td>\n",
       "      <td>3395.3705</td>\n",
       "      <td>1422.093</td>\n",
       "      <td>5368.648</td>\n",
       "    </tr>\n",
       "    <tr>\n",
       "      <th>919</th>\n",
       "      <td>Wind</td>\n",
       "      <td>2025-08</td>\n",
       "      <td>2936.4945</td>\n",
       "      <td>1980.663</td>\n",
       "      <td>3892.326</td>\n",
       "    </tr>\n",
       "  </tbody>\n",
       "</table>\n",
       "<p>920 rows × 5 columns</p>\n",
       "</div>"
      ],
      "text/plain": [
       "    Fuel Type    Month  Mean Supply (MW)  Min Supply (MW)  Max Supply (MW)\n",
       "0     Battery  2018-01            0.2830            0.000            0.566\n",
       "1     Battery  2018-02            0.6665            0.000            1.333\n",
       "2     Battery  2018-03            2.8665            0.000            5.733\n",
       "3     Battery  2018-04            4.8250            0.000            9.650\n",
       "4     Battery  2018-05            3.0330            2.550            3.516\n",
       "..        ...      ...               ...              ...              ...\n",
       "915      Wind  2025-04         2027.1265         1279.964         2774.289\n",
       "916      Wind  2025-05         3007.9465         1232.864         4783.029\n",
       "917      Wind  2025-06         3260.6030         1857.128         4664.078\n",
       "918      Wind  2025-07         3395.3705         1422.093         5368.648\n",
       "919      Wind  2025-08         2936.4945         1980.663         3892.326\n",
       "\n",
       "[920 rows x 5 columns]"
      ]
     },
     "execution_count": 25,
     "metadata": {},
     "output_type": "execute_result"
    }
   ],
   "source": [
    "mean_supply.columns = ['Fuel Type', 'Month', 'Mean Supply (MW)', 'Min Supply (MW)', 'Max Supply (MW)']\n",
    "mean_supply"
   ]
  },
  {
   "cell_type": "markdown",
   "id": "2e143344",
   "metadata": {},
   "source": [
    "Generating the new dataframe with the supplies, sorted by months"
   ]
  },
  {
   "cell_type": "code",
   "execution_count": null,
   "id": "84d37a9f",
   "metadata": {},
   "outputs": [
    {
     "data": {
      "text/html": [
       "<div>\n",
       "<style scoped>\n",
       "    .dataframe tbody tr th:only-of-type {\n",
       "        vertical-align: middle;\n",
       "    }\n",
       "\n",
       "    .dataframe tbody tr th {\n",
       "        vertical-align: top;\n",
       "    }\n",
       "\n",
       "    .dataframe thead th {\n",
       "        text-align: right;\n",
       "    }\n",
       "</style>\n",
       "<table border=\"1\" class=\"dataframe\">\n",
       "  <thead>\n",
       "    <tr style=\"text-align: right;\">\n",
       "      <th></th>\n",
       "      <th>Fuel Type</th>\n",
       "      <th>Month</th>\n",
       "      <th>Mean Supply (MW)</th>\n",
       "      <th>Min Supply (MW)</th>\n",
       "      <th>Max Supply (MW)</th>\n",
       "    </tr>\n",
       "  </thead>\n",
       "  <tbody>\n",
       "    <tr>\n",
       "      <th>0</th>\n",
       "      <td>Battery</td>\n",
       "      <td>2018-01</td>\n",
       "      <td>0.2830</td>\n",
       "      <td>0.000</td>\n",
       "      <td>0.566</td>\n",
       "    </tr>\n",
       "    <tr>\n",
       "      <th>1</th>\n",
       "      <td>Liquid Fuel</td>\n",
       "      <td>2018-01</td>\n",
       "      <td>0.0595</td>\n",
       "      <td>0.021</td>\n",
       "      <td>0.098</td>\n",
       "    </tr>\n",
       "    <tr>\n",
       "      <th>2</th>\n",
       "      <td>Black coal</td>\n",
       "      <td>2018-01</td>\n",
       "      <td>12383.7065</td>\n",
       "      <td>10655.808</td>\n",
       "      <td>14111.605</td>\n",
       "    </tr>\n",
       "    <tr>\n",
       "      <th>3</th>\n",
       "      <td>Hydro</td>\n",
       "      <td>2018-01</td>\n",
       "      <td>1122.2300</td>\n",
       "      <td>355.826</td>\n",
       "      <td>1888.634</td>\n",
       "    </tr>\n",
       "    <tr>\n",
       "      <th>4</th>\n",
       "      <td>Biomass</td>\n",
       "      <td>2018-01</td>\n",
       "      <td>12.3745</td>\n",
       "      <td>10.233</td>\n",
       "      <td>14.516</td>\n",
       "    </tr>\n",
       "    <tr>\n",
       "      <th>...</th>\n",
       "      <td>...</td>\n",
       "      <td>...</td>\n",
       "      <td>...</td>\n",
       "      <td>...</td>\n",
       "      <td>...</td>\n",
       "    </tr>\n",
       "    <tr>\n",
       "      <th>915</th>\n",
       "      <td>Black coal</td>\n",
       "      <td>2025-08</td>\n",
       "      <td>9114.7900</td>\n",
       "      <td>6399.196</td>\n",
       "      <td>11830.384</td>\n",
       "    </tr>\n",
       "    <tr>\n",
       "      <th>916</th>\n",
       "      <td>Biomass</td>\n",
       "      <td>2025-08</td>\n",
       "      <td>40.5620</td>\n",
       "      <td>35.100</td>\n",
       "      <td>46.024</td>\n",
       "    </tr>\n",
       "    <tr>\n",
       "      <th>917</th>\n",
       "      <td>Battery</td>\n",
       "      <td>2025-08</td>\n",
       "      <td>7.2425</td>\n",
       "      <td>2.324</td>\n",
       "      <td>12.161</td>\n",
       "    </tr>\n",
       "    <tr>\n",
       "      <th>918</th>\n",
       "      <td>Utility-scale Solar</td>\n",
       "      <td>2025-08</td>\n",
       "      <td>2863.1915</td>\n",
       "      <td>0.462</td>\n",
       "      <td>5725.921</td>\n",
       "    </tr>\n",
       "    <tr>\n",
       "      <th>919</th>\n",
       "      <td>Wind</td>\n",
       "      <td>2025-08</td>\n",
       "      <td>2936.4945</td>\n",
       "      <td>1980.663</td>\n",
       "      <td>3892.326</td>\n",
       "    </tr>\n",
       "  </tbody>\n",
       "</table>\n",
       "<p>920 rows × 5 columns</p>\n",
       "</div>"
      ],
      "text/plain": [
       "               Fuel Type    Month  Mean Supply (MW)  Min Supply (MW)  \\\n",
       "0                Battery  2018-01            0.2830            0.000   \n",
       "1            Liquid Fuel  2018-01            0.0595            0.021   \n",
       "2             Black coal  2018-01        12383.7065        10655.808   \n",
       "3                  Hydro  2018-01         1122.2300          355.826   \n",
       "4                Biomass  2018-01           12.3745           10.233   \n",
       "..                   ...      ...               ...              ...   \n",
       "915           Black coal  2025-08         9114.7900         6399.196   \n",
       "916              Biomass  2025-08           40.5620           35.100   \n",
       "917              Battery  2025-08            7.2425            2.324   \n",
       "918  Utility-scale Solar  2025-08         2863.1915            0.462   \n",
       "919                 Wind  2025-08         2936.4945         1980.663   \n",
       "\n",
       "     Max Supply (MW)  \n",
       "0              0.566  \n",
       "1              0.098  \n",
       "2          14111.605  \n",
       "3           1888.634  \n",
       "4             14.516  \n",
       "..               ...  \n",
       "915        11830.384  \n",
       "916           46.024  \n",
       "917           12.161  \n",
       "918         5725.921  \n",
       "919         3892.326  \n",
       "\n",
       "[920 rows x 5 columns]"
      ]
     },
     "execution_count": 26,
     "metadata": {},
     "output_type": "execute_result"
    }
   ],
   "source": [
    "supply_summary = mean_supply.sort_values(by = 'Month').reset_index(drop = True)\n",
    "supply_summary"
   ]
  },
  {
   "cell_type": "code",
   "execution_count": null,
   "id": "aceae02e",
   "metadata": {},
   "outputs": [],
   "source": [
    "battery_summary = supply_summary[supply_summary['Fuel Type'] == 'Battery']"
   ]
  },
  {
   "cell_type": "code",
   "execution_count": null,
   "id": "b5cc22eb",
   "metadata": {},
   "outputs": [
    {
     "data": {
      "text/html": [
       "<div>\n",
       "<style scoped>\n",
       "    .dataframe tbody tr th:only-of-type {\n",
       "        vertical-align: middle;\n",
       "    }\n",
       "\n",
       "    .dataframe tbody tr th {\n",
       "        vertical-align: top;\n",
       "    }\n",
       "\n",
       "    .dataframe thead th {\n",
       "        text-align: right;\n",
       "    }\n",
       "</style>\n",
       "<table border=\"1\" class=\"dataframe\">\n",
       "  <thead>\n",
       "    <tr style=\"text-align: right;\">\n",
       "      <th></th>\n",
       "      <th>Fuel Type</th>\n",
       "      <th>Month</th>\n",
       "      <th>Mean Supply (MW)</th>\n",
       "      <th>Min Supply (MW)</th>\n",
       "      <th>Max Supply (MW)</th>\n",
       "    </tr>\n",
       "  </thead>\n",
       "  <tbody>\n",
       "    <tr>\n",
       "      <th>0</th>\n",
       "      <td>Battery</td>\n",
       "      <td>2018-01</td>\n",
       "      <td>0.2830</td>\n",
       "      <td>0.000</td>\n",
       "      <td>0.566</td>\n",
       "    </tr>\n",
       "    <tr>\n",
       "      <th>1</th>\n",
       "      <td>Liquid Fuel</td>\n",
       "      <td>2018-01</td>\n",
       "      <td>0.0595</td>\n",
       "      <td>0.021</td>\n",
       "      <td>0.098</td>\n",
       "    </tr>\n",
       "    <tr>\n",
       "      <th>2</th>\n",
       "      <td>Black coal</td>\n",
       "      <td>2018-01</td>\n",
       "      <td>12383.7065</td>\n",
       "      <td>10655.808</td>\n",
       "      <td>14111.605</td>\n",
       "    </tr>\n",
       "    <tr>\n",
       "      <th>3</th>\n",
       "      <td>Hydro</td>\n",
       "      <td>2018-01</td>\n",
       "      <td>1122.2300</td>\n",
       "      <td>355.826</td>\n",
       "      <td>1888.634</td>\n",
       "    </tr>\n",
       "    <tr>\n",
       "      <th>4</th>\n",
       "      <td>Biomass</td>\n",
       "      <td>2018-01</td>\n",
       "      <td>12.3745</td>\n",
       "      <td>10.233</td>\n",
       "      <td>14.516</td>\n",
       "    </tr>\n",
       "    <tr>\n",
       "      <th>5</th>\n",
       "      <td>Wind</td>\n",
       "      <td>2018-01</td>\n",
       "      <td>1715.5270</td>\n",
       "      <td>566.570</td>\n",
       "      <td>2864.484</td>\n",
       "    </tr>\n",
       "    <tr>\n",
       "      <th>6</th>\n",
       "      <td>Brown coal</td>\n",
       "      <td>2018-01</td>\n",
       "      <td>4597.9545</td>\n",
       "      <td>4540.312</td>\n",
       "      <td>4655.597</td>\n",
       "    </tr>\n",
       "    <tr>\n",
       "      <th>7</th>\n",
       "      <td>Gas</td>\n",
       "      <td>2018-01</td>\n",
       "      <td>1712.7820</td>\n",
       "      <td>1517.622</td>\n",
       "      <td>1907.942</td>\n",
       "    </tr>\n",
       "    <tr>\n",
       "      <th>8</th>\n",
       "      <td>Distributed PV</td>\n",
       "      <td>2018-01</td>\n",
       "      <td>1938.2870</td>\n",
       "      <td>0.000</td>\n",
       "      <td>3876.574</td>\n",
       "    </tr>\n",
       "    <tr>\n",
       "      <th>9</th>\n",
       "      <td>Utility-scale Solar</td>\n",
       "      <td>2018-01</td>\n",
       "      <td>134.7040</td>\n",
       "      <td>2.204</td>\n",
       "      <td>267.204</td>\n",
       "    </tr>\n",
       "  </tbody>\n",
       "</table>\n",
       "</div>"
      ],
      "text/plain": [
       "             Fuel Type    Month  Mean Supply (MW)  Min Supply (MW)  \\\n",
       "0              Battery  2018-01            0.2830            0.000   \n",
       "1          Liquid Fuel  2018-01            0.0595            0.021   \n",
       "2           Black coal  2018-01        12383.7065        10655.808   \n",
       "3                Hydro  2018-01         1122.2300          355.826   \n",
       "4              Biomass  2018-01           12.3745           10.233   \n",
       "5                 Wind  2018-01         1715.5270          566.570   \n",
       "6           Brown coal  2018-01         4597.9545         4540.312   \n",
       "7                  Gas  2018-01         1712.7820         1517.622   \n",
       "8       Distributed PV  2018-01         1938.2870            0.000   \n",
       "9  Utility-scale Solar  2018-01          134.7040            2.204   \n",
       "\n",
       "   Max Supply (MW)  \n",
       "0            0.566  \n",
       "1            0.098  \n",
       "2        14111.605  \n",
       "3         1888.634  \n",
       "4           14.516  \n",
       "5         2864.484  \n",
       "6         4655.597  \n",
       "7         1907.942  \n",
       "8         3876.574  \n",
       "9          267.204  "
      ]
     },
     "execution_count": 28,
     "metadata": {},
     "output_type": "execute_result"
    }
   ],
   "source": [
    "supply_summary[supply_summary['Month'] == '2018-01']"
   ]
  },
  {
   "cell_type": "code",
   "execution_count": null,
   "id": "61c8ea4e",
   "metadata": {},
   "outputs": [
    {
     "data": {
      "text/plain": [
       "array(['Battery', 'Liquid Fuel', 'Black coal', 'Hydro', 'Biomass', 'Wind',\n",
       "       'Brown coal', 'Gas', 'Distributed PV', 'Utility-scale Solar'],\n",
       "      dtype=object)"
      ]
     },
     "execution_count": 29,
     "metadata": {},
     "output_type": "execute_result"
    }
   ],
   "source": [
    "supply_summary['Fuel Type'].unique()"
   ]
  },
  {
   "cell_type": "code",
   "execution_count": null,
   "id": "644ad78b",
   "metadata": {},
   "outputs": [],
   "source": [
    "mean_supply_amounts = supply_summary.groupby(['Month'])['Mean Supply (MW)'].sum().reset_index()['Mean Supply (MW)']"
   ]
  },
  {
   "cell_type": "markdown",
   "id": "93197db4",
   "metadata": {},
   "source": [
    "### Creating a DataFrame to split Renewables and Non-Renewables"
   ]
  },
  {
   "cell_type": "code",
   "execution_count": null,
   "id": "004acd48",
   "metadata": {},
   "outputs": [],
   "source": [
    "non_renewables = ['Liquid Fuel', 'Brown coal', 'Black coal', 'Gas']\n",
    "\n",
    "renewables = supply_summary['Fuel Type'].unique().tolist()\n",
    "\n",
    "for fuel in non_renewables:\n",
    "    renewables.remove(fuel)\n",
    "\n",
    "renewables_df = supply_summary[supply_summary['Fuel Type'].isin(renewables)].reset_index(drop = True)\n",
    "non_renewables_df = supply_summary[supply_summary['Fuel Type'].isin(non_renewables)].reset_index(drop = True)"
   ]
  },
  {
   "cell_type": "code",
   "execution_count": null,
   "id": "a03b9cbf",
   "metadata": {},
   "outputs": [
    {
     "data": {
      "text/html": [
       "<div>\n",
       "<style scoped>\n",
       "    .dataframe tbody tr th:only-of-type {\n",
       "        vertical-align: middle;\n",
       "    }\n",
       "\n",
       "    .dataframe tbody tr th {\n",
       "        vertical-align: top;\n",
       "    }\n",
       "\n",
       "    .dataframe thead th {\n",
       "        text-align: right;\n",
       "    }\n",
       "</style>\n",
       "<table border=\"1\" class=\"dataframe\">\n",
       "  <thead>\n",
       "    <tr style=\"text-align: right;\">\n",
       "      <th></th>\n",
       "      <th>Fuel Type</th>\n",
       "      <th>Month</th>\n",
       "      <th>Mean Supply (MW)</th>\n",
       "      <th>Min Supply (MW)</th>\n",
       "      <th>Max Supply (MW)</th>\n",
       "    </tr>\n",
       "  </thead>\n",
       "  <tbody>\n",
       "    <tr>\n",
       "      <th>0</th>\n",
       "      <td>Battery</td>\n",
       "      <td>2018-01</td>\n",
       "      <td>0.2830</td>\n",
       "      <td>0.000</td>\n",
       "      <td>0.566</td>\n",
       "    </tr>\n",
       "    <tr>\n",
       "      <th>1</th>\n",
       "      <td>Hydro</td>\n",
       "      <td>2018-01</td>\n",
       "      <td>1122.2300</td>\n",
       "      <td>355.826</td>\n",
       "      <td>1888.634</td>\n",
       "    </tr>\n",
       "    <tr>\n",
       "      <th>2</th>\n",
       "      <td>Biomass</td>\n",
       "      <td>2018-01</td>\n",
       "      <td>12.3745</td>\n",
       "      <td>10.233</td>\n",
       "      <td>14.516</td>\n",
       "    </tr>\n",
       "    <tr>\n",
       "      <th>3</th>\n",
       "      <td>Wind</td>\n",
       "      <td>2018-01</td>\n",
       "      <td>1715.5270</td>\n",
       "      <td>566.570</td>\n",
       "      <td>2864.484</td>\n",
       "    </tr>\n",
       "    <tr>\n",
       "      <th>4</th>\n",
       "      <td>Distributed PV</td>\n",
       "      <td>2018-01</td>\n",
       "      <td>1938.2870</td>\n",
       "      <td>0.000</td>\n",
       "      <td>3876.574</td>\n",
       "    </tr>\n",
       "    <tr>\n",
       "      <th>...</th>\n",
       "      <td>...</td>\n",
       "      <td>...</td>\n",
       "      <td>...</td>\n",
       "      <td>...</td>\n",
       "      <td>...</td>\n",
       "    </tr>\n",
       "    <tr>\n",
       "      <th>547</th>\n",
       "      <td>Hydro</td>\n",
       "      <td>2025-08</td>\n",
       "      <td>1224.0985</td>\n",
       "      <td>586.385</td>\n",
       "      <td>1861.812</td>\n",
       "    </tr>\n",
       "    <tr>\n",
       "      <th>548</th>\n",
       "      <td>Biomass</td>\n",
       "      <td>2025-08</td>\n",
       "      <td>40.5620</td>\n",
       "      <td>35.100</td>\n",
       "      <td>46.024</td>\n",
       "    </tr>\n",
       "    <tr>\n",
       "      <th>549</th>\n",
       "      <td>Battery</td>\n",
       "      <td>2025-08</td>\n",
       "      <td>7.2425</td>\n",
       "      <td>2.324</td>\n",
       "      <td>12.161</td>\n",
       "    </tr>\n",
       "    <tr>\n",
       "      <th>550</th>\n",
       "      <td>Utility-scale Solar</td>\n",
       "      <td>2025-08</td>\n",
       "      <td>2863.1915</td>\n",
       "      <td>0.462</td>\n",
       "      <td>5725.921</td>\n",
       "    </tr>\n",
       "    <tr>\n",
       "      <th>551</th>\n",
       "      <td>Wind</td>\n",
       "      <td>2025-08</td>\n",
       "      <td>2936.4945</td>\n",
       "      <td>1980.663</td>\n",
       "      <td>3892.326</td>\n",
       "    </tr>\n",
       "  </tbody>\n",
       "</table>\n",
       "<p>552 rows × 5 columns</p>\n",
       "</div>"
      ],
      "text/plain": [
       "               Fuel Type    Month  Mean Supply (MW)  Min Supply (MW)  \\\n",
       "0                Battery  2018-01            0.2830            0.000   \n",
       "1                  Hydro  2018-01         1122.2300          355.826   \n",
       "2                Biomass  2018-01           12.3745           10.233   \n",
       "3                   Wind  2018-01         1715.5270          566.570   \n",
       "4         Distributed PV  2018-01         1938.2870            0.000   \n",
       "..                   ...      ...               ...              ...   \n",
       "547                Hydro  2025-08         1224.0985          586.385   \n",
       "548              Biomass  2025-08           40.5620           35.100   \n",
       "549              Battery  2025-08            7.2425            2.324   \n",
       "550  Utility-scale Solar  2025-08         2863.1915            0.462   \n",
       "551                 Wind  2025-08         2936.4945         1980.663   \n",
       "\n",
       "     Max Supply (MW)  \n",
       "0              0.566  \n",
       "1           1888.634  \n",
       "2             14.516  \n",
       "3           2864.484  \n",
       "4           3876.574  \n",
       "..               ...  \n",
       "547         1861.812  \n",
       "548           46.024  \n",
       "549           12.161  \n",
       "550         5725.921  \n",
       "551         3892.326  \n",
       "\n",
       "[552 rows x 5 columns]"
      ]
     },
     "execution_count": 32,
     "metadata": {},
     "output_type": "execute_result"
    }
   ],
   "source": [
    "renewables_df"
   ]
  },
  {
   "cell_type": "code",
   "execution_count": null,
   "id": "2f49d376",
   "metadata": {},
   "outputs": [
    {
     "data": {
      "text/html": [
       "<div>\n",
       "<style scoped>\n",
       "    .dataframe tbody tr th:only-of-type {\n",
       "        vertical-align: middle;\n",
       "    }\n",
       "\n",
       "    .dataframe tbody tr th {\n",
       "        vertical-align: top;\n",
       "    }\n",
       "\n",
       "    .dataframe thead th {\n",
       "        text-align: right;\n",
       "    }\n",
       "</style>\n",
       "<table border=\"1\" class=\"dataframe\">\n",
       "  <thead>\n",
       "    <tr style=\"text-align: right;\">\n",
       "      <th></th>\n",
       "      <th>Fuel Type</th>\n",
       "      <th>Month</th>\n",
       "      <th>Mean Supply (MW)</th>\n",
       "      <th>Min Supply (MW)</th>\n",
       "      <th>Max Supply (MW)</th>\n",
       "    </tr>\n",
       "  </thead>\n",
       "  <tbody>\n",
       "    <tr>\n",
       "      <th>0</th>\n",
       "      <td>Battery</td>\n",
       "      <td>2018-01</td>\n",
       "      <td>0.2830</td>\n",
       "      <td>0.000</td>\n",
       "      <td>0.566</td>\n",
       "    </tr>\n",
       "    <tr>\n",
       "      <th>1</th>\n",
       "      <td>Hydro</td>\n",
       "      <td>2018-01</td>\n",
       "      <td>1122.2300</td>\n",
       "      <td>355.826</td>\n",
       "      <td>1888.634</td>\n",
       "    </tr>\n",
       "    <tr>\n",
       "      <th>2</th>\n",
       "      <td>Biomass</td>\n",
       "      <td>2018-01</td>\n",
       "      <td>12.3745</td>\n",
       "      <td>10.233</td>\n",
       "      <td>14.516</td>\n",
       "    </tr>\n",
       "    <tr>\n",
       "      <th>3</th>\n",
       "      <td>Wind</td>\n",
       "      <td>2018-01</td>\n",
       "      <td>1715.5270</td>\n",
       "      <td>566.570</td>\n",
       "      <td>2864.484</td>\n",
       "    </tr>\n",
       "    <tr>\n",
       "      <th>4</th>\n",
       "      <td>Distributed PV</td>\n",
       "      <td>2018-01</td>\n",
       "      <td>1938.2870</td>\n",
       "      <td>0.000</td>\n",
       "      <td>3876.574</td>\n",
       "    </tr>\n",
       "    <tr>\n",
       "      <th>5</th>\n",
       "      <td>Utility-scale Solar</td>\n",
       "      <td>2018-01</td>\n",
       "      <td>134.7040</td>\n",
       "      <td>2.204</td>\n",
       "      <td>267.204</td>\n",
       "    </tr>\n",
       "    <tr>\n",
       "      <th>6</th>\n",
       "      <td>Wind</td>\n",
       "      <td>2018-02</td>\n",
       "      <td>1837.8105</td>\n",
       "      <td>437.997</td>\n",
       "      <td>3237.624</td>\n",
       "    </tr>\n",
       "  </tbody>\n",
       "</table>\n",
       "</div>"
      ],
      "text/plain": [
       "             Fuel Type    Month  Mean Supply (MW)  Min Supply (MW)  \\\n",
       "0              Battery  2018-01            0.2830            0.000   \n",
       "1                Hydro  2018-01         1122.2300          355.826   \n",
       "2              Biomass  2018-01           12.3745           10.233   \n",
       "3                 Wind  2018-01         1715.5270          566.570   \n",
       "4       Distributed PV  2018-01         1938.2870            0.000   \n",
       "5  Utility-scale Solar  2018-01          134.7040            2.204   \n",
       "6                 Wind  2018-02         1837.8105          437.997   \n",
       "\n",
       "   Max Supply (MW)  \n",
       "0            0.566  \n",
       "1         1888.634  \n",
       "2           14.516  \n",
       "3         2864.484  \n",
       "4         3876.574  \n",
       "5          267.204  \n",
       "6         3237.624  "
      ]
     },
     "execution_count": 33,
     "metadata": {},
     "output_type": "execute_result"
    }
   ],
   "source": [
    "renewables_df[0:7]"
   ]
  },
  {
   "cell_type": "markdown",
   "id": "a007739a",
   "metadata": {},
   "source": [
    "### Creating a DataFrame to Aggregate the Mean Supplies of all Fuel Sources\n",
    "Then plot the total mean supply over time"
   ]
  },
  {
   "cell_type": "code",
   "execution_count": null,
   "id": "1f3a0bb1",
   "metadata": {},
   "outputs": [
    {
     "data": {
      "text/html": [
       "<div>\n",
       "<style scoped>\n",
       "    .dataframe tbody tr th:only-of-type {\n",
       "        vertical-align: middle;\n",
       "    }\n",
       "\n",
       "    .dataframe tbody tr th {\n",
       "        vertical-align: top;\n",
       "    }\n",
       "\n",
       "    .dataframe thead th {\n",
       "        text-align: right;\n",
       "    }\n",
       "</style>\n",
       "<table border=\"1\" class=\"dataframe\">\n",
       "  <thead>\n",
       "    <tr style=\"text-align: right;\">\n",
       "      <th></th>\n",
       "      <th>Month</th>\n",
       "      <th>Mean Supply (MW)</th>\n",
       "    </tr>\n",
       "  </thead>\n",
       "  <tbody>\n",
       "    <tr>\n",
       "      <th>0</th>\n",
       "      <td>2018-01</td>\n",
       "      <td>4923.4055</td>\n",
       "    </tr>\n",
       "    <tr>\n",
       "      <th>1</th>\n",
       "      <td>2018-02</td>\n",
       "      <td>4667.5965</td>\n",
       "    </tr>\n",
       "    <tr>\n",
       "      <th>2</th>\n",
       "      <td>2018-03</td>\n",
       "      <td>4460.9820</td>\n",
       "    </tr>\n",
       "    <tr>\n",
       "      <th>3</th>\n",
       "      <td>2018-04</td>\n",
       "      <td>4512.6620</td>\n",
       "    </tr>\n",
       "    <tr>\n",
       "      <th>4</th>\n",
       "      <td>2018-05</td>\n",
       "      <td>4857.1565</td>\n",
       "    </tr>\n",
       "    <tr>\n",
       "      <th>...</th>\n",
       "      <td>...</td>\n",
       "      <td>...</td>\n",
       "    </tr>\n",
       "    <tr>\n",
       "      <th>87</th>\n",
       "      <td>2025-04</td>\n",
       "      <td>10536.8795</td>\n",
       "    </tr>\n",
       "    <tr>\n",
       "      <th>88</th>\n",
       "      <td>2025-05</td>\n",
       "      <td>10704.8115</td>\n",
       "    </tr>\n",
       "    <tr>\n",
       "      <th>89</th>\n",
       "      <td>2025-06</td>\n",
       "      <td>11253.8470</td>\n",
       "    </tr>\n",
       "    <tr>\n",
       "      <th>90</th>\n",
       "      <td>2025-07</td>\n",
       "      <td>12593.5200</td>\n",
       "    </tr>\n",
       "    <tr>\n",
       "      <th>91</th>\n",
       "      <td>2025-08</td>\n",
       "      <td>12108.8420</td>\n",
       "    </tr>\n",
       "  </tbody>\n",
       "</table>\n",
       "<p>92 rows × 2 columns</p>\n",
       "</div>"
      ],
      "text/plain": [
       "      Month  Mean Supply (MW)\n",
       "0   2018-01         4923.4055\n",
       "1   2018-02         4667.5965\n",
       "2   2018-03         4460.9820\n",
       "3   2018-04         4512.6620\n",
       "4   2018-05         4857.1565\n",
       "..      ...               ...\n",
       "87  2025-04        10536.8795\n",
       "88  2025-05        10704.8115\n",
       "89  2025-06        11253.8470\n",
       "90  2025-07        12593.5200\n",
       "91  2025-08        12108.8420\n",
       "\n",
       "[92 rows x 2 columns]"
      ]
     },
     "execution_count": 34,
     "metadata": {},
     "output_type": "execute_result"
    }
   ],
   "source": [
    "renewables_supply = renewables_df.groupby(['Month'])['Mean Supply (MW)'].sum().reset_index()\n",
    "renewables_supply"
   ]
  },
  {
   "cell_type": "code",
   "execution_count": null,
   "id": "ee4bcf8d",
   "metadata": {},
   "outputs": [
    {
     "data": {
      "text/html": [
       "<div>\n",
       "<style scoped>\n",
       "    .dataframe tbody tr th:only-of-type {\n",
       "        vertical-align: middle;\n",
       "    }\n",
       "\n",
       "    .dataframe tbody tr th {\n",
       "        vertical-align: top;\n",
       "    }\n",
       "\n",
       "    .dataframe thead th {\n",
       "        text-align: right;\n",
       "    }\n",
       "</style>\n",
       "<table border=\"1\" class=\"dataframe\">\n",
       "  <thead>\n",
       "    <tr style=\"text-align: right;\">\n",
       "      <th></th>\n",
       "      <th>Month</th>\n",
       "      <th>Mean Supply (MW)</th>\n",
       "    </tr>\n",
       "  </thead>\n",
       "  <tbody>\n",
       "    <tr>\n",
       "      <th>0</th>\n",
       "      <td>2018-01</td>\n",
       "      <td>18694.5025</td>\n",
       "    </tr>\n",
       "    <tr>\n",
       "      <th>1</th>\n",
       "      <td>2018-02</td>\n",
       "      <td>18829.0080</td>\n",
       "    </tr>\n",
       "    <tr>\n",
       "      <th>2</th>\n",
       "      <td>2018-03</td>\n",
       "      <td>17066.9565</td>\n",
       "    </tr>\n",
       "    <tr>\n",
       "      <th>3</th>\n",
       "      <td>2018-04</td>\n",
       "      <td>16415.0150</td>\n",
       "    </tr>\n",
       "    <tr>\n",
       "      <th>4</th>\n",
       "      <td>2018-05</td>\n",
       "      <td>17820.6030</td>\n",
       "    </tr>\n",
       "    <tr>\n",
       "      <th>...</th>\n",
       "      <td>...</td>\n",
       "      <td>...</td>\n",
       "    </tr>\n",
       "    <tr>\n",
       "      <th>87</th>\n",
       "      <td>2025-04</td>\n",
       "      <td>12175.0755</td>\n",
       "    </tr>\n",
       "    <tr>\n",
       "      <th>88</th>\n",
       "      <td>2025-05</td>\n",
       "      <td>12536.7005</td>\n",
       "    </tr>\n",
       "    <tr>\n",
       "      <th>89</th>\n",
       "      <td>2025-06</td>\n",
       "      <td>13385.9000</td>\n",
       "    </tr>\n",
       "    <tr>\n",
       "      <th>90</th>\n",
       "      <td>2025-07</td>\n",
       "      <td>15253.6980</td>\n",
       "    </tr>\n",
       "    <tr>\n",
       "      <th>91</th>\n",
       "      <td>2025-08</td>\n",
       "      <td>13680.8645</td>\n",
       "    </tr>\n",
       "  </tbody>\n",
       "</table>\n",
       "<p>92 rows × 2 columns</p>\n",
       "</div>"
      ],
      "text/plain": [
       "      Month  Mean Supply (MW)\n",
       "0   2018-01        18694.5025\n",
       "1   2018-02        18829.0080\n",
       "2   2018-03        17066.9565\n",
       "3   2018-04        16415.0150\n",
       "4   2018-05        17820.6030\n",
       "..      ...               ...\n",
       "87  2025-04        12175.0755\n",
       "88  2025-05        12536.7005\n",
       "89  2025-06        13385.9000\n",
       "90  2025-07        15253.6980\n",
       "91  2025-08        13680.8645\n",
       "\n",
       "[92 rows x 2 columns]"
      ]
     },
     "execution_count": 35,
     "metadata": {},
     "output_type": "execute_result"
    }
   ],
   "source": [
    "non_renewables_supply = non_renewables_df.groupby(['Month'])['Mean Supply (MW)'].sum().reset_index()\n",
    "non_renewables_supply"
   ]
  },
  {
   "cell_type": "code",
   "execution_count": null,
   "id": "5e7cf6bb",
   "metadata": {},
   "outputs": [
    {
     "data": {
      "text/html": [
       "<div>\n",
       "<style scoped>\n",
       "    .dataframe tbody tr th:only-of-type {\n",
       "        vertical-align: middle;\n",
       "    }\n",
       "\n",
       "    .dataframe tbody tr th {\n",
       "        vertical-align: top;\n",
       "    }\n",
       "\n",
       "    .dataframe thead th {\n",
       "        text-align: right;\n",
       "    }\n",
       "</style>\n",
       "<table border=\"1\" class=\"dataframe\">\n",
       "  <thead>\n",
       "    <tr style=\"text-align: right;\">\n",
       "      <th></th>\n",
       "      <th>Month</th>\n",
       "      <th>Mean Supply (MW) Renewables</th>\n",
       "      <th>Mean Supply (MW) Non Renewables</th>\n",
       "    </tr>\n",
       "  </thead>\n",
       "  <tbody>\n",
       "    <tr>\n",
       "      <th>0</th>\n",
       "      <td>2018-01</td>\n",
       "      <td>4923.4055</td>\n",
       "      <td>18694.5025</td>\n",
       "    </tr>\n",
       "    <tr>\n",
       "      <th>1</th>\n",
       "      <td>2018-02</td>\n",
       "      <td>4667.5965</td>\n",
       "      <td>18829.0080</td>\n",
       "    </tr>\n",
       "    <tr>\n",
       "      <th>2</th>\n",
       "      <td>2018-03</td>\n",
       "      <td>4460.9820</td>\n",
       "      <td>17066.9565</td>\n",
       "    </tr>\n",
       "    <tr>\n",
       "      <th>3</th>\n",
       "      <td>2018-04</td>\n",
       "      <td>4512.6620</td>\n",
       "      <td>16415.0150</td>\n",
       "    </tr>\n",
       "    <tr>\n",
       "      <th>4</th>\n",
       "      <td>2018-05</td>\n",
       "      <td>4857.1565</td>\n",
       "      <td>17820.6030</td>\n",
       "    </tr>\n",
       "    <tr>\n",
       "      <th>...</th>\n",
       "      <td>...</td>\n",
       "      <td>...</td>\n",
       "      <td>...</td>\n",
       "    </tr>\n",
       "    <tr>\n",
       "      <th>87</th>\n",
       "      <td>2025-04</td>\n",
       "      <td>10536.8795</td>\n",
       "      <td>12175.0755</td>\n",
       "    </tr>\n",
       "    <tr>\n",
       "      <th>88</th>\n",
       "      <td>2025-05</td>\n",
       "      <td>10704.8115</td>\n",
       "      <td>12536.7005</td>\n",
       "    </tr>\n",
       "    <tr>\n",
       "      <th>89</th>\n",
       "      <td>2025-06</td>\n",
       "      <td>11253.8470</td>\n",
       "      <td>13385.9000</td>\n",
       "    </tr>\n",
       "    <tr>\n",
       "      <th>90</th>\n",
       "      <td>2025-07</td>\n",
       "      <td>12593.5200</td>\n",
       "      <td>15253.6980</td>\n",
       "    </tr>\n",
       "    <tr>\n",
       "      <th>91</th>\n",
       "      <td>2025-08</td>\n",
       "      <td>12108.8420</td>\n",
       "      <td>13680.8645</td>\n",
       "    </tr>\n",
       "  </tbody>\n",
       "</table>\n",
       "<p>92 rows × 3 columns</p>\n",
       "</div>"
      ],
      "text/plain": [
       "      Month  Mean Supply (MW) Renewables  Mean Supply (MW) Non Renewables\n",
       "0   2018-01                    4923.4055                       18694.5025\n",
       "1   2018-02                    4667.5965                       18829.0080\n",
       "2   2018-03                    4460.9820                       17066.9565\n",
       "3   2018-04                    4512.6620                       16415.0150\n",
       "4   2018-05                    4857.1565                       17820.6030\n",
       "..      ...                          ...                              ...\n",
       "87  2025-04                   10536.8795                       12175.0755\n",
       "88  2025-05                   10704.8115                       12536.7005\n",
       "89  2025-06                   11253.8470                       13385.9000\n",
       "90  2025-07                   12593.5200                       15253.6980\n",
       "91  2025-08                   12108.8420                       13680.8645\n",
       "\n",
       "[92 rows x 3 columns]"
      ]
     },
     "execution_count": 36,
     "metadata": {},
     "output_type": "execute_result"
    }
   ],
   "source": [
    "total_supply_df = pd.merge(renewables_supply, non_renewables_supply, on='Month', suffixes=(' Renewables', ' Non Renewables'))\n",
    "total_supply_df"
   ]
  },
  {
   "cell_type": "markdown",
   "id": "419726dd",
   "metadata": {},
   "source": [
    "Looking quickly at what government policies were introduced when"
   ]
  },
  {
   "cell_type": "code",
   "execution_count": null,
   "id": "150102da",
   "metadata": {},
   "outputs": [
    {
     "name": "stdout",
     "output_type": "stream",
     "text": [
      "2019-11-22 00:00:00 : Australia’s National Hydrogen Strategy (2019)\n",
      "2019-11-22 00:00:00 : National Hydrogen Strategy — update (2024)\n",
      "2020-05-21 00:00:00 : Technology Investment Roadmap (and 2020 Low Emissions Tech Statement)\n",
      "2021-11-02 00:00:00 : Low Emissions Technology Statement (2021)\n",
      "2021-12-03 00:00:00 : Powering Australia (ALP plan & program package, 2022 onwards)\n",
      "2022-07-27 00:00:00 : Climate Change Act 2022 (Commonwealth)\n",
      "2022-10-19 00:00:00 : Rewiring the Nation (program)\n",
      "2022-12-08 00:00:00 : Capacity Investment Scheme (CIS) — Federal revenue-underwriting scheme (announced 2023; tenders 2023–onwards)\n",
      "2023-03-30 00:00:00 : Safeguard Mechanism reforms (reform package; commenced)\n",
      "2024-03-28 00:00:00 : $1 billion solar manufacturing / local solar supply fund (manufacturing support)\n"
     ]
    }
   ],
   "source": [
    "for i, date in enumerate(governmental_policies['Date introduced / announced']):\n",
    "    print(f'{date} : {governmental_policies['Policy / Legislation'].iloc[i]}')"
   ]
  },
  {
   "cell_type": "markdown",
   "id": "15642bfe",
   "metadata": {},
   "source": [
    "### Generating the Plots for the Total Fuel Source Renewables/Non-Renewables"
   ]
  },
  {
   "cell_type": "code",
   "execution_count": null,
   "id": "23a035ff",
   "metadata": {},
   "outputs": [],
   "source": [
    "add_policy_intro_dates = True"
   ]
  },
  {
   "cell_type": "code",
   "execution_count": null,
   "id": "ec8f2fa3",
   "metadata": {},
   "outputs": [
    {
     "data": {
      "application/vnd.plotly.v1+json": {
       "config": {
        "plotlyServerURL": "https://plot.ly"
       },
       "data": [
        {
         "hovertemplate": "Fuel Type=Mean Supply (MW) Renewables<br>Month=%{x}<br>Mean Supply (MW)=%{y}<extra></extra>",
         "legendgroup": "Mean Supply (MW) Renewables",
         "line": {
          "color": "#636efa",
          "dash": "solid"
         },
         "marker": {
          "symbol": "circle"
         },
         "mode": "lines+markers",
         "name": "Mean Supply (MW) Renewables",
         "orientation": "v",
         "showlegend": true,
         "type": "scatter",
         "x": [
          "2018-01",
          "2018-02",
          "2018-03",
          "2018-04",
          "2018-05",
          "2018-06",
          "2018-07",
          "2018-08",
          "2018-09",
          "2018-10",
          "2018-11",
          "2018-12",
          "2019-01",
          "2019-02",
          "2019-03",
          "2019-04",
          "2019-05",
          "2019-06",
          "2019-07",
          "2019-08",
          "2019-09",
          "2019-10",
          "2019-11",
          "2019-12",
          "2020-01",
          "2020-02",
          "2020-03",
          "2020-04",
          "2020-05",
          "2020-06",
          "2020-07",
          "2020-08",
          "2020-09",
          "2020-10",
          "2020-11",
          "2020-12",
          "2021-01",
          "2021-02",
          "2021-03",
          "2021-04",
          "2021-05",
          "2021-06",
          "2021-07",
          "2021-08",
          "2021-09",
          "2021-10",
          "2021-11",
          "2021-12",
          "2022-01",
          "2022-02",
          "2022-03",
          "2022-04",
          "2022-05",
          "2022-06",
          "2022-07",
          "2022-08",
          "2022-09",
          "2022-10",
          "2022-11",
          "2022-12",
          "2023-01",
          "2023-02",
          "2023-03",
          "2023-04",
          "2023-05",
          "2023-06",
          "2023-07",
          "2023-08",
          "2023-09",
          "2023-10",
          "2023-11",
          "2023-12",
          "2024-01",
          "2024-02",
          "2024-03",
          "2024-04",
          "2024-05",
          "2024-06",
          "2024-07",
          "2024-08",
          "2024-09",
          "2024-10",
          "2024-11",
          "2024-12",
          "2025-01",
          "2025-02",
          "2025-03",
          "2025-04",
          "2025-05",
          "2025-06",
          "2025-07",
          "2025-08"
         ],
         "xaxis": "x",
         "y": {
          "bdata": "hxbZzmc7s0AQWDm0mDuyQKwcWmT7bLFA9P3UeKmgsUDTTWIQKPmyQLByaJEd7rRANV66STyPtEDRItv57l+2QE5iEFj5arZAnMQgsOJis0AQWDm0OMC0QBKDwMpxEbZAPgrXo/D3s0D6fmq8tPK0QAIrhxb5bbJA001iENg2tUAOLbKdX0K1QEjhehTel7VAOIlBYEWNt0AxCKwciu24QBBYObR4IbdAFK5H4frVtkCwcmiR7eW6QIlBYOUAebpAMzMzM6P7tUCwcmiR7eq3QJhuEoOwVblANDMzM3PmuEB7FK5H0Q25QPHSTWJg87dA4noUrreruEC4HoXrIZ+7QGZmZmYWMb5ATmIQWBmfvUBt5/up4Wm9QM3MzMxct71A61G4HoUvvEDGSzeJ8R6/QJhuEoPwD7xAw/UoXG/PvEDo+6nxog29QKabxCDQWL1A5tAi22FtwEC8dJMYVAK+QCUGgZV7UMFAz/dT46X+wUDLoUW2m/DCQNEi2/kW38JARrbz/YwLwUBiEFg5JE/BQLKd76eeGcFAAAAAAGAWv0DZzvdTe4HAQDEIrBw6icFA7nw/NabJwkCsHFpky1XCQIts5/th6MFAnu+nxju6xECe76fGy1/GQHsUrkfxyMRAsHJokd1JxUCTGARWFv3FQAwCK4de88NAuB6F64liwkCYbhKDqCXEQBov3SQ+IMRAL90kBpnbxEDb+X5qNMXEQOkmMQg8p8ZAhxbZzidKx0CWQ4tsVzPFQCyHFtmmD8ZAGy/dJN73w0C28/3UMOTEQCPb+X4iK8hAObTIdnbXw0D8qfHSvc7DQMuhRba7ZcFADAIrh54ExUDo+6nxorLFQOXQItshUMdAlBgEVt5DyEClm8QgGAPKQARWDi2a1chALrKd72day0CBlUOLXKXJQIPAyqGFPMhAa7x0k3CUxEBaZDvfZ+jEQNv5fmrs+sVA9ihcj8KYyECe76fGa6bHQA==",
          "dtype": "f8"
         },
         "yaxis": "y"
        },
        {
         "hovertemplate": "Fuel Type=Mean Supply (MW) Non Renewables<br>Month=%{x}<br>Mean Supply (MW)=%{y}<extra></extra>",
         "legendgroup": "Mean Supply (MW) Non Renewables",
         "line": {
          "color": "#EF553B",
          "dash": "solid"
         },
         "marker": {
          "symbol": "circle"
         },
         "mode": "lines+markers",
         "name": "Mean Supply (MW) Non Renewables",
         "orientation": "v",
         "showlegend": true,
         "type": "scatter",
         "x": [
          "2018-01",
          "2018-02",
          "2018-03",
          "2018-04",
          "2018-05",
          "2018-06",
          "2018-07",
          "2018-08",
          "2018-09",
          "2018-10",
          "2018-11",
          "2018-12",
          "2019-01",
          "2019-02",
          "2019-03",
          "2019-04",
          "2019-05",
          "2019-06",
          "2019-07",
          "2019-08",
          "2019-09",
          "2019-10",
          "2019-11",
          "2019-12",
          "2020-01",
          "2020-02",
          "2020-03",
          "2020-04",
          "2020-05",
          "2020-06",
          "2020-07",
          "2020-08",
          "2020-09",
          "2020-10",
          "2020-11",
          "2020-12",
          "2021-01",
          "2021-02",
          "2021-03",
          "2021-04",
          "2021-05",
          "2021-06",
          "2021-07",
          "2021-08",
          "2021-09",
          "2021-10",
          "2021-11",
          "2021-12",
          "2022-01",
          "2022-02",
          "2022-03",
          "2022-04",
          "2022-05",
          "2022-06",
          "2022-07",
          "2022-08",
          "2022-09",
          "2022-10",
          "2022-11",
          "2022-12",
          "2023-01",
          "2023-02",
          "2023-03",
          "2023-04",
          "2023-05",
          "2023-06",
          "2023-07",
          "2023-08",
          "2023-09",
          "2023-10",
          "2023-11",
          "2023-12",
          "2024-01",
          "2024-02",
          "2024-03",
          "2024-04",
          "2024-05",
          "2024-06",
          "2024-07",
          "2024-08",
          "2024-09",
          "2024-10",
          "2024-11",
          "2024-12",
          "2025-01",
          "2025-02",
          "2025-03",
          "2025-04",
          "2025-05",
          "2025-06",
          "2025-07",
          "2025-08"
         ],
         "xaxis": "x",
         "y": {
          "bdata": "j8L1KKBB0kCXbhKDQGPSQKjGSze9qtBAXI/C9cAH0EDfT42XJmfRQA0CK4diRdFAgJVDizQoz0Db+X5q9FzNQKAaL900Is9AVg4tsk1vzkB0kxgExqbPQJLtfD/V2c1AYhBYOQx00ED8qfHSiY/QQLKd76duXc9A+35qvLSjzECHFtnOj0vNQCgxCKzEXs5AaJHtfP8MzkAX2c73y3HMQGQ73089JMxAHoXrUfB2y0ASg8DK6e/MQFCNl26aXs5A8KfGSw8Iz0CS7Xw/IYXQQKRwPQpv581AhxbZzj9SykBg5dAiO8fLQFg5tMiu0c9A8tJNYrACzUB+arx0k1bNQHJoke20l8xAPN9PjWfeykCF61G4Lo7LQPhT46VTo8tAppvEIJiCy0DFILByuPPOQN9PjZfmWMtA9P3UeLlaykC5HoXraVXLQOTQItupAs5Ax0s3iZH5zEDO91PjJVHKQKwcWmRrOslAGQRWDt04y0B8PzVe+gHJQPyp8dJNs8pAVOOlm0xFzECWQ4tsh2/IQJqZmZnp7s1AK4cW2X56yUCiRbbzfW3KQObQItsRSs5A+FPjpfPNzkClm8QgUCrNQAIrhxZReMdA16NwPeIfx0DHSzeJEY/HQIcW2c4HvcZAarx0k4geykBCYOXQ0unJQAAAAABw0chAMN0kBpnkyEDwp8ZLJ7zJQLByaJEF2shADi2ynT/GyUBGtvP9dBvIQO+nxkv3O8xAEVg5tBCYxUAK16NwxZTFQOomMQiU68ZAo3A9CscsyUCr8dJNsojJQIPAyqFtOcpAy6FFtksSyEAGgZVDi5fPQKRwPQpXucxA30+NlybcykBiEFg5XEXJQGq8dJOAlsZAZmZmZm4+xUCZmZmZAVPGQLByaJHVh8dAwMqhRT4lyUAW2c7300HJQN0kBoH9IclAbOf7qYnHx0Bt5/upWXzIQDQzMzPzJMpATmIQWNnKzUCzne+nbrjKQA==",
          "dtype": "f8"
         },
         "yaxis": "y"
        }
       ],
       "layout": {
        "legend": {
         "title": {
          "text": "Fuel Type"
         },
         "tracegroupgap": 0
        },
        "shapes": [
         {
          "line": {
           "dash": "dash",
           "width": 2
          },
          "type": "line",
          "x0": "2019-11-22T00:00:00",
          "x1": "2019-11-22T00:00:00",
          "xref": "x",
          "y0": 0,
          "y1": 1,
          "yref": "y domain"
         },
         {
          "line": {
           "dash": "dash",
           "width": 2
          },
          "type": "line",
          "x0": "2019-11-22T00:00:00",
          "x1": "2019-11-22T00:00:00",
          "xref": "x",
          "y0": 0,
          "y1": 1,
          "yref": "y domain"
         },
         {
          "line": {
           "dash": "dash",
           "width": 2
          },
          "type": "line",
          "x0": "2020-05-21T00:00:00",
          "x1": "2020-05-21T00:00:00",
          "xref": "x",
          "y0": 0,
          "y1": 1,
          "yref": "y domain"
         },
         {
          "line": {
           "dash": "dash",
           "width": 2
          },
          "type": "line",
          "x0": "2021-11-02T00:00:00",
          "x1": "2021-11-02T00:00:00",
          "xref": "x",
          "y0": 0,
          "y1": 1,
          "yref": "y domain"
         },
         {
          "line": {
           "dash": "dash",
           "width": 2
          },
          "type": "line",
          "x0": "2021-12-03T00:00:00",
          "x1": "2021-12-03T00:00:00",
          "xref": "x",
          "y0": 0,
          "y1": 1,
          "yref": "y domain"
         },
         {
          "line": {
           "dash": "dash",
           "width": 2
          },
          "type": "line",
          "x0": "2022-07-27T00:00:00",
          "x1": "2022-07-27T00:00:00",
          "xref": "x",
          "y0": 0,
          "y1": 1,
          "yref": "y domain"
         },
         {
          "line": {
           "dash": "dash",
           "width": 2
          },
          "type": "line",
          "x0": "2022-10-19T00:00:00",
          "x1": "2022-10-19T00:00:00",
          "xref": "x",
          "y0": 0,
          "y1": 1,
          "yref": "y domain"
         },
         {
          "line": {
           "dash": "dash",
           "width": 2
          },
          "type": "line",
          "x0": "2022-12-08T00:00:00",
          "x1": "2022-12-08T00:00:00",
          "xref": "x",
          "y0": 0,
          "y1": 1,
          "yref": "y domain"
         },
         {
          "line": {
           "dash": "dash",
           "width": 2
          },
          "type": "line",
          "x0": "2023-03-30T00:00:00",
          "x1": "2023-03-30T00:00:00",
          "xref": "x",
          "y0": 0,
          "y1": 1,
          "yref": "y domain"
         },
         {
          "line": {
           "dash": "dash",
           "width": 2
          },
          "type": "line",
          "x0": "2024-03-28T00:00:00",
          "x1": "2024-03-28T00:00:00",
          "xref": "x",
          "y0": 0,
          "y1": 1,
          "yref": "y domain"
         }
        ],
        "template": {
         "data": {
          "bar": [
           {
            "error_x": {
             "color": "#2a3f5f"
            },
            "error_y": {
             "color": "#2a3f5f"
            },
            "marker": {
             "line": {
              "color": "#E5ECF6",
              "width": 0.5
             },
             "pattern": {
              "fillmode": "overlay",
              "size": 10,
              "solidity": 0.2
             }
            },
            "type": "bar"
           }
          ],
          "barpolar": [
           {
            "marker": {
             "line": {
              "color": "#E5ECF6",
              "width": 0.5
             },
             "pattern": {
              "fillmode": "overlay",
              "size": 10,
              "solidity": 0.2
             }
            },
            "type": "barpolar"
           }
          ],
          "carpet": [
           {
            "aaxis": {
             "endlinecolor": "#2a3f5f",
             "gridcolor": "white",
             "linecolor": "white",
             "minorgridcolor": "white",
             "startlinecolor": "#2a3f5f"
            },
            "baxis": {
             "endlinecolor": "#2a3f5f",
             "gridcolor": "white",
             "linecolor": "white",
             "minorgridcolor": "white",
             "startlinecolor": "#2a3f5f"
            },
            "type": "carpet"
           }
          ],
          "choropleth": [
           {
            "colorbar": {
             "outlinewidth": 0,
             "ticks": ""
            },
            "type": "choropleth"
           }
          ],
          "contour": [
           {
            "colorbar": {
             "outlinewidth": 0,
             "ticks": ""
            },
            "colorscale": [
             [
              0,
              "#0d0887"
             ],
             [
              0.1111111111111111,
              "#46039f"
             ],
             [
              0.2222222222222222,
              "#7201a8"
             ],
             [
              0.3333333333333333,
              "#9c179e"
             ],
             [
              0.4444444444444444,
              "#bd3786"
             ],
             [
              0.5555555555555556,
              "#d8576b"
             ],
             [
              0.6666666666666666,
              "#ed7953"
             ],
             [
              0.7777777777777778,
              "#fb9f3a"
             ],
             [
              0.8888888888888888,
              "#fdca26"
             ],
             [
              1,
              "#f0f921"
             ]
            ],
            "type": "contour"
           }
          ],
          "contourcarpet": [
           {
            "colorbar": {
             "outlinewidth": 0,
             "ticks": ""
            },
            "type": "contourcarpet"
           }
          ],
          "heatmap": [
           {
            "colorbar": {
             "outlinewidth": 0,
             "ticks": ""
            },
            "colorscale": [
             [
              0,
              "#0d0887"
             ],
             [
              0.1111111111111111,
              "#46039f"
             ],
             [
              0.2222222222222222,
              "#7201a8"
             ],
             [
              0.3333333333333333,
              "#9c179e"
             ],
             [
              0.4444444444444444,
              "#bd3786"
             ],
             [
              0.5555555555555556,
              "#d8576b"
             ],
             [
              0.6666666666666666,
              "#ed7953"
             ],
             [
              0.7777777777777778,
              "#fb9f3a"
             ],
             [
              0.8888888888888888,
              "#fdca26"
             ],
             [
              1,
              "#f0f921"
             ]
            ],
            "type": "heatmap"
           }
          ],
          "histogram": [
           {
            "marker": {
             "pattern": {
              "fillmode": "overlay",
              "size": 10,
              "solidity": 0.2
             }
            },
            "type": "histogram"
           }
          ],
          "histogram2d": [
           {
            "colorbar": {
             "outlinewidth": 0,
             "ticks": ""
            },
            "colorscale": [
             [
              0,
              "#0d0887"
             ],
             [
              0.1111111111111111,
              "#46039f"
             ],
             [
              0.2222222222222222,
              "#7201a8"
             ],
             [
              0.3333333333333333,
              "#9c179e"
             ],
             [
              0.4444444444444444,
              "#bd3786"
             ],
             [
              0.5555555555555556,
              "#d8576b"
             ],
             [
              0.6666666666666666,
              "#ed7953"
             ],
             [
              0.7777777777777778,
              "#fb9f3a"
             ],
             [
              0.8888888888888888,
              "#fdca26"
             ],
             [
              1,
              "#f0f921"
             ]
            ],
            "type": "histogram2d"
           }
          ],
          "histogram2dcontour": [
           {
            "colorbar": {
             "outlinewidth": 0,
             "ticks": ""
            },
            "colorscale": [
             [
              0,
              "#0d0887"
             ],
             [
              0.1111111111111111,
              "#46039f"
             ],
             [
              0.2222222222222222,
              "#7201a8"
             ],
             [
              0.3333333333333333,
              "#9c179e"
             ],
             [
              0.4444444444444444,
              "#bd3786"
             ],
             [
              0.5555555555555556,
              "#d8576b"
             ],
             [
              0.6666666666666666,
              "#ed7953"
             ],
             [
              0.7777777777777778,
              "#fb9f3a"
             ],
             [
              0.8888888888888888,
              "#fdca26"
             ],
             [
              1,
              "#f0f921"
             ]
            ],
            "type": "histogram2dcontour"
           }
          ],
          "mesh3d": [
           {
            "colorbar": {
             "outlinewidth": 0,
             "ticks": ""
            },
            "type": "mesh3d"
           }
          ],
          "parcoords": [
           {
            "line": {
             "colorbar": {
              "outlinewidth": 0,
              "ticks": ""
             }
            },
            "type": "parcoords"
           }
          ],
          "pie": [
           {
            "automargin": true,
            "type": "pie"
           }
          ],
          "scatter": [
           {
            "fillpattern": {
             "fillmode": "overlay",
             "size": 10,
             "solidity": 0.2
            },
            "type": "scatter"
           }
          ],
          "scatter3d": [
           {
            "line": {
             "colorbar": {
              "outlinewidth": 0,
              "ticks": ""
             }
            },
            "marker": {
             "colorbar": {
              "outlinewidth": 0,
              "ticks": ""
             }
            },
            "type": "scatter3d"
           }
          ],
          "scattercarpet": [
           {
            "marker": {
             "colorbar": {
              "outlinewidth": 0,
              "ticks": ""
             }
            },
            "type": "scattercarpet"
           }
          ],
          "scattergeo": [
           {
            "marker": {
             "colorbar": {
              "outlinewidth": 0,
              "ticks": ""
             }
            },
            "type": "scattergeo"
           }
          ],
          "scattergl": [
           {
            "marker": {
             "colorbar": {
              "outlinewidth": 0,
              "ticks": ""
             }
            },
            "type": "scattergl"
           }
          ],
          "scattermap": [
           {
            "marker": {
             "colorbar": {
              "outlinewidth": 0,
              "ticks": ""
             }
            },
            "type": "scattermap"
           }
          ],
          "scattermapbox": [
           {
            "marker": {
             "colorbar": {
              "outlinewidth": 0,
              "ticks": ""
             }
            },
            "type": "scattermapbox"
           }
          ],
          "scatterpolar": [
           {
            "marker": {
             "colorbar": {
              "outlinewidth": 0,
              "ticks": ""
             }
            },
            "type": "scatterpolar"
           }
          ],
          "scatterpolargl": [
           {
            "marker": {
             "colorbar": {
              "outlinewidth": 0,
              "ticks": ""
             }
            },
            "type": "scatterpolargl"
           }
          ],
          "scatterternary": [
           {
            "marker": {
             "colorbar": {
              "outlinewidth": 0,
              "ticks": ""
             }
            },
            "type": "scatterternary"
           }
          ],
          "surface": [
           {
            "colorbar": {
             "outlinewidth": 0,
             "ticks": ""
            },
            "colorscale": [
             [
              0,
              "#0d0887"
             ],
             [
              0.1111111111111111,
              "#46039f"
             ],
             [
              0.2222222222222222,
              "#7201a8"
             ],
             [
              0.3333333333333333,
              "#9c179e"
             ],
             [
              0.4444444444444444,
              "#bd3786"
             ],
             [
              0.5555555555555556,
              "#d8576b"
             ],
             [
              0.6666666666666666,
              "#ed7953"
             ],
             [
              0.7777777777777778,
              "#fb9f3a"
             ],
             [
              0.8888888888888888,
              "#fdca26"
             ],
             [
              1,
              "#f0f921"
             ]
            ],
            "type": "surface"
           }
          ],
          "table": [
           {
            "cells": {
             "fill": {
              "color": "#EBF0F8"
             },
             "line": {
              "color": "white"
             }
            },
            "header": {
             "fill": {
              "color": "#C8D4E3"
             },
             "line": {
              "color": "white"
             }
            },
            "type": "table"
           }
          ]
         },
         "layout": {
          "annotationdefaults": {
           "arrowcolor": "#2a3f5f",
           "arrowhead": 0,
           "arrowwidth": 1
          },
          "autotypenumbers": "strict",
          "coloraxis": {
           "colorbar": {
            "outlinewidth": 0,
            "ticks": ""
           }
          },
          "colorscale": {
           "diverging": [
            [
             0,
             "#8e0152"
            ],
            [
             0.1,
             "#c51b7d"
            ],
            [
             0.2,
             "#de77ae"
            ],
            [
             0.3,
             "#f1b6da"
            ],
            [
             0.4,
             "#fde0ef"
            ],
            [
             0.5,
             "#f7f7f7"
            ],
            [
             0.6,
             "#e6f5d0"
            ],
            [
             0.7,
             "#b8e186"
            ],
            [
             0.8,
             "#7fbc41"
            ],
            [
             0.9,
             "#4d9221"
            ],
            [
             1,
             "#276419"
            ]
           ],
           "sequential": [
            [
             0,
             "#0d0887"
            ],
            [
             0.1111111111111111,
             "#46039f"
            ],
            [
             0.2222222222222222,
             "#7201a8"
            ],
            [
             0.3333333333333333,
             "#9c179e"
            ],
            [
             0.4444444444444444,
             "#bd3786"
            ],
            [
             0.5555555555555556,
             "#d8576b"
            ],
            [
             0.6666666666666666,
             "#ed7953"
            ],
            [
             0.7777777777777778,
             "#fb9f3a"
            ],
            [
             0.8888888888888888,
             "#fdca26"
            ],
            [
             1,
             "#f0f921"
            ]
           ],
           "sequentialminus": [
            [
             0,
             "#0d0887"
            ],
            [
             0.1111111111111111,
             "#46039f"
            ],
            [
             0.2222222222222222,
             "#7201a8"
            ],
            [
             0.3333333333333333,
             "#9c179e"
            ],
            [
             0.4444444444444444,
             "#bd3786"
            ],
            [
             0.5555555555555556,
             "#d8576b"
            ],
            [
             0.6666666666666666,
             "#ed7953"
            ],
            [
             0.7777777777777778,
             "#fb9f3a"
            ],
            [
             0.8888888888888888,
             "#fdca26"
            ],
            [
             1,
             "#f0f921"
            ]
           ]
          },
          "colorway": [
           "#636efa",
           "#EF553B",
           "#00cc96",
           "#ab63fa",
           "#FFA15A",
           "#19d3f3",
           "#FF6692",
           "#B6E880",
           "#FF97FF",
           "#FECB52"
          ],
          "font": {
           "color": "#2a3f5f"
          },
          "geo": {
           "bgcolor": "white",
           "lakecolor": "white",
           "landcolor": "#E5ECF6",
           "showlakes": true,
           "showland": true,
           "subunitcolor": "white"
          },
          "hoverlabel": {
           "align": "left"
          },
          "hovermode": "closest",
          "mapbox": {
           "style": "light"
          },
          "paper_bgcolor": "white",
          "plot_bgcolor": "#E5ECF6",
          "polar": {
           "angularaxis": {
            "gridcolor": "white",
            "linecolor": "white",
            "ticks": ""
           },
           "bgcolor": "#E5ECF6",
           "radialaxis": {
            "gridcolor": "white",
            "linecolor": "white",
            "ticks": ""
           }
          },
          "scene": {
           "xaxis": {
            "backgroundcolor": "#E5ECF6",
            "gridcolor": "white",
            "gridwidth": 2,
            "linecolor": "white",
            "showbackground": true,
            "ticks": "",
            "zerolinecolor": "white"
           },
           "yaxis": {
            "backgroundcolor": "#E5ECF6",
            "gridcolor": "white",
            "gridwidth": 2,
            "linecolor": "white",
            "showbackground": true,
            "ticks": "",
            "zerolinecolor": "white"
           },
           "zaxis": {
            "backgroundcolor": "#E5ECF6",
            "gridcolor": "white",
            "gridwidth": 2,
            "linecolor": "white",
            "showbackground": true,
            "ticks": "",
            "zerolinecolor": "white"
           }
          },
          "shapedefaults": {
           "line": {
            "color": "#2a3f5f"
           }
          },
          "ternary": {
           "aaxis": {
            "gridcolor": "white",
            "linecolor": "white",
            "ticks": ""
           },
           "baxis": {
            "gridcolor": "white",
            "linecolor": "white",
            "ticks": ""
           },
           "bgcolor": "#E5ECF6",
           "caxis": {
            "gridcolor": "white",
            "linecolor": "white",
            "ticks": ""
           }
          },
          "title": {
           "x": 0.05
          },
          "xaxis": {
           "automargin": true,
           "gridcolor": "white",
           "linecolor": "white",
           "ticks": "",
           "title": {
            "standoff": 15
           },
           "zerolinecolor": "white",
           "zerolinewidth": 2
          },
          "yaxis": {
           "automargin": true,
           "gridcolor": "white",
           "linecolor": "white",
           "ticks": "",
           "title": {
            "standoff": 15
           },
           "zerolinecolor": "white",
           "zerolinewidth": 2
          }
         }
        },
        "title": {
         "text": "Total Mean Supply of Non-Renewables vs Renewables in the NEM (2018 - 2025)"
        },
        "xaxis": {
         "anchor": "y",
         "domain": [
          0,
          1
         ],
         "title": {
          "text": "Month"
         }
        },
        "yaxis": {
         "anchor": "x",
         "domain": [
          0,
          1
         ],
         "title": {
          "text": "Mean Supply (MW)"
         }
        }
       }
      }
     },
     "metadata": {},
     "output_type": "display_data"
    }
   ],
   "source": [
    "fig = px.line(total_supply_df, x='Month', y=['Mean Supply (MW) Renewables', 'Mean Supply (MW) Non Renewables'], title='Total Mean Supply of Non-Renewables vs Renewables in the NEM (2018 - 2025)', labels={'value': 'Mean Supply (MW)', 'variable': 'Fuel Type'})\n",
    "fig.update_traces(mode = 'lines+markers')\n",
    "\n",
    "if add_policy_intro_dates: \n",
    "    for date in governmental_policies['Date introduced / announced'].to_list():\n",
    "        fig.add_vline(x = date, line_width = 2, line_dash = 'dash')\n",
    "\n",
    "fig.show()"
   ]
  },
  {
   "cell_type": "markdown",
   "id": "74d999c3",
   "metadata": {},
   "source": [
    "### Generating the Plot for Renewables"
   ]
  },
  {
   "cell_type": "code",
   "execution_count": null,
   "id": "b62d43d1",
   "metadata": {},
   "outputs": [
    {
     "data": {
      "application/vnd.plotly.v1+json": {
       "config": {
        "plotlyServerURL": "https://plot.ly"
       },
       "data": [
        {
         "hovertemplate": "Fuel Type=Battery<br>Month=%{x}<br>Mean Supply (MW)=%{y}<extra></extra>",
         "legendgroup": "Battery",
         "line": {
          "color": "#636efa",
          "dash": "solid"
         },
         "marker": {
          "symbol": "circle"
         },
         "mode": "lines",
         "name": "Battery",
         "orientation": "v",
         "showlegend": true,
         "type": "scatter",
         "x": [
          "2018-01",
          "2018-02",
          "2018-03",
          "2018-04",
          "2018-05",
          "2018-06",
          "2018-07",
          "2018-08",
          "2018-09",
          "2018-10",
          "2018-11",
          "2018-12",
          "2019-01",
          "2019-02",
          "2019-03",
          "2019-04",
          "2019-05",
          "2019-06",
          "2019-07",
          "2019-08",
          "2019-09",
          "2019-10",
          "2019-11",
          "2019-12",
          "2020-01",
          "2020-02",
          "2020-03",
          "2020-04",
          "2020-05",
          "2020-06",
          "2020-07",
          "2020-08",
          "2020-09",
          "2020-10",
          "2020-11",
          "2020-12",
          "2021-01",
          "2021-02",
          "2021-03",
          "2021-04",
          "2021-05",
          "2021-06",
          "2021-07",
          "2021-08",
          "2021-09",
          "2021-10",
          "2021-11",
          "2021-12",
          "2022-01",
          "2022-02",
          "2022-03",
          "2022-04",
          "2022-05",
          "2022-06",
          "2022-07",
          "2022-08",
          "2022-09",
          "2022-10",
          "2022-11",
          "2022-12",
          "2023-01",
          "2023-02",
          "2023-03",
          "2023-04",
          "2023-05",
          "2023-06",
          "2023-07",
          "2023-08",
          "2023-09",
          "2023-10",
          "2023-11",
          "2023-12",
          "2024-01",
          "2024-02",
          "2024-03",
          "2024-04",
          "2024-05",
          "2024-06",
          "2024-07",
          "2024-08",
          "2024-09",
          "2024-10",
          "2024-11",
          "2024-12",
          "2025-01",
          "2025-02",
          "2025-03",
          "2025-04",
          "2025-05",
          "2025-06",
          "2025-07",
          "2025-08"
         ],
         "xaxis": "x",
         "y": {
          "bdata": "6SYxCKwc0j+HFtnO91PlPzvfT42X7gZAzczMzMxME0DdJAaBlUMIQMqhRbbz/fk/AAAAAAAAAADjpZvEIHAVQAAAAAAAAAAAAAAAAAAAAAAX2c73UwMkQOf7qfHSTeI/exSuR+F6ZD8zMzMzMzPzP1YOLbKdbwZAqMZLN4lBBUC+nxov3STkP8/3U+OlOyVAoBov3SQG6z+F61G4HsUbQPp+arx0kxZA16NwPQrXEEDVeOkmMQgfQNv5fmq8dPE/VOOlm8TgHEDXo3A9CtffP+BPjZdukh5AokW28/1UFkAw3SQGgRUbQHe+nxov3Q5AzczMzMzM8D8QWDm0yHYNQAaBlUOLnDFA8KfGSzepLEDgT42XbpIcQFyPwvUozDNAE4PAyqGdQkBuEoPAyiEMQAisHFpkOwdAuB6F61G4fj+iRbbz/dQNQPyp8dJNYkA/9P3UeOkm2T/jpZvEILCiP+J6FK5H4d4/TmIQWDk0JkCPwvUoXI8KQFCNl24Soy5AI9v5fmrMNEAAAAAAAAAUQBbZzvdTczhAJQaBlUNrIkDVeOkmMQgdQIGVQ4ts5+M/Itv5fmrMNUAnMQisHBogQLKd76fGCyVAnMQgsHLIIUBt5/up8aI2QCGwcmiRLRZAnMQgsHKoG0BQjZduEoMfQNv5fmq8dBtAMzMzMzMzLEBCYOXQIhsVQKjGSzeJoSJAcD0K16PwFUDRItv5fmoRQOOlm8Qg4DZAhxbZzvdzMkBlO99Pjcc1QNV46SYxiC5ASzeJQWBlFUCJQWDl0OIoQD0K16NwfRxAhxbZzveTIkCBlUOLbCceQJmZmZmZmQxAbxKDwMqh8z9OYhBYOThXwOOlm8Qg5FTAtMh2vp+aGkA4iUFg5RAfQC2yne+nlkZAK4cW2c6HMEC8dJMYBMYxQFK4HoXrATFAK4cW2c739T/x0k1iEFgTQIGVQ4tsxypAYhBYObSoNkC4HoXrUfgcQA==",
          "dtype": "f8"
         },
         "yaxis": "y"
        },
        {
         "hovertemplate": "Fuel Type=Hydro<br>Month=%{x}<br>Mean Supply (MW)=%{y}<extra></extra>",
         "legendgroup": "Hydro",
         "line": {
          "color": "#EF553B",
          "dash": "solid"
         },
         "marker": {
          "symbol": "circle"
         },
         "mode": "lines",
         "name": "Hydro",
         "orientation": "v",
         "showlegend": true,
         "type": "scatter",
         "x": [
          "2018-01",
          "2018-02",
          "2018-03",
          "2018-04",
          "2018-05",
          "2018-06",
          "2018-07",
          "2018-08",
          "2018-09",
          "2018-10",
          "2018-11",
          "2018-12",
          "2019-01",
          "2019-02",
          "2019-03",
          "2019-04",
          "2019-05",
          "2019-06",
          "2019-07",
          "2019-08",
          "2019-09",
          "2019-10",
          "2019-11",
          "2019-12",
          "2020-01",
          "2020-02",
          "2020-03",
          "2020-04",
          "2020-05",
          "2020-06",
          "2020-07",
          "2020-08",
          "2020-09",
          "2020-10",
          "2020-11",
          "2020-12",
          "2021-01",
          "2021-02",
          "2021-03",
          "2021-04",
          "2021-05",
          "2021-06",
          "2021-07",
          "2021-08",
          "2021-09",
          "2021-10",
          "2021-11",
          "2021-12",
          "2022-01",
          "2022-02",
          "2022-03",
          "2022-04",
          "2022-05",
          "2022-06",
          "2022-07",
          "2022-08",
          "2022-09",
          "2022-10",
          "2022-11",
          "2022-12",
          "2023-01",
          "2023-02",
          "2023-03",
          "2023-04",
          "2023-05",
          "2023-06",
          "2023-07",
          "2023-08",
          "2023-09",
          "2023-10",
          "2023-11",
          "2023-12",
          "2024-01",
          "2024-02",
          "2024-03",
          "2024-04",
          "2024-05",
          "2024-06",
          "2024-07",
          "2024-08",
          "2024-09",
          "2024-10",
          "2024-11",
          "2024-12",
          "2025-01",
          "2025-02",
          "2025-03",
          "2025-04",
          "2025-05",
          "2025-06",
          "2025-07",
          "2025-08"
         ],
         "xaxis": "x",
         "y": {
          "bdata": "UrgeheuIkUB1kxgE1iOPQBSuR+H6N5BAKVyPwrVolECClUOLrJ2aQEA1Xrppe6BAHFpkOx+olkDTTWIQmKGXQDq0yHb+EpdABFYOLbJSikCHFtnON8iSQBbZzvdTF4VAK4cW2U6HiUAAAAAAgBSAQA4tsp1vjIpAgZVDi2xygUAIrBxaZNyPQKJFtvN9OJFACKwcWuQ9lUDfT42XbiGRQHA9Ctejd5JAXrpJDAKuiUCiRbbz/TmHQKrx0k1iqIZAsHJoke3+hEBU46WbBFiRQFCNl26S8YZAdZMYBNY3kEB3vp8abxaRQBBYObRIEZZAPgrXo3BLhkC+nxov3aqEQJHtfD91zJBACtejcD2Jk0CYbhKDwAWFQLbz/dR4pYRAtvP91PhBh0CXbhKDQFWKQJhuEoPAXoVAokW28/1DkEAEVg4tsiiUQFyPwvWomZNApHA9ClfkjUDpJjEILOWRQG4Sg8DKVo9AvHSTGMRkkkArhxbZTpSSQObQItu5IZFA7FG4HgVukUC28/3UeCCRQDeJQWClsZNAqvHSTeKAjEDAyqFFNoKSQOomMQgsaZ1ACKwcWmTAlEDLoUW2s3KXQBkEVg7tCZBAkML1KJz/kkCuR+F61KSYQOF6FK7HyYpAI9v5fqrdk0AW2c7301iHQKjGSzeJEJJA7nw/NZ5um0ApXI/CNbGQQGIQWDn0npVAH4XrUThcmUC8dJMYhAOYQEOLbOdbp6BA46WbxOCVkUC5HoXrUZeJQCuHFtnOvYNAaZHtfD+hjUA1XrpJzBeQQAisHFpkMopAgZVDi+y5i0CEwMqhxfqOQNv5fmq8d4pAtMh2vp9gikC6SQwCqyGLQI2XbhKDmI1AFK5H4TpImUCS7Xw/tRmNQBBYObQIpJBARbbz/VSMiUDLoUW2cwSNQEw3iUFgD4pAYOXQIttlhECPwvUo3GiNQE5iEFi5S4lAYOXQIlsNmECgGi/dZCCTQA==",
          "dtype": "f8"
         },
         "yaxis": "y"
        },
        {
         "hovertemplate": "Fuel Type=Biomass<br>Month=%{x}<br>Mean Supply (MW)=%{y}<extra></extra>",
         "legendgroup": "Biomass",
         "line": {
          "color": "#00cc96",
          "dash": "solid"
         },
         "marker": {
          "symbol": "circle"
         },
         "mode": "lines",
         "name": "Biomass",
         "orientation": "v",
         "showlegend": true,
         "type": "scatter",
         "x": [
          "2018-01",
          "2018-02",
          "2018-03",
          "2018-04",
          "2018-05",
          "2018-06",
          "2018-07",
          "2018-08",
          "2018-09",
          "2018-10",
          "2018-11",
          "2018-12",
          "2019-01",
          "2019-02",
          "2019-03",
          "2019-04",
          "2019-05",
          "2019-06",
          "2019-07",
          "2019-08",
          "2019-09",
          "2019-10",
          "2019-11",
          "2019-12",
          "2020-01",
          "2020-02",
          "2020-03",
          "2020-04",
          "2020-05",
          "2020-06",
          "2020-07",
          "2020-08",
          "2020-09",
          "2020-10",
          "2020-11",
          "2020-12",
          "2021-01",
          "2021-02",
          "2021-03",
          "2021-04",
          "2021-05",
          "2021-06",
          "2021-07",
          "2021-08",
          "2021-09",
          "2021-10",
          "2021-11",
          "2021-12",
          "2022-01",
          "2022-02",
          "2022-03",
          "2022-04",
          "2022-05",
          "2022-06",
          "2022-07",
          "2022-08",
          "2022-09",
          "2022-10",
          "2022-11",
          "2022-12",
          "2023-01",
          "2023-02",
          "2023-03",
          "2023-04",
          "2023-05",
          "2023-06",
          "2023-07",
          "2023-08",
          "2023-09",
          "2023-10",
          "2023-11",
          "2023-12",
          "2024-01",
          "2024-02",
          "2024-03",
          "2024-04",
          "2024-05",
          "2024-06",
          "2024-07",
          "2024-08",
          "2024-09",
          "2024-10",
          "2024-11",
          "2024-12",
          "2025-01",
          "2025-02",
          "2025-03",
          "2025-04",
          "2025-05",
          "2025-06",
          "2025-07",
          "2025-08"
         ],
         "xaxis": "x",
         "y": {
          "bdata": "OrTIdr6/KEA3iUFg5ZAoQGZmZmZmZgBAO99PjZfuC0B3vp8aL90NQAAAAAAAgB9AnMQgsHLoPUCBlUOLbKdLQOj7qfHS7UZAAAAAAAAARkC28/3UeNk5QM73U+OlezpAmpmZmZlZPUCe76fGS/c6QM73U+OlGzpAAAAAAAAAAAAAAAAAAAAAAA4tsp3vb0dAaJHtfD/VREDb+X5qvOxNQJqZmZmZ+UNAhMDKoUVmPEC0yHa+nxpCQNEi2/l+6jhA6Pup8dIdOUDO91Pjpbs9QGZmZmZm5i5AAAAAAAAAEEAAAAAAAAAAAJqZmZmZWS9AMzMzMzMzLkBmZmZmZoY4QM/3U+Olq0ZAg8DKoUWGOUDo+6nx0i1DQDVeukkM4ixAaJHtfD/VP0ACK4cW2e4sQAAAAAAAAAAAAAAAAAAAAADRItv5fioaQNJNYhBY2SJAaJHtfD/VPUD0/dR46c5AQDzfT42Xri9AoBov3SRmK0BmZmZmZkYyQBsv3SQGkTNAaJHtfD/VLUBqvHSTGEQsQAAAAAAAAAAAAAAAAAAAAAAAAAAAAAAAAM3MzMzMzApAnu+nxkv3J0AaL90kBnE/QIKVQ4tslz1AaZHtfD9VLkAzMzMzMwNIQOf7qfHS7UNAMzMzMzMzH0CWQ4ts57sdQDMzMzMzM+O/zczMzMzM3L8hsHJoke3ivxov3SQGkTlAAiuHFtluIUBSuB6F6xlRQFTjpZvEuExAaJHtfD+hUEBwPQrXo8BLQJduEoPAOjlAOIlBYOXwM0AQWDm0yFYqQJQYBFYODThAMzMzMzOzO0AehetRuN4lQFCNl24SAz9AMQisHFpkRkA2XrpJDKJMQCcxCKwcPlRA9P3UeOnWUEC4HoXrUVBMQKrx0k1i6EFA9P3UeOnmGEDKoUW28607QBov3SQG0ThAlkOLbOfbL0ASg8DKoQUuQPYoXI/CNU9A8tJNYhBkU0AOLbKd70dEQA==",
          "dtype": "f8"
         },
         "yaxis": "y"
        },
        {
         "hovertemplate": "Fuel Type=Wind<br>Month=%{x}<br>Mean Supply (MW)=%{y}<extra></extra>",
         "legendgroup": "Wind",
         "line": {
          "color": "#ab63fa",
          "dash": "solid"
         },
         "marker": {
          "symbol": "circle"
         },
         "mode": "lines",
         "name": "Wind",
         "orientation": "v",
         "showlegend": true,
         "type": "scatter",
         "x": [
          "2018-01",
          "2018-02",
          "2018-03",
          "2018-04",
          "2018-05",
          "2018-06",
          "2018-07",
          "2018-08",
          "2018-09",
          "2018-10",
          "2018-11",
          "2018-12",
          "2019-01",
          "2019-02",
          "2019-03",
          "2019-04",
          "2019-05",
          "2019-06",
          "2019-07",
          "2019-08",
          "2019-09",
          "2019-10",
          "2019-11",
          "2019-12",
          "2020-01",
          "2020-02",
          "2020-03",
          "2020-04",
          "2020-05",
          "2020-06",
          "2020-07",
          "2020-08",
          "2020-09",
          "2020-10",
          "2020-11",
          "2020-12",
          "2021-01",
          "2021-02",
          "2021-03",
          "2021-04",
          "2021-05",
          "2021-06",
          "2021-07",
          "2021-08",
          "2021-09",
          "2021-10",
          "2021-11",
          "2021-12",
          "2022-01",
          "2022-02",
          "2022-03",
          "2022-04",
          "2022-05",
          "2022-06",
          "2022-07",
          "2022-08",
          "2022-09",
          "2022-10",
          "2022-11",
          "2022-12",
          "2023-01",
          "2023-02",
          "2023-03",
          "2023-04",
          "2023-05",
          "2023-06",
          "2023-07",
          "2023-08",
          "2023-09",
          "2023-10",
          "2023-11",
          "2023-12",
          "2024-01",
          "2024-02",
          "2024-03",
          "2024-04",
          "2024-05",
          "2024-06",
          "2024-07",
          "2024-08",
          "2024-09",
          "2024-10",
          "2024-11",
          "2024-12",
          "2025-01",
          "2025-02",
          "2025-03",
          "2025-04",
          "2025-05",
          "2025-06",
          "2025-07",
          "2025-08"
         ],
         "xaxis": "x",
         "y": {
          "bdata": "+FPjpRvOmkChRbbzPbecQNEi2/n+8ZpAqMZLNwlml0BeukkMwmucQJVDi2xn6ZxADy2yna/Xn0CHFtnOV9+gQKwcWmS7yJ9A8KfGS7fTlUCHFtnON2CYQIXrUbheOaJAukkMAus1lkAQWDm0qFqhQBBYObQIOZNAXI/C9Whrn0BSuB6Fy1+gQJDC9Shcr55AikFg5VB1mUDAyqFFFgKhQDq0yHa+WZdAVg4tsl0YoUA1XrpJLOygQBSuR+GapqJAhMDKocURiUDwp8ZLt/GMQFYOLbIdY5tAuR6F6xF1nkCPwvUofKCgQDVeukkM7aBA6Pup8dJPokCwcmiRbbOkQGq8dJO4CKRAxks3ieFyoEA6tMh2vhuhQH0/NV569KJAJQaBlUOcmUDfT42XLuqeQHnpJjEIv55Abef7qbGWokB1kxgEVkOhQF66SQwiP6JAoBov3cTaqkDeJAaBVRudQMh2vp+aV6RA+FPjpVvIo0ApXI/CdYmlQAaBlUOriqFA9P3UeCkolkA6tMh2PiSbQOomMQhsCaRAFK5H4XrTnEArhxbZjmieQJduEoPAZ6RA9P3UeKlGp0DNzMzMrH6kQP7UeOmGZaVA/Knx0s3ZpUCHFtnO9w6rQH9qvHRTQadAkML1KFxgl0A6tMh2vseiQNejcD2qZaBAWmQ73y+IoUDLoUW2M9qrQGIQWDl0zahAAAAAAAAoqECHFtnOl8egQEA1XrpJNJlA001iELilo0Dn+6nxkrSiQHNoke1cDaNA+FPjpdvQmEAW2c73Uw+WQJ3vp8ZrS6hA5KWbxGCBo0B7FK5HYaqmQHE9Ctcj05hAJjEIrJxOpEDiehSuJyelQIXrUbh+YKdA6Pup8dLflUBeukkMgl6kQFCNl25SqplAJzEIrFyoqUBiEFg5VKKnQLpJDAIrhJdAx0s3iYGsn0BU46Wb5H+nQPp+arw0ealAVg4tsr2GqkC+nxov/fCmQA==",
          "dtype": "f8"
         },
         "yaxis": "y"
        },
        {
         "hovertemplate": "Fuel Type=Distributed PV<br>Month=%{x}<br>Mean Supply (MW)=%{y}<extra></extra>",
         "legendgroup": "Distributed PV",
         "line": {
          "color": "#FFA15A",
          "dash": "solid"
         },
         "marker": {
          "symbol": "circle"
         },
         "mode": "lines",
         "name": "Distributed PV",
         "orientation": "v",
         "showlegend": true,
         "type": "scatter",
         "x": [
          "2018-01",
          "2018-02",
          "2018-03",
          "2018-04",
          "2018-05",
          "2018-06",
          "2018-07",
          "2018-08",
          "2018-09",
          "2018-10",
          "2018-11",
          "2018-12",
          "2019-01",
          "2019-02",
          "2019-03",
          "2019-04",
          "2019-05",
          "2019-06",
          "2019-07",
          "2019-08",
          "2019-09",
          "2019-10",
          "2019-11",
          "2019-12",
          "2020-01",
          "2020-02",
          "2020-03",
          "2020-04",
          "2020-05",
          "2020-06",
          "2020-07",
          "2020-08",
          "2020-09",
          "2020-10",
          "2020-11",
          "2020-12",
          "2021-01",
          "2021-02",
          "2021-03",
          "2021-04",
          "2021-05",
          "2021-06",
          "2021-07",
          "2021-08",
          "2021-09",
          "2021-10",
          "2021-11",
          "2021-12",
          "2022-01",
          "2022-02",
          "2022-03",
          "2022-04",
          "2022-05",
          "2022-06",
          "2022-07",
          "2022-08",
          "2022-09",
          "2022-10",
          "2022-11",
          "2022-12",
          "2023-01",
          "2023-02",
          "2023-03",
          "2023-04",
          "2023-05",
          "2023-06",
          "2023-07",
          "2023-08",
          "2023-09",
          "2023-10",
          "2023-11",
          "2023-12",
          "2024-01",
          "2024-02",
          "2024-03",
          "2024-04",
          "2024-05",
          "2024-06",
          "2024-07",
          "2024-08",
          "2024-09",
          "2024-10",
          "2024-11",
          "2024-12",
          "2025-01",
          "2025-02",
          "2025-03",
          "2025-04",
          "2025-05",
          "2025-06",
          "2025-07",
          "2025-08"
         ],
         "xaxis": "x",
         "y": {
          "bdata": "z/dT4yVJnkBI4XoU7j6aQPp+arx0IJhAsp3vp4YCmEDP91Pj5UiSQE5iEFg5+5JAnMQgsLIql0C+nxovnZ2aQGQ7308NRpxAPQrXozC2oEAv3SQGgf+dQKAaL93kTZ9Ax0s3iYF2oEBYObTItuGfQKRwPQqXCJ5AcT0K18OmoEAUrkfhOnSZQKJFtvP9gJhA9ihcjyJsoECYbhKDIEGhQARWDi1Si6FAK4cW2U46m0DD9ShcD3mmQL6fGi+9WaRA46WbxOBhp0C6SQwCC7GmQFCNl24Sq6ZAi2zn+wlzokBaZDvfr+qhQA4tsp2vkZtA9P3UeGnBoUB7FK5HgaSkQKjGSzfpdKZAI9v5foqtp0CkcD0KF6+pQAIrhxYZ7KlAi2zn+8lSqkBg5dAi+42rQJhuEoMAOqhAVOOlm8QYpkBOYhBY+WikQAwCK4fWbaRA9ihcj0LmpUB9PzVeekmsQDVeukmMbq1Ax0s3iUHVr0DFILByCNWwQAAAAAAgK7BAHVpkO//PsEDVeOkm0eyuQESLbOd7w6hAFK5H4Robq0Bcj8L1yLarQG8Sg8AKB6hAMQisHBqoqkDl0CLbmeytQJMYBFZuYK9AYOXQImt3skDb+X5qrPGxQIts5/up6bJAhetRuK6GtUBqvHSTiEi2QLKd76f2DrNA16NwPUpfq0A1XrpJ7O+vQOkmMQiMoaxAzczMzAyNrUBKDAIr18ewQAwCK4eGeLRAke18P1XStkCmm8QgQHO2QCcxCKxMGLZAxSCwcqh3tECLbOf7uY60QEa28/2kLrZAVg4tsh3ksUC28/3UCFqwQMUgsHI44bBAj8L1KFzqs0BGtvP9BCO1QLTIdr4fKbVAlkOLbCc3vEDpJjEIbC66QMHKoUUmN7tAcT0K13M8ukBoke18n764QJHtfD/l2LpARIts58vYt0BmZmZm1sqyQESLbOf7SLFAL90kBpGHs0DjpZvEQK2zQA==",
          "dtype": "f8"
         },
         "yaxis": "y"
        },
        {
         "hovertemplate": "Fuel Type=Utility-scale Solar<br>Month=%{x}<br>Mean Supply (MW)=%{y}<extra></extra>",
         "legendgroup": "Utility-scale Solar",
         "line": {
          "color": "#19d3f3",
          "dash": "solid"
         },
         "marker": {
          "symbol": "circle"
         },
         "mode": "lines",
         "name": "Utility-scale Solar",
         "orientation": "v",
         "showlegend": true,
         "type": "scatter",
         "x": [
          "2018-01",
          "2018-02",
          "2018-03",
          "2018-04",
          "2018-05",
          "2018-06",
          "2018-07",
          "2018-08",
          "2018-09",
          "2018-10",
          "2018-11",
          "2018-12",
          "2019-01",
          "2019-02",
          "2019-03",
          "2019-04",
          "2019-05",
          "2019-06",
          "2019-07",
          "2019-08",
          "2019-09",
          "2019-10",
          "2019-11",
          "2019-12",
          "2020-01",
          "2020-02",
          "2020-03",
          "2020-04",
          "2020-05",
          "2020-06",
          "2020-07",
          "2020-08",
          "2020-09",
          "2020-10",
          "2020-11",
          "2020-12",
          "2021-01",
          "2021-02",
          "2021-03",
          "2021-04",
          "2021-05",
          "2021-06",
          "2021-07",
          "2021-08",
          "2021-09",
          "2021-10",
          "2021-11",
          "2021-12",
          "2022-01",
          "2022-02",
          "2022-03",
          "2022-04",
          "2022-05",
          "2022-06",
          "2022-07",
          "2022-08",
          "2022-09",
          "2022-10",
          "2022-11",
          "2022-12",
          "2023-01",
          "2023-02",
          "2023-03",
          "2023-04",
          "2023-05",
          "2023-06",
          "2023-07",
          "2023-08",
          "2023-09",
          "2023-10",
          "2023-11",
          "2023-12",
          "2024-01",
          "2024-02",
          "2024-03",
          "2024-04",
          "2024-05",
          "2024-06",
          "2024-07",
          "2024-08",
          "2024-09",
          "2024-10",
          "2024-11",
          "2024-12",
          "2025-01",
          "2025-02",
          "2025-03",
          "2025-04",
          "2025-05",
          "2025-06",
          "2025-07",
          "2025-08"
         ],
         "xaxis": "x",
         "y": {
          "bdata": "SgwCK4fWYEBDi2zn+5NhQHA9CtejrmJAexSuR+GAZEBg5dAi27ljQK5H4XoUuGVA8KfGSzdrcEBI4XoUrjxyQDm0yHa+SndABFYOLTLkgEAGgZVDC5OCQOtRuB6FGoNAeOkmMYgHh0DHSzeJwXGBQM3MzMzMeIVA1XjpJjG9hkBSuB6F68mFQOf7qfFSIYpA46WbxCD/i0D2KFyPQgaKQIcW2c73zo1AppvEIHCTkEBBYOXQYoCQQGHl0CIbJ5BAmpmZmRmhkUAW2c730/+RQKRwPQpXyJBAiBbZzvfAj0CKQWDl0N6LQFYOLbKdBIhALbKd7ydMjkBnZmZmZgaRQCCwcmjRAJJACKwcWuQSkkB9PzVe+tiUQGDl0CKbQJJAObTIdv7GlUBPjZduEgOZQBWuR+G6UZZABoGVQ8uakUDP91PjJYyUQDQzMzPzSZRAGQRWDu19kkAVrkfhet6PQO18PzXeCpdAQ4ts5/vxlUBLN4lBIDOWQOBPjZfOxKBATDeJQWD3nEAAAAAAIAegQJzEILCyH5tA4XoUrofqmkCsHFpke5abQLpJDAIr85VAz/dT4yUonUATg8DKIceVQI6XbhLDDJVAObTIdr7gnECNl24SQ1qbQKwcWmS7A55A4noUrqddpECS7Xw/taaiQFg5tMgWNaBA2c73UyOgnUCJQWDlENWYQJLtfD91+Z9AFtnO99PuoECfGi/dRCqkQNEi2/m+yaNAfT81XlppokARWDm0yGOcQMuhRbYzwKNA3SQGgdXsokCDwMqhhSynQKrx0k3iOKVAeekmMcjboEAv3SQGwfGfQPLSTWLQh6BAPN9Pjff6oEBcj8L1KNygQGu8dJPYLKRA0SLb+R55oEDC9Shcz4mnQFCNl27yHqdAjpduEsO3qEAxCKwc2tmlQGu8dJO4pqhAppvEILAbm0BvEoPAShSeQB+F61H49aRAukkMAgv+o0BfukkMYl6mQA==",
          "dtype": "f8"
         },
         "yaxis": "y"
        }
       ],
       "layout": {
        "legend": {
         "title": {
          "text": "Fuel Type"
         },
         "tracegroupgap": 0
        },
        "shapes": [
         {
          "line": {
           "dash": "dash",
           "width": 2
          },
          "type": "line",
          "x0": "2019-11-22T00:00:00",
          "x1": "2019-11-22T00:00:00",
          "xref": "x",
          "y0": 0,
          "y1": 1,
          "yref": "y domain"
         },
         {
          "line": {
           "dash": "dash",
           "width": 2
          },
          "type": "line",
          "x0": "2019-11-22T00:00:00",
          "x1": "2019-11-22T00:00:00",
          "xref": "x",
          "y0": 0,
          "y1": 1,
          "yref": "y domain"
         },
         {
          "line": {
           "dash": "dash",
           "width": 2
          },
          "type": "line",
          "x0": "2020-05-21T00:00:00",
          "x1": "2020-05-21T00:00:00",
          "xref": "x",
          "y0": 0,
          "y1": 1,
          "yref": "y domain"
         },
         {
          "line": {
           "dash": "dash",
           "width": 2
          },
          "type": "line",
          "x0": "2021-11-02T00:00:00",
          "x1": "2021-11-02T00:00:00",
          "xref": "x",
          "y0": 0,
          "y1": 1,
          "yref": "y domain"
         },
         {
          "line": {
           "dash": "dash",
           "width": 2
          },
          "type": "line",
          "x0": "2021-12-03T00:00:00",
          "x1": "2021-12-03T00:00:00",
          "xref": "x",
          "y0": 0,
          "y1": 1,
          "yref": "y domain"
         },
         {
          "line": {
           "dash": "dash",
           "width": 2
          },
          "type": "line",
          "x0": "2022-07-27T00:00:00",
          "x1": "2022-07-27T00:00:00",
          "xref": "x",
          "y0": 0,
          "y1": 1,
          "yref": "y domain"
         },
         {
          "line": {
           "dash": "dash",
           "width": 2
          },
          "type": "line",
          "x0": "2022-10-19T00:00:00",
          "x1": "2022-10-19T00:00:00",
          "xref": "x",
          "y0": 0,
          "y1": 1,
          "yref": "y domain"
         },
         {
          "line": {
           "dash": "dash",
           "width": 2
          },
          "type": "line",
          "x0": "2022-12-08T00:00:00",
          "x1": "2022-12-08T00:00:00",
          "xref": "x",
          "y0": 0,
          "y1": 1,
          "yref": "y domain"
         },
         {
          "line": {
           "dash": "dash",
           "width": 2
          },
          "type": "line",
          "x0": "2023-03-30T00:00:00",
          "x1": "2023-03-30T00:00:00",
          "xref": "x",
          "y0": 0,
          "y1": 1,
          "yref": "y domain"
         },
         {
          "line": {
           "dash": "dash",
           "width": 2
          },
          "type": "line",
          "x0": "2024-03-28T00:00:00",
          "x1": "2024-03-28T00:00:00",
          "xref": "x",
          "y0": 0,
          "y1": 1,
          "yref": "y domain"
         }
        ],
        "template": {
         "data": {
          "bar": [
           {
            "error_x": {
             "color": "#2a3f5f"
            },
            "error_y": {
             "color": "#2a3f5f"
            },
            "marker": {
             "line": {
              "color": "#E5ECF6",
              "width": 0.5
             },
             "pattern": {
              "fillmode": "overlay",
              "size": 10,
              "solidity": 0.2
             }
            },
            "type": "bar"
           }
          ],
          "barpolar": [
           {
            "marker": {
             "line": {
              "color": "#E5ECF6",
              "width": 0.5
             },
             "pattern": {
              "fillmode": "overlay",
              "size": 10,
              "solidity": 0.2
             }
            },
            "type": "barpolar"
           }
          ],
          "carpet": [
           {
            "aaxis": {
             "endlinecolor": "#2a3f5f",
             "gridcolor": "white",
             "linecolor": "white",
             "minorgridcolor": "white",
             "startlinecolor": "#2a3f5f"
            },
            "baxis": {
             "endlinecolor": "#2a3f5f",
             "gridcolor": "white",
             "linecolor": "white",
             "minorgridcolor": "white",
             "startlinecolor": "#2a3f5f"
            },
            "type": "carpet"
           }
          ],
          "choropleth": [
           {
            "colorbar": {
             "outlinewidth": 0,
             "ticks": ""
            },
            "type": "choropleth"
           }
          ],
          "contour": [
           {
            "colorbar": {
             "outlinewidth": 0,
             "ticks": ""
            },
            "colorscale": [
             [
              0,
              "#0d0887"
             ],
             [
              0.1111111111111111,
              "#46039f"
             ],
             [
              0.2222222222222222,
              "#7201a8"
             ],
             [
              0.3333333333333333,
              "#9c179e"
             ],
             [
              0.4444444444444444,
              "#bd3786"
             ],
             [
              0.5555555555555556,
              "#d8576b"
             ],
             [
              0.6666666666666666,
              "#ed7953"
             ],
             [
              0.7777777777777778,
              "#fb9f3a"
             ],
             [
              0.8888888888888888,
              "#fdca26"
             ],
             [
              1,
              "#f0f921"
             ]
            ],
            "type": "contour"
           }
          ],
          "contourcarpet": [
           {
            "colorbar": {
             "outlinewidth": 0,
             "ticks": ""
            },
            "type": "contourcarpet"
           }
          ],
          "heatmap": [
           {
            "colorbar": {
             "outlinewidth": 0,
             "ticks": ""
            },
            "colorscale": [
             [
              0,
              "#0d0887"
             ],
             [
              0.1111111111111111,
              "#46039f"
             ],
             [
              0.2222222222222222,
              "#7201a8"
             ],
             [
              0.3333333333333333,
              "#9c179e"
             ],
             [
              0.4444444444444444,
              "#bd3786"
             ],
             [
              0.5555555555555556,
              "#d8576b"
             ],
             [
              0.6666666666666666,
              "#ed7953"
             ],
             [
              0.7777777777777778,
              "#fb9f3a"
             ],
             [
              0.8888888888888888,
              "#fdca26"
             ],
             [
              1,
              "#f0f921"
             ]
            ],
            "type": "heatmap"
           }
          ],
          "histogram": [
           {
            "marker": {
             "pattern": {
              "fillmode": "overlay",
              "size": 10,
              "solidity": 0.2
             }
            },
            "type": "histogram"
           }
          ],
          "histogram2d": [
           {
            "colorbar": {
             "outlinewidth": 0,
             "ticks": ""
            },
            "colorscale": [
             [
              0,
              "#0d0887"
             ],
             [
              0.1111111111111111,
              "#46039f"
             ],
             [
              0.2222222222222222,
              "#7201a8"
             ],
             [
              0.3333333333333333,
              "#9c179e"
             ],
             [
              0.4444444444444444,
              "#bd3786"
             ],
             [
              0.5555555555555556,
              "#d8576b"
             ],
             [
              0.6666666666666666,
              "#ed7953"
             ],
             [
              0.7777777777777778,
              "#fb9f3a"
             ],
             [
              0.8888888888888888,
              "#fdca26"
             ],
             [
              1,
              "#f0f921"
             ]
            ],
            "type": "histogram2d"
           }
          ],
          "histogram2dcontour": [
           {
            "colorbar": {
             "outlinewidth": 0,
             "ticks": ""
            },
            "colorscale": [
             [
              0,
              "#0d0887"
             ],
             [
              0.1111111111111111,
              "#46039f"
             ],
             [
              0.2222222222222222,
              "#7201a8"
             ],
             [
              0.3333333333333333,
              "#9c179e"
             ],
             [
              0.4444444444444444,
              "#bd3786"
             ],
             [
              0.5555555555555556,
              "#d8576b"
             ],
             [
              0.6666666666666666,
              "#ed7953"
             ],
             [
              0.7777777777777778,
              "#fb9f3a"
             ],
             [
              0.8888888888888888,
              "#fdca26"
             ],
             [
              1,
              "#f0f921"
             ]
            ],
            "type": "histogram2dcontour"
           }
          ],
          "mesh3d": [
           {
            "colorbar": {
             "outlinewidth": 0,
             "ticks": ""
            },
            "type": "mesh3d"
           }
          ],
          "parcoords": [
           {
            "line": {
             "colorbar": {
              "outlinewidth": 0,
              "ticks": ""
             }
            },
            "type": "parcoords"
           }
          ],
          "pie": [
           {
            "automargin": true,
            "type": "pie"
           }
          ],
          "scatter": [
           {
            "fillpattern": {
             "fillmode": "overlay",
             "size": 10,
             "solidity": 0.2
            },
            "type": "scatter"
           }
          ],
          "scatter3d": [
           {
            "line": {
             "colorbar": {
              "outlinewidth": 0,
              "ticks": ""
             }
            },
            "marker": {
             "colorbar": {
              "outlinewidth": 0,
              "ticks": ""
             }
            },
            "type": "scatter3d"
           }
          ],
          "scattercarpet": [
           {
            "marker": {
             "colorbar": {
              "outlinewidth": 0,
              "ticks": ""
             }
            },
            "type": "scattercarpet"
           }
          ],
          "scattergeo": [
           {
            "marker": {
             "colorbar": {
              "outlinewidth": 0,
              "ticks": ""
             }
            },
            "type": "scattergeo"
           }
          ],
          "scattergl": [
           {
            "marker": {
             "colorbar": {
              "outlinewidth": 0,
              "ticks": ""
             }
            },
            "type": "scattergl"
           }
          ],
          "scattermap": [
           {
            "marker": {
             "colorbar": {
              "outlinewidth": 0,
              "ticks": ""
             }
            },
            "type": "scattermap"
           }
          ],
          "scattermapbox": [
           {
            "marker": {
             "colorbar": {
              "outlinewidth": 0,
              "ticks": ""
             }
            },
            "type": "scattermapbox"
           }
          ],
          "scatterpolar": [
           {
            "marker": {
             "colorbar": {
              "outlinewidth": 0,
              "ticks": ""
             }
            },
            "type": "scatterpolar"
           }
          ],
          "scatterpolargl": [
           {
            "marker": {
             "colorbar": {
              "outlinewidth": 0,
              "ticks": ""
             }
            },
            "type": "scatterpolargl"
           }
          ],
          "scatterternary": [
           {
            "marker": {
             "colorbar": {
              "outlinewidth": 0,
              "ticks": ""
             }
            },
            "type": "scatterternary"
           }
          ],
          "surface": [
           {
            "colorbar": {
             "outlinewidth": 0,
             "ticks": ""
            },
            "colorscale": [
             [
              0,
              "#0d0887"
             ],
             [
              0.1111111111111111,
              "#46039f"
             ],
             [
              0.2222222222222222,
              "#7201a8"
             ],
             [
              0.3333333333333333,
              "#9c179e"
             ],
             [
              0.4444444444444444,
              "#bd3786"
             ],
             [
              0.5555555555555556,
              "#d8576b"
             ],
             [
              0.6666666666666666,
              "#ed7953"
             ],
             [
              0.7777777777777778,
              "#fb9f3a"
             ],
             [
              0.8888888888888888,
              "#fdca26"
             ],
             [
              1,
              "#f0f921"
             ]
            ],
            "type": "surface"
           }
          ],
          "table": [
           {
            "cells": {
             "fill": {
              "color": "#EBF0F8"
             },
             "line": {
              "color": "white"
             }
            },
            "header": {
             "fill": {
              "color": "#C8D4E3"
             },
             "line": {
              "color": "white"
             }
            },
            "type": "table"
           }
          ]
         },
         "layout": {
          "annotationdefaults": {
           "arrowcolor": "#2a3f5f",
           "arrowhead": 0,
           "arrowwidth": 1
          },
          "autotypenumbers": "strict",
          "coloraxis": {
           "colorbar": {
            "outlinewidth": 0,
            "ticks": ""
           }
          },
          "colorscale": {
           "diverging": [
            [
             0,
             "#8e0152"
            ],
            [
             0.1,
             "#c51b7d"
            ],
            [
             0.2,
             "#de77ae"
            ],
            [
             0.3,
             "#f1b6da"
            ],
            [
             0.4,
             "#fde0ef"
            ],
            [
             0.5,
             "#f7f7f7"
            ],
            [
             0.6,
             "#e6f5d0"
            ],
            [
             0.7,
             "#b8e186"
            ],
            [
             0.8,
             "#7fbc41"
            ],
            [
             0.9,
             "#4d9221"
            ],
            [
             1,
             "#276419"
            ]
           ],
           "sequential": [
            [
             0,
             "#0d0887"
            ],
            [
             0.1111111111111111,
             "#46039f"
            ],
            [
             0.2222222222222222,
             "#7201a8"
            ],
            [
             0.3333333333333333,
             "#9c179e"
            ],
            [
             0.4444444444444444,
             "#bd3786"
            ],
            [
             0.5555555555555556,
             "#d8576b"
            ],
            [
             0.6666666666666666,
             "#ed7953"
            ],
            [
             0.7777777777777778,
             "#fb9f3a"
            ],
            [
             0.8888888888888888,
             "#fdca26"
            ],
            [
             1,
             "#f0f921"
            ]
           ],
           "sequentialminus": [
            [
             0,
             "#0d0887"
            ],
            [
             0.1111111111111111,
             "#46039f"
            ],
            [
             0.2222222222222222,
             "#7201a8"
            ],
            [
             0.3333333333333333,
             "#9c179e"
            ],
            [
             0.4444444444444444,
             "#bd3786"
            ],
            [
             0.5555555555555556,
             "#d8576b"
            ],
            [
             0.6666666666666666,
             "#ed7953"
            ],
            [
             0.7777777777777778,
             "#fb9f3a"
            ],
            [
             0.8888888888888888,
             "#fdca26"
            ],
            [
             1,
             "#f0f921"
            ]
           ]
          },
          "colorway": [
           "#636efa",
           "#EF553B",
           "#00cc96",
           "#ab63fa",
           "#FFA15A",
           "#19d3f3",
           "#FF6692",
           "#B6E880",
           "#FF97FF",
           "#FECB52"
          ],
          "font": {
           "color": "#2a3f5f"
          },
          "geo": {
           "bgcolor": "white",
           "lakecolor": "white",
           "landcolor": "#E5ECF6",
           "showlakes": true,
           "showland": true,
           "subunitcolor": "white"
          },
          "hoverlabel": {
           "align": "left"
          },
          "hovermode": "closest",
          "mapbox": {
           "style": "light"
          },
          "paper_bgcolor": "white",
          "plot_bgcolor": "#E5ECF6",
          "polar": {
           "angularaxis": {
            "gridcolor": "white",
            "linecolor": "white",
            "ticks": ""
           },
           "bgcolor": "#E5ECF6",
           "radialaxis": {
            "gridcolor": "white",
            "linecolor": "white",
            "ticks": ""
           }
          },
          "scene": {
           "xaxis": {
            "backgroundcolor": "#E5ECF6",
            "gridcolor": "white",
            "gridwidth": 2,
            "linecolor": "white",
            "showbackground": true,
            "ticks": "",
            "zerolinecolor": "white"
           },
           "yaxis": {
            "backgroundcolor": "#E5ECF6",
            "gridcolor": "white",
            "gridwidth": 2,
            "linecolor": "white",
            "showbackground": true,
            "ticks": "",
            "zerolinecolor": "white"
           },
           "zaxis": {
            "backgroundcolor": "#E5ECF6",
            "gridcolor": "white",
            "gridwidth": 2,
            "linecolor": "white",
            "showbackground": true,
            "ticks": "",
            "zerolinecolor": "white"
           }
          },
          "shapedefaults": {
           "line": {
            "color": "#2a3f5f"
           }
          },
          "ternary": {
           "aaxis": {
            "gridcolor": "white",
            "linecolor": "white",
            "ticks": ""
           },
           "baxis": {
            "gridcolor": "white",
            "linecolor": "white",
            "ticks": ""
           },
           "bgcolor": "#E5ECF6",
           "caxis": {
            "gridcolor": "white",
            "linecolor": "white",
            "ticks": ""
           }
          },
          "title": {
           "x": 0.05
          },
          "xaxis": {
           "automargin": true,
           "gridcolor": "white",
           "linecolor": "white",
           "ticks": "",
           "title": {
            "standoff": 15
           },
           "zerolinecolor": "white",
           "zerolinewidth": 2
          },
          "yaxis": {
           "automargin": true,
           "gridcolor": "white",
           "linecolor": "white",
           "ticks": "",
           "title": {
            "standoff": 15
           },
           "zerolinecolor": "white",
           "zerolinewidth": 2
          }
         }
        },
        "title": {
         "text": "Mean Monthly Supply of Renewable Energy Sources (2018-2025)"
        },
        "xaxis": {
         "anchor": "y",
         "domain": [
          0,
          1
         ],
         "title": {
          "text": "Month"
         }
        },
        "yaxis": {
         "anchor": "x",
         "domain": [
          0,
          1
         ],
         "title": {
          "text": "Mean Supply (MW)"
         }
        }
       }
      }
     },
     "metadata": {},
     "output_type": "display_data"
    }
   ],
   "source": [
    "fig = px.line(renewables_df, x = 'Month', y = 'Mean Supply (MW)', color = 'Fuel Type', title = 'Mean Monthly Supply of Renewable Energy Sources (2018-2025)')\n",
    "\n",
    "if add_policy_intro_dates: \n",
    "    for date in governmental_policies['Date introduced / announced'].to_list():\n",
    "        fig.add_vline(x = date, line_width = 2, line_dash = 'dash')\n",
    "\n",
    "fig.show()"
   ]
  },
  {
   "cell_type": "markdown",
   "id": "01fe1b98",
   "metadata": {},
   "source": [
    "### Generating the Plot for Non-Renewables"
   ]
  },
  {
   "cell_type": "code",
   "execution_count": null,
   "id": "042e0534",
   "metadata": {},
   "outputs": [
    {
     "data": {
      "application/vnd.plotly.v1+json": {
       "config": {
        "plotlyServerURL": "https://plot.ly"
       },
       "data": [
        {
         "hovertemplate": "Fuel Type=Liquid Fuel<br>Month=%{x}<br>Mean Supply (MW)=%{y}<extra></extra>",
         "legendgroup": "Liquid Fuel",
         "line": {
          "color": "#636efa",
          "dash": "solid"
         },
         "marker": {
          "symbol": "circle"
         },
         "mode": "lines",
         "name": "Liquid Fuel",
         "orientation": "v",
         "showlegend": true,
         "type": "scatter",
         "x": [
          "2018-01",
          "2018-02",
          "2018-03",
          "2018-04",
          "2018-05",
          "2018-06",
          "2018-07",
          "2018-08",
          "2018-09",
          "2018-10",
          "2018-11",
          "2018-12",
          "2019-01",
          "2019-02",
          "2019-03",
          "2019-04",
          "2019-05",
          "2019-06",
          "2019-07",
          "2019-08",
          "2019-09",
          "2019-10",
          "2019-11",
          "2019-12",
          "2020-01",
          "2020-02",
          "2020-03",
          "2020-04",
          "2020-05",
          "2020-06",
          "2020-07",
          "2020-08",
          "2020-09",
          "2020-10",
          "2020-11",
          "2020-12",
          "2021-01",
          "2021-02",
          "2021-03",
          "2021-04",
          "2021-05",
          "2021-06",
          "2021-07",
          "2021-08",
          "2021-09",
          "2021-10",
          "2021-11",
          "2021-12",
          "2022-01",
          "2022-02",
          "2022-03",
          "2022-04",
          "2022-05",
          "2022-06",
          "2022-07",
          "2022-08",
          "2022-09",
          "2022-10",
          "2022-11",
          "2022-12",
          "2023-01",
          "2023-02",
          "2023-03",
          "2023-04",
          "2023-05",
          "2023-06",
          "2023-07",
          "2023-08",
          "2023-09",
          "2023-10",
          "2023-11",
          "2023-12",
          "2024-01",
          "2024-02",
          "2024-03",
          "2024-04",
          "2024-05",
          "2024-06",
          "2024-07",
          "2024-08",
          "2024-09",
          "2024-10",
          "2024-11",
          "2024-12",
          "2025-01",
          "2025-02",
          "2025-03",
          "2025-04",
          "2025-05",
          "2025-06",
          "2025-07",
          "2025-08"
         ],
         "xaxis": "x",
         "y": {
          "bdata": "EVg5tMh2rj+LbOf7qfGSP7pJDAIrh6Y/mG4Sg8DKsT9I4XoUrkexP5zEILByaLE/L90kBoGVsz+KQWDl0CK7P3e+nxov3bQ/lUOLbOc7HEBg5dAi2zkUQMdLN4lBYLU//Knx0k1isD8IrBxaZDufP+Slm8QgsKI/2/l+arx0kz/Idr6fGi+dPxxaZDvfzwdAtvP91Hjptj8rhxbZzvezPzEIrBxaZMM/YhBYObTIpj+kcD0K16OwP/p+arx0k8A/tMh2vp8azz/b+X5qvHSTP9v5fmq8dJM/2/l+arx0gz8AAAAAAAAAAPp+arx0k1g/ObTIdr6fij8AAAAAAAAAAAAAAAAAAAAAAAAAAAAAAAB56SYxCKy8PwAAAAAAAAAAqMZLN4mxREAAAAAAAAAAAAAAAAAAAAAAAAAAAAAAAADTTWIQWDkCQAAAAAAAAAAAAAAAAAAAAAAAAAAAAAAAAAAAAAAAAAAAAAAAAAAAAAAAAAAAAAAAAAAAAAAAAAAAAAAAAAAAAAAAAAAAAAAAAIlBYOXQIps/CtejcD0Klz+cxCCwchBJQHNoke18t05AAAAAAADAL0AAAAAAAAAAAAAAAAAAAAAATDeJQWDlkL9WDi2ynW8tQLpJDAIrh5Y/AAAAAAAAAACamZmZmZmZv5qZmZmZmam/x0s3iUFgtb956SYxCKziP6AaL90kBrG/BoGVQ4tst7/2KFyPwtVHQH9qvHSTuDFAmpmZmZmZqb+gGi/dJAaxv5qZmZmZmam/AAAAAAAAAAAAAAAAAAAAALgehetRuH4/AAAAAAAAAACDwMqhRf5DQDQzMzMzM7O/x0s3iUFgtb8fhetRuH5HQDQzMzMzM7O/AAAAAAAAAAAAAAAAAAAAAAAAAAAAAAAAAAAAAAAAAACsHFpkO9/lPwAAAAAAAAAAAAAAAAAAAAAAAAAAAAAAAAAAAAAAAAAAf2q8dJNYOUAAAAAAAAAAAA==",
          "dtype": "f8"
         },
         "yaxis": "y"
        },
        {
         "hovertemplate": "Fuel Type=Black coal<br>Month=%{x}<br>Mean Supply (MW)=%{y}<extra></extra>",
         "legendgroup": "Black coal",
         "line": {
          "color": "#EF553B",
          "dash": "solid"
         },
         "marker": {
          "symbol": "circle"
         },
         "mode": "lines",
         "name": "Black coal",
         "orientation": "v",
         "showlegend": true,
         "type": "scatter",
         "x": [
          "2018-01",
          "2018-02",
          "2018-03",
          "2018-04",
          "2018-05",
          "2018-06",
          "2018-07",
          "2018-08",
          "2018-09",
          "2018-10",
          "2018-11",
          "2018-12",
          "2019-01",
          "2019-02",
          "2019-03",
          "2019-04",
          "2019-05",
          "2019-06",
          "2019-07",
          "2019-08",
          "2019-09",
          "2019-10",
          "2019-11",
          "2019-12",
          "2020-01",
          "2020-02",
          "2020-03",
          "2020-04",
          "2020-05",
          "2020-06",
          "2020-07",
          "2020-08",
          "2020-09",
          "2020-10",
          "2020-11",
          "2020-12",
          "2021-01",
          "2021-02",
          "2021-03",
          "2021-04",
          "2021-05",
          "2021-06",
          "2021-07",
          "2021-08",
          "2021-09",
          "2021-10",
          "2021-11",
          "2021-12",
          "2022-01",
          "2022-02",
          "2022-03",
          "2022-04",
          "2022-05",
          "2022-06",
          "2022-07",
          "2022-08",
          "2022-09",
          "2022-10",
          "2022-11",
          "2022-12",
          "2023-01",
          "2023-02",
          "2023-03",
          "2023-04",
          "2023-05",
          "2023-06",
          "2023-07",
          "2023-08",
          "2023-09",
          "2023-10",
          "2023-11",
          "2023-12",
          "2024-01",
          "2024-02",
          "2024-03",
          "2024-04",
          "2024-05",
          "2024-06",
          "2024-07",
          "2024-08",
          "2024-09",
          "2024-10",
          "2024-11",
          "2024-12",
          "2025-01",
          "2025-02",
          "2025-03",
          "2025-04",
          "2025-05",
          "2025-06",
          "2025-07",
          "2025-08"
         ],
         "xaxis": "x",
         "y": {
          "bdata": "UI2XbtovyECR7Xw/ZUXIQGq8dJNQhcZAUrgehdOzxUBkO99P/fXGQOomMQjc9sdArkfhetxIxUDfT42XXtDDQPYoXI/i28VARrbz/RQGxUCF61G4RpHGQIxs5/uRG8VAFtnO98O8xkD4U+Ol81zHQPyp8dK17MRA2s73UwN5w0ByaJHtREHEQPCnxksnicRAL90kBqEPxUDo+6nx0k7DQFYOLbLFCsNAxks3iWHQwkDhehSul9jDQO58PzXGzMRAfT81XoonxUCoxks3QXDGQJQYBFbWNcRArkfheiQ7wkBWDi2y/fjCQPT91Hhxp8RAK4cW2XbjwkAW2c73owTEQMDKoUXG1MNA/tR46R63wkCBlUOLjEnDQHNoke3k3cJA5tAi2/GrwkDHSzeJEZXFQO18PzX+Z8JABFYOLWr5wUDufD81ZtPCQG4Sg8CKIcRA6SYxCAQRw0DpJjEIJFLCQB1aZDtnEsJAVOOlm9zPwkC+nxovBZrBQFyPwvVIoMJAFK5H4TJXw0AK16NwPebAQFyPwvXI8sNABoGVQzv2wEAEVg4tOvzAQMP1KFyH18JA7nw/NX6ZxEDtfD817onDQIcW2c4HcL9AcD0K12OXv0AVrkfhyv7AQAisHFqEeL5AYOXQImtwwUBxPQrXe2bCQLTIdr630sBA8tJNYnDovkDwp8ZLX4PAQGiR7XwXqcBADi2ynR8hwUDb+X5qDIa/QGDl0CIbbcFAikFg5XB8vkCEwMqhRfm8QMdLN4kJxMBAGARWDt3OwUCS7Xw/7WnBQKRwPQofIsJAJQaBlbtiwEBBYOXQknzDQOxRuB5l58JA16NwPTovwkBSuB6FQ1zAQDEIrByqrr1A9ihcj/J6vUCR7Xw/lYW+QLByaJE95sBAXrpJDELWwUD8qfHSnUTBQAIrhxYZKcJAyHa+nzohwEB56SYxoGPAQNNNYhAwh8FAzczMzATuwkDsUbgeZc3BQA==",
          "dtype": "f8"
         },
         "yaxis": "y"
        },
        {
         "hovertemplate": "Fuel Type=Brown coal<br>Month=%{x}<br>Mean Supply (MW)=%{y}<extra></extra>",
         "legendgroup": "Brown coal",
         "line": {
          "color": "#00cc96",
          "dash": "solid"
         },
         "marker": {
          "symbol": "circle"
         },
         "mode": "lines",
         "name": "Brown coal",
         "orientation": "v",
         "showlegend": true,
         "type": "scatter",
         "x": [
          "2018-01",
          "2018-02",
          "2018-03",
          "2018-04",
          "2018-05",
          "2018-06",
          "2018-07",
          "2018-08",
          "2018-09",
          "2018-10",
          "2018-11",
          "2018-12",
          "2019-01",
          "2019-02",
          "2019-03",
          "2019-04",
          "2019-05",
          "2019-06",
          "2019-07",
          "2019-08",
          "2019-09",
          "2019-10",
          "2019-11",
          "2019-12",
          "2020-01",
          "2020-02",
          "2020-03",
          "2020-04",
          "2020-05",
          "2020-06",
          "2020-07",
          "2020-08",
          "2020-09",
          "2020-10",
          "2020-11",
          "2020-12",
          "2021-01",
          "2021-02",
          "2021-03",
          "2021-04",
          "2021-05",
          "2021-06",
          "2021-07",
          "2021-08",
          "2021-09",
          "2021-10",
          "2021-11",
          "2021-12",
          "2022-01",
          "2022-02",
          "2022-03",
          "2022-04",
          "2022-05",
          "2022-06",
          "2022-07",
          "2022-08",
          "2022-09",
          "2022-10",
          "2022-11",
          "2022-12",
          "2023-01",
          "2023-02",
          "2023-03",
          "2023-04",
          "2023-05",
          "2023-06",
          "2023-07",
          "2023-08",
          "2023-09",
          "2023-10",
          "2023-11",
          "2023-12",
          "2024-01",
          "2024-02",
          "2024-03",
          "2024-04",
          "2024-05",
          "2024-06",
          "2024-07",
          "2024-08",
          "2024-09",
          "2024-10",
          "2024-11",
          "2024-12",
          "2025-01",
          "2025-02",
          "2025-03",
          "2025-04",
          "2025-05",
          "2025-06",
          "2025-07",
          "2025-08"
         ],
         "xaxis": "x",
         "y": {
          "bdata": "CKwcWvT1sUDVeOkmEV+yQJMYBFbuw65A3CQGgbWFrkDGSzeJMQ6xQJqZmZmZ2a9AeekmMVjAsEC4HoXrse+uQIbrUbge/KxASgwCK2eYrECe76fG6zqrQAisHFrkr61AQmDl0IJesEDKoUW200euQKrx0k2C269AIbByaPEKrUDP91Pj5eipQEa28/30565ABFYOLfI2q0AW2c73E4mpQGq8dJN4gKZAokW28z3nqECAarx0c0CtQEOLbOe7uq9APQrXoyA7sECIFtnOlyGvQIxs5/spf65A9P3UeMkaq0BMN4lBYIeoQIXrUbh+q7FAgpVDi0xQrEBANV66yWarQNnO91MjVqtAjpduEsNAp0BMN4lBQLWrQOJ6FK4n+axAzczMzCwXrUBlO99PzcqtQN9PjZdOF61AWDm0yLYxrEB3vp8azxetQGzn+6lxeqtAH4XrUeh2sEBMN4lBIASoQH0/NV6arqZAbhKDwIpCq0Db+X5qXPanQGQ730/tsKxAUI2XbrL3q0BvEoPAqiaoQAaBlUMLOapAzMzMzCxCp0DkpZvEgKupQOj7qfHSfapAokW2893pq0B/arx006qnQFpkO9/v2ahALbKd7+ckp0BANV66qb2kQNNNYhBYy6pAXI/C9YiprEA4iUFgZQaqQAwCK4e2GKdAFa5H4br/qECJQWDlcI6tQHSTGAQ2LKtAFK5H4Rq6q0DgT42X7qGrQFK4HoVLCalA/tR46UYkpkBuEoPA6vWmQFpkO98v2KVAcT0K1wP3qECOl24SYxisQI2XbhIDg6pAUrgehSsKq0B2vp8aj6iqQL6fGi99TK1A+n5qvLT0qUBqvHSTWBGrQLKd76dG2KpA5dAi2zlYpkAMAiuH9rGmQIXrUbg+gKdAku18P7WCqEAgsHJo0WinQJHtfD/1R6dA30+Nl659qkBOYhBYuRupQPYoXI9i+KpAFtnO9zMZrECG61G43oesQA==",
          "dtype": "f8"
         },
         "yaxis": "y"
        },
        {
         "hovertemplate": "Fuel Type=Gas<br>Month=%{x}<br>Mean Supply (MW)=%{y}<extra></extra>",
         "legendgroup": "Gas",
         "line": {
          "color": "#ab63fa",
          "dash": "solid"
         },
         "marker": {
          "symbol": "circle"
         },
         "mode": "lines",
         "name": "Gas",
         "orientation": "v",
         "showlegend": true,
         "type": "scatter",
         "x": [
          "2018-01",
          "2018-02",
          "2018-03",
          "2018-04",
          "2018-05",
          "2018-06",
          "2018-07",
          "2018-08",
          "2018-09",
          "2018-10",
          "2018-11",
          "2018-12",
          "2019-01",
          "2019-02",
          "2019-03",
          "2019-04",
          "2019-05",
          "2019-06",
          "2019-07",
          "2019-08",
          "2019-09",
          "2019-10",
          "2019-11",
          "2019-12",
          "2020-01",
          "2020-02",
          "2020-03",
          "2020-04",
          "2020-05",
          "2020-06",
          "2020-07",
          "2020-08",
          "2020-09",
          "2020-10",
          "2020-11",
          "2020-12",
          "2021-01",
          "2021-02",
          "2021-03",
          "2021-04",
          "2021-05",
          "2021-06",
          "2021-07",
          "2021-08",
          "2021-09",
          "2021-10",
          "2021-11",
          "2021-12",
          "2022-01",
          "2022-02",
          "2022-03",
          "2022-04",
          "2022-05",
          "2022-06",
          "2022-07",
          "2022-08",
          "2022-09",
          "2022-10",
          "2022-11",
          "2022-12",
          "2023-01",
          "2023-02",
          "2023-03",
          "2023-04",
          "2023-05",
          "2023-06",
          "2023-07",
          "2023-08",
          "2023-09",
          "2023-10",
          "2023-11",
          "2023-12",
          "2024-01",
          "2024-02",
          "2024-03",
          "2024-04",
          "2024-05",
          "2024-06",
          "2024-07",
          "2024-08",
          "2024-09",
          "2024-10",
          "2024-11",
          "2024-12",
          "2025-01",
          "2025-02",
          "2025-03",
          "2025-04",
          "2025-05",
          "2025-06",
          "2025-07",
          "2025-08"
         ],
         "xaxis": "x",
         "y": {
          "bdata": "5KWbxCDDmkCyne+nhoyaQOxRuB5F+ZhAL90kBsHRlUDKoUW2c4maQMP1KFzP65RAQmDl0CLyh0Dc+X5qvAmNQMdLN4kBOpBArBxaZLv8kUBcj8L16CGSQIcW2c73I4VASOF6FK7Aj0BOYhBYOYGRQCcxCKyczpNAjGzn+yl/jkBI4XoUboCUQAIrhxYZ0ZBAyqFFtrN8kUDy0k1iUAWWQD4K16MwyptAzczMzMxlk0AqhxbZznKMQG4Sg8BKMYpA0k1iEFgtjEBKDAIrx4yWQO58PzVejpBARIts53sGhUC6SQwCK2OVQEjhehTuo5JAz/dT4yVZmEDEILBy6MGTQL6fGi9d1o5A0SLb+b64kkDb+X5qPHSFQMzMzMxMcohAarx0k5jCh0BOYhBYOb+OQJ7vp8ZLsYpAmpmZmRlOhUCDwMqhxa6DQN0kBoEVFJhA3SQGgZXRikAnMQisnN+PQAIrhxbZxYdAj8L1KNyFiUB7FK5H4aWGQNR46SYx2XxAuR6F69ECj0D6fmq89PmHQH9qvHTTbptA6SYxCKydlUACK4cWmWqXQAIrhxZ50aJADi2ynW+QmUDFILByaK2dQH9qvHQTnYhASgwCK4eviEDsUbgeBZiFQJqZmZmZvXlAMzMzM7M7iEBkO99PDRyAQHnpJjGIxJFAZmZmZuaDmUAhsHJoEU6NQCGwcmiRXoZAWmQ7309qi0B1kxgE1oGFQBbZzvezDqJAVg4tsp0ZekBKDAIrB6uFQFYOLbKdMHZA8tJNYpACgkBU46WbxIqBQPyp8dLNaIdALrKd76egfUCamZmZWXOlQBKDwMrh9pNAK4cW2U5+kUCF61G4HmqQQPCnxks3koBARrbz/dRcfUDdJAaBlTuGQNejcD0KMXhA30+Nl+7kgkBQjZduUhWRQGzn+6lxboJAwcqhRTZugEAEVg4tshyNQC6yne+n+o1AMQisHNpOnkBWDi2yHZGMQA==",
          "dtype": "f8"
         },
         "yaxis": "y"
        }
       ],
       "layout": {
        "legend": {
         "title": {
          "text": "Fuel Type"
         },
         "tracegroupgap": 0
        },
        "template": {
         "data": {
          "bar": [
           {
            "error_x": {
             "color": "#2a3f5f"
            },
            "error_y": {
             "color": "#2a3f5f"
            },
            "marker": {
             "line": {
              "color": "#E5ECF6",
              "width": 0.5
             },
             "pattern": {
              "fillmode": "overlay",
              "size": 10,
              "solidity": 0.2
             }
            },
            "type": "bar"
           }
          ],
          "barpolar": [
           {
            "marker": {
             "line": {
              "color": "#E5ECF6",
              "width": 0.5
             },
             "pattern": {
              "fillmode": "overlay",
              "size": 10,
              "solidity": 0.2
             }
            },
            "type": "barpolar"
           }
          ],
          "carpet": [
           {
            "aaxis": {
             "endlinecolor": "#2a3f5f",
             "gridcolor": "white",
             "linecolor": "white",
             "minorgridcolor": "white",
             "startlinecolor": "#2a3f5f"
            },
            "baxis": {
             "endlinecolor": "#2a3f5f",
             "gridcolor": "white",
             "linecolor": "white",
             "minorgridcolor": "white",
             "startlinecolor": "#2a3f5f"
            },
            "type": "carpet"
           }
          ],
          "choropleth": [
           {
            "colorbar": {
             "outlinewidth": 0,
             "ticks": ""
            },
            "type": "choropleth"
           }
          ],
          "contour": [
           {
            "colorbar": {
             "outlinewidth": 0,
             "ticks": ""
            },
            "colorscale": [
             [
              0,
              "#0d0887"
             ],
             [
              0.1111111111111111,
              "#46039f"
             ],
             [
              0.2222222222222222,
              "#7201a8"
             ],
             [
              0.3333333333333333,
              "#9c179e"
             ],
             [
              0.4444444444444444,
              "#bd3786"
             ],
             [
              0.5555555555555556,
              "#d8576b"
             ],
             [
              0.6666666666666666,
              "#ed7953"
             ],
             [
              0.7777777777777778,
              "#fb9f3a"
             ],
             [
              0.8888888888888888,
              "#fdca26"
             ],
             [
              1,
              "#f0f921"
             ]
            ],
            "type": "contour"
           }
          ],
          "contourcarpet": [
           {
            "colorbar": {
             "outlinewidth": 0,
             "ticks": ""
            },
            "type": "contourcarpet"
           }
          ],
          "heatmap": [
           {
            "colorbar": {
             "outlinewidth": 0,
             "ticks": ""
            },
            "colorscale": [
             [
              0,
              "#0d0887"
             ],
             [
              0.1111111111111111,
              "#46039f"
             ],
             [
              0.2222222222222222,
              "#7201a8"
             ],
             [
              0.3333333333333333,
              "#9c179e"
             ],
             [
              0.4444444444444444,
              "#bd3786"
             ],
             [
              0.5555555555555556,
              "#d8576b"
             ],
             [
              0.6666666666666666,
              "#ed7953"
             ],
             [
              0.7777777777777778,
              "#fb9f3a"
             ],
             [
              0.8888888888888888,
              "#fdca26"
             ],
             [
              1,
              "#f0f921"
             ]
            ],
            "type": "heatmap"
           }
          ],
          "histogram": [
           {
            "marker": {
             "pattern": {
              "fillmode": "overlay",
              "size": 10,
              "solidity": 0.2
             }
            },
            "type": "histogram"
           }
          ],
          "histogram2d": [
           {
            "colorbar": {
             "outlinewidth": 0,
             "ticks": ""
            },
            "colorscale": [
             [
              0,
              "#0d0887"
             ],
             [
              0.1111111111111111,
              "#46039f"
             ],
             [
              0.2222222222222222,
              "#7201a8"
             ],
             [
              0.3333333333333333,
              "#9c179e"
             ],
             [
              0.4444444444444444,
              "#bd3786"
             ],
             [
              0.5555555555555556,
              "#d8576b"
             ],
             [
              0.6666666666666666,
              "#ed7953"
             ],
             [
              0.7777777777777778,
              "#fb9f3a"
             ],
             [
              0.8888888888888888,
              "#fdca26"
             ],
             [
              1,
              "#f0f921"
             ]
            ],
            "type": "histogram2d"
           }
          ],
          "histogram2dcontour": [
           {
            "colorbar": {
             "outlinewidth": 0,
             "ticks": ""
            },
            "colorscale": [
             [
              0,
              "#0d0887"
             ],
             [
              0.1111111111111111,
              "#46039f"
             ],
             [
              0.2222222222222222,
              "#7201a8"
             ],
             [
              0.3333333333333333,
              "#9c179e"
             ],
             [
              0.4444444444444444,
              "#bd3786"
             ],
             [
              0.5555555555555556,
              "#d8576b"
             ],
             [
              0.6666666666666666,
              "#ed7953"
             ],
             [
              0.7777777777777778,
              "#fb9f3a"
             ],
             [
              0.8888888888888888,
              "#fdca26"
             ],
             [
              1,
              "#f0f921"
             ]
            ],
            "type": "histogram2dcontour"
           }
          ],
          "mesh3d": [
           {
            "colorbar": {
             "outlinewidth": 0,
             "ticks": ""
            },
            "type": "mesh3d"
           }
          ],
          "parcoords": [
           {
            "line": {
             "colorbar": {
              "outlinewidth": 0,
              "ticks": ""
             }
            },
            "type": "parcoords"
           }
          ],
          "pie": [
           {
            "automargin": true,
            "type": "pie"
           }
          ],
          "scatter": [
           {
            "fillpattern": {
             "fillmode": "overlay",
             "size": 10,
             "solidity": 0.2
            },
            "type": "scatter"
           }
          ],
          "scatter3d": [
           {
            "line": {
             "colorbar": {
              "outlinewidth": 0,
              "ticks": ""
             }
            },
            "marker": {
             "colorbar": {
              "outlinewidth": 0,
              "ticks": ""
             }
            },
            "type": "scatter3d"
           }
          ],
          "scattercarpet": [
           {
            "marker": {
             "colorbar": {
              "outlinewidth": 0,
              "ticks": ""
             }
            },
            "type": "scattercarpet"
           }
          ],
          "scattergeo": [
           {
            "marker": {
             "colorbar": {
              "outlinewidth": 0,
              "ticks": ""
             }
            },
            "type": "scattergeo"
           }
          ],
          "scattergl": [
           {
            "marker": {
             "colorbar": {
              "outlinewidth": 0,
              "ticks": ""
             }
            },
            "type": "scattergl"
           }
          ],
          "scattermap": [
           {
            "marker": {
             "colorbar": {
              "outlinewidth": 0,
              "ticks": ""
             }
            },
            "type": "scattermap"
           }
          ],
          "scattermapbox": [
           {
            "marker": {
             "colorbar": {
              "outlinewidth": 0,
              "ticks": ""
             }
            },
            "type": "scattermapbox"
           }
          ],
          "scatterpolar": [
           {
            "marker": {
             "colorbar": {
              "outlinewidth": 0,
              "ticks": ""
             }
            },
            "type": "scatterpolar"
           }
          ],
          "scatterpolargl": [
           {
            "marker": {
             "colorbar": {
              "outlinewidth": 0,
              "ticks": ""
             }
            },
            "type": "scatterpolargl"
           }
          ],
          "scatterternary": [
           {
            "marker": {
             "colorbar": {
              "outlinewidth": 0,
              "ticks": ""
             }
            },
            "type": "scatterternary"
           }
          ],
          "surface": [
           {
            "colorbar": {
             "outlinewidth": 0,
             "ticks": ""
            },
            "colorscale": [
             [
              0,
              "#0d0887"
             ],
             [
              0.1111111111111111,
              "#46039f"
             ],
             [
              0.2222222222222222,
              "#7201a8"
             ],
             [
              0.3333333333333333,
              "#9c179e"
             ],
             [
              0.4444444444444444,
              "#bd3786"
             ],
             [
              0.5555555555555556,
              "#d8576b"
             ],
             [
              0.6666666666666666,
              "#ed7953"
             ],
             [
              0.7777777777777778,
              "#fb9f3a"
             ],
             [
              0.8888888888888888,
              "#fdca26"
             ],
             [
              1,
              "#f0f921"
             ]
            ],
            "type": "surface"
           }
          ],
          "table": [
           {
            "cells": {
             "fill": {
              "color": "#EBF0F8"
             },
             "line": {
              "color": "white"
             }
            },
            "header": {
             "fill": {
              "color": "#C8D4E3"
             },
             "line": {
              "color": "white"
             }
            },
            "type": "table"
           }
          ]
         },
         "layout": {
          "annotationdefaults": {
           "arrowcolor": "#2a3f5f",
           "arrowhead": 0,
           "arrowwidth": 1
          },
          "autotypenumbers": "strict",
          "coloraxis": {
           "colorbar": {
            "outlinewidth": 0,
            "ticks": ""
           }
          },
          "colorscale": {
           "diverging": [
            [
             0,
             "#8e0152"
            ],
            [
             0.1,
             "#c51b7d"
            ],
            [
             0.2,
             "#de77ae"
            ],
            [
             0.3,
             "#f1b6da"
            ],
            [
             0.4,
             "#fde0ef"
            ],
            [
             0.5,
             "#f7f7f7"
            ],
            [
             0.6,
             "#e6f5d0"
            ],
            [
             0.7,
             "#b8e186"
            ],
            [
             0.8,
             "#7fbc41"
            ],
            [
             0.9,
             "#4d9221"
            ],
            [
             1,
             "#276419"
            ]
           ],
           "sequential": [
            [
             0,
             "#0d0887"
            ],
            [
             0.1111111111111111,
             "#46039f"
            ],
            [
             0.2222222222222222,
             "#7201a8"
            ],
            [
             0.3333333333333333,
             "#9c179e"
            ],
            [
             0.4444444444444444,
             "#bd3786"
            ],
            [
             0.5555555555555556,
             "#d8576b"
            ],
            [
             0.6666666666666666,
             "#ed7953"
            ],
            [
             0.7777777777777778,
             "#fb9f3a"
            ],
            [
             0.8888888888888888,
             "#fdca26"
            ],
            [
             1,
             "#f0f921"
            ]
           ],
           "sequentialminus": [
            [
             0,
             "#0d0887"
            ],
            [
             0.1111111111111111,
             "#46039f"
            ],
            [
             0.2222222222222222,
             "#7201a8"
            ],
            [
             0.3333333333333333,
             "#9c179e"
            ],
            [
             0.4444444444444444,
             "#bd3786"
            ],
            [
             0.5555555555555556,
             "#d8576b"
            ],
            [
             0.6666666666666666,
             "#ed7953"
            ],
            [
             0.7777777777777778,
             "#fb9f3a"
            ],
            [
             0.8888888888888888,
             "#fdca26"
            ],
            [
             1,
             "#f0f921"
            ]
           ]
          },
          "colorway": [
           "#636efa",
           "#EF553B",
           "#00cc96",
           "#ab63fa",
           "#FFA15A",
           "#19d3f3",
           "#FF6692",
           "#B6E880",
           "#FF97FF",
           "#FECB52"
          ],
          "font": {
           "color": "#2a3f5f"
          },
          "geo": {
           "bgcolor": "white",
           "lakecolor": "white",
           "landcolor": "#E5ECF6",
           "showlakes": true,
           "showland": true,
           "subunitcolor": "white"
          },
          "hoverlabel": {
           "align": "left"
          },
          "hovermode": "closest",
          "mapbox": {
           "style": "light"
          },
          "paper_bgcolor": "white",
          "plot_bgcolor": "#E5ECF6",
          "polar": {
           "angularaxis": {
            "gridcolor": "white",
            "linecolor": "white",
            "ticks": ""
           },
           "bgcolor": "#E5ECF6",
           "radialaxis": {
            "gridcolor": "white",
            "linecolor": "white",
            "ticks": ""
           }
          },
          "scene": {
           "xaxis": {
            "backgroundcolor": "#E5ECF6",
            "gridcolor": "white",
            "gridwidth": 2,
            "linecolor": "white",
            "showbackground": true,
            "ticks": "",
            "zerolinecolor": "white"
           },
           "yaxis": {
            "backgroundcolor": "#E5ECF6",
            "gridcolor": "white",
            "gridwidth": 2,
            "linecolor": "white",
            "showbackground": true,
            "ticks": "",
            "zerolinecolor": "white"
           },
           "zaxis": {
            "backgroundcolor": "#E5ECF6",
            "gridcolor": "white",
            "gridwidth": 2,
            "linecolor": "white",
            "showbackground": true,
            "ticks": "",
            "zerolinecolor": "white"
           }
          },
          "shapedefaults": {
           "line": {
            "color": "#2a3f5f"
           }
          },
          "ternary": {
           "aaxis": {
            "gridcolor": "white",
            "linecolor": "white",
            "ticks": ""
           },
           "baxis": {
            "gridcolor": "white",
            "linecolor": "white",
            "ticks": ""
           },
           "bgcolor": "#E5ECF6",
           "caxis": {
            "gridcolor": "white",
            "linecolor": "white",
            "ticks": ""
           }
          },
          "title": {
           "x": 0.05
          },
          "xaxis": {
           "automargin": true,
           "gridcolor": "white",
           "linecolor": "white",
           "ticks": "",
           "title": {
            "standoff": 15
           },
           "zerolinecolor": "white",
           "zerolinewidth": 2
          },
          "yaxis": {
           "automargin": true,
           "gridcolor": "white",
           "linecolor": "white",
           "ticks": "",
           "title": {
            "standoff": 15
           },
           "zerolinecolor": "white",
           "zerolinewidth": 2
          }
         }
        },
        "title": {
         "text": "Mean Monthly Supply of Non-Renewable Energy Sources (2018-2025)"
        },
        "xaxis": {
         "anchor": "y",
         "domain": [
          0,
          1
         ],
         "title": {
          "text": "Month"
         }
        },
        "yaxis": {
         "anchor": "x",
         "domain": [
          0,
          1
         ],
         "title": {
          "text": "Mean Supply (MW)"
         }
        }
       }
      }
     },
     "metadata": {},
     "output_type": "display_data"
    }
   ],
   "source": [
    "px.line(non_renewables_df, x = 'Month', y = 'Mean Supply (MW)', color = 'Fuel Type', title = 'Mean Monthly Supply of Non-Renewable Energy Sources (2018-2025)')"
   ]
  },
  {
   "cell_type": "markdown",
   "id": "af2cc7bf",
   "metadata": {},
   "source": [
    "### Getting the Mean Supplies for Each Renewable Fuel Source in October 2023 and September 2024"
   ]
  },
  {
   "cell_type": "code",
   "execution_count": null,
   "id": "39866d1f",
   "metadata": {},
   "outputs": [
    {
     "data": {
      "text/html": [
       "<div>\n",
       "<style scoped>\n",
       "    .dataframe tbody tr th:only-of-type {\n",
       "        vertical-align: middle;\n",
       "    }\n",
       "\n",
       "    .dataframe tbody tr th {\n",
       "        vertical-align: top;\n",
       "    }\n",
       "\n",
       "    .dataframe thead th {\n",
       "        text-align: right;\n",
       "    }\n",
       "</style>\n",
       "<table border=\"1\" class=\"dataframe\">\n",
       "  <thead>\n",
       "    <tr style=\"text-align: right;\">\n",
       "      <th></th>\n",
       "      <th>Fuel Type</th>\n",
       "      <th>Month</th>\n",
       "      <th>Mean Supply (MW)</th>\n",
       "      <th>Min Supply (MW)</th>\n",
       "      <th>Max Supply (MW)</th>\n",
       "    </tr>\n",
       "  </thead>\n",
       "  <tbody>\n",
       "    <tr>\n",
       "      <th>0</th>\n",
       "      <td>Battery</td>\n",
       "      <td>2023-10</td>\n",
       "      <td>18.4530</td>\n",
       "      <td>9.029</td>\n",
       "      <td>27.877</td>\n",
       "    </tr>\n",
       "    <tr>\n",
       "      <th>1</th>\n",
       "      <td>Biomass</td>\n",
       "      <td>2023-10</td>\n",
       "      <td>66.5195</td>\n",
       "      <td>62.199</td>\n",
       "      <td>70.840</td>\n",
       "    </tr>\n",
       "    <tr>\n",
       "      <th>2</th>\n",
       "      <td>Distributed PV</td>\n",
       "      <td>2023-10</td>\n",
       "      <td>5842.3330</td>\n",
       "      <td>0.000</td>\n",
       "      <td>11684.666</td>\n",
       "    </tr>\n",
       "    <tr>\n",
       "      <th>3</th>\n",
       "      <td>Hydro</td>\n",
       "      <td>2023-10</td>\n",
       "      <td>1125.4695</td>\n",
       "      <td>445.747</td>\n",
       "      <td>1805.192</td>\n",
       "    </tr>\n",
       "    <tr>\n",
       "      <th>4</th>\n",
       "      <td>Utility-scale Solar</td>\n",
       "      <td>2023-10</td>\n",
       "      <td>2356.6765</td>\n",
       "      <td>0.620</td>\n",
       "      <td>4712.733</td>\n",
       "    </tr>\n",
       "    <tr>\n",
       "      <th>5</th>\n",
       "      <td>Wind</td>\n",
       "      <td>2023-10</td>\n",
       "      <td>2514.8595</td>\n",
       "      <td>1579.012</td>\n",
       "      <td>3450.707</td>\n",
       "    </tr>\n",
       "  </tbody>\n",
       "</table>\n",
       "</div>"
      ],
      "text/plain": [
       "             Fuel Type    Month  Mean Supply (MW)  Min Supply (MW)  \\\n",
       "0              Battery  2023-10           18.4530            9.029   \n",
       "1              Biomass  2023-10           66.5195           62.199   \n",
       "2       Distributed PV  2023-10         5842.3330            0.000   \n",
       "3                Hydro  2023-10         1125.4695          445.747   \n",
       "4  Utility-scale Solar  2023-10         2356.6765            0.620   \n",
       "5                 Wind  2023-10         2514.8595         1579.012   \n",
       "\n",
       "   Max Supply (MW)  \n",
       "0           27.877  \n",
       "1           70.840  \n",
       "2        11684.666  \n",
       "3         1805.192  \n",
       "4         4712.733  \n",
       "5         3450.707  "
      ]
     },
     "execution_count": 42,
     "metadata": {},
     "output_type": "execute_result"
    }
   ],
   "source": [
    "october_2023 = renewables_df[renewables_df['Month'] == '2023-10'].sort_values(by = 'Fuel Type').reset_index(drop=True)\n",
    "october_2023"
   ]
  },
  {
   "cell_type": "code",
   "execution_count": null,
   "id": "7d6c3650",
   "metadata": {},
   "outputs": [
    {
     "data": {
      "text/html": [
       "<div>\n",
       "<style scoped>\n",
       "    .dataframe tbody tr th:only-of-type {\n",
       "        vertical-align: middle;\n",
       "    }\n",
       "\n",
       "    .dataframe tbody tr th {\n",
       "        vertical-align: top;\n",
       "    }\n",
       "\n",
       "    .dataframe thead th {\n",
       "        text-align: right;\n",
       "    }\n",
       "</style>\n",
       "<table border=\"1\" class=\"dataframe\">\n",
       "  <thead>\n",
       "    <tr style=\"text-align: right;\">\n",
       "      <th></th>\n",
       "      <th>Fuel Type</th>\n",
       "      <th>Month</th>\n",
       "      <th>Mean Supply (MW)</th>\n",
       "      <th>Min Supply (MW)</th>\n",
       "      <th>Max Supply (MW)</th>\n",
       "    </tr>\n",
       "  </thead>\n",
       "  <tbody>\n",
       "    <tr>\n",
       "      <th>0</th>\n",
       "      <td>Battery</td>\n",
       "      <td>2024-09</td>\n",
       "      <td>-83.5645</td>\n",
       "      <td>-145.975</td>\n",
       "      <td>-21.154</td>\n",
       "    </tr>\n",
       "    <tr>\n",
       "      <th>1</th>\n",
       "      <td>Biomass</td>\n",
       "      <td>2024-09</td>\n",
       "      <td>80.9705</td>\n",
       "      <td>76.527</td>\n",
       "      <td>85.414</td>\n",
       "    </tr>\n",
       "    <tr>\n",
       "      <th>2</th>\n",
       "      <td>Distributed PV</td>\n",
       "      <td>2024-09</td>\n",
       "      <td>5417.1240</td>\n",
       "      <td>0.000</td>\n",
       "      <td>10834.248</td>\n",
       "    </tr>\n",
       "    <tr>\n",
       "      <th>3</th>\n",
       "      <td>Hydro</td>\n",
       "      <td>2024-09</td>\n",
       "      <td>947.0640</td>\n",
       "      <td>481.970</td>\n",
       "      <td>1412.158</td>\n",
       "    </tr>\n",
       "    <tr>\n",
       "      <th>4</th>\n",
       "      <td>Utility-scale Solar</td>\n",
       "      <td>2024-09</td>\n",
       "      <td>2582.4230</td>\n",
       "      <td>0.027</td>\n",
       "      <td>5164.819</td>\n",
       "    </tr>\n",
       "    <tr>\n",
       "      <th>5</th>\n",
       "      <td>Wind</td>\n",
       "      <td>2024-09</td>\n",
       "      <td>2992.2475</td>\n",
       "      <td>2204.795</td>\n",
       "      <td>3779.700</td>\n",
       "    </tr>\n",
       "  </tbody>\n",
       "</table>\n",
       "</div>"
      ],
      "text/plain": [
       "             Fuel Type    Month  Mean Supply (MW)  Min Supply (MW)  \\\n",
       "0              Battery  2024-09          -83.5645         -145.975   \n",
       "1              Biomass  2024-09           80.9705           76.527   \n",
       "2       Distributed PV  2024-09         5417.1240            0.000   \n",
       "3                Hydro  2024-09          947.0640          481.970   \n",
       "4  Utility-scale Solar  2024-09         2582.4230            0.027   \n",
       "5                 Wind  2024-09         2992.2475         2204.795   \n",
       "\n",
       "   Max Supply (MW)  \n",
       "0          -21.154  \n",
       "1           85.414  \n",
       "2        10834.248  \n",
       "3         1412.158  \n",
       "4         5164.819  \n",
       "5         3779.700  "
      ]
     },
     "execution_count": 43,
     "metadata": {},
     "output_type": "execute_result"
    }
   ],
   "source": [
    "september_2024 = renewables_df[renewables_df['Month'] == '2024-09'].sort_values(by = 'Fuel Type').reset_index(drop=True)\n",
    "september_2024"
   ]
  },
  {
   "cell_type": "code",
   "execution_count": null,
   "id": "9ebbc70b",
   "metadata": {},
   "outputs": [
    {
     "data": {
      "text/html": [
       "<div>\n",
       "<style scoped>\n",
       "    .dataframe tbody tr th:only-of-type {\n",
       "        vertical-align: middle;\n",
       "    }\n",
       "\n",
       "    .dataframe tbody tr th {\n",
       "        vertical-align: top;\n",
       "    }\n",
       "\n",
       "    .dataframe thead th {\n",
       "        text-align: right;\n",
       "    }\n",
       "</style>\n",
       "<table border=\"1\" class=\"dataframe\">\n",
       "  <thead>\n",
       "    <tr style=\"text-align: right;\">\n",
       "      <th></th>\n",
       "      <th>Fuel Type</th>\n",
       "      <th>Mean Supply October 2023 (MW)</th>\n",
       "      <th>Mean Supply September 2024 (MW)</th>\n",
       "    </tr>\n",
       "  </thead>\n",
       "  <tbody>\n",
       "    <tr>\n",
       "      <th>0</th>\n",
       "      <td>Battery</td>\n",
       "      <td>18.4530</td>\n",
       "      <td>-83.5645</td>\n",
       "    </tr>\n",
       "    <tr>\n",
       "      <th>1</th>\n",
       "      <td>Biomass</td>\n",
       "      <td>66.5195</td>\n",
       "      <td>80.9705</td>\n",
       "    </tr>\n",
       "    <tr>\n",
       "      <th>2</th>\n",
       "      <td>Distributed PV</td>\n",
       "      <td>5842.3330</td>\n",
       "      <td>5417.1240</td>\n",
       "    </tr>\n",
       "    <tr>\n",
       "      <th>3</th>\n",
       "      <td>Hydro</td>\n",
       "      <td>1125.4695</td>\n",
       "      <td>947.0640</td>\n",
       "    </tr>\n",
       "    <tr>\n",
       "      <th>4</th>\n",
       "      <td>Utility-scale Solar</td>\n",
       "      <td>2356.6765</td>\n",
       "      <td>2582.4230</td>\n",
       "    </tr>\n",
       "    <tr>\n",
       "      <th>5</th>\n",
       "      <td>Wind</td>\n",
       "      <td>2514.8595</td>\n",
       "      <td>2992.2475</td>\n",
       "    </tr>\n",
       "  </tbody>\n",
       "</table>\n",
       "</div>"
      ],
      "text/plain": [
       "             Fuel Type  Mean Supply October 2023 (MW)  \\\n",
       "0              Battery                        18.4530   \n",
       "1              Biomass                        66.5195   \n",
       "2       Distributed PV                      5842.3330   \n",
       "3                Hydro                      1125.4695   \n",
       "4  Utility-scale Solar                      2356.6765   \n",
       "5                 Wind                      2514.8595   \n",
       "\n",
       "   Mean Supply September 2024 (MW)  \n",
       "0                         -83.5645  \n",
       "1                          80.9705  \n",
       "2                        5417.1240  \n",
       "3                         947.0640  \n",
       "4                        2582.4230  \n",
       "5                        2992.2475  "
      ]
     },
     "execution_count": 44,
     "metadata": {},
     "output_type": "execute_result"
    }
   ],
   "source": [
    "october_september_mean_supplies = pd.DataFrame({\n",
    "    'Fuel Type': october_2023['Fuel Type'],\n",
    "    'Mean Supply October 2023 (MW)': october_2023['Mean Supply (MW)'],\n",
    "    'Mean Supply September 2024 (MW)': september_2024['Mean Supply (MW)']\n",
    "})\n",
    "october_september_mean_supplies"
   ]
  },
  {
   "cell_type": "markdown",
   "id": "cf2d194d",
   "metadata": {},
   "source": [
    "### Producing the Minimum Negative Supply Amounts and their Frequency"
   ]
  },
  {
   "cell_type": "code",
   "execution_count": null,
   "id": "6ce79ee7",
   "metadata": {},
   "outputs": [],
   "source": [
    "min_neg_supply = supply_summary[supply_summary['Min Supply (MW)'] < 0].groupby('Fuel Type').min().drop(columns = ['Mean Supply (MW)', 'Max Supply (MW)'])"
   ]
  },
  {
   "cell_type": "code",
   "execution_count": null,
   "id": "549b3b16",
   "metadata": {},
   "outputs": [
    {
     "data": {
      "text/html": [
       "<div>\n",
       "<style scoped>\n",
       "    .dataframe tbody tr th:only-of-type {\n",
       "        vertical-align: middle;\n",
       "    }\n",
       "\n",
       "    .dataframe tbody tr th {\n",
       "        vertical-align: top;\n",
       "    }\n",
       "\n",
       "    .dataframe thead th {\n",
       "        text-align: right;\n",
       "    }\n",
       "</style>\n",
       "<table border=\"1\" class=\"dataframe\">\n",
       "  <thead>\n",
       "    <tr style=\"text-align: right;\">\n",
       "      <th></th>\n",
       "      <th>Month</th>\n",
       "      <th>Min Supply (MW)</th>\n",
       "      <th>Frequency of Negative Supply Months</th>\n",
       "    </tr>\n",
       "    <tr>\n",
       "      <th>Fuel Type</th>\n",
       "      <th></th>\n",
       "      <th></th>\n",
       "      <th></th>\n",
       "    </tr>\n",
       "  </thead>\n",
       "  <tbody>\n",
       "    <tr>\n",
       "      <th>Battery</th>\n",
       "      <td>2024-05</td>\n",
       "      <td>-161.050</td>\n",
       "      <td>15</td>\n",
       "    </tr>\n",
       "    <tr>\n",
       "      <th>Biomass</th>\n",
       "      <td>2022-10</td>\n",
       "      <td>-4.950</td>\n",
       "      <td>6</td>\n",
       "    </tr>\n",
       "    <tr>\n",
       "      <th>Liquid Fuel</th>\n",
       "      <td>2022-10</td>\n",
       "      <td>-0.100</td>\n",
       "      <td>5</td>\n",
       "    </tr>\n",
       "    <tr>\n",
       "      <th>Utility-scale Solar</th>\n",
       "      <td>2022-08</td>\n",
       "      <td>-0.202</td>\n",
       "      <td>4</td>\n",
       "    </tr>\n",
       "  </tbody>\n",
       "</table>\n",
       "</div>"
      ],
      "text/plain": [
       "                       Month  Min Supply (MW)  \\\n",
       "Fuel Type                                       \n",
       "Battery              2024-05         -161.050   \n",
       "Biomass              2022-10           -4.950   \n",
       "Liquid Fuel          2022-10           -0.100   \n",
       "Utility-scale Solar  2022-08           -0.202   \n",
       "\n",
       "                     Frequency of Negative Supply Months  \n",
       "Fuel Type                                                 \n",
       "Battery                                               15  \n",
       "Biomass                                                6  \n",
       "Liquid Fuel                                            5  \n",
       "Utility-scale Solar                                    4  "
      ]
     },
     "execution_count": 46,
     "metadata": {},
     "output_type": "execute_result"
    }
   ],
   "source": [
    "min_neg_freq = supply_summary[supply_summary['Min Supply (MW)'] < 0]['Fuel Type'].value_counts().to_list()\n",
    "min_neg_supply['Frequency of Negative Supply Months'] = min_neg_freq\n",
    "min_neg_supply"
   ]
  },
  {
   "cell_type": "markdown",
   "id": "ca4ea9bf",
   "metadata": {},
   "source": [
    "Cell used to export the data to Excel"
   ]
  },
  {
   "cell_type": "code",
   "execution_count": null,
   "id": "a2bfc167",
   "metadata": {},
   "outputs": [],
   "source": [
    "min_neg_supply.to_excel('data/min_negative_supplies.xlsx')"
   ]
  },
  {
   "cell_type": "markdown",
   "id": "9015755e",
   "metadata": {},
   "source": [
    "### Function to Produce DataFrame for the CAGR of each Source"
   ]
  },
  {
   "cell_type": "code",
   "execution_count": null,
   "id": "a71586e6",
   "metadata": {},
   "outputs": [
    {
     "data": {
      "text/html": [
       "<div>\n",
       "<style scoped>\n",
       "    .dataframe tbody tr th:only-of-type {\n",
       "        vertical-align: middle;\n",
       "    }\n",
       "\n",
       "    .dataframe tbody tr th {\n",
       "        vertical-align: top;\n",
       "    }\n",
       "\n",
       "    .dataframe thead th {\n",
       "        text-align: right;\n",
       "    }\n",
       "</style>\n",
       "<table border=\"1\" class=\"dataframe\">\n",
       "  <thead>\n",
       "    <tr style=\"text-align: right;\">\n",
       "      <th></th>\n",
       "      <th>Fuel Type</th>\n",
       "      <th>Month</th>\n",
       "      <th>Mean Supply (MW)</th>\n",
       "      <th>Min Supply (MW)</th>\n",
       "      <th>Max Supply (MW)</th>\n",
       "    </tr>\n",
       "  </thead>\n",
       "  <tbody>\n",
       "    <tr>\n",
       "      <th>0</th>\n",
       "      <td>Battery</td>\n",
       "      <td>2018-01</td>\n",
       "      <td>0.2830</td>\n",
       "      <td>0.000</td>\n",
       "      <td>0.566</td>\n",
       "    </tr>\n",
       "    <tr>\n",
       "      <th>1</th>\n",
       "      <td>Hydro</td>\n",
       "      <td>2018-01</td>\n",
       "      <td>1122.2300</td>\n",
       "      <td>355.826</td>\n",
       "      <td>1888.634</td>\n",
       "    </tr>\n",
       "    <tr>\n",
       "      <th>2</th>\n",
       "      <td>Biomass</td>\n",
       "      <td>2018-01</td>\n",
       "      <td>12.3745</td>\n",
       "      <td>10.233</td>\n",
       "      <td>14.516</td>\n",
       "    </tr>\n",
       "    <tr>\n",
       "      <th>3</th>\n",
       "      <td>Wind</td>\n",
       "      <td>2018-01</td>\n",
       "      <td>1715.5270</td>\n",
       "      <td>566.570</td>\n",
       "      <td>2864.484</td>\n",
       "    </tr>\n",
       "    <tr>\n",
       "      <th>4</th>\n",
       "      <td>Distributed PV</td>\n",
       "      <td>2018-01</td>\n",
       "      <td>1938.2870</td>\n",
       "      <td>0.000</td>\n",
       "      <td>3876.574</td>\n",
       "    </tr>\n",
       "    <tr>\n",
       "      <th>...</th>\n",
       "      <td>...</td>\n",
       "      <td>...</td>\n",
       "      <td>...</td>\n",
       "      <td>...</td>\n",
       "      <td>...</td>\n",
       "    </tr>\n",
       "    <tr>\n",
       "      <th>547</th>\n",
       "      <td>Hydro</td>\n",
       "      <td>2025-08</td>\n",
       "      <td>1224.0985</td>\n",
       "      <td>586.385</td>\n",
       "      <td>1861.812</td>\n",
       "    </tr>\n",
       "    <tr>\n",
       "      <th>548</th>\n",
       "      <td>Biomass</td>\n",
       "      <td>2025-08</td>\n",
       "      <td>40.5620</td>\n",
       "      <td>35.100</td>\n",
       "      <td>46.024</td>\n",
       "    </tr>\n",
       "    <tr>\n",
       "      <th>549</th>\n",
       "      <td>Battery</td>\n",
       "      <td>2025-08</td>\n",
       "      <td>7.2425</td>\n",
       "      <td>2.324</td>\n",
       "      <td>12.161</td>\n",
       "    </tr>\n",
       "    <tr>\n",
       "      <th>550</th>\n",
       "      <td>Utility-scale Solar</td>\n",
       "      <td>2025-08</td>\n",
       "      <td>2863.1915</td>\n",
       "      <td>0.462</td>\n",
       "      <td>5725.921</td>\n",
       "    </tr>\n",
       "    <tr>\n",
       "      <th>551</th>\n",
       "      <td>Wind</td>\n",
       "      <td>2025-08</td>\n",
       "      <td>2936.4945</td>\n",
       "      <td>1980.663</td>\n",
       "      <td>3892.326</td>\n",
       "    </tr>\n",
       "  </tbody>\n",
       "</table>\n",
       "<p>552 rows × 5 columns</p>\n",
       "</div>"
      ],
      "text/plain": [
       "               Fuel Type    Month  Mean Supply (MW)  Min Supply (MW)  \\\n",
       "0                Battery  2018-01            0.2830            0.000   \n",
       "1                  Hydro  2018-01         1122.2300          355.826   \n",
       "2                Biomass  2018-01           12.3745           10.233   \n",
       "3                   Wind  2018-01         1715.5270          566.570   \n",
       "4         Distributed PV  2018-01         1938.2870            0.000   \n",
       "..                   ...      ...               ...              ...   \n",
       "547                Hydro  2025-08         1224.0985          586.385   \n",
       "548              Biomass  2025-08           40.5620           35.100   \n",
       "549              Battery  2025-08            7.2425            2.324   \n",
       "550  Utility-scale Solar  2025-08         2863.1915            0.462   \n",
       "551                 Wind  2025-08         2936.4945         1980.663   \n",
       "\n",
       "     Max Supply (MW)  \n",
       "0              0.566  \n",
       "1           1888.634  \n",
       "2             14.516  \n",
       "3           2864.484  \n",
       "4           3876.574  \n",
       "..               ...  \n",
       "547         1861.812  \n",
       "548           46.024  \n",
       "549           12.161  \n",
       "550         5725.921  \n",
       "551         3892.326  \n",
       "\n",
       "[552 rows x 5 columns]"
      ]
     },
     "execution_count": 48,
     "metadata": {},
     "output_type": "execute_result"
    }
   ],
   "source": [
    "renewables_df"
   ]
  },
  {
   "cell_type": "code",
   "execution_count": null,
   "id": "aca9d559",
   "metadata": {},
   "outputs": [
    {
     "name": "stdout",
     "output_type": "stream",
     "text": [
      "['Battery', 'Hydro', 'Biomass', 'Wind', 'Distributed PV', 'Utility-scale Solar']\n"
     ]
    },
    {
     "data": {
      "text/html": [
       "<div>\n",
       "<style scoped>\n",
       "    .dataframe tbody tr th:only-of-type {\n",
       "        vertical-align: middle;\n",
       "    }\n",
       "\n",
       "    .dataframe tbody tr th {\n",
       "        vertical-align: top;\n",
       "    }\n",
       "\n",
       "    .dataframe thead th {\n",
       "        text-align: right;\n",
       "    }\n",
       "</style>\n",
       "<table border=\"1\" class=\"dataframe\">\n",
       "  <thead>\n",
       "    <tr style=\"text-align: right;\">\n",
       "      <th></th>\n",
       "      <th>CAGR (%)</th>\n",
       "      <th>Start Mean Supply (MW)</th>\n",
       "      <th>End Mean Supply (MW)</th>\n",
       "    </tr>\n",
       "  </thead>\n",
       "  <tbody>\n",
       "    <tr>\n",
       "      <th>Battery</th>\n",
       "      <td>58.912273</td>\n",
       "      <td>0.2830</td>\n",
       "      <td>7.2425</td>\n",
       "    </tr>\n",
       "    <tr>\n",
       "      <th>Hydro</th>\n",
       "      <td>1.248976</td>\n",
       "      <td>1122.2300</td>\n",
       "      <td>1224.0985</td>\n",
       "    </tr>\n",
       "    <tr>\n",
       "      <th>Biomass</th>\n",
       "      <td>18.482977</td>\n",
       "      <td>12.3745</td>\n",
       "      <td>40.5620</td>\n",
       "    </tr>\n",
       "    <tr>\n",
       "      <th>Wind</th>\n",
       "      <td>7.981008</td>\n",
       "      <td>1715.5270</td>\n",
       "      <td>2936.4945</td>\n",
       "    </tr>\n",
       "    <tr>\n",
       "      <th>Distributed PV</th>\n",
       "      <td>14.618222</td>\n",
       "      <td>1938.2870</td>\n",
       "      <td>5037.2530</td>\n",
       "    </tr>\n",
       "    <tr>\n",
       "      <th>Utility-scale Solar</th>\n",
       "      <td>54.752815</td>\n",
       "      <td>134.7040</td>\n",
       "      <td>2863.1915</td>\n",
       "    </tr>\n",
       "  </tbody>\n",
       "</table>\n",
       "</div>"
      ],
      "text/plain": [
       "                      CAGR (%)  Start Mean Supply (MW)  End Mean Supply (MW)\n",
       "Battery              58.912273                  0.2830                7.2425\n",
       "Hydro                 1.248976               1122.2300             1224.0985\n",
       "Biomass              18.482977                 12.3745               40.5620\n",
       "Wind                  7.981008               1715.5270             2936.4945\n",
       "Distributed PV       14.618222               1938.2870             5037.2530\n",
       "Utility-scale Solar  54.752815                134.7040             2863.1915"
      ]
     },
     "execution_count": 49,
     "metadata": {},
     "output_type": "execute_result"
    }
   ],
   "source": [
    "renewables_cagr = produce_cagr_dataframe(renewables_df, '2018-01', '2025-08')\n",
    "renewables_cagr"
   ]
  },
  {
   "cell_type": "code",
   "execution_count": null,
   "id": "a83f4dd7",
   "metadata": {},
   "outputs": [
    {
     "name": "stdout",
     "output_type": "stream",
     "text": [
      "['Liquid Fuel', 'Black coal', 'Brown coal', 'Gas']\n"
     ]
    },
    {
     "data": {
      "text/html": [
       "<div>\n",
       "<style scoped>\n",
       "    .dataframe tbody tr th:only-of-type {\n",
       "        vertical-align: middle;\n",
       "    }\n",
       "\n",
       "    .dataframe tbody tr th {\n",
       "        vertical-align: top;\n",
       "    }\n",
       "\n",
       "    .dataframe thead th {\n",
       "        text-align: right;\n",
       "    }\n",
       "</style>\n",
       "<table border=\"1\" class=\"dataframe\">\n",
       "  <thead>\n",
       "    <tr style=\"text-align: right;\">\n",
       "      <th></th>\n",
       "      <th>CAGR (%)</th>\n",
       "      <th>Start Mean Supply (MW)</th>\n",
       "      <th>End Mean Supply (MW)</th>\n",
       "    </tr>\n",
       "  </thead>\n",
       "  <tbody>\n",
       "    <tr>\n",
       "      <th>Liquid Fuel</th>\n",
       "      <td>-100.000000</td>\n",
       "      <td>0.0595</td>\n",
       "      <td>0.0000</td>\n",
       "    </tr>\n",
       "    <tr>\n",
       "      <th>Black coal</th>\n",
       "      <td>-4.283867</td>\n",
       "      <td>12383.7065</td>\n",
       "      <td>9114.7900</td>\n",
       "    </tr>\n",
       "    <tr>\n",
       "      <th>Brown coal</th>\n",
       "      <td>-3.237220</td>\n",
       "      <td>4597.9545</td>\n",
       "      <td>3651.9350</td>\n",
       "    </tr>\n",
       "    <tr>\n",
       "      <th>Gas</th>\n",
       "      <td>-8.579342</td>\n",
       "      <td>1712.7820</td>\n",
       "      <td>914.1395</td>\n",
       "    </tr>\n",
       "  </tbody>\n",
       "</table>\n",
       "</div>"
      ],
      "text/plain": [
       "               CAGR (%)  Start Mean Supply (MW)  End Mean Supply (MW)\n",
       "Liquid Fuel -100.000000                  0.0595                0.0000\n",
       "Black coal    -4.283867              12383.7065             9114.7900\n",
       "Brown coal    -3.237220               4597.9545             3651.9350\n",
       "Gas           -8.579342               1712.7820              914.1395"
      ]
     },
     "execution_count": 50,
     "metadata": {},
     "output_type": "execute_result"
    }
   ],
   "source": [
    "non_renewables_cagr = produce_cagr_dataframe(non_renewables_df, '2018-01', '2025-08')\n",
    "non_renewables_cagr"
   ]
  },
  {
   "cell_type": "markdown",
   "id": "29fbc0ea",
   "metadata": {},
   "source": [
    "### Writing the data to an Excel File"
   ]
  },
  {
   "cell_type": "code",
   "execution_count": null,
   "id": "fcb997f8",
   "metadata": {},
   "outputs": [],
   "source": [
    "renewables_cagr.to_excel('data/renewables_cagr.xlsx')\n",
    "non_renewables_cagr.to_excel('data/non_renewables_cagr.xlsx')"
   ]
  },
  {
   "cell_type": "markdown",
   "id": "3c769eb4",
   "metadata": {},
   "source": [
    "## Creating the State Level Fuel Type Charts"
   ]
  },
  {
   "cell_type": "code",
   "execution_count": null,
   "id": "54b22878",
   "metadata": {},
   "outputs": [],
   "source": [
    "nsw_fuel_generation_agg_no_coal = nsw_fuel_generation_agg[nsw_fuel_generation_agg['Fuel Type'] != 'Fossil - Black Coal']"
   ]
  },
  {
   "cell_type": "code",
   "execution_count": null,
   "id": "645242db",
   "metadata": {},
   "outputs": [
    {
     "data": {
      "application/vnd.plotly.v1+json": {
       "config": {
        "plotlyServerURL": "https://plot.ly"
       },
       "data": [
        {
         "hovertemplate": "Fuel Type=Fossil - Black Coal<br>Month=%{x}<br>Generation (MWh)=%{y}<extra></extra>",
         "legendgroup": "Fossil - Black Coal",
         "line": {
          "color": "#636efa",
          "dash": "solid"
         },
         "marker": {
          "symbol": "circle"
         },
         "mode": "lines",
         "name": "Fossil - Black Coal",
         "orientation": "v",
         "showlegend": true,
         "type": "scatter",
         "x": [
          "01-2018",
          "02-2018",
          "03-2018",
          "04-2018",
          "05-2018",
          "06-2018",
          "07-2018",
          "08-2018",
          "09-2018",
          "10-2018",
          "11-2018",
          "12-2018",
          "01-2019",
          "02-2019",
          "03-2019",
          "04-2019",
          "05-2019",
          "06-2019",
          "07-2019",
          "08-2019",
          "09-2019",
          "10-2019",
          "11-2019",
          "12-2019",
          "01-2020",
          "02-2020",
          "03-2020",
          "04-2020",
          "05-2020",
          "06-2020",
          "07-2020",
          "08-2020",
          "09-2020",
          "10-2020",
          "11-2020",
          "12-2020",
          "01-2021",
          "02-2021",
          "03-2021",
          "04-2021",
          "05-2021",
          "06-2021",
          "07-2021",
          "08-2021",
          "09-2021",
          "10-2021",
          "11-2021",
          "12-2021",
          "01-2022",
          "02-2022",
          "03-2022",
          "04-2022",
          "05-2022",
          "06-2022",
          "07-2022",
          "08-2022",
          "09-2022",
          "10-2022",
          "11-2022",
          "12-2022",
          "01-2023",
          "02-2023",
          "03-2023",
          "04-2023",
          "05-2023",
          "06-2023",
          "07-2023",
          "08-2023",
          "09-2023",
          "10-2023",
          "11-2023",
          "12-2023",
          "01-2024",
          "02-2024",
          "03-2024",
          "04-2024",
          "05-2024",
          "06-2024",
          "07-2024",
          "08-2024",
          "09-2024",
          "10-2024",
          "11-2024",
          "12-2024",
          "01-2025",
          "02-2025",
          "03-2025",
          "04-2025",
          "05-2025",
          "06-2025",
          "07-2025"
         ],
         "xaxis": "x",
         "y": {
          "bdata": "FmpNWMtWi0Eps0EHnl6HQbPvSnz9uIhBCMlCJvUTg0FMporf3oKFQQ0aumHNuYdBzTtO86idiEFXeNdudzyGQcbhDOHpS4RBkzUq3DXyhkGgGm8r3fqHQdDQ/4TbXIZB1T7dn3Aji0GD3XBpgQaGQcZt9EfhZYdBCObofefphUFnRKl2hoWIQYM0Yx6ZYYdBlZ+UhF8TiUEg79UlFEWGQY+ljxoAUYBBlE05ym9RgEHxSz2Y7xGCQckfTIDUdoZBxm10nb9Dh0GF61HLAUGEQXHJcfFpYoNBNEuC93f7gUHqymfxzgOGQWqHv06h9YdB/itr1ifoikE51gXpQAOIQSmzAT59GoNBlKQrc/GFgkHXEnKpPSGDQULPpkF2/IJBd/jrBqekhEERHi3T4KGCQWqk5REcHINBKh0sw+2AgkGGciKwLv+FQdjwtNaFdohB0VcQDL+nhkEZkL1BDfOEQYsyW0W8s4FBi2znsftAgEHTwXpPyTuBQeyGbVm1J4FBz6BhwUZTg0GU2SAed1SCQSdOLpmsYIFBGCE8n7zsgEF0B3ErXnuDQdMTFnj0RIRBUwWjOMaViEGV1MnyY+iFQR8ueRQhEoJBNSmF3vgvgkE/UkQ3+g9/QSy3NF9LC39B4Sh50ssygUFIiogFdYGBQRefwkSdaYJBURToOPAigEGVZUjQ8/KGQVRSpwqemYhBptD5OsaMh0Fivrw+Ht6EQevF0F4CDoJBxm30g1bxgUENGjr+7mqBQeZ02UDUUYVB4V2urxMsh0F4YtYOqEmGQcvWOg1yNIZBLXiRvRryhEE6Iwo0INOHQcqJ9iNCQ4pBB87ZBLQWi0Fi8zEwXKCGQUmilzxlDYFBLudSQXfbgUGQ2kTQaW+CQdKpK5+yGIVB3uWiI2MyhUFWfe4eOX6DQYv9JUOoM4ZBGlEaKU/CgUFSSR1hW+2FQWMLgYfDm4hBaNBQ5miUiUE=",
          "dtype": "f8"
         },
         "yaxis": "y"
        },
        {
         "hovertemplate": "Fuel Type=Fossil - Diesel<br>Month=%{x}<br>Generation (MWh)=%{y}<extra></extra>",
         "legendgroup": "Fossil - Diesel",
         "line": {
          "color": "#EF553B",
          "dash": "solid"
         },
         "marker": {
          "symbol": "circle"
         },
         "mode": "lines",
         "name": "Fossil - Diesel",
         "orientation": "v",
         "showlegend": true,
         "type": "scatter",
         "x": [
          "01-2018",
          "02-2018",
          "03-2018",
          "04-2018",
          "05-2018",
          "06-2018",
          "07-2018",
          "08-2018",
          "09-2018",
          "10-2018",
          "11-2018",
          "12-2018",
          "01-2019",
          "02-2019",
          "03-2019",
          "04-2019",
          "05-2019",
          "06-2019",
          "07-2019",
          "08-2019",
          "09-2019",
          "10-2019",
          "11-2019",
          "12-2019",
          "01-2020",
          "02-2020",
          "03-2020",
          "04-2020",
          "05-2020",
          "06-2020",
          "07-2020",
          "08-2020",
          "09-2020",
          "10-2020",
          "11-2020",
          "12-2020",
          "01-2021",
          "02-2021",
          "03-2021",
          "04-2021",
          "05-2021",
          "06-2021",
          "07-2021",
          "08-2021",
          "09-2021",
          "10-2021",
          "11-2021",
          "12-2021",
          "01-2022",
          "02-2022",
          "03-2022",
          "04-2022",
          "05-2022",
          "06-2022",
          "07-2022",
          "08-2022",
          "09-2022",
          "10-2022",
          "11-2022",
          "12-2022",
          "01-2023",
          "02-2023",
          "03-2023",
          "04-2023",
          "05-2023",
          "06-2023",
          "07-2023",
          "08-2023",
          "09-2023",
          "10-2023",
          "11-2023",
          "12-2023",
          "01-2024",
          "02-2024",
          "03-2024",
          "04-2024",
          "05-2024",
          "06-2024",
          "07-2024",
          "08-2024",
          "09-2024",
          "10-2024",
          "11-2024",
          "12-2024",
          "01-2025",
          "02-2025",
          "03-2025",
          "04-2025",
          "05-2025",
          "06-2025",
          "07-2025"
         ],
         "xaxis": "x",
         "y": {
          "bdata": "uW+1Tlx7eEB6AfbRqYdJwP4KmStDmnRAY0M3+wPubEANqDejZn5yQL8ma9RD031AFFrW/aPwfECWdmoutzd8QGa+g58YZotAYp6VtCKKcUCCixU1GKRjQNFdEmdFDlHAXMe44uLzXMBQOSaL+xdTQHkhHR7CTGBAaAQb17+/UEBNDwpKsaKVQE3bv7LSP39ADMwKRVpegkAdrP9zSJ+nQHbfMTwKjrJA+BxYjgz6sEA89rNYKv6EQE6c3O8QvnLALv8h/X5mqkB872/QnmZ6wOHUB5KH+JjADtqrjydHlsCrzmqBvXlrwKQ1Bp2QjXpATwXc8/zhRECBzM6i90l0QJ/MP/omwFjAAWvVrokMgEB1VgvssSBpwOLmVDJw26JAuXGL+bmla8DnxvSEpR1xwJmEC3nEd3LAJ/im6fPrc8BTB3k9GBplQPcjRWQ8nrFA4UVfQYqRt0AL0/caAiGAwC7KbJAJQ4jAwJMWLovJhsCrWPymkAqBwCO+E7P+34DA+fNtwbpvocC2FfvLLvuJQCU7NgLR3pTArMd9qzXNisDwiuB/PXLCQNANTdn5hsZAc58cBWhEvUC371F/PTp7QDMzMzMzc1pApTDvcWbGdEDQe2MIAPyDQHQJh95iCnZAlZuopZkRhUBwlScQxoqkQMxFfCfuDaNArDqrBTYugkAGnRA64DS9QBKhEWwEJbdAKc3mcRgyVUBYcaq1hL+yQAAAAAAAAAAAT8k5sYf8m0C5+rFJQrLMQL+aAwQz6pJAu2JGeIOnqED2fThIdOi1QHY3T3WIiYhAZJY9CWynrUA8iJ0plqvMQF9+p8n9zdVACU/o9SctdkAFMGXg0Ey2QP6BcttupLdAWCB60uPL5UBrnE1HJDfMQLHFbp8HMsNAAAAAAAB4hkBPzeUGA+lzQAAAAAAAYGxAYCAIkDE/o0CwAKYMrODTQKkWEcVEYJVAZmZmZmZmXkA=",
          "dtype": "f8"
         },
         "yaxis": "y"
        },
        {
         "hovertemplate": "Fuel Type=Fossil - Natural Gas Pipeline<br>Month=%{x}<br>Generation (MWh)=%{y}<extra></extra>",
         "legendgroup": "Fossil - Natural Gas Pipeline",
         "line": {
          "color": "#00cc96",
          "dash": "solid"
         },
         "marker": {
          "symbol": "circle"
         },
         "mode": "lines",
         "name": "Fossil - Natural Gas Pipeline",
         "orientation": "v",
         "showlegend": true,
         "type": "scatter",
         "x": [
          "01-2018",
          "02-2018",
          "03-2018",
          "04-2018",
          "05-2018",
          "06-2018",
          "07-2018",
          "08-2018",
          "09-2018",
          "10-2018",
          "11-2018",
          "12-2018",
          "01-2019",
          "02-2019",
          "03-2019",
          "04-2019",
          "05-2019",
          "06-2019",
          "07-2019",
          "08-2019",
          "09-2019",
          "10-2019",
          "11-2019",
          "12-2019",
          "01-2020",
          "02-2020",
          "03-2020",
          "04-2020",
          "05-2020",
          "06-2020",
          "07-2020",
          "08-2020",
          "09-2020",
          "10-2020",
          "11-2020",
          "12-2020",
          "01-2021",
          "02-2021",
          "03-2021",
          "04-2021",
          "05-2021",
          "06-2021",
          "07-2021",
          "08-2021",
          "09-2021",
          "10-2021",
          "11-2021",
          "12-2021",
          "01-2022",
          "02-2022",
          "03-2022",
          "04-2022",
          "05-2022",
          "06-2022",
          "07-2022",
          "08-2022",
          "09-2022",
          "10-2022",
          "11-2022",
          "12-2022",
          "01-2023",
          "02-2023",
          "03-2023",
          "04-2023",
          "05-2023",
          "06-2023",
          "07-2023",
          "08-2023",
          "09-2023",
          "10-2023",
          "11-2023",
          "12-2023",
          "01-2024",
          "02-2024",
          "03-2024",
          "04-2024",
          "05-2024",
          "06-2024",
          "07-2024",
          "08-2024",
          "09-2024",
          "10-2024",
          "11-2024",
          "12-2024",
          "01-2025",
          "02-2025",
          "03-2025",
          "04-2025",
          "05-2025",
          "06-2025",
          "07-2025"
         ],
         "xaxis": "x",
         "y": {
          "bdata": "CqLuA/3/MkFtrS8qwzExQa+2Yn/cYCNBXYqrMoAqMEH35GERMEorQcQI4UGVDDVB2PULZilIOUEG2EePCCdCQfZdEXBZikFB3Qw3UPhlIkE7qpqgoXI0QaGEmb7CmjJBiIVa28KFN0EH8BaIUk86QTHrxbjcAzdBX3tmSVZz8kAdPX5PzTwUQYczv1IfijZBujE9gffKQkEO2xbRodxKQfRsVpVjoUtBEAaea94sU0HMKJZHII1BQfcGX1gHUxdBSMSUWG8rOkF4RfC/+aozQUm6ZkKWaipBN45YOxSTJUE6ksufMMItQVN5O5p9+DJBbFuU0auhNUEoYaZl7YsxQT7o2QzYuRBB8l61+pNWNkF2/YLdMQUuQfZdEYxuDClBRFGgL1YaKEEebRyxnkrgQCS05TwRxRhBbLJG3ZLBIUGIEcIjDjUnQRGq1Jho0UNB8nubovGWQ0FeaK5DxY8lQUJD/8xSEzFBxawXowEvJUG2EORw2w8mQZ1oVyHEuDBBIEHxB4olQUG78ll6p1xAQXdn7eZLtUlBE/JBA+BCQEGJ6q3liKtQQWfV55jtPFhBVn2uwo6NTUEKLlYEMds1QXAIVcqiuzRBXmOXMMJzNEG2Z5bUnRAkQVch5ae9zxdBsP7PkXG+KEHja88soBIHQZUrvM9MJ0ZB76zdttj6QEH6J7i89ohEQfaX3RPtlTZBKETA6cMXOUFYkGb8Umo+QfWEJV6pFB5Bc51G2pqPDEHuPVyK8zs3QQyTqXJcIi9BIuAQqlQ8GUHJk6T7zBApQeC+DjxskCtBVB1ys9fyJEFBSBZAvNU/QYkHlO2ulElBD+7OojQOO0HOwp4uvaY6QdSa5p0iySJBA0NWN8klDUH8+4xLxv4tQUM50f6RDjFBQQ5K6JYfJEFeEfy/KfElQfDErDem6xdBvAUShJe8PkHEsS6WJBU7QWK+vEh6r0dB8s02f7AePkE=",
          "dtype": "f8"
         },
         "yaxis": "y"
        },
        {
         "hovertemplate": "Fuel Type=Hydro - Water<br>Month=%{x}<br>Generation (MWh)=%{y}<extra></extra>",
         "legendgroup": "Hydro - Water",
         "line": {
          "color": "#ab63fa",
          "dash": "solid"
         },
         "marker": {
          "symbol": "circle"
         },
         "mode": "lines",
         "name": "Hydro - Water",
         "orientation": "v",
         "showlegend": true,
         "type": "scatter",
         "x": [
          "01-2018",
          "02-2018",
          "03-2018",
          "04-2018",
          "05-2018",
          "06-2018",
          "07-2018",
          "08-2018",
          "09-2018",
          "10-2018",
          "11-2018",
          "12-2018",
          "01-2019",
          "02-2019",
          "03-2019",
          "04-2019",
          "05-2019",
          "06-2019",
          "07-2019",
          "08-2019",
          "09-2019",
          "10-2019",
          "11-2019",
          "12-2019",
          "01-2020",
          "02-2020",
          "03-2020",
          "04-2020",
          "05-2020",
          "06-2020",
          "07-2020",
          "08-2020",
          "09-2020",
          "10-2020",
          "11-2020",
          "12-2020",
          "01-2021",
          "02-2021",
          "03-2021",
          "04-2021",
          "05-2021",
          "06-2021",
          "07-2021",
          "08-2021",
          "09-2021",
          "10-2021",
          "11-2021",
          "12-2021",
          "01-2022",
          "02-2022",
          "03-2022",
          "04-2022",
          "05-2022",
          "06-2022",
          "07-2022",
          "08-2022",
          "09-2022",
          "10-2022",
          "11-2022",
          "12-2022",
          "01-2023",
          "02-2023",
          "03-2023",
          "04-2023",
          "05-2023",
          "06-2023",
          "07-2023",
          "08-2023",
          "09-2023",
          "10-2023",
          "11-2023",
          "12-2023",
          "01-2024",
          "02-2024",
          "03-2024",
          "04-2024",
          "05-2024",
          "06-2024",
          "07-2024",
          "08-2024",
          "09-2024",
          "10-2024",
          "11-2024",
          "12-2024",
          "01-2025",
          "02-2025",
          "03-2025",
          "04-2025",
          "05-2025",
          "06-2025",
          "07-2025"
         ],
         "xaxis": "x",
         "y": {
          "bdata": "n1kS3JnpRkEwL8Da03VFQaJinN+UQEpBUU60v6R9SUGc+dV4PiREQXQklyn7ElRByvj3hYVxSUF3EDv/rKlOQXwnZn3b5DtBhc5rNNw9MEEaNPRv/vorQagd/jIpXDZBEHo2IwBONUGUMNN2mlojQajjMUPSeCtBQSswHHgNMEGcilQMGjpDQfKYgSbPDEhByeU/NPZ6PEEgmKPPx/RBQXoZxW5TL0FBH2gFjp6qREGVtyPELs42QdGRXE70jTFBLWACa7f2REFvnuq0GVNEQYAO88ET7kFBX0GaYXR0NUGUpGvmWPAbQd/gCxudoT5BQSswpMClO0Hr/xxyXQBJQb1SljFwFDpBkQ96xsqZNEGUap/CDEJGQZkSSajCB0tBB84ZdWy2RkE486ttaIlCQTl/ExowwEFBf03WsIVzPkEcX3smTjVMQZynOrz78UxBrp6Tjt2fQUF9eQH2Fys1QcjvbSrwAjRBAKlN0PtfQ0GsqMG8PsQ7QfT91ASr7kRBnl4p5yiyR0GM1lEh/qJGQZFEL9Ox5UJBlX1XIP5DQEEnoIny9yVUQa36XE2bYVNBzeSb4RSAUUGZZOREdAlCQRDM0ZuZrUJByZOk6zjlQkFKB+vXC4BLQdPe4Fd6AEpBMUJ4+KAwT0HD9Sh08k08Qf4rK4lXxUdB5dAi/70fQkHdDDdmsItQQV8py5jV6E5BJH8wQMjYTEEW9rS3rYVMQeik98WbdzxBb/CF7UDwQ0GhZ7OKuLpNQdU+He9M+UZB43Dm40pzQUEtIR9walxDQczuyfe//kBB7zhFF2nDPUE4Z0S1ntVBQe/mqcobmkFBPj+MIMA7RkHcupunETRIQYzbaKxzikBBjC0EObyaRUHnUlyDq9BQQT5cchx3J0FBu0T1JmBsOUEPnDOiT4A+QYqT+42daDtBVFIn/O8fQUEep+jwEWxJQXFa8K77wk1BFoczH6RoP0E=",
          "dtype": "f8"
         },
         "yaxis": "y"
        },
        {
         "hovertemplate": "Fuel Type=Solar - Solar<br>Month=%{x}<br>Generation (MWh)=%{y}<extra></extra>",
         "legendgroup": "Solar - Solar",
         "line": {
          "color": "#FFA15A",
          "dash": "solid"
         },
         "marker": {
          "symbol": "circle"
         },
         "mode": "lines",
         "name": "Solar - Solar",
         "orientation": "v",
         "showlegend": true,
         "type": "scatter",
         "x": [
          "01-2018",
          "02-2018",
          "03-2018",
          "04-2018",
          "05-2018",
          "06-2018",
          "07-2018",
          "08-2018",
          "09-2018",
          "10-2018",
          "11-2018",
          "12-2018",
          "01-2019",
          "02-2019",
          "03-2019",
          "04-2019",
          "05-2019",
          "06-2019",
          "07-2019",
          "08-2019",
          "09-2019",
          "10-2019",
          "11-2019",
          "12-2019",
          "01-2020",
          "02-2020",
          "03-2020",
          "04-2020",
          "05-2020",
          "06-2020",
          "07-2020",
          "08-2020",
          "09-2020",
          "10-2020",
          "11-2020",
          "12-2020",
          "01-2021",
          "02-2021",
          "03-2021",
          "04-2021",
          "05-2021",
          "06-2021",
          "07-2021",
          "08-2021",
          "09-2021",
          "10-2021",
          "11-2021",
          "12-2021",
          "01-2022",
          "02-2022",
          "03-2022",
          "04-2022",
          "05-2022",
          "06-2022",
          "07-2022",
          "08-2022",
          "09-2022",
          "10-2022",
          "11-2022",
          "12-2022",
          "01-2023",
          "02-2023",
          "03-2023",
          "04-2023",
          "05-2023",
          "06-2023",
          "07-2023",
          "08-2023",
          "09-2023",
          "10-2023",
          "11-2023",
          "12-2023",
          "01-2024",
          "02-2024",
          "03-2024",
          "04-2024",
          "05-2024",
          "06-2024",
          "07-2024",
          "08-2024",
          "09-2024",
          "10-2024",
          "11-2024",
          "12-2024",
          "01-2025",
          "02-2025",
          "03-2025",
          "04-2025",
          "05-2025",
          "06-2025",
          "07-2025"
         ],
         "xaxis": "x",
         "y": {
          "bdata": "8bvpllVGJUEuxsBKsLsiQRxAvze97iRBhEcb32ywJkFDAdsx1/8jQdLEO+Bk0SBB2c2MljPdJEEpIVjddb8nQd3R/1pteipBGlHaY5R1M0Gp9X6jrHA1QQ9h/ATQ5DlBh22LSrnnN0HzkZQgxb82QZn094rJKzRBC2DKFArNMUHde7gcIRkuQbiSHSNCCyxBOSaLF6owMEG6u87iAjo1QQYOaC3L8jdB7PmarSoMPEFfsvGoJC1AQc4Xe+O0lEJBLT4FTuSZQEGH3Xd4yPY9QZATJpBs0j1Bs/D1zd3wNkGH+fJ+mgs3QTZzSBqDxzFBI9xkKCyRN0HIBz3DGXI6Qfs9sXr8kkJBDCO9fK5hRUGaCvEidd1IQXWw/lcHuUtBe0ljBnyqS0GnyveeYw1KQXx+GA/WXElBMGZL5uMTSUEOZhMowW9FQb72zIZRUjpBMUPjQYK4PkHttguf6rlHQVT83+Hntk1BO/w11saxUEGqgeaXTaZHQXC1TrWJU1pBsdtn4YBoWEEktrsUoqhWQft5U31uY1VBYCNJqXJiUEE5ZAPdmZlLQU2FeGRISUVB0ENtsz5VTEFsCmR4aN9OQZ0ui00KLlFB6dSVqvk+UkHOT3H01tlXQQ3hmJhW0l1B1eyBhgfWXEHWAKWkwMRbQTcawMM8o1dBkxra1ELjUkEDsWwCqKpPQUNznZzN1kpBcegtx8/AUEFlVBnUMKZWQfeRW9zlqF1BhZm21pjMWUEjh4hW4CBfQcdkcZhNxGFB3pOH3ZiyYUGqRFnMe4pgQTvFqpc7k15Bt/EnCLn1V0FzK4SEeZVTQV01z2c6p09BWb4u7yvaUUEfSrSFUglWQbAbtrYKkFVBB+qUj9nkXUGjVpgP9Y5gQZBJxlX0T2VBeczAfpg4ZUFzuxfbh5BiQftaFwSzI2BBJ9nqRB8AXEHcD3gYYfdXQexph+iZylNBR60w8N3BVUE=",
          "dtype": "f8"
         },
         "yaxis": "y"
        },
        {
         "hovertemplate": "Fuel Type=Wind - Wind<br>Month=%{x}<br>Generation (MWh)=%{y}<extra></extra>",
         "legendgroup": "Wind - Wind",
         "line": {
          "color": "#19d3f3",
          "dash": "solid"
         },
         "marker": {
          "symbol": "circle"
         },
         "mode": "lines",
         "name": "Wind - Wind",
         "orientation": "v",
         "showlegend": true,
         "type": "scatter",
         "x": [
          "01-2018",
          "02-2018",
          "03-2018",
          "04-2018",
          "05-2018",
          "06-2018",
          "07-2018",
          "08-2018",
          "09-2018",
          "10-2018",
          "11-2018",
          "12-2018",
          "01-2019",
          "02-2019",
          "03-2019",
          "04-2019",
          "05-2019",
          "06-2019",
          "07-2019",
          "08-2019",
          "09-2019",
          "10-2019",
          "11-2019",
          "12-2019",
          "01-2020",
          "02-2020",
          "03-2020",
          "04-2020",
          "05-2020",
          "06-2020",
          "07-2020",
          "08-2020",
          "09-2020",
          "10-2020",
          "11-2020",
          "12-2020",
          "01-2021",
          "02-2021",
          "03-2021",
          "04-2021",
          "05-2021",
          "06-2021",
          "07-2021",
          "08-2021",
          "09-2021",
          "10-2021",
          "11-2021",
          "12-2021",
          "01-2022",
          "02-2022",
          "03-2022",
          "04-2022",
          "05-2022",
          "06-2022",
          "07-2022",
          "08-2022",
          "09-2022",
          "10-2022",
          "11-2022",
          "12-2022",
          "01-2023",
          "02-2023",
          "03-2023",
          "04-2023",
          "05-2023",
          "06-2023",
          "07-2023",
          "08-2023",
          "09-2023",
          "10-2023",
          "11-2023",
          "12-2023",
          "01-2024",
          "02-2024",
          "03-2024",
          "04-2024",
          "05-2024",
          "06-2024",
          "07-2024",
          "08-2024",
          "09-2024",
          "10-2024",
          "11-2024",
          "12-2024",
          "01-2025",
          "02-2025",
          "03-2025",
          "04-2025",
          "05-2025",
          "06-2025",
          "07-2025"
         ],
         "xaxis": "x",
         "y": {
          "bdata": "MEeP7/LPO0GrB8zvjolAQWaC4QysLkRBfJ4/ZbSMQEEVcTrTOvRDQfjj9vs3O0ZBhSUevM2BTUF1VaDdDlpQQVvqIAHa+EhBF7g8RlWMSUFF9Gv3lJlOQcdHiwn0SExBdOrKDQjISUFWurtwwxVPQSE82pZqM05BraOqhe9PTEEMA5YRwuhQQX9QF7OREktB+FROc9lBVEGuYYbJUkhTQcwNhmV35FFBpfeNUztKTkG1qboqPMRTQZzB33GcjFJBpfRMhxq0T0HAXfaO3EZRQWH7yTCIf1BBd0zda9SVUEEMI73NImtRQTrmPHHLgk1Bxm6fV8i9T0HkMQMcy8pVQZgwmk4PklRBRKZ8JqH5UEGYh0xVC3tOQX2SOxn+ulNBzmxXsjufUkEeNLsY2G1RQSwOZxKgg1VBArhZ0IEfT0EIy9j8/KZQQV1uMLKFsFRBp+mzXHgEWkGnlq2TbXJXQa9eRQT141ZBD0dX3W68VUEBo8ulS1ZWQTYGnZX/SFFBy7vq8+YMVUF0KEPtdoZVQRtJghHjlVVBd76fAQYeVUFQVaFFHKdXQcsw7o7E7VlBZVJDzoY4XEGGIAfkG9JbQe1I9aYP9FVBEhYVRELQV0GJ0t73hMdVQRL7BCKma1VBBfhu8ZGnVEHLhF9lBQlVQcAEbobog1ZBwvwV83+FU0FATwMhKSZVQYI3pOHL91lBHeihk9/dV0G8I2OQXfhSQRxEa59R41RBTFXaWv9ZWkF/FeDjOkVUQfd0dbx6/FZB3Xu4AopTWkGfckz83OVWQUg3wt7XclZBr9FyZV1XU0Flq8vpWydXQSV2bcF6YlRBZR0OO0sqYUEzMsiCu8dZQWZr/ZXvi2BBopv9HzwnWEHcm98LwH9ZQQPrOD+zTlhBVcIT5ChkX0HHRiACfmZXQfwBDwqU4WBBhZhLVYyVVkFwz/N+yjVdQeSECUqhaFlBI9kjOXClY0E=",
          "dtype": "f8"
         },
         "yaxis": "y"
        },
        {
         "hovertemplate": "Fuel Type=Renewable Biomass or Waste - Bagasse<br>Month=%{x}<br>Generation (MWh)=%{y}<extra></extra>",
         "legendgroup": "Renewable Biomass or Waste - Bagasse",
         "line": {
          "color": "#FF6692",
          "dash": "solid"
         },
         "marker": {
          "symbol": "circle"
         },
         "mode": "lines",
         "name": "Renewable Biomass or Waste - Bagasse",
         "orientation": "v",
         "showlegend": true,
         "type": "scatter",
         "x": [
          "08-2023",
          "09-2023",
          "10-2023",
          "11-2023",
          "12-2023",
          "01-2024",
          "02-2024",
          "03-2024",
          "04-2024",
          "05-2024",
          "06-2024",
          "07-2024",
          "08-2024",
          "09-2024",
          "10-2024",
          "11-2024",
          "12-2024",
          "01-2025",
          "02-2025",
          "03-2025",
          "04-2025",
          "05-2025",
          "06-2025",
          "07-2025"
         ],
         "xaxis": "x",
         "y": {
          "bdata": "RdlbCs/kBkEVqpvrafoDQev+sXDHyQNB5KPFmfGi60AXtmbrJav6QOHUB1L4B/tAf1AXKdiq9kAtPgUAFMz1QNj1C/YQPfJAyJbl6/mh70AXDK6Zd4QAQel+TuFgNQBBmUo/4Uj2A0HzA1eZUzEGQZEotMy6iQNBQGzpUbg2AEF5spuZ4eHzQCb/k//LavpAvvVhPZpa+EAiNli4nmDwQCZUcLhWU/FA68a7o2Bv+ECSdqOPVsT+QIlCy3rSTgZB",
          "dtype": "f8"
         },
         "yaxis": "y"
        },
        {
         "hovertemplate": "Fuel Type=Renewable Biomass or Waste - Biomass<br>Month=%{x}<br>Generation (MWh)=%{y}<extra></extra>",
         "legendgroup": "Renewable Biomass or Waste - Biomass",
         "line": {
          "color": "#B6E880",
          "dash": "solid"
         },
         "marker": {
          "symbol": "circle"
         },
         "mode": "lines",
         "name": "Renewable Biomass or Waste - Biomass",
         "orientation": "v",
         "showlegend": true,
         "type": "scatter",
         "x": [
          "08-2023",
          "09-2023",
          "10-2023",
          "11-2023",
          "12-2023",
          "01-2024",
          "02-2024",
          "03-2024",
          "04-2024",
          "05-2024",
          "06-2024",
          "07-2024",
          "08-2024",
          "09-2024",
          "10-2024",
          "11-2024",
          "12-2024",
          "01-2025",
          "02-2025",
          "03-2025",
          "04-2025",
          "05-2025",
          "06-2025",
          "07-2025"
         ],
         "xaxis": "x",
         "y": {
          "bdata": "hiAHJZxL60ALe9rhGzzlQC9pjNZliOxAob5lTsPA7UAIlE05wGj1QGX8+8wjIPFAp+Zyw3TH8ECqtTDLjQfzQIIeatuCT/VAsOYAwf8y9UBbCkg7dm/yQGh5HtydhelAtWytL07L50BATS1bX2PkQH+kiAw7uuZAzt+EQrAz50CyvKue//XuQEp87kSXNfRAcoxkD4CQ7EDHL7yS4TL1QAXB41uwcOnA6DBfHvK88sBHzOwz1j/+wEUUkzfuHszA",
          "dtype": "f8"
         },
         "yaxis": "y"
        }
       ],
       "layout": {
        "legend": {
         "title": {
          "text": "Fuel Type"
         },
         "tracegroupgap": 0
        },
        "template": {
         "data": {
          "bar": [
           {
            "error_x": {
             "color": "#2a3f5f"
            },
            "error_y": {
             "color": "#2a3f5f"
            },
            "marker": {
             "line": {
              "color": "#E5ECF6",
              "width": 0.5
             },
             "pattern": {
              "fillmode": "overlay",
              "size": 10,
              "solidity": 0.2
             }
            },
            "type": "bar"
           }
          ],
          "barpolar": [
           {
            "marker": {
             "line": {
              "color": "#E5ECF6",
              "width": 0.5
             },
             "pattern": {
              "fillmode": "overlay",
              "size": 10,
              "solidity": 0.2
             }
            },
            "type": "barpolar"
           }
          ],
          "carpet": [
           {
            "aaxis": {
             "endlinecolor": "#2a3f5f",
             "gridcolor": "white",
             "linecolor": "white",
             "minorgridcolor": "white",
             "startlinecolor": "#2a3f5f"
            },
            "baxis": {
             "endlinecolor": "#2a3f5f",
             "gridcolor": "white",
             "linecolor": "white",
             "minorgridcolor": "white",
             "startlinecolor": "#2a3f5f"
            },
            "type": "carpet"
           }
          ],
          "choropleth": [
           {
            "colorbar": {
             "outlinewidth": 0,
             "ticks": ""
            },
            "type": "choropleth"
           }
          ],
          "contour": [
           {
            "colorbar": {
             "outlinewidth": 0,
             "ticks": ""
            },
            "colorscale": [
             [
              0,
              "#0d0887"
             ],
             [
              0.1111111111111111,
              "#46039f"
             ],
             [
              0.2222222222222222,
              "#7201a8"
             ],
             [
              0.3333333333333333,
              "#9c179e"
             ],
             [
              0.4444444444444444,
              "#bd3786"
             ],
             [
              0.5555555555555556,
              "#d8576b"
             ],
             [
              0.6666666666666666,
              "#ed7953"
             ],
             [
              0.7777777777777778,
              "#fb9f3a"
             ],
             [
              0.8888888888888888,
              "#fdca26"
             ],
             [
              1,
              "#f0f921"
             ]
            ],
            "type": "contour"
           }
          ],
          "contourcarpet": [
           {
            "colorbar": {
             "outlinewidth": 0,
             "ticks": ""
            },
            "type": "contourcarpet"
           }
          ],
          "heatmap": [
           {
            "colorbar": {
             "outlinewidth": 0,
             "ticks": ""
            },
            "colorscale": [
             [
              0,
              "#0d0887"
             ],
             [
              0.1111111111111111,
              "#46039f"
             ],
             [
              0.2222222222222222,
              "#7201a8"
             ],
             [
              0.3333333333333333,
              "#9c179e"
             ],
             [
              0.4444444444444444,
              "#bd3786"
             ],
             [
              0.5555555555555556,
              "#d8576b"
             ],
             [
              0.6666666666666666,
              "#ed7953"
             ],
             [
              0.7777777777777778,
              "#fb9f3a"
             ],
             [
              0.8888888888888888,
              "#fdca26"
             ],
             [
              1,
              "#f0f921"
             ]
            ],
            "type": "heatmap"
           }
          ],
          "histogram": [
           {
            "marker": {
             "pattern": {
              "fillmode": "overlay",
              "size": 10,
              "solidity": 0.2
             }
            },
            "type": "histogram"
           }
          ],
          "histogram2d": [
           {
            "colorbar": {
             "outlinewidth": 0,
             "ticks": ""
            },
            "colorscale": [
             [
              0,
              "#0d0887"
             ],
             [
              0.1111111111111111,
              "#46039f"
             ],
             [
              0.2222222222222222,
              "#7201a8"
             ],
             [
              0.3333333333333333,
              "#9c179e"
             ],
             [
              0.4444444444444444,
              "#bd3786"
             ],
             [
              0.5555555555555556,
              "#d8576b"
             ],
             [
              0.6666666666666666,
              "#ed7953"
             ],
             [
              0.7777777777777778,
              "#fb9f3a"
             ],
             [
              0.8888888888888888,
              "#fdca26"
             ],
             [
              1,
              "#f0f921"
             ]
            ],
            "type": "histogram2d"
           }
          ],
          "histogram2dcontour": [
           {
            "colorbar": {
             "outlinewidth": 0,
             "ticks": ""
            },
            "colorscale": [
             [
              0,
              "#0d0887"
             ],
             [
              0.1111111111111111,
              "#46039f"
             ],
             [
              0.2222222222222222,
              "#7201a8"
             ],
             [
              0.3333333333333333,
              "#9c179e"
             ],
             [
              0.4444444444444444,
              "#bd3786"
             ],
             [
              0.5555555555555556,
              "#d8576b"
             ],
             [
              0.6666666666666666,
              "#ed7953"
             ],
             [
              0.7777777777777778,
              "#fb9f3a"
             ],
             [
              0.8888888888888888,
              "#fdca26"
             ],
             [
              1,
              "#f0f921"
             ]
            ],
            "type": "histogram2dcontour"
           }
          ],
          "mesh3d": [
           {
            "colorbar": {
             "outlinewidth": 0,
             "ticks": ""
            },
            "type": "mesh3d"
           }
          ],
          "parcoords": [
           {
            "line": {
             "colorbar": {
              "outlinewidth": 0,
              "ticks": ""
             }
            },
            "type": "parcoords"
           }
          ],
          "pie": [
           {
            "automargin": true,
            "type": "pie"
           }
          ],
          "scatter": [
           {
            "fillpattern": {
             "fillmode": "overlay",
             "size": 10,
             "solidity": 0.2
            },
            "type": "scatter"
           }
          ],
          "scatter3d": [
           {
            "line": {
             "colorbar": {
              "outlinewidth": 0,
              "ticks": ""
             }
            },
            "marker": {
             "colorbar": {
              "outlinewidth": 0,
              "ticks": ""
             }
            },
            "type": "scatter3d"
           }
          ],
          "scattercarpet": [
           {
            "marker": {
             "colorbar": {
              "outlinewidth": 0,
              "ticks": ""
             }
            },
            "type": "scattercarpet"
           }
          ],
          "scattergeo": [
           {
            "marker": {
             "colorbar": {
              "outlinewidth": 0,
              "ticks": ""
             }
            },
            "type": "scattergeo"
           }
          ],
          "scattergl": [
           {
            "marker": {
             "colorbar": {
              "outlinewidth": 0,
              "ticks": ""
             }
            },
            "type": "scattergl"
           }
          ],
          "scattermap": [
           {
            "marker": {
             "colorbar": {
              "outlinewidth": 0,
              "ticks": ""
             }
            },
            "type": "scattermap"
           }
          ],
          "scattermapbox": [
           {
            "marker": {
             "colorbar": {
              "outlinewidth": 0,
              "ticks": ""
             }
            },
            "type": "scattermapbox"
           }
          ],
          "scatterpolar": [
           {
            "marker": {
             "colorbar": {
              "outlinewidth": 0,
              "ticks": ""
             }
            },
            "type": "scatterpolar"
           }
          ],
          "scatterpolargl": [
           {
            "marker": {
             "colorbar": {
              "outlinewidth": 0,
              "ticks": ""
             }
            },
            "type": "scatterpolargl"
           }
          ],
          "scatterternary": [
           {
            "marker": {
             "colorbar": {
              "outlinewidth": 0,
              "ticks": ""
             }
            },
            "type": "scatterternary"
           }
          ],
          "surface": [
           {
            "colorbar": {
             "outlinewidth": 0,
             "ticks": ""
            },
            "colorscale": [
             [
              0,
              "#0d0887"
             ],
             [
              0.1111111111111111,
              "#46039f"
             ],
             [
              0.2222222222222222,
              "#7201a8"
             ],
             [
              0.3333333333333333,
              "#9c179e"
             ],
             [
              0.4444444444444444,
              "#bd3786"
             ],
             [
              0.5555555555555556,
              "#d8576b"
             ],
             [
              0.6666666666666666,
              "#ed7953"
             ],
             [
              0.7777777777777778,
              "#fb9f3a"
             ],
             [
              0.8888888888888888,
              "#fdca26"
             ],
             [
              1,
              "#f0f921"
             ]
            ],
            "type": "surface"
           }
          ],
          "table": [
           {
            "cells": {
             "fill": {
              "color": "#EBF0F8"
             },
             "line": {
              "color": "white"
             }
            },
            "header": {
             "fill": {
              "color": "#C8D4E3"
             },
             "line": {
              "color": "white"
             }
            },
            "type": "table"
           }
          ]
         },
         "layout": {
          "annotationdefaults": {
           "arrowcolor": "#2a3f5f",
           "arrowhead": 0,
           "arrowwidth": 1
          },
          "autotypenumbers": "strict",
          "coloraxis": {
           "colorbar": {
            "outlinewidth": 0,
            "ticks": ""
           }
          },
          "colorscale": {
           "diverging": [
            [
             0,
             "#8e0152"
            ],
            [
             0.1,
             "#c51b7d"
            ],
            [
             0.2,
             "#de77ae"
            ],
            [
             0.3,
             "#f1b6da"
            ],
            [
             0.4,
             "#fde0ef"
            ],
            [
             0.5,
             "#f7f7f7"
            ],
            [
             0.6,
             "#e6f5d0"
            ],
            [
             0.7,
             "#b8e186"
            ],
            [
             0.8,
             "#7fbc41"
            ],
            [
             0.9,
             "#4d9221"
            ],
            [
             1,
             "#276419"
            ]
           ],
           "sequential": [
            [
             0,
             "#0d0887"
            ],
            [
             0.1111111111111111,
             "#46039f"
            ],
            [
             0.2222222222222222,
             "#7201a8"
            ],
            [
             0.3333333333333333,
             "#9c179e"
            ],
            [
             0.4444444444444444,
             "#bd3786"
            ],
            [
             0.5555555555555556,
             "#d8576b"
            ],
            [
             0.6666666666666666,
             "#ed7953"
            ],
            [
             0.7777777777777778,
             "#fb9f3a"
            ],
            [
             0.8888888888888888,
             "#fdca26"
            ],
            [
             1,
             "#f0f921"
            ]
           ],
           "sequentialminus": [
            [
             0,
             "#0d0887"
            ],
            [
             0.1111111111111111,
             "#46039f"
            ],
            [
             0.2222222222222222,
             "#7201a8"
            ],
            [
             0.3333333333333333,
             "#9c179e"
            ],
            [
             0.4444444444444444,
             "#bd3786"
            ],
            [
             0.5555555555555556,
             "#d8576b"
            ],
            [
             0.6666666666666666,
             "#ed7953"
            ],
            [
             0.7777777777777778,
             "#fb9f3a"
            ],
            [
             0.8888888888888888,
             "#fdca26"
            ],
            [
             1,
             "#f0f921"
            ]
           ]
          },
          "colorway": [
           "#636efa",
           "#EF553B",
           "#00cc96",
           "#ab63fa",
           "#FFA15A",
           "#19d3f3",
           "#FF6692",
           "#B6E880",
           "#FF97FF",
           "#FECB52"
          ],
          "font": {
           "color": "#2a3f5f"
          },
          "geo": {
           "bgcolor": "white",
           "lakecolor": "white",
           "landcolor": "#E5ECF6",
           "showlakes": true,
           "showland": true,
           "subunitcolor": "white"
          },
          "hoverlabel": {
           "align": "left"
          },
          "hovermode": "closest",
          "mapbox": {
           "style": "light"
          },
          "paper_bgcolor": "white",
          "plot_bgcolor": "#E5ECF6",
          "polar": {
           "angularaxis": {
            "gridcolor": "white",
            "linecolor": "white",
            "ticks": ""
           },
           "bgcolor": "#E5ECF6",
           "radialaxis": {
            "gridcolor": "white",
            "linecolor": "white",
            "ticks": ""
           }
          },
          "scene": {
           "xaxis": {
            "backgroundcolor": "#E5ECF6",
            "gridcolor": "white",
            "gridwidth": 2,
            "linecolor": "white",
            "showbackground": true,
            "ticks": "",
            "zerolinecolor": "white"
           },
           "yaxis": {
            "backgroundcolor": "#E5ECF6",
            "gridcolor": "white",
            "gridwidth": 2,
            "linecolor": "white",
            "showbackground": true,
            "ticks": "",
            "zerolinecolor": "white"
           },
           "zaxis": {
            "backgroundcolor": "#E5ECF6",
            "gridcolor": "white",
            "gridwidth": 2,
            "linecolor": "white",
            "showbackground": true,
            "ticks": "",
            "zerolinecolor": "white"
           }
          },
          "shapedefaults": {
           "line": {
            "color": "#2a3f5f"
           }
          },
          "ternary": {
           "aaxis": {
            "gridcolor": "white",
            "linecolor": "white",
            "ticks": ""
           },
           "baxis": {
            "gridcolor": "white",
            "linecolor": "white",
            "ticks": ""
           },
           "bgcolor": "#E5ECF6",
           "caxis": {
            "gridcolor": "white",
            "linecolor": "white",
            "ticks": ""
           }
          },
          "title": {
           "x": 0.05
          },
          "xaxis": {
           "automargin": true,
           "gridcolor": "white",
           "linecolor": "white",
           "ticks": "",
           "title": {
            "standoff": 15
           },
           "zerolinecolor": "white",
           "zerolinewidth": 2
          },
          "yaxis": {
           "automargin": true,
           "gridcolor": "white",
           "linecolor": "white",
           "ticks": "",
           "title": {
            "standoff": 15
           },
           "zerolinecolor": "white",
           "zerolinewidth": 2
          }
         }
        },
        "title": {
         "text": "NSW Fuel Type Generation (Jan 2018 - July 2025)"
        },
        "xaxis": {
         "anchor": "y",
         "domain": [
          0,
          1
         ],
         "title": {
          "text": "Month"
         }
        },
        "yaxis": {
         "anchor": "x",
         "domain": [
          0,
          1
         ],
         "title": {
          "text": "Generation (MWh)"
         }
        }
       }
      }
     },
     "metadata": {},
     "output_type": "display_data"
    }
   ],
   "source": [
    "px.line(nsw_fuel_generation_agg, x = 'MONTH', y = 'SCADAVALUE', color = 'Fuel Type', title = 'NSW Fuel Type Generation (Jan 2018 - July 2025)', labels = {'SCADAVALUE': 'Generation (MWh)', 'MONTH': 'Month'})"
   ]
  },
  {
   "cell_type": "code",
   "execution_count": null,
   "id": "d059976a",
   "metadata": {},
   "outputs": [
    {
     "data": {
      "application/vnd.plotly.v1+json": {
       "config": {
        "plotlyServerURL": "https://plot.ly"
       },
       "data": [
        {
         "hovertemplate": "Fuel Type=Fossil - Black Coal<br>MONTH=%{x}<br>SCADAVALUE=%{y}<extra></extra>",
         "legendgroup": "Fossil - Black Coal",
         "line": {
          "color": "#636efa",
          "dash": "solid"
         },
         "marker": {
          "symbol": "circle"
         },
         "mode": "lines",
         "name": "Fossil - Black Coal",
         "orientation": "v",
         "showlegend": true,
         "type": "scatter",
         "x": [
          "01-2018",
          "02-2018",
          "03-2018",
          "04-2018",
          "05-2018",
          "06-2018",
          "07-2018",
          "08-2018",
          "09-2018",
          "10-2018",
          "11-2018",
          "12-2018",
          "01-2019",
          "02-2019",
          "03-2019",
          "04-2019",
          "05-2019",
          "06-2019",
          "07-2019",
          "08-2019",
          "09-2019",
          "10-2019",
          "11-2019",
          "12-2019",
          "01-2020",
          "02-2020",
          "03-2020",
          "04-2020",
          "05-2020",
          "06-2020",
          "07-2020",
          "08-2020",
          "09-2020",
          "10-2020",
          "11-2020",
          "12-2020",
          "01-2021",
          "02-2021",
          "03-2021",
          "04-2021",
          "05-2021",
          "06-2021",
          "07-2021",
          "08-2021",
          "09-2021",
          "10-2021",
          "11-2021",
          "12-2021",
          "01-2022",
          "02-2022",
          "03-2022",
          "04-2022",
          "05-2022",
          "06-2022",
          "07-2022",
          "08-2022",
          "09-2022",
          "10-2022",
          "11-2022",
          "12-2022",
          "01-2023",
          "02-2023",
          "03-2023",
          "04-2023",
          "05-2023",
          "06-2023",
          "07-2023",
          "08-2023",
          "09-2023",
          "10-2023",
          "11-2023",
          "12-2023",
          "01-2024",
          "02-2024",
          "03-2024",
          "04-2024",
          "05-2024",
          "06-2024",
          "07-2024",
          "08-2024",
          "09-2024",
          "10-2024",
          "11-2024",
          "12-2024",
          "01-2025",
          "02-2025",
          "03-2025",
          "04-2025",
          "05-2025",
          "06-2025",
          "07-2025"
         ],
         "xaxis": "x",
         "y": {
          "bdata": "Z/KNiCB7ikGLcf7o3yWIQbJjI6YYr4lBa0hcn7pmiEGXHDcAhiKJQeS9qumSaIlB54yoRxN4iUFLyMe7ghuJQYkpkZmk8ohBvJbQQWOFiUGnkRYOT76HQYEJXIithYpB3sj8NlElikFj0bQbm/uGQdiemfQTi4lBvRhKpbQ0iEErEz7FAwSIQR0g2OFp7oZBbkzPfVAvh0FYxdthcYSHQWJKZPdE04ZBxRtZJaDYh0HTwfqJph2HQbBVgp+4KohB5lezx83HiUGjBpPPbNqHQf28qb33GIdBtU8H4iFkhUF/9uPQdWiFQWk1ZIPcvYRBrP8zUQ5QhUGgbArQmhOGQVbxRgVVfIRBk1enrD88hkEAxjPrc0+GQZT7Hfz5c4hBJGJKJi+Ih0Gb5h1Qml6FQeUPBt4y8oZBfbNNLexchkG+2ebha32FQT6W/h9vY4NB0H5kqgG/hUGVgm7uHXyFQVoSYJjoU4RBzqrPJR30hEFF8H9HoVCFQQx2ww5JmYVBmWRk52zahUHdJAYr56KDQZJ5ZFRLeIdB2PA0i2FxhEGyY+N+3WWEQTpdluuCA4VBR4+fRvtvhkGHvyadZwKFQUbwvx4tXoNB5DEDjvBehEF3+OtwDlOCQZfnwWV4oYNBxqIp1Ca8hUEyPeFx6QiFQYYDoUBdmodBIchBcTYHhEF3vp9sOSeEQRV0u0ypf4NB9yPFhz9WhUE82njdXjOEQX5XxAzoxYJBfuMrT1GpgkG8ywWm3tSDQQqiLlYA7IRBxqfA58ANhkEKun0+oyyFQZc5HaYcu4VBwt0ZpIKLhEFDOVEp/QSGQV6i+pI7FoZBchY2AeRqhEGPcBqi3nqDQcaiqZpnR4JBo3WUBwFZgkF1WQw5I6qCQUFIVuANeoRB1xdJC8p1hUEqdN5eidyDQSh+DOgKtYZBXylLN0fyg0H9ag6qEvKDQah08Fxhg4VBqyExBpfchEE=",
          "dtype": "f8"
         },
         "yaxis": "y"
        },
        {
         "hovertemplate": "Fuel Type=Fossil - Coal Seam Methane<br>MONTH=%{x}<br>SCADAVALUE=%{y}<extra></extra>",
         "legendgroup": "Fossil - Coal Seam Methane",
         "line": {
          "color": "#EF553B",
          "dash": "solid"
         },
         "marker": {
          "symbol": "circle"
         },
         "mode": "lines",
         "name": "Fossil - Coal Seam Methane",
         "orientation": "v",
         "showlegend": true,
         "type": "scatter",
         "x": [
          "01-2018",
          "02-2018",
          "03-2018",
          "04-2018",
          "05-2018",
          "06-2018",
          "07-2018",
          "08-2018",
          "09-2018",
          "10-2018",
          "11-2018",
          "12-2018",
          "01-2019",
          "02-2019",
          "03-2019",
          "04-2019",
          "05-2019",
          "06-2019",
          "07-2019",
          "08-2019",
          "09-2019",
          "10-2019",
          "11-2019",
          "12-2019",
          "01-2020",
          "02-2020",
          "03-2020",
          "04-2020",
          "05-2020",
          "06-2020",
          "07-2020",
          "08-2020",
          "09-2020",
          "10-2020",
          "11-2020",
          "12-2020",
          "01-2021",
          "02-2021",
          "03-2021",
          "04-2021",
          "05-2021",
          "06-2021",
          "07-2021",
          "08-2021",
          "09-2021",
          "10-2021",
          "11-2021",
          "12-2021",
          "01-2022",
          "02-2022",
          "03-2022",
          "04-2022",
          "05-2022",
          "06-2022",
          "07-2022",
          "08-2022",
          "09-2022",
          "10-2022",
          "11-2022",
          "12-2022",
          "01-2023",
          "02-2023",
          "03-2023",
          "04-2023",
          "05-2023",
          "06-2023",
          "07-2023",
          "08-2023",
          "09-2023",
          "10-2023",
          "11-2023",
          "12-2023",
          "01-2024",
          "02-2024",
          "03-2024",
          "04-2024",
          "05-2024",
          "06-2024",
          "07-2024",
          "08-2024",
          "09-2024",
          "10-2024",
          "11-2024",
          "12-2024",
          "01-2025",
          "02-2025",
          "03-2025",
          "04-2025",
          "05-2025",
          "06-2025",
          "07-2025"
         ],
         "xaxis": "x",
         "y": {
          "bdata": "V7Jj94BGWkGpTZwkBXVTQc6qz0ucg1hBrwj+gzisVEF/TdYe5CRSQWLWi/GIu09Bzt+ErtxOQ0FQx2POp1BGQYfcDLc9iTVBrmTHJpmXL0GhZ7MOUn9DQcwoliOy9j9BgQTFN3VWV0EuBDmCRLhTQUsC1FIvTVhBrrt52iTnNkGyEYg7EtxAQRNE3a86cU1BHJlHZsO5TEEEc/TODkJQQbml1Ug7bUlBWhKgAmhXSEEDWyUk6VdEQQiUTQ3rQ0hBBOJ19QluVEHG3LXqwwpUQba+SADX21lB7IZtE8+vTkEQWDlOHG5RQUq1T/v5pVtBu37BHMV8W0ESvYzIVPFQQfq4NhwHdTxBVrd6Kut2SUGeKXROEAdFQecAweJ9KVBBbm5Mi358TEHWbrvkzv9LQflJtYuKRk9Bw552IF+9QkGQiCm9cEtCQchBCQtqN1pB+wW7KSEXUUFUNUHY1R9IQasmiJaf5kBBoaF/Fq5BQkHx9Epdov9DQQ2OkqcX50pB0PI8oMhMSkE0nZ0g8eFEQXEDPq8sxUtBnil0dvxjR0GKAn0Gi55VQUxsPlprR1VBahg+9kclVEEDfSLTlxpKQQOV8Welq0BBUfcBXLawQkE98gfXNpdBQc2SAIUIJTxB0VeQxoEYRUGJmBLF7BxDQVj/51Smd0pBfCdmbcJyPUERHm0Sp+JSQTI4Sopwwk5BaqSl/pwsS0HKN9tgtZtIQdy6m8+YWDxBiXsslSyeNUGSXP7fFKtFQZDaxI1IEkZBi8OZ37xiTEExthAkYn5JQXwKgMmK3UNBSkG3A9lCQ0EOEMypeug8QSsTfoWW40ZBBd1eOtJtTUGsViZQgP5OQTyInSH+mjxB6X3j46WMOUGCixW5zQRNQWufjsMkGU5B38MlB04cQkENw0dM0JFBQS9uo1HipjpBr7FLJM0zOkHRItuJobtIQbqgvr1XUVBB7ncoUgc+SEE=",
          "dtype": "f8"
         },
         "yaxis": "y"
        },
        {
         "hovertemplate": "Fuel Type=Fossil - Diesel<br>MONTH=%{x}<br>SCADAVALUE=%{y}<extra></extra>",
         "legendgroup": "Fossil - Diesel",
         "line": {
          "color": "#00cc96",
          "dash": "solid"
         },
         "marker": {
          "symbol": "circle"
         },
         "mode": "lines",
         "name": "Fossil - Diesel",
         "orientation": "v",
         "showlegend": true,
         "type": "scatter",
         "x": [
          "01-2018",
          "02-2018",
          "03-2018",
          "04-2018",
          "05-2018",
          "06-2018",
          "07-2018",
          "08-2018",
          "09-2018",
          "10-2018",
          "11-2018",
          "12-2018",
          "01-2019",
          "02-2019",
          "03-2019",
          "04-2019",
          "05-2019",
          "06-2019",
          "07-2019",
          "08-2019",
          "09-2019",
          "10-2019",
          "11-2019",
          "12-2019",
          "01-2020",
          "02-2020",
          "03-2020",
          "04-2020",
          "05-2020",
          "06-2020",
          "07-2020",
          "08-2020",
          "09-2020",
          "10-2020",
          "11-2020",
          "12-2020",
          "01-2021",
          "02-2021",
          "03-2021",
          "04-2021",
          "05-2021",
          "06-2021",
          "07-2021",
          "08-2021",
          "09-2021",
          "10-2021",
          "11-2021",
          "12-2021",
          "01-2022",
          "02-2022",
          "03-2022",
          "04-2022",
          "05-2022",
          "06-2022",
          "07-2022",
          "08-2022",
          "09-2022",
          "10-2022",
          "11-2022",
          "12-2022",
          "01-2023",
          "02-2023",
          "03-2023",
          "04-2023",
          "05-2023",
          "06-2023",
          "07-2023",
          "08-2023",
          "09-2023",
          "10-2023",
          "11-2023",
          "12-2023",
          "01-2024",
          "02-2024",
          "03-2024",
          "04-2024",
          "05-2024",
          "06-2024",
          "07-2024",
          "08-2024",
          "09-2024",
          "10-2024",
          "11-2024",
          "12-2024",
          "01-2025",
          "02-2025",
          "03-2025",
          "04-2025",
          "05-2025",
          "06-2025",
          "07-2025"
         ],
         "xaxis": "x",
         "y": {
          "bdata": "F58CYISVwUAeM1AZBpHpQCScFrzsqMVAAAAAAAAAAAAurYbEPUN5QCh+jLkzbbVA8YCyKVf1bUAAAAAAAAAAAAAAAAAAAAAALXjRVxBwgUBseHqlHF+pQLSwpx1O0rpAAAAAAAAAAABrSNxjXUrSQAAAAAAAAAAA5fIf0vuP1EAPKJtyG2bcQJmByvhkCudAO+RmuIV4z0Bz9Pi9CQPOQIm1+BSYS7dAJNbiU/gPs0AJM23/Sr6lQAAAAAAAAAAAWcAEbh15jUB9lufB7ZKxQDzaOGLtv5BAAAAAAAAAAAAAAAAAAAAAAAAAAAAAAAAAAAAAAAAAAADayeAoaRawQAAAAAAAAAAAYTdsW0Q6o0CtLxLaUsqSQGhcOBBwWeZAmPp5U9lqtUC3RZkNMnbKQEjElEhK885A17s/3huerkDk2lCxoVYKQXuDL0z9ZQRBnWNAtq3lFEFBguLH6X3iQPLvMy4FeuNAZOlDlwCP90AXZTbIXn/cQB+6oL4eBeVAGxL3WExp20AqUmFsRyLhQGO0jqoOdMxAY0UNpkrW50ArNXugZ3n2QCLgECpaj/hAzemymFAc10AAAAAAAAAAAGmM1lGFdLBAV3iXi7jshUAAAAAAAAAAAMzR4/feaLZAAAAAAAAAAADTakjcWXbfQKabxCC4h91AWcAEbigo4kCH+fIC8pzkQBaHM79ArNxAHcnlP3QIsEDhQEgWAJjWQAAAAAAAAAAAAAAAAAAAAABQGf8+Fw7MQL9IaMv7jtJAYYkH1Mx7AkEoYaZt05P7QCV1ApoIX2BABd1e0qg6zUAmAWpqYE3gQAn+t5LVO+xAgbIpV4AtxkBpUgq6bfirQI9TdCSnHqRA8YCyKeMHx0AoJ9pV/d/1QD2bVV860gFBGedvQrDK50Bu+rMfXRTJQM3MzMzMcl9AAAAAAAAAAACOklfn8ATMQJGb4QbMCstAdJgvL4Rdw0A=",
          "dtype": "f8"
         },
         "yaxis": "y"
        },
        {
         "hovertemplate": "Fuel Type=Fossil - Natural Gas Pipeline<br>MONTH=%{x}<br>SCADAVALUE=%{y}<extra></extra>",
         "legendgroup": "Fossil - Natural Gas Pipeline",
         "line": {
          "color": "#ab63fa",
          "dash": "solid"
         },
         "marker": {
          "symbol": "circle"
         },
         "mode": "lines",
         "name": "Fossil - Natural Gas Pipeline",
         "orientation": "v",
         "showlegend": true,
         "type": "scatter",
         "x": [
          "01-2018",
          "02-2018",
          "03-2018",
          "04-2018",
          "05-2018",
          "06-2018",
          "07-2018",
          "08-2018",
          "09-2018",
          "10-2018",
          "11-2018",
          "12-2018",
          "01-2019",
          "02-2019",
          "03-2019",
          "04-2019",
          "05-2019",
          "06-2019",
          "07-2019",
          "08-2019",
          "09-2019",
          "10-2019",
          "11-2019",
          "12-2019",
          "01-2020",
          "02-2020",
          "03-2020",
          "04-2020",
          "05-2020",
          "06-2020",
          "07-2020",
          "08-2020",
          "09-2020",
          "10-2020",
          "11-2020",
          "12-2020",
          "01-2021",
          "02-2021",
          "03-2021",
          "04-2021",
          "05-2021",
          "06-2021",
          "07-2021",
          "08-2021",
          "09-2021",
          "10-2021",
          "11-2021",
          "12-2021",
          "01-2022",
          "02-2022",
          "03-2022",
          "04-2022",
          "05-2022",
          "06-2022",
          "07-2022",
          "08-2022",
          "09-2022",
          "10-2022",
          "11-2022",
          "12-2022",
          "01-2023",
          "02-2023",
          "03-2023",
          "04-2023",
          "05-2023",
          "06-2023",
          "07-2023",
          "08-2023",
          "09-2023",
          "10-2023",
          "11-2023",
          "12-2023",
          "01-2024",
          "02-2024",
          "03-2024",
          "04-2024",
          "05-2024",
          "06-2024",
          "07-2024",
          "08-2024",
          "09-2024",
          "10-2024",
          "11-2024",
          "12-2024",
          "01-2025",
          "02-2025",
          "03-2025",
          "04-2025",
          "05-2025",
          "06-2025",
          "07-2025"
         ],
         "xaxis": "x",
         "y": {
          "bdata": "PGaganx1OkFLqyH5DMQ2QYE+kY8qtjlBnPnVtBsvOUF7vftzv+Y4QWIQWFE6eDhBtcNfO1BTNEHS4/eWiuw1QTpAMOfJZDBB71UrA1C8NkEPf02eX6I1QY51cTskxjVBqYdobC9CN0F3+Gti9dA0Qd6rViaohDdB1A5/LcF7NUHx12RN3oE8QW6jAdTDkjdBmbZ/ZVg5KUHLLa2WmA0jQWKh1sTLdjdBGcVyE+52N0ElOzbicSA1QVDHY8YYUThBucfSl8FhOUGwVYKVEic0QRtMw/gM8jZBMGR1i7OeNUHQJ/JsiBk1QY4j1oKqujJBgqj7WDeeM0HQCgyxQQM0QR/XhkJ6FjBB8Nx7mDM0NEFRSZ3Q6W8yQZBmLBICpjRBU3k7wi1zMUE0nZ3sQsIyQe4ljdnP4TNBvhOzhrIyM0EtPgWU8GVAQSR/MNCTQDtBiLoP8MgDNUEjhEcrSTMyQYnS3jC5TSlBCacF580xOEHxLhf5pqA1QWsOEDxWAzRB+Q/pr2MpNkGXVkOCHBI1QX5S7ZNSODdBJCh+1Fd9MkG8XMQfqxk0Qd7lIh7F4TZBB3x+KPdkNUGLic1Pj/k1QSEf9AQZZTJBM7+ac2xPNUGL4H/bG0s1Qfs/h1lRJTRBaVchdZUFNUFgqwTTPsMzQYHs9Q57AThBxEKteXh1NkGtEiyupSc2QU8GR0HUeDJBL/oKurY5MkG1w1/D340rQX4AUlOmsTFBd0oHE/w0MkEUs148IugzQVGgT1ycMzZBNPRPgEruN0GitDeQoCI7QdtoAE/oUiZBa32RkP2MLkF2MjgCEM8zQXDOiPJvFzZBAoI5amplNkH/snuyJ7EuQcI0DK9EGzNBi8OZL85RNUFJERmei842QdgqwXpnjDdBKPIkUYhqNUGfceFw5Wg4QQvSjP2NzTdBg92wDW61MkEcX3vGPdAlQf0TXOwIJQZBSbpm8iGqJkE=",
          "dtype": "f8"
         },
         "yaxis": "y"
        },
        {
         "hovertemplate": "Fuel Type=Fossil - Waste Coal Mine Gas<br>MONTH=%{x}<br>SCADAVALUE=%{y}<extra></extra>",
         "legendgroup": "Fossil - Waste Coal Mine Gas",
         "line": {
          "color": "#FFA15A",
          "dash": "solid"
         },
         "marker": {
          "symbol": "circle"
         },
         "mode": "lines",
         "name": "Fossil - Waste Coal Mine Gas",
         "orientation": "v",
         "showlegend": true,
         "type": "scatter",
         "x": [
          "01-2018",
          "02-2018",
          "03-2018",
          "04-2018",
          "05-2018",
          "06-2018",
          "07-2018",
          "08-2018",
          "09-2018",
          "10-2018",
          "11-2018",
          "12-2018",
          "01-2019",
          "02-2019",
          "03-2019",
          "04-2019",
          "05-2019",
          "06-2019",
          "07-2019",
          "08-2019",
          "09-2019",
          "10-2019",
          "11-2019",
          "12-2019",
          "01-2020",
          "02-2020",
          "03-2020",
          "04-2020",
          "05-2020",
          "06-2020",
          "07-2020",
          "08-2020",
          "09-2020",
          "10-2020",
          "11-2020",
          "12-2020",
          "01-2021",
          "02-2021",
          "03-2021",
          "04-2021",
          "05-2021",
          "06-2021",
          "07-2021",
          "08-2021",
          "09-2021",
          "10-2021",
          "11-2021",
          "12-2021",
          "01-2022",
          "02-2022",
          "03-2022",
          "04-2022",
          "05-2022",
          "06-2022",
          "07-2022",
          "08-2022",
          "09-2022",
          "10-2022",
          "11-2022",
          "12-2022",
          "01-2023",
          "02-2023",
          "03-2023",
          "04-2023",
          "05-2023",
          "06-2023",
          "07-2023",
          "08-2023",
          "09-2023",
          "10-2023",
          "11-2023",
          "12-2023",
          "01-2024",
          "02-2024",
          "03-2024",
          "04-2024",
          "05-2024",
          "06-2024",
          "07-2024",
          "08-2024",
          "09-2024",
          "10-2024",
          "11-2024",
          "12-2024",
          "01-2025",
          "02-2025",
          "03-2025",
          "04-2025",
          "05-2025",
          "06-2025",
          "07-2025"
         ],
         "xaxis": "x",
         "y": {
          "bdata": "SbpmGgrtKEEvvmhH4hQmQXC040aDEilB0NTrjgGmJkH1SIODPuInQbXcmalYGydBDHcu/CjdJ0HpCrY5AUMjQfEpAEafpyRBO+XRtTcUJEGuKvsmVHojQT6V0774Eh5BSS2UhEEiJ0EibHg6pfgjQeGX+oknhiZB3zKna52rJ0HU8ZgpZ4wpQRQjS/aUvihBXK5+VGZ5KUEAxjPQBZQoQVGFP5PvnyZB+7FJZoS9JUHQXn3MqRIjQSP43xL6sCZBi21S+VD0JUGpUN38vnYiQQ00nxPOHyZBFQK5LMGiJkFYycdGyykmQZPheDY2AyVBG9ZUZsT2J0HGw3uGQwYlQVPQ7bWzxCRBKAzKvPZWJEGNR6nsX6cgQc3lBjM3WSJBb/JbvD/IIkG8PJ0LWAEcQSHIQbnuph5Bl+XrkrBPIkFGtvPlrJAjQY7O+flQsiFBlMDmDDSjHEEIWRbslqcdQduizAYNLh1BhIQon7FmH0GbyqIwllIgQat4I4PWUiFBnpW0ktskHkG69C+ZTY0cQcXkDeAqDxpBJTyh/xrDIEEBomBGMCMiQUNVTJ2dMyFBumsJCZL8IEFLyAf93bIfQTz1SFPMLxVBfdCzuRksH0HG98XF+1cfQWYyHL/c2x5BAwr13PsMIEH0/GkT8AAfQULqdnbj1CBBscHCOZAuHEHbozdsrSkaQdHN/gB7ZB1BTz49Zj2nG0FZ+PoiBdggQY3Qz6x8RiBBx0yiPtsAH0H4UQ3brnsYQcR5OOEqXB9BrORjF0pEIEFuMNQhQwkeQWHD0/tNJRpBsAJ8h0PSG0GWQEqMbZ0iQRTsv0Z7mCBBE0n00nguGUH/sRBN3D4cQfGbwtrfnRRBQDGytGdFFEG7uI0mOLIWQbd++i+v1BlBwa27eeH3FEF8mpPHlRgbQRKFlrXKSRlBs3xdxsYRFkGveOrRK3oUQSBFnXkuVRFBj/0s5vhvE0E=",
          "dtype": "f8"
         },
         "yaxis": "y"
        },
        {
         "hovertemplate": "Fuel Type=Hydro - Water<br>MONTH=%{x}<br>SCADAVALUE=%{y}<extra></extra>",
         "legendgroup": "Hydro - Water",
         "line": {
          "color": "#19d3f3",
          "dash": "solid"
         },
         "marker": {
          "symbol": "circle"
         },
         "mode": "lines",
         "name": "Hydro - Water",
         "orientation": "v",
         "showlegend": true,
         "type": "scatter",
         "x": [
          "01-2018",
          "02-2018",
          "03-2018",
          "04-2018",
          "05-2018",
          "06-2018",
          "07-2018",
          "08-2018",
          "09-2018",
          "10-2018",
          "11-2018",
          "12-2018",
          "01-2019",
          "02-2019",
          "03-2019",
          "04-2019",
          "05-2019",
          "06-2019",
          "07-2019",
          "08-2019",
          "09-2019",
          "10-2019",
          "11-2019",
          "12-2019",
          "01-2020",
          "02-2020",
          "03-2020",
          "04-2020",
          "05-2020",
          "06-2020",
          "07-2020",
          "08-2020",
          "09-2020",
          "10-2020",
          "11-2020",
          "12-2020",
          "01-2021",
          "02-2021",
          "03-2021",
          "04-2021",
          "05-2021",
          "06-2021",
          "07-2021",
          "08-2021",
          "09-2021",
          "10-2021",
          "11-2021",
          "12-2021",
          "01-2022",
          "02-2022",
          "03-2022",
          "04-2022",
          "05-2022",
          "06-2022",
          "07-2022",
          "08-2022",
          "09-2022",
          "10-2022",
          "11-2022",
          "12-2022",
          "01-2023",
          "02-2023",
          "03-2023",
          "04-2023",
          "05-2023",
          "06-2023",
          "07-2023",
          "08-2023",
          "09-2023",
          "10-2023",
          "11-2023",
          "12-2023",
          "01-2024",
          "02-2024",
          "03-2024",
          "04-2024",
          "05-2024",
          "06-2024",
          "07-2024",
          "08-2024",
          "09-2024",
          "10-2024",
          "11-2024",
          "12-2024",
          "01-2025",
          "02-2025",
          "03-2025",
          "04-2025",
          "05-2025",
          "06-2025",
          "07-2025"
         ],
         "xaxis": "x",
         "y": {
          "bdata": "ppvEIOlfE0EhPNoI2Y8pQQe2SjhrnTBB7FG4ttHHMEERHm1MhlwsQfwYc6f3By5B1908dUajK0GbG9MDGwoqQeyjUzcw5h1BfCdmPRPPEUGb5h33TmwhQekOYtdQTy1Bm3KFbw7fNEFg6uel/xY0QeIBZRvlADZBLjnu7CUXNUEoDwvN+YU0QZTZIAuMLTNBdCSXh1s9MUGyhSBXdVsnQUa2822I9iVB9wFITYy1JUE/NV4agJcXQYsaTCN0ihNBZ9XnKkIoHUEZc9ci5EwgQez6BetvYCJBVcGoBGNtGkE1e6CVP5QkQT8AqW0QbyFBw552aAuTKEEe4bQQXa8mQa0XQ7m+9SZBXmiuo0laI0GlLEPMOV4qQQwHQvLb7hVBm3KFtz4+M0EFo5K6KTIuQbzoK2hz2y5BDhDM6c0YMkFYkGbEvi8zQSibciW/QDJB7/54x/5JM0HVPh2/0hAiQS/6CmK+ridBeSPzqN4tLkGoqWVbU1UrQfj8MNKZ1ClBumbyvTApM0GNeoj2/oo0QW3/yhLmLDRB8Z2Y1Z/bMEGAt0CS/bI0QZc5XR50UTVBUrgePbNIOkFxj6VXblkyQSO+E2tmOTNBms5Oxo8jKUHOqs91Jq8nQUpenXMz9ShBCAPPPYBNOUHtDb7ITJc1QaFns7IgCjhB3QcgnXGDOEFD5zXGcZkyQVmLT+E4vipBSwLUdMmyKkEKgPG8pjIzQUSLbPcnNjZBZF3cXhzZNUHj32c837IwQdwuNJfgXTZBdAzITsfPM0FxICRjSokzQQ1PrxTtjzRBnuqQYyzNNUEs1Jq+Grc1QUxPWEqJtjRB+aBn0w6aOEH6m1Dg46A3QU5/9iuJNTZBmYHKKPyPOUFCW86VlZ4zQfbRqQMvPjhBsvShEwmZNkEjhEejnSI0QX3ogppdnjRBgosVtUCCNUEwR48Plr47QcdGIKafQzdBMlpH5dBTOUE=",
          "dtype": "f8"
         },
         "yaxis": "y"
        },
        {
         "hovertemplate": "Fuel Type=Renewable Biomass or Waste - Bagasse<br>MONTH=%{x}<br>SCADAVALUE=%{y}<extra></extra>",
         "legendgroup": "Renewable Biomass or Waste - Bagasse",
         "line": {
          "color": "#FF6692",
          "dash": "solid"
         },
         "marker": {
          "symbol": "circle"
         },
         "mode": "lines",
         "name": "Renewable Biomass or Waste - Bagasse",
         "orientation": "v",
         "showlegend": true,
         "type": "scatter",
         "x": [
          "01-2018",
          "02-2018",
          "03-2018",
          "04-2018",
          "05-2018",
          "06-2018",
          "07-2018",
          "08-2018",
          "09-2018",
          "10-2018",
          "11-2018",
          "12-2018",
          "01-2019",
          "02-2019",
          "03-2019",
          "04-2019",
          "05-2019",
          "06-2019",
          "07-2019",
          "08-2019",
          "09-2019",
          "10-2019",
          "11-2019",
          "12-2019",
          "01-2020",
          "02-2020",
          "03-2020",
          "04-2020",
          "05-2020",
          "06-2020",
          "07-2020",
          "08-2020",
          "09-2020",
          "10-2020",
          "11-2020",
          "12-2020",
          "01-2021",
          "02-2021",
          "03-2021",
          "04-2021",
          "05-2021",
          "06-2021",
          "07-2021",
          "08-2021",
          "09-2021",
          "10-2021",
          "11-2021",
          "12-2021",
          "01-2022",
          "02-2022",
          "03-2022",
          "04-2022",
          "05-2022",
          "06-2022",
          "07-2022",
          "08-2022",
          "09-2022",
          "10-2022",
          "11-2022",
          "12-2022",
          "01-2023",
          "02-2023",
          "03-2023",
          "04-2023",
          "05-2023",
          "06-2023",
          "07-2023",
          "08-2023",
          "09-2023",
          "10-2023",
          "11-2023",
          "12-2023",
          "01-2024",
          "02-2024",
          "03-2024",
          "04-2024",
          "05-2024",
          "06-2024",
          "07-2024",
          "08-2024",
          "09-2024",
          "10-2024",
          "11-2024",
          "12-2024",
          "01-2025",
          "02-2025",
          "03-2025",
          "04-2025",
          "05-2025",
          "06-2025",
          "07-2025"
         ],
         "xaxis": "x",
         "y": {
          "bdata": "bVhTmVHR9EB8YwgAMP/kQLb4FAAAidpADcSymVka6kBmZmZmZvPaQJt2Mc3MwqFAA7StZm4z90ClhjYACIv9QKLVyZmJO/ZAwAgaM3vN8UABbauZGVP0QFOzB5qRtvRA/yJozCwl5ECHUKVmBgvwQPfJUQCAT+NAKLnDZh4t8UC1/pYAAEyzQBmrzf+/NsNAtvKS/6dp9EAA5lp0Ohz2QKFoHoDLxfRAUkMbACDJ7EDoLokz4zzmQIDxDJrR9vRAARdky6zf1UAAAAAAAGKpwJmZmZmZLqXA+oBAZ+a0vkAzMzMzMyKhwAAAAAAAq6TAzczMzIwRw0BmZmZmNhPxQFQaMTOTbvJADFcHALD18kDzO01mJrDkQAsKgzLzxd1AL6hvmZniwkCCqPsAwNnLQBqIZTMzQNlA6wJeZiY4y0AUCaaaWXbMQH8RNGamksxAL6hvmTkP0UCUERcA0M3yQNmz5zIDJOlAKEaWzHxJ8UAKE0Yz07LkQE61FmaGGd1AzczMzMzlpcDNzMzMzLafwGdmZmZmyprAmpmZmZlpmMAAAAAAALaawDMzMzMzgZLAZ2ZmZmY6lMAAAAAAAMKXwAAAAAAA3J7AhpDz/v8flcDB4nBmVu3xQKzlzsy81uxA5KCEmSnR70Ch9fBlNsPhQJI9Qs1MArNAAAAAAADImsDNzMzMzLqcwM3MzMzMyJ7AZmZmZmbBocCeJF0zM3bIQPnAjv8ft9BA7Ny0mVmI+0Dgha2ZmXP3QCOe7Gb2jepAmpmZmZm/mMAaiGUzI37tQAHaVjMT9OtASTDVzMy270CamZmZmbijwAAAAAAAJqrArvNvl5n7s0Cu1/TgoSr2QLEUyZegsQNBYKsE6wn/BEHCvp1k37gEQVde8v+vMvtA0y6mmRnL0UDswg/O7MDbQCdsP5mZMOJAMzMzM7NBsMCamZmZmZ69wPD3i5mZW/VASDMWzUSm/UA=",
          "dtype": "f8"
         },
         "yaxis": "y"
        },
        {
         "hovertemplate": "Fuel Type=Solar - Solar<br>MONTH=%{x}<br>SCADAVALUE=%{y}<extra></extra>",
         "legendgroup": "Solar - Solar",
         "line": {
          "color": "#B6E880",
          "dash": "solid"
         },
         "marker": {
          "symbol": "circle"
         },
         "mode": "lines",
         "name": "Solar - Solar",
         "orientation": "v",
         "showlegend": true,
         "type": "scatter",
         "x": [
          "01-2018",
          "02-2018",
          "03-2018",
          "04-2018",
          "05-2018",
          "06-2018",
          "07-2018",
          "08-2018",
          "09-2018",
          "10-2018",
          "11-2018",
          "12-2018",
          "01-2019",
          "02-2019",
          "03-2019",
          "04-2019",
          "05-2019",
          "06-2019",
          "07-2019",
          "08-2019",
          "09-2019",
          "10-2019",
          "11-2019",
          "12-2019",
          "01-2020",
          "02-2020",
          "03-2020",
          "04-2020",
          "05-2020",
          "06-2020",
          "07-2020",
          "08-2020",
          "09-2020",
          "10-2020",
          "11-2020",
          "12-2020",
          "01-2021",
          "02-2021",
          "03-2021",
          "04-2021",
          "05-2021",
          "06-2021",
          "07-2021",
          "08-2021",
          "09-2021",
          "10-2021",
          "11-2021",
          "12-2021",
          "01-2022",
          "02-2022",
          "03-2022",
          "04-2022",
          "05-2022",
          "06-2022",
          "07-2022",
          "08-2022",
          "09-2022",
          "10-2022",
          "11-2022",
          "12-2022",
          "01-2023",
          "02-2023",
          "03-2023",
          "04-2023",
          "05-2023",
          "06-2023",
          "07-2023",
          "08-2023",
          "09-2023",
          "10-2023",
          "11-2023",
          "12-2023",
          "01-2024",
          "02-2024",
          "03-2024",
          "04-2024",
          "05-2024",
          "06-2024",
          "07-2024",
          "08-2024",
          "09-2024",
          "10-2024",
          "11-2024",
          "12-2024",
          "01-2025",
          "02-2025",
          "03-2025",
          "04-2025",
          "05-2025",
          "06-2025",
          "07-2025"
         ],
         "xaxis": "x",
         "y": {
          "bdata": "0T5WMAim/kCAnZt2LdMAQczUJDhliARBO6dZ4CIyB0Ftj96Q7kgMQWMLQS7JxhVBi6TdIAYzIUGaeXJNFW0sQck88i/5ZTBBzo5UM+H7MUHvkjhrghc7QRcP7zEErzlBCoLHl5deOkFApN9iTz04QXQLXRU9qjtBX38SA4QlQEGNXaJeK089QdNQozguNzxBdeeJe3H0QUEceLUK7fdFQdl22vbawEZBHaopL0yqR0FW16Fq3vZNQRno2k1MZk9BpwhwhL2WR0Est7SU3EZHQbIqwjX3+ElBZeHr0dwLSkFUcHgHSIdEQfbsuVb1aUJBldIzt5AzREGyZI75Nb1HQYzc04ce3EdBYtwNOAoFSUFI4XoW1VFPQWkAb3ep50tBXJIDdhntSUGGAUtI0N5HQbLUemu7l0lBvase8JpcREGXdf+CPulFQWGnWPWj+0JBRML3LtGFR0FHHoj+oBZIQSIzFxAhNEZBu5hmDkXTS0GGHcbkFWRJQTrmPDSM3FBBlghUKsiOUEGzCwZjv2ZOQZrQJHWl/U5B2/tUT8hLSEHSGRgFi9lEQTeKrKs1Z0hBPQytIpR7SkGyu0ARVqNMQSrG+YuieFBBrKksizkqUkGd2EPBlaZVQWX8+xZQ3VhBJhjOwKjGVkHkEdwjF29VQcfUXRUPrVRBm42VgGTPVEHcZb8AAjZVQYEiFp525FBBhC7h93BrUkFIcCNJPodWQdeH9QBullVBdQMFKE9MWkHMRufQDjNZQeYg6IlotF1BvDydjEseXEEJVP9RWGtZQfUQjZvieVdBBKvqLHwnVUEzw0bHV3JRQQ9/TfwDIVJBRfZBCV+UU0F6ihz1nDhVQbCPTkSOhVVBKnPz7Y5+WUFYx/GdmBhbQXl2+fY2ulxBroODYzlVXkHadAT9YW1ZQSJRaNO791ZB8656nI2TWEGy1eUTu21UQYblzzWyvFNB/WoOa3LxVUE=",
          "dtype": "f8"
         },
         "yaxis": "y"
        },
        {
         "hovertemplate": "Fuel Type=Wind - Wind<br>MONTH=%{x}<br>SCADAVALUE=%{y}<extra></extra>",
         "legendgroup": "Wind - Wind",
         "line": {
          "color": "#FF97FF",
          "dash": "solid"
         },
         "marker": {
          "symbol": "circle"
         },
         "mode": "lines",
         "name": "Wind - Wind",
         "orientation": "v",
         "showlegend": true,
         "type": "scatter",
         "x": [
          "08-2018",
          "09-2018",
          "10-2018",
          "11-2018",
          "12-2018",
          "01-2019",
          "02-2019",
          "03-2019",
          "04-2019",
          "05-2019",
          "06-2019",
          "07-2019",
          "08-2019",
          "09-2019",
          "10-2019",
          "11-2019",
          "12-2019",
          "01-2020",
          "02-2020",
          "03-2020",
          "04-2020",
          "05-2020",
          "06-2020",
          "07-2020",
          "08-2020",
          "09-2020",
          "10-2020",
          "11-2020",
          "12-2020",
          "01-2021",
          "02-2021",
          "03-2021",
          "04-2021",
          "05-2021",
          "06-2021",
          "07-2021",
          "08-2021",
          "09-2021",
          "10-2021",
          "11-2021",
          "12-2021",
          "01-2022",
          "02-2022",
          "03-2022",
          "04-2022",
          "05-2022",
          "06-2022",
          "07-2022",
          "08-2022",
          "09-2022",
          "10-2022",
          "11-2022",
          "12-2022",
          "01-2023",
          "02-2023",
          "03-2023",
          "04-2023",
          "05-2023",
          "06-2023",
          "07-2023",
          "08-2023",
          "09-2023",
          "10-2023",
          "11-2023",
          "12-2023",
          "01-2024",
          "02-2024",
          "03-2024",
          "04-2024",
          "05-2024",
          "06-2024",
          "07-2024",
          "08-2024",
          "09-2024",
          "10-2024",
          "11-2024",
          "12-2024",
          "01-2025",
          "02-2025",
          "03-2025",
          "04-2025",
          "05-2025",
          "06-2025",
          "07-2025"
         ],
         "xaxis": "x",
         "y": {
          "bdata": "8rVnljQ92kBxOPNr7/ETQRmto+qgBgxB5WGhNgldFkH2YiinJ8kZQbjkuPOopxxBqyaIupfoDkG62oq9WjIYQdS3zBmzvSZBL1G99SGSI0FF2PAkA9wgQbQCQ9Z0GxtB/YLdwIw2JEF1yM3w5fcmQft5U6GnuSZB9gt2c6nEJ0F56SbheyImQUfJqwO4FiFB0ETYcHKYHkHsF+yGxjMxQf5D+p0TxS9BaVIK6vBkOkH+JhRKWz86QULPZhWyPTdBuarsuweSNEFu3c2D26E7QZXUCWBfqDhB3pOH/Ts7N0E4Fam4I/U3QZfiquKBGjpBhNOC10VzMUGkpfL+EJc5QX/BbjCbXDhBH9eGmuL9O0HLEMeSYMw6QU3WqDNxC0BBhetRHEl5QEEczvy+4BZAQawcWnxfczdBUb012FvAO0HTTWJYWDE2QUDeq35VkDpBoMN8WWZ8OkGyYyOIr+s2QWaDTLp36T5BPzVeCgg4PUE9LNT6pdQ9QWxblKEAO0BBzF1LYGonQEF0RpRmBx07QTjb3Jh55j9BcLa5mTr6PUFFKoxtDe09QStNSmkyGT1BWoEh904FQEH0+L31Qdw5QWKh1nTDlD9BSfQy7u6oRkEKEXBcjsFEQSkiw55oRkZBqDrkgrGkR0EnTu5fGdZJQaBsyrmybUZBjbRU7q7cRUE8vVLKhtlDQS/APtpSvEJB3GPpI974PUFZTGzSWyRLQTbNOzZ/tkVBXBsqBg+ATEFGmQ1CAxU+QZijxw9kY0pBLSEfNEPPRUGLGkyjKmlGQT4/jKRhxkhBHm0cpQsASUEsgv8FTd1AQUErMHymU0VBxVVlM/pMSEEsSDPmuGRMQVJJnVjR+UhBr0LKV626T0Fb64t6SV5SQTrpfTsiJlVB",
          "dtype": "f8"
         },
         "yaxis": "y"
        }
       ],
       "layout": {
        "legend": {
         "title": {
          "text": "Fuel Type"
         },
         "tracegroupgap": 0
        },
        "template": {
         "data": {
          "bar": [
           {
            "error_x": {
             "color": "#2a3f5f"
            },
            "error_y": {
             "color": "#2a3f5f"
            },
            "marker": {
             "line": {
              "color": "#E5ECF6",
              "width": 0.5
             },
             "pattern": {
              "fillmode": "overlay",
              "size": 10,
              "solidity": 0.2
             }
            },
            "type": "bar"
           }
          ],
          "barpolar": [
           {
            "marker": {
             "line": {
              "color": "#E5ECF6",
              "width": 0.5
             },
             "pattern": {
              "fillmode": "overlay",
              "size": 10,
              "solidity": 0.2
             }
            },
            "type": "barpolar"
           }
          ],
          "carpet": [
           {
            "aaxis": {
             "endlinecolor": "#2a3f5f",
             "gridcolor": "white",
             "linecolor": "white",
             "minorgridcolor": "white",
             "startlinecolor": "#2a3f5f"
            },
            "baxis": {
             "endlinecolor": "#2a3f5f",
             "gridcolor": "white",
             "linecolor": "white",
             "minorgridcolor": "white",
             "startlinecolor": "#2a3f5f"
            },
            "type": "carpet"
           }
          ],
          "choropleth": [
           {
            "colorbar": {
             "outlinewidth": 0,
             "ticks": ""
            },
            "type": "choropleth"
           }
          ],
          "contour": [
           {
            "colorbar": {
             "outlinewidth": 0,
             "ticks": ""
            },
            "colorscale": [
             [
              0,
              "#0d0887"
             ],
             [
              0.1111111111111111,
              "#46039f"
             ],
             [
              0.2222222222222222,
              "#7201a8"
             ],
             [
              0.3333333333333333,
              "#9c179e"
             ],
             [
              0.4444444444444444,
              "#bd3786"
             ],
             [
              0.5555555555555556,
              "#d8576b"
             ],
             [
              0.6666666666666666,
              "#ed7953"
             ],
             [
              0.7777777777777778,
              "#fb9f3a"
             ],
             [
              0.8888888888888888,
              "#fdca26"
             ],
             [
              1,
              "#f0f921"
             ]
            ],
            "type": "contour"
           }
          ],
          "contourcarpet": [
           {
            "colorbar": {
             "outlinewidth": 0,
             "ticks": ""
            },
            "type": "contourcarpet"
           }
          ],
          "heatmap": [
           {
            "colorbar": {
             "outlinewidth": 0,
             "ticks": ""
            },
            "colorscale": [
             [
              0,
              "#0d0887"
             ],
             [
              0.1111111111111111,
              "#46039f"
             ],
             [
              0.2222222222222222,
              "#7201a8"
             ],
             [
              0.3333333333333333,
              "#9c179e"
             ],
             [
              0.4444444444444444,
              "#bd3786"
             ],
             [
              0.5555555555555556,
              "#d8576b"
             ],
             [
              0.6666666666666666,
              "#ed7953"
             ],
             [
              0.7777777777777778,
              "#fb9f3a"
             ],
             [
              0.8888888888888888,
              "#fdca26"
             ],
             [
              1,
              "#f0f921"
             ]
            ],
            "type": "heatmap"
           }
          ],
          "histogram": [
           {
            "marker": {
             "pattern": {
              "fillmode": "overlay",
              "size": 10,
              "solidity": 0.2
             }
            },
            "type": "histogram"
           }
          ],
          "histogram2d": [
           {
            "colorbar": {
             "outlinewidth": 0,
             "ticks": ""
            },
            "colorscale": [
             [
              0,
              "#0d0887"
             ],
             [
              0.1111111111111111,
              "#46039f"
             ],
             [
              0.2222222222222222,
              "#7201a8"
             ],
             [
              0.3333333333333333,
              "#9c179e"
             ],
             [
              0.4444444444444444,
              "#bd3786"
             ],
             [
              0.5555555555555556,
              "#d8576b"
             ],
             [
              0.6666666666666666,
              "#ed7953"
             ],
             [
              0.7777777777777778,
              "#fb9f3a"
             ],
             [
              0.8888888888888888,
              "#fdca26"
             ],
             [
              1,
              "#f0f921"
             ]
            ],
            "type": "histogram2d"
           }
          ],
          "histogram2dcontour": [
           {
            "colorbar": {
             "outlinewidth": 0,
             "ticks": ""
            },
            "colorscale": [
             [
              0,
              "#0d0887"
             ],
             [
              0.1111111111111111,
              "#46039f"
             ],
             [
              0.2222222222222222,
              "#7201a8"
             ],
             [
              0.3333333333333333,
              "#9c179e"
             ],
             [
              0.4444444444444444,
              "#bd3786"
             ],
             [
              0.5555555555555556,
              "#d8576b"
             ],
             [
              0.6666666666666666,
              "#ed7953"
             ],
             [
              0.7777777777777778,
              "#fb9f3a"
             ],
             [
              0.8888888888888888,
              "#fdca26"
             ],
             [
              1,
              "#f0f921"
             ]
            ],
            "type": "histogram2dcontour"
           }
          ],
          "mesh3d": [
           {
            "colorbar": {
             "outlinewidth": 0,
             "ticks": ""
            },
            "type": "mesh3d"
           }
          ],
          "parcoords": [
           {
            "line": {
             "colorbar": {
              "outlinewidth": 0,
              "ticks": ""
             }
            },
            "type": "parcoords"
           }
          ],
          "pie": [
           {
            "automargin": true,
            "type": "pie"
           }
          ],
          "scatter": [
           {
            "fillpattern": {
             "fillmode": "overlay",
             "size": 10,
             "solidity": 0.2
            },
            "type": "scatter"
           }
          ],
          "scatter3d": [
           {
            "line": {
             "colorbar": {
              "outlinewidth": 0,
              "ticks": ""
             }
            },
            "marker": {
             "colorbar": {
              "outlinewidth": 0,
              "ticks": ""
             }
            },
            "type": "scatter3d"
           }
          ],
          "scattercarpet": [
           {
            "marker": {
             "colorbar": {
              "outlinewidth": 0,
              "ticks": ""
             }
            },
            "type": "scattercarpet"
           }
          ],
          "scattergeo": [
           {
            "marker": {
             "colorbar": {
              "outlinewidth": 0,
              "ticks": ""
             }
            },
            "type": "scattergeo"
           }
          ],
          "scattergl": [
           {
            "marker": {
             "colorbar": {
              "outlinewidth": 0,
              "ticks": ""
             }
            },
            "type": "scattergl"
           }
          ],
          "scattermap": [
           {
            "marker": {
             "colorbar": {
              "outlinewidth": 0,
              "ticks": ""
             }
            },
            "type": "scattermap"
           }
          ],
          "scattermapbox": [
           {
            "marker": {
             "colorbar": {
              "outlinewidth": 0,
              "ticks": ""
             }
            },
            "type": "scattermapbox"
           }
          ],
          "scatterpolar": [
           {
            "marker": {
             "colorbar": {
              "outlinewidth": 0,
              "ticks": ""
             }
            },
            "type": "scatterpolar"
           }
          ],
          "scatterpolargl": [
           {
            "marker": {
             "colorbar": {
              "outlinewidth": 0,
              "ticks": ""
             }
            },
            "type": "scatterpolargl"
           }
          ],
          "scatterternary": [
           {
            "marker": {
             "colorbar": {
              "outlinewidth": 0,
              "ticks": ""
             }
            },
            "type": "scatterternary"
           }
          ],
          "surface": [
           {
            "colorbar": {
             "outlinewidth": 0,
             "ticks": ""
            },
            "colorscale": [
             [
              0,
              "#0d0887"
             ],
             [
              0.1111111111111111,
              "#46039f"
             ],
             [
              0.2222222222222222,
              "#7201a8"
             ],
             [
              0.3333333333333333,
              "#9c179e"
             ],
             [
              0.4444444444444444,
              "#bd3786"
             ],
             [
              0.5555555555555556,
              "#d8576b"
             ],
             [
              0.6666666666666666,
              "#ed7953"
             ],
             [
              0.7777777777777778,
              "#fb9f3a"
             ],
             [
              0.8888888888888888,
              "#fdca26"
             ],
             [
              1,
              "#f0f921"
             ]
            ],
            "type": "surface"
           }
          ],
          "table": [
           {
            "cells": {
             "fill": {
              "color": "#EBF0F8"
             },
             "line": {
              "color": "white"
             }
            },
            "header": {
             "fill": {
              "color": "#C8D4E3"
             },
             "line": {
              "color": "white"
             }
            },
            "type": "table"
           }
          ]
         },
         "layout": {
          "annotationdefaults": {
           "arrowcolor": "#2a3f5f",
           "arrowhead": 0,
           "arrowwidth": 1
          },
          "autotypenumbers": "strict",
          "coloraxis": {
           "colorbar": {
            "outlinewidth": 0,
            "ticks": ""
           }
          },
          "colorscale": {
           "diverging": [
            [
             0,
             "#8e0152"
            ],
            [
             0.1,
             "#c51b7d"
            ],
            [
             0.2,
             "#de77ae"
            ],
            [
             0.3,
             "#f1b6da"
            ],
            [
             0.4,
             "#fde0ef"
            ],
            [
             0.5,
             "#f7f7f7"
            ],
            [
             0.6,
             "#e6f5d0"
            ],
            [
             0.7,
             "#b8e186"
            ],
            [
             0.8,
             "#7fbc41"
            ],
            [
             0.9,
             "#4d9221"
            ],
            [
             1,
             "#276419"
            ]
           ],
           "sequential": [
            [
             0,
             "#0d0887"
            ],
            [
             0.1111111111111111,
             "#46039f"
            ],
            [
             0.2222222222222222,
             "#7201a8"
            ],
            [
             0.3333333333333333,
             "#9c179e"
            ],
            [
             0.4444444444444444,
             "#bd3786"
            ],
            [
             0.5555555555555556,
             "#d8576b"
            ],
            [
             0.6666666666666666,
             "#ed7953"
            ],
            [
             0.7777777777777778,
             "#fb9f3a"
            ],
            [
             0.8888888888888888,
             "#fdca26"
            ],
            [
             1,
             "#f0f921"
            ]
           ],
           "sequentialminus": [
            [
             0,
             "#0d0887"
            ],
            [
             0.1111111111111111,
             "#46039f"
            ],
            [
             0.2222222222222222,
             "#7201a8"
            ],
            [
             0.3333333333333333,
             "#9c179e"
            ],
            [
             0.4444444444444444,
             "#bd3786"
            ],
            [
             0.5555555555555556,
             "#d8576b"
            ],
            [
             0.6666666666666666,
             "#ed7953"
            ],
            [
             0.7777777777777778,
             "#fb9f3a"
            ],
            [
             0.8888888888888888,
             "#fdca26"
            ],
            [
             1,
             "#f0f921"
            ]
           ]
          },
          "colorway": [
           "#636efa",
           "#EF553B",
           "#00cc96",
           "#ab63fa",
           "#FFA15A",
           "#19d3f3",
           "#FF6692",
           "#B6E880",
           "#FF97FF",
           "#FECB52"
          ],
          "font": {
           "color": "#2a3f5f"
          },
          "geo": {
           "bgcolor": "white",
           "lakecolor": "white",
           "landcolor": "#E5ECF6",
           "showlakes": true,
           "showland": true,
           "subunitcolor": "white"
          },
          "hoverlabel": {
           "align": "left"
          },
          "hovermode": "closest",
          "mapbox": {
           "style": "light"
          },
          "paper_bgcolor": "white",
          "plot_bgcolor": "#E5ECF6",
          "polar": {
           "angularaxis": {
            "gridcolor": "white",
            "linecolor": "white",
            "ticks": ""
           },
           "bgcolor": "#E5ECF6",
           "radialaxis": {
            "gridcolor": "white",
            "linecolor": "white",
            "ticks": ""
           }
          },
          "scene": {
           "xaxis": {
            "backgroundcolor": "#E5ECF6",
            "gridcolor": "white",
            "gridwidth": 2,
            "linecolor": "white",
            "showbackground": true,
            "ticks": "",
            "zerolinecolor": "white"
           },
           "yaxis": {
            "backgroundcolor": "#E5ECF6",
            "gridcolor": "white",
            "gridwidth": 2,
            "linecolor": "white",
            "showbackground": true,
            "ticks": "",
            "zerolinecolor": "white"
           },
           "zaxis": {
            "backgroundcolor": "#E5ECF6",
            "gridcolor": "white",
            "gridwidth": 2,
            "linecolor": "white",
            "showbackground": true,
            "ticks": "",
            "zerolinecolor": "white"
           }
          },
          "shapedefaults": {
           "line": {
            "color": "#2a3f5f"
           }
          },
          "ternary": {
           "aaxis": {
            "gridcolor": "white",
            "linecolor": "white",
            "ticks": ""
           },
           "baxis": {
            "gridcolor": "white",
            "linecolor": "white",
            "ticks": ""
           },
           "bgcolor": "#E5ECF6",
           "caxis": {
            "gridcolor": "white",
            "linecolor": "white",
            "ticks": ""
           }
          },
          "title": {
           "x": 0.05
          },
          "xaxis": {
           "automargin": true,
           "gridcolor": "white",
           "linecolor": "white",
           "ticks": "",
           "title": {
            "standoff": 15
           },
           "zerolinecolor": "white",
           "zerolinewidth": 2
          },
          "yaxis": {
           "automargin": true,
           "gridcolor": "white",
           "linecolor": "white",
           "ticks": "",
           "title": {
            "standoff": 15
           },
           "zerolinecolor": "white",
           "zerolinewidth": 2
          }
         }
        },
        "title": {
         "text": "Queensland Fuel Generation by Type (Jan 2018 - July 2025)"
        },
        "xaxis": {
         "anchor": "y",
         "domain": [
          0,
          1
         ],
         "title": {
          "text": "MONTH"
         }
        },
        "yaxis": {
         "anchor": "x",
         "domain": [
          0,
          1
         ],
         "title": {
          "text": "SCADAVALUE"
         }
        }
       }
      }
     },
     "metadata": {},
     "output_type": "display_data"
    }
   ],
   "source": [
    "px.line(qld_fuel_generation_agg, x = 'MONTH', y = 'SCADAVALUE', color = 'Fuel Type', title = 'Queensland Fuel Generation by Type (Jan 2018 - July 2025)')"
   ]
  },
  {
   "cell_type": "code",
   "execution_count": null,
   "id": "370f375f",
   "metadata": {},
   "outputs": [
    {
     "data": {
      "application/vnd.plotly.v1+json": {
       "config": {
        "plotlyServerURL": "https://plot.ly"
       },
       "data": [
        {
         "hovertemplate": "Fuel Type=Fossil - Natural Gas Pipeline<br>MONTH=%{x}<br>SCADAVALUE=%{y}<extra></extra>",
         "legendgroup": "Fossil - Natural Gas Pipeline",
         "line": {
          "color": "#636efa",
          "dash": "solid"
         },
         "marker": {
          "symbol": "circle"
         },
         "mode": "lines",
         "name": "Fossil - Natural Gas Pipeline",
         "orientation": "v",
         "showlegend": true,
         "type": "scatter",
         "x": [
          "01-2018",
          "02-2018",
          "03-2018",
          "04-2018",
          "05-2018",
          "06-2018",
          "07-2018",
          "08-2018",
          "09-2018",
          "10-2018",
          "11-2018",
          "12-2018",
          "01-2019",
          "02-2019",
          "03-2019",
          "04-2019",
          "05-2019",
          "06-2019",
          "07-2019",
          "08-2019",
          "09-2019",
          "10-2019",
          "11-2019",
          "12-2019",
          "01-2020",
          "02-2020",
          "03-2020",
          "04-2020",
          "05-2020",
          "06-2020",
          "07-2020",
          "08-2020",
          "09-2020",
          "10-2020",
          "11-2020",
          "12-2020",
          "01-2021",
          "02-2021",
          "03-2021",
          "04-2021",
          "05-2021",
          "06-2021",
          "07-2021",
          "08-2021",
          "09-2021",
          "10-2021",
          "11-2021",
          "12-2021",
          "01-2022",
          "02-2022",
          "03-2022",
          "04-2022",
          "05-2022",
          "06-2022",
          "07-2022",
          "08-2022",
          "09-2022",
          "10-2022",
          "11-2022",
          "12-2022",
          "01-2023",
          "02-2023",
          "03-2023",
          "04-2023",
          "05-2023",
          "06-2023",
          "07-2023",
          "08-2023",
          "09-2023",
          "10-2023",
          "11-2023",
          "12-2023",
          "01-2024",
          "02-2024",
          "03-2024",
          "04-2024",
          "05-2024",
          "06-2024",
          "07-2024",
          "08-2024",
          "09-2024",
          "10-2024",
          "11-2024",
          "12-2024",
          "01-2025",
          "02-2025",
          "03-2025",
          "04-2025",
          "05-2025",
          "06-2025",
          "07-2025"
         ],
         "xaxis": "x",
         "y": {
          "bdata": "kQpjQ9O9O0Fi83FlNlw4QUZfQdrLmTZBHVpkO2j+6UBLWYY4vou6QIE+kSfCsOxArYvbaEQdyEBJnYCGiO8XQbKd76cDAvVAOxkc5fYHDEFUqdlDhAcHQY20VN41Nu5AGD4ixj4DFkF1yM040jszQS7nUsyNZCtB7gin5e73LUHtR4roE1cwQQ5nfvWt6gtBIzKsIhiNDUFLH7qgndIFQXYaaakceMNADaZhOE64DUGJ78QsFqj4QKwcWmTI+fdA8KKvINmZ6kBJaMu557vjQOYF2EfnoZBA7MA5Ixgx0UAIILWJvNvkQKLuA5BXygBBFCLgEDrgEEEQO1OotwASQdj1C3Y45+tA6J/gYoU05EBRa5p3/5z3QKTH721GGMhAYvNxbShB1UCamZmZGYCrQE5/9iONY7BAyCQjZwtF1EBkBipjHNP2QK4NFeNnbvdA2o8UkSmKvkAzMzMzYw/WwNPZyeBUbsXAexSuR8GDycA8MevFwCfWwHsUrkcRQdfArg0V48DG1kCtUQ/RxG/iQD7QCgy8ffVAflcEP/KQFkGrWz0n+mvqQM8UOq+xYuJAiUFg5RAb20CTGASWIFoDQV0bKkZZHvdA8l61cufeCEH4U+OlHS/XQIZVvJFdk9ZAuECCYgoc80DWc9L7oLvXQGebG1Put/ZArvVFwqSl80B/arx0jbfxQILF4cz0CPFAkpbK28aL4ECKAn0i5vr2QP3epj8yqO1AMo/8wXSd4EDt0/GYlavbQDKUE21iKPVADwu1pkDiAkEDYDyDfGPlQCGTjJzbW9RAQKTfvlp860AeM1A59bUlQd8Vwf86EzZB7WRwzEN1NUF/vFelAmM0QbvtQnMxYtJAsktUb7Lh40Aprir7MGvZQDVj0XTGH9FA9l0R/Byf4UBPkq4Z9tfwQCYZOYssaPpAhZSf1DMn+0AqdF4jACgIQQt72uHA7gtBopxoF+suBkE=",
          "dtype": "f8"
         },
         "yaxis": "y"
        },
        {
         "hovertemplate": "Fuel Type=Hydro - Water<br>MONTH=%{x}<br>SCADAVALUE=%{y}<extra></extra>",
         "legendgroup": "Hydro - Water",
         "line": {
          "color": "#EF553B",
          "dash": "solid"
         },
         "marker": {
          "symbol": "circle"
         },
         "mode": "lines",
         "name": "Hydro - Water",
         "orientation": "v",
         "showlegend": true,
         "type": "scatter",
         "x": [
          "01-2018",
          "02-2018",
          "03-2018",
          "04-2018",
          "05-2018",
          "06-2018",
          "07-2018",
          "08-2018",
          "09-2018",
          "10-2018",
          "11-2018",
          "12-2018",
          "01-2019",
          "02-2019",
          "03-2019",
          "04-2019",
          "05-2019",
          "06-2019",
          "07-2019",
          "08-2019",
          "09-2019",
          "10-2019",
          "11-2019",
          "12-2019",
          "01-2020",
          "02-2020",
          "03-2020",
          "04-2020",
          "05-2020",
          "06-2020",
          "07-2020",
          "08-2020",
          "09-2020",
          "10-2020",
          "11-2020",
          "12-2020",
          "01-2021",
          "02-2021",
          "03-2021",
          "04-2021",
          "05-2021",
          "06-2021",
          "07-2021",
          "08-2021",
          "09-2021",
          "10-2021",
          "11-2021",
          "12-2021",
          "01-2022",
          "02-2022",
          "03-2022",
          "04-2022",
          "05-2022",
          "06-2022",
          "07-2022",
          "08-2022",
          "09-2022",
          "10-2022",
          "11-2022",
          "12-2022",
          "01-2023",
          "02-2023",
          "03-2023",
          "04-2023",
          "05-2023",
          "06-2023",
          "07-2023",
          "08-2023",
          "09-2023",
          "10-2023",
          "11-2023",
          "12-2023",
          "01-2024",
          "02-2024",
          "03-2024",
          "04-2024",
          "05-2024",
          "06-2024",
          "07-2024",
          "08-2024",
          "09-2024",
          "10-2024",
          "11-2024",
          "12-2024",
          "01-2025",
          "02-2025",
          "03-2025",
          "04-2025",
          "05-2025",
          "06-2025",
          "07-2025"
         ],
         "xaxis": "x",
         "y": {
          "bdata": "X16AUAh0WUHKpIacrdFWQR/VsAuIOVpBkPiVkcC+YUHi5P6Kk6VjQQZG3jE5U2hB2qokcmdSa0FCJMM2VD1sQfT4vedmkGhBk1dnw82/YEFmZ1FR199iQcCTFh4eZ2NBj6hQkFZUXUEA5e8EDCFSQVeVffVld1VBUMQiOjITWUGtMtPfNBpiQRMMZ6lF9mVBWKt26T0taEF39pWurbtmQTMV4m1srWFBaJQuq3pfWkFYVMTXrdBgQXgp9a+ACGFBwCZrQnX6W0EdIQOvKiFcQQWGrEJ3h2BBg/bqdUdQZUHVBbwPW51mQe7tFltILmZBT1hiwgBwZkHsiS6kRiNgQat3uGMOqF9BPufuVd8qYUHzy2DQ9fFVQSe/RUsOs1ZBRQ4Rt1LHVEGDE9HN7bZVQYC77BV8hVxB4EggEFgoYkH+ROXUG/JiQSLgkK2KN2VBsAERSZvRZUE49QF+rYtoQcXF0bsRkmVBOnZQRGZ/Y0FAFqIyK89iQYIBhMTH5VpBZr0Y4jOOXEFgAyL4xxdYQXLdlDH2mF1B/wOsyLBAX0GqZtZ3YZVlQVQdcnqgMGZBMrCOWXJ3ZEG45/nRfPVhQQcmN+M/2WBB8E+p9gqQXkFBKzAyldJeQQisHIU9slhBOEpeDbDwVkGNJayKXT5UQfG3Pcm2w1pBYYkHxftnYEEDW6UztNpjQc8VpbupPGRBK4pX9fTNZUGqZAAMqtFkQc06Yxd/bmBBDHVYC0neWkGrBmGY959XQbACfGKS+1VBrRbY9JTxU0Gg/N1gEPtVQQN7TKBJ7FZBdEaUszFTXkEGvqLr8e5bQUC9Gc7adl5Bz9iXuJGJWUFhUREmHL5WQQyyZY2cp19BVaTCcMrmXUGjXBqKiFFYQVgAU2AYO1dB8ExoCiFoU0EQejY1f45RQX1bsA+wjlVB6YAknkE5V0GRgNEUd81XQZ32lMVpxl1B1ZelLMLfX0E=",
          "dtype": "f8"
         },
         "yaxis": "y"
        },
        {
         "hovertemplate": "Fuel Type=Wind - Wind<br>MONTH=%{x}<br>SCADAVALUE=%{y}<extra></extra>",
         "legendgroup": "Wind - Wind",
         "line": {
          "color": "#00cc96",
          "dash": "solid"
         },
         "marker": {
          "symbol": "circle"
         },
         "mode": "lines",
         "name": "Wind - Wind",
         "orientation": "v",
         "showlegend": true,
         "type": "scatter",
         "x": [
          "01-2018",
          "02-2018",
          "03-2018",
          "04-2018",
          "05-2018",
          "06-2018",
          "07-2018",
          "08-2018",
          "09-2018",
          "10-2018",
          "11-2018",
          "12-2018",
          "01-2019",
          "02-2019",
          "03-2019",
          "04-2019",
          "05-2019",
          "06-2019",
          "07-2019",
          "08-2019",
          "09-2019",
          "10-2019",
          "11-2019",
          "12-2019",
          "01-2020",
          "02-2020",
          "03-2020",
          "04-2020",
          "05-2020",
          "06-2020",
          "07-2020",
          "08-2020",
          "09-2020",
          "10-2020",
          "11-2020",
          "12-2020",
          "01-2021",
          "02-2021",
          "03-2021",
          "04-2021",
          "05-2021",
          "06-2021",
          "07-2021",
          "08-2021",
          "09-2021",
          "10-2021",
          "11-2021",
          "12-2021",
          "01-2022",
          "02-2022",
          "03-2022",
          "04-2022",
          "05-2022",
          "06-2022",
          "07-2022",
          "08-2022",
          "09-2022",
          "10-2022",
          "11-2022",
          "12-2022",
          "01-2023",
          "02-2023",
          "03-2023",
          "04-2023",
          "05-2023",
          "06-2023",
          "07-2023",
          "08-2023",
          "09-2023",
          "10-2023",
          "11-2023",
          "12-2023",
          "01-2024",
          "02-2024",
          "03-2024",
          "04-2024",
          "05-2024",
          "06-2024",
          "07-2024",
          "08-2024",
          "09-2024",
          "10-2024",
          "11-2024",
          "12-2024",
          "01-2025",
          "02-2025",
          "03-2025",
          "04-2025",
          "05-2025",
          "06-2025",
          "07-2025"
         ],
         "xaxis": "x",
         "y": {
          "bdata": "7nppir/HLEHDgvsJ3DgsQW/yWwhsIjBBibK31HkAMEFWZd9tans0QcpQFZOSrCxBkbdcqUZcNkFpAG9NEnY0QfewFyJ26jJBxAsiurTgKUE2HQH0JZUsQcYVFx9XES9Bd5/jtzJBMEFR9wEUw6EyQb3faBd0+itBR5IghKCtMUEXDK7xo8QyQWrecbJUNixBs12hv7uHOEGN8PZo1NQzQdm0UlAU5DFB9rUuabhAMUHO34RafDI2QeqvVwhweTNBC0W6S0hZMUFmiGMVv5wzQVZI+TH8oy9BOCwNdGvqNkGhoBRV0Ec3QWLcDUK1oDVBpipt3V5oMUG7RzY3GlY2QRUA42kF5kBBoU0OD1P6N0GwkSSsUdw7QdO+uZ3FoEBBUgq6jbxRPEFRFr6KQug3QaXY0RT0/D1BPWTKx8EOQUFFSN0uEUQ9QelILh8aLTRBc71tIv/5PUGvBb0R1kpBQRtl/RqouT9BhbAaa92pPUHiPQdOeKg0QcnH7irLBjpBMnVX3lRuNUFE+u1H5a42Qc7fhM4lCDVBdlJfPhYaNEGlTdWNtY47Qfa3BGxxe0FBweCaM0EIOEE+z5/4c2lAQaxvYOansDdBeZRKQLuJNUHWjXdL/do5QUVJSAznDTdBoBov1U7fNEHWNVq+xTg1Qd7M6N/41zxBFmpNRxueOEHdXWfrk6BBQec1dnPmgkFBN4yCcovLRUFs0QLo/4w/QdWvdDbCtj9BEeSg6NwxQEGVYdx5FiUzQSF4fPv2/jVBzHoxFOQnPEHGMv0udCc4Qf4ORRn3sDlBRFGgw6s4N0Et6SgTs6k3QfhsHSB5qzNBMuiEHATuOUEPKnEj925CQZWAmDI94UVBPNhirw0YQUGYMnAAiAQ6QbFs5jqGA0BBYyZRnwALNkG2ZcDhXSg4QfuWOX3tOjVBP1db3eDTM0G+M9ourP06QazEPC+rgjdBwlHy7rqbPUE=",
          "dtype": "f8"
         },
         "yaxis": "y"
        }
       ],
       "layout": {
        "legend": {
         "title": {
          "text": "Fuel Type"
         },
         "tracegroupgap": 0
        },
        "template": {
         "data": {
          "bar": [
           {
            "error_x": {
             "color": "#2a3f5f"
            },
            "error_y": {
             "color": "#2a3f5f"
            },
            "marker": {
             "line": {
              "color": "#E5ECF6",
              "width": 0.5
             },
             "pattern": {
              "fillmode": "overlay",
              "size": 10,
              "solidity": 0.2
             }
            },
            "type": "bar"
           }
          ],
          "barpolar": [
           {
            "marker": {
             "line": {
              "color": "#E5ECF6",
              "width": 0.5
             },
             "pattern": {
              "fillmode": "overlay",
              "size": 10,
              "solidity": 0.2
             }
            },
            "type": "barpolar"
           }
          ],
          "carpet": [
           {
            "aaxis": {
             "endlinecolor": "#2a3f5f",
             "gridcolor": "white",
             "linecolor": "white",
             "minorgridcolor": "white",
             "startlinecolor": "#2a3f5f"
            },
            "baxis": {
             "endlinecolor": "#2a3f5f",
             "gridcolor": "white",
             "linecolor": "white",
             "minorgridcolor": "white",
             "startlinecolor": "#2a3f5f"
            },
            "type": "carpet"
           }
          ],
          "choropleth": [
           {
            "colorbar": {
             "outlinewidth": 0,
             "ticks": ""
            },
            "type": "choropleth"
           }
          ],
          "contour": [
           {
            "colorbar": {
             "outlinewidth": 0,
             "ticks": ""
            },
            "colorscale": [
             [
              0,
              "#0d0887"
             ],
             [
              0.1111111111111111,
              "#46039f"
             ],
             [
              0.2222222222222222,
              "#7201a8"
             ],
             [
              0.3333333333333333,
              "#9c179e"
             ],
             [
              0.4444444444444444,
              "#bd3786"
             ],
             [
              0.5555555555555556,
              "#d8576b"
             ],
             [
              0.6666666666666666,
              "#ed7953"
             ],
             [
              0.7777777777777778,
              "#fb9f3a"
             ],
             [
              0.8888888888888888,
              "#fdca26"
             ],
             [
              1,
              "#f0f921"
             ]
            ],
            "type": "contour"
           }
          ],
          "contourcarpet": [
           {
            "colorbar": {
             "outlinewidth": 0,
             "ticks": ""
            },
            "type": "contourcarpet"
           }
          ],
          "heatmap": [
           {
            "colorbar": {
             "outlinewidth": 0,
             "ticks": ""
            },
            "colorscale": [
             [
              0,
              "#0d0887"
             ],
             [
              0.1111111111111111,
              "#46039f"
             ],
             [
              0.2222222222222222,
              "#7201a8"
             ],
             [
              0.3333333333333333,
              "#9c179e"
             ],
             [
              0.4444444444444444,
              "#bd3786"
             ],
             [
              0.5555555555555556,
              "#d8576b"
             ],
             [
              0.6666666666666666,
              "#ed7953"
             ],
             [
              0.7777777777777778,
              "#fb9f3a"
             ],
             [
              0.8888888888888888,
              "#fdca26"
             ],
             [
              1,
              "#f0f921"
             ]
            ],
            "type": "heatmap"
           }
          ],
          "histogram": [
           {
            "marker": {
             "pattern": {
              "fillmode": "overlay",
              "size": 10,
              "solidity": 0.2
             }
            },
            "type": "histogram"
           }
          ],
          "histogram2d": [
           {
            "colorbar": {
             "outlinewidth": 0,
             "ticks": ""
            },
            "colorscale": [
             [
              0,
              "#0d0887"
             ],
             [
              0.1111111111111111,
              "#46039f"
             ],
             [
              0.2222222222222222,
              "#7201a8"
             ],
             [
              0.3333333333333333,
              "#9c179e"
             ],
             [
              0.4444444444444444,
              "#bd3786"
             ],
             [
              0.5555555555555556,
              "#d8576b"
             ],
             [
              0.6666666666666666,
              "#ed7953"
             ],
             [
              0.7777777777777778,
              "#fb9f3a"
             ],
             [
              0.8888888888888888,
              "#fdca26"
             ],
             [
              1,
              "#f0f921"
             ]
            ],
            "type": "histogram2d"
           }
          ],
          "histogram2dcontour": [
           {
            "colorbar": {
             "outlinewidth": 0,
             "ticks": ""
            },
            "colorscale": [
             [
              0,
              "#0d0887"
             ],
             [
              0.1111111111111111,
              "#46039f"
             ],
             [
              0.2222222222222222,
              "#7201a8"
             ],
             [
              0.3333333333333333,
              "#9c179e"
             ],
             [
              0.4444444444444444,
              "#bd3786"
             ],
             [
              0.5555555555555556,
              "#d8576b"
             ],
             [
              0.6666666666666666,
              "#ed7953"
             ],
             [
              0.7777777777777778,
              "#fb9f3a"
             ],
             [
              0.8888888888888888,
              "#fdca26"
             ],
             [
              1,
              "#f0f921"
             ]
            ],
            "type": "histogram2dcontour"
           }
          ],
          "mesh3d": [
           {
            "colorbar": {
             "outlinewidth": 0,
             "ticks": ""
            },
            "type": "mesh3d"
           }
          ],
          "parcoords": [
           {
            "line": {
             "colorbar": {
              "outlinewidth": 0,
              "ticks": ""
             }
            },
            "type": "parcoords"
           }
          ],
          "pie": [
           {
            "automargin": true,
            "type": "pie"
           }
          ],
          "scatter": [
           {
            "fillpattern": {
             "fillmode": "overlay",
             "size": 10,
             "solidity": 0.2
            },
            "type": "scatter"
           }
          ],
          "scatter3d": [
           {
            "line": {
             "colorbar": {
              "outlinewidth": 0,
              "ticks": ""
             }
            },
            "marker": {
             "colorbar": {
              "outlinewidth": 0,
              "ticks": ""
             }
            },
            "type": "scatter3d"
           }
          ],
          "scattercarpet": [
           {
            "marker": {
             "colorbar": {
              "outlinewidth": 0,
              "ticks": ""
             }
            },
            "type": "scattercarpet"
           }
          ],
          "scattergeo": [
           {
            "marker": {
             "colorbar": {
              "outlinewidth": 0,
              "ticks": ""
             }
            },
            "type": "scattergeo"
           }
          ],
          "scattergl": [
           {
            "marker": {
             "colorbar": {
              "outlinewidth": 0,
              "ticks": ""
             }
            },
            "type": "scattergl"
           }
          ],
          "scattermap": [
           {
            "marker": {
             "colorbar": {
              "outlinewidth": 0,
              "ticks": ""
             }
            },
            "type": "scattermap"
           }
          ],
          "scattermapbox": [
           {
            "marker": {
             "colorbar": {
              "outlinewidth": 0,
              "ticks": ""
             }
            },
            "type": "scattermapbox"
           }
          ],
          "scatterpolar": [
           {
            "marker": {
             "colorbar": {
              "outlinewidth": 0,
              "ticks": ""
             }
            },
            "type": "scatterpolar"
           }
          ],
          "scatterpolargl": [
           {
            "marker": {
             "colorbar": {
              "outlinewidth": 0,
              "ticks": ""
             }
            },
            "type": "scatterpolargl"
           }
          ],
          "scatterternary": [
           {
            "marker": {
             "colorbar": {
              "outlinewidth": 0,
              "ticks": ""
             }
            },
            "type": "scatterternary"
           }
          ],
          "surface": [
           {
            "colorbar": {
             "outlinewidth": 0,
             "ticks": ""
            },
            "colorscale": [
             [
              0,
              "#0d0887"
             ],
             [
              0.1111111111111111,
              "#46039f"
             ],
             [
              0.2222222222222222,
              "#7201a8"
             ],
             [
              0.3333333333333333,
              "#9c179e"
             ],
             [
              0.4444444444444444,
              "#bd3786"
             ],
             [
              0.5555555555555556,
              "#d8576b"
             ],
             [
              0.6666666666666666,
              "#ed7953"
             ],
             [
              0.7777777777777778,
              "#fb9f3a"
             ],
             [
              0.8888888888888888,
              "#fdca26"
             ],
             [
              1,
              "#f0f921"
             ]
            ],
            "type": "surface"
           }
          ],
          "table": [
           {
            "cells": {
             "fill": {
              "color": "#EBF0F8"
             },
             "line": {
              "color": "white"
             }
            },
            "header": {
             "fill": {
              "color": "#C8D4E3"
             },
             "line": {
              "color": "white"
             }
            },
            "type": "table"
           }
          ]
         },
         "layout": {
          "annotationdefaults": {
           "arrowcolor": "#2a3f5f",
           "arrowhead": 0,
           "arrowwidth": 1
          },
          "autotypenumbers": "strict",
          "coloraxis": {
           "colorbar": {
            "outlinewidth": 0,
            "ticks": ""
           }
          },
          "colorscale": {
           "diverging": [
            [
             0,
             "#8e0152"
            ],
            [
             0.1,
             "#c51b7d"
            ],
            [
             0.2,
             "#de77ae"
            ],
            [
             0.3,
             "#f1b6da"
            ],
            [
             0.4,
             "#fde0ef"
            ],
            [
             0.5,
             "#f7f7f7"
            ],
            [
             0.6,
             "#e6f5d0"
            ],
            [
             0.7,
             "#b8e186"
            ],
            [
             0.8,
             "#7fbc41"
            ],
            [
             0.9,
             "#4d9221"
            ],
            [
             1,
             "#276419"
            ]
           ],
           "sequential": [
            [
             0,
             "#0d0887"
            ],
            [
             0.1111111111111111,
             "#46039f"
            ],
            [
             0.2222222222222222,
             "#7201a8"
            ],
            [
             0.3333333333333333,
             "#9c179e"
            ],
            [
             0.4444444444444444,
             "#bd3786"
            ],
            [
             0.5555555555555556,
             "#d8576b"
            ],
            [
             0.6666666666666666,
             "#ed7953"
            ],
            [
             0.7777777777777778,
             "#fb9f3a"
            ],
            [
             0.8888888888888888,
             "#fdca26"
            ],
            [
             1,
             "#f0f921"
            ]
           ],
           "sequentialminus": [
            [
             0,
             "#0d0887"
            ],
            [
             0.1111111111111111,
             "#46039f"
            ],
            [
             0.2222222222222222,
             "#7201a8"
            ],
            [
             0.3333333333333333,
             "#9c179e"
            ],
            [
             0.4444444444444444,
             "#bd3786"
            ],
            [
             0.5555555555555556,
             "#d8576b"
            ],
            [
             0.6666666666666666,
             "#ed7953"
            ],
            [
             0.7777777777777778,
             "#fb9f3a"
            ],
            [
             0.8888888888888888,
             "#fdca26"
            ],
            [
             1,
             "#f0f921"
            ]
           ]
          },
          "colorway": [
           "#636efa",
           "#EF553B",
           "#00cc96",
           "#ab63fa",
           "#FFA15A",
           "#19d3f3",
           "#FF6692",
           "#B6E880",
           "#FF97FF",
           "#FECB52"
          ],
          "font": {
           "color": "#2a3f5f"
          },
          "geo": {
           "bgcolor": "white",
           "lakecolor": "white",
           "landcolor": "#E5ECF6",
           "showlakes": true,
           "showland": true,
           "subunitcolor": "white"
          },
          "hoverlabel": {
           "align": "left"
          },
          "hovermode": "closest",
          "mapbox": {
           "style": "light"
          },
          "paper_bgcolor": "white",
          "plot_bgcolor": "#E5ECF6",
          "polar": {
           "angularaxis": {
            "gridcolor": "white",
            "linecolor": "white",
            "ticks": ""
           },
           "bgcolor": "#E5ECF6",
           "radialaxis": {
            "gridcolor": "white",
            "linecolor": "white",
            "ticks": ""
           }
          },
          "scene": {
           "xaxis": {
            "backgroundcolor": "#E5ECF6",
            "gridcolor": "white",
            "gridwidth": 2,
            "linecolor": "white",
            "showbackground": true,
            "ticks": "",
            "zerolinecolor": "white"
           },
           "yaxis": {
            "backgroundcolor": "#E5ECF6",
            "gridcolor": "white",
            "gridwidth": 2,
            "linecolor": "white",
            "showbackground": true,
            "ticks": "",
            "zerolinecolor": "white"
           },
           "zaxis": {
            "backgroundcolor": "#E5ECF6",
            "gridcolor": "white",
            "gridwidth": 2,
            "linecolor": "white",
            "showbackground": true,
            "ticks": "",
            "zerolinecolor": "white"
           }
          },
          "shapedefaults": {
           "line": {
            "color": "#2a3f5f"
           }
          },
          "ternary": {
           "aaxis": {
            "gridcolor": "white",
            "linecolor": "white",
            "ticks": ""
           },
           "baxis": {
            "gridcolor": "white",
            "linecolor": "white",
            "ticks": ""
           },
           "bgcolor": "#E5ECF6",
           "caxis": {
            "gridcolor": "white",
            "linecolor": "white",
            "ticks": ""
           }
          },
          "title": {
           "x": 0.05
          },
          "xaxis": {
           "automargin": true,
           "gridcolor": "white",
           "linecolor": "white",
           "ticks": "",
           "title": {
            "standoff": 15
           },
           "zerolinecolor": "white",
           "zerolinewidth": 2
          },
          "yaxis": {
           "automargin": true,
           "gridcolor": "white",
           "linecolor": "white",
           "ticks": "",
           "title": {
            "standoff": 15
           },
           "zerolinecolor": "white",
           "zerolinewidth": 2
          }
         }
        },
        "title": {
         "text": "Tasmania Fuel Generation by Type (Jan 2018 - July 2025)"
        },
        "xaxis": {
         "anchor": "y",
         "domain": [
          0,
          1
         ],
         "title": {
          "text": "MONTH"
         }
        },
        "yaxis": {
         "anchor": "x",
         "domain": [
          0,
          1
         ],
         "title": {
          "text": "SCADAVALUE"
         }
        }
       }
      }
     },
     "metadata": {},
     "output_type": "display_data"
    }
   ],
   "source": [
    "px.line(tas_fuel_generation_agg, x = 'MONTH', y = 'SCADAVALUE', color = 'Fuel Type', title = 'Tasmania Fuel Generation by Type (Jan 2018 - July 2025)')"
   ]
  },
  {
   "cell_type": "code",
   "execution_count": null,
   "id": "dbc70432",
   "metadata": {},
   "outputs": [
    {
     "data": {
      "application/vnd.plotly.v1+json": {
       "config": {
        "plotlyServerURL": "https://plot.ly"
       },
       "data": [
        {
         "hovertemplate": "Fuel Type=Fossil - Brown Coal<br>MONTH=%{x}<br>SCADAVALUE=%{y}<extra></extra>",
         "legendgroup": "Fossil - Brown Coal",
         "line": {
          "color": "#636efa",
          "dash": "solid"
         },
         "marker": {
          "symbol": "circle"
         },
         "mode": "lines",
         "name": "Fossil - Brown Coal",
         "orientation": "v",
         "showlegend": true,
         "type": "scatter",
         "x": [
          "01-2018",
          "02-2018",
          "03-2018",
          "04-2018",
          "05-2018",
          "06-2018",
          "07-2018",
          "08-2018",
          "09-2018",
          "10-2018",
          "11-2018",
          "12-2018",
          "01-2019",
          "02-2019",
          "03-2019",
          "04-2019",
          "05-2019",
          "06-2019",
          "07-2019",
          "08-2019",
          "09-2019",
          "10-2019",
          "11-2019",
          "12-2019",
          "01-2020",
          "02-2020",
          "03-2020",
          "04-2020",
          "05-2020",
          "06-2020",
          "07-2020",
          "08-2020",
          "09-2020",
          "10-2020",
          "11-2020",
          "12-2020",
          "01-2021",
          "02-2021",
          "03-2021",
          "04-2021",
          "05-2021",
          "06-2021",
          "07-2021",
          "08-2021",
          "09-2021",
          "10-2021",
          "11-2021",
          "12-2021",
          "01-2022",
          "02-2022",
          "03-2022",
          "04-2022",
          "05-2022",
          "06-2022",
          "07-2022",
          "08-2022",
          "09-2022",
          "10-2022",
          "11-2022",
          "12-2022",
          "01-2023",
          "02-2023",
          "03-2023",
          "04-2023",
          "05-2023",
          "06-2023",
          "07-2023",
          "08-2023",
          "09-2023",
          "10-2023",
          "11-2023",
          "12-2023",
          "01-2024",
          "02-2024",
          "03-2024",
          "04-2024",
          "05-2024",
          "06-2024",
          "07-2024",
          "08-2024",
          "09-2024",
          "10-2024",
          "11-2024",
          "12-2024",
          "01-2025",
          "02-2025",
          "03-2025",
          "04-2025",
          "05-2025",
          "06-2025",
          "07-2025"
         ],
         "xaxis": "x",
         "y": {
          "bdata": "Cmjia2mdgkGU3jd8aN2AQS457mogzYBBm1XfwGR4gUE7Ac2yUmWCQUX1VqkfhYJBcy4FJ33ggkEdVc2BgDqCQbAD56RJUH5B16Pw9uisf0GZ9eJ2eAl9QTpYv6F3uIBBf94U+xf+gEEsn2VNNb5/Qdu/MrpKfIJBK4eWvIK0fUFhiQeLNKt+Qe9y0YYnC4FBjBU1/iHRf0F4RXBfF+t9QSgKdLs6OXtBB9Mw2lB5fkH+JhTflXt+QWSv92eZzYBBYTLVrO/LgUGlFDQCGICAQQjJArAYm4BBowbTiGrCf0HIe1XSwy6AQVr1udN7SYJBpMLYuG9mgEGnli3hFceAQXztGR7mmn5B8FCUDtR8fEEuHAivPxl+QV+1Ms1T4oBBE9Ub47m+gUFmSUD2Q96AQWu3XYEr6oFBPDHrw8Vof0FxIOQhV7WAQTVGaxS6UX9BGQRWDsgcgkFpjNZTVah+QfLNtslaHntBSkG3o3GyfUFYVhpvl1R7QdSCF5kuV39B2ubGoECLgUHqspg9vyZ8QeG0IIRZJoFBEyyOC9uFfUH0iTyrR0WAQZ4pdOf7hX5BHax/AciWf0GSIrJCWU99QZHVLVVDqH1BbATit2IXfUForlNfS4l5QYnqLZelg35BVn0uMJ1/gEHVCeig25N7QdfdvFxmu31BWAR/k/sNfUET8sEOxx2BQXE4cxoiMn9BkWHVtlRMgEGdgObDlxKBQavnJFqYgntBniRdx1UbfEGRYRWyNft7QWPWi51ec3tBWhKg18wbf0HLhN+lV0V9QbTNjQKte39B6/+cYaunfUH1vjHtIeKAQbfuJqh7nIFBPiLm5snHgUHKTyqm6699QRLacsMWSHxBEF3QZe2GeEFLyAfcy695QQAAgNRIonlBAAAAgz85fEEAAAA55op5QQAAAPhOAX9BAACAdi1lf0EAAEDg/iSAQQAAAKPj9X5BAAAAjMZNgUE=",
          "dtype": "f8"
         },
         "yaxis": "y"
        },
        {
         "hovertemplate": "Fuel Type=Fossil - Natural Gas Pipeline<br>MONTH=%{x}<br>SCADAVALUE=%{y}<extra></extra>",
         "legendgroup": "Fossil - Natural Gas Pipeline",
         "line": {
          "color": "#EF553B",
          "dash": "solid"
         },
         "marker": {
          "symbol": "circle"
         },
         "mode": "lines",
         "name": "Fossil - Natural Gas Pipeline",
         "orientation": "v",
         "showlegend": true,
         "type": "scatter",
         "x": [
          "01-2018",
          "02-2018",
          "03-2018",
          "04-2018",
          "05-2018",
          "06-2018",
          "07-2018",
          "08-2018",
          "09-2018",
          "10-2018",
          "11-2018",
          "12-2018",
          "01-2019",
          "02-2019",
          "03-2019",
          "04-2019",
          "05-2019",
          "06-2019",
          "07-2019",
          "08-2019",
          "09-2019",
          "10-2019",
          "11-2019",
          "12-2019",
          "01-2020",
          "02-2020",
          "03-2020",
          "04-2020",
          "05-2020",
          "06-2020",
          "07-2020",
          "08-2020",
          "09-2020",
          "10-2020",
          "11-2020",
          "12-2020",
          "01-2021",
          "02-2021",
          "03-2021",
          "04-2021",
          "05-2021",
          "06-2021",
          "07-2021",
          "08-2021",
          "09-2021",
          "10-2021",
          "11-2021",
          "12-2021",
          "01-2022",
          "02-2022",
          "03-2022",
          "04-2022",
          "05-2022",
          "06-2022",
          "07-2022",
          "08-2022",
          "09-2022",
          "10-2022",
          "11-2022",
          "12-2022",
          "01-2023",
          "02-2023",
          "03-2023",
          "04-2023",
          "05-2023",
          "06-2023",
          "07-2023",
          "08-2023",
          "09-2023",
          "10-2023",
          "11-2023",
          "12-2023",
          "01-2024",
          "02-2024",
          "03-2024",
          "04-2024",
          "05-2024",
          "06-2024",
          "07-2024",
          "08-2024",
          "09-2024",
          "10-2024",
          "11-2024",
          "12-2024",
          "01-2025",
          "02-2025",
          "03-2025",
          "04-2025",
          "05-2025",
          "06-2025",
          "07-2025"
         ],
         "xaxis": "x",
         "y": {
          "bdata": "JTs2nkkmRUFcPSddz749QSY2H6f6QTpB5/up8RymPEG2Z5aQt9dCQSV1AnrBoEdB5ujx08ybNEE7GRyF6VU9QbjkuMcJ1kNB+N9Klm7fPkH5SbUfooU7Qan26ViDBTlBHF97ejjYUUHDR8TkD1hDQR9oBV4fHUNBf6SITGQWREF4CySQ4YNMQWtgq5Q3tERBDaZh8AkQS0G+9swUHShRQWN/2an9g01BDOVEn7AkSUFvZB5R57g2QQOV8XcwdjdB98ySkL/XOUGpGOcDaMhEQaxzDAiSfzdBBOJ17Qt5J0GFtpzjEMA1QcLdWdO0rzRBXoB9oIGZR0GtTPiVE9g+QU2+2UbEBSdBN2xbbDroMEHY0w5vZAspQQkzbZ8VbxJBvTWwtaoPFkE7/DVZf7r+QENznYYG4wNB6DBf3jJlIEFnLJrGmZsyQVa8kZ2+wUtByk+qRSUMOkEBh1Dl3Fk7QWDNAaIkqR5B9Pi9bZJoEEEjSnvDqCsHQRfUt4wztw5BwAmFCCNZMEFuNIAH+AYvQcU9lq6HGzBB5A8GzpukSUHso1MLCIFIQZJc/mOv6k1B2bER2PKeTkF4eqUYcRVGQVZ9rk726jNB5ssLIIIzJ0ETfqlfNoYTQaabxMDlrBBBh9wMtzJSH0HOcAPuYWQhQQkbnq4B+ClBFW9kLuyALUHQRNgwu1MzQd6wbTGkXyZBs7W+6IiCKkEGDf3TetQnQduizCbkLx9B65Cb4Yd380BBmrEIbfQTQTdxch/KwRVBRN0HoBFl+UCfjsesDsQqQVkXt9HFyxhB9zsU1bwXIEFJgJoaP+BFQU8eFj69RU9BuaXVRG+TS0EKgPG0Ek02QVoqbwdnuAVBhxbZDptlBEGm1ZC4I3gpQf+ye3KlKChBUWuaV8hLHEH6uDbUUqwrQaBP5ClUMx9Bj1N0JH50DkFoy7l8J2UyQcjqVpn9jFFBlxx3ErJ1OkE=",
          "dtype": "f8"
         },
         "yaxis": "y"
        },
        {
         "hovertemplate": "Fuel Type=Hydro - Water<br>MONTH=%{x}<br>SCADAVALUE=%{y}<extra></extra>",
         "legendgroup": "Hydro - Water",
         "line": {
          "color": "#00cc96",
          "dash": "solid"
         },
         "marker": {
          "symbol": "circle"
         },
         "mode": "lines",
         "name": "Hydro - Water",
         "orientation": "v",
         "showlegend": true,
         "type": "scatter",
         "x": [
          "01-2018",
          "02-2018",
          "03-2018",
          "04-2018",
          "05-2018",
          "06-2018",
          "07-2018",
          "08-2018",
          "09-2018",
          "10-2018",
          "11-2018",
          "12-2018",
          "01-2019",
          "02-2019",
          "03-2019",
          "04-2019",
          "05-2019",
          "06-2019",
          "07-2019",
          "08-2019",
          "09-2019",
          "10-2019",
          "11-2019",
          "12-2019",
          "01-2020",
          "02-2020",
          "03-2020",
          "04-2020",
          "05-2020",
          "06-2020",
          "07-2020",
          "08-2020",
          "09-2020",
          "10-2020",
          "11-2020",
          "12-2020",
          "01-2021",
          "02-2021",
          "03-2021",
          "04-2021",
          "05-2021",
          "06-2021",
          "07-2021",
          "08-2021",
          "09-2021",
          "10-2021",
          "11-2021",
          "12-2021",
          "01-2022",
          "02-2022",
          "03-2022",
          "04-2022",
          "05-2022",
          "06-2022",
          "07-2022",
          "08-2022",
          "09-2022",
          "10-2022",
          "11-2022",
          "12-2022",
          "01-2023",
          "02-2023",
          "03-2023",
          "04-2023",
          "05-2023",
          "06-2023",
          "07-2023",
          "08-2023",
          "09-2023",
          "10-2023",
          "11-2023",
          "12-2023",
          "01-2024",
          "02-2024",
          "03-2024",
          "04-2024",
          "05-2024",
          "06-2024",
          "07-2024",
          "08-2024",
          "09-2024",
          "10-2024",
          "11-2024",
          "12-2024",
          "01-2025",
          "02-2025",
          "03-2025",
          "04-2025",
          "05-2025",
          "06-2025",
          "07-2025"
         ],
         "xaxis": "x",
         "y": {
          "bdata": "Vdl3h/b5RkFl48GidVM4QZ/leVhDzz1BnFJeB6v4RkEK20++ZKZPQfJ4WmJr2U9BrWpJfWq6SEENVTGr/z9MQY23lcJcTUNBmuyfSQ1YQUFpcjFsidFAQTIDlfGg9ztBFobIZUOFSUG8saAqmvJAQeY/pE/bZzlBzNHjnxRvPkFxICQTLQE+QdZW7LeFSktBoFT7qJlmRUFo6J/UgstCQYKtEhyIwD9BowbT4NyyL0EYPiKuWlYwQVA25TqxCzZB1v85SI+4QUERNjxVNLs9QQLZ6+1GKzFBOGdEEfuXN0FxAz57fWdRQYLix+hlQE5BVisTtraETkGvmXyTYos/QQ5nfm0OJjZBf7xXaWQrR0H7eVPpWdI6Qdl8XEMe6zBBGhcOSJmoQ0Hx9Ep9vHRDQQA49mbWxUxB6rKYhnDaRkH4a7Ke88VFQZqxaCLiT1BByCk6poCzSUHCpWPu2FNAQRiyuqnlg0FB4gSm57g3PkGr0EBWF/pHQVFoWTsJWj5BFM0DeIezQUFXsI3cK/QzQVABMAZ3SD1Bh4ibq14RO0ECnx8aLM1RQfKaVwxj4VBBWtqpkwKiTkGUbHUcUvtRQfs/h0rTNVFBGy/dnBRBTUFBZfwl7U9JQQINNuUGIj1BzT0k0IdUPEE/GePBbYZAQctmDtH7z0BBexNDtjLxOEGNmq8YgslBQZJdaZGxuUdBW3wKq01kUEF+NnIrZFVJQXuH26+GB0JB/wQXpSTHQUGJeVbOEYU9QW2q7jk3mDxBur2kBc9wPkGHiQZLE89DQVvTvEMj7UJBvW985VfsPUHuIeGZjolFQevJ/L9OtEdBG/Sld0SiTUFpcca66w1DQY25axHO7zpB5SfVvpHpQ0E8g4auqQNJQW9HOOlUXUBBGm7AqxY6QEHp8XtTZChDQSWvzq25SkRBr1qZ0FtZQ0GSs7APdi9LQdcv2FkeZEhBgsr4TwUtOkE=",
          "dtype": "f8"
         },
         "yaxis": "y"
        },
        {
         "hovertemplate": "Fuel Type=Wind - Wind<br>MONTH=%{x}<br>SCADAVALUE=%{y}<extra></extra>",
         "legendgroup": "Wind - Wind",
         "line": {
          "color": "#ab63fa",
          "dash": "solid"
         },
         "marker": {
          "symbol": "circle"
         },
         "mode": "lines",
         "name": "Wind - Wind",
         "orientation": "v",
         "showlegend": true,
         "type": "scatter",
         "x": [
          "01-2018",
          "02-2018",
          "03-2018",
          "04-2018",
          "05-2018",
          "06-2018",
          "07-2018",
          "08-2018",
          "09-2018",
          "10-2018",
          "11-2018",
          "12-2018",
          "01-2019",
          "02-2019",
          "03-2019",
          "04-2019",
          "05-2019",
          "06-2019",
          "07-2019",
          "08-2019",
          "09-2019",
          "10-2019",
          "11-2019",
          "12-2019",
          "01-2020",
          "02-2020",
          "03-2020",
          "04-2020",
          "05-2020",
          "06-2020",
          "07-2020",
          "08-2020",
          "09-2020",
          "10-2020",
          "11-2020",
          "12-2020",
          "01-2021",
          "02-2021",
          "03-2021",
          "04-2021",
          "05-2021",
          "06-2021",
          "07-2021",
          "08-2021",
          "09-2021",
          "10-2021",
          "11-2021",
          "12-2021",
          "01-2022",
          "02-2022",
          "03-2022",
          "04-2022",
          "05-2022",
          "06-2022",
          "07-2022",
          "08-2022",
          "09-2022",
          "10-2022",
          "11-2022",
          "12-2022",
          "01-2023",
          "02-2023",
          "03-2023",
          "04-2023",
          "05-2023",
          "06-2023",
          "07-2023",
          "08-2023",
          "09-2023",
          "10-2023",
          "11-2023",
          "12-2023",
          "01-2024",
          "02-2024",
          "03-2024",
          "04-2024",
          "05-2024",
          "06-2024",
          "07-2024",
          "08-2024",
          "09-2024",
          "10-2024",
          "11-2024",
          "12-2024",
          "01-2025",
          "02-2025",
          "03-2025",
          "04-2025",
          "05-2025",
          "06-2025",
          "07-2025"
         ],
         "xaxis": "x",
         "y": {
          "bdata": "EY5ZaP3/R0F/pl4jFDVKQWKBr75T1k1BG6GfdbQIQ0FuNevYLxRRQZijxy0iREpBwXKEh9N1V0EjMNYItdtUQTrq6Cf4alBBR1UTwFxxT0Fwsg3AHJ1LQVJhbPW020lBBTQRrmO+SEFIh4ckTnhMQZnYfKwot0xByAp+cRM1TEHerwImm1pTQUjA6DgBFVJBniPyZuL1V0F41QNVa81XQS46WdzDm1JB28Ne7CcWUkH/BYLkF31UQQYTf35H71NBh4cwxsMRU0H93Tvu/xVOQRL5LmuSzVVBe9gL8HNXU0H0Uxx4MWZYQcYZw4ra2lFBR68GBIduU0GXi/jcE/5dQVqcMWoKWF1BZJP8l06rW0EbKzHR22FZQYrpQjQ2alxBwt1ZZsGIXUHPLAkMyQ5XQdHJUlN0jlZB2nHDD6OQVkEyqgzGY75eQVtfJKHf3V1By0v+5Zk5ZEEV4hGCuxNjQRFx82c9R2FB1nPSNZ81XUFFgxRxSPxeQUG62MWQxWBB7WOFikw1YUFeoQ/VJbZdQRXj/MIxWF1BfLjkijorW0EcI9lkYMtcQReg7aXLGmhBtmrXPCIaZEHyQ6XnMTpoQVuZ8L0YwWNBGH0Fcua2YUH1hZD+DW1hQYnrmNt29GFBHNDSo8dgYEHyBwPx3FNhQaOxdhHtI2FBfCb7991IX0HWkaOrdn9kQan7AOULTW5BiSimDVLWa0F646QhbDRlQYQpymPFdmNBXvFU14lbZkEoJ1ppITRhQWnDYUw3/2RBowMSBaPgYUFqhtSxqCpgQcEffvdEG2FB7IUCliN3XEF72XbeWT9dQfBM6PXgymBB3Cvz8R1wZ0HPoCHRMUNrQZrvYJEmKGtBdO/h7e8eZkEK98raJ7NgQSrgHjtFHWNBhGSBdCdjZEFma32c9ehmQf660+xhrmRBAmTogP9UYkH7IEuzQPlkQboRFhfBwWpBFw0ZccH/cEE=",
          "dtype": "f8"
         },
         "yaxis": "y"
        },
        {
         "hovertemplate": "Fuel Type=Solar - Solar<br>MONTH=%{x}<br>SCADAVALUE=%{y}<extra></extra>",
         "legendgroup": "Solar - Solar",
         "line": {
          "color": "#FFA15A",
          "dash": "solid"
         },
         "marker": {
          "symbol": "circle"
         },
         "mode": "lines",
         "name": "Solar - Solar",
         "orientation": "v",
         "showlegend": true,
         "type": "scatter",
         "x": [
          "03-2018",
          "04-2018",
          "05-2018",
          "06-2018",
          "07-2018",
          "08-2018",
          "09-2018",
          "10-2018",
          "11-2018",
          "12-2018",
          "01-2019",
          "02-2019",
          "03-2019",
          "04-2019",
          "05-2019",
          "06-2019",
          "07-2019",
          "08-2019",
          "09-2019",
          "10-2019",
          "11-2019",
          "12-2019",
          "01-2020",
          "02-2020",
          "03-2020",
          "04-2020",
          "05-2020",
          "06-2020",
          "07-2020",
          "08-2020",
          "09-2020",
          "10-2020",
          "11-2020",
          "12-2020",
          "01-2021",
          "02-2021",
          "03-2021",
          "04-2021",
          "05-2021",
          "06-2021",
          "07-2021",
          "08-2021",
          "09-2021",
          "10-2021",
          "11-2021",
          "12-2021",
          "01-2022",
          "02-2022",
          "03-2022",
          "04-2022",
          "05-2022",
          "06-2022",
          "07-2022",
          "08-2022",
          "09-2022",
          "10-2022",
          "11-2022",
          "12-2022",
          "01-2023",
          "02-2023",
          "03-2023",
          "04-2023",
          "05-2023",
          "06-2023",
          "07-2023",
          "08-2023",
          "09-2023",
          "10-2023",
          "11-2023",
          "12-2023",
          "01-2024",
          "02-2024",
          "03-2024",
          "04-2024",
          "05-2024",
          "06-2024",
          "07-2024",
          "08-2024",
          "09-2024",
          "10-2024",
          "11-2024",
          "12-2024",
          "01-2025",
          "02-2025",
          "03-2025",
          "04-2025",
          "05-2025",
          "06-2025",
          "07-2025"
         ],
         "xaxis": "x",
         "y": {
          "bdata": "AAAAAAAAAADNzMzMDH7FQJqZmZkJAelAsTOFzlQr6EBiEFg5nE3vQETdB6C1hfVA001iEFBF/0DfT42Xi/MPQS1DHGvLZRZBtMh2/pdkIkEZc9cySxMmQT0K1+NibCNB/KnxkmRCIkFGtvP9O64bQbpJDAJcthRBbef7KbjAGkEfv7cZEjAgQWIQWDmXNSVBUI2Xbut8JUHd0mooKEQnQaAaL52w6ylBwcqhRV1OK0Fv05+9RhkpQXlYqMVuPidB+RQAE7kZJEFA3qsWx1YeQcXm4/oVpiNBw0fEFHm6HkHlszwvIlgiQan7AFR89SBBd9Zuy3JyKUFyFvbEwtcsQY/k8reXvzJBi1QYE8u2N0G4dTevgz86QfAzLmweVDlBelORCjWsN0HVlc861r01QS7nUqzBgjBBPQ/uznBWJkEK16OAP/0kQYgRwtvtMjFBj1N0lE/KOEFrSNwrn6c+QSe9b+yOKTpBcVrwSkSsQEG0ccTGlTRAQctneV6mhz9BT135ZK0EOUHaci5Fc9MxQfBQFAgHVDFB4IRCtIAeJ0EJG57WUJMyQdIA3lqH3TJBgLdAkgX7NUGlMVrnPTg0QVOu8C5LozlB32xzD4JSQEEYPiLyGbdBQZ6122YX7j9BttYXsegxOkFOucJ7NtE4QdAPI1R3XjFBt7QaIqABKEHsNNIqIj4wQfFjzG2dqDNB7+GS834/NEGGcqJN+hw2QcGLvlKlnD1BmUf+SG+FO0ELXvSJ/vhAQQCMZ5yoj0FBjbRUsla3QEEm5IP2Fls3QQ+cM9LD9TRBvrwAA/kTMUHTpBSUSoAwQb1vfOWJxjJBcTjzyypmNUHXaaTNjOs/QTbIJPt13T5BpkQS9RVmQ0GOO6VXrFxFQfJeteagEUdBTI47LfhCRUGiXYV0Mfg+QVyPwmUjmTtBaNDQVyRYM0HTwfrHmY81QQ==",
          "dtype": "f8"
         },
         "yaxis": "y"
        }
       ],
       "layout": {
        "legend": {
         "title": {
          "text": "Fuel Type"
         },
         "tracegroupgap": 0
        },
        "template": {
         "data": {
          "bar": [
           {
            "error_x": {
             "color": "#2a3f5f"
            },
            "error_y": {
             "color": "#2a3f5f"
            },
            "marker": {
             "line": {
              "color": "#E5ECF6",
              "width": 0.5
             },
             "pattern": {
              "fillmode": "overlay",
              "size": 10,
              "solidity": 0.2
             }
            },
            "type": "bar"
           }
          ],
          "barpolar": [
           {
            "marker": {
             "line": {
              "color": "#E5ECF6",
              "width": 0.5
             },
             "pattern": {
              "fillmode": "overlay",
              "size": 10,
              "solidity": 0.2
             }
            },
            "type": "barpolar"
           }
          ],
          "carpet": [
           {
            "aaxis": {
             "endlinecolor": "#2a3f5f",
             "gridcolor": "white",
             "linecolor": "white",
             "minorgridcolor": "white",
             "startlinecolor": "#2a3f5f"
            },
            "baxis": {
             "endlinecolor": "#2a3f5f",
             "gridcolor": "white",
             "linecolor": "white",
             "minorgridcolor": "white",
             "startlinecolor": "#2a3f5f"
            },
            "type": "carpet"
           }
          ],
          "choropleth": [
           {
            "colorbar": {
             "outlinewidth": 0,
             "ticks": ""
            },
            "type": "choropleth"
           }
          ],
          "contour": [
           {
            "colorbar": {
             "outlinewidth": 0,
             "ticks": ""
            },
            "colorscale": [
             [
              0,
              "#0d0887"
             ],
             [
              0.1111111111111111,
              "#46039f"
             ],
             [
              0.2222222222222222,
              "#7201a8"
             ],
             [
              0.3333333333333333,
              "#9c179e"
             ],
             [
              0.4444444444444444,
              "#bd3786"
             ],
             [
              0.5555555555555556,
              "#d8576b"
             ],
             [
              0.6666666666666666,
              "#ed7953"
             ],
             [
              0.7777777777777778,
              "#fb9f3a"
             ],
             [
              0.8888888888888888,
              "#fdca26"
             ],
             [
              1,
              "#f0f921"
             ]
            ],
            "type": "contour"
           }
          ],
          "contourcarpet": [
           {
            "colorbar": {
             "outlinewidth": 0,
             "ticks": ""
            },
            "type": "contourcarpet"
           }
          ],
          "heatmap": [
           {
            "colorbar": {
             "outlinewidth": 0,
             "ticks": ""
            },
            "colorscale": [
             [
              0,
              "#0d0887"
             ],
             [
              0.1111111111111111,
              "#46039f"
             ],
             [
              0.2222222222222222,
              "#7201a8"
             ],
             [
              0.3333333333333333,
              "#9c179e"
             ],
             [
              0.4444444444444444,
              "#bd3786"
             ],
             [
              0.5555555555555556,
              "#d8576b"
             ],
             [
              0.6666666666666666,
              "#ed7953"
             ],
             [
              0.7777777777777778,
              "#fb9f3a"
             ],
             [
              0.8888888888888888,
              "#fdca26"
             ],
             [
              1,
              "#f0f921"
             ]
            ],
            "type": "heatmap"
           }
          ],
          "histogram": [
           {
            "marker": {
             "pattern": {
              "fillmode": "overlay",
              "size": 10,
              "solidity": 0.2
             }
            },
            "type": "histogram"
           }
          ],
          "histogram2d": [
           {
            "colorbar": {
             "outlinewidth": 0,
             "ticks": ""
            },
            "colorscale": [
             [
              0,
              "#0d0887"
             ],
             [
              0.1111111111111111,
              "#46039f"
             ],
             [
              0.2222222222222222,
              "#7201a8"
             ],
             [
              0.3333333333333333,
              "#9c179e"
             ],
             [
              0.4444444444444444,
              "#bd3786"
             ],
             [
              0.5555555555555556,
              "#d8576b"
             ],
             [
              0.6666666666666666,
              "#ed7953"
             ],
             [
              0.7777777777777778,
              "#fb9f3a"
             ],
             [
              0.8888888888888888,
              "#fdca26"
             ],
             [
              1,
              "#f0f921"
             ]
            ],
            "type": "histogram2d"
           }
          ],
          "histogram2dcontour": [
           {
            "colorbar": {
             "outlinewidth": 0,
             "ticks": ""
            },
            "colorscale": [
             [
              0,
              "#0d0887"
             ],
             [
              0.1111111111111111,
              "#46039f"
             ],
             [
              0.2222222222222222,
              "#7201a8"
             ],
             [
              0.3333333333333333,
              "#9c179e"
             ],
             [
              0.4444444444444444,
              "#bd3786"
             ],
             [
              0.5555555555555556,
              "#d8576b"
             ],
             [
              0.6666666666666666,
              "#ed7953"
             ],
             [
              0.7777777777777778,
              "#fb9f3a"
             ],
             [
              0.8888888888888888,
              "#fdca26"
             ],
             [
              1,
              "#f0f921"
             ]
            ],
            "type": "histogram2dcontour"
           }
          ],
          "mesh3d": [
           {
            "colorbar": {
             "outlinewidth": 0,
             "ticks": ""
            },
            "type": "mesh3d"
           }
          ],
          "parcoords": [
           {
            "line": {
             "colorbar": {
              "outlinewidth": 0,
              "ticks": ""
             }
            },
            "type": "parcoords"
           }
          ],
          "pie": [
           {
            "automargin": true,
            "type": "pie"
           }
          ],
          "scatter": [
           {
            "fillpattern": {
             "fillmode": "overlay",
             "size": 10,
             "solidity": 0.2
            },
            "type": "scatter"
           }
          ],
          "scatter3d": [
           {
            "line": {
             "colorbar": {
              "outlinewidth": 0,
              "ticks": ""
             }
            },
            "marker": {
             "colorbar": {
              "outlinewidth": 0,
              "ticks": ""
             }
            },
            "type": "scatter3d"
           }
          ],
          "scattercarpet": [
           {
            "marker": {
             "colorbar": {
              "outlinewidth": 0,
              "ticks": ""
             }
            },
            "type": "scattercarpet"
           }
          ],
          "scattergeo": [
           {
            "marker": {
             "colorbar": {
              "outlinewidth": 0,
              "ticks": ""
             }
            },
            "type": "scattergeo"
           }
          ],
          "scattergl": [
           {
            "marker": {
             "colorbar": {
              "outlinewidth": 0,
              "ticks": ""
             }
            },
            "type": "scattergl"
           }
          ],
          "scattermap": [
           {
            "marker": {
             "colorbar": {
              "outlinewidth": 0,
              "ticks": ""
             }
            },
            "type": "scattermap"
           }
          ],
          "scattermapbox": [
           {
            "marker": {
             "colorbar": {
              "outlinewidth": 0,
              "ticks": ""
             }
            },
            "type": "scattermapbox"
           }
          ],
          "scatterpolar": [
           {
            "marker": {
             "colorbar": {
              "outlinewidth": 0,
              "ticks": ""
             }
            },
            "type": "scatterpolar"
           }
          ],
          "scatterpolargl": [
           {
            "marker": {
             "colorbar": {
              "outlinewidth": 0,
              "ticks": ""
             }
            },
            "type": "scatterpolargl"
           }
          ],
          "scatterternary": [
           {
            "marker": {
             "colorbar": {
              "outlinewidth": 0,
              "ticks": ""
             }
            },
            "type": "scatterternary"
           }
          ],
          "surface": [
           {
            "colorbar": {
             "outlinewidth": 0,
             "ticks": ""
            },
            "colorscale": [
             [
              0,
              "#0d0887"
             ],
             [
              0.1111111111111111,
              "#46039f"
             ],
             [
              0.2222222222222222,
              "#7201a8"
             ],
             [
              0.3333333333333333,
              "#9c179e"
             ],
             [
              0.4444444444444444,
              "#bd3786"
             ],
             [
              0.5555555555555556,
              "#d8576b"
             ],
             [
              0.6666666666666666,
              "#ed7953"
             ],
             [
              0.7777777777777778,
              "#fb9f3a"
             ],
             [
              0.8888888888888888,
              "#fdca26"
             ],
             [
              1,
              "#f0f921"
             ]
            ],
            "type": "surface"
           }
          ],
          "table": [
           {
            "cells": {
             "fill": {
              "color": "#EBF0F8"
             },
             "line": {
              "color": "white"
             }
            },
            "header": {
             "fill": {
              "color": "#C8D4E3"
             },
             "line": {
              "color": "white"
             }
            },
            "type": "table"
           }
          ]
         },
         "layout": {
          "annotationdefaults": {
           "arrowcolor": "#2a3f5f",
           "arrowhead": 0,
           "arrowwidth": 1
          },
          "autotypenumbers": "strict",
          "coloraxis": {
           "colorbar": {
            "outlinewidth": 0,
            "ticks": ""
           }
          },
          "colorscale": {
           "diverging": [
            [
             0,
             "#8e0152"
            ],
            [
             0.1,
             "#c51b7d"
            ],
            [
             0.2,
             "#de77ae"
            ],
            [
             0.3,
             "#f1b6da"
            ],
            [
             0.4,
             "#fde0ef"
            ],
            [
             0.5,
             "#f7f7f7"
            ],
            [
             0.6,
             "#e6f5d0"
            ],
            [
             0.7,
             "#b8e186"
            ],
            [
             0.8,
             "#7fbc41"
            ],
            [
             0.9,
             "#4d9221"
            ],
            [
             1,
             "#276419"
            ]
           ],
           "sequential": [
            [
             0,
             "#0d0887"
            ],
            [
             0.1111111111111111,
             "#46039f"
            ],
            [
             0.2222222222222222,
             "#7201a8"
            ],
            [
             0.3333333333333333,
             "#9c179e"
            ],
            [
             0.4444444444444444,
             "#bd3786"
            ],
            [
             0.5555555555555556,
             "#d8576b"
            ],
            [
             0.6666666666666666,
             "#ed7953"
            ],
            [
             0.7777777777777778,
             "#fb9f3a"
            ],
            [
             0.8888888888888888,
             "#fdca26"
            ],
            [
             1,
             "#f0f921"
            ]
           ],
           "sequentialminus": [
            [
             0,
             "#0d0887"
            ],
            [
             0.1111111111111111,
             "#46039f"
            ],
            [
             0.2222222222222222,
             "#7201a8"
            ],
            [
             0.3333333333333333,
             "#9c179e"
            ],
            [
             0.4444444444444444,
             "#bd3786"
            ],
            [
             0.5555555555555556,
             "#d8576b"
            ],
            [
             0.6666666666666666,
             "#ed7953"
            ],
            [
             0.7777777777777778,
             "#fb9f3a"
            ],
            [
             0.8888888888888888,
             "#fdca26"
            ],
            [
             1,
             "#f0f921"
            ]
           ]
          },
          "colorway": [
           "#636efa",
           "#EF553B",
           "#00cc96",
           "#ab63fa",
           "#FFA15A",
           "#19d3f3",
           "#FF6692",
           "#B6E880",
           "#FF97FF",
           "#FECB52"
          ],
          "font": {
           "color": "#2a3f5f"
          },
          "geo": {
           "bgcolor": "white",
           "lakecolor": "white",
           "landcolor": "#E5ECF6",
           "showlakes": true,
           "showland": true,
           "subunitcolor": "white"
          },
          "hoverlabel": {
           "align": "left"
          },
          "hovermode": "closest",
          "mapbox": {
           "style": "light"
          },
          "paper_bgcolor": "white",
          "plot_bgcolor": "#E5ECF6",
          "polar": {
           "angularaxis": {
            "gridcolor": "white",
            "linecolor": "white",
            "ticks": ""
           },
           "bgcolor": "#E5ECF6",
           "radialaxis": {
            "gridcolor": "white",
            "linecolor": "white",
            "ticks": ""
           }
          },
          "scene": {
           "xaxis": {
            "backgroundcolor": "#E5ECF6",
            "gridcolor": "white",
            "gridwidth": 2,
            "linecolor": "white",
            "showbackground": true,
            "ticks": "",
            "zerolinecolor": "white"
           },
           "yaxis": {
            "backgroundcolor": "#E5ECF6",
            "gridcolor": "white",
            "gridwidth": 2,
            "linecolor": "white",
            "showbackground": true,
            "ticks": "",
            "zerolinecolor": "white"
           },
           "zaxis": {
            "backgroundcolor": "#E5ECF6",
            "gridcolor": "white",
            "gridwidth": 2,
            "linecolor": "white",
            "showbackground": true,
            "ticks": "",
            "zerolinecolor": "white"
           }
          },
          "shapedefaults": {
           "line": {
            "color": "#2a3f5f"
           }
          },
          "ternary": {
           "aaxis": {
            "gridcolor": "white",
            "linecolor": "white",
            "ticks": ""
           },
           "baxis": {
            "gridcolor": "white",
            "linecolor": "white",
            "ticks": ""
           },
           "bgcolor": "#E5ECF6",
           "caxis": {
            "gridcolor": "white",
            "linecolor": "white",
            "ticks": ""
           }
          },
          "title": {
           "x": 0.05
          },
          "xaxis": {
           "automargin": true,
           "gridcolor": "white",
           "linecolor": "white",
           "ticks": "",
           "title": {
            "standoff": 15
           },
           "zerolinecolor": "white",
           "zerolinewidth": 2
          },
          "yaxis": {
           "automargin": true,
           "gridcolor": "white",
           "linecolor": "white",
           "ticks": "",
           "title": {
            "standoff": 15
           },
           "zerolinecolor": "white",
           "zerolinewidth": 2
          }
         }
        },
        "title": {
         "text": "Victoria Fuel Generation by Type (Jan 2018 - July 2025)"
        },
        "xaxis": {
         "anchor": "y",
         "domain": [
          0,
          1
         ],
         "title": {
          "text": "MONTH"
         }
        },
        "yaxis": {
         "anchor": "x",
         "domain": [
          0,
          1
         ],
         "title": {
          "text": "SCADAVALUE"
         }
        }
       }
      }
     },
     "metadata": {},
     "output_type": "display_data"
    }
   ],
   "source": [
    "px.line(vic_fuel_generation_agg, x = 'MONTH', y = 'SCADAVALUE', color = 'Fuel Type', title = 'Victoria Fuel Generation by Type (Jan 2018 - July 2025)')"
   ]
  },
  {
   "cell_type": "code",
   "execution_count": null,
   "id": "de165c79",
   "metadata": {},
   "outputs": [
    {
     "data": {
      "application/vnd.plotly.v1+json": {
       "config": {
        "plotlyServerURL": "https://plot.ly"
       },
       "data": [
        {
         "hovertemplate": "Fuel Type=Fossil - Diesel<br>MONTH=%{x}<br>SCADAVALUE=%{y}<extra></extra>",
         "legendgroup": "Fossil - Diesel",
         "line": {
          "color": "#636efa",
          "dash": "solid"
         },
         "marker": {
          "symbol": "circle"
         },
         "mode": "lines",
         "name": "Fossil - Diesel",
         "orientation": "v",
         "showlegend": true,
         "type": "scatter",
         "x": [
          "01-2018",
          "02-2018",
          "03-2018",
          "04-2018",
          "05-2018",
          "06-2018",
          "07-2018",
          "08-2018",
          "09-2018",
          "10-2018",
          "11-2018",
          "12-2018",
          "01-2019",
          "02-2019",
          "03-2019",
          "04-2019",
          "05-2019",
          "06-2019",
          "07-2019",
          "08-2019",
          "09-2019",
          "10-2019",
          "11-2019",
          "12-2019",
          "01-2020",
          "02-2020",
          "03-2020",
          "04-2020",
          "05-2020",
          "06-2020",
          "07-2020",
          "08-2020",
          "09-2020",
          "10-2020",
          "11-2020",
          "12-2020",
          "01-2021",
          "02-2021",
          "03-2021",
          "04-2021",
          "05-2021",
          "06-2021",
          "07-2021",
          "08-2021",
          "09-2021",
          "10-2021",
          "11-2021",
          "12-2021",
          "01-2022",
          "02-2022",
          "03-2022",
          "04-2022",
          "05-2022",
          "06-2022",
          "07-2022",
          "08-2022",
          "09-2022",
          "10-2022",
          "11-2022",
          "12-2022",
          "01-2023",
          "02-2023",
          "03-2023",
          "04-2023",
          "05-2023",
          "06-2023",
          "07-2023",
          "08-2023",
          "09-2023",
          "10-2023",
          "11-2023",
          "12-2023",
          "01-2024",
          "02-2024",
          "03-2024",
          "04-2024",
          "05-2024",
          "06-2024",
          "07-2024",
          "08-2024",
          "09-2024",
          "10-2024",
          "11-2024",
          "12-2024",
          "01-2025",
          "02-2025",
          "03-2025",
          "04-2025",
          "05-2025",
          "06-2025",
          "07-2025"
         ],
         "xaxis": "x",
         "y": {
          "bdata": "Gw3gLWik50DzcW2ovorQQFBTy9a6D5JAk1fnGCggxUAoSddMrn2qQKK0N/jmL8BAZtr+lSIp4EB56SYxaPyRQEOtad5xEZJAPrMkQJlLx0Ab2CrB0lzAQNXPm4o4k8ZAahg+Iuxy3EDDZKpgrInCQIsyG2SKNMZAmus00hLLlkDqeMxAVT2iQCAMPPde0JBAW18ktIUzkkBxAz4/TBeRQHC2uTEdJJZAIlSp2ZO9rUCMvoI0/9zCQETdByAFH8pAm3KFdwVjxUDir8kal6/hQAAd5stLy41ATb7Z5ga4g0CO0TqqmgtgwDKP/MGQ1apAvET11sBOccDdvg6cM25lQB0Dstc7tYxASs0eaKV6l0CuZMdGsAavQHdn7baLmnNAEce6uI09xEC0dtuFFkqrQEGC4sd0BcdAjSjtDYaCukCOjUC8ruR2QAWLw5lvFqhAj8L1KK5E0kCulQm/1EZjwKGEmbY/BJdAY2Lzce2kecCv6xfsRgmKQBGN7iA6FMVAYI4ev2/zukA9jbRU3gpFwKjjMQPl4KZA0NVW7J/UpUBX7C+7v1sAQWlXIWVAvxBBT+lg/fBn/ECl2qfjZ3XRQGFUUiekRNpAv2A3bNN2skCyEYjXxwbXQDKthsQ9djnA/g5FgVke4EAbL90kIFnSQGRTrvAuTVxAeF2/YJ8xy0Dfpj/7TVHPQAncuptNC99AwaikTsBxq0Df4AuTIQrWQBAGnnuvQKRA2evdH69qkUAXnwJgDKSuQLvQXKfRpLtAMLsnD4tqlEA4+MJkQs6yQP28qUgNKbNAo8wGmeQLhkBkkpGzoNitQP4mFCLT3utAwlHy6uxZ0kCJ6q2BkWjLQGZmZmbmgbtAuB6F61E2kUCOdXEbTXSAQJkSSfRCV6VA/kgRGfbYokCWJqWgK3zGQEt2bAQCUJxAWtO84/Q4nkAlI2dhbxCmQMlZ2NOWV7BAIuAQqvAK3UA=",
          "dtype": "f8"
         },
         "yaxis": "y"
        },
        {
         "hovertemplate": "Fuel Type=Fossil - Natural Gas Pipeline<br>MONTH=%{x}<br>SCADAVALUE=%{y}<extra></extra>",
         "legendgroup": "Fossil - Natural Gas Pipeline",
         "line": {
          "color": "#EF553B",
          "dash": "solid"
         },
         "marker": {
          "symbol": "circle"
         },
         "mode": "lines",
         "name": "Fossil - Natural Gas Pipeline",
         "orientation": "v",
         "showlegend": true,
         "type": "scatter",
         "x": [
          "01-2018",
          "02-2018",
          "03-2018",
          "04-2018",
          "05-2018",
          "06-2018",
          "07-2018",
          "08-2018",
          "09-2018",
          "10-2018",
          "11-2018",
          "12-2018",
          "01-2019",
          "02-2019",
          "03-2019",
          "04-2019",
          "05-2019",
          "06-2019",
          "07-2019",
          "08-2019",
          "09-2019",
          "10-2019",
          "11-2019",
          "12-2019",
          "01-2020",
          "02-2020",
          "03-2020",
          "04-2020",
          "05-2020",
          "06-2020",
          "07-2020",
          "08-2020",
          "09-2020",
          "10-2020",
          "11-2020",
          "12-2020",
          "01-2021",
          "02-2021",
          "03-2021",
          "04-2021",
          "05-2021",
          "06-2021",
          "07-2021",
          "08-2021",
          "09-2021",
          "10-2021",
          "11-2021",
          "12-2021",
          "01-2022",
          "02-2022",
          "03-2022",
          "04-2022",
          "05-2022",
          "06-2022",
          "07-2022",
          "08-2022",
          "09-2022",
          "10-2022",
          "11-2022",
          "12-2022",
          "01-2023",
          "02-2023",
          "03-2023",
          "04-2023",
          "05-2023",
          "06-2023",
          "07-2023",
          "08-2023",
          "09-2023",
          "10-2023",
          "11-2023",
          "12-2023",
          "01-2024",
          "02-2024",
          "03-2024",
          "04-2024",
          "05-2024",
          "06-2024",
          "07-2024",
          "08-2024",
          "09-2024",
          "10-2024",
          "11-2024",
          "12-2024",
          "01-2025",
          "02-2025",
          "03-2025",
          "04-2025",
          "05-2025",
          "06-2025",
          "07-2025"
         ],
         "xaxis": "x",
         "y": {
          "bdata": "TgteIuXAW0HKMsQPN9hYQasJonKqgVZBijxJAujXVEGjI7kqu+1QQfWhC1y4O1ZB0GG+TiQoV0GU9gbpfUBXQdI6qjjCFldBNQwfU7vdVUF88rAs7zhUQWLWi98bU1RBk+NOWRj6X0FwzogY3zxYQcHFijxnQ1tBJ9pVAC+fVUG/YDfgwzNYQXEDPmv3pVtBgbIpYXlxWUFpAG/JJNdaQY4B2c1jBFpBr84xHASgWEF9Ik/kepVSQSyaziALn1VBk6mCRfQLU0G5GW4gocZVQY3uINLsv1JBhGQBb3xFUkFgkzU+3wtXQWVTrjRRrlhBS3ZsPhYnYUFqh79wqJ1ZQdk9eR5eBlFBFK5HMX2+UkHb3JgWdOpRQbacS2FUM0tB5WGh9qkeS0HFPZY2tiVIQS+obzFb30tBNBE2CKbRUUHcSxqrl9xUQZ2FPbEDalhBcT0KTVGlVkHCacHpSH5WQYWZttHcs1BBW86lcCzhSEFljXoEPwBGQcO7XLyLWURBKCfayY0aSkGoGOdbobJFQe49XPadlEhB/+xHmoaHSkHlm20wHR9RQVvTvKsKWVdBxty1oLlrWkGILqjrNTtQQXoZxdpqxEpBvAUSSDqxRkESMSXO5bdFQbU3+EKwhD1BescpRsdmQ0FagSEjLq9CQYB9dEqkzkhBDcNH+MarSkH4/DBGjXhUQcmrcyDkrEtBEeSgcArcS0G1VN7g+lNRQXnpJoVPR0NBg/qWMQMgO0GU9gabNy5BQQTKpqRd9z9BHm0ckRxgP0FKJNHjdgVCQfNxbeSyzUdBaFw4GCw7TEEouFgLZt1TQTDw3JdtNVhBZhTL9yjtVEErGJXkw8VOQU8eFrK/KjxB8GjjQGpbOEEibHjy93xFQbubp8amj0JBGQRWdimNQUFjC0GCALNCQSI3w9E7l0NBnWNAbgfFRkE5nPkJpb5NQbhYUbF45VRBZkmATOOvUUE=",
          "dtype": "f8"
         },
         "yaxis": "y"
        },
        {
         "hovertemplate": "Fuel Type=Wind - Wind<br>MONTH=%{x}<br>SCADAVALUE=%{y}<extra></extra>",
         "legendgroup": "Wind - Wind",
         "line": {
          "color": "#00cc96",
          "dash": "solid"
         },
         "marker": {
          "symbol": "circle"
         },
         "mode": "lines",
         "name": "Wind - Wind",
         "orientation": "v",
         "showlegend": true,
         "type": "scatter",
         "x": [
          "01-2018",
          "02-2018",
          "03-2018",
          "04-2018",
          "05-2018",
          "06-2018",
          "07-2018",
          "08-2018",
          "09-2018",
          "10-2018",
          "11-2018",
          "12-2018",
          "01-2019",
          "02-2019",
          "03-2019",
          "04-2019",
          "05-2019",
          "06-2019",
          "07-2019",
          "08-2019",
          "09-2019",
          "10-2019",
          "11-2019",
          "12-2019",
          "01-2020",
          "02-2020",
          "03-2020",
          "04-2020",
          "05-2020",
          "06-2020",
          "07-2020",
          "08-2020",
          "09-2020",
          "10-2020",
          "11-2020",
          "12-2020",
          "01-2021",
          "02-2021",
          "03-2021",
          "04-2021",
          "05-2021",
          "06-2021",
          "07-2021",
          "08-2021",
          "09-2021",
          "10-2021",
          "11-2021",
          "12-2021",
          "01-2022",
          "02-2022",
          "03-2022",
          "04-2022",
          "05-2022",
          "06-2022",
          "07-2022",
          "08-2022",
          "09-2022",
          "10-2022",
          "11-2022",
          "12-2022",
          "01-2023",
          "02-2023",
          "03-2023",
          "04-2023",
          "05-2023",
          "06-2023",
          "07-2023",
          "08-2023",
          "09-2023",
          "10-2023",
          "11-2023",
          "12-2023",
          "01-2024",
          "02-2024",
          "03-2024",
          "04-2024",
          "05-2024",
          "06-2024",
          "07-2024",
          "08-2024",
          "09-2024",
          "10-2024",
          "11-2024",
          "12-2024",
          "01-2025",
          "02-2025",
          "03-2025",
          "04-2025",
          "05-2025",
          "06-2025",
          "07-2025"
         ],
         "xaxis": "x",
         "y": {
          "bdata": "wtuDkmlFVUFoJELhTx9SQfd3ts3ad1VBM4gPbw1CUUFPrFMahulVQa1rtFooDFNBn+i6WnN3XEGuSiI3R41eQcTpJB7qmlNBBDi9P4/kVUE7xaozjk9SQRmNfGXOn1ZBdZKtMwXjU0HAXfYWvLNSQRjS4ctB51FBUYiAVfLHU0Ez/n3dRbJWQeUn1RWKn1VBg6W6xot3WUEjTFEHgr9ZQWIwf7u/XlVBvqPGdBbZVkGdEDp14HRWQce7I65rq1VBuoWu3eLmVkEBMnRMwV5OQa95VU1oHlZBHxSUcp2DU0H/kelJCXlXQa3B+9jGoVZBbJbLIYUTUUEGR8lSbP9aQZylZLXYdFtBMlcGoIihVkEM5xoKJu9XQSiCOBHHxFdBxa2CQEQ+VkFKRPjTkCpUQXheKthU/1JBkuf6OhCDTEGn6EhzjtdUQbkWLTwIUlhBLxfxkUJuXUG2v7Md7kJWQZrqyYjMaFdBM/rRIFZ7VkEqjZjwcZpVQY5Yi9nQKVZB+1qXxczMV0EX1LeYRB9XQflJtfn6m1ZBhPBocT3vVEEkKH46Y/FWQaG5TslZ4FlBogvquQifWkHkLOyDvt9fQa1M+OOWcFpB0ETYUoJaWEG6FFcV5xRXQQRz9MxDQltB7+apts7JWkFYObSglAxXQfKwUNu8e1RBfCdmcViUVUGg/UhFFLpTQVvTvM2znGBBTRB1/RBRXEFWSPmBZdFUQZs90ERFQlVBtyizeYuHW0HNI3+0UbRVQfxvJa+rIlhB1eyBVr4lWEHUghdltktWQQ3gLTRn2VdBrBxaRjheUkHo2awE3rdSQWPuWtqicVZBTTJyymF+X0GDhv69Bj1gQWowDXuIRV1BTI47s6OLWEE8FAUcBvVVQRCv688zYVdBdHtJdz9PWEFIisjAL1FXQSBe1yFAflpBBTQR+MCRUUFcVfZnAf1YQYV3ufoo5F1Bw7tcA5ILYUE=",
          "dtype": "f8"
         },
         "yaxis": "y"
        },
        {
         "hovertemplate": "Fuel Type=Solar - Solar<br>MONTH=%{x}<br>SCADAVALUE=%{y}<extra></extra>",
         "legendgroup": "Solar - Solar",
         "line": {
          "color": "#ab63fa",
          "dash": "solid"
         },
         "marker": {
          "symbol": "circle"
         },
         "mode": "lines",
         "name": "Solar - Solar",
         "orientation": "v",
         "showlegend": true,
         "type": "scatter",
         "x": [
          "05-2018",
          "06-2018",
          "07-2018",
          "08-2018",
          "09-2018",
          "10-2018",
          "11-2018",
          "12-2018",
          "01-2019",
          "02-2019",
          "03-2019",
          "04-2019",
          "05-2019",
          "06-2019",
          "07-2019",
          "08-2019",
          "09-2019",
          "10-2019",
          "11-2019",
          "12-2019",
          "01-2020",
          "02-2020",
          "03-2020",
          "04-2020",
          "05-2020",
          "06-2020",
          "07-2020",
          "08-2020",
          "09-2020",
          "10-2020",
          "11-2020",
          "12-2020",
          "01-2021",
          "02-2021",
          "03-2021",
          "04-2021",
          "05-2021",
          "06-2021",
          "07-2021",
          "08-2021",
          "09-2021",
          "10-2021",
          "11-2021",
          "12-2021",
          "01-2022",
          "02-2022",
          "03-2022",
          "04-2022",
          "05-2022",
          "06-2022",
          "07-2022",
          "08-2022",
          "09-2022",
          "10-2022",
          "11-2022",
          "12-2022",
          "01-2023",
          "02-2023",
          "03-2023",
          "04-2023",
          "05-2023",
          "06-2023",
          "07-2023",
          "08-2023",
          "09-2023",
          "10-2023",
          "11-2023",
          "12-2023",
          "01-2024",
          "02-2024",
          "03-2024",
          "04-2024",
          "05-2024",
          "06-2024",
          "07-2024",
          "08-2024",
          "09-2024",
          "10-2024",
          "11-2024",
          "12-2024",
          "01-2025",
          "02-2025",
          "03-2025",
          "04-2025",
          "05-2025",
          "06-2025",
          "07-2025"
         ],
         "xaxis": "x",
         "y": {
          "bdata": "w/UoXF8i10DhehSuR9vVQHE9CtfTYelAJQaBlWW0+0ACK4eWKyMQQcai6WyGBA5BO1PoHFGYE0E730+NAu0YQQu1phlrTxhB8tJN4sIwFkF3vp+auUwZQd9PjRfgahhBbxKDQLHTE0GamZmZ1QwUQSYeUDY8fxRBtqFi3FprGEHcY+mjJcQdQcP1KFwfwiBBhxbZTvs7HEG6oL6F7aslQZZDi6zFjSVBhetRuFt3IEGwcmjR/yEhQUhQ/FiWoRZBNV66yQcNFEETm4+L4zQVQbDJGpXpjBxBdF5jl37LHkFcj8L1WKYiQc3MzEyOtiVBbef7aWlnK0EmcOtus8MoQbX9K7vqkS1BecxAFXayJ0Ej2/k+0nclQQMJih85UyZBahMnV7mjHkF0tRX7Y50XQbByaNGrwRhBIxCva38FIUE3GsAr5IIiQXaJ6n0m5yNBEtpyvmp+JUEh6j44owYwQWd+NefTuCxBejarfvtLK0E9YYkX+tUrQSTRy2iQ3iNBPdUhV9bvIEG0ccSay0QbQRLCo02dxyBBmUf+MI2fIUGjHqKxRmolQVIst6SoLSRByy2tZq18KUHUt8y5VfEvQZYJv/QpWDFBfcucdvSAMUE8pYPVCU4uQYqO5JLENClBTDeJUXcpJUGvCP53G5odQT7t8DdyViNB2bER2C6WJ0FsskYtwPEpQQDGMyjpxSpB/ACkdss3LUFa9bkK+8ArQViQZsSq7DJBwvo/R5MHM0F6pSwbObgzQWjon/DmVTBBr1qZsF/YLEED7KMD968iQdIdxH5FrSZBRyBe5ws9KUEMk6myz0wrQQwHQiL7+iZBJnDrromZLUFgsBsGuxExQeaWVls8MzFB43DmN/vHLkFL6gQ0cfgvQba+SHhowy1Bb/CFibCvK0Gob5mjrzokQX2zze2/UyVB",
          "dtype": "f8"
         },
         "yaxis": "y"
        },
        {
         "hovertemplate": "Fuel Type=Fossil - Natural Gas<br>MONTH=%{x}<br>SCADAVALUE=%{y}<extra></extra>",
         "legendgroup": "Fossil - Natural Gas",
         "line": {
          "color": "#FFA15A",
          "dash": "solid"
         },
         "marker": {
          "symbol": "circle"
         },
         "mode": "lines",
         "name": "Fossil - Natural Gas",
         "orientation": "v",
         "showlegend": true,
         "type": "scatter",
         "x": [
          "12-2021",
          "01-2022",
          "02-2022",
          "03-2022",
          "04-2022",
          "05-2022",
          "06-2022",
          "07-2022",
          "08-2022",
          "09-2022",
          "10-2022",
          "11-2022",
          "12-2022",
          "01-2023",
          "02-2023",
          "03-2023",
          "04-2023",
          "05-2023",
          "06-2023",
          "07-2023",
          "08-2023",
          "09-2023",
          "10-2023",
          "11-2023",
          "12-2023",
          "01-2024",
          "02-2024",
          "03-2024",
          "04-2024",
          "05-2024",
          "06-2024",
          "07-2024",
          "08-2024",
          "09-2024",
          "10-2024",
          "11-2024",
          "12-2024",
          "01-2025",
          "02-2025",
          "03-2025",
          "04-2025",
          "05-2025",
          "06-2025",
          "07-2025"
         ],
         "xaxis": "x",
         "y": {
          "bdata": "AAAAAAAAAACkcD0K16PAPylcj8L1+IhAzEV8J3z00EDsNNJSj13SQDdsW5SH6PVA6DBfXhY9+UANVMY/vaT9QGrecYoCE9NA2VpfJNxEtEB/TdaoRz2AQAAAAAAAAAAAQkP/BNcbm0DU1LK1HlO3QFw4EJJ5O9ZApHA9Ctc7dkAxmSoYBY+vQGh5HtwSO+RAE2HD09OZ2EDaG3xhxt/KQL4Ts17WB+xA26fjMTO7p0CcUIiA6zDDQH0/NV5Ggs5AwFsgQeEJr0CzzY3pEWXJQPgZFw6+cNpAZ2FPO1pv0kCZEkn09gbiQA5KmGldZ/5AyY6NwGCy/0DD2EKQQdz/QIJzRpRZ+PNAOZfiqgct5EDOiNLeOuvRQHrHKTrq9chAGFsIclSfzUC71XPSY8XKQJiG4SM8w+FAuJIdG1Vv00AMsI9O4DTiQAgDz73lYNNAxJRIIqDo+UCFd7mIsoX3QA==",
          "dtype": "f8"
         },
         "yaxis": "y"
        }
       ],
       "layout": {
        "legend": {
         "title": {
          "text": "Fuel Type"
         },
         "tracegroupgap": 0
        },
        "template": {
         "data": {
          "bar": [
           {
            "error_x": {
             "color": "#2a3f5f"
            },
            "error_y": {
             "color": "#2a3f5f"
            },
            "marker": {
             "line": {
              "color": "#E5ECF6",
              "width": 0.5
             },
             "pattern": {
              "fillmode": "overlay",
              "size": 10,
              "solidity": 0.2
             }
            },
            "type": "bar"
           }
          ],
          "barpolar": [
           {
            "marker": {
             "line": {
              "color": "#E5ECF6",
              "width": 0.5
             },
             "pattern": {
              "fillmode": "overlay",
              "size": 10,
              "solidity": 0.2
             }
            },
            "type": "barpolar"
           }
          ],
          "carpet": [
           {
            "aaxis": {
             "endlinecolor": "#2a3f5f",
             "gridcolor": "white",
             "linecolor": "white",
             "minorgridcolor": "white",
             "startlinecolor": "#2a3f5f"
            },
            "baxis": {
             "endlinecolor": "#2a3f5f",
             "gridcolor": "white",
             "linecolor": "white",
             "minorgridcolor": "white",
             "startlinecolor": "#2a3f5f"
            },
            "type": "carpet"
           }
          ],
          "choropleth": [
           {
            "colorbar": {
             "outlinewidth": 0,
             "ticks": ""
            },
            "type": "choropleth"
           }
          ],
          "contour": [
           {
            "colorbar": {
             "outlinewidth": 0,
             "ticks": ""
            },
            "colorscale": [
             [
              0,
              "#0d0887"
             ],
             [
              0.1111111111111111,
              "#46039f"
             ],
             [
              0.2222222222222222,
              "#7201a8"
             ],
             [
              0.3333333333333333,
              "#9c179e"
             ],
             [
              0.4444444444444444,
              "#bd3786"
             ],
             [
              0.5555555555555556,
              "#d8576b"
             ],
             [
              0.6666666666666666,
              "#ed7953"
             ],
             [
              0.7777777777777778,
              "#fb9f3a"
             ],
             [
              0.8888888888888888,
              "#fdca26"
             ],
             [
              1,
              "#f0f921"
             ]
            ],
            "type": "contour"
           }
          ],
          "contourcarpet": [
           {
            "colorbar": {
             "outlinewidth": 0,
             "ticks": ""
            },
            "type": "contourcarpet"
           }
          ],
          "heatmap": [
           {
            "colorbar": {
             "outlinewidth": 0,
             "ticks": ""
            },
            "colorscale": [
             [
              0,
              "#0d0887"
             ],
             [
              0.1111111111111111,
              "#46039f"
             ],
             [
              0.2222222222222222,
              "#7201a8"
             ],
             [
              0.3333333333333333,
              "#9c179e"
             ],
             [
              0.4444444444444444,
              "#bd3786"
             ],
             [
              0.5555555555555556,
              "#d8576b"
             ],
             [
              0.6666666666666666,
              "#ed7953"
             ],
             [
              0.7777777777777778,
              "#fb9f3a"
             ],
             [
              0.8888888888888888,
              "#fdca26"
             ],
             [
              1,
              "#f0f921"
             ]
            ],
            "type": "heatmap"
           }
          ],
          "histogram": [
           {
            "marker": {
             "pattern": {
              "fillmode": "overlay",
              "size": 10,
              "solidity": 0.2
             }
            },
            "type": "histogram"
           }
          ],
          "histogram2d": [
           {
            "colorbar": {
             "outlinewidth": 0,
             "ticks": ""
            },
            "colorscale": [
             [
              0,
              "#0d0887"
             ],
             [
              0.1111111111111111,
              "#46039f"
             ],
             [
              0.2222222222222222,
              "#7201a8"
             ],
             [
              0.3333333333333333,
              "#9c179e"
             ],
             [
              0.4444444444444444,
              "#bd3786"
             ],
             [
              0.5555555555555556,
              "#d8576b"
             ],
             [
              0.6666666666666666,
              "#ed7953"
             ],
             [
              0.7777777777777778,
              "#fb9f3a"
             ],
             [
              0.8888888888888888,
              "#fdca26"
             ],
             [
              1,
              "#f0f921"
             ]
            ],
            "type": "histogram2d"
           }
          ],
          "histogram2dcontour": [
           {
            "colorbar": {
             "outlinewidth": 0,
             "ticks": ""
            },
            "colorscale": [
             [
              0,
              "#0d0887"
             ],
             [
              0.1111111111111111,
              "#46039f"
             ],
             [
              0.2222222222222222,
              "#7201a8"
             ],
             [
              0.3333333333333333,
              "#9c179e"
             ],
             [
              0.4444444444444444,
              "#bd3786"
             ],
             [
              0.5555555555555556,
              "#d8576b"
             ],
             [
              0.6666666666666666,
              "#ed7953"
             ],
             [
              0.7777777777777778,
              "#fb9f3a"
             ],
             [
              0.8888888888888888,
              "#fdca26"
             ],
             [
              1,
              "#f0f921"
             ]
            ],
            "type": "histogram2dcontour"
           }
          ],
          "mesh3d": [
           {
            "colorbar": {
             "outlinewidth": 0,
             "ticks": ""
            },
            "type": "mesh3d"
           }
          ],
          "parcoords": [
           {
            "line": {
             "colorbar": {
              "outlinewidth": 0,
              "ticks": ""
             }
            },
            "type": "parcoords"
           }
          ],
          "pie": [
           {
            "automargin": true,
            "type": "pie"
           }
          ],
          "scatter": [
           {
            "fillpattern": {
             "fillmode": "overlay",
             "size": 10,
             "solidity": 0.2
            },
            "type": "scatter"
           }
          ],
          "scatter3d": [
           {
            "line": {
             "colorbar": {
              "outlinewidth": 0,
              "ticks": ""
             }
            },
            "marker": {
             "colorbar": {
              "outlinewidth": 0,
              "ticks": ""
             }
            },
            "type": "scatter3d"
           }
          ],
          "scattercarpet": [
           {
            "marker": {
             "colorbar": {
              "outlinewidth": 0,
              "ticks": ""
             }
            },
            "type": "scattercarpet"
           }
          ],
          "scattergeo": [
           {
            "marker": {
             "colorbar": {
              "outlinewidth": 0,
              "ticks": ""
             }
            },
            "type": "scattergeo"
           }
          ],
          "scattergl": [
           {
            "marker": {
             "colorbar": {
              "outlinewidth": 0,
              "ticks": ""
             }
            },
            "type": "scattergl"
           }
          ],
          "scattermap": [
           {
            "marker": {
             "colorbar": {
              "outlinewidth": 0,
              "ticks": ""
             }
            },
            "type": "scattermap"
           }
          ],
          "scattermapbox": [
           {
            "marker": {
             "colorbar": {
              "outlinewidth": 0,
              "ticks": ""
             }
            },
            "type": "scattermapbox"
           }
          ],
          "scatterpolar": [
           {
            "marker": {
             "colorbar": {
              "outlinewidth": 0,
              "ticks": ""
             }
            },
            "type": "scatterpolar"
           }
          ],
          "scatterpolargl": [
           {
            "marker": {
             "colorbar": {
              "outlinewidth": 0,
              "ticks": ""
             }
            },
            "type": "scatterpolargl"
           }
          ],
          "scatterternary": [
           {
            "marker": {
             "colorbar": {
              "outlinewidth": 0,
              "ticks": ""
             }
            },
            "type": "scatterternary"
           }
          ],
          "surface": [
           {
            "colorbar": {
             "outlinewidth": 0,
             "ticks": ""
            },
            "colorscale": [
             [
              0,
              "#0d0887"
             ],
             [
              0.1111111111111111,
              "#46039f"
             ],
             [
              0.2222222222222222,
              "#7201a8"
             ],
             [
              0.3333333333333333,
              "#9c179e"
             ],
             [
              0.4444444444444444,
              "#bd3786"
             ],
             [
              0.5555555555555556,
              "#d8576b"
             ],
             [
              0.6666666666666666,
              "#ed7953"
             ],
             [
              0.7777777777777778,
              "#fb9f3a"
             ],
             [
              0.8888888888888888,
              "#fdca26"
             ],
             [
              1,
              "#f0f921"
             ]
            ],
            "type": "surface"
           }
          ],
          "table": [
           {
            "cells": {
             "fill": {
              "color": "#EBF0F8"
             },
             "line": {
              "color": "white"
             }
            },
            "header": {
             "fill": {
              "color": "#C8D4E3"
             },
             "line": {
              "color": "white"
             }
            },
            "type": "table"
           }
          ]
         },
         "layout": {
          "annotationdefaults": {
           "arrowcolor": "#2a3f5f",
           "arrowhead": 0,
           "arrowwidth": 1
          },
          "autotypenumbers": "strict",
          "coloraxis": {
           "colorbar": {
            "outlinewidth": 0,
            "ticks": ""
           }
          },
          "colorscale": {
           "diverging": [
            [
             0,
             "#8e0152"
            ],
            [
             0.1,
             "#c51b7d"
            ],
            [
             0.2,
             "#de77ae"
            ],
            [
             0.3,
             "#f1b6da"
            ],
            [
             0.4,
             "#fde0ef"
            ],
            [
             0.5,
             "#f7f7f7"
            ],
            [
             0.6,
             "#e6f5d0"
            ],
            [
             0.7,
             "#b8e186"
            ],
            [
             0.8,
             "#7fbc41"
            ],
            [
             0.9,
             "#4d9221"
            ],
            [
             1,
             "#276419"
            ]
           ],
           "sequential": [
            [
             0,
             "#0d0887"
            ],
            [
             0.1111111111111111,
             "#46039f"
            ],
            [
             0.2222222222222222,
             "#7201a8"
            ],
            [
             0.3333333333333333,
             "#9c179e"
            ],
            [
             0.4444444444444444,
             "#bd3786"
            ],
            [
             0.5555555555555556,
             "#d8576b"
            ],
            [
             0.6666666666666666,
             "#ed7953"
            ],
            [
             0.7777777777777778,
             "#fb9f3a"
            ],
            [
             0.8888888888888888,
             "#fdca26"
            ],
            [
             1,
             "#f0f921"
            ]
           ],
           "sequentialminus": [
            [
             0,
             "#0d0887"
            ],
            [
             0.1111111111111111,
             "#46039f"
            ],
            [
             0.2222222222222222,
             "#7201a8"
            ],
            [
             0.3333333333333333,
             "#9c179e"
            ],
            [
             0.4444444444444444,
             "#bd3786"
            ],
            [
             0.5555555555555556,
             "#d8576b"
            ],
            [
             0.6666666666666666,
             "#ed7953"
            ],
            [
             0.7777777777777778,
             "#fb9f3a"
            ],
            [
             0.8888888888888888,
             "#fdca26"
            ],
            [
             1,
             "#f0f921"
            ]
           ]
          },
          "colorway": [
           "#636efa",
           "#EF553B",
           "#00cc96",
           "#ab63fa",
           "#FFA15A",
           "#19d3f3",
           "#FF6692",
           "#B6E880",
           "#FF97FF",
           "#FECB52"
          ],
          "font": {
           "color": "#2a3f5f"
          },
          "geo": {
           "bgcolor": "white",
           "lakecolor": "white",
           "landcolor": "#E5ECF6",
           "showlakes": true,
           "showland": true,
           "subunitcolor": "white"
          },
          "hoverlabel": {
           "align": "left"
          },
          "hovermode": "closest",
          "mapbox": {
           "style": "light"
          },
          "paper_bgcolor": "white",
          "plot_bgcolor": "#E5ECF6",
          "polar": {
           "angularaxis": {
            "gridcolor": "white",
            "linecolor": "white",
            "ticks": ""
           },
           "bgcolor": "#E5ECF6",
           "radialaxis": {
            "gridcolor": "white",
            "linecolor": "white",
            "ticks": ""
           }
          },
          "scene": {
           "xaxis": {
            "backgroundcolor": "#E5ECF6",
            "gridcolor": "white",
            "gridwidth": 2,
            "linecolor": "white",
            "showbackground": true,
            "ticks": "",
            "zerolinecolor": "white"
           },
           "yaxis": {
            "backgroundcolor": "#E5ECF6",
            "gridcolor": "white",
            "gridwidth": 2,
            "linecolor": "white",
            "showbackground": true,
            "ticks": "",
            "zerolinecolor": "white"
           },
           "zaxis": {
            "backgroundcolor": "#E5ECF6",
            "gridcolor": "white",
            "gridwidth": 2,
            "linecolor": "white",
            "showbackground": true,
            "ticks": "",
            "zerolinecolor": "white"
           }
          },
          "shapedefaults": {
           "line": {
            "color": "#2a3f5f"
           }
          },
          "ternary": {
           "aaxis": {
            "gridcolor": "white",
            "linecolor": "white",
            "ticks": ""
           },
           "baxis": {
            "gridcolor": "white",
            "linecolor": "white",
            "ticks": ""
           },
           "bgcolor": "#E5ECF6",
           "caxis": {
            "gridcolor": "white",
            "linecolor": "white",
            "ticks": ""
           }
          },
          "title": {
           "x": 0.05
          },
          "xaxis": {
           "automargin": true,
           "gridcolor": "white",
           "linecolor": "white",
           "ticks": "",
           "title": {
            "standoff": 15
           },
           "zerolinecolor": "white",
           "zerolinewidth": 2
          },
          "yaxis": {
           "automargin": true,
           "gridcolor": "white",
           "linecolor": "white",
           "ticks": "",
           "title": {
            "standoff": 15
           },
           "zerolinecolor": "white",
           "zerolinewidth": 2
          }
         }
        },
        "title": {
         "text": "South Australia Fuel Generation by Type (Jan 2018 - July 2025)"
        },
        "xaxis": {
         "anchor": "y",
         "domain": [
          0,
          1
         ],
         "title": {
          "text": "MONTH"
         }
        },
        "yaxis": {
         "anchor": "x",
         "domain": [
          0,
          1
         ],
         "title": {
          "text": "SCADAVALUE"
         }
        }
       }
      }
     },
     "metadata": {},
     "output_type": "display_data"
    }
   ],
   "source": [
    "px.line(sa_fuel_generation_agg, x = 'MONTH', y = 'SCADAVALUE', color = 'Fuel Type', title = 'South Australia Fuel Generation by Type (Jan 2018 - July 2025)')"
   ]
  },
  {
   "cell_type": "code",
   "execution_count": null,
   "id": "fbd1f6f3",
   "metadata": {},
   "outputs": [],
   "source": [
    "nsw_fuel_generation_agg.to_excel('data/nsw_fuel_generation_agg.xlsx')"
   ]
  },
  {
   "cell_type": "markdown",
   "id": "d6f0998c",
   "metadata": {},
   "source": [
    "Now we know the total amounts for each fuel, time to combine them into Renewable/Non Renewable"
   ]
  },
  {
   "cell_type": "code",
   "execution_count": null,
   "id": "5d5d0664",
   "metadata": {},
   "outputs": [],
   "source": [
    "nsw_renewables_df, nsw_non_renewables_df = generate_renewable_datasets(nsw_fuel_generation_agg)\n",
    "qld_renewables_df, qld_non_renewables_df = generate_renewable_datasets(qld_fuel_generation_agg)\n",
    "vic_renewables_df, vic_non_renewables_df = generate_renewable_datasets(vic_fuel_generation_agg)\n",
    "sa_renewables_df, sa_non_renewables_df = generate_renewable_datasets(sa_fuel_generation_agg)\n",
    "tas_renewables_df, tas_non_renewables_df = generate_renewable_datasets(tas_fuel_generation_agg)"
   ]
  },
  {
   "cell_type": "code",
   "execution_count": null,
   "id": "373a7475",
   "metadata": {},
   "outputs": [
    {
     "data": {
      "text/plain": [
       "array(['Hydro - Water', 'Solar - Solar', 'Wind - Wind',\n",
       "       'Renewable Biomass or Waste - Bagasse',\n",
       "       'Renewable Biomass or Waste - Biomass'], dtype=object)"
      ]
     },
     "execution_count": 60,
     "metadata": {},
     "output_type": "execute_result"
    }
   ],
   "source": [
    "nsw_renewables_df['Fuel Type'].unique()"
   ]
  },
  {
   "cell_type": "markdown",
   "id": "bb417ff6",
   "metadata": {},
   "source": [
    "Things to look at with report:\n",
    "- Extracting patterns and behaviours of generation \n",
    "- Looking at documents and reports for certain policies and behaviours in renewables\n",
    "- Trying to understand Negative supply values found"
   ]
  },
  {
   "cell_type": "markdown",
   "id": "b7250ef5",
   "metadata": {},
   "source": [
    "## Extracting the State Level Generation Patterns"
   ]
  },
  {
   "cell_type": "code",
   "execution_count": null,
   "id": "cc85dc1a",
   "metadata": {},
   "outputs": [],
   "source": [
    "def format_state_data_sources(renewables, non_renewables):\n",
    "    renewables['MONTH'] = pd.to_datetime(renewables['MONTH'], format='%m-%Y')\n",
    "    non_renewables['MONTH'] = pd.to_datetime(non_renewables['MONTH'], format='%m-%Y')\n",
    "\n",
    "    renewables = renewables.groupby('MONTH')['SCADAVALUE'].sum().reset_index()\n",
    "    non_renewables = non_renewables.groupby('MONTH')['SCADAVALUE'].sum().reset_index()\n",
    "\n",
    "    return renewables, non_renewables\n",
    "\n",
    "qld_renewables_df, qld_non_renewables_df = format_state_data_sources(qld_renewables_df, qld_non_renewables_df)\n",
    "nsw_renewables_df, nsw_non_renewables_df = format_state_data_sources(nsw_renewables_df, nsw_non_renewables_df)\n",
    "vic_renewables_df, vic_non_renewables_df = format_state_data_sources(vic_renewables_df, vic_non_renewables_df)\n",
    "sa_renewables_df, sa_non_renewables_df = format_state_data_sources(sa_renewables_df, sa_non_renewables_df)\n",
    "tas_renewables_df, tas_non_renewables_df = format_state_data_sources(tas_renewables_df, tas_non_renewables_df)"
   ]
  },
  {
   "cell_type": "code",
   "execution_count": null,
   "id": "86073314",
   "metadata": {},
   "outputs": [
    {
     "data": {
      "application/vnd.plotly.v1+json": {
       "config": {
        "plotlyServerURL": "https://plot.ly"
       },
       "data": [
        {
         "mode": "lines+markers",
         "name": "NSW Renewables",
         "type": "scatter",
         "x": [
          "2018-01-01T00:00:00.000000000",
          "2018-02-01T00:00:00.000000000",
          "2018-03-01T00:00:00.000000000",
          "2018-04-01T00:00:00.000000000",
          "2018-05-01T00:00:00.000000000",
          "2018-06-01T00:00:00.000000000",
          "2018-07-01T00:00:00.000000000",
          "2018-08-01T00:00:00.000000000",
          "2018-09-01T00:00:00.000000000",
          "2018-10-01T00:00:00.000000000",
          "2018-11-01T00:00:00.000000000",
          "2018-12-01T00:00:00.000000000",
          "2019-01-01T00:00:00.000000000",
          "2019-02-01T00:00:00.000000000",
          "2019-03-01T00:00:00.000000000",
          "2019-04-01T00:00:00.000000000",
          "2019-05-01T00:00:00.000000000",
          "2019-06-01T00:00:00.000000000",
          "2019-07-01T00:00:00.000000000",
          "2019-08-01T00:00:00.000000000",
          "2019-09-01T00:00:00.000000000",
          "2019-10-01T00:00:00.000000000",
          "2019-11-01T00:00:00.000000000",
          "2019-12-01T00:00:00.000000000",
          "2020-01-01T00:00:00.000000000",
          "2020-02-01T00:00:00.000000000",
          "2020-03-01T00:00:00.000000000",
          "2020-04-01T00:00:00.000000000",
          "2020-05-01T00:00:00.000000000",
          "2020-06-01T00:00:00.000000000",
          "2020-07-01T00:00:00.000000000",
          "2020-08-01T00:00:00.000000000",
          "2020-09-01T00:00:00.000000000",
          "2020-10-01T00:00:00.000000000",
          "2020-11-01T00:00:00.000000000",
          "2020-12-01T00:00:00.000000000",
          "2021-01-01T00:00:00.000000000",
          "2021-02-01T00:00:00.000000000",
          "2021-03-01T00:00:00.000000000",
          "2021-04-01T00:00:00.000000000",
          "2021-05-01T00:00:00.000000000",
          "2021-06-01T00:00:00.000000000",
          "2021-07-01T00:00:00.000000000",
          "2021-08-01T00:00:00.000000000",
          "2021-09-01T00:00:00.000000000",
          "2021-10-01T00:00:00.000000000",
          "2021-11-01T00:00:00.000000000",
          "2021-12-01T00:00:00.000000000",
          "2022-01-01T00:00:00.000000000",
          "2022-02-01T00:00:00.000000000",
          "2022-03-01T00:00:00.000000000",
          "2022-04-01T00:00:00.000000000",
          "2022-05-01T00:00:00.000000000",
          "2022-06-01T00:00:00.000000000",
          "2022-07-01T00:00:00.000000000",
          "2022-08-01T00:00:00.000000000",
          "2022-09-01T00:00:00.000000000",
          "2022-10-01T00:00:00.000000000",
          "2022-11-01T00:00:00.000000000",
          "2022-12-01T00:00:00.000000000",
          "2023-01-01T00:00:00.000000000",
          "2023-02-01T00:00:00.000000000",
          "2023-03-01T00:00:00.000000000",
          "2023-04-01T00:00:00.000000000",
          "2023-05-01T00:00:00.000000000",
          "2023-06-01T00:00:00.000000000",
          "2023-07-01T00:00:00.000000000",
          "2023-08-01T00:00:00.000000000",
          "2023-09-01T00:00:00.000000000",
          "2023-10-01T00:00:00.000000000",
          "2023-11-01T00:00:00.000000000",
          "2023-12-01T00:00:00.000000000",
          "2024-01-01T00:00:00.000000000",
          "2024-02-01T00:00:00.000000000",
          "2024-03-01T00:00:00.000000000",
          "2024-04-01T00:00:00.000000000",
          "2024-05-01T00:00:00.000000000",
          "2024-06-01T00:00:00.000000000",
          "2024-07-01T00:00:00.000000000",
          "2024-08-01T00:00:00.000000000",
          "2024-09-01T00:00:00.000000000",
          "2024-10-01T00:00:00.000000000",
          "2024-11-01T00:00:00.000000000",
          "2024-12-01T00:00:00.000000000",
          "2025-01-01T00:00:00.000000000",
          "2025-02-01T00:00:00.000000000",
          "2025-03-01T00:00:00.000000000",
          "2025-04-01T00:00:00.000000000",
          "2025-05-01T00:00:00.000000000",
          "2025-06-01T00:00:00.000000000",
          "2025-07-01T00:00:00.000000000"
         ],
         "y": {
          "bdata": "GjbKXJQRVUEzNJ5uJ1dVQYjaNh141VlBV19dLjrbV0GBlUOMN4xWQYUHzeFhpWBB4qjcE1AVXkHrcHQMalNhQUj5SYvxxFZB8+MvyQazVUEQPpRyVShYQZFDxFK4NFpBIO9VYnIxWEG6Z11PJqZXQaxXkfbBk1dBqvQTT5ieVkHWV1c780heQRAnMLEYEV1B+BdBhsFsX0FW7gW1m8hgQQVPIfRpPGBBLjcYzrs+YEFkOB4YLcdgQfw4mvs5HWBBwCQVkC1RYUEs0sTDDXdhQcKD5pqWdWBB/FjB9yivW0G3m+D7Du1YQSKI88Wt21pBPPn0Xp+sXEHmefAiwHNkQSIyLMxUMGJB1908i3VoYEEyP7dOo2ZjQQK6r4yxjWdBSPwK+NfnZUGHiYYPn9xjQYOGfpMRiWVBPBHEI0rbYUHOFhBSwrxkQe1/APkL32RB5UQ72kNBZUE+6FlwFE1kQWZs6H8SYGVB5QvazRkPaEEAp3cQQY1kQVAdq2bvCWtBZqNzJD6nbEHv5FMJTMBrQa+yNjwVNmpBUFCK3TvRZkHKU1aT8MxsQQ+3QwcC+mtBjezKhJ3xbUEErFUhRSNqQcmuNGFzPGhBcJo+MuzAaUH+0iLssLBtQeKSo3mOD3BBfEELfXpFcEGJYYdTofBrQXvaYYfoBG1B5L/A41C8Z0FPWjjElsNqQepCLL7Oa2tBEAh0vYmFa0Ec8Hl4kWdsQcqoMvo0Om1B6UfD1wt7b0HOqWS6j61wQcZrXv+CsHFB1LoNaMDIcUFaLTDAtJFwQdxlv/xgFG9B+vRYgRGuaUGe7OZd2h1qQWpKMriD6GZBa/IULlYAcEF319nfL11uQX45M4q6429Bv9Mkhs1ocEFKPGC0nAdzQaGcqL/yA3NBmS0Z3rw6dEFoPXxCizBxQRr8PeDAXnJBUgo6yQecbUFNaX2Sf35wQVn7u4VlC25BePS/odNicUE=",
          "dtype": "f8"
         }
        },
        {
         "mode": "lines+markers",
         "name": "QLD Renewables",
         "type": "scatter",
         "x": [
          "2018-01-01T00:00:00.000000000",
          "2018-02-01T00:00:00.000000000",
          "2018-03-01T00:00:00.000000000",
          "2018-04-01T00:00:00.000000000",
          "2018-05-01T00:00:00.000000000",
          "2018-06-01T00:00:00.000000000",
          "2018-07-01T00:00:00.000000000",
          "2018-08-01T00:00:00.000000000",
          "2018-09-01T00:00:00.000000000",
          "2018-10-01T00:00:00.000000000",
          "2018-11-01T00:00:00.000000000",
          "2018-12-01T00:00:00.000000000",
          "2019-01-01T00:00:00.000000000",
          "2019-02-01T00:00:00.000000000",
          "2019-03-01T00:00:00.000000000",
          "2019-04-01T00:00:00.000000000",
          "2019-05-01T00:00:00.000000000",
          "2019-06-01T00:00:00.000000000",
          "2019-07-01T00:00:00.000000000",
          "2019-08-01T00:00:00.000000000",
          "2019-09-01T00:00:00.000000000",
          "2019-10-01T00:00:00.000000000",
          "2019-11-01T00:00:00.000000000",
          "2019-12-01T00:00:00.000000000",
          "2020-01-01T00:00:00.000000000",
          "2020-02-01T00:00:00.000000000",
          "2020-03-01T00:00:00.000000000",
          "2020-04-01T00:00:00.000000000",
          "2020-05-01T00:00:00.000000000",
          "2020-06-01T00:00:00.000000000",
          "2020-07-01T00:00:00.000000000",
          "2020-08-01T00:00:00.000000000",
          "2020-09-01T00:00:00.000000000",
          "2020-10-01T00:00:00.000000000",
          "2020-11-01T00:00:00.000000000",
          "2020-12-01T00:00:00.000000000",
          "2021-01-01T00:00:00.000000000",
          "2021-02-01T00:00:00.000000000",
          "2021-03-01T00:00:00.000000000",
          "2021-04-01T00:00:00.000000000",
          "2021-05-01T00:00:00.000000000",
          "2021-06-01T00:00:00.000000000",
          "2021-07-01T00:00:00.000000000",
          "2021-08-01T00:00:00.000000000",
          "2021-09-01T00:00:00.000000000",
          "2021-10-01T00:00:00.000000000",
          "2021-11-01T00:00:00.000000000",
          "2021-12-01T00:00:00.000000000",
          "2022-01-01T00:00:00.000000000",
          "2022-02-01T00:00:00.000000000",
          "2022-03-01T00:00:00.000000000",
          "2022-04-01T00:00:00.000000000",
          "2022-05-01T00:00:00.000000000",
          "2022-06-01T00:00:00.000000000",
          "2022-07-01T00:00:00.000000000",
          "2022-08-01T00:00:00.000000000",
          "2022-09-01T00:00:00.000000000",
          "2022-10-01T00:00:00.000000000",
          "2022-11-01T00:00:00.000000000",
          "2022-12-01T00:00:00.000000000",
          "2023-01-01T00:00:00.000000000",
          "2023-02-01T00:00:00.000000000",
          "2023-03-01T00:00:00.000000000",
          "2023-04-01T00:00:00.000000000",
          "2023-05-01T00:00:00.000000000",
          "2023-06-01T00:00:00.000000000",
          "2023-07-01T00:00:00.000000000",
          "2023-08-01T00:00:00.000000000",
          "2023-09-01T00:00:00.000000000",
          "2023-10-01T00:00:00.000000000",
          "2023-11-01T00:00:00.000000000",
          "2023-12-01T00:00:00.000000000",
          "2024-01-01T00:00:00.000000000",
          "2024-02-01T00:00:00.000000000",
          "2024-03-01T00:00:00.000000000",
          "2024-04-01T00:00:00.000000000",
          "2024-05-01T00:00:00.000000000",
          "2024-06-01T00:00:00.000000000",
          "2024-07-01T00:00:00.000000000",
          "2024-08-01T00:00:00.000000000",
          "2024-09-01T00:00:00.000000000",
          "2024-10-01T00:00:00.000000000",
          "2024-11-01T00:00:00.000000000",
          "2024-12-01T00:00:00.000000000",
          "2025-01-01T00:00:00.000000000",
          "2025-02-01T00:00:00.000000000",
          "2025-03-01T00:00:00.000000000",
          "2025-04-01T00:00:00.000000000",
          "2025-05-01T00:00:00.000000000",
          "2025-06-01T00:00:00.000000000",
          "2025-07-01T00:00:00.000000000"
         ],
         "y": {
          "bdata": "u4CXyd8eIEG5qYFmlxQvQYOkT9+bmDNB9ByR3+h+NEGQ+uuRLiMyQRJosIWPfjRBcRx4MV3eN0Hd0f96PX09QTqRYLK5Pz5B3C4001ENO0HDSgXnDlVFQT9VhdAvCkhBdjdP1VyES0E/dEEzCZlIQSqpE3AaKUxB2nOZWfZ0UEEmVkYTwdhNQfAYHquU/EtBnHEaGtuZTkG86Cuyp8ZQQebkRXVSUVFBE3to1Z6cUUHcoswr9plTQapGryv4A1RB1L1OJDOtT0GMnIVryyZPQX6nyWbVklNBaJWZRhStUkHEdYzqQ21TQUIglyse8FFBWtdoFB8FU0HFknJnVR1UQQCN0kj4/lVBvk1/6LxjVUGoVfQQ4exYQf5oOFzRbVVBT5ZaLi5WWEHZB1mxayBUQWL2spVQJldBQznR0UPZVEGuZwjGQs5WQbbY7Ttjz1RBrPvHHDCsWEEHCVGlRtVWQUwvMbqgTVZBEJGaLlzRV0Fyv0P6MTZXQQOwAQuPwFlBOwDi/2z6W0GYiLeYPfNaQa6a53pLQ1pBqiwKcqMVWEEZyLOJ2+VWQV1r70j5+1hBgvsBizPsW0GbcK+uP/paQVDHY0BQDFxBFMst6vdGXUGP/wJIXzFgQUYoNq1z2GFBurrj3vtPYkH8GzQfjH1hQb6+Vim0lWBB9ZuJouJpYUGCxkwehZdiQaRPq1sYm15BizmIJGNxYEEYzrXpPZljQT6wY+fdD2RBSRKEgcizZUGRJ8k+9lVkQTwy1gDgtmZBLIPqaW03ZUEWwBRdbwNjQUzcKvj5M2VBVDtDPbraYkFcqWdz145iQTT5Zl+i0F5BJsYy1sl4Y0G3CmIHkTBjQbdC2HKJcmNBRSzijNt2ZkFWQYxoBZNmQcO6cf2Z0mVBVd4OAI1bZ0FEiCu2I1xlQRiXKnAIO2VB2PSgBHs2ZUE4MaTOp5llQToJJQCpIGZByEGJ+ZDxaEE=",
          "dtype": "f8"
         }
        },
        {
         "mode": "lines+markers",
         "name": "VIC Renewables",
         "type": "scatter",
         "x": [
          "2018-01-01T00:00:00.000000000",
          "2018-02-01T00:00:00.000000000",
          "2018-03-01T00:00:00.000000000",
          "2018-04-01T00:00:00.000000000",
          "2018-05-01T00:00:00.000000000",
          "2018-06-01T00:00:00.000000000",
          "2018-07-01T00:00:00.000000000",
          "2018-08-01T00:00:00.000000000",
          "2018-09-01T00:00:00.000000000",
          "2018-10-01T00:00:00.000000000",
          "2018-11-01T00:00:00.000000000",
          "2018-12-01T00:00:00.000000000",
          "2019-01-01T00:00:00.000000000",
          "2019-02-01T00:00:00.000000000",
          "2019-03-01T00:00:00.000000000",
          "2019-04-01T00:00:00.000000000",
          "2019-05-01T00:00:00.000000000",
          "2019-06-01T00:00:00.000000000",
          "2019-07-01T00:00:00.000000000",
          "2019-08-01T00:00:00.000000000",
          "2019-09-01T00:00:00.000000000",
          "2019-10-01T00:00:00.000000000",
          "2019-11-01T00:00:00.000000000",
          "2019-12-01T00:00:00.000000000",
          "2020-01-01T00:00:00.000000000",
          "2020-02-01T00:00:00.000000000",
          "2020-03-01T00:00:00.000000000",
          "2020-04-01T00:00:00.000000000",
          "2020-05-01T00:00:00.000000000",
          "2020-06-01T00:00:00.000000000",
          "2020-07-01T00:00:00.000000000",
          "2020-08-01T00:00:00.000000000",
          "2020-09-01T00:00:00.000000000",
          "2020-10-01T00:00:00.000000000",
          "2020-11-01T00:00:00.000000000",
          "2020-12-01T00:00:00.000000000",
          "2021-01-01T00:00:00.000000000",
          "2021-02-01T00:00:00.000000000",
          "2021-03-01T00:00:00.000000000",
          "2021-04-01T00:00:00.000000000",
          "2021-05-01T00:00:00.000000000",
          "2021-06-01T00:00:00.000000000",
          "2021-07-01T00:00:00.000000000",
          "2021-08-01T00:00:00.000000000",
          "2021-09-01T00:00:00.000000000",
          "2021-10-01T00:00:00.000000000",
          "2021-11-01T00:00:00.000000000",
          "2021-12-01T00:00:00.000000000",
          "2022-01-01T00:00:00.000000000",
          "2022-02-01T00:00:00.000000000",
          "2022-03-01T00:00:00.000000000",
          "2022-04-01T00:00:00.000000000",
          "2022-05-01T00:00:00.000000000",
          "2022-06-01T00:00:00.000000000",
          "2022-07-01T00:00:00.000000000",
          "2022-08-01T00:00:00.000000000",
          "2022-09-01T00:00:00.000000000",
          "2022-10-01T00:00:00.000000000",
          "2022-11-01T00:00:00.000000000",
          "2022-12-01T00:00:00.000000000",
          "2023-01-01T00:00:00.000000000",
          "2023-02-01T00:00:00.000000000",
          "2023-03-01T00:00:00.000000000",
          "2023-04-01T00:00:00.000000000",
          "2023-05-01T00:00:00.000000000",
          "2023-06-01T00:00:00.000000000",
          "2023-07-01T00:00:00.000000000",
          "2023-08-01T00:00:00.000000000",
          "2023-09-01T00:00:00.000000000",
          "2023-10-01T00:00:00.000000000",
          "2023-11-01T00:00:00.000000000",
          "2023-12-01T00:00:00.000000000",
          "2024-01-01T00:00:00.000000000",
          "2024-02-01T00:00:00.000000000",
          "2024-03-01T00:00:00.000000000",
          "2024-04-01T00:00:00.000000000",
          "2024-05-01T00:00:00.000000000",
          "2024-06-01T00:00:00.000000000",
          "2024-07-01T00:00:00.000000000",
          "2024-08-01T00:00:00.000000000",
          "2024-09-01T00:00:00.000000000",
          "2024-10-01T00:00:00.000000000",
          "2024-11-01T00:00:00.000000000",
          "2024-12-01T00:00:00.000000000",
          "2025-01-01T00:00:00.000000000",
          "2025-02-01T00:00:00.000000000",
          "2025-03-01T00:00:00.000000000",
          "2025-04-01T00:00:00.000000000",
          "2025-05-01T00:00:00.000000000",
          "2025-06-01T00:00:00.000000000",
          "2025-07-01T00:00:00.000000000"
         ],
         "y": {
          "bdata": "s7Po9/l8V0EZzF96Zy9TQRk6drX6XlZBQmDlxG4LVUETK6MlsoxgQawYrnEdP11BHOxN/9EIYkEPfXfa5ahhQThPdcm7jlpBcAuWYVFkWUGgVtHMr51XQYxK6rZVOFZBcMtH8DzkW0HK/Q6EACNZQYaxhbzX/VZBPDWXoDJxV0GWfOwqTCZcQRVVv8sns2BB6WJTv5hXYkHcZT/T7+xhQTjXMFGDO11BC3+GjQj1WEHZeLCjJNBbQfKZ7HX/21xB4IEBQjQRX0GSByLlmmFZQfLxCUmbm1xBLbDHJd8iW0EfalvZOCFmQcKnOYhac2FBuO17UvN9YkG86CsGzv9jQXaIfy/uB2NBOZqjkvxtZUFfYcEcLGNiQfIO8ERYSWNBXmMXe3f2ZkEiGt1yF49jQVgduWQ2bmVBYtjhcKi2Y0H9TD0AB+FmQW5pte5HfGhBrhOXB072a0G2DSN5D09pQQmo8MSAwWhBlINZnbo2ZkFybajr28FoQej9///iu2hBn3M32lOvaUGzs+gxjUplQV6d4269dWVBqpuLgzcyY0Et634gx3ZpQe/Krpuy/nBBrqSV/AwVbkEr3Z3wxclxQUhQfBVjG29BFA8oVjOOa0EQte2tcvVqQWGIHDxYrWlBXOdfGh9ZaEH2RFdOO3NpQSxG3RspnmhB10w+IrzcZUFz2lMcph1rQSx/viXJ3XJBqtZClB4Ic0GY/Tra2P5tQaBnM+6WgGpB7gBPSvKQbUHRx3xNWJhoQaphvxzsAmxB3bJDiPzsaUHMC7CrV4JpQbuBAnVjBGpBck2Bpn/kZEG7KPoPyaBmQQKXR8Zz2mhBvp4vMVx0cEGQZUH+vi9xQe1mhtZymXBBqMZL98UWb0HgMNEFwc9qQS+DsfIfDmxB7s5aNdjIbUHO34R1u7twQVpKlmPOEW9BYmafo1wKa0HLn++jQjhvQd4bQ5zmonFB3EWYYov7c0E=",
          "dtype": "f8"
         }
        },
        {
         "mode": "lines+markers",
         "name": "SA Renewables",
         "type": "scatter",
         "x": [
          "2018-01-01T00:00:00.000000000",
          "2018-02-01T00:00:00.000000000",
          "2018-03-01T00:00:00.000000000",
          "2018-04-01T00:00:00.000000000",
          "2018-05-01T00:00:00.000000000",
          "2018-06-01T00:00:00.000000000",
          "2018-07-01T00:00:00.000000000",
          "2018-08-01T00:00:00.000000000",
          "2018-09-01T00:00:00.000000000",
          "2018-10-01T00:00:00.000000000",
          "2018-11-01T00:00:00.000000000",
          "2018-12-01T00:00:00.000000000",
          "2019-01-01T00:00:00.000000000",
          "2019-02-01T00:00:00.000000000",
          "2019-03-01T00:00:00.000000000",
          "2019-04-01T00:00:00.000000000",
          "2019-05-01T00:00:00.000000000",
          "2019-06-01T00:00:00.000000000",
          "2019-07-01T00:00:00.000000000",
          "2019-08-01T00:00:00.000000000",
          "2019-09-01T00:00:00.000000000",
          "2019-10-01T00:00:00.000000000",
          "2019-11-01T00:00:00.000000000",
          "2019-12-01T00:00:00.000000000",
          "2020-01-01T00:00:00.000000000",
          "2020-02-01T00:00:00.000000000",
          "2020-03-01T00:00:00.000000000",
          "2020-04-01T00:00:00.000000000",
          "2020-05-01T00:00:00.000000000",
          "2020-06-01T00:00:00.000000000",
          "2020-07-01T00:00:00.000000000",
          "2020-08-01T00:00:00.000000000",
          "2020-09-01T00:00:00.000000000",
          "2020-10-01T00:00:00.000000000",
          "2020-11-01T00:00:00.000000000",
          "2020-12-01T00:00:00.000000000",
          "2021-01-01T00:00:00.000000000",
          "2021-02-01T00:00:00.000000000",
          "2021-03-01T00:00:00.000000000",
          "2021-04-01T00:00:00.000000000",
          "2021-05-01T00:00:00.000000000",
          "2021-06-01T00:00:00.000000000",
          "2021-07-01T00:00:00.000000000",
          "2021-08-01T00:00:00.000000000",
          "2021-09-01T00:00:00.000000000",
          "2021-10-01T00:00:00.000000000",
          "2021-11-01T00:00:00.000000000",
          "2021-12-01T00:00:00.000000000",
          "2022-01-01T00:00:00.000000000",
          "2022-02-01T00:00:00.000000000",
          "2022-03-01T00:00:00.000000000",
          "2022-04-01T00:00:00.000000000",
          "2022-05-01T00:00:00.000000000",
          "2022-06-01T00:00:00.000000000",
          "2022-07-01T00:00:00.000000000",
          "2022-08-01T00:00:00.000000000",
          "2022-09-01T00:00:00.000000000",
          "2022-10-01T00:00:00.000000000",
          "2022-11-01T00:00:00.000000000",
          "2022-12-01T00:00:00.000000000",
          "2023-01-01T00:00:00.000000000",
          "2023-02-01T00:00:00.000000000",
          "2023-03-01T00:00:00.000000000",
          "2023-04-01T00:00:00.000000000",
          "2023-05-01T00:00:00.000000000",
          "2023-06-01T00:00:00.000000000",
          "2023-07-01T00:00:00.000000000",
          "2023-08-01T00:00:00.000000000",
          "2023-09-01T00:00:00.000000000",
          "2023-10-01T00:00:00.000000000",
          "2023-11-01T00:00:00.000000000",
          "2023-12-01T00:00:00.000000000",
          "2024-01-01T00:00:00.000000000",
          "2024-02-01T00:00:00.000000000",
          "2024-03-01T00:00:00.000000000",
          "2024-04-01T00:00:00.000000000",
          "2024-05-01T00:00:00.000000000",
          "2024-06-01T00:00:00.000000000",
          "2024-07-01T00:00:00.000000000",
          "2024-08-01T00:00:00.000000000",
          "2024-09-01T00:00:00.000000000",
          "2024-10-01T00:00:00.000000000",
          "2024-11-01T00:00:00.000000000",
          "2024-12-01T00:00:00.000000000",
          "2025-01-01T00:00:00.000000000",
          "2025-02-01T00:00:00.000000000",
          "2025-03-01T00:00:00.000000000",
          "2025-04-01T00:00:00.000000000",
          "2025-05-01T00:00:00.000000000",
          "2025-06-01T00:00:00.000000000",
          "2025-07-01T00:00:00.000000000"
         ],
         "y": {
          "bdata": "wtuDkmlFVUFoJELhTx9SQfd3ts3ad1VBM4gPbw1CUUFF1a95qABWQSiAYqIDIlNBGv1oAjeqXEHHTnjNGPxeQXRcjdccnVRBGoUkc7PUVkFvSnlFE4lTQQ2LUY6eLlhBxv1H5ftnVUHvOhtFyBZUQf/Ni2UNfFNBT135VqBOVUFaL4bxgO9XQX/Bbm9X4FZBZacfin+/WkE+dhe1N0ZbQaDGvRUCO1dBdsJLYFrxWEEFoicqoDhYQd6P217pYFhBLe4/k5uYWUFxVkQdTD5RQQWIgkeoQlhBJNkj2LbtVEHiN4XG2blYQV67tBEV9VdBB0Mdu1PcUkHtfD88JOxcQYj3HNSjyV1BzPCfaVpYWUH6Y1o3E1xbQS3wFX893VpBfC3ol4HwWUHZXaCW3yBXQdyZCSBPrlVB6bRuQe8LUUHeWbsIysFWQRBy3nvey1lBWp4HT136XkG6oSkLnmNYQeHtQQ4puVlBYkuP8Dr4WEFs6GZIP0pYQRYTm6d5K1pByAp+QudjW0HmOo0IxIhaQSF2pjy6FlpBqGqCfg9rV0HMYmIFXg9ZQbwA+4KmlFtB5IOeY/y3XEHs+gUV2AlhQYGQLLrfHV1BWipvZzfgWkFzuizCfERaQf4JLoRuQF9BVKnZM9kfX0E3bFu+0WxbQZolARZ+RVhBTbnCA/G6WEGKJHovQ19WQaDDfKmEiWFB9S1zRN+7XkGRfvtcK8RXQegTeUp9gFhBd6G5nkjgXkHso1MjS1tZQaeufBDLmltB65CbB+ngXEGEgec2mw1bQWwJ+Xp1x1xBxhaCArJzVkE+BcD66VJWQeNrz7qhx1hBBFslPQUqYUGHaHR819BhQWYxsTiRV2BBLs+DFwNrW0FBguJRN6hZQSibcpGipVtBLiEfjg6cXEFkWMUnLypbQWn7V0hOfV5B3EsaBy5KVUFqEyd593JcQb1Slne/NWBB+5Y5As5gYkE=",
          "dtype": "f8"
         }
        },
        {
         "mode": "lines+markers",
         "name": "TAS Renewables",
         "type": "scatter",
         "x": [
          "2018-01-01T00:00:00.000000000",
          "2018-02-01T00:00:00.000000000",
          "2018-03-01T00:00:00.000000000",
          "2018-04-01T00:00:00.000000000",
          "2018-05-01T00:00:00.000000000",
          "2018-06-01T00:00:00.000000000",
          "2018-07-01T00:00:00.000000000",
          "2018-08-01T00:00:00.000000000",
          "2018-09-01T00:00:00.000000000",
          "2018-10-01T00:00:00.000000000",
          "2018-11-01T00:00:00.000000000",
          "2018-12-01T00:00:00.000000000",
          "2019-01-01T00:00:00.000000000",
          "2019-02-01T00:00:00.000000000",
          "2019-03-01T00:00:00.000000000",
          "2019-04-01T00:00:00.000000000",
          "2019-05-01T00:00:00.000000000",
          "2019-06-01T00:00:00.000000000",
          "2019-07-01T00:00:00.000000000",
          "2019-08-01T00:00:00.000000000",
          "2019-09-01T00:00:00.000000000",
          "2019-10-01T00:00:00.000000000",
          "2019-11-01T00:00:00.000000000",
          "2019-12-01T00:00:00.000000000",
          "2020-01-01T00:00:00.000000000",
          "2020-02-01T00:00:00.000000000",
          "2020-03-01T00:00:00.000000000",
          "2020-04-01T00:00:00.000000000",
          "2020-05-01T00:00:00.000000000",
          "2020-06-01T00:00:00.000000000",
          "2020-07-01T00:00:00.000000000",
          "2020-08-01T00:00:00.000000000",
          "2020-09-01T00:00:00.000000000",
          "2020-10-01T00:00:00.000000000",
          "2020-11-01T00:00:00.000000000",
          "2020-12-01T00:00:00.000000000",
          "2021-01-01T00:00:00.000000000",
          "2021-02-01T00:00:00.000000000",
          "2021-03-01T00:00:00.000000000",
          "2021-04-01T00:00:00.000000000",
          "2021-05-01T00:00:00.000000000",
          "2021-06-01T00:00:00.000000000",
          "2021-07-01T00:00:00.000000000",
          "2021-08-01T00:00:00.000000000",
          "2021-09-01T00:00:00.000000000",
          "2021-10-01T00:00:00.000000000",
          "2021-11-01T00:00:00.000000000",
          "2021-12-01T00:00:00.000000000",
          "2022-01-01T00:00:00.000000000",
          "2022-02-01T00:00:00.000000000",
          "2022-03-01T00:00:00.000000000",
          "2022-04-01T00:00:00.000000000",
          "2022-05-01T00:00:00.000000000",
          "2022-06-01T00:00:00.000000000",
          "2022-07-01T00:00:00.000000000",
          "2022-08-01T00:00:00.000000000",
          "2022-09-01T00:00:00.000000000",
          "2022-10-01T00:00:00.000000000",
          "2022-11-01T00:00:00.000000000",
          "2022-12-01T00:00:00.000000000",
          "2023-01-01T00:00:00.000000000",
          "2023-02-01T00:00:00.000000000",
          "2023-03-01T00:00:00.000000000",
          "2023-04-01T00:00:00.000000000",
          "2023-05-01T00:00:00.000000000",
          "2023-06-01T00:00:00.000000000",
          "2023-07-01T00:00:00.000000000",
          "2023-08-01T00:00:00.000000000",
          "2023-09-01T00:00:00.000000000",
          "2023-10-01T00:00:00.000000000",
          "2023-11-01T00:00:00.000000000",
          "2023-12-01T00:00:00.000000000",
          "2024-01-01T00:00:00.000000000",
          "2024-02-01T00:00:00.000000000",
          "2024-03-01T00:00:00.000000000",
          "2024-04-01T00:00:00.000000000",
          "2024-05-01T00:00:00.000000000",
          "2024-06-01T00:00:00.000000000",
          "2024-07-01T00:00:00.000000000",
          "2024-08-01T00:00:00.000000000",
          "2024-09-01T00:00:00.000000000",
          "2024-10-01T00:00:00.000000000",
          "2024-11-01T00:00:00.000000000",
          "2024-12-01T00:00:00.000000000",
          "2025-01-01T00:00:00.000000000",
          "2025-02-01T00:00:00.000000000",
          "2025-03-01T00:00:00.000000000",
          "2025-04-01T00:00:00.000000000",
          "2025-05-01T00:00:00.000000000",
          "2025-06-01T00:00:00.000000000",
          "2025-07-01T00:00:00.000000000"
         ],
         "y": {
          "bdata": "vY3NQQANXUEiFcYdyVhaQbvRxw0jQl5B4e4szM++Y0GN0brYADVmQRObD1sCHmpBzEFQR/AdbkFPBHGAFsxuQRPvAKy17WpBT3gJD9ldYkE5eZGwKalkQRwFCJAzWGVBNsgkn1GyYEHUYvDJfMlWQU+xani09lhB4ugqW5p+XUEw9AheyXJkQfopjvSquWdBDtdqYTU+a0GJ1LQ7SDZpQc5r7Pfu6WNB5kF6xaivXkFS8BRj/ZZjQXUfALGud2NBAdysqmMoYEGbAS46LYRgQYoazAW3gWJBCpxs5JQtaEHpmV4aVYZpQXqpWANf4mhBpP0PngydaEHjUhXrCe5iQdv7VIyIDWRB8rDQtykqZEFf8Gk7CulcQZCeIhpxA19B2pB/2sHbW0EXmYBw/rBbQdWYkI1cAmJB7+ESgghsZkEH7sD6nZpmQT+pdvEtvWdBXrleLduQaUGkNnECY95sQWhyMb9GiWlBS8yz8aE0Z0H8/WI8OmRlQbrZn0e9s2BBWU3XjOT0YEHxgR1KgcNdQbMKm9J/bWFBTuwhLJsjYkFfEJEpOAdpQVJLc9V8j2pBSgwCgHp4Z0GI2yHQ2Q9mQfwzA+BUz2NBh/pd4zz5YUFbB4dCqqRiQVm+Lki3dV5B4BCqwoMoXEECs0L6joxZQZT1m4Da/GBBpDbxLb97Y0F6Mn8u2UJoQUmjglhjnWhBOS340ddAa0HYvgAJSsNoQcjQMV5XZWRBinPUv5t7YUEQH9g2PWlcQbggWyFQe1tBYHXk+Y37WkFSSZ1s7QRcQcK+nWaHWF1BYi0+Uq4QYkEpfDZYr+xgQT+MEIvcsGFBboncX4kCYEFo5sm3l/VfQSv5WJMdTGVBOgg6pGg5Y0FJaTaKqtJeQbA2xn3bPF9BiZY8MuHqWEF+k6atlphXQTzB/m5r3VpBuVZ71TkuXEGADYgg4oxeQeQTskiK02FBIxYxdFijY0E=",
          "dtype": "f8"
         }
        }
       ],
       "layout": {
        "template": {
         "data": {
          "bar": [
           {
            "error_x": {
             "color": "#2a3f5f"
            },
            "error_y": {
             "color": "#2a3f5f"
            },
            "marker": {
             "line": {
              "color": "#E5ECF6",
              "width": 0.5
             },
             "pattern": {
              "fillmode": "overlay",
              "size": 10,
              "solidity": 0.2
             }
            },
            "type": "bar"
           }
          ],
          "barpolar": [
           {
            "marker": {
             "line": {
              "color": "#E5ECF6",
              "width": 0.5
             },
             "pattern": {
              "fillmode": "overlay",
              "size": 10,
              "solidity": 0.2
             }
            },
            "type": "barpolar"
           }
          ],
          "carpet": [
           {
            "aaxis": {
             "endlinecolor": "#2a3f5f",
             "gridcolor": "white",
             "linecolor": "white",
             "minorgridcolor": "white",
             "startlinecolor": "#2a3f5f"
            },
            "baxis": {
             "endlinecolor": "#2a3f5f",
             "gridcolor": "white",
             "linecolor": "white",
             "minorgridcolor": "white",
             "startlinecolor": "#2a3f5f"
            },
            "type": "carpet"
           }
          ],
          "choropleth": [
           {
            "colorbar": {
             "outlinewidth": 0,
             "ticks": ""
            },
            "type": "choropleth"
           }
          ],
          "contour": [
           {
            "colorbar": {
             "outlinewidth": 0,
             "ticks": ""
            },
            "colorscale": [
             [
              0,
              "#0d0887"
             ],
             [
              0.1111111111111111,
              "#46039f"
             ],
             [
              0.2222222222222222,
              "#7201a8"
             ],
             [
              0.3333333333333333,
              "#9c179e"
             ],
             [
              0.4444444444444444,
              "#bd3786"
             ],
             [
              0.5555555555555556,
              "#d8576b"
             ],
             [
              0.6666666666666666,
              "#ed7953"
             ],
             [
              0.7777777777777778,
              "#fb9f3a"
             ],
             [
              0.8888888888888888,
              "#fdca26"
             ],
             [
              1,
              "#f0f921"
             ]
            ],
            "type": "contour"
           }
          ],
          "contourcarpet": [
           {
            "colorbar": {
             "outlinewidth": 0,
             "ticks": ""
            },
            "type": "contourcarpet"
           }
          ],
          "heatmap": [
           {
            "colorbar": {
             "outlinewidth": 0,
             "ticks": ""
            },
            "colorscale": [
             [
              0,
              "#0d0887"
             ],
             [
              0.1111111111111111,
              "#46039f"
             ],
             [
              0.2222222222222222,
              "#7201a8"
             ],
             [
              0.3333333333333333,
              "#9c179e"
             ],
             [
              0.4444444444444444,
              "#bd3786"
             ],
             [
              0.5555555555555556,
              "#d8576b"
             ],
             [
              0.6666666666666666,
              "#ed7953"
             ],
             [
              0.7777777777777778,
              "#fb9f3a"
             ],
             [
              0.8888888888888888,
              "#fdca26"
             ],
             [
              1,
              "#f0f921"
             ]
            ],
            "type": "heatmap"
           }
          ],
          "histogram": [
           {
            "marker": {
             "pattern": {
              "fillmode": "overlay",
              "size": 10,
              "solidity": 0.2
             }
            },
            "type": "histogram"
           }
          ],
          "histogram2d": [
           {
            "colorbar": {
             "outlinewidth": 0,
             "ticks": ""
            },
            "colorscale": [
             [
              0,
              "#0d0887"
             ],
             [
              0.1111111111111111,
              "#46039f"
             ],
             [
              0.2222222222222222,
              "#7201a8"
             ],
             [
              0.3333333333333333,
              "#9c179e"
             ],
             [
              0.4444444444444444,
              "#bd3786"
             ],
             [
              0.5555555555555556,
              "#d8576b"
             ],
             [
              0.6666666666666666,
              "#ed7953"
             ],
             [
              0.7777777777777778,
              "#fb9f3a"
             ],
             [
              0.8888888888888888,
              "#fdca26"
             ],
             [
              1,
              "#f0f921"
             ]
            ],
            "type": "histogram2d"
           }
          ],
          "histogram2dcontour": [
           {
            "colorbar": {
             "outlinewidth": 0,
             "ticks": ""
            },
            "colorscale": [
             [
              0,
              "#0d0887"
             ],
             [
              0.1111111111111111,
              "#46039f"
             ],
             [
              0.2222222222222222,
              "#7201a8"
             ],
             [
              0.3333333333333333,
              "#9c179e"
             ],
             [
              0.4444444444444444,
              "#bd3786"
             ],
             [
              0.5555555555555556,
              "#d8576b"
             ],
             [
              0.6666666666666666,
              "#ed7953"
             ],
             [
              0.7777777777777778,
              "#fb9f3a"
             ],
             [
              0.8888888888888888,
              "#fdca26"
             ],
             [
              1,
              "#f0f921"
             ]
            ],
            "type": "histogram2dcontour"
           }
          ],
          "mesh3d": [
           {
            "colorbar": {
             "outlinewidth": 0,
             "ticks": ""
            },
            "type": "mesh3d"
           }
          ],
          "parcoords": [
           {
            "line": {
             "colorbar": {
              "outlinewidth": 0,
              "ticks": ""
             }
            },
            "type": "parcoords"
           }
          ],
          "pie": [
           {
            "automargin": true,
            "type": "pie"
           }
          ],
          "scatter": [
           {
            "fillpattern": {
             "fillmode": "overlay",
             "size": 10,
             "solidity": 0.2
            },
            "type": "scatter"
           }
          ],
          "scatter3d": [
           {
            "line": {
             "colorbar": {
              "outlinewidth": 0,
              "ticks": ""
             }
            },
            "marker": {
             "colorbar": {
              "outlinewidth": 0,
              "ticks": ""
             }
            },
            "type": "scatter3d"
           }
          ],
          "scattercarpet": [
           {
            "marker": {
             "colorbar": {
              "outlinewidth": 0,
              "ticks": ""
             }
            },
            "type": "scattercarpet"
           }
          ],
          "scattergeo": [
           {
            "marker": {
             "colorbar": {
              "outlinewidth": 0,
              "ticks": ""
             }
            },
            "type": "scattergeo"
           }
          ],
          "scattergl": [
           {
            "marker": {
             "colorbar": {
              "outlinewidth": 0,
              "ticks": ""
             }
            },
            "type": "scattergl"
           }
          ],
          "scattermap": [
           {
            "marker": {
             "colorbar": {
              "outlinewidth": 0,
              "ticks": ""
             }
            },
            "type": "scattermap"
           }
          ],
          "scattermapbox": [
           {
            "marker": {
             "colorbar": {
              "outlinewidth": 0,
              "ticks": ""
             }
            },
            "type": "scattermapbox"
           }
          ],
          "scatterpolar": [
           {
            "marker": {
             "colorbar": {
              "outlinewidth": 0,
              "ticks": ""
             }
            },
            "type": "scatterpolar"
           }
          ],
          "scatterpolargl": [
           {
            "marker": {
             "colorbar": {
              "outlinewidth": 0,
              "ticks": ""
             }
            },
            "type": "scatterpolargl"
           }
          ],
          "scatterternary": [
           {
            "marker": {
             "colorbar": {
              "outlinewidth": 0,
              "ticks": ""
             }
            },
            "type": "scatterternary"
           }
          ],
          "surface": [
           {
            "colorbar": {
             "outlinewidth": 0,
             "ticks": ""
            },
            "colorscale": [
             [
              0,
              "#0d0887"
             ],
             [
              0.1111111111111111,
              "#46039f"
             ],
             [
              0.2222222222222222,
              "#7201a8"
             ],
             [
              0.3333333333333333,
              "#9c179e"
             ],
             [
              0.4444444444444444,
              "#bd3786"
             ],
             [
              0.5555555555555556,
              "#d8576b"
             ],
             [
              0.6666666666666666,
              "#ed7953"
             ],
             [
              0.7777777777777778,
              "#fb9f3a"
             ],
             [
              0.8888888888888888,
              "#fdca26"
             ],
             [
              1,
              "#f0f921"
             ]
            ],
            "type": "surface"
           }
          ],
          "table": [
           {
            "cells": {
             "fill": {
              "color": "#EBF0F8"
             },
             "line": {
              "color": "white"
             }
            },
            "header": {
             "fill": {
              "color": "#C8D4E3"
             },
             "line": {
              "color": "white"
             }
            },
            "type": "table"
           }
          ]
         },
         "layout": {
          "annotationdefaults": {
           "arrowcolor": "#2a3f5f",
           "arrowhead": 0,
           "arrowwidth": 1
          },
          "autotypenumbers": "strict",
          "coloraxis": {
           "colorbar": {
            "outlinewidth": 0,
            "ticks": ""
           }
          },
          "colorscale": {
           "diverging": [
            [
             0,
             "#8e0152"
            ],
            [
             0.1,
             "#c51b7d"
            ],
            [
             0.2,
             "#de77ae"
            ],
            [
             0.3,
             "#f1b6da"
            ],
            [
             0.4,
             "#fde0ef"
            ],
            [
             0.5,
             "#f7f7f7"
            ],
            [
             0.6,
             "#e6f5d0"
            ],
            [
             0.7,
             "#b8e186"
            ],
            [
             0.8,
             "#7fbc41"
            ],
            [
             0.9,
             "#4d9221"
            ],
            [
             1,
             "#276419"
            ]
           ],
           "sequential": [
            [
             0,
             "#0d0887"
            ],
            [
             0.1111111111111111,
             "#46039f"
            ],
            [
             0.2222222222222222,
             "#7201a8"
            ],
            [
             0.3333333333333333,
             "#9c179e"
            ],
            [
             0.4444444444444444,
             "#bd3786"
            ],
            [
             0.5555555555555556,
             "#d8576b"
            ],
            [
             0.6666666666666666,
             "#ed7953"
            ],
            [
             0.7777777777777778,
             "#fb9f3a"
            ],
            [
             0.8888888888888888,
             "#fdca26"
            ],
            [
             1,
             "#f0f921"
            ]
           ],
           "sequentialminus": [
            [
             0,
             "#0d0887"
            ],
            [
             0.1111111111111111,
             "#46039f"
            ],
            [
             0.2222222222222222,
             "#7201a8"
            ],
            [
             0.3333333333333333,
             "#9c179e"
            ],
            [
             0.4444444444444444,
             "#bd3786"
            ],
            [
             0.5555555555555556,
             "#d8576b"
            ],
            [
             0.6666666666666666,
             "#ed7953"
            ],
            [
             0.7777777777777778,
             "#fb9f3a"
            ],
            [
             0.8888888888888888,
             "#fdca26"
            ],
            [
             1,
             "#f0f921"
            ]
           ]
          },
          "colorway": [
           "#636efa",
           "#EF553B",
           "#00cc96",
           "#ab63fa",
           "#FFA15A",
           "#19d3f3",
           "#FF6692",
           "#B6E880",
           "#FF97FF",
           "#FECB52"
          ],
          "font": {
           "color": "#2a3f5f"
          },
          "geo": {
           "bgcolor": "white",
           "lakecolor": "white",
           "landcolor": "#E5ECF6",
           "showlakes": true,
           "showland": true,
           "subunitcolor": "white"
          },
          "hoverlabel": {
           "align": "left"
          },
          "hovermode": "closest",
          "mapbox": {
           "style": "light"
          },
          "paper_bgcolor": "white",
          "plot_bgcolor": "#E5ECF6",
          "polar": {
           "angularaxis": {
            "gridcolor": "white",
            "linecolor": "white",
            "ticks": ""
           },
           "bgcolor": "#E5ECF6",
           "radialaxis": {
            "gridcolor": "white",
            "linecolor": "white",
            "ticks": ""
           }
          },
          "scene": {
           "xaxis": {
            "backgroundcolor": "#E5ECF6",
            "gridcolor": "white",
            "gridwidth": 2,
            "linecolor": "white",
            "showbackground": true,
            "ticks": "",
            "zerolinecolor": "white"
           },
           "yaxis": {
            "backgroundcolor": "#E5ECF6",
            "gridcolor": "white",
            "gridwidth": 2,
            "linecolor": "white",
            "showbackground": true,
            "ticks": "",
            "zerolinecolor": "white"
           },
           "zaxis": {
            "backgroundcolor": "#E5ECF6",
            "gridcolor": "white",
            "gridwidth": 2,
            "linecolor": "white",
            "showbackground": true,
            "ticks": "",
            "zerolinecolor": "white"
           }
          },
          "shapedefaults": {
           "line": {
            "color": "#2a3f5f"
           }
          },
          "ternary": {
           "aaxis": {
            "gridcolor": "white",
            "linecolor": "white",
            "ticks": ""
           },
           "baxis": {
            "gridcolor": "white",
            "linecolor": "white",
            "ticks": ""
           },
           "bgcolor": "#E5ECF6",
           "caxis": {
            "gridcolor": "white",
            "linecolor": "white",
            "ticks": ""
           }
          },
          "title": {
           "x": 0.05
          },
          "xaxis": {
           "automargin": true,
           "gridcolor": "white",
           "linecolor": "white",
           "ticks": "",
           "title": {
            "standoff": 15
           },
           "zerolinecolor": "white",
           "zerolinewidth": 2
          },
          "yaxis": {
           "automargin": true,
           "gridcolor": "white",
           "linecolor": "white",
           "ticks": "",
           "title": {
            "standoff": 15
           },
           "zerolinecolor": "white",
           "zerolinewidth": 2
          }
         }
        },
        "title": {
         "text": "Renewable Energy Generation by State (2018 - 2025)"
        },
        "xaxis": {
         "title": {
          "text": "Month"
         }
        },
        "yaxis": {
         "title": {
          "text": "Generation (MWh)"
         }
        }
       }
      }
     },
     "metadata": {},
     "output_type": "display_data"
    }
   ],
   "source": [
    "fig = go.Figure()\n",
    "\n",
    "fig = fig.add_trace(go.Scatter(x=nsw_renewables_df['MONTH'], y=nsw_renewables_df['SCADAVALUE'], mode='lines+markers', name='NSW Renewables'))\n",
    "fig = fig.add_trace(go.Scatter(x=qld_renewables_df['MONTH'], y=qld_renewables_df['SCADAVALUE'], mode='lines+markers', name='QLD Renewables'))\n",
    "fig = fig.add_trace(go.Scatter(x=vic_renewables_df['MONTH'], y=vic_renewables_df['SCADAVALUE'], mode='lines+markers', name='VIC Renewables'))\n",
    "fig = fig.add_trace(go.Scatter(x=sa_renewables_df['MONTH'], y=sa_renewables_df['SCADAVALUE'], mode='lines+markers', name='SA Renewables'))\n",
    "fig = fig.add_trace(go.Scatter(x=tas_renewables_df['MONTH'], y=tas_renewables_df['SCADAVALUE'], mode='lines+markers', name='TAS Renewables'))\n",
    "\n",
    "fig.update_layout(title='Renewable Energy Generation by State (2018 - 2025)', xaxis_title='Month', yaxis_title='Generation (MWh)')\n",
    "fig.show()"
   ]
  },
  {
   "cell_type": "markdown",
   "id": "3017af0e",
   "metadata": {},
   "source": [
    "Generally, all states show growth in renewable generation, with most annual peaks around July while non-renewables are slowly declining in generation"
   ]
  },
  {
   "cell_type": "code",
   "execution_count": null,
   "id": "5c542700",
   "metadata": {},
   "outputs": [
    {
     "data": {
      "application/vnd.plotly.v1+json": {
       "config": {
        "plotlyServerURL": "https://plot.ly"
       },
       "data": [
        {
         "mode": "lines+markers",
         "name": "NSW Non-Renewables",
         "type": "scatter",
         "x": [
          "2018-01-01T00:00:00.000000000",
          "2018-02-01T00:00:00.000000000",
          "2018-03-01T00:00:00.000000000",
          "2018-04-01T00:00:00.000000000",
          "2018-05-01T00:00:00.000000000",
          "2018-06-01T00:00:00.000000000",
          "2018-07-01T00:00:00.000000000",
          "2018-08-01T00:00:00.000000000",
          "2018-09-01T00:00:00.000000000",
          "2018-10-01T00:00:00.000000000",
          "2018-11-01T00:00:00.000000000",
          "2018-12-01T00:00:00.000000000",
          "2019-01-01T00:00:00.000000000",
          "2019-02-01T00:00:00.000000000",
          "2019-03-01T00:00:00.000000000",
          "2019-04-01T00:00:00.000000000",
          "2019-05-01T00:00:00.000000000",
          "2019-06-01T00:00:00.000000000",
          "2019-07-01T00:00:00.000000000",
          "2019-08-01T00:00:00.000000000",
          "2019-09-01T00:00:00.000000000",
          "2019-10-01T00:00:00.000000000",
          "2019-11-01T00:00:00.000000000",
          "2019-12-01T00:00:00.000000000",
          "2020-01-01T00:00:00.000000000",
          "2020-02-01T00:00:00.000000000",
          "2020-03-01T00:00:00.000000000",
          "2020-04-01T00:00:00.000000000",
          "2020-05-01T00:00:00.000000000",
          "2020-06-01T00:00:00.000000000",
          "2020-07-01T00:00:00.000000000",
          "2020-08-01T00:00:00.000000000",
          "2020-09-01T00:00:00.000000000",
          "2020-10-01T00:00:00.000000000",
          "2020-11-01T00:00:00.000000000",
          "2020-12-01T00:00:00.000000000",
          "2021-01-01T00:00:00.000000000",
          "2021-02-01T00:00:00.000000000",
          "2021-03-01T00:00:00.000000000",
          "2021-04-01T00:00:00.000000000",
          "2021-05-01T00:00:00.000000000",
          "2021-06-01T00:00:00.000000000",
          "2021-07-01T00:00:00.000000000",
          "2021-08-01T00:00:00.000000000",
          "2021-09-01T00:00:00.000000000",
          "2021-10-01T00:00:00.000000000",
          "2021-11-01T00:00:00.000000000",
          "2021-12-01T00:00:00.000000000",
          "2022-01-01T00:00:00.000000000",
          "2022-02-01T00:00:00.000000000",
          "2022-03-01T00:00:00.000000000",
          "2022-04-01T00:00:00.000000000",
          "2022-05-01T00:00:00.000000000",
          "2022-06-01T00:00:00.000000000",
          "2022-07-01T00:00:00.000000000",
          "2022-08-01T00:00:00.000000000",
          "2022-09-01T00:00:00.000000000",
          "2022-10-01T00:00:00.000000000",
          "2022-11-01T00:00:00.000000000",
          "2022-12-01T00:00:00.000000000",
          "2023-01-01T00:00:00.000000000",
          "2023-02-01T00:00:00.000000000",
          "2023-03-01T00:00:00.000000000",
          "2023-04-01T00:00:00.000000000",
          "2023-05-01T00:00:00.000000000",
          "2023-06-01T00:00:00.000000000",
          "2023-07-01T00:00:00.000000000",
          "2023-08-01T00:00:00.000000000",
          "2023-09-01T00:00:00.000000000",
          "2023-10-01T00:00:00.000000000",
          "2023-11-01T00:00:00.000000000",
          "2023-12-01T00:00:00.000000000",
          "2024-01-01T00:00:00.000000000",
          "2024-02-01T00:00:00.000000000",
          "2024-03-01T00:00:00.000000000",
          "2024-04-01T00:00:00.000000000",
          "2024-05-01T00:00:00.000000000",
          "2024-06-01T00:00:00.000000000",
          "2024-07-01T00:00:00.000000000",
          "2024-08-01T00:00:00.000000000",
          "2024-09-01T00:00:00.000000000",
          "2024-10-01T00:00:00.000000000",
          "2024-11-01T00:00:00.000000000",
          "2024-12-01T00:00:00.000000000",
          "2025-01-01T00:00:00.000000000",
          "2025-02-01T00:00:00.000000000",
          "2025-03-01T00:00:00.000000000",
          "2025-04-01T00:00:00.000000000",
          "2025-05-01T00:00:00.000000000",
          "2025-06-01T00:00:00.000000000",
          "2025-07-01T00:00:00.000000000"
         ],
         "y": {
          "bdata": "gQYbftfui0F1kxiIKuiHQVoQajuLBolBKSRZY1CVg0F8fwPfEPCFQYkMa/VAYohBZ5rQtvhniUENjacT9l6HQSmXJt6qZIVBEWx8gtY7h0E3/Xkhd56IQRPwK3mv8YZBqrY7GJvfi0FoBrFg/tiGQack60AEHohBKZQFQSPzhUH11KpWK66IQX+H4rj5FYhBu7cCWyFAikHQLAnAPPOHQe3tNsSqC4JBF4ERaJO3gkEyB+Ga1iqDQell9C9xpYZBcAg1soQViEF5BQJmTN6EQUpAbFniy4NBFY4gupdRgkHYmHfV0HqGQbixWYJyjYhBF54XgzaVi0Gq2i55qo+IQbKHFtbtO4NBYf6KH7Y4g0HKo7soTJmDQQ3el2nzYINBWfs7dgkFhUGyogbs6qWCQU0zfficTYNBIEOnGOrHgkEqijcvCFyGQaJdJVIptIlBihqMsurhh0HDLso1PEmFQTicuZg+PIJBKJ3o7qCVgEEaq62y95OBQR2PeZpqrYFBKa/1olllhEG7RPWQW1qDQTIg+5nX+4JBu5Q60s/wgUHOwv5r9pGFQVGj0Jr6TYdBDRYOSIlvikGuRQsYS5eGQck8MnkBuIJBSB09U6HTgkFEFukdp7B/QTgqN2Cgan9BhA5aqtqVgUFSms3Q2ZiBQcH/dklezINBy/SL8q8ygUGauBXjbDyIQaGfaZsGT4lBBOGKAIdViEE4oMXSBtKFQfUQjbErSoJB1xbeFx4OgkEcl7G+mSaCQTkjCoeDzoVBu2AQ9+5eh0GLNmeGmq6GQRaHs0fMooZBmWUPulxGhUFVb23PmNOIQTL/iNJG34tBbECEwDDvi0Gi7C2ARHaHQUgYhupGWYFB+dt+AxD+gUFag7dbKOmCQYgqnE9aooVBFw5E9/eChUEO8W+6B9aDQRVXlaeGY4ZBaCEB4oC4gkGgU1CbgMiGQWthluzlFopBpFMXN2KFikE=",
          "dtype": "f8"
         }
        },
        {
         "mode": "lines+markers",
         "name": "QLD Non-Renewables",
         "type": "scatter",
         "x": [
          "2018-01-01T00:00:00.000000000",
          "2018-02-01T00:00:00.000000000",
          "2018-03-01T00:00:00.000000000",
          "2018-04-01T00:00:00.000000000",
          "2018-05-01T00:00:00.000000000",
          "2018-06-01T00:00:00.000000000",
          "2018-07-01T00:00:00.000000000",
          "2018-08-01T00:00:00.000000000",
          "2018-09-01T00:00:00.000000000",
          "2018-10-01T00:00:00.000000000",
          "2018-11-01T00:00:00.000000000",
          "2018-12-01T00:00:00.000000000",
          "2019-01-01T00:00:00.000000000",
          "2019-02-01T00:00:00.000000000",
          "2019-03-01T00:00:00.000000000",
          "2019-04-01T00:00:00.000000000",
          "2019-05-01T00:00:00.000000000",
          "2019-06-01T00:00:00.000000000",
          "2019-07-01T00:00:00.000000000",
          "2019-08-01T00:00:00.000000000",
          "2019-09-01T00:00:00.000000000",
          "2019-10-01T00:00:00.000000000",
          "2019-11-01T00:00:00.000000000",
          "2019-12-01T00:00:00.000000000",
          "2020-01-01T00:00:00.000000000",
          "2020-02-01T00:00:00.000000000",
          "2020-03-01T00:00:00.000000000",
          "2020-04-01T00:00:00.000000000",
          "2020-05-01T00:00:00.000000000",
          "2020-06-01T00:00:00.000000000",
          "2020-07-01T00:00:00.000000000",
          "2020-08-01T00:00:00.000000000",
          "2020-09-01T00:00:00.000000000",
          "2020-10-01T00:00:00.000000000",
          "2020-11-01T00:00:00.000000000",
          "2020-12-01T00:00:00.000000000",
          "2021-01-01T00:00:00.000000000",
          "2021-02-01T00:00:00.000000000",
          "2021-03-01T00:00:00.000000000",
          "2021-04-01T00:00:00.000000000",
          "2021-05-01T00:00:00.000000000",
          "2021-06-01T00:00:00.000000000",
          "2021-07-01T00:00:00.000000000",
          "2021-08-01T00:00:00.000000000",
          "2021-09-01T00:00:00.000000000",
          "2021-10-01T00:00:00.000000000",
          "2021-11-01T00:00:00.000000000",
          "2021-12-01T00:00:00.000000000",
          "2022-01-01T00:00:00.000000000",
          "2022-02-01T00:00:00.000000000",
          "2022-03-01T00:00:00.000000000",
          "2022-04-01T00:00:00.000000000",
          "2022-05-01T00:00:00.000000000",
          "2022-06-01T00:00:00.000000000",
          "2022-07-01T00:00:00.000000000",
          "2022-08-01T00:00:00.000000000",
          "2022-09-01T00:00:00.000000000",
          "2022-10-01T00:00:00.000000000",
          "2022-11-01T00:00:00.000000000",
          "2022-12-01T00:00:00.000000000",
          "2023-01-01T00:00:00.000000000",
          "2023-02-01T00:00:00.000000000",
          "2023-03-01T00:00:00.000000000",
          "2023-04-01T00:00:00.000000000",
          "2023-05-01T00:00:00.000000000",
          "2023-06-01T00:00:00.000000000",
          "2023-07-01T00:00:00.000000000",
          "2023-08-01T00:00:00.000000000",
          "2023-09-01T00:00:00.000000000",
          "2023-10-01T00:00:00.000000000",
          "2023-11-01T00:00:00.000000000",
          "2023-12-01T00:00:00.000000000",
          "2024-01-01T00:00:00.000000000",
          "2024-02-01T00:00:00.000000000",
          "2024-03-01T00:00:00.000000000",
          "2024-04-01T00:00:00.000000000",
          "2024-05-01T00:00:00.000000000",
          "2024-06-01T00:00:00.000000000",
          "2024-07-01T00:00:00.000000000",
          "2024-08-01T00:00:00.000000000",
          "2024-09-01T00:00:00.000000000",
          "2024-10-01T00:00:00.000000000",
          "2024-11-01T00:00:00.000000000",
          "2024-12-01T00:00:00.000000000",
          "2025-01-01T00:00:00.000000000",
          "2025-02-01T00:00:00.000000000",
          "2025-03-01T00:00:00.000000000",
          "2025-04-01T00:00:00.000000000",
          "2025-05-01T00:00:00.000000000",
          "2025-06-01T00:00:00.000000000",
          "2025-07-01T00:00:00.000000000"
         ],
         "y": {
          "bdata": "9wZ/C2r8jkGg//6/WKmLQTszASDi8o1BoWi+k1IgjEGas14b7o2MQaRvkhcmhYxBSl2ytRevi0EKnEyS/XyLQRcTm1OzdIpBZa5sdQYKi0GutgL5pfGJQdzaQr+QcIxBYf5qX7omjkHmrqU3V2uKQeC+Tr73qo1B27+ySgz5iUEycnY7kl+KQaZgjZjQ6olBAkZ3N6/HiUEXt/HlGT2KQaT/JSUJgYlB8nh6p1xxikGMvKxLyliJQQzN1f5DzIpBH2Ij0It4jUFpWfd0ZUeLQXcwor2jZItBTrdMdJ9WiEHl0S3LrJeIQbXAvu99HIlBIGAtwXO8iUGumgc4eSaJQRiVFN/DM4ZB0XcXwPjGiEEnTPhSJ3aIQZSo1wFVbYtBbxDN0lwnikGAngZpU+6HQZHapBfnxIlBnN5F7hBsiEHe5UJMGxGIQS5ZFUGQ34dBrKui2hXtiEFe95Y9pM+HQVE25RHEBoZBHsX5WVskh0ED67jpeoKHQXFV2dxhMohBUwSYbztwiEGjkS9O+taFQRKJokpGJIpB9SzoD47EhkEM55qtRQ6IQbh7WaOUtIhBQYLi0KHmiUE0Y9FQQ5OHQS7LN3rzJoVBixqMd+VyhkGPAsS0ilWEQbEdLDU2YoVBJoeviw/2h0Ed6SzgwhqHQRwnRQPoSIpBJmoJc1/jhUHV7rcTRm6HQdczhHX1PYZBuk/uy6XSh0GxwSLHhHGGQZsEj/hTd4RBSMbqSuwlhEGzsRJFiQGGQbJKKffLP4dBvFru/uvmiEGk/jrVeueHQeoJq6ePhodBv7UzXFxzhkHaHv2MQtmHQbR3Zl2hfohBgCvZQawoh0FTzjfgeB6GQbcHgeul7oNBOV/M9e/5g0E8g4bgOGmFQSeGJAF/XYdB+65IncVyh0FcHosAsPCFQc7GSu5Fe4hB0shnnrSFhUERVXhgwv+FQXdNSGcMyIdBCJEszTXjhkE=",
          "dtype": "f8"
         }
        },
        {
         "mode": "lines+markers",
         "name": "VIC Non-Renewables",
         "type": "scatter",
         "x": [
          "2018-01-01T00:00:00.000000000",
          "2018-02-01T00:00:00.000000000",
          "2018-03-01T00:00:00.000000000",
          "2018-04-01T00:00:00.000000000",
          "2018-05-01T00:00:00.000000000",
          "2018-06-01T00:00:00.000000000",
          "2018-07-01T00:00:00.000000000",
          "2018-08-01T00:00:00.000000000",
          "2018-09-01T00:00:00.000000000",
          "2018-10-01T00:00:00.000000000",
          "2018-11-01T00:00:00.000000000",
          "2018-12-01T00:00:00.000000000",
          "2019-01-01T00:00:00.000000000",
          "2019-02-01T00:00:00.000000000",
          "2019-03-01T00:00:00.000000000",
          "2019-04-01T00:00:00.000000000",
          "2019-05-01T00:00:00.000000000",
          "2019-06-01T00:00:00.000000000",
          "2019-07-01T00:00:00.000000000",
          "2019-08-01T00:00:00.000000000",
          "2019-09-01T00:00:00.000000000",
          "2019-10-01T00:00:00.000000000",
          "2019-11-01T00:00:00.000000000",
          "2019-12-01T00:00:00.000000000",
          "2020-01-01T00:00:00.000000000",
          "2020-02-01T00:00:00.000000000",
          "2020-03-01T00:00:00.000000000",
          "2020-04-01T00:00:00.000000000",
          "2020-05-01T00:00:00.000000000",
          "2020-06-01T00:00:00.000000000",
          "2020-07-01T00:00:00.000000000",
          "2020-08-01T00:00:00.000000000",
          "2020-09-01T00:00:00.000000000",
          "2020-10-01T00:00:00.000000000",
          "2020-11-01T00:00:00.000000000",
          "2020-12-01T00:00:00.000000000",
          "2021-01-01T00:00:00.000000000",
          "2021-02-01T00:00:00.000000000",
          "2021-03-01T00:00:00.000000000",
          "2021-04-01T00:00:00.000000000",
          "2021-05-01T00:00:00.000000000",
          "2021-06-01T00:00:00.000000000",
          "2021-07-01T00:00:00.000000000",
          "2021-08-01T00:00:00.000000000",
          "2021-09-01T00:00:00.000000000",
          "2021-10-01T00:00:00.000000000",
          "2021-11-01T00:00:00.000000000",
          "2021-12-01T00:00:00.000000000",
          "2022-01-01T00:00:00.000000000",
          "2022-02-01T00:00:00.000000000",
          "2022-03-01T00:00:00.000000000",
          "2022-04-01T00:00:00.000000000",
          "2022-05-01T00:00:00.000000000",
          "2022-06-01T00:00:00.000000000",
          "2022-07-01T00:00:00.000000000",
          "2022-08-01T00:00:00.000000000",
          "2022-09-01T00:00:00.000000000",
          "2022-10-01T00:00:00.000000000",
          "2022-11-01T00:00:00.000000000",
          "2022-12-01T00:00:00.000000000",
          "2023-01-01T00:00:00.000000000",
          "2023-02-01T00:00:00.000000000",
          "2023-03-01T00:00:00.000000000",
          "2023-04-01T00:00:00.000000000",
          "2023-05-01T00:00:00.000000000",
          "2023-06-01T00:00:00.000000000",
          "2023-07-01T00:00:00.000000000",
          "2023-08-01T00:00:00.000000000",
          "2023-09-01T00:00:00.000000000",
          "2023-10-01T00:00:00.000000000",
          "2023-11-01T00:00:00.000000000",
          "2023-12-01T00:00:00.000000000",
          "2024-01-01T00:00:00.000000000",
          "2024-02-01T00:00:00.000000000",
          "2024-03-01T00:00:00.000000000",
          "2024-04-01T00:00:00.000000000",
          "2024-05-01T00:00:00.000000000",
          "2024-06-01T00:00:00.000000000",
          "2024-07-01T00:00:00.000000000",
          "2024-08-01T00:00:00.000000000",
          "2024-09-01T00:00:00.000000000",
          "2024-10-01T00:00:00.000000000",
          "2024-11-01T00:00:00.000000000",
          "2024-12-01T00:00:00.000000000",
          "2025-01-01T00:00:00.000000000",
          "2025-02-01T00:00:00.000000000",
          "2025-03-01T00:00:00.000000000",
          "2025-04-01T00:00:00.000000000",
          "2025-05-01T00:00:00.000000000",
          "2025-06-01T00:00:00.000000000",
          "2025-07-01T00:00:00.000000000"
         ],
         "y": {
          "bdata": "vMvFBc7vg0F/GCH3XsuBQd8yJ0Awn4FBeqVsqJVdgkG2Z9YrzpKDQZcc98Ar/4NBur2kjVuFg0HnNfbNLyWDQSQQ726FZYBB66gq8G/NgEE5St6Y0sF+Qe+nhryjgIFBYkpkCh85g0ESFP+kmxSBQV0WE7AcroNB3c0To6cbgEFoBYZe2B2BQfYoHABrVoJBJ6UgnpGZgUGUwVFSjxqBQRQ6r3C66X5B1LcMd/POgEFFDSZUJOd/QQw8t+tKiYFBychZqa2agkEwhnKCnsyBQaUsQ0AVV4FB2lofdBk/gEF8YXJZxNyAQUjEVHr57oJBqprg0gfggUEMWd191r2BQW67UEAUU39BswdatVeLfUHNkoDSmuF+QcWPcfgxB4FBfjWHONnqgUFk5Ow1oe2AQd5U5IcO/oFBwyreWu/rf0HU8RjwM0qBQeC+DvT4ZIFBl1aDOCntgkFtyhWR+S6AQSjVPlz/mHtBLjlu7RP0fUHsTKHA7oJ7QXzyMACdlH9BKA8LuQkOgkGNtNT99h59Qc9mlcE1p4FBCHenQjddgEEzxPErWM2BQZj6+emoIYFBLPFALlO1gUHwaOOyAwmAQWa9GLry5n5By2LiyP7QfUFgVNI4ZNd5Qfj8MC5Zxn5BD5eclUG+gEFbJViw/h58Qa/OMWomi35B0Sfy9AL6fUE6tEjoZLiBQfil/jsf5X9BaFx42l62gEHRdDav6XGBQTYawOpX/3tBL8A+T80ufEH6JzhmB0t8QSigCcZlyntBNxpA6TE1f0FAwUUbeBt+QRGq1Bnc3n9By6FFSGkofkH6ZtveJUCCQZxQCHzXkINBmnwz2wCBg0HLZ3nRvBR/QWe4gZGHc3xBPQ/um7iveEH4Tsz5jHt6QZjdEwCOY3pBrWlepG6qfEHItaHPSGh6QT6Rp0gcfn9Bp+jIchaif0FbziUcKLiAQVndqoSRrIFB5biTHHQhgkE=",
          "dtype": "f8"
         }
        },
        {
         "mode": "lines+markers",
         "name": "SA Non-Renewables",
         "type": "scatter",
         "x": [
          "2018-01-01T00:00:00.000000000",
          "2018-02-01T00:00:00.000000000",
          "2018-03-01T00:00:00.000000000",
          "2018-04-01T00:00:00.000000000",
          "2018-05-01T00:00:00.000000000",
          "2018-06-01T00:00:00.000000000",
          "2018-07-01T00:00:00.000000000",
          "2018-08-01T00:00:00.000000000",
          "2018-09-01T00:00:00.000000000",
          "2018-10-01T00:00:00.000000000",
          "2018-11-01T00:00:00.000000000",
          "2018-12-01T00:00:00.000000000",
          "2019-01-01T00:00:00.000000000",
          "2019-02-01T00:00:00.000000000",
          "2019-03-01T00:00:00.000000000",
          "2019-04-01T00:00:00.000000000",
          "2019-05-01T00:00:00.000000000",
          "2019-06-01T00:00:00.000000000",
          "2019-07-01T00:00:00.000000000",
          "2019-08-01T00:00:00.000000000",
          "2019-09-01T00:00:00.000000000",
          "2019-10-01T00:00:00.000000000",
          "2019-11-01T00:00:00.000000000",
          "2019-12-01T00:00:00.000000000",
          "2020-01-01T00:00:00.000000000",
          "2020-02-01T00:00:00.000000000",
          "2020-03-01T00:00:00.000000000",
          "2020-04-01T00:00:00.000000000",
          "2020-05-01T00:00:00.000000000",
          "2020-06-01T00:00:00.000000000",
          "2020-07-01T00:00:00.000000000",
          "2020-08-01T00:00:00.000000000",
          "2020-09-01T00:00:00.000000000",
          "2020-10-01T00:00:00.000000000",
          "2020-11-01T00:00:00.000000000",
          "2020-12-01T00:00:00.000000000",
          "2021-01-01T00:00:00.000000000",
          "2021-02-01T00:00:00.000000000",
          "2021-03-01T00:00:00.000000000",
          "2021-04-01T00:00:00.000000000",
          "2021-05-01T00:00:00.000000000",
          "2021-06-01T00:00:00.000000000",
          "2021-07-01T00:00:00.000000000",
          "2021-08-01T00:00:00.000000000",
          "2021-09-01T00:00:00.000000000",
          "2021-10-01T00:00:00.000000000",
          "2021-11-01T00:00:00.000000000",
          "2021-12-01T00:00:00.000000000",
          "2022-01-01T00:00:00.000000000",
          "2022-02-01T00:00:00.000000000",
          "2022-03-01T00:00:00.000000000",
          "2022-04-01T00:00:00.000000000",
          "2022-05-01T00:00:00.000000000",
          "2022-06-01T00:00:00.000000000",
          "2022-07-01T00:00:00.000000000",
          "2022-08-01T00:00:00.000000000",
          "2022-09-01T00:00:00.000000000",
          "2022-10-01T00:00:00.000000000",
          "2022-11-01T00:00:00.000000000",
          "2022-12-01T00:00:00.000000000",
          "2023-01-01T00:00:00.000000000",
          "2023-02-01T00:00:00.000000000",
          "2023-03-01T00:00:00.000000000",
          "2023-04-01T00:00:00.000000000",
          "2023-05-01T00:00:00.000000000",
          "2023-06-01T00:00:00.000000000",
          "2023-07-01T00:00:00.000000000",
          "2023-08-01T00:00:00.000000000",
          "2023-09-01T00:00:00.000000000",
          "2023-10-01T00:00:00.000000000",
          "2023-11-01T00:00:00.000000000",
          "2023-12-01T00:00:00.000000000",
          "2024-01-01T00:00:00.000000000",
          "2024-02-01T00:00:00.000000000",
          "2024-03-01T00:00:00.000000000",
          "2024-04-01T00:00:00.000000000",
          "2024-05-01T00:00:00.000000000",
          "2024-06-01T00:00:00.000000000",
          "2024-07-01T00:00:00.000000000",
          "2024-08-01T00:00:00.000000000",
          "2024-09-01T00:00:00.000000000",
          "2024-10-01T00:00:00.000000000",
          "2024-11-01T00:00:00.000000000",
          "2024-12-01T00:00:00.000000000",
          "2025-01-01T00:00:00.000000000",
          "2025-02-01T00:00:00.000000000",
          "2025-03-01T00:00:00.000000000",
          "2025-04-01T00:00:00.000000000",
          "2025-05-01T00:00:00.000000000",
          "2025-06-01T00:00:00.000000000",
          "2025-07-01T00:00:00.000000000"
         ],
         "y": {
          "bdata": "aMu58i3wW0E8oGzOwehYQWB2T27LglZBNrBVFnjiVEGMvoLgCvFQQc+9h0/QQ1ZBhV/qk3ZIV0EDCYqvnUFXQW0hyE/jF1dBjx6/H2HpVUHohxGWHUFUQUok0XtlXlRB1pC4okULYEGiI7nuI0ZYQVrTvIGBTltBdv2CsZugVUFOet+KCzZYQTJ3LXEEp1tBx/SEmZxyWUFJ9DI+NthaQSkdrA/GBVpB2gOtzrujWEHcY+lj6Z5SQRueXqMarFVBTGw+yKUWU0EZraNOAOpVQb5NfyzbwFJBUps4LxpGUkHqPgAnvwtXQfeSxuarsVhBYMjqoPMmYUGHvyZN051ZQWn7V8hDB1FBATCe2/S/UkHItaHsVO5RQSFUqTXxM0tBrBxahOcyS0GjtDe8iCxIQbGKN6Zg9ktBfoy5qUbYUUHePNU989xUQQ6+MH8GbVhBNDMz+5W3VkGv6xdcIn5WQR0DshVNtVBBwD46SV/gSEHkTumY3wFGQVCqffafbkRBeY1dkgcoSkHp7GTgG7RFQfMC7Cc/vEhBHqfo4LaxSkH5iJhMnflRQZVliAvzyVhBu3mqWexTW0FBSBZWvl9QQdDtJZEWA0tB0a5Chnm7RkE1QdRd8+VFQf+ye8Jdiz1BILWJO+qyQ0EpXI9WVwBDQciwisOOz0hBEY3uWNzOSkG+2eYSrLBUQUOoUmMuHExBVwkWp8b9S0G9xi6vFKJRQeRJ0n1OUkNBnwJgtL9KO0F7LH3kYlRBQYFbd7NDEUBBqFKzVwGYP0H6sx+Bv0NCQZRliB8m/EdBHxFTsqiETEGDixWVvlpUQblOI8H061hBGxL36vN+VUGy+bhC74BPQW+Z09Wp5zxBW5TZwGSnOEEBTYQh9ZZFQVu21uubskJBQbyuF6WsQUGkNnGeiRBDQdb/OXykwUNB+BkXDqIRR0EIlE3x6upNQSJxjxcxUVVBJEBNBwUrUkE=",
          "dtype": "f8"
         }
        },
        {
         "mode": "lines+markers",
         "name": "TAS Non-Renewables",
         "type": "scatter",
         "x": [
          "2018-01-01T00:00:00.000000000",
          "2018-02-01T00:00:00.000000000",
          "2018-03-01T00:00:00.000000000",
          "2018-04-01T00:00:00.000000000",
          "2018-05-01T00:00:00.000000000",
          "2018-06-01T00:00:00.000000000",
          "2018-07-01T00:00:00.000000000",
          "2018-08-01T00:00:00.000000000",
          "2018-09-01T00:00:00.000000000",
          "2018-10-01T00:00:00.000000000",
          "2018-11-01T00:00:00.000000000",
          "2018-12-01T00:00:00.000000000",
          "2019-01-01T00:00:00.000000000",
          "2019-02-01T00:00:00.000000000",
          "2019-03-01T00:00:00.000000000",
          "2019-04-01T00:00:00.000000000",
          "2019-05-01T00:00:00.000000000",
          "2019-06-01T00:00:00.000000000",
          "2019-07-01T00:00:00.000000000",
          "2019-08-01T00:00:00.000000000",
          "2019-09-01T00:00:00.000000000",
          "2019-10-01T00:00:00.000000000",
          "2019-11-01T00:00:00.000000000",
          "2019-12-01T00:00:00.000000000",
          "2020-01-01T00:00:00.000000000",
          "2020-02-01T00:00:00.000000000",
          "2020-03-01T00:00:00.000000000",
          "2020-04-01T00:00:00.000000000",
          "2020-05-01T00:00:00.000000000",
          "2020-06-01T00:00:00.000000000",
          "2020-07-01T00:00:00.000000000",
          "2020-08-01T00:00:00.000000000",
          "2020-09-01T00:00:00.000000000",
          "2020-10-01T00:00:00.000000000",
          "2020-11-01T00:00:00.000000000",
          "2020-12-01T00:00:00.000000000",
          "2021-01-01T00:00:00.000000000",
          "2021-02-01T00:00:00.000000000",
          "2021-03-01T00:00:00.000000000",
          "2021-04-01T00:00:00.000000000",
          "2021-05-01T00:00:00.000000000",
          "2021-06-01T00:00:00.000000000",
          "2021-07-01T00:00:00.000000000",
          "2021-08-01T00:00:00.000000000",
          "2021-09-01T00:00:00.000000000",
          "2021-10-01T00:00:00.000000000",
          "2021-11-01T00:00:00.000000000",
          "2021-12-01T00:00:00.000000000",
          "2022-01-01T00:00:00.000000000",
          "2022-02-01T00:00:00.000000000",
          "2022-03-01T00:00:00.000000000",
          "2022-04-01T00:00:00.000000000",
          "2022-05-01T00:00:00.000000000",
          "2022-06-01T00:00:00.000000000",
          "2022-07-01T00:00:00.000000000",
          "2022-08-01T00:00:00.000000000",
          "2022-09-01T00:00:00.000000000",
          "2022-10-01T00:00:00.000000000",
          "2022-11-01T00:00:00.000000000",
          "2022-12-01T00:00:00.000000000",
          "2023-01-01T00:00:00.000000000",
          "2023-02-01T00:00:00.000000000",
          "2023-03-01T00:00:00.000000000",
          "2023-04-01T00:00:00.000000000",
          "2023-05-01T00:00:00.000000000",
          "2023-06-01T00:00:00.000000000",
          "2023-07-01T00:00:00.000000000",
          "2023-08-01T00:00:00.000000000",
          "2023-09-01T00:00:00.000000000",
          "2023-10-01T00:00:00.000000000",
          "2023-11-01T00:00:00.000000000",
          "2023-12-01T00:00:00.000000000",
          "2024-01-01T00:00:00.000000000",
          "2024-02-01T00:00:00.000000000",
          "2024-03-01T00:00:00.000000000",
          "2024-04-01T00:00:00.000000000",
          "2024-05-01T00:00:00.000000000",
          "2024-06-01T00:00:00.000000000",
          "2024-07-01T00:00:00.000000000",
          "2024-08-01T00:00:00.000000000",
          "2024-09-01T00:00:00.000000000",
          "2024-10-01T00:00:00.000000000",
          "2024-11-01T00:00:00.000000000",
          "2024-12-01T00:00:00.000000000",
          "2025-01-01T00:00:00.000000000",
          "2025-02-01T00:00:00.000000000",
          "2025-03-01T00:00:00.000000000",
          "2025-04-01T00:00:00.000000000",
          "2025-05-01T00:00:00.000000000",
          "2025-06-01T00:00:00.000000000",
          "2025-07-01T00:00:00.000000000"
         ],
         "y": {
          "bdata": "kQpjQ9O9O0Fi83FlNlw4QUZfQdrLmTZBHVpkO2j+6UBLWYY4vou6QIE+kSfCsOxArYvbaEQdyEBJnYCGiO8XQbKd76cDAvVAOxkc5fYHDEFUqdlDhAcHQY20VN41Nu5AGD4ixj4DFkF1yM040jszQS7nUsyNZCtB7gin5e73LUHtR4roE1cwQQ5nfvWt6gtBIzKsIhiNDUFLH7qgndIFQXYaaakceMNADaZhOE64DUGJ78QsFqj4QKwcWmTI+fdA8KKvINmZ6kBJaMu557vjQOYF2EfnoZBA7MA5Ixgx0UAIILWJvNvkQKLuA5BXygBBFCLgEDrgEEEQO1OotwASQdj1C3Y45+tA6J/gYoU05EBRa5p3/5z3QKTH721GGMhAYvNxbShB1UCamZmZGYCrQE5/9iONY7BAyCQjZwtF1EBkBipjHNP2QK4NFeNnbvdA2o8UkSmKvkAzMzMzYw/WwNPZyeBUbsXAexSuR8GDycA8MevFwCfWwHsUrkcRQdfArg0V48DG1kCtUQ/RxG/iQD7QCgy8ffVAflcEP/KQFkGrWz0n+mvqQM8UOq+xYuJAiUFg5RAb20CTGASWIFoDQV0bKkZZHvdA8l61cufeCEH4U+OlHS/XQIZVvJFdk9ZAuECCYgoc80DWc9L7oLvXQGebG1Put/ZArvVFwqSl80B/arx0jbfxQILF4cz0CPFAkpbK28aL4ECKAn0i5vr2QP3epj8yqO1AMo/8wXSd4EDt0/GYlavbQDKUE21iKPVADwu1pkDiAkEDYDyDfGPlQCGTjJzbW9RAQKTfvlp860AeM1A59bUlQd8Vwf86EzZB7WRwzEN1NUF/vFelAmM0QbvtQnMxYtJAsktUb7Lh40Aprir7MGvZQDVj0XTGH9FA9l0R/Byf4UBPkq4Z9tfwQCYZOYssaPpAhZSf1DMn+0AqdF4jACgIQQt72uHA7gtBopxoF+suBkE=",
          "dtype": "f8"
         }
        }
       ],
       "layout": {
        "template": {
         "data": {
          "bar": [
           {
            "error_x": {
             "color": "#2a3f5f"
            },
            "error_y": {
             "color": "#2a3f5f"
            },
            "marker": {
             "line": {
              "color": "#E5ECF6",
              "width": 0.5
             },
             "pattern": {
              "fillmode": "overlay",
              "size": 10,
              "solidity": 0.2
             }
            },
            "type": "bar"
           }
          ],
          "barpolar": [
           {
            "marker": {
             "line": {
              "color": "#E5ECF6",
              "width": 0.5
             },
             "pattern": {
              "fillmode": "overlay",
              "size": 10,
              "solidity": 0.2
             }
            },
            "type": "barpolar"
           }
          ],
          "carpet": [
           {
            "aaxis": {
             "endlinecolor": "#2a3f5f",
             "gridcolor": "white",
             "linecolor": "white",
             "minorgridcolor": "white",
             "startlinecolor": "#2a3f5f"
            },
            "baxis": {
             "endlinecolor": "#2a3f5f",
             "gridcolor": "white",
             "linecolor": "white",
             "minorgridcolor": "white",
             "startlinecolor": "#2a3f5f"
            },
            "type": "carpet"
           }
          ],
          "choropleth": [
           {
            "colorbar": {
             "outlinewidth": 0,
             "ticks": ""
            },
            "type": "choropleth"
           }
          ],
          "contour": [
           {
            "colorbar": {
             "outlinewidth": 0,
             "ticks": ""
            },
            "colorscale": [
             [
              0,
              "#0d0887"
             ],
             [
              0.1111111111111111,
              "#46039f"
             ],
             [
              0.2222222222222222,
              "#7201a8"
             ],
             [
              0.3333333333333333,
              "#9c179e"
             ],
             [
              0.4444444444444444,
              "#bd3786"
             ],
             [
              0.5555555555555556,
              "#d8576b"
             ],
             [
              0.6666666666666666,
              "#ed7953"
             ],
             [
              0.7777777777777778,
              "#fb9f3a"
             ],
             [
              0.8888888888888888,
              "#fdca26"
             ],
             [
              1,
              "#f0f921"
             ]
            ],
            "type": "contour"
           }
          ],
          "contourcarpet": [
           {
            "colorbar": {
             "outlinewidth": 0,
             "ticks": ""
            },
            "type": "contourcarpet"
           }
          ],
          "heatmap": [
           {
            "colorbar": {
             "outlinewidth": 0,
             "ticks": ""
            },
            "colorscale": [
             [
              0,
              "#0d0887"
             ],
             [
              0.1111111111111111,
              "#46039f"
             ],
             [
              0.2222222222222222,
              "#7201a8"
             ],
             [
              0.3333333333333333,
              "#9c179e"
             ],
             [
              0.4444444444444444,
              "#bd3786"
             ],
             [
              0.5555555555555556,
              "#d8576b"
             ],
             [
              0.6666666666666666,
              "#ed7953"
             ],
             [
              0.7777777777777778,
              "#fb9f3a"
             ],
             [
              0.8888888888888888,
              "#fdca26"
             ],
             [
              1,
              "#f0f921"
             ]
            ],
            "type": "heatmap"
           }
          ],
          "histogram": [
           {
            "marker": {
             "pattern": {
              "fillmode": "overlay",
              "size": 10,
              "solidity": 0.2
             }
            },
            "type": "histogram"
           }
          ],
          "histogram2d": [
           {
            "colorbar": {
             "outlinewidth": 0,
             "ticks": ""
            },
            "colorscale": [
             [
              0,
              "#0d0887"
             ],
             [
              0.1111111111111111,
              "#46039f"
             ],
             [
              0.2222222222222222,
              "#7201a8"
             ],
             [
              0.3333333333333333,
              "#9c179e"
             ],
             [
              0.4444444444444444,
              "#bd3786"
             ],
             [
              0.5555555555555556,
              "#d8576b"
             ],
             [
              0.6666666666666666,
              "#ed7953"
             ],
             [
              0.7777777777777778,
              "#fb9f3a"
             ],
             [
              0.8888888888888888,
              "#fdca26"
             ],
             [
              1,
              "#f0f921"
             ]
            ],
            "type": "histogram2d"
           }
          ],
          "histogram2dcontour": [
           {
            "colorbar": {
             "outlinewidth": 0,
             "ticks": ""
            },
            "colorscale": [
             [
              0,
              "#0d0887"
             ],
             [
              0.1111111111111111,
              "#46039f"
             ],
             [
              0.2222222222222222,
              "#7201a8"
             ],
             [
              0.3333333333333333,
              "#9c179e"
             ],
             [
              0.4444444444444444,
              "#bd3786"
             ],
             [
              0.5555555555555556,
              "#d8576b"
             ],
             [
              0.6666666666666666,
              "#ed7953"
             ],
             [
              0.7777777777777778,
              "#fb9f3a"
             ],
             [
              0.8888888888888888,
              "#fdca26"
             ],
             [
              1,
              "#f0f921"
             ]
            ],
            "type": "histogram2dcontour"
           }
          ],
          "mesh3d": [
           {
            "colorbar": {
             "outlinewidth": 0,
             "ticks": ""
            },
            "type": "mesh3d"
           }
          ],
          "parcoords": [
           {
            "line": {
             "colorbar": {
              "outlinewidth": 0,
              "ticks": ""
             }
            },
            "type": "parcoords"
           }
          ],
          "pie": [
           {
            "automargin": true,
            "type": "pie"
           }
          ],
          "scatter": [
           {
            "fillpattern": {
             "fillmode": "overlay",
             "size": 10,
             "solidity": 0.2
            },
            "type": "scatter"
           }
          ],
          "scatter3d": [
           {
            "line": {
             "colorbar": {
              "outlinewidth": 0,
              "ticks": ""
             }
            },
            "marker": {
             "colorbar": {
              "outlinewidth": 0,
              "ticks": ""
             }
            },
            "type": "scatter3d"
           }
          ],
          "scattercarpet": [
           {
            "marker": {
             "colorbar": {
              "outlinewidth": 0,
              "ticks": ""
             }
            },
            "type": "scattercarpet"
           }
          ],
          "scattergeo": [
           {
            "marker": {
             "colorbar": {
              "outlinewidth": 0,
              "ticks": ""
             }
            },
            "type": "scattergeo"
           }
          ],
          "scattergl": [
           {
            "marker": {
             "colorbar": {
              "outlinewidth": 0,
              "ticks": ""
             }
            },
            "type": "scattergl"
           }
          ],
          "scattermap": [
           {
            "marker": {
             "colorbar": {
              "outlinewidth": 0,
              "ticks": ""
             }
            },
            "type": "scattermap"
           }
          ],
          "scattermapbox": [
           {
            "marker": {
             "colorbar": {
              "outlinewidth": 0,
              "ticks": ""
             }
            },
            "type": "scattermapbox"
           }
          ],
          "scatterpolar": [
           {
            "marker": {
             "colorbar": {
              "outlinewidth": 0,
              "ticks": ""
             }
            },
            "type": "scatterpolar"
           }
          ],
          "scatterpolargl": [
           {
            "marker": {
             "colorbar": {
              "outlinewidth": 0,
              "ticks": ""
             }
            },
            "type": "scatterpolargl"
           }
          ],
          "scatterternary": [
           {
            "marker": {
             "colorbar": {
              "outlinewidth": 0,
              "ticks": ""
             }
            },
            "type": "scatterternary"
           }
          ],
          "surface": [
           {
            "colorbar": {
             "outlinewidth": 0,
             "ticks": ""
            },
            "colorscale": [
             [
              0,
              "#0d0887"
             ],
             [
              0.1111111111111111,
              "#46039f"
             ],
             [
              0.2222222222222222,
              "#7201a8"
             ],
             [
              0.3333333333333333,
              "#9c179e"
             ],
             [
              0.4444444444444444,
              "#bd3786"
             ],
             [
              0.5555555555555556,
              "#d8576b"
             ],
             [
              0.6666666666666666,
              "#ed7953"
             ],
             [
              0.7777777777777778,
              "#fb9f3a"
             ],
             [
              0.8888888888888888,
              "#fdca26"
             ],
             [
              1,
              "#f0f921"
             ]
            ],
            "type": "surface"
           }
          ],
          "table": [
           {
            "cells": {
             "fill": {
              "color": "#EBF0F8"
             },
             "line": {
              "color": "white"
             }
            },
            "header": {
             "fill": {
              "color": "#C8D4E3"
             },
             "line": {
              "color": "white"
             }
            },
            "type": "table"
           }
          ]
         },
         "layout": {
          "annotationdefaults": {
           "arrowcolor": "#2a3f5f",
           "arrowhead": 0,
           "arrowwidth": 1
          },
          "autotypenumbers": "strict",
          "coloraxis": {
           "colorbar": {
            "outlinewidth": 0,
            "ticks": ""
           }
          },
          "colorscale": {
           "diverging": [
            [
             0,
             "#8e0152"
            ],
            [
             0.1,
             "#c51b7d"
            ],
            [
             0.2,
             "#de77ae"
            ],
            [
             0.3,
             "#f1b6da"
            ],
            [
             0.4,
             "#fde0ef"
            ],
            [
             0.5,
             "#f7f7f7"
            ],
            [
             0.6,
             "#e6f5d0"
            ],
            [
             0.7,
             "#b8e186"
            ],
            [
             0.8,
             "#7fbc41"
            ],
            [
             0.9,
             "#4d9221"
            ],
            [
             1,
             "#276419"
            ]
           ],
           "sequential": [
            [
             0,
             "#0d0887"
            ],
            [
             0.1111111111111111,
             "#46039f"
            ],
            [
             0.2222222222222222,
             "#7201a8"
            ],
            [
             0.3333333333333333,
             "#9c179e"
            ],
            [
             0.4444444444444444,
             "#bd3786"
            ],
            [
             0.5555555555555556,
             "#d8576b"
            ],
            [
             0.6666666666666666,
             "#ed7953"
            ],
            [
             0.7777777777777778,
             "#fb9f3a"
            ],
            [
             0.8888888888888888,
             "#fdca26"
            ],
            [
             1,
             "#f0f921"
            ]
           ],
           "sequentialminus": [
            [
             0,
             "#0d0887"
            ],
            [
             0.1111111111111111,
             "#46039f"
            ],
            [
             0.2222222222222222,
             "#7201a8"
            ],
            [
             0.3333333333333333,
             "#9c179e"
            ],
            [
             0.4444444444444444,
             "#bd3786"
            ],
            [
             0.5555555555555556,
             "#d8576b"
            ],
            [
             0.6666666666666666,
             "#ed7953"
            ],
            [
             0.7777777777777778,
             "#fb9f3a"
            ],
            [
             0.8888888888888888,
             "#fdca26"
            ],
            [
             1,
             "#f0f921"
            ]
           ]
          },
          "colorway": [
           "#636efa",
           "#EF553B",
           "#00cc96",
           "#ab63fa",
           "#FFA15A",
           "#19d3f3",
           "#FF6692",
           "#B6E880",
           "#FF97FF",
           "#FECB52"
          ],
          "font": {
           "color": "#2a3f5f"
          },
          "geo": {
           "bgcolor": "white",
           "lakecolor": "white",
           "landcolor": "#E5ECF6",
           "showlakes": true,
           "showland": true,
           "subunitcolor": "white"
          },
          "hoverlabel": {
           "align": "left"
          },
          "hovermode": "closest",
          "mapbox": {
           "style": "light"
          },
          "paper_bgcolor": "white",
          "plot_bgcolor": "#E5ECF6",
          "polar": {
           "angularaxis": {
            "gridcolor": "white",
            "linecolor": "white",
            "ticks": ""
           },
           "bgcolor": "#E5ECF6",
           "radialaxis": {
            "gridcolor": "white",
            "linecolor": "white",
            "ticks": ""
           }
          },
          "scene": {
           "xaxis": {
            "backgroundcolor": "#E5ECF6",
            "gridcolor": "white",
            "gridwidth": 2,
            "linecolor": "white",
            "showbackground": true,
            "ticks": "",
            "zerolinecolor": "white"
           },
           "yaxis": {
            "backgroundcolor": "#E5ECF6",
            "gridcolor": "white",
            "gridwidth": 2,
            "linecolor": "white",
            "showbackground": true,
            "ticks": "",
            "zerolinecolor": "white"
           },
           "zaxis": {
            "backgroundcolor": "#E5ECF6",
            "gridcolor": "white",
            "gridwidth": 2,
            "linecolor": "white",
            "showbackground": true,
            "ticks": "",
            "zerolinecolor": "white"
           }
          },
          "shapedefaults": {
           "line": {
            "color": "#2a3f5f"
           }
          },
          "ternary": {
           "aaxis": {
            "gridcolor": "white",
            "linecolor": "white",
            "ticks": ""
           },
           "baxis": {
            "gridcolor": "white",
            "linecolor": "white",
            "ticks": ""
           },
           "bgcolor": "#E5ECF6",
           "caxis": {
            "gridcolor": "white",
            "linecolor": "white",
            "ticks": ""
           }
          },
          "title": {
           "x": 0.05
          },
          "xaxis": {
           "automargin": true,
           "gridcolor": "white",
           "linecolor": "white",
           "ticks": "",
           "title": {
            "standoff": 15
           },
           "zerolinecolor": "white",
           "zerolinewidth": 2
          },
          "yaxis": {
           "automargin": true,
           "gridcolor": "white",
           "linecolor": "white",
           "ticks": "",
           "title": {
            "standoff": 15
           },
           "zerolinecolor": "white",
           "zerolinewidth": 2
          }
         }
        },
        "title": {
         "text": "Non-Renewable Energy Generation by State (2018 - 2025)"
        },
        "xaxis": {
         "title": {
          "text": "Month"
         }
        },
        "yaxis": {
         "title": {
          "text": "Generation (MWh)"
         }
        }
       }
      }
     },
     "metadata": {},
     "output_type": "display_data"
    }
   ],
   "source": [
    "fig = go.Figure()\n",
    "\n",
    "fig = fig.add_trace(go.Scatter(x=nsw_non_renewables_df['MONTH'], y=nsw_non_renewables_df['SCADAVALUE'], mode='lines+markers', name='NSW Non-Renewables'))\n",
    "fig = fig.add_trace(go.Scatter(x=qld_non_renewables_df['MONTH'], y=qld_non_renewables_df['SCADAVALUE'], mode='lines+markers', name='QLD Non-Renewables'))\n",
    "fig = fig.add_trace(go.Scatter(x=vic_non_renewables_df['MONTH'], y=vic_non_renewables_df['SCADAVALUE'], mode='lines+markers', name='VIC Non-Renewables'))\n",
    "fig = fig.add_trace(go.Scatter(x=sa_non_renewables_df['MONTH'], y=sa_non_renewables_df['SCADAVALUE'], mode='lines+markers', name='SA Non-Renewables'))\n",
    "fig = fig.add_trace(go.Scatter(x=tas_non_renewables_df['MONTH'], y=tas_non_renewables_df['SCADAVALUE'], mode='lines+markers', name='TAS Non-Renewables'))\n",
    "\n",
    "fig.update_layout(title='Non-Renewable Energy Generation by State (2018 - 2025)', xaxis_title='Month', yaxis_title='Generation (MWh)')\n",
    "fig.show()"
   ]
  },
  {
   "cell_type": "markdown",
   "id": "3cfb5564",
   "metadata": {},
   "source": [
    "Finding where the negative values are in each state and what those fuel types are"
   ]
  },
  {
   "cell_type": "code",
   "execution_count": null,
   "id": "de82dd11",
   "metadata": {},
   "outputs": [
    {
     "data": {
      "text/plain": [
       "array(['Wind - Wind', 'Fossil - Diesel', 'Fossil - Natural Gas Pipeline',\n",
       "       'Hydro - Water', nan, 'Solar - Solar',\n",
       "       'Renewable Biomass or Waste - Bagasse', 'Other - Other',\n",
       "       'Renewable Biomass or Waste - Biomass'], dtype=object)"
      ]
     },
     "execution_count": 64,
     "metadata": {},
     "output_type": "execute_result"
    }
   ],
   "source": [
    "nsw_neg_generation = nsw_data[nsw_data['SCADAVALUE'] < 0]\n",
    "nsw_neg_generation['Fuel Type'].unique()"
   ]
  },
  {
   "cell_type": "code",
   "execution_count": null,
   "id": "69a76b2e",
   "metadata": {},
   "outputs": [
    {
     "data": {
      "text/plain": [
       "array(['Wind - Wind', 'Hydro - Water', 'Fossil - Natural Gas Pipeline'],\n",
       "      dtype=object)"
      ]
     },
     "execution_count": 65,
     "metadata": {},
     "output_type": "execute_result"
    }
   ],
   "source": [
    "tas_neg_generation = tas_data[tas_data['SCADAVALUE'] < 0]\n",
    "\n",
    "tas_neg_generation['Fuel Type'].unique()"
   ]
  },
  {
   "cell_type": "code",
   "execution_count": null,
   "id": "a0929171",
   "metadata": {},
   "outputs": [
    {
     "data": {
      "text/plain": [
       "array([nan, 'Renewable Biomass or Waste - Bagasse',\n",
       "       'Fossil - Waste Coal Mine Gas', 'Hydro - Water', 'Solar - Solar',\n",
       "       'Fossil - Natural Gas Pipeline', 'Fossil - Black Coal',\n",
       "       'Fossil - Coal Seam Methane', 'Other - Other'], dtype=object)"
      ]
     },
     "execution_count": 66,
     "metadata": {},
     "output_type": "execute_result"
    }
   ],
   "source": [
    "qld_neg_generation = qld_data[qld_data['SCADAVALUE'] < 0]\n",
    "qld_neg_generation['Fuel Type'].unique()"
   ]
  },
  {
   "cell_type": "code",
   "execution_count": null,
   "id": "2a66d320",
   "metadata": {},
   "outputs": [
    {
     "data": {
      "text/plain": [
       "array(['Hydro - Water', nan, 'Wind - Wind',\n",
       "       'Fossil - Natural Gas Pipeline', 'Solar - Solar',\n",
       "       'Fossil - Brown Coal', 'Other - Other'], dtype=object)"
      ]
     },
     "execution_count": 67,
     "metadata": {},
     "output_type": "execute_result"
    }
   ],
   "source": [
    "vic_neg_generation = vic_data[vic_data['SCADAVALUE'] < 0]\n",
    "vic_neg_generation['Fuel Type'].unique()"
   ]
  },
  {
   "cell_type": "code",
   "execution_count": null,
   "id": "77e5d4bc",
   "metadata": {},
   "outputs": [
    {
     "data": {
      "text/plain": [
       "array(['Wind - Wind', 'Fossil - Diesel', nan, 'Solar - Solar',\n",
       "       'Fossil - Natural Gas Pipeline', 'Other - Other'], dtype=object)"
      ]
     },
     "execution_count": 68,
     "metadata": {},
     "output_type": "execute_result"
    }
   ],
   "source": [
    "sa_neg_generation = sa_data[sa_data['SCADAVALUE'] < 0]\n",
    "sa_neg_generation['Fuel Type'].unique()"
   ]
  },
  {
   "cell_type": "markdown",
   "id": "2828b3dd",
   "metadata": {},
   "source": [
    "### Looking at how often each of the fuel sources go negative"
   ]
  },
  {
   "cell_type": "code",
   "execution_count": null,
   "id": "796c0a96",
   "metadata": {},
   "outputs": [
    {
     "data": {
      "text/plain": [
       "Fuel Type\n",
       "Solar - Solar                           626843\n",
       "Renewable Biomass or Waste - Bagasse    545351\n",
       "Hydro - Water                           137902\n",
       "Fossil - Coal Seam Methane              107748\n",
       "Fossil - Black Coal                      81990\n",
       "Fossil - Waste Coal Mine Gas              5778\n",
       "Fossil - Natural Gas Pipeline              921\n",
       "Name: count, dtype: int64"
      ]
     },
     "execution_count": 69,
     "metadata": {},
     "output_type": "execute_result"
    }
   ],
   "source": [
    "qld_data[(qld_data['SCADAVALUE'] < 0) & (qld_data['Fuel Type'] != 'Other - Other')].dropna().reset_index(drop = True)['Fuel Type'].value_counts()"
   ]
  },
  {
   "cell_type": "code",
   "execution_count": null,
   "id": "3ec09b49",
   "metadata": {},
   "outputs": [
    {
     "data": {
      "text/plain": [
       "Fuel Type\n",
       "Fossil - Diesel                         269578\n",
       "Wind - Wind                             213921\n",
       "Solar - Solar                           160403\n",
       "Renewable Biomass or Waste - Bagasse     64222\n",
       "Hydro - Water                            40061\n",
       "Renewable Biomass or Waste - Biomass     18904\n",
       "Fossil - Natural Gas Pipeline             7130\n",
       "Name: count, dtype: int64"
      ]
     },
     "execution_count": 70,
     "metadata": {},
     "output_type": "execute_result"
    }
   ],
   "source": [
    "nsw_data[(nsw_data['SCADAVALUE'] < 0) & (nsw_data['Fuel Type'] != 'Other - Other')].dropna().reset_index(drop = True)['Fuel Type'].value_counts()"
   ]
  },
  {
   "cell_type": "code",
   "execution_count": null,
   "id": "d55dcb8b",
   "metadata": {},
   "outputs": [
    {
     "data": {
      "text/plain": [
       "Fuel Type\n",
       "Fossil - Natural Gas Pipeline    231658\n",
       "Hydro - Water                    194842\n",
       "Wind - Wind                       61894\n",
       "Name: count, dtype: int64"
      ]
     },
     "execution_count": 71,
     "metadata": {},
     "output_type": "execute_result"
    }
   ],
   "source": [
    "tas_data[(tas_data['SCADAVALUE'] < 0) & (tas_data['Fuel Type'] != 'Other - Other')].dropna().reset_index(drop = True)['Fuel Type'].value_counts()"
   ]
  },
  {
   "cell_type": "code",
   "execution_count": null,
   "id": "1c1da25f",
   "metadata": {},
   "outputs": [
    {
     "data": {
      "text/plain": [
       "Fuel Type\n",
       "Hydro - Water                    540482\n",
       "Wind - Wind                      402426\n",
       "Fossil - Natural Gas Pipeline     80906\n",
       "Solar - Solar                      3249\n",
       "Fossil - Brown Coal                   2\n",
       "Name: count, dtype: int64"
      ]
     },
     "execution_count": 72,
     "metadata": {},
     "output_type": "execute_result"
    }
   ],
   "source": [
    "vic_data[(vic_data['SCADAVALUE'] < 0) & (vic_data['Fuel Type'] != 'Other - Other')].dropna().reset_index(drop = True)['Fuel Type'].value_counts()"
   ]
  },
  {
   "cell_type": "code",
   "execution_count": null,
   "id": "7ef5ce2b",
   "metadata": {},
   "outputs": [
    {
     "data": {
      "text/plain": [
       "Fuel Type\n",
       "Wind - Wind                      571213\n",
       "Fossil - Diesel                  225660\n",
       "Fossil - Natural Gas Pipeline    129054\n",
       "Solar - Solar                    101912\n",
       "Name: count, dtype: int64"
      ]
     },
     "execution_count": 73,
     "metadata": {},
     "output_type": "execute_result"
    }
   ],
   "source": [
    "sa_data[(sa_data['SCADAVALUE'] < 0) & (sa_data['Fuel Type'] != 'Other - Other')].dropna().reset_index(drop = True)['Fuel Type'].value_counts()"
   ]
  },
  {
   "cell_type": "markdown",
   "id": "1a7f9ef7",
   "metadata": {},
   "source": [
    "Checking what the lowest values are when the generators go negative"
   ]
  },
  {
   "cell_type": "code",
   "execution_count": null,
   "id": "d6169286",
   "metadata": {},
   "outputs": [],
   "source": [
    "qld_data = qld_data.dropna(subset = ['Fuel Type']).reset_index(drop = True)\n",
    "qld_data = qld_data[qld_data['Fuel Type'] != 'Other - Other']\n",
    "\n",
    "nsw_data = nsw_data.dropna(subset = ['Fuel Type']).reset_index(drop = True)\n",
    "nsw_data = nsw_data[nsw_data['Fuel Type'] != 'Other - Other']\n",
    "\n",
    "tas_data = tas_data.dropna(subset = ['Fuel Type']).reset_index(drop = True)\n",
    "tas_data = tas_data[tas_data['Fuel Type'] != 'Other - Other']\n",
    "\n",
    "vic_data = vic_data.dropna(subset = ['Fuel Type']).reset_index(drop = True)\n",
    "vic_data = vic_data[vic_data['Fuel Type'] != 'Other - Other']\n",
    "\n",
    "sa_data = sa_data.dropna(subset = ['Fuel Type']).reset_index(drop = True)\n",
    "sa_data = sa_data[sa_data['Fuel Type'] != 'Other - Other']"
   ]
  },
  {
   "cell_type": "markdown",
   "id": "d4b4dfae",
   "metadata": {},
   "source": [
    "### Adding the Dispatch Price Data with the State Level Datasets"
   ]
  },
  {
   "cell_type": "markdown",
   "id": "d1763381",
   "metadata": {},
   "source": [
    "Function used to merge the data. The following function will do the following:\n",
    "For each of the pricing folders:\n",
    "1. Access the files within the directory\n",
    "2. Read in the csv files, only taking the `SETTLEMENTDATE`, `REGIONID` and `RRP`, dropping any NA values from those columns\n",
    "3. Convert the data type of `SETTLEMENTDATE` to datetime\n",
    "4. Check there is an even number of each region in the pricing dataframe\n",
    "5. Pd.merge the pricing data with the 5 min data\n",
    "\n",
    "It also takes in the 5 min data of the state"
   ]
  },
  {
   "cell_type": "code",
   "execution_count": null,
   "id": "887594b7",
   "metadata": {},
   "outputs": [
    {
     "name": "stdout",
     "output_type": "stream",
     "text": [
      "Converting state data SETTLEMENTDATE...\n",
      "Processing Region: QLD1\n",
      "\n",
      "Processing directory: /Users/aidanlockwood/GitHub/IFN695-Codebase/data/price/public\n"
     ]
    },
    {
     "data": {
      "application/vnd.jupyter.widget-view+json": {
       "model_id": "ae8ae93cbda1476a9d1b4deed5afe7ea",
       "version_major": 2,
       "version_minor": 0
      },
      "text/plain": [
       "Processing /Users/aidanlockwood/GitHub/IFN695-Codebase/data/price/public:   0%|          | 0/80 [00:00<?, ?it/…"
      ]
     },
     "metadata": {},
     "output_type": "display_data"
    },
    {
     "name": "stdout",
     "output_type": "stream",
     "text": [
      "\n",
      "Processing directory: /Users/aidanlockwood/GitHub/IFN695-Codebase/data/price/archived\n"
     ]
    },
    {
     "data": {
      "application/vnd.jupyter.widget-view+json": {
       "model_id": "5c8ac13e70344552917f81233dcc552a",
       "version_major": 2,
       "version_minor": 0
      },
      "text/plain": [
       "Processing /Users/aidanlockwood/GitHub/IFN695-Codebase/data/price/archived:   0%|          | 0/12 [00:00<?, ?i…"
      ]
     },
     "metadata": {},
     "output_type": "display_data"
    },
    {
     "name": "stdout",
     "output_type": "stream",
     "text": [
      "Converting state data SETTLEMENTDATE...\n",
      "Processing Region: NSW1\n",
      "\n",
      "Processing directory: /Users/aidanlockwood/GitHub/IFN695-Codebase/data/price/public\n"
     ]
    },
    {
     "data": {
      "application/vnd.jupyter.widget-view+json": {
       "model_id": "d7821b2cd6b340f7aca9c07220361c6d",
       "version_major": 2,
       "version_minor": 0
      },
      "text/plain": [
       "Processing /Users/aidanlockwood/GitHub/IFN695-Codebase/data/price/public:   0%|          | 0/80 [00:00<?, ?it/…"
      ]
     },
     "metadata": {},
     "output_type": "display_data"
    },
    {
     "name": "stdout",
     "output_type": "stream",
     "text": [
      "\n",
      "Processing directory: /Users/aidanlockwood/GitHub/IFN695-Codebase/data/price/archived\n"
     ]
    },
    {
     "data": {
      "application/vnd.jupyter.widget-view+json": {
       "model_id": "ef4daeff6df4441185cdc83f867a2ce9",
       "version_major": 2,
       "version_minor": 0
      },
      "text/plain": [
       "Processing /Users/aidanlockwood/GitHub/IFN695-Codebase/data/price/archived:   0%|          | 0/12 [00:00<?, ?i…"
      ]
     },
     "metadata": {},
     "output_type": "display_data"
    },
    {
     "name": "stdout",
     "output_type": "stream",
     "text": [
      "Converting state data SETTLEMENTDATE...\n",
      "Processing Region: SA1\n",
      "\n",
      "Processing directory: /Users/aidanlockwood/GitHub/IFN695-Codebase/data/price/public\n"
     ]
    },
    {
     "data": {
      "application/vnd.jupyter.widget-view+json": {
       "model_id": "a63c706e02994c5882e030adbd6d9e1a",
       "version_major": 2,
       "version_minor": 0
      },
      "text/plain": [
       "Processing /Users/aidanlockwood/GitHub/IFN695-Codebase/data/price/public:   0%|          | 0/80 [00:00<?, ?it/…"
      ]
     },
     "metadata": {},
     "output_type": "display_data"
    },
    {
     "name": "stdout",
     "output_type": "stream",
     "text": [
      "\n",
      "Processing directory: /Users/aidanlockwood/GitHub/IFN695-Codebase/data/price/archived\n"
     ]
    },
    {
     "data": {
      "application/vnd.jupyter.widget-view+json": {
       "model_id": "9faba101ce37464d87046ecb301207e1",
       "version_major": 2,
       "version_minor": 0
      },
      "text/plain": [
       "Processing /Users/aidanlockwood/GitHub/IFN695-Codebase/data/price/archived:   0%|          | 0/12 [00:00<?, ?i…"
      ]
     },
     "metadata": {},
     "output_type": "display_data"
    },
    {
     "name": "stdout",
     "output_type": "stream",
     "text": [
      "Converting state data SETTLEMENTDATE...\n",
      "Processing Region: TAS1\n",
      "\n",
      "Processing directory: /Users/aidanlockwood/GitHub/IFN695-Codebase/data/price/public\n"
     ]
    },
    {
     "data": {
      "application/vnd.jupyter.widget-view+json": {
       "model_id": "ae330cf7807140c580e22c97a6568c32",
       "version_major": 2,
       "version_minor": 0
      },
      "text/plain": [
       "Processing /Users/aidanlockwood/GitHub/IFN695-Codebase/data/price/public:   0%|          | 0/80 [00:00<?, ?it/…"
      ]
     },
     "metadata": {},
     "output_type": "display_data"
    },
    {
     "name": "stdout",
     "output_type": "stream",
     "text": [
      "\n",
      "Processing directory: /Users/aidanlockwood/GitHub/IFN695-Codebase/data/price/archived\n"
     ]
    },
    {
     "data": {
      "application/vnd.jupyter.widget-view+json": {
       "model_id": "d07064135d084c799320be24dcead0f2",
       "version_major": 2,
       "version_minor": 0
      },
      "text/plain": [
       "Processing /Users/aidanlockwood/GitHub/IFN695-Codebase/data/price/archived:   0%|          | 0/12 [00:00<?, ?i…"
      ]
     },
     "metadata": {},
     "output_type": "display_data"
    }
   ],
   "source": [
    "qld_data_price, qld_pricing_dict = merge_price_data_fixed(qld_data)\n",
    "nsw_data_price, nsw_pricing_dict = merge_price_data_fixed(nsw_data)\n",
    "sa_data_price, sa_pricing_dict = merge_price_data_fixed(sa_data)\n",
    "tas_data_price, tas_pricing_dict = merge_price_data_fixed(tas_data)\n",
    "vic_data_price, vic_pricing_dict = merge_price_data_fixed(vic_data)"
   ]
  },
  {
   "cell_type": "markdown",
   "id": "699dc2eb",
   "metadata": {},
   "source": [
    "### Finding Evidence For Curtailment\n",
    "and whether there is a reason for this with the price controls set by AEMO"
   ]
  },
  {
   "cell_type": "code",
   "execution_count": null,
   "id": "36399edd",
   "metadata": {},
   "outputs": [
    {
     "data": {
      "text/html": [
       "<div>\n",
       "<style scoped>\n",
       "    .dataframe tbody tr th:only-of-type {\n",
       "        vertical-align: middle;\n",
       "    }\n",
       "\n",
       "    .dataframe tbody tr th {\n",
       "        vertical-align: top;\n",
       "    }\n",
       "\n",
       "    .dataframe thead th {\n",
       "        text-align: right;\n",
       "    }\n",
       "</style>\n",
       "<table border=\"1\" class=\"dataframe\">\n",
       "  <thead>\n",
       "    <tr style=\"text-align: right;\">\n",
       "      <th></th>\n",
       "      <th>SETTLEMENTDATE</th>\n",
       "      <th>DUID</th>\n",
       "      <th>SCADAVALUE</th>\n",
       "      <th>MONTH</th>\n",
       "      <th>REGIONID</th>\n",
       "      <th>Fuel Type</th>\n",
       "      <th>RRP</th>\n",
       "    </tr>\n",
       "  </thead>\n",
       "  <tbody>\n",
       "    <tr>\n",
       "      <th>0</th>\n",
       "      <td>2018-02-07 13:50:00</td>\n",
       "      <td>CAPTL_WF</td>\n",
       "      <td>0.000000</td>\n",
       "      <td>2018-02</td>\n",
       "      <td>NSW1</td>\n",
       "      <td>Wind - Wind</td>\n",
       "      <td>-0.00004</td>\n",
       "    </tr>\n",
       "    <tr>\n",
       "      <th>1</th>\n",
       "      <td>2018-02-07 13:50:00</td>\n",
       "      <td>CULLRGWF</td>\n",
       "      <td>0.000000</td>\n",
       "      <td>2018-02</td>\n",
       "      <td>NSW1</td>\n",
       "      <td>Wind - Wind</td>\n",
       "      <td>-0.00004</td>\n",
       "    </tr>\n",
       "    <tr>\n",
       "      <th>2</th>\n",
       "      <td>2018-02-07 13:50:00</td>\n",
       "      <td>ERGT01</td>\n",
       "      <td>0.000000</td>\n",
       "      <td>2018-02</td>\n",
       "      <td>NSW1</td>\n",
       "      <td>Fossil - Diesel</td>\n",
       "      <td>-0.00004</td>\n",
       "    </tr>\n",
       "    <tr>\n",
       "      <th>3</th>\n",
       "      <td>2018-02-07 13:50:00</td>\n",
       "      <td>ROYALLA1</td>\n",
       "      <td>16.801001</td>\n",
       "      <td>2018-02</td>\n",
       "      <td>NSW1</td>\n",
       "      <td>Solar - Solar</td>\n",
       "      <td>-0.00004</td>\n",
       "    </tr>\n",
       "    <tr>\n",
       "      <th>4</th>\n",
       "      <td>2018-02-07 13:50:00</td>\n",
       "      <td>BLOWERNG</td>\n",
       "      <td>0.000000</td>\n",
       "      <td>2018-02</td>\n",
       "      <td>NSW1</td>\n",
       "      <td>Hydro - Water</td>\n",
       "      <td>-0.00004</td>\n",
       "    </tr>\n",
       "    <tr>\n",
       "      <th>...</th>\n",
       "      <td>...</td>\n",
       "      <td>...</td>\n",
       "      <td>...</td>\n",
       "      <td>...</td>\n",
       "      <td>...</td>\n",
       "      <td>...</td>\n",
       "      <td>...</td>\n",
       "    </tr>\n",
       "    <tr>\n",
       "      <th>2286560</th>\n",
       "      <td>2025-07-29 13:30:00</td>\n",
       "      <td>WOODLWN1</td>\n",
       "      <td>16.176520</td>\n",
       "      <td>2025-07</td>\n",
       "      <td>NSW1</td>\n",
       "      <td>Wind - Wind</td>\n",
       "      <td>-12.00000</td>\n",
       "    </tr>\n",
       "    <tr>\n",
       "      <th>2286561</th>\n",
       "      <td>2025-07-29 13:30:00</td>\n",
       "      <td>WRSF1</td>\n",
       "      <td>8.989530</td>\n",
       "      <td>2025-07</td>\n",
       "      <td>NSW1</td>\n",
       "      <td>Solar - Solar</td>\n",
       "      <td>-12.00000</td>\n",
       "    </tr>\n",
       "    <tr>\n",
       "      <th>2286562</th>\n",
       "      <td>2025-07-29 13:30:00</td>\n",
       "      <td>WRWF1</td>\n",
       "      <td>0.000000</td>\n",
       "      <td>2025-07</td>\n",
       "      <td>NSW1</td>\n",
       "      <td>Wind - Wind</td>\n",
       "      <td>-12.00000</td>\n",
       "    </tr>\n",
       "    <tr>\n",
       "      <th>2286563</th>\n",
       "      <td>2025-07-29 13:30:00</td>\n",
       "      <td>WSTWYSF1</td>\n",
       "      <td>33.185790</td>\n",
       "      <td>2025-07</td>\n",
       "      <td>NSW1</td>\n",
       "      <td>Solar - Solar</td>\n",
       "      <td>-12.00000</td>\n",
       "    </tr>\n",
       "    <tr>\n",
       "      <th>2286564</th>\n",
       "      <td>2025-07-29 13:30:00</td>\n",
       "      <td>WYASF1</td>\n",
       "      <td>12.889000</td>\n",
       "      <td>2025-07</td>\n",
       "      <td>NSW1</td>\n",
       "      <td>Solar - Solar</td>\n",
       "      <td>-12.00000</td>\n",
       "    </tr>\n",
       "  </tbody>\n",
       "</table>\n",
       "<p>2286565 rows × 7 columns</p>\n",
       "</div>"
      ],
      "text/plain": [
       "              SETTLEMENTDATE      DUID  SCADAVALUE    MONTH REGIONID  \\\n",
       "0        2018-02-07 13:50:00  CAPTL_WF    0.000000  2018-02     NSW1   \n",
       "1        2018-02-07 13:50:00  CULLRGWF    0.000000  2018-02     NSW1   \n",
       "2        2018-02-07 13:50:00    ERGT01    0.000000  2018-02     NSW1   \n",
       "3        2018-02-07 13:50:00  ROYALLA1   16.801001  2018-02     NSW1   \n",
       "4        2018-02-07 13:50:00  BLOWERNG    0.000000  2018-02     NSW1   \n",
       "...                      ...       ...         ...      ...      ...   \n",
       "2286560  2025-07-29 13:30:00  WOODLWN1   16.176520  2025-07     NSW1   \n",
       "2286561  2025-07-29 13:30:00     WRSF1    8.989530  2025-07     NSW1   \n",
       "2286562  2025-07-29 13:30:00     WRWF1    0.000000  2025-07     NSW1   \n",
       "2286563  2025-07-29 13:30:00  WSTWYSF1   33.185790  2025-07     NSW1   \n",
       "2286564  2025-07-29 13:30:00    WYASF1   12.889000  2025-07     NSW1   \n",
       "\n",
       "               Fuel Type       RRP  \n",
       "0            Wind - Wind  -0.00004  \n",
       "1            Wind - Wind  -0.00004  \n",
       "2        Fossil - Diesel  -0.00004  \n",
       "3          Solar - Solar  -0.00004  \n",
       "4          Hydro - Water  -0.00004  \n",
       "...                  ...       ...  \n",
       "2286560      Wind - Wind -12.00000  \n",
       "2286561    Solar - Solar -12.00000  \n",
       "2286562      Wind - Wind -12.00000  \n",
       "2286563    Solar - Solar -12.00000  \n",
       "2286564    Solar - Solar -12.00000  \n",
       "\n",
       "[2286565 rows x 7 columns]"
      ]
     },
     "execution_count": 74,
     "metadata": {},
     "output_type": "execute_result"
    }
   ],
   "source": [
    "nsw_neg_price = nsw_data_price[(nsw_data_price['RRP'] < 0) & (nsw_data_price['Fuel Type'] != 'Other - Other')].dropna().reset_index(drop = True)\n",
    "nsw_neg_price"
   ]
  },
  {
   "cell_type": "code",
   "execution_count": null,
   "id": "9e553ccf",
   "metadata": {},
   "outputs": [
    {
     "data": {
      "text/html": [
       "<div>\n",
       "<style scoped>\n",
       "    .dataframe tbody tr th:only-of-type {\n",
       "        vertical-align: middle;\n",
       "    }\n",
       "\n",
       "    .dataframe tbody tr th {\n",
       "        vertical-align: top;\n",
       "    }\n",
       "\n",
       "    .dataframe thead th {\n",
       "        text-align: right;\n",
       "    }\n",
       "</style>\n",
       "<table border=\"1\" class=\"dataframe\">\n",
       "  <thead>\n",
       "    <tr style=\"text-align: right;\">\n",
       "      <th></th>\n",
       "      <th>SETTLEMENTDATE</th>\n",
       "      <th>DUID</th>\n",
       "      <th>SCADAVALUE</th>\n",
       "      <th>MONTH</th>\n",
       "      <th>REGIONID</th>\n",
       "      <th>Fuel Type</th>\n",
       "      <th>RRP</th>\n",
       "    </tr>\n",
       "  </thead>\n",
       "  <tbody>\n",
       "    <tr>\n",
       "      <th>0</th>\n",
       "      <td>2018-01-20 00:50:00</td>\n",
       "      <td>BARCSF1</td>\n",
       "      <td>0.900000</td>\n",
       "      <td>2018-01</td>\n",
       "      <td>QLD1</td>\n",
       "      <td>Solar - Solar</td>\n",
       "      <td>-1000.00</td>\n",
       "    </tr>\n",
       "    <tr>\n",
       "      <th>1</th>\n",
       "      <td>2018-01-20 00:50:00</td>\n",
       "      <td>GERMCRK</td>\n",
       "      <td>37.900002</td>\n",
       "      <td>2018-01</td>\n",
       "      <td>QLD1</td>\n",
       "      <td>Fossil - Waste Coal Mine Gas</td>\n",
       "      <td>-1000.00</td>\n",
       "    </tr>\n",
       "    <tr>\n",
       "      <th>2</th>\n",
       "      <td>2018-01-20 00:50:00</td>\n",
       "      <td>MBAHNTH</td>\n",
       "      <td>59.024994</td>\n",
       "      <td>2018-01</td>\n",
       "      <td>QLD1</td>\n",
       "      <td>Fossil - Waste Coal Mine Gas</td>\n",
       "      <td>-1000.00</td>\n",
       "    </tr>\n",
       "    <tr>\n",
       "      <th>3</th>\n",
       "      <td>2018-01-20 00:50:00</td>\n",
       "      <td>RPCG</td>\n",
       "      <td>8.100000</td>\n",
       "      <td>2018-01</td>\n",
       "      <td>QLD1</td>\n",
       "      <td>Renewable Biomass or Waste - Bagasse</td>\n",
       "      <td>-1000.00</td>\n",
       "    </tr>\n",
       "    <tr>\n",
       "      <th>4</th>\n",
       "      <td>2018-01-20 00:55:00</td>\n",
       "      <td>BARCSF1</td>\n",
       "      <td>0.900000</td>\n",
       "      <td>2018-01</td>\n",
       "      <td>QLD1</td>\n",
       "      <td>Solar - Solar</td>\n",
       "      <td>-1000.00</td>\n",
       "    </tr>\n",
       "    <tr>\n",
       "      <th>...</th>\n",
       "      <td>...</td>\n",
       "      <td>...</td>\n",
       "      <td>...</td>\n",
       "      <td>...</td>\n",
       "      <td>...</td>\n",
       "      <td>...</td>\n",
       "      <td>...</td>\n",
       "    </tr>\n",
       "    <tr>\n",
       "      <th>5023077</th>\n",
       "      <td>2025-07-31 11:05:00</td>\n",
       "      <td>WOOLGSF1</td>\n",
       "      <td>156.299990</td>\n",
       "      <td>2025-07</td>\n",
       "      <td>QLD1</td>\n",
       "      <td>Solar - Solar</td>\n",
       "      <td>-0.01</td>\n",
       "    </tr>\n",
       "    <tr>\n",
       "      <th>5023078</th>\n",
       "      <td>2025-07-31 11:05:00</td>\n",
       "      <td>YABULU</td>\n",
       "      <td>0.000000</td>\n",
       "      <td>2025-07</td>\n",
       "      <td>QLD1</td>\n",
       "      <td>Fossil - Natural Gas Pipeline</td>\n",
       "      <td>-0.01</td>\n",
       "    </tr>\n",
       "    <tr>\n",
       "      <th>5023079</th>\n",
       "      <td>2025-07-31 11:05:00</td>\n",
       "      <td>YABULU2</td>\n",
       "      <td>0.000000</td>\n",
       "      <td>2025-07</td>\n",
       "      <td>QLD1</td>\n",
       "      <td>Fossil - Natural Gas Pipeline</td>\n",
       "      <td>-0.01</td>\n",
       "    </tr>\n",
       "    <tr>\n",
       "      <th>5023080</th>\n",
       "      <td>2025-07-31 11:05:00</td>\n",
       "      <td>YARANSF1</td>\n",
       "      <td>25.500000</td>\n",
       "      <td>2025-07</td>\n",
       "      <td>QLD1</td>\n",
       "      <td>Solar - Solar</td>\n",
       "      <td>-0.01</td>\n",
       "    </tr>\n",
       "    <tr>\n",
       "      <th>5023081</th>\n",
       "      <td>2025-07-31 11:05:00</td>\n",
       "      <td>YARWUN_1</td>\n",
       "      <td>120.160000</td>\n",
       "      <td>2025-07</td>\n",
       "      <td>QLD1</td>\n",
       "      <td>Fossil - Natural Gas Pipeline</td>\n",
       "      <td>-0.01</td>\n",
       "    </tr>\n",
       "  </tbody>\n",
       "</table>\n",
       "<p>5023082 rows × 7 columns</p>\n",
       "</div>"
      ],
      "text/plain": [
       "              SETTLEMENTDATE      DUID  SCADAVALUE    MONTH REGIONID  \\\n",
       "0        2018-01-20 00:50:00   BARCSF1    0.900000  2018-01     QLD1   \n",
       "1        2018-01-20 00:50:00   GERMCRK   37.900002  2018-01     QLD1   \n",
       "2        2018-01-20 00:50:00   MBAHNTH   59.024994  2018-01     QLD1   \n",
       "3        2018-01-20 00:50:00      RPCG    8.100000  2018-01     QLD1   \n",
       "4        2018-01-20 00:55:00   BARCSF1    0.900000  2018-01     QLD1   \n",
       "...                      ...       ...         ...      ...      ...   \n",
       "5023077  2025-07-31 11:05:00  WOOLGSF1  156.299990  2025-07     QLD1   \n",
       "5023078  2025-07-31 11:05:00    YABULU    0.000000  2025-07     QLD1   \n",
       "5023079  2025-07-31 11:05:00   YABULU2    0.000000  2025-07     QLD1   \n",
       "5023080  2025-07-31 11:05:00  YARANSF1   25.500000  2025-07     QLD1   \n",
       "5023081  2025-07-31 11:05:00  YARWUN_1  120.160000  2025-07     QLD1   \n",
       "\n",
       "                                    Fuel Type      RRP  \n",
       "0                               Solar - Solar -1000.00  \n",
       "1                Fossil - Waste Coal Mine Gas -1000.00  \n",
       "2                Fossil - Waste Coal Mine Gas -1000.00  \n",
       "3        Renewable Biomass or Waste - Bagasse -1000.00  \n",
       "4                               Solar - Solar -1000.00  \n",
       "...                                       ...      ...  \n",
       "5023077                         Solar - Solar    -0.01  \n",
       "5023078         Fossil - Natural Gas Pipeline    -0.01  \n",
       "5023079         Fossil - Natural Gas Pipeline    -0.01  \n",
       "5023080                         Solar - Solar    -0.01  \n",
       "5023081         Fossil - Natural Gas Pipeline    -0.01  \n",
       "\n",
       "[5023082 rows x 7 columns]"
      ]
     },
     "execution_count": 75,
     "metadata": {},
     "output_type": "execute_result"
    }
   ],
   "source": [
    "qld_neg_price = qld_data_price[(qld_data_price['RRP'] < 0) & (qld_data_price['Fuel Type'] != 'Other - Other')].dropna().reset_index(drop = True)\n",
    "qld_neg_price"
   ]
  },
  {
   "cell_type": "code",
   "execution_count": null,
   "id": "e4638115",
   "metadata": {},
   "outputs": [
    {
     "data": {
      "text/html": [
       "<div>\n",
       "<style scoped>\n",
       "    .dataframe tbody tr th:only-of-type {\n",
       "        vertical-align: middle;\n",
       "    }\n",
       "\n",
       "    .dataframe tbody tr th {\n",
       "        vertical-align: top;\n",
       "    }\n",
       "\n",
       "    .dataframe thead th {\n",
       "        text-align: right;\n",
       "    }\n",
       "</style>\n",
       "<table border=\"1\" class=\"dataframe\">\n",
       "  <thead>\n",
       "    <tr style=\"text-align: right;\">\n",
       "      <th></th>\n",
       "      <th>SETTLEMENTDATE</th>\n",
       "      <th>DUID</th>\n",
       "      <th>SCADAVALUE</th>\n",
       "      <th>MONTH</th>\n",
       "      <th>REGIONID</th>\n",
       "      <th>Fuel Type</th>\n",
       "      <th>RRP</th>\n",
       "    </tr>\n",
       "  </thead>\n",
       "  <tbody>\n",
       "    <tr>\n",
       "      <th>0</th>\n",
       "      <td>2018-02-07 13:50:00</td>\n",
       "      <td>CLOVER</td>\n",
       "      <td>11.1500</td>\n",
       "      <td>2018-02</td>\n",
       "      <td>VIC1</td>\n",
       "      <td>Hydro - Water</td>\n",
       "      <td>-0.00004</td>\n",
       "    </tr>\n",
       "    <tr>\n",
       "      <th>1</th>\n",
       "      <td>2018-02-07 13:50:00</td>\n",
       "      <td>MLWF1</td>\n",
       "      <td>0.8550</td>\n",
       "      <td>2018-02</td>\n",
       "      <td>VIC1</td>\n",
       "      <td>Wind - Wind</td>\n",
       "      <td>-0.00004</td>\n",
       "    </tr>\n",
       "    <tr>\n",
       "      <th>2</th>\n",
       "      <td>2018-02-07 13:50:00</td>\n",
       "      <td>PORTWF</td>\n",
       "      <td>1.9000</td>\n",
       "      <td>2018-02</td>\n",
       "      <td>VIC1</td>\n",
       "      <td>Wind - Wind</td>\n",
       "      <td>-0.00004</td>\n",
       "    </tr>\n",
       "    <tr>\n",
       "      <th>3</th>\n",
       "      <td>2018-02-07 13:50:00</td>\n",
       "      <td>RUBICON</td>\n",
       "      <td>0.0000</td>\n",
       "      <td>2018-02</td>\n",
       "      <td>VIC1</td>\n",
       "      <td>Hydro - Water</td>\n",
       "      <td>-0.00004</td>\n",
       "    </tr>\n",
       "    <tr>\n",
       "      <th>4</th>\n",
       "      <td>2018-02-07 13:50:00</td>\n",
       "      <td>WAUBRAWF</td>\n",
       "      <td>5.3990</td>\n",
       "      <td>2018-02</td>\n",
       "      <td>VIC1</td>\n",
       "      <td>Wind - Wind</td>\n",
       "      <td>-0.00004</td>\n",
       "    </tr>\n",
       "    <tr>\n",
       "      <th>...</th>\n",
       "      <td>...</td>\n",
       "      <td>...</td>\n",
       "      <td>...</td>\n",
       "      <td>...</td>\n",
       "      <td>...</td>\n",
       "      <td>...</td>\n",
       "      <td>...</td>\n",
       "    </tr>\n",
       "    <tr>\n",
       "      <th>7174940</th>\n",
       "      <td>2025-07-28 13:10:00</td>\n",
       "      <td>YENDWF1</td>\n",
       "      <td>17.3900</td>\n",
       "      <td>2025-07</td>\n",
       "      <td>VIC1</td>\n",
       "      <td>Wind - Wind</td>\n",
       "      <td>-6.03388</td>\n",
       "    </tr>\n",
       "    <tr>\n",
       "      <th>7174941</th>\n",
       "      <td>2025-07-28 13:10:00</td>\n",
       "      <td>YWPS1</td>\n",
       "      <td>248.0000</td>\n",
       "      <td>2025-07</td>\n",
       "      <td>VIC1</td>\n",
       "      <td>Fossil - Brown Coal</td>\n",
       "      <td>-6.03388</td>\n",
       "    </tr>\n",
       "    <tr>\n",
       "      <th>7174942</th>\n",
       "      <td>2025-07-28 13:10:00</td>\n",
       "      <td>YWPS2</td>\n",
       "      <td>249.0000</td>\n",
       "      <td>2025-07</td>\n",
       "      <td>VIC1</td>\n",
       "      <td>Fossil - Brown Coal</td>\n",
       "      <td>-6.03388</td>\n",
       "    </tr>\n",
       "    <tr>\n",
       "      <th>7174943</th>\n",
       "      <td>2025-07-28 13:10:00</td>\n",
       "      <td>YWPS3</td>\n",
       "      <td>279.0000</td>\n",
       "      <td>2025-07</td>\n",
       "      <td>VIC1</td>\n",
       "      <td>Fossil - Brown Coal</td>\n",
       "      <td>-6.03388</td>\n",
       "    </tr>\n",
       "    <tr>\n",
       "      <th>7174944</th>\n",
       "      <td>2025-07-28 13:10:00</td>\n",
       "      <td>YWPS4</td>\n",
       "      <td>278.4375</td>\n",
       "      <td>2025-07</td>\n",
       "      <td>VIC1</td>\n",
       "      <td>Fossil - Brown Coal</td>\n",
       "      <td>-6.03388</td>\n",
       "    </tr>\n",
       "  </tbody>\n",
       "</table>\n",
       "<p>7174945 rows × 7 columns</p>\n",
       "</div>"
      ],
      "text/plain": [
       "              SETTLEMENTDATE      DUID  SCADAVALUE    MONTH REGIONID  \\\n",
       "0        2018-02-07 13:50:00    CLOVER     11.1500  2018-02     VIC1   \n",
       "1        2018-02-07 13:50:00     MLWF1      0.8550  2018-02     VIC1   \n",
       "2        2018-02-07 13:50:00    PORTWF      1.9000  2018-02     VIC1   \n",
       "3        2018-02-07 13:50:00   RUBICON      0.0000  2018-02     VIC1   \n",
       "4        2018-02-07 13:50:00  WAUBRAWF      5.3990  2018-02     VIC1   \n",
       "...                      ...       ...         ...      ...      ...   \n",
       "7174940  2025-07-28 13:10:00   YENDWF1     17.3900  2025-07     VIC1   \n",
       "7174941  2025-07-28 13:10:00     YWPS1    248.0000  2025-07     VIC1   \n",
       "7174942  2025-07-28 13:10:00     YWPS2    249.0000  2025-07     VIC1   \n",
       "7174943  2025-07-28 13:10:00     YWPS3    279.0000  2025-07     VIC1   \n",
       "7174944  2025-07-28 13:10:00     YWPS4    278.4375  2025-07     VIC1   \n",
       "\n",
       "                   Fuel Type      RRP  \n",
       "0              Hydro - Water -0.00004  \n",
       "1                Wind - Wind -0.00004  \n",
       "2                Wind - Wind -0.00004  \n",
       "3              Hydro - Water -0.00004  \n",
       "4                Wind - Wind -0.00004  \n",
       "...                      ...      ...  \n",
       "7174940          Wind - Wind -6.03388  \n",
       "7174941  Fossil - Brown Coal -6.03388  \n",
       "7174942  Fossil - Brown Coal -6.03388  \n",
       "7174943  Fossil - Brown Coal -6.03388  \n",
       "7174944  Fossil - Brown Coal -6.03388  \n",
       "\n",
       "[7174945 rows x 7 columns]"
      ]
     },
     "execution_count": 76,
     "metadata": {},
     "output_type": "execute_result"
    }
   ],
   "source": [
    "vic_neg_price = vic_data_price[(vic_data_price['RRP'] < 0) & (vic_data_price['Fuel Type'] != 'Other - Other')].dropna().reset_index(drop = True)\n",
    "vic_neg_price"
   ]
  },
  {
   "cell_type": "code",
   "execution_count": null,
   "id": "c13cab77",
   "metadata": {},
   "outputs": [
    {
     "data": {
      "text/html": [
       "<div>\n",
       "<style scoped>\n",
       "    .dataframe tbody tr th:only-of-type {\n",
       "        vertical-align: middle;\n",
       "    }\n",
       "\n",
       "    .dataframe tbody tr th {\n",
       "        vertical-align: top;\n",
       "    }\n",
       "\n",
       "    .dataframe thead th {\n",
       "        text-align: right;\n",
       "    }\n",
       "</style>\n",
       "<table border=\"1\" class=\"dataframe\">\n",
       "  <thead>\n",
       "    <tr style=\"text-align: right;\">\n",
       "      <th></th>\n",
       "      <th>SETTLEMENTDATE</th>\n",
       "      <th>DUID</th>\n",
       "      <th>SCADAVALUE</th>\n",
       "      <th>MONTH</th>\n",
       "      <th>REGIONID</th>\n",
       "      <th>Fuel Type</th>\n",
       "      <th>RRP</th>\n",
       "    </tr>\n",
       "  </thead>\n",
       "  <tbody>\n",
       "    <tr>\n",
       "      <th>0</th>\n",
       "      <td>2018-01-13 12:00:00</td>\n",
       "      <td>CATHROCK</td>\n",
       "      <td>25.849998</td>\n",
       "      <td>2018-01</td>\n",
       "      <td>SA1</td>\n",
       "      <td>Wind - Wind</td>\n",
       "      <td>-999.99982</td>\n",
       "    </tr>\n",
       "    <tr>\n",
       "      <th>1</th>\n",
       "      <td>2018-01-13 12:00:00</td>\n",
       "      <td>CNUNDAWF</td>\n",
       "      <td>40.447182</td>\n",
       "      <td>2018-01</td>\n",
       "      <td>SA1</td>\n",
       "      <td>Wind - Wind</td>\n",
       "      <td>-999.99982</td>\n",
       "    </tr>\n",
       "    <tr>\n",
       "      <th>2</th>\n",
       "      <td>2018-01-13 12:00:00</td>\n",
       "      <td>LKBONNY1</td>\n",
       "      <td>49.745316</td>\n",
       "      <td>2018-01</td>\n",
       "      <td>SA1</td>\n",
       "      <td>Wind - Wind</td>\n",
       "      <td>-999.99982</td>\n",
       "    </tr>\n",
       "    <tr>\n",
       "      <th>3</th>\n",
       "      <td>2018-01-13 12:00:00</td>\n",
       "      <td>MTMILLAR</td>\n",
       "      <td>35.956417</td>\n",
       "      <td>2018-01</td>\n",
       "      <td>SA1</td>\n",
       "      <td>Wind - Wind</td>\n",
       "      <td>-999.99982</td>\n",
       "    </tr>\n",
       "    <tr>\n",
       "      <th>4</th>\n",
       "      <td>2018-01-13 12:00:00</td>\n",
       "      <td>STARHLWF</td>\n",
       "      <td>23.893032</td>\n",
       "      <td>2018-01</td>\n",
       "      <td>SA1</td>\n",
       "      <td>Wind - Wind</td>\n",
       "      <td>-999.99982</td>\n",
       "    </tr>\n",
       "    <tr>\n",
       "      <th>...</th>\n",
       "      <td>...</td>\n",
       "      <td>...</td>\n",
       "      <td>...</td>\n",
       "      <td>...</td>\n",
       "      <td>...</td>\n",
       "      <td>...</td>\n",
       "      <td>...</td>\n",
       "    </tr>\n",
       "    <tr>\n",
       "      <th>7552508</th>\n",
       "      <td>2025-07-28 11:30:00</td>\n",
       "      <td>TORRB3</td>\n",
       "      <td>0.000000</td>\n",
       "      <td>2025-07</td>\n",
       "      <td>SA1</td>\n",
       "      <td>Fossil - Natural Gas Pipeline</td>\n",
       "      <td>-4.77791</td>\n",
       "    </tr>\n",
       "    <tr>\n",
       "      <th>7552509</th>\n",
       "      <td>2025-07-28 11:30:00</td>\n",
       "      <td>TORRB4</td>\n",
       "      <td>0.000000</td>\n",
       "      <td>2025-07</td>\n",
       "      <td>SA1</td>\n",
       "      <td>Fossil - Natural Gas Pipeline</td>\n",
       "      <td>-4.77791</td>\n",
       "    </tr>\n",
       "    <tr>\n",
       "      <th>7552510</th>\n",
       "      <td>2025-07-28 11:30:00</td>\n",
       "      <td>WATERLWF</td>\n",
       "      <td>33.600000</td>\n",
       "      <td>2025-07</td>\n",
       "      <td>SA1</td>\n",
       "      <td>Wind - Wind</td>\n",
       "      <td>-4.77791</td>\n",
       "    </tr>\n",
       "    <tr>\n",
       "      <th>7552511</th>\n",
       "      <td>2025-07-28 11:30:00</td>\n",
       "      <td>WGWF1</td>\n",
       "      <td>21.100000</td>\n",
       "      <td>2025-07</td>\n",
       "      <td>SA1</td>\n",
       "      <td>Wind - Wind</td>\n",
       "      <td>-4.77791</td>\n",
       "    </tr>\n",
       "    <tr>\n",
       "      <th>7552512</th>\n",
       "      <td>2025-07-28 11:30:00</td>\n",
       "      <td>WPWF</td>\n",
       "      <td>6.670000</td>\n",
       "      <td>2025-07</td>\n",
       "      <td>SA1</td>\n",
       "      <td>Wind - Wind</td>\n",
       "      <td>-4.77791</td>\n",
       "    </tr>\n",
       "  </tbody>\n",
       "</table>\n",
       "<p>7552513 rows × 7 columns</p>\n",
       "</div>"
      ],
      "text/plain": [
       "              SETTLEMENTDATE      DUID  SCADAVALUE    MONTH REGIONID  \\\n",
       "0        2018-01-13 12:00:00  CATHROCK   25.849998  2018-01      SA1   \n",
       "1        2018-01-13 12:00:00  CNUNDAWF   40.447182  2018-01      SA1   \n",
       "2        2018-01-13 12:00:00  LKBONNY1   49.745316  2018-01      SA1   \n",
       "3        2018-01-13 12:00:00  MTMILLAR   35.956417  2018-01      SA1   \n",
       "4        2018-01-13 12:00:00  STARHLWF   23.893032  2018-01      SA1   \n",
       "...                      ...       ...         ...      ...      ...   \n",
       "7552508  2025-07-28 11:30:00    TORRB3    0.000000  2025-07      SA1   \n",
       "7552509  2025-07-28 11:30:00    TORRB4    0.000000  2025-07      SA1   \n",
       "7552510  2025-07-28 11:30:00  WATERLWF   33.600000  2025-07      SA1   \n",
       "7552511  2025-07-28 11:30:00     WGWF1   21.100000  2025-07      SA1   \n",
       "7552512  2025-07-28 11:30:00      WPWF    6.670000  2025-07      SA1   \n",
       "\n",
       "                             Fuel Type        RRP  \n",
       "0                          Wind - Wind -999.99982  \n",
       "1                          Wind - Wind -999.99982  \n",
       "2                          Wind - Wind -999.99982  \n",
       "3                          Wind - Wind -999.99982  \n",
       "4                          Wind - Wind -999.99982  \n",
       "...                                ...        ...  \n",
       "7552508  Fossil - Natural Gas Pipeline   -4.77791  \n",
       "7552509  Fossil - Natural Gas Pipeline   -4.77791  \n",
       "7552510                    Wind - Wind   -4.77791  \n",
       "7552511                    Wind - Wind   -4.77791  \n",
       "7552512                    Wind - Wind   -4.77791  \n",
       "\n",
       "[7552513 rows x 7 columns]"
      ]
     },
     "execution_count": 77,
     "metadata": {},
     "output_type": "execute_result"
    }
   ],
   "source": [
    "sa_neg_price = sa_data_price[(sa_data_price['RRP'] < 0) & (sa_data_price['Fuel Type'] != 'Other - Other')].dropna().reset_index(drop = True)\n",
    "sa_neg_price"
   ]
  },
  {
   "cell_type": "code",
   "execution_count": null,
   "id": "48d8d141",
   "metadata": {},
   "outputs": [
    {
     "data": {
      "text/html": [
       "<div>\n",
       "<style scoped>\n",
       "    .dataframe tbody tr th:only-of-type {\n",
       "        vertical-align: middle;\n",
       "    }\n",
       "\n",
       "    .dataframe tbody tr th {\n",
       "        vertical-align: top;\n",
       "    }\n",
       "\n",
       "    .dataframe thead th {\n",
       "        text-align: right;\n",
       "    }\n",
       "</style>\n",
       "<table border=\"1\" class=\"dataframe\">\n",
       "  <thead>\n",
       "    <tr style=\"text-align: right;\">\n",
       "      <th></th>\n",
       "      <th>SETTLEMENTDATE</th>\n",
       "      <th>DUID</th>\n",
       "      <th>SCADAVALUE</th>\n",
       "      <th>MONTH</th>\n",
       "      <th>REGIONID</th>\n",
       "      <th>Fuel Type</th>\n",
       "      <th>RRP</th>\n",
       "    </tr>\n",
       "  </thead>\n",
       "  <tbody>\n",
       "    <tr>\n",
       "      <th>0</th>\n",
       "      <td>2018-01-06 13:05:00</td>\n",
       "      <td>BUTLERSG</td>\n",
       "      <td>9.599998</td>\n",
       "      <td>2018-01</td>\n",
       "      <td>TAS1</td>\n",
       "      <td>Hydro - Water</td>\n",
       "      <td>-0.64000</td>\n",
       "    </tr>\n",
       "    <tr>\n",
       "      <th>1</th>\n",
       "      <td>2018-01-06 13:05:00</td>\n",
       "      <td>CLUNY</td>\n",
       "      <td>0.000000</td>\n",
       "      <td>2018-01</td>\n",
       "      <td>TAS1</td>\n",
       "      <td>Hydro - Water</td>\n",
       "      <td>-0.64000</td>\n",
       "    </tr>\n",
       "    <tr>\n",
       "      <th>2</th>\n",
       "      <td>2018-01-06 13:05:00</td>\n",
       "      <td>PALOONA</td>\n",
       "      <td>0.000000</td>\n",
       "      <td>2018-01</td>\n",
       "      <td>TAS1</td>\n",
       "      <td>Hydro - Water</td>\n",
       "      <td>-0.64000</td>\n",
       "    </tr>\n",
       "    <tr>\n",
       "      <th>3</th>\n",
       "      <td>2018-01-06 13:05:00</td>\n",
       "      <td>REPULSE</td>\n",
       "      <td>27.039045</td>\n",
       "      <td>2018-01</td>\n",
       "      <td>TAS1</td>\n",
       "      <td>Hydro - Water</td>\n",
       "      <td>-0.64000</td>\n",
       "    </tr>\n",
       "    <tr>\n",
       "      <th>4</th>\n",
       "      <td>2018-01-06 13:05:00</td>\n",
       "      <td>ROWALLAN</td>\n",
       "      <td>0.000000</td>\n",
       "      <td>2018-01</td>\n",
       "      <td>TAS1</td>\n",
       "      <td>Hydro - Water</td>\n",
       "      <td>-0.64000</td>\n",
       "    </tr>\n",
       "    <tr>\n",
       "      <th>...</th>\n",
       "      <td>...</td>\n",
       "      <td>...</td>\n",
       "      <td>...</td>\n",
       "      <td>...</td>\n",
       "      <td>...</td>\n",
       "      <td>...</td>\n",
       "      <td>...</td>\n",
       "    </tr>\n",
       "    <tr>\n",
       "      <th>1237926</th>\n",
       "      <td>2025-06-25 00:15:00</td>\n",
       "      <td>TRIBUTE</td>\n",
       "      <td>0.000000</td>\n",
       "      <td>2025-06</td>\n",
       "      <td>TAS1</td>\n",
       "      <td>Hydro - Water</td>\n",
       "      <td>-7.44327</td>\n",
       "    </tr>\n",
       "    <tr>\n",
       "      <th>1237927</th>\n",
       "      <td>2025-06-25 00:15:00</td>\n",
       "      <td>TUNGATIN</td>\n",
       "      <td>0.000000</td>\n",
       "      <td>2025-06</td>\n",
       "      <td>TAS1</td>\n",
       "      <td>Hydro - Water</td>\n",
       "      <td>-7.44327</td>\n",
       "    </tr>\n",
       "    <tr>\n",
       "      <th>1237928</th>\n",
       "      <td>2025-06-25 00:15:00</td>\n",
       "      <td>TVCC201</td>\n",
       "      <td>0.000000</td>\n",
       "      <td>2025-06</td>\n",
       "      <td>TAS1</td>\n",
       "      <td>Fossil - Natural Gas Pipeline</td>\n",
       "      <td>-7.44327</td>\n",
       "    </tr>\n",
       "    <tr>\n",
       "      <th>1237929</th>\n",
       "      <td>2025-06-25 00:15:00</td>\n",
       "      <td>TVPP104</td>\n",
       "      <td>0.000000</td>\n",
       "      <td>2025-06</td>\n",
       "      <td>TAS1</td>\n",
       "      <td>Fossil - Natural Gas Pipeline</td>\n",
       "      <td>-7.44327</td>\n",
       "    </tr>\n",
       "    <tr>\n",
       "      <th>1237930</th>\n",
       "      <td>2025-06-25 00:15:00</td>\n",
       "      <td>WOOLNTH1</td>\n",
       "      <td>108.009995</td>\n",
       "      <td>2025-06</td>\n",
       "      <td>TAS1</td>\n",
       "      <td>Wind - Wind</td>\n",
       "      <td>-7.44327</td>\n",
       "    </tr>\n",
       "  </tbody>\n",
       "</table>\n",
       "<p>1237931 rows × 7 columns</p>\n",
       "</div>"
      ],
      "text/plain": [
       "              SETTLEMENTDATE      DUID  SCADAVALUE    MONTH REGIONID  \\\n",
       "0        2018-01-06 13:05:00  BUTLERSG    9.599998  2018-01     TAS1   \n",
       "1        2018-01-06 13:05:00     CLUNY    0.000000  2018-01     TAS1   \n",
       "2        2018-01-06 13:05:00   PALOONA    0.000000  2018-01     TAS1   \n",
       "3        2018-01-06 13:05:00   REPULSE   27.039045  2018-01     TAS1   \n",
       "4        2018-01-06 13:05:00  ROWALLAN    0.000000  2018-01     TAS1   \n",
       "...                      ...       ...         ...      ...      ...   \n",
       "1237926  2025-06-25 00:15:00   TRIBUTE    0.000000  2025-06     TAS1   \n",
       "1237927  2025-06-25 00:15:00  TUNGATIN    0.000000  2025-06     TAS1   \n",
       "1237928  2025-06-25 00:15:00   TVCC201    0.000000  2025-06     TAS1   \n",
       "1237929  2025-06-25 00:15:00   TVPP104    0.000000  2025-06     TAS1   \n",
       "1237930  2025-06-25 00:15:00  WOOLNTH1  108.009995  2025-06     TAS1   \n",
       "\n",
       "                             Fuel Type      RRP  \n",
       "0                        Hydro - Water -0.64000  \n",
       "1                        Hydro - Water -0.64000  \n",
       "2                        Hydro - Water -0.64000  \n",
       "3                        Hydro - Water -0.64000  \n",
       "4                        Hydro - Water -0.64000  \n",
       "...                                ...      ...  \n",
       "1237926                  Hydro - Water -7.44327  \n",
       "1237927                  Hydro - Water -7.44327  \n",
       "1237928  Fossil - Natural Gas Pipeline -7.44327  \n",
       "1237929  Fossil - Natural Gas Pipeline -7.44327  \n",
       "1237930                    Wind - Wind -7.44327  \n",
       "\n",
       "[1237931 rows x 7 columns]"
      ]
     },
     "execution_count": 78,
     "metadata": {},
     "output_type": "execute_result"
    }
   ],
   "source": [
    "tas_neg_price = tas_data_price[(tas_data_price['RRP'] < 0) & (tas_data_price['Fuel Type'] != 'Other - Other')].dropna().reset_index(drop = True)\n",
    "tas_neg_price"
   ]
  },
  {
   "cell_type": "code",
   "execution_count": null,
   "id": "b4b23b62",
   "metadata": {},
   "outputs": [
    {
     "name": "stdout",
     "output_type": "stream",
     "text": [
      "The Minimum SCADAVALUE Found when Price was Negative in QLD was -15.53312\n",
      "The Energy Source during this was Fossil - Coal Seam Methane\n",
      "The Maximum SCADAVALUE Found when Price was Negative in QLD was 773.61865\n",
      "The Energy Source during this was Fossil - Black Coal\n",
      "\n",
      "\n",
      "The Minimum SCADAVALUE Found when Price was Negative in NSW was -27.66544\n",
      "The Energy Source during this was Renewable Biomass or Waste - Biomass\n",
      "The Maximum SCADAVALUE Found when Price was Negative in NSW was 1801.09998\n",
      "The Energy Source during this was Hydro - Water\n",
      "\n",
      "\n",
      "The Minimum SCADAVALUE Found when Price was Negative in VIC was -10.0\n",
      "The Energy Source during this was Hydro - Water\n",
      "The Maximum SCADAVALUE Found when Price was Negative in VIC was 1519.8551\n",
      "The Energy Source during this was Hydro - Water\n",
      "\n",
      "\n",
      "The Minimum SCADAVALUE Found when Price was Negative in SA was -3.50409\n",
      "The Energy Source during this was Wind - Wind\n",
      "The Maximum SCADAVALUE Found when Price was Negative in SA was 501.58243\n",
      "The Energy Source during this was Fossil - Natural Gas Pipeline\n",
      "\n",
      "\n",
      "The Minimum SCADAVALUE Found when Price was Negative in TAS was -2.43\n",
      "The Energy Source during this was Fossil - Natural Gas Pipeline\n",
      "The Maximum SCADAVALUE Found when Price was Negative in TAS was 400.97595\n",
      "The Energy Source during this was Hydro - Water\n"
     ]
    }
   ],
   "source": [
    "print(f'The Minimum SCADAVALUE Found when Price was Negative in QLD was {qld_neg_price[\"SCADAVALUE\"].min()}')\n",
    "print(f'The Energy Source during this was {qld_neg_price[qld_neg_price[\"SCADAVALUE\"] == qld_neg_price[\"SCADAVALUE\"].min()][\"Fuel Type\"].values[0]}')\n",
    "print(f'The Maximum SCADAVALUE Found when Price was Negative in QLD was {qld_neg_price[\"SCADAVALUE\"].max()}')\n",
    "print(f'The Energy Source during this was {qld_neg_price[qld_neg_price[\"SCADAVALUE\"] == qld_neg_price[\"SCADAVALUE\"].max()][\"Fuel Type\"].values[0]}\\n\\n')\n",
    "\n",
    "print(f'The Minimum SCADAVALUE Found when Price was Negative in NSW was {nsw_neg_price[\"SCADAVALUE\"].min()}')\n",
    "print(f'The Energy Source during this was {nsw_neg_price[nsw_neg_price[\"SCADAVALUE\"] == nsw_neg_price[\"SCADAVALUE\"].min()][\"Fuel Type\"].values[0]}')\n",
    "print(f'The Maximum SCADAVALUE Found when Price was Negative in NSW was {nsw_neg_price[\"SCADAVALUE\"].max()}')\n",
    "print(f'The Energy Source during this was {nsw_neg_price[nsw_neg_price[\"SCADAVALUE\"] == nsw_neg_price[\"SCADAVALUE\"].max()][\"Fuel Type\"].values[0]}\\n\\n')\n",
    "\n",
    "print(f'The Minimum SCADAVALUE Found when Price was Negative in VIC was {vic_neg_price[\"SCADAVALUE\"].min()}')\n",
    "print(f'The Energy Source during this was {vic_neg_price[vic_neg_price[\"SCADAVALUE\"] == vic_neg_price[\"SCADAVALUE\"].min()][\"Fuel Type\"].values[0]}')\n",
    "print(f'The Maximum SCADAVALUE Found when Price was Negative in VIC was {vic_neg_price[\"SCADAVALUE\"].max()}')\n",
    "print(f'The Energy Source during this was {vic_neg_price[vic_neg_price[\"SCADAVALUE\"] == vic_neg_price[\"SCADAVALUE\"].max()][\"Fuel Type\"].values[0]}\\n\\n')\n",
    "\n",
    "print(f'The Minimum SCADAVALUE Found when Price was Negative in SA was {sa_neg_price[\"SCADAVALUE\"].min()}')\n",
    "print(f'The Energy Source during this was {sa_neg_price[sa_neg_price[\"SCADAVALUE\"] == sa_neg_price[\"SCADAVALUE\"].min()][\"Fuel Type\"].values[0]}')\n",
    "print(f'The Maximum SCADAVALUE Found when Price was Negative in SA was {sa_neg_price[\"SCADAVALUE\"].max()}')\n",
    "print(f'The Energy Source during this was {sa_neg_price[sa_neg_price[\"SCADAVALUE\"] == sa_neg_price[\"SCADAVALUE\"].max()][\"Fuel Type\"].values[0]}\\n\\n')\n",
    "\n",
    "print(f'The Minimum SCADAVALUE Found when Price was Negative in TAS was {tas_neg_price[\"SCADAVALUE\"].min()}')\n",
    "print(f'The Energy Source during this was {tas_neg_price[tas_neg_price[\"SCADAVALUE\"] == tas_neg_price[\"SCADAVALUE\"].min()][\"Fuel Type\"].values[0]}')\n",
    "print(f'The Maximum SCADAVALUE Found when Price was Negative in TAS was {tas_neg_price[\"SCADAVALUE\"].max()}')\n",
    "print(f'The Energy Source during this was {tas_neg_price[tas_neg_price[\"SCADAVALUE\"] == tas_neg_price[\"SCADAVALUE\"].max()][\"Fuel Type\"].values[0]}')"
   ]
  },
  {
   "cell_type": "markdown",
   "id": "3fd9bb08",
   "metadata": {},
   "source": [
    "Some values are still positive, but are different fuel sources. Going to check the fuel sources while these values are negative"
   ]
  },
  {
   "cell_type": "code",
   "execution_count": null,
   "id": "e0bb4e5f",
   "metadata": {},
   "outputs": [
    {
     "name": "stdout",
     "output_type": "stream",
     "text": [
      "In QLD, the minimum SCADAVALUE of -15.53312 occurred on: 2024-07-13 15:00:00\n",
      "Minimum for Solar - Solar: 8.200001\n",
      "Maximum for Solar - Solar: 138.80177\n",
      "\n",
      "Minimum for Fossil - Waste Coal Mine Gas: 15.631\n",
      "Maximum for Fossil - Waste Coal Mine Gas: 26.681252\n",
      "\n",
      "Minimum for Renewable Biomass or Waste - Bagasse: -1.6\n",
      "Maximum for Renewable Biomass or Waste - Bagasse: -1.6\n",
      "\n",
      "Minimum for Fossil - Natural Gas Pipeline: 0.0\n",
      "Maximum for Fossil - Natural Gas Pipeline: 110.11\n",
      "\n",
      "Minimum for Hydro - Water: 28.76\n",
      "Maximum for Hydro - Water: 28.76\n",
      "\n",
      "Minimum for Fossil - Coal Seam Methane: 0.0\n",
      "Maximum for Fossil - Coal Seam Methane: 40.85418\n",
      "\n",
      "Minimum for Fossil - Black Coal: 244.8\n",
      "Maximum for Fossil - Black Coal: 427.1875\n",
      "\n",
      "Minimum for Wind - Wind: 311.82999\n",
      "Maximum for Wind - Wind: 311.82999\n",
      "\n",
      "Minimum for Fossil - Diesel: 0.0\n",
      "Maximum for Fossil - Diesel: 0.0\n",
      "\n"
     ]
    }
   ],
   "source": [
    "# Get the settlement date when minimum SCADAVALUE occurred during negative pricing\n",
    "qld_min_scada_date = qld_neg_price.loc[qld_neg_price['SCADAVALUE'].idxmin(), 'SETTLEMENTDATE']\n",
    "print(f\"In QLD, the minimum SCADAVALUE of {qld_neg_price['SCADAVALUE'].min()} occurred on: {qld_min_scada_date}\")\n",
    "\n",
    "# Filter the data for that specific settlement date\n",
    "qld_min_date_data = qld_neg_price[qld_neg_price['SETTLEMENTDATE'] == qld_min_scada_date]\n",
    "\n",
    "for fuel_type in qld_min_date_data['Fuel Type'].unique():\n",
    "    print(f'Minimum for {fuel_type}: {qld_min_date_data[qld_min_date_data[\"Fuel Type\"] == fuel_type][\"SCADAVALUE\"].values[0]}')\n",
    "    print(f'Maximum for {fuel_type}: {qld_min_date_data[qld_min_date_data[\"Fuel Type\"] == fuel_type][\"SCADAVALUE\"].max()}')\n",
    "    print('')\n",
    "    "
   ]
  },
  {
   "cell_type": "code",
   "execution_count": null,
   "id": "a7699579",
   "metadata": {},
   "outputs": [
    {
     "name": "stdout",
     "output_type": "stream",
     "text": [
      "In NSW, the minimum SCADAVALUE of -27.66544 occurred on: 2025-07-14 08:15:00\n",
      "Minimum for Solar - Solar: 44.29274\n",
      "Maximum for Solar - Solar: 124.6189\n",
      "\n",
      "Minimum for Wind - Wind: 69.19783\n",
      "Maximum for Wind - Wind: 204.36282\n",
      "\n",
      "Minimum for Hydro - Water: 0.0\n",
      "Maximum for Hydro - Water: 0.0\n",
      "\n",
      "Minimum for Fossil - Black Coal: 581.61285\n",
      "Maximum for Fossil - Black Coal: 699.55902\n",
      "\n",
      "Minimum for Renewable Biomass or Waste - Biomass: -27.66544\n",
      "Maximum for Renewable Biomass or Waste - Biomass: -27.66544\n",
      "\n",
      "Minimum for Fossil - Natural Gas Pipeline: 0.0\n",
      "Maximum for Fossil - Natural Gas Pipeline: 0.0\n",
      "\n",
      "Minimum for Renewable Biomass or Waste - Bagasse: 23.879999\n",
      "Maximum for Renewable Biomass or Waste - Bagasse: 23.879999\n",
      "\n",
      "Minimum for Fossil - Diesel: 0.0\n",
      "Maximum for Fossil - Diesel: 0.0\n",
      "\n"
     ]
    }
   ],
   "source": [
    "# Get the settlement date when minimum SCADAVALUE occurred during negative pricing\n",
    "nsw_min_scada_date = nsw_neg_price.loc[nsw_neg_price['SCADAVALUE'].idxmin(), 'SETTLEMENTDATE']\n",
    "print(f\"In NSW, the minimum SCADAVALUE of {nsw_neg_price['SCADAVALUE'].min()} occurred on: {nsw_min_scada_date}\")\n",
    "\n",
    "# Filter the data for that specific settlement date\n",
    "nsw_min_date_data = nsw_neg_price[nsw_neg_price['SETTLEMENTDATE'] == nsw_min_scada_date]\n",
    "\n",
    "for fuel_type in nsw_min_date_data['Fuel Type'].unique():\n",
    "    print(f'Minimum for {fuel_type}: {nsw_min_date_data[nsw_min_date_data[\"Fuel Type\"] == fuel_type][\"SCADAVALUE\"].values[0]}')\n",
    "    print(f'Maximum for {fuel_type}: {nsw_min_date_data[nsw_min_date_data[\"Fuel Type\"] == fuel_type][\"SCADAVALUE\"].max()}')\n",
    "    print('')"
   ]
  },
  {
   "cell_type": "code",
   "execution_count": null,
   "id": "175cd35d",
   "metadata": {},
   "outputs": [
    {
     "name": "stdout",
     "output_type": "stream",
     "text": [
      "In VIC, the minimum SCADAVALUE of -10.0 occurred on: 2022-06-25 14:05:00\n",
      "Minimum for Hydro - Water: 10.3\n",
      "Maximum for Hydro - Water: 26.1\n",
      "\n",
      "Minimum for Wind - Wind: 6.9\n",
      "Maximum for Wind - Wind: 381.10001\n",
      "\n",
      "Minimum for Solar - Solar: 29.4\n",
      "Maximum for Solar - Solar: 54.4\n",
      "\n",
      "Minimum for Fossil - Natural Gas Pipeline: 0.0\n",
      "Maximum for Fossil - Natural Gas Pipeline: 0.0\n",
      "\n",
      "Minimum for Fossil - Brown Coal: 249.23924\n",
      "Maximum for Fossil - Brown Coal: 579.32281\n",
      "\n"
     ]
    }
   ],
   "source": [
    "# Get the settlement date when minimum SCADAVALUE occurred during negative pricing\n",
    "vic_min_scada_date = vic_neg_price.loc[vic_neg_price['SCADAVALUE'].idxmin(), 'SETTLEMENTDATE']\n",
    "print(f\"In VIC, the minimum SCADAVALUE of {vic_neg_price['SCADAVALUE'].min()} occurred on: {vic_min_scada_date}\")\n",
    "\n",
    "# Filter the data for that specific settlement date\n",
    "vic_min_date_data = vic_neg_price[vic_neg_price['SETTLEMENTDATE'] == vic_min_scada_date]\n",
    "\n",
    "for fuel_type in vic_min_date_data['Fuel Type'].unique():\n",
    "    print(f'Minimum for {fuel_type}: {vic_min_date_data[vic_min_date_data[\"Fuel Type\"] == fuel_type][\"SCADAVALUE\"].values[0]}')\n",
    "    print(f'Maximum for {fuel_type}: {vic_min_date_data[vic_min_date_data[\"Fuel Type\"] == fuel_type][\"SCADAVALUE\"].max()}')\n",
    "    print('')"
   ]
  },
  {
   "cell_type": "code",
   "execution_count": null,
   "id": "dd554c42",
   "metadata": {},
   "outputs": [
    {
     "name": "stdout",
     "output_type": "stream",
     "text": [
      "In TAS, the minimum SCADAVALUE of -2.43 occurred on: 2018-09-23 14:10:00\n",
      "Minimum for Hydro - Water: 11.999999\n",
      "Maximum for Hydro - Water: 306.49927\n",
      "\n",
      "Minimum for Wind - Wind: 108.350021\n",
      "Maximum for Wind - Wind: 135.89999\n",
      "\n",
      "Minimum for Fossil - Natural Gas Pipeline: 0.0\n",
      "Maximum for Fossil - Natural Gas Pipeline: 0.0\n",
      "\n"
     ]
    }
   ],
   "source": [
    "# Get the settlement date when minimum SCADAVALUE occurred during negative pricing\n",
    "tas_min_scada_date = tas_neg_price.loc[tas_neg_price['SCADAVALUE'].idxmin(), 'SETTLEMENTDATE']\n",
    "print(f\"In TAS, the minimum SCADAVALUE of {tas_neg_price['SCADAVALUE'].min()} occurred on: {tas_min_scada_date}\")\n",
    "\n",
    "# Filter the data for that specific settlement date\n",
    "tas_min_date_data = tas_neg_price[tas_neg_price['SETTLEMENTDATE'] == tas_min_scada_date]\n",
    "\n",
    "for fuel_type in tas_min_date_data['Fuel Type'].unique():\n",
    "    print(f'Minimum for {fuel_type}: {tas_min_date_data[tas_min_date_data[\"Fuel Type\"] == fuel_type][\"SCADAVALUE\"].values[0]}')\n",
    "    print(f'Maximum for {fuel_type}: {tas_min_date_data[tas_min_date_data[\"Fuel Type\"] == fuel_type][\"SCADAVALUE\"].max()}')\n",
    "    print('')"
   ]
  },
  {
   "cell_type": "code",
   "execution_count": null,
   "id": "abe942f7",
   "metadata": {},
   "outputs": [
    {
     "name": "stdout",
     "output_type": "stream",
     "text": [
      "In SA, the minimum SCADAVALUE of -3.50409 occurred on: 2022-04-01 16:10:00\n",
      "Minimum for Wind - Wind: 13.92\n",
      "Maximum for Wind - Wind: 119.7\n",
      "\n",
      "Minimum for Fossil - Natural Gas Pipeline: 0.01\n",
      "Maximum for Fossil - Natural Gas Pipeline: 42.0\n",
      "\n",
      "Minimum for Fossil - Diesel: 0.0\n",
      "Maximum for Fossil - Diesel: 0.08192\n",
      "\n",
      "Minimum for Solar - Solar: 0.0\n",
      "Maximum for Solar - Solar: 102.25999\n",
      "\n",
      "Minimum for Fossil - Natural Gas: 0.0\n",
      "Maximum for Fossil - Natural Gas: 0.0\n",
      "\n"
     ]
    }
   ],
   "source": [
    "# Get the settlement date when minimum SCADAVALUE occurred during negative pricing\n",
    "sa_min_scada_date = sa_neg_price.loc[sa_neg_price['SCADAVALUE'].idxmin(), 'SETTLEMENTDATE']\n",
    "print(f\"In SA, the minimum SCADAVALUE of {sa_neg_price['SCADAVALUE'].min()} occurred on: {sa_min_scada_date}\")\n",
    "\n",
    "# Filter the data for that specific settlement date\n",
    "sa_min_date_data = sa_neg_price[sa_neg_price['SETTLEMENTDATE'] == sa_min_scada_date]\n",
    "\n",
    "for fuel_type in sa_min_date_data['Fuel Type'].unique():\n",
    "    print(f'Minimum for {fuel_type}: {sa_min_date_data[sa_min_date_data[\"Fuel Type\"] == fuel_type][\"SCADAVALUE\"].values[0]}')\n",
    "    print(f'Maximum for {fuel_type}: {sa_min_date_data[sa_min_date_data[\"Fuel Type\"] == fuel_type][\"SCADAVALUE\"].max()}')\n",
    "    print('')"
   ]
  },
  {
   "cell_type": "code",
   "execution_count": null,
   "id": "5a52647e",
   "metadata": {},
   "outputs": [
    {
     "data": {
      "text/html": [
       "<div>\n",
       "<style scoped>\n",
       "    .dataframe tbody tr th:only-of-type {\n",
       "        vertical-align: middle;\n",
       "    }\n",
       "\n",
       "    .dataframe tbody tr th {\n",
       "        vertical-align: top;\n",
       "    }\n",
       "\n",
       "    .dataframe thead th {\n",
       "        text-align: right;\n",
       "    }\n",
       "</style>\n",
       "<table border=\"1\" class=\"dataframe\">\n",
       "  <thead>\n",
       "    <tr style=\"text-align: right;\">\n",
       "      <th></th>\n",
       "      <th>SETTLEMENTDATE</th>\n",
       "      <th>DUID</th>\n",
       "      <th>SCADAVALUE</th>\n",
       "      <th>MONTH</th>\n",
       "      <th>REGIONID</th>\n",
       "      <th>Fuel Type</th>\n",
       "      <th>RRP</th>\n",
       "    </tr>\n",
       "  </thead>\n",
       "  <tbody>\n",
       "    <tr>\n",
       "      <th>0</th>\n",
       "      <td>2018-01-01 00:05:00</td>\n",
       "      <td>BARCSF1</td>\n",
       "      <td>1.300000</td>\n",
       "      <td>2018-01</td>\n",
       "      <td>QLD1</td>\n",
       "      <td>Solar - Solar</td>\n",
       "      <td>80.27029</td>\n",
       "    </tr>\n",
       "    <tr>\n",
       "      <th>1</th>\n",
       "      <td>2018-01-01 00:05:00</td>\n",
       "      <td>GERMCRK</td>\n",
       "      <td>33.200001</td>\n",
       "      <td>2018-01</td>\n",
       "      <td>QLD1</td>\n",
       "      <td>Fossil - Waste Coal Mine Gas</td>\n",
       "      <td>80.27029</td>\n",
       "    </tr>\n",
       "    <tr>\n",
       "      <th>2</th>\n",
       "      <td>2018-01-01 00:05:00</td>\n",
       "      <td>MBAHNTH</td>\n",
       "      <td>51.618744</td>\n",
       "      <td>2018-01</td>\n",
       "      <td>QLD1</td>\n",
       "      <td>Fossil - Waste Coal Mine Gas</td>\n",
       "      <td>80.27029</td>\n",
       "    </tr>\n",
       "    <tr>\n",
       "      <th>3</th>\n",
       "      <td>2018-01-01 00:05:00</td>\n",
       "      <td>RPCG</td>\n",
       "      <td>10.400000</td>\n",
       "      <td>2018-01</td>\n",
       "      <td>QLD1</td>\n",
       "      <td>Renewable Biomass or Waste - Bagasse</td>\n",
       "      <td>80.27029</td>\n",
       "    </tr>\n",
       "    <tr>\n",
       "      <th>4</th>\n",
       "      <td>2018-01-01 00:10:00</td>\n",
       "      <td>BARCSF1</td>\n",
       "      <td>1.300000</td>\n",
       "      <td>2018-01</td>\n",
       "      <td>QLD1</td>\n",
       "      <td>Solar - Solar</td>\n",
       "      <td>85.10007</td>\n",
       "    </tr>\n",
       "    <tr>\n",
       "      <th>...</th>\n",
       "      <td>...</td>\n",
       "      <td>...</td>\n",
       "      <td>...</td>\n",
       "      <td>...</td>\n",
       "      <td>...</td>\n",
       "      <td>...</td>\n",
       "      <td>...</td>\n",
       "    </tr>\n",
       "    <tr>\n",
       "      <th>67582074</th>\n",
       "      <td>2025-07-31 23:55:00</td>\n",
       "      <td>WOOLGSF1</td>\n",
       "      <td>0.000000</td>\n",
       "      <td>2025-07</td>\n",
       "      <td>QLD1</td>\n",
       "      <td>Solar - Solar</td>\n",
       "      <td>132.83003</td>\n",
       "    </tr>\n",
       "    <tr>\n",
       "      <th>67582075</th>\n",
       "      <td>2025-07-31 23:55:00</td>\n",
       "      <td>YABULU</td>\n",
       "      <td>160.041490</td>\n",
       "      <td>2025-07</td>\n",
       "      <td>QLD1</td>\n",
       "      <td>Fossil - Natural Gas Pipeline</td>\n",
       "      <td>132.83003</td>\n",
       "    </tr>\n",
       "    <tr>\n",
       "      <th>67582076</th>\n",
       "      <td>2025-07-31 23:55:00</td>\n",
       "      <td>YABULU2</td>\n",
       "      <td>0.000000</td>\n",
       "      <td>2025-07</td>\n",
       "      <td>QLD1</td>\n",
       "      <td>Fossil - Natural Gas Pipeline</td>\n",
       "      <td>132.83003</td>\n",
       "    </tr>\n",
       "    <tr>\n",
       "      <th>67582077</th>\n",
       "      <td>2025-07-31 23:55:00</td>\n",
       "      <td>YARANSF1</td>\n",
       "      <td>0.000000</td>\n",
       "      <td>2025-07</td>\n",
       "      <td>QLD1</td>\n",
       "      <td>Solar - Solar</td>\n",
       "      <td>132.83003</td>\n",
       "    </tr>\n",
       "    <tr>\n",
       "      <th>67582078</th>\n",
       "      <td>2025-07-31 23:55:00</td>\n",
       "      <td>YARWUN_1</td>\n",
       "      <td>110.060000</td>\n",
       "      <td>2025-07</td>\n",
       "      <td>QLD1</td>\n",
       "      <td>Fossil - Natural Gas Pipeline</td>\n",
       "      <td>132.83003</td>\n",
       "    </tr>\n",
       "  </tbody>\n",
       "</table>\n",
       "<p>66692110 rows × 7 columns</p>\n",
       "</div>"
      ],
      "text/plain": [
       "               SETTLEMENTDATE      DUID  SCADAVALUE    MONTH REGIONID  \\\n",
       "0         2018-01-01 00:05:00   BARCSF1    1.300000  2018-01     QLD1   \n",
       "1         2018-01-01 00:05:00   GERMCRK   33.200001  2018-01     QLD1   \n",
       "2         2018-01-01 00:05:00   MBAHNTH   51.618744  2018-01     QLD1   \n",
       "3         2018-01-01 00:05:00      RPCG   10.400000  2018-01     QLD1   \n",
       "4         2018-01-01 00:10:00   BARCSF1    1.300000  2018-01     QLD1   \n",
       "...                       ...       ...         ...      ...      ...   \n",
       "67582074  2025-07-31 23:55:00  WOOLGSF1    0.000000  2025-07     QLD1   \n",
       "67582075  2025-07-31 23:55:00    YABULU  160.041490  2025-07     QLD1   \n",
       "67582076  2025-07-31 23:55:00   YABULU2    0.000000  2025-07     QLD1   \n",
       "67582077  2025-07-31 23:55:00  YARANSF1    0.000000  2025-07     QLD1   \n",
       "67582078  2025-07-31 23:55:00  YARWUN_1  110.060000  2025-07     QLD1   \n",
       "\n",
       "                                     Fuel Type        RRP  \n",
       "0                                Solar - Solar   80.27029  \n",
       "1                 Fossil - Waste Coal Mine Gas   80.27029  \n",
       "2                 Fossil - Waste Coal Mine Gas   80.27029  \n",
       "3         Renewable Biomass or Waste - Bagasse   80.27029  \n",
       "4                                Solar - Solar   85.10007  \n",
       "...                                        ...        ...  \n",
       "67582074                         Solar - Solar  132.83003  \n",
       "67582075         Fossil - Natural Gas Pipeline  132.83003  \n",
       "67582076         Fossil - Natural Gas Pipeline  132.83003  \n",
       "67582077                         Solar - Solar  132.83003  \n",
       "67582078         Fossil - Natural Gas Pipeline  132.83003  \n",
       "\n",
       "[66692110 rows x 7 columns]"
      ]
     },
     "execution_count": 85,
     "metadata": {},
     "output_type": "execute_result"
    }
   ],
   "source": [
    "qld_data_price"
   ]
  },
  {
   "cell_type": "code",
   "execution_count": null,
   "id": "ee163b8a",
   "metadata": {},
   "outputs": [
    {
     "data": {
      "text/plain": [
       "Fuel Type\n",
       "Fossil - Coal Seam Methane              980\n",
       "Renewable Biomass or Waste - Bagasse    953\n",
       "Fossil - Waste Coal Mine Gas             16\n",
       "Hydro - Water                             1\n",
       "Name: count, dtype: int64"
      ]
     },
     "execution_count": 86,
     "metadata": {},
     "output_type": "execute_result"
    }
   ],
   "source": [
    "qld_neg_price[qld_neg_price['SETTLEMENTDATE'].str.contains('2024-07') & (qld_neg_price['SCADAVALUE'] < 0)]['Fuel Type'].value_counts()"
   ]
  },
  {
   "cell_type": "code",
   "execution_count": null,
   "id": "c795aecf",
   "metadata": {},
   "outputs": [
    {
     "name": "stdout",
     "output_type": "stream",
     "text": [
      "The SCADAVALUE for QLD during negative pricing is: -15.53312\n",
      "The maximum overall value for QLD is: 792.19989\n",
      "The Minimum happened on:  2024-07-13 15:00:00\n"
     ]
    }
   ],
   "source": [
    "qld_minimum_price_scada_value_date = qld_data_price[(qld_data_price['SCADAVALUE'] == qld_data_price['SCADAVALUE'].min()) & (qld_data_price['RRP'] < 0)]['SETTLEMENTDATE'].values[0]\n",
    "\n",
    "print(f\"The SCADAVALUE for QLD during negative pricing is: {qld_neg_price[\"SCADAVALUE\"].min()}\")\n",
    "print(f'The maximum overall value for QLD is: {qld_data_price[\"SCADAVALUE\"].max()}')\n",
    "print('The Minimum happened on: ', qld_minimum_price_scada_value_date)\n"
   ]
  },
  {
   "cell_type": "code",
   "execution_count": null,
   "id": "f115dd8c",
   "metadata": {},
   "outputs": [
    {
     "data": {
      "text/html": [
       "<div>\n",
       "<style scoped>\n",
       "    .dataframe tbody tr th:only-of-type {\n",
       "        vertical-align: middle;\n",
       "    }\n",
       "\n",
       "    .dataframe tbody tr th {\n",
       "        vertical-align: top;\n",
       "    }\n",
       "\n",
       "    .dataframe thead th {\n",
       "        text-align: right;\n",
       "    }\n",
       "</style>\n",
       "<table border=\"1\" class=\"dataframe\">\n",
       "  <thead>\n",
       "    <tr style=\"text-align: right;\">\n",
       "      <th></th>\n",
       "      <th>SETTLEMENTDATE</th>\n",
       "      <th>DUID</th>\n",
       "      <th>SCADAVALUE</th>\n",
       "      <th>MONTH</th>\n",
       "      <th>REGIONID</th>\n",
       "      <th>Fuel Type</th>\n",
       "      <th>RRP</th>\n",
       "    </tr>\n",
       "  </thead>\n",
       "  <tbody>\n",
       "    <tr>\n",
       "      <th>2240988</th>\n",
       "      <td>2025-07-02 10:35:00</td>\n",
       "      <td>BWTR1</td>\n",
       "      <td>-20.006001</td>\n",
       "      <td>2025-07</td>\n",
       "      <td>NSW1</td>\n",
       "      <td>Renewable Biomass or Waste - Biomass</td>\n",
       "      <td>-13.62803</td>\n",
       "    </tr>\n",
       "    <tr>\n",
       "      <th>2241085</th>\n",
       "      <td>2025-07-02 10:40:00</td>\n",
       "      <td>BWTR1</td>\n",
       "      <td>-20.006001</td>\n",
       "      <td>2025-07</td>\n",
       "      <td>NSW1</td>\n",
       "      <td>Renewable Biomass or Waste - Biomass</td>\n",
       "      <td>-9.50000</td>\n",
       "    </tr>\n",
       "    <tr>\n",
       "      <th>2241182</th>\n",
       "      <td>2025-07-02 10:45:00</td>\n",
       "      <td>BWTR1</td>\n",
       "      <td>-20.006001</td>\n",
       "      <td>2025-07</td>\n",
       "      <td>NSW1</td>\n",
       "      <td>Renewable Biomass or Waste - Biomass</td>\n",
       "      <td>-19.43646</td>\n",
       "    </tr>\n",
       "    <tr>\n",
       "      <th>2241279</th>\n",
       "      <td>2025-07-02 10:55:00</td>\n",
       "      <td>BWTR1</td>\n",
       "      <td>-20.006001</td>\n",
       "      <td>2025-07</td>\n",
       "      <td>NSW1</td>\n",
       "      <td>Renewable Biomass or Waste - Biomass</td>\n",
       "      <td>-12.00610</td>\n",
       "    </tr>\n",
       "    <tr>\n",
       "      <th>2241376</th>\n",
       "      <td>2025-07-02 11:00:00</td>\n",
       "      <td>BWTR1</td>\n",
       "      <td>-20.006001</td>\n",
       "      <td>2025-07</td>\n",
       "      <td>NSW1</td>\n",
       "      <td>Renewable Biomass or Waste - Biomass</td>\n",
       "      <td>-18.77395</td>\n",
       "    </tr>\n",
       "    <tr>\n",
       "      <th>...</th>\n",
       "      <td>...</td>\n",
       "      <td>...</td>\n",
       "      <td>...</td>\n",
       "      <td>...</td>\n",
       "      <td>...</td>\n",
       "      <td>...</td>\n",
       "      <td>...</td>\n",
       "    </tr>\n",
       "    <tr>\n",
       "      <th>2286127</th>\n",
       "      <td>2025-07-29 11:35:00</td>\n",
       "      <td>HUNTER1</td>\n",
       "      <td>-0.104480</td>\n",
       "      <td>2025-07</td>\n",
       "      <td>NSW1</td>\n",
       "      <td>Fossil - Natural Gas Pipeline</td>\n",
       "      <td>-12.00000</td>\n",
       "    </tr>\n",
       "    <tr>\n",
       "      <th>2286224</th>\n",
       "      <td>2025-07-29 12:40:00</td>\n",
       "      <td>HUNTER1</td>\n",
       "      <td>-0.185490</td>\n",
       "      <td>2025-07</td>\n",
       "      <td>NSW1</td>\n",
       "      <td>Fossil - Natural Gas Pipeline</td>\n",
       "      <td>-12.01000</td>\n",
       "    </tr>\n",
       "    <tr>\n",
       "      <th>2286321</th>\n",
       "      <td>2025-07-29 12:45:00</td>\n",
       "      <td>HUNTER1</td>\n",
       "      <td>-0.184960</td>\n",
       "      <td>2025-07</td>\n",
       "      <td>NSW1</td>\n",
       "      <td>Fossil - Natural Gas Pipeline</td>\n",
       "      <td>-9.50000</td>\n",
       "    </tr>\n",
       "    <tr>\n",
       "      <th>2286418</th>\n",
       "      <td>2025-07-29 13:25:00</td>\n",
       "      <td>HUNTER1</td>\n",
       "      <td>-0.187810</td>\n",
       "      <td>2025-07</td>\n",
       "      <td>NSW1</td>\n",
       "      <td>Fossil - Natural Gas Pipeline</td>\n",
       "      <td>-17.89103</td>\n",
       "    </tr>\n",
       "    <tr>\n",
       "      <th>2286515</th>\n",
       "      <td>2025-07-29 13:30:00</td>\n",
       "      <td>HUNTER1</td>\n",
       "      <td>-0.187810</td>\n",
       "      <td>2025-07</td>\n",
       "      <td>NSW1</td>\n",
       "      <td>Fossil - Natural Gas Pipeline</td>\n",
       "      <td>-12.00000</td>\n",
       "    </tr>\n",
       "  </tbody>\n",
       "</table>\n",
       "<p>292 rows × 7 columns</p>\n",
       "</div>"
      ],
      "text/plain": [
       "              SETTLEMENTDATE     DUID  SCADAVALUE    MONTH REGIONID  \\\n",
       "2240988  2025-07-02 10:35:00    BWTR1  -20.006001  2025-07     NSW1   \n",
       "2241085  2025-07-02 10:40:00    BWTR1  -20.006001  2025-07     NSW1   \n",
       "2241182  2025-07-02 10:45:00    BWTR1  -20.006001  2025-07     NSW1   \n",
       "2241279  2025-07-02 10:55:00    BWTR1  -20.006001  2025-07     NSW1   \n",
       "2241376  2025-07-02 11:00:00    BWTR1  -20.006001  2025-07     NSW1   \n",
       "...                      ...      ...         ...      ...      ...   \n",
       "2286127  2025-07-29 11:35:00  HUNTER1   -0.104480  2025-07     NSW1   \n",
       "2286224  2025-07-29 12:40:00  HUNTER1   -0.185490  2025-07     NSW1   \n",
       "2286321  2025-07-29 12:45:00  HUNTER1   -0.184960  2025-07     NSW1   \n",
       "2286418  2025-07-29 13:25:00  HUNTER1   -0.187810  2025-07     NSW1   \n",
       "2286515  2025-07-29 13:30:00  HUNTER1   -0.187810  2025-07     NSW1   \n",
       "\n",
       "                                    Fuel Type       RRP  \n",
       "2240988  Renewable Biomass or Waste - Biomass -13.62803  \n",
       "2241085  Renewable Biomass or Waste - Biomass  -9.50000  \n",
       "2241182  Renewable Biomass or Waste - Biomass -19.43646  \n",
       "2241279  Renewable Biomass or Waste - Biomass -12.00610  \n",
       "2241376  Renewable Biomass or Waste - Biomass -18.77395  \n",
       "...                                       ...       ...  \n",
       "2286127         Fossil - Natural Gas Pipeline -12.00000  \n",
       "2286224         Fossil - Natural Gas Pipeline -12.01000  \n",
       "2286321         Fossil - Natural Gas Pipeline  -9.50000  \n",
       "2286418         Fossil - Natural Gas Pipeline -17.89103  \n",
       "2286515         Fossil - Natural Gas Pipeline -12.00000  \n",
       "\n",
       "[292 rows x 7 columns]"
      ]
     },
     "execution_count": 88,
     "metadata": {},
     "output_type": "execute_result"
    }
   ],
   "source": [
    "nsw_neg_price[nsw_neg_price['SETTLEMENTDATE'].str.contains('2025-07') & (nsw_neg_price['SCADAVALUE'] < 0)]"
   ]
  },
  {
   "cell_type": "code",
   "execution_count": null,
   "id": "9db6a756",
   "metadata": {},
   "outputs": [
    {
     "name": "stdout",
     "output_type": "stream",
     "text": [
      "The SCADAVALUE for NSW during negative pricing is: -27.66544\n",
      "The maximum overall value for NSW is: 1801.09998\n",
      "The Minimum happened on:  2025-07-14 08:15:00\n"
     ]
    }
   ],
   "source": [
    "nsw_minimum_price_scada_value_date = nsw_neg_price[(nsw_neg_price['SCADAVALUE'] == nsw_neg_price['SCADAVALUE'].min())]['SETTLEMENTDATE'].values[0]\n",
    "\n",
    "print(f\"The SCADAVALUE for NSW during negative pricing is: {nsw_neg_price[\"SCADAVALUE\"].min()}\")\n",
    "print(f'The maximum overall value for NSW is: {nsw_data_price[\"SCADAVALUE\"].max()}')\n",
    "print('The Minimum happened on: ', nsw_minimum_price_scada_value_date)\n"
   ]
  },
  {
   "cell_type": "code",
   "execution_count": null,
   "id": "03bf65d0",
   "metadata": {},
   "outputs": [
    {
     "name": "stdout",
     "output_type": "stream",
     "text": [
      "The SCADAVALUE for TAS during negative pricing is: -2.43\n",
      "The maximum overall value for TAS is: 404.39008\n",
      "The Minimum happened on:  2018-09-23 14:10:00\n"
     ]
    }
   ],
   "source": [
    "tas_minimum_price_scada_value_date = tas_neg_price[(tas_neg_price['SCADAVALUE'] == tas_neg_price['SCADAVALUE'].min())]['SETTLEMENTDATE'].values[0]\n",
    "\n",
    "print(f\"The SCADAVALUE for TAS during negative pricing is: {tas_neg_price[\"SCADAVALUE\"].min()}\")\n",
    "print(f'The maximum overall value for TAS is: {tas_data_price[\"SCADAVALUE\"].max()}')\n",
    "print('The Minimum happened on: ', tas_minimum_price_scada_value_date)\n"
   ]
  },
  {
   "cell_type": "code",
   "execution_count": null,
   "id": "bac2c194",
   "metadata": {},
   "outputs": [
    {
     "data": {
      "text/html": [
       "<div>\n",
       "<style scoped>\n",
       "    .dataframe tbody tr th:only-of-type {\n",
       "        vertical-align: middle;\n",
       "    }\n",
       "\n",
       "    .dataframe tbody tr th {\n",
       "        vertical-align: top;\n",
       "    }\n",
       "\n",
       "    .dataframe thead th {\n",
       "        text-align: right;\n",
       "    }\n",
       "</style>\n",
       "<table border=\"1\" class=\"dataframe\">\n",
       "  <thead>\n",
       "    <tr style=\"text-align: right;\">\n",
       "      <th></th>\n",
       "      <th>SETTLEMENTDATE</th>\n",
       "      <th>DUID</th>\n",
       "      <th>SCADAVALUE</th>\n",
       "      <th>MONTH</th>\n",
       "      <th>REGIONID</th>\n",
       "      <th>Fuel Type</th>\n",
       "      <th>RRP</th>\n",
       "    </tr>\n",
       "  </thead>\n",
       "  <tbody>\n",
       "    <tr>\n",
       "      <th>1037825</th>\n",
       "      <td>2024-07-24 02:20:00</td>\n",
       "      <td>BUTLERSG</td>\n",
       "      <td>-0.000002</td>\n",
       "      <td>2024-07</td>\n",
       "      <td>TAS1</td>\n",
       "      <td>Hydro - Water</td>\n",
       "      <td>-16.98899</td>\n",
       "    </tr>\n",
       "    <tr>\n",
       "      <th>1037826</th>\n",
       "      <td>2024-07-24 02:20:00</td>\n",
       "      <td>CLUNY</td>\n",
       "      <td>2.166629</td>\n",
       "      <td>2024-07</td>\n",
       "      <td>TAS1</td>\n",
       "      <td>Hydro - Water</td>\n",
       "      <td>-16.98899</td>\n",
       "    </tr>\n",
       "    <tr>\n",
       "      <th>1037827</th>\n",
       "      <td>2024-07-24 02:20:00</td>\n",
       "      <td>PALOONA</td>\n",
       "      <td>0.000000</td>\n",
       "      <td>2024-07</td>\n",
       "      <td>TAS1</td>\n",
       "      <td>Hydro - Water</td>\n",
       "      <td>-16.98899</td>\n",
       "    </tr>\n",
       "    <tr>\n",
       "      <th>1037828</th>\n",
       "      <td>2024-07-24 02:20:00</td>\n",
       "      <td>REPULSE</td>\n",
       "      <td>2.857099</td>\n",
       "      <td>2024-07</td>\n",
       "      <td>TAS1</td>\n",
       "      <td>Hydro - Water</td>\n",
       "      <td>-16.98899</td>\n",
       "    </tr>\n",
       "    <tr>\n",
       "      <th>1037829</th>\n",
       "      <td>2024-07-24 02:20:00</td>\n",
       "      <td>ROWALLAN</td>\n",
       "      <td>-0.003891</td>\n",
       "      <td>2024-07</td>\n",
       "      <td>TAS1</td>\n",
       "      <td>Hydro - Water</td>\n",
       "      <td>-16.98899</td>\n",
       "    </tr>\n",
       "    <tr>\n",
       "      <th>...</th>\n",
       "      <td>...</td>\n",
       "      <td>...</td>\n",
       "      <td>...</td>\n",
       "      <td>...</td>\n",
       "      <td>...</td>\n",
       "      <td>...</td>\n",
       "      <td>...</td>\n",
       "    </tr>\n",
       "    <tr>\n",
       "      <th>1039569</th>\n",
       "      <td>2024-07-25 00:00:00</td>\n",
       "      <td>BBTHREE2</td>\n",
       "      <td>0.000000</td>\n",
       "      <td>2024-07</td>\n",
       "      <td>TAS1</td>\n",
       "      <td>Fossil - Natural Gas Pipeline</td>\n",
       "      <td>-18.95914</td>\n",
       "    </tr>\n",
       "    <tr>\n",
       "      <th>1039570</th>\n",
       "      <td>2024-07-25 00:00:00</td>\n",
       "      <td>BBTHREE3</td>\n",
       "      <td>0.000000</td>\n",
       "      <td>2024-07</td>\n",
       "      <td>TAS1</td>\n",
       "      <td>Fossil - Natural Gas Pipeline</td>\n",
       "      <td>-18.95914</td>\n",
       "    </tr>\n",
       "    <tr>\n",
       "      <th>1039571</th>\n",
       "      <td>2024-07-25 00:00:00</td>\n",
       "      <td>CETHANA</td>\n",
       "      <td>0.000000</td>\n",
       "      <td>2024-07</td>\n",
       "      <td>TAS1</td>\n",
       "      <td>Hydro - Water</td>\n",
       "      <td>-18.95914</td>\n",
       "    </tr>\n",
       "    <tr>\n",
       "      <th>1039572</th>\n",
       "      <td>2024-07-25 00:00:00</td>\n",
       "      <td>CTHLWF1</td>\n",
       "      <td>127.403690</td>\n",
       "      <td>2024-07</td>\n",
       "      <td>TAS1</td>\n",
       "      <td>Wind - Wind</td>\n",
       "      <td>-18.95914</td>\n",
       "    </tr>\n",
       "    <tr>\n",
       "      <th>1039573</th>\n",
       "      <td>2024-07-25 00:00:00</td>\n",
       "      <td>DEVILS_G</td>\n",
       "      <td>45.057530</td>\n",
       "      <td>2024-07</td>\n",
       "      <td>TAS1</td>\n",
       "      <td>Hydro - Water</td>\n",
       "      <td>-18.95914</td>\n",
       "    </tr>\n",
       "  </tbody>\n",
       "</table>\n",
       "<p>1749 rows × 7 columns</p>\n",
       "</div>"
      ],
      "text/plain": [
       "              SETTLEMENTDATE      DUID  SCADAVALUE    MONTH REGIONID  \\\n",
       "1037825  2024-07-24 02:20:00  BUTLERSG   -0.000002  2024-07     TAS1   \n",
       "1037826  2024-07-24 02:20:00     CLUNY    2.166629  2024-07     TAS1   \n",
       "1037827  2024-07-24 02:20:00   PALOONA    0.000000  2024-07     TAS1   \n",
       "1037828  2024-07-24 02:20:00   REPULSE    2.857099  2024-07     TAS1   \n",
       "1037829  2024-07-24 02:20:00  ROWALLAN   -0.003891  2024-07     TAS1   \n",
       "...                      ...       ...         ...      ...      ...   \n",
       "1039569  2024-07-25 00:00:00  BBTHREE2    0.000000  2024-07     TAS1   \n",
       "1039570  2024-07-25 00:00:00  BBTHREE3    0.000000  2024-07     TAS1   \n",
       "1039571  2024-07-25 00:00:00   CETHANA    0.000000  2024-07     TAS1   \n",
       "1039572  2024-07-25 00:00:00   CTHLWF1  127.403690  2024-07     TAS1   \n",
       "1039573  2024-07-25 00:00:00  DEVILS_G   45.057530  2024-07     TAS1   \n",
       "\n",
       "                             Fuel Type       RRP  \n",
       "1037825                  Hydro - Water -16.98899  \n",
       "1037826                  Hydro - Water -16.98899  \n",
       "1037827                  Hydro - Water -16.98899  \n",
       "1037828                  Hydro - Water -16.98899  \n",
       "1037829                  Hydro - Water -16.98899  \n",
       "...                                ...       ...  \n",
       "1039569  Fossil - Natural Gas Pipeline -18.95914  \n",
       "1039570  Fossil - Natural Gas Pipeline -18.95914  \n",
       "1039571                  Hydro - Water -18.95914  \n",
       "1039572                    Wind - Wind -18.95914  \n",
       "1039573                  Hydro - Water -18.95914  \n",
       "\n",
       "[1749 rows x 7 columns]"
      ]
     },
     "execution_count": 91,
     "metadata": {},
     "output_type": "execute_result"
    }
   ],
   "source": [
    "tas_neg_price[(tas_neg_price['SETTLEMENTDATE'].str.contains('2024-07'))]"
   ]
  },
  {
   "cell_type": "code",
   "execution_count": null,
   "id": "20922b30",
   "metadata": {},
   "outputs": [],
   "source": [
    "qld_q3_data = pd.concat([qld_neg_price[(qld_neg_price['SETTLEMENTDATE'].str.contains('2024-07'))], \n",
    "           qld_neg_price[(qld_neg_price['SETTLEMENTDATE'].str.contains('2024-08'))], \n",
    "           qld_neg_price[(qld_neg_price['SETTLEMENTDATE'].str.contains('2024-09'))]])\n",
    "\n",
    "nsw_q3_data = pd.concat([nsw_neg_price[(nsw_neg_price['SETTLEMENTDATE'].str.contains('2024-07'))], \n",
    "           nsw_neg_price[(nsw_neg_price['SETTLEMENTDATE'].str.contains('2024-08'))], \n",
    "           nsw_neg_price[(nsw_neg_price['SETTLEMENTDATE'].str.contains('2024-09'))]])\n",
    "\n",
    "sa_q3_data = pd.concat([sa_neg_price[(sa_neg_price['SETTLEMENTDATE'].str.contains('2024-07'))], \n",
    "           sa_neg_price[(sa_neg_price['SETTLEMENTDATE'].str.contains('2024-08'))], \n",
    "           sa_neg_price[(sa_neg_price['SETTLEMENTDATE'].str.contains('2024-09'))]])\n",
    "\n",
    "tas_q3_data = pd.concat([tas_neg_price[(tas_neg_price['SETTLEMENTDATE'].str.contains('2024-07'))], \n",
    "           tas_neg_price[(tas_neg_price['SETTLEMENTDATE'].str.contains('2024-08'))], \n",
    "           tas_neg_price[(tas_neg_price['SETTLEMENTDATE'].str.contains('2024-09'))]])\n",
    "\n",
    "vic_q3_data = pd.concat([vic_neg_price[(vic_neg_price['SETTLEMENTDATE'].str.contains('2024-07'))], \n",
    "           vic_neg_price[(vic_neg_price['SETTLEMENTDATE'].str.contains('2024-08'))], \n",
    "           vic_neg_price[(vic_neg_price['SETTLEMENTDATE'].str.contains('2024-09'))]])"
   ]
  },
  {
   "cell_type": "code",
   "execution_count": null,
   "id": "e10311c4",
   "metadata": {},
   "outputs": [
    {
     "name": "stdout",
     "output_type": "stream",
     "text": [
      "QLD spot prices went negative 504202 times\n",
      "NSW spot prices went negative 277381 times\n",
      "SA spot prices went negative 517569 times\n",
      "TAS spot prices went negative 99129 times\n",
      "VIC spot prices went negative 499378 times\n"
     ]
    }
   ],
   "source": [
    "print(f'QLD spot prices went negative {qld_q3_data.shape[0]} times')\n",
    "print(f'NSW spot prices went negative {nsw_q3_data.shape[0]} times')\n",
    "print(f'SA spot prices went negative {sa_q3_data.shape[0]} times')\n",
    "print(f'TAS spot prices went negative {tas_q3_data.shape[0]} times')\n",
    "print(f'VIC spot prices went negative {vic_q3_data.shape[0]} times')\n"
   ]
  },
  {
   "cell_type": "code",
   "execution_count": null,
   "id": "acb1bcc9",
   "metadata": {},
   "outputs": [
    {
     "data": {
      "application/vnd.plotly.v1+json": {
       "config": {
        "plotlyServerURL": "https://plot.ly"
       },
       "data": [
        {
         "hovertemplate": "state=%{x}<br>value=%{y}<extra></extra>",
         "legendgroup": "",
         "marker": {
          "color": "#636efa",
          "pattern": {
           "shape": ""
          }
         },
         "name": "",
         "orientation": "v",
         "showlegend": false,
         "textposition": "auto",
         "type": "bar",
         "x": [
          "QLD",
          "NSW",
          "SA",
          "TAS",
          "VIC"
         ],
         "xaxis": "x",
         "y": {
          "bdata": "irEHAIU7BADB5QcAOYMBALKeBwA=",
          "dtype": "i4"
         },
         "yaxis": "y"
        }
       ],
       "layout": {
        "barmode": "relative",
        "legend": {
         "tracegroupgap": 0
        },
        "margin": {
         "t": 60
        },
        "template": {
         "data": {
          "bar": [
           {
            "error_x": {
             "color": "#2a3f5f"
            },
            "error_y": {
             "color": "#2a3f5f"
            },
            "marker": {
             "line": {
              "color": "#E5ECF6",
              "width": 0.5
             },
             "pattern": {
              "fillmode": "overlay",
              "size": 10,
              "solidity": 0.2
             }
            },
            "type": "bar"
           }
          ],
          "barpolar": [
           {
            "marker": {
             "line": {
              "color": "#E5ECF6",
              "width": 0.5
             },
             "pattern": {
              "fillmode": "overlay",
              "size": 10,
              "solidity": 0.2
             }
            },
            "type": "barpolar"
           }
          ],
          "carpet": [
           {
            "aaxis": {
             "endlinecolor": "#2a3f5f",
             "gridcolor": "white",
             "linecolor": "white",
             "minorgridcolor": "white",
             "startlinecolor": "#2a3f5f"
            },
            "baxis": {
             "endlinecolor": "#2a3f5f",
             "gridcolor": "white",
             "linecolor": "white",
             "minorgridcolor": "white",
             "startlinecolor": "#2a3f5f"
            },
            "type": "carpet"
           }
          ],
          "choropleth": [
           {
            "colorbar": {
             "outlinewidth": 0,
             "ticks": ""
            },
            "type": "choropleth"
           }
          ],
          "contour": [
           {
            "colorbar": {
             "outlinewidth": 0,
             "ticks": ""
            },
            "colorscale": [
             [
              0,
              "#0d0887"
             ],
             [
              0.1111111111111111,
              "#46039f"
             ],
             [
              0.2222222222222222,
              "#7201a8"
             ],
             [
              0.3333333333333333,
              "#9c179e"
             ],
             [
              0.4444444444444444,
              "#bd3786"
             ],
             [
              0.5555555555555556,
              "#d8576b"
             ],
             [
              0.6666666666666666,
              "#ed7953"
             ],
             [
              0.7777777777777778,
              "#fb9f3a"
             ],
             [
              0.8888888888888888,
              "#fdca26"
             ],
             [
              1,
              "#f0f921"
             ]
            ],
            "type": "contour"
           }
          ],
          "contourcarpet": [
           {
            "colorbar": {
             "outlinewidth": 0,
             "ticks": ""
            },
            "type": "contourcarpet"
           }
          ],
          "heatmap": [
           {
            "colorbar": {
             "outlinewidth": 0,
             "ticks": ""
            },
            "colorscale": [
             [
              0,
              "#0d0887"
             ],
             [
              0.1111111111111111,
              "#46039f"
             ],
             [
              0.2222222222222222,
              "#7201a8"
             ],
             [
              0.3333333333333333,
              "#9c179e"
             ],
             [
              0.4444444444444444,
              "#bd3786"
             ],
             [
              0.5555555555555556,
              "#d8576b"
             ],
             [
              0.6666666666666666,
              "#ed7953"
             ],
             [
              0.7777777777777778,
              "#fb9f3a"
             ],
             [
              0.8888888888888888,
              "#fdca26"
             ],
             [
              1,
              "#f0f921"
             ]
            ],
            "type": "heatmap"
           }
          ],
          "histogram": [
           {
            "marker": {
             "pattern": {
              "fillmode": "overlay",
              "size": 10,
              "solidity": 0.2
             }
            },
            "type": "histogram"
           }
          ],
          "histogram2d": [
           {
            "colorbar": {
             "outlinewidth": 0,
             "ticks": ""
            },
            "colorscale": [
             [
              0,
              "#0d0887"
             ],
             [
              0.1111111111111111,
              "#46039f"
             ],
             [
              0.2222222222222222,
              "#7201a8"
             ],
             [
              0.3333333333333333,
              "#9c179e"
             ],
             [
              0.4444444444444444,
              "#bd3786"
             ],
             [
              0.5555555555555556,
              "#d8576b"
             ],
             [
              0.6666666666666666,
              "#ed7953"
             ],
             [
              0.7777777777777778,
              "#fb9f3a"
             ],
             [
              0.8888888888888888,
              "#fdca26"
             ],
             [
              1,
              "#f0f921"
             ]
            ],
            "type": "histogram2d"
           }
          ],
          "histogram2dcontour": [
           {
            "colorbar": {
             "outlinewidth": 0,
             "ticks": ""
            },
            "colorscale": [
             [
              0,
              "#0d0887"
             ],
             [
              0.1111111111111111,
              "#46039f"
             ],
             [
              0.2222222222222222,
              "#7201a8"
             ],
             [
              0.3333333333333333,
              "#9c179e"
             ],
             [
              0.4444444444444444,
              "#bd3786"
             ],
             [
              0.5555555555555556,
              "#d8576b"
             ],
             [
              0.6666666666666666,
              "#ed7953"
             ],
             [
              0.7777777777777778,
              "#fb9f3a"
             ],
             [
              0.8888888888888888,
              "#fdca26"
             ],
             [
              1,
              "#f0f921"
             ]
            ],
            "type": "histogram2dcontour"
           }
          ],
          "mesh3d": [
           {
            "colorbar": {
             "outlinewidth": 0,
             "ticks": ""
            },
            "type": "mesh3d"
           }
          ],
          "parcoords": [
           {
            "line": {
             "colorbar": {
              "outlinewidth": 0,
              "ticks": ""
             }
            },
            "type": "parcoords"
           }
          ],
          "pie": [
           {
            "automargin": true,
            "type": "pie"
           }
          ],
          "scatter": [
           {
            "fillpattern": {
             "fillmode": "overlay",
             "size": 10,
             "solidity": 0.2
            },
            "type": "scatter"
           }
          ],
          "scatter3d": [
           {
            "line": {
             "colorbar": {
              "outlinewidth": 0,
              "ticks": ""
             }
            },
            "marker": {
             "colorbar": {
              "outlinewidth": 0,
              "ticks": ""
             }
            },
            "type": "scatter3d"
           }
          ],
          "scattercarpet": [
           {
            "marker": {
             "colorbar": {
              "outlinewidth": 0,
              "ticks": ""
             }
            },
            "type": "scattercarpet"
           }
          ],
          "scattergeo": [
           {
            "marker": {
             "colorbar": {
              "outlinewidth": 0,
              "ticks": ""
             }
            },
            "type": "scattergeo"
           }
          ],
          "scattergl": [
           {
            "marker": {
             "colorbar": {
              "outlinewidth": 0,
              "ticks": ""
             }
            },
            "type": "scattergl"
           }
          ],
          "scattermap": [
           {
            "marker": {
             "colorbar": {
              "outlinewidth": 0,
              "ticks": ""
             }
            },
            "type": "scattermap"
           }
          ],
          "scattermapbox": [
           {
            "marker": {
             "colorbar": {
              "outlinewidth": 0,
              "ticks": ""
             }
            },
            "type": "scattermapbox"
           }
          ],
          "scatterpolar": [
           {
            "marker": {
             "colorbar": {
              "outlinewidth": 0,
              "ticks": ""
             }
            },
            "type": "scatterpolar"
           }
          ],
          "scatterpolargl": [
           {
            "marker": {
             "colorbar": {
              "outlinewidth": 0,
              "ticks": ""
             }
            },
            "type": "scatterpolargl"
           }
          ],
          "scatterternary": [
           {
            "marker": {
             "colorbar": {
              "outlinewidth": 0,
              "ticks": ""
             }
            },
            "type": "scatterternary"
           }
          ],
          "surface": [
           {
            "colorbar": {
             "outlinewidth": 0,
             "ticks": ""
            },
            "colorscale": [
             [
              0,
              "#0d0887"
             ],
             [
              0.1111111111111111,
              "#46039f"
             ],
             [
              0.2222222222222222,
              "#7201a8"
             ],
             [
              0.3333333333333333,
              "#9c179e"
             ],
             [
              0.4444444444444444,
              "#bd3786"
             ],
             [
              0.5555555555555556,
              "#d8576b"
             ],
             [
              0.6666666666666666,
              "#ed7953"
             ],
             [
              0.7777777777777778,
              "#fb9f3a"
             ],
             [
              0.8888888888888888,
              "#fdca26"
             ],
             [
              1,
              "#f0f921"
             ]
            ],
            "type": "surface"
           }
          ],
          "table": [
           {
            "cells": {
             "fill": {
              "color": "#EBF0F8"
             },
             "line": {
              "color": "white"
             }
            },
            "header": {
             "fill": {
              "color": "#C8D4E3"
             },
             "line": {
              "color": "white"
             }
            },
            "type": "table"
           }
          ]
         },
         "layout": {
          "annotationdefaults": {
           "arrowcolor": "#2a3f5f",
           "arrowhead": 0,
           "arrowwidth": 1
          },
          "autotypenumbers": "strict",
          "coloraxis": {
           "colorbar": {
            "outlinewidth": 0,
            "ticks": ""
           }
          },
          "colorscale": {
           "diverging": [
            [
             0,
             "#8e0152"
            ],
            [
             0.1,
             "#c51b7d"
            ],
            [
             0.2,
             "#de77ae"
            ],
            [
             0.3,
             "#f1b6da"
            ],
            [
             0.4,
             "#fde0ef"
            ],
            [
             0.5,
             "#f7f7f7"
            ],
            [
             0.6,
             "#e6f5d0"
            ],
            [
             0.7,
             "#b8e186"
            ],
            [
             0.8,
             "#7fbc41"
            ],
            [
             0.9,
             "#4d9221"
            ],
            [
             1,
             "#276419"
            ]
           ],
           "sequential": [
            [
             0,
             "#0d0887"
            ],
            [
             0.1111111111111111,
             "#46039f"
            ],
            [
             0.2222222222222222,
             "#7201a8"
            ],
            [
             0.3333333333333333,
             "#9c179e"
            ],
            [
             0.4444444444444444,
             "#bd3786"
            ],
            [
             0.5555555555555556,
             "#d8576b"
            ],
            [
             0.6666666666666666,
             "#ed7953"
            ],
            [
             0.7777777777777778,
             "#fb9f3a"
            ],
            [
             0.8888888888888888,
             "#fdca26"
            ],
            [
             1,
             "#f0f921"
            ]
           ],
           "sequentialminus": [
            [
             0,
             "#0d0887"
            ],
            [
             0.1111111111111111,
             "#46039f"
            ],
            [
             0.2222222222222222,
             "#7201a8"
            ],
            [
             0.3333333333333333,
             "#9c179e"
            ],
            [
             0.4444444444444444,
             "#bd3786"
            ],
            [
             0.5555555555555556,
             "#d8576b"
            ],
            [
             0.6666666666666666,
             "#ed7953"
            ],
            [
             0.7777777777777778,
             "#fb9f3a"
            ],
            [
             0.8888888888888888,
             "#fdca26"
            ],
            [
             1,
             "#f0f921"
            ]
           ]
          },
          "colorway": [
           "#636efa",
           "#EF553B",
           "#00cc96",
           "#ab63fa",
           "#FFA15A",
           "#19d3f3",
           "#FF6692",
           "#B6E880",
           "#FF97FF",
           "#FECB52"
          ],
          "font": {
           "color": "#2a3f5f"
          },
          "geo": {
           "bgcolor": "white",
           "lakecolor": "white",
           "landcolor": "#E5ECF6",
           "showlakes": true,
           "showland": true,
           "subunitcolor": "white"
          },
          "hoverlabel": {
           "align": "left"
          },
          "hovermode": "closest",
          "mapbox": {
           "style": "light"
          },
          "paper_bgcolor": "white",
          "plot_bgcolor": "#E5ECF6",
          "polar": {
           "angularaxis": {
            "gridcolor": "white",
            "linecolor": "white",
            "ticks": ""
           },
           "bgcolor": "#E5ECF6",
           "radialaxis": {
            "gridcolor": "white",
            "linecolor": "white",
            "ticks": ""
           }
          },
          "scene": {
           "xaxis": {
            "backgroundcolor": "#E5ECF6",
            "gridcolor": "white",
            "gridwidth": 2,
            "linecolor": "white",
            "showbackground": true,
            "ticks": "",
            "zerolinecolor": "white"
           },
           "yaxis": {
            "backgroundcolor": "#E5ECF6",
            "gridcolor": "white",
            "gridwidth": 2,
            "linecolor": "white",
            "showbackground": true,
            "ticks": "",
            "zerolinecolor": "white"
           },
           "zaxis": {
            "backgroundcolor": "#E5ECF6",
            "gridcolor": "white",
            "gridwidth": 2,
            "linecolor": "white",
            "showbackground": true,
            "ticks": "",
            "zerolinecolor": "white"
           }
          },
          "shapedefaults": {
           "line": {
            "color": "#2a3f5f"
           }
          },
          "ternary": {
           "aaxis": {
            "gridcolor": "white",
            "linecolor": "white",
            "ticks": ""
           },
           "baxis": {
            "gridcolor": "white",
            "linecolor": "white",
            "ticks": ""
           },
           "bgcolor": "#E5ECF6",
           "caxis": {
            "gridcolor": "white",
            "linecolor": "white",
            "ticks": ""
           }
          },
          "title": {
           "x": 0.05
          },
          "xaxis": {
           "automargin": true,
           "gridcolor": "white",
           "linecolor": "white",
           "ticks": "",
           "title": {
            "standoff": 15
           },
           "zerolinecolor": "white",
           "zerolinewidth": 2
          },
          "yaxis": {
           "automargin": true,
           "gridcolor": "white",
           "linecolor": "white",
           "ticks": "",
           "title": {
            "standoff": 15
           },
           "zerolinecolor": "white",
           "zerolinewidth": 2
          }
         }
        },
        "title": {
         "text": "NEM Negative Price Occurrence by State - Q3 2024"
        },
        "xaxis": {
         "anchor": "y",
         "domain": [
          0,
          1
         ],
         "title": {
          "text": "state"
         }
        },
        "yaxis": {
         "anchor": "x",
         "domain": [
          0,
          1
         ],
         "title": {
          "text": "value"
         }
        }
       }
      }
     },
     "metadata": {},
     "output_type": "display_data"
    }
   ],
   "source": [
    "nem_neg_price_freq = pd.DataFrame({\n",
    "    'state' : ['QLD', 'NSW', 'SA', 'TAS', 'VIC'],\n",
    "    'value' : [qld_q3_data.shape[0],\n",
    "               nsw_q3_data.shape[0],\n",
    "               sa_q3_data.shape[0],\n",
    "               tas_q3_data.shape[0],\n",
    "               vic_q3_data.shape[0]]\n",
    "})\n",
    "\n",
    "fig = px.bar(nem_neg_price_freq, x = 'state', y = 'value')\n",
    "fig.update_layout(title = 'NEM Negative Price Occurrence by State - Q3 2024')"
   ]
  },
  {
   "cell_type": "code",
   "execution_count": null,
   "id": "99e735fd",
   "metadata": {},
   "outputs": [
    {
     "name": "stdout",
     "output_type": "stream",
     "text": [
      "The SCADAVALUE for SA during negative pricing is: -3.50409\n",
      "The maximum overall value for SA is: 532.59277\n",
      "The Minimum happened on:  2022-04-01 16:10:00\n"
     ]
    }
   ],
   "source": [
    "sa_minimum_price_scada_value_date = sa_neg_price[(sa_neg_price['SCADAVALUE'] == sa_neg_price['SCADAVALUE'].min())]['SETTLEMENTDATE'].values[0]\n",
    "\n",
    "print(f\"The SCADAVALUE for SA during negative pricing is: {sa_neg_price[\"SCADAVALUE\"].min()}\")\n",
    "print(f'The maximum overall value for SA is: {sa_data_price[\"SCADAVALUE\"].max()}')\n",
    "print('The Minimum happened on: ', sa_minimum_price_scada_value_date)\n"
   ]
  },
  {
   "cell_type": "code",
   "execution_count": null,
   "id": "6cc0572c",
   "metadata": {},
   "outputs": [
    {
     "data": {
      "text/plain": [
       "np.float64(299.04858)"
      ]
     },
     "execution_count": 96,
     "metadata": {},
     "output_type": "execute_result"
    }
   ],
   "source": [
    "sa_neg_price[sa_neg_price['SETTLEMENTDATE'].str.contains('2025-07')]['SCADAVALUE'].max()\n",
    "#  & (sa_neg_price['SCADAVALUE'] < 0)"
   ]
  },
  {
   "cell_type": "code",
   "execution_count": null,
   "id": "8a886c47",
   "metadata": {},
   "outputs": [
    {
     "name": "stdout",
     "output_type": "stream",
     "text": [
      "The SCADAVALUE for SA during negative pricing is: -3.50409\n",
      "The maximum overall value for SA is: 532.59277\n",
      "The Minimum happened on:  2022-04-01 16:10:00\n"
     ]
    }
   ],
   "source": [
    "sa_minimum_price_scada_value_date = sa_neg_price[(sa_neg_price['SCADAVALUE'] == sa_neg_price['SCADAVALUE'].min())]['SETTLEMENTDATE'].values[0]\n",
    "\n",
    "print(f\"The SCADAVALUE for SA during negative pricing is: {sa_neg_price[\"SCADAVALUE\"].min()}\")\n",
    "print(f'The maximum overall value for SA is: {sa_data_price[\"SCADAVALUE\"].max()}')\n",
    "print('The Minimum happened on: ', sa_minimum_price_scada_value_date)\n"
   ]
  },
  {
   "cell_type": "code",
   "execution_count": null,
   "id": "3a4ddd4e",
   "metadata": {},
   "outputs": [
    {
     "data": {
      "text/plain": [
       "(16, 7)"
      ]
     },
     "execution_count": 98,
     "metadata": {},
     "output_type": "execute_result"
    }
   ],
   "source": [
    "vic_neg_price[vic_neg_price['SETTLEMENTDATE'].str.contains('2025-07') & (vic_neg_price['SCADAVALUE'] < 0)].shape"
   ]
  },
  {
   "cell_type": "code",
   "execution_count": null,
   "id": "f0586ac3",
   "metadata": {},
   "outputs": [
    {
     "name": "stdout",
     "output_type": "stream",
     "text": [
      "The SCADAVALUE for VIC during negative pricing is: -10.0\n",
      "The maximum overall value for VIC is: 1541.1792\n",
      "The Minimum happened on:  2022-06-25 14:05:00\n"
     ]
    }
   ],
   "source": [
    "vic_minimum_price_scada_value_date = vic_neg_price[(vic_neg_price['SCADAVALUE'] == vic_neg_price['SCADAVALUE'].min())]['SETTLEMENTDATE'].values[0]\n",
    "\n",
    "print(f\"The SCADAVALUE for VIC during negative pricing is: {vic_neg_price[\"SCADAVALUE\"].min()}\")\n",
    "print(f'The maximum overall value for VIC is: {vic_data_price[\"SCADAVALUE\"].max()}')\n",
    "print('The Minimum happened on: ', vic_minimum_price_scada_value_date)\n"
   ]
  },
  {
   "cell_type": "markdown",
   "id": "6dbfd2c0",
   "metadata": {},
   "source": [
    "## Negative Pricing Patterns\n",
    "Upon inspection of the Q2 2025 NEM Report <a href=\"data/nem_reports/qed-q2-2025.pdf\">here</a>, there was a total of 10.6% of dispatch intervals that were negative. These values were mostly found during daylight hours, while distributed PV output was the strongest.<br>\n",
    "\n",
    "Demand was also high during this period and thus, gas-fired generators experienced record high generation to meet the demand during low wind availability\n",
    "\n",
    "This trend was also seen in Tasmania. Dam levels were low during the beginning of Q2 2024 due to a dry period. Therefore, as generators were incentivised to conserve and store the water, gas-fired generation was used as a means to supplement the supply. This explains the little peak in gas generation on the earlier graphs"
   ]
  },
  {
   "cell_type": "markdown",
   "id": "ff34ff53",
   "metadata": {},
   "source": []
  }
 ],
 "metadata": {
  "kernelspec": {
   "display_name": "ifn695_venv",
   "language": "python",
   "name": "python3"
  },
  "language_info": {
   "codemirror_mode": {
    "name": "ipython",
    "version": 3
   },
   "file_extension": ".py",
   "mimetype": "text/x-python",
   "name": "python",
   "nbconvert_exporter": "python",
   "pygments_lexer": "ipython3",
   "version": "3.12.7"
  }
 },
 "nbformat": 4,
 "nbformat_minor": 5
}
